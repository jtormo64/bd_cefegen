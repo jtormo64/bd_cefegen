{
 "cells": [
  {
   "cell_type": "markdown",
   "metadata": {
    "object_type": "Database",
    "urn": "Server[@Name='Windows10-Pepe']/Database[@Name='CEFEGEN']"
   },
   "source": [
    "# [CEFEGEN]"
   ]
  },
  {
   "cell_type": "code",
   "execution_count": 0,
   "metadata": {
    "object_type": "Database",
    "urn": "Server[@Name='Windows10-Pepe']/Database[@Name='CEFEGEN']"
   },
   "outputs": [],
   "source": [
    "USE [master]\n",
    "GO\n"
   ]
  },
  {
   "cell_type": "code",
   "execution_count": 0,
   "metadata": {
    "object_type": "Database",
    "urn": "Server[@Name='Windows10-Pepe']/Database[@Name='CEFEGEN']"
   },
   "outputs": [],
   "source": [
    "/****** Object:  Database [CEFEGEN]    Script Date: 20/06/2025 18:08:55 ******/\n",
    "CREATE DATABASE [CEFEGEN]\n",
    " CONTAINMENT = NONE\n",
    " ON  PRIMARY \n",
    "( NAME = N'CEFEGEN_TEST', FILENAME = N'E:\\BackupsBD\\CEFEGEN.mdf' , SIZE = 73728KB , MAXSIZE = UNLIMITED, FILEGROWTH = 65536KB )\n",
    " LOG ON \n",
    "( NAME = N'CEFEGEN_TEST_log', FILENAME = N'E:\\BackupsBD\\CEFEGEN_log.ldf' , SIZE = 73728KB , MAXSIZE = 2048GB , FILEGROWTH = 65536KB )\n",
    " WITH CATALOG_COLLATION = DATABASE_DEFAULT, LEDGER = OFF\n",
    "GO\n",
    "ALTER DATABASE [CEFEGEN] SET COMPATIBILITY_LEVEL = 160\n",
    "GO\n",
    "IF (1 = FULLTEXTSERVICEPROPERTY('IsFullTextInstalled'))\n",
    "begin\n",
    "EXEC [CEFEGEN].[dbo].[sp_fulltext_database] @action = 'enable'\n",
    "end\n",
    "GO\n",
    "ALTER DATABASE [CEFEGEN] SET ANSI_NULL_DEFAULT OFF \n",
    "GO\n",
    "ALTER DATABASE [CEFEGEN] SET ANSI_NULLS OFF \n",
    "GO\n",
    "ALTER DATABASE [CEFEGEN] SET ANSI_PADDING OFF \n",
    "GO\n",
    "ALTER DATABASE [CEFEGEN] SET ANSI_WARNINGS OFF \n",
    "GO\n",
    "ALTER DATABASE [CEFEGEN] SET ARITHABORT OFF \n",
    "GO\n",
    "ALTER DATABASE [CEFEGEN] SET AUTO_CLOSE OFF \n",
    "GO\n",
    "ALTER DATABASE [CEFEGEN] SET AUTO_SHRINK OFF \n",
    "GO\n",
    "ALTER DATABASE [CEFEGEN] SET AUTO_UPDATE_STATISTICS ON \n",
    "GO\n",
    "ALTER DATABASE [CEFEGEN] SET CURSOR_CLOSE_ON_COMMIT OFF \n",
    "GO\n",
    "ALTER DATABASE [CEFEGEN] SET CURSOR_DEFAULT  GLOBAL \n",
    "GO\n",
    "ALTER DATABASE [CEFEGEN] SET CONCAT_NULL_YIELDS_NULL OFF \n",
    "GO\n",
    "ALTER DATABASE [CEFEGEN] SET NUMERIC_ROUNDABORT OFF \n",
    "GO\n",
    "ALTER DATABASE [CEFEGEN] SET QUOTED_IDENTIFIER OFF \n",
    "GO\n",
    "ALTER DATABASE [CEFEGEN] SET RECURSIVE_TRIGGERS OFF \n",
    "GO\n",
    "ALTER DATABASE [CEFEGEN] SET  DISABLE_BROKER \n",
    "GO\n",
    "ALTER DATABASE [CEFEGEN] SET AUTO_UPDATE_STATISTICS_ASYNC OFF \n",
    "GO\n",
    "ALTER DATABASE [CEFEGEN] SET DATE_CORRELATION_OPTIMIZATION OFF \n",
    "GO\n",
    "ALTER DATABASE [CEFEGEN] SET TRUSTWORTHY OFF \n",
    "GO\n",
    "ALTER DATABASE [CEFEGEN] SET ALLOW_SNAPSHOT_ISOLATION OFF \n",
    "GO\n",
    "ALTER DATABASE [CEFEGEN] SET PARAMETERIZATION SIMPLE \n",
    "GO\n",
    "ALTER DATABASE [CEFEGEN] SET READ_COMMITTED_SNAPSHOT OFF \n",
    "GO\n",
    "ALTER DATABASE [CEFEGEN] SET HONOR_BROKER_PRIORITY OFF \n",
    "GO\n",
    "ALTER DATABASE [CEFEGEN] SET RECOVERY FULL \n",
    "GO\n",
    "ALTER DATABASE [CEFEGEN] SET  MULTI_USER \n",
    "GO\n",
    "ALTER DATABASE [CEFEGEN] SET PAGE_VERIFY CHECKSUM  \n",
    "GO\n",
    "ALTER DATABASE [CEFEGEN] SET DB_CHAINING OFF \n",
    "GO\n",
    "ALTER DATABASE [CEFEGEN] SET FILESTREAM( NON_TRANSACTED_ACCESS = OFF ) \n",
    "GO\n",
    "ALTER DATABASE [CEFEGEN] SET TARGET_RECOVERY_TIME = 60 SECONDS \n",
    "GO\n",
    "ALTER DATABASE [CEFEGEN] SET DELAYED_DURABILITY = DISABLED \n",
    "GO\n",
    "ALTER DATABASE [CEFEGEN] SET ACCELERATED_DATABASE_RECOVERY = OFF  \n",
    "GO\n",
    "EXEC sys.sp_db_vardecimal_storage_format N'CEFEGEN', N'ON'\n",
    "GO\n",
    "ALTER DATABASE [CEFEGEN] SET QUERY_STORE = ON\n",
    "GO\n",
    "ALTER DATABASE [CEFEGEN] SET QUERY_STORE (OPERATION_MODE = READ_WRITE, CLEANUP_POLICY = (STALE_QUERY_THRESHOLD_DAYS = 30), DATA_FLUSH_INTERVAL_SECONDS = 900, INTERVAL_LENGTH_MINUTES = 60, MAX_STORAGE_SIZE_MB = 1000, QUERY_CAPTURE_MODE = AUTO, SIZE_BASED_CLEANUP_MODE = AUTO, MAX_PLANS_PER_QUERY = 200, WAIT_STATS_CAPTURE_MODE = ON)\n",
    "GO\n"
   ]
  },
  {
   "cell_type": "markdown",
   "metadata": {
    "object_type": "Role",
    "urn": "Server[@Name='Windows10-Pepe']/Database[@Name='CEFEGEN']/Role[@Name='RolUsuario']"
   },
   "source": [
    "# [RolUsuario]"
   ]
  },
  {
   "cell_type": "code",
   "execution_count": 0,
   "metadata": {
    "object_type": "Role",
    "urn": "Server[@Name='Windows10-Pepe']/Database[@Name='CEFEGEN']/Role[@Name='RolUsuario']"
   },
   "outputs": [],
   "source": [
    "USE [CEFEGEN]\n",
    "GO\n"
   ]
  },
  {
   "cell_type": "code",
   "execution_count": 0,
   "metadata": {
    "object_type": "Role",
    "urn": "Server[@Name='Windows10-Pepe']/Database[@Name='CEFEGEN']/Role[@Name='RolUsuario']"
   },
   "outputs": [],
   "source": [
    "/****** Object:  DatabaseRole [RolUsuario]    Script Date: 20/06/2025 18:08:55 ******/\n",
    "CREATE ROLE [RolUsuario]\n",
    "GO\n"
   ]
  },
  {
   "cell_type": "markdown",
   "metadata": {
    "object_type": "Role",
    "urn": "Server[@Name='Windows10-Pepe']/Database[@Name='CEFEGEN']/Role[@Name='RolAnalista']"
   },
   "source": [
    "# [RolAnalista]"
   ]
  },
  {
   "cell_type": "code",
   "execution_count": 0,
   "metadata": {
    "object_type": "Role",
    "urn": "Server[@Name='Windows10-Pepe']/Database[@Name='CEFEGEN']/Role[@Name='RolAnalista']"
   },
   "outputs": [],
   "source": [
    "/****** Object:  DatabaseRole [RolAnalista]    Script Date: 20/06/2025 18:08:55 ******/\n",
    "CREATE ROLE [RolAnalista]\n",
    "GO\n"
   ]
  },
  {
   "cell_type": "markdown",
   "metadata": {
    "object_type": "Sequence",
    "urn": "Server[@Name='Windows10-Pepe']/Database[@Name='CEFEGEN']/Sequence[@Name='SEQ_CodigoSolicitud' and @Schema='dbo']"
   },
   "source": [
    "# [dbo].[SEQ_CodigoSolicitud]"
   ]
  },
  {
   "cell_type": "code",
   "execution_count": 0,
   "metadata": {
    "object_type": "Sequence",
    "urn": "Server[@Name='Windows10-Pepe']/Database[@Name='CEFEGEN']/Sequence[@Name='SEQ_CodigoSolicitud' and @Schema='dbo']"
   },
   "outputs": [],
   "source": [
    "USE [CEFEGEN]\n",
    "GO\n",
    "/****** Object:  Sequence [dbo].[SEQ_CodigoSolicitud]    Script Date: 20/06/2025 18:08:55 ******/\n",
    "CREATE SEQUENCE [dbo].[SEQ_CodigoSolicitud] \n",
    " AS [int]\n",
    " START WITH 20000\n",
    " INCREMENT BY 1\n",
    " MINVALUE 1\n",
    " MAXVALUE 2147483647\n",
    " CACHE \n",
    "GO\n"
   ]
  },
  {
   "cell_type": "markdown",
   "metadata": {
    "object_type": "UserDefinedTableType",
    "urn": "Server[@Name='Windows10-Pepe']/Database[@Name='CEFEGEN']/UserDefinedTableType[@Name='LineaFacturaTipo' and @Schema='dbo']"
   },
   "source": [
    "# [dbo].[LineaFacturaTipo]"
   ]
  },
  {
   "cell_type": "code",
   "execution_count": 0,
   "metadata": {
    "object_type": "UserDefinedTableType",
    "urn": "Server[@Name='Windows10-Pepe']/Database[@Name='CEFEGEN']/UserDefinedTableType[@Name='LineaFacturaTipo' and @Schema='dbo']"
   },
   "outputs": [],
   "source": [
    "/****** Object:  UserDefinedTableType [dbo].[LineaFacturaTipo]    Script Date: 20/06/2025 18:08:55 ******/\n",
    "CREATE TYPE [dbo].[LineaFacturaTipo] AS TABLE(\n",
    "\t[IdPrueba] [int] NULL,\n",
    "\t[Descripcion] [nvarchar](255) NOT NULL,\n",
    "\t[Importe] [decimal](10, 2) NOT NULL,\n",
    "\t[Cantidad] [int] NOT NULL\n",
    ")\n",
    "GO\n"
   ]
  },
  {
   "cell_type": "markdown",
   "metadata": {},
   "source": [
    "# [dbo].[vw_SolicitudesDetalladas]"
   ]
  },
  {
   "cell_type": "markdown",
   "metadata": {},
   "source": [
    "#### View: vw_SolicitudesDetalladas (Proposed)\n",
    "**Purpose**: Provides detailed solicitation reports with requesters and test types.\n",
    "**Definition**: Joins `Solicitudes`, `Estados`, `SolicitudesSolicitantes`, `Solicitantes`, `Peticiones`, and `TiposPrueba`.\n",
    "**Notes**: Enhances reporting for admin dashboards or client portal."
   ]
  },
  {
   "cell_type": "code",
   "execution_count": null,
   "metadata": {},
   "outputs": [],
   "source": [
    "SET ANSI_NULLS ON\n",
    "GO\n",
    "SET QUOTED_IDENTIFIER ON\n",
    "GO\n",
    "CREATE VIEW vw_SolicitudesDetalladas AS\n",
    "SELECT \n",
    "    s.IdSolicitud, s.CodigoSolicitud, s.FechaSolicitud, e.Nombre AS Estado,\n",
    "    ss.IdSolicitante, sol.Nombre AS SolicitanteNombre,\n",
    "    p.IdPeticion, tp.Nombre AS TipoPrueba\n",
    "FROM Solicitudes s\n",
    "JOIN Estados e ON s.IdEstado = e.IdEstado\n",
    "JOIN SolicitudesSolicitantes ss ON s.IdSolicitud = ss.IdSolicitud\n",
    "JOIN Solicitantes sol ON ss.IdSolicitante = sol.IdSolicitante\n",
    "JOIN Peticiones p ON s.IdSolicitud = p.IdSolicitud\n",
    "JOIN TiposPrueba tp ON p.IdTipoPrueba = tp.IdTipoPrueba;"
   ]
  },
  {
   "cell_type": "markdown",
   "metadata": {
    "object_type": "Table",
    "urn": "Server[@Name='Windows10-Pepe']/Database[@Name='CEFEGEN']/Table[@Name='Solicitudes' and @Schema='dbo']"
   },
   "source": [
    "# [dbo].[Solicitudes]"
   ]
  },
  {
   "cell_type": "markdown",
   "metadata": {},
   "source": [
    "#### Table: Solicitudes\n",
    "- **Purpose**: Stores DNA test requests with associated metadata.\n",
    "- **Columns**:\n",
    "  - `IdSolicitud`: Unique identifier (PK, auto-incremented).\n",
    "  - `CodigoSolicitud`: Unique request code (generated via `SEQ_CodigoSolicitud`).\n",
    "  - `IdEstado`: FK to `Estados`, indicating request status.\n",
    "  - `IdFormaEntrega`: FK to `FormasEntrega`, specifying delivery method.\n",
    "  - `IdFormaPago`: FK to `FormasPago`, defining payment method.\n",
    "  - `IdPlazoEntrega`: FK to `PlazosEntrega`, indicating delivery timeframe.\n",
    "  - `FechaSolicitud`: Timestamp of request creation (defaults to current time).\n",
    "  - `EsForense`: Boolean flag for forensic cases (defaults to 0).\n",
    "  - `FechaCierre`: Timestamp of request closure (nullable).\n",
    "  - `Observaciones`: Optional notes (up to 500 characters).\n",
    "- **Constraints**:\n",
    "  - `PK_Solicitudes`: Primary key on `IdSolicitud`.\n",
    "  - `UK_Solicitudes_CodigoSolicitud`: Ensures unique request codes.\n",
    "  - FKs to `Estados`, `FormasEntrega`, `FormasPago`, `PlazosEntrega`.\n",
    "- **Normalization**:\n",
    "  - **1NF**: All attributes are atomic.\n",
    "  - **2NF**: No partial dependencies (all columns depend on `IdSolicitud`).\n",
    "  - **3NF**: No transitive dependencies.\n",
    "- **RFP Alignment**:\n",
    "  - Supports request creation with unique codes (`CodigoSolicitud`).\n",
    "  - Tracks states, delivery, payment, and forensic status.\n",
    "  - Links to related entities (interveners, samples, consents) via FKs in other tables.\n",
    "- **Relationships**:\n",
    "  - One-to-many with `Estados`, `FormasEntrega`, `FormasPago`, `PlazosEntrega`.\n",
    "  - Many-to-many with `Solicitantes` via `SolicitudesSolicitantes`.\n",
    "  - One-to-many with `Intervinientes`, `Peticiones`, `Consentimientos`, `Muestras`.\n",
    "**Notes**: Supports RFP’s solicitation management. Links to intervinientes and solicitantes via `SolicitudesSolicitantes`. Ensure `CodigoSolicitud` generation via trigger or SP."
   ]
  },
  {
   "cell_type": "code",
   "execution_count": 0,
   "metadata": {
    "object_type": "Table",
    "urn": "Server[@Name='Windows10-Pepe']/Database[@Name='CEFEGEN']/Table[@Name='Solicitudes' and @Schema='dbo']"
   },
   "outputs": [],
   "source": [
    "/****** Object:  Table [dbo].[Solicitudes]    Script Date: 20/06/2025 18:08:55 ******/\n",
    "SET ANSI_NULLS ON\n",
    "GO\n",
    "SET QUOTED_IDENTIFIER ON\n",
    "GO\n",
    "CREATE TABLE [dbo].[Solicitudes](\n",
    "\t[IdSolicitud] [int] IDENTITY(1,1) NOT NULL,\n",
    "\t[FechaSolicitud] [datetime] NOT NULL,\n",
    "\t[IdSolicitante] [int] NULL,\n",
    "\t[Observaciones] [nvarchar](max) NULL,\n",
    "\t[IdTipoPruebaConsumo] [int] NULL,\n",
    "\t[IdTipoMuestra] [int] NULL,\n",
    "\t[IdPlazoEntrega] [int] NOT NULL,\n",
    "\t[IdFormaPago] [int] NULL,\n",
    "\t[IdFormaEntrega] [int] NOT NULL,\n",
    "\t[CodigoSolicitud] [int] NOT NULL,\n",
    "\t[EstadoBit] [bit] NOT NULL,\n",
    "\t[EsForense] [bit] NOT NULL,\n",
    "\t[IdEstado] [int] NOT NULL,\n",
    "\t[EstadoResultados] [nvarchar](50) NULL,\n",
    "PRIMARY KEY CLUSTERED \n",
    "(\n",
    "\t[IdSolicitud] ASC\n",
    ")WITH (PAD_INDEX = OFF, STATISTICS_NORECOMPUTE = OFF, IGNORE_DUP_KEY = OFF, ALLOW_ROW_LOCKS = ON, ALLOW_PAGE_LOCKS = ON, OPTIMIZE_FOR_SEQUENTIAL_KEY = OFF) ON [PRIMARY],\n",
    " CONSTRAINT [UQ_Solicitudes_CodigoSolicitud] UNIQUE NONCLUSTERED \n",
    "(\n",
    "\t[CodigoSolicitud] ASC\n",
    ")WITH (PAD_INDEX = OFF, STATISTICS_NORECOMPUTE = OFF, IGNORE_DUP_KEY = OFF, ALLOW_ROW_LOCKS = ON, ALLOW_PAGE_LOCKS = ON, OPTIMIZE_FOR_SEQUENTIAL_KEY = OFF) ON [PRIMARY]\n",
    ") ON [PRIMARY] TEXTIMAGE_ON [PRIMARY]\n",
    "GO\n"
   ]
  },
  {
   "cell_type": "markdown",
   "metadata": {
    "object_type": "Table",
    "urn": "Server[@Name='Windows10-Pepe']/Database[@Name='CEFEGEN']/Table[@Name='PerfilesGeneticos' and @Schema='dbo']"
   },
   "source": [
    "# [dbo].[PerfilesGeneticos]"
   ]
  },
  {
   "cell_type": "markdown",
   "metadata": {},
   "source": [
    "#### Table: PerfilesGeneticos\n",
    "- **Purpose**: Stores genetic profiles derived from samples for interveners.\n",
    "- **Columns**:\n",
    "  - `IdPerfilGenetico`: Unique identifier (PK, auto-incremented).\n",
    "  - `IdInterviniente`: FK to `Intervinientes`, linking to the sample provider.\n",
    "  - `IdMuestra`: FK to `Muestras`, linking to the analyzed sample.\n",
    "  - `FechaAnalisis`: Timestamp of analysis.\n",
    "  - `Observaciones`: Optional notes.\n",
    "- **Constraints**:\n",
    "  - `PK_PerfilesGeneticos`: Primary key on `IdPerfilGenetico`.\n",
    "  - FKs to `Intervinientes` and `Muestras`.\n",
    "- **Normalization**:\n",
    "  - **1NF**: All attributes are atomic.\n",
    "  - **2NF**: No partial dependencies.\n",
    "  - **3NF**: No transitive dependencies.\n",
    "- **RFP Alignment**:\n",
    "  - Supports genetic profile registration.\n",
    "  - Links to interveners and samples for traceability.\n",
    "- **Relationships**:\n",
    "  - Many-to-one with `Intervinientes` and `Muestras`.\n",
    "  - One-to-many with `MarcadorComparisons`."
   ]
  },
  {
   "cell_type": "code",
   "execution_count": 0,
   "metadata": {
    "object_type": "Table",
    "urn": "Server[@Name='Windows10-Pepe']/Database[@Name='CEFEGEN']/Table[@Name='PerfilesGeneticos' and @Schema='dbo']"
   },
   "outputs": [],
   "source": [
    "/****** Object:  Table [dbo].[PerfilesGeneticos]    Script Date: 20/06/2025 18:08:55 ******/\n",
    "SET ANSI_NULLS ON\n",
    "GO\n",
    "SET QUOTED_IDENTIFIER ON\n",
    "GO\n",
    "CREATE TABLE [dbo].[PerfilesGeneticos](\n",
    "\t[IdPerfilGenetico] [int] IDENTITY(1,1) NOT NULL,\n",
    "\t[IdInterviniente] [int] NOT NULL,\n",
    "\t[Descripcion] [nvarchar](255) NULL,\n",
    "PRIMARY KEY CLUSTERED \n",
    "(\n",
    "\t[IdPerfilGenetico] ASC\n",
    ")WITH (PAD_INDEX = OFF, STATISTICS_NORECOMPUTE = OFF, IGNORE_DUP_KEY = OFF, ALLOW_ROW_LOCKS = ON, ALLOW_PAGE_LOCKS = ON, OPTIMIZE_FOR_SEQUENTIAL_KEY = OFF) ON [PRIMARY]\n",
    ") ON [PRIMARY]\n",
    "GO\n"
   ]
  },
  {
   "cell_type": "markdown",
   "metadata": {
    "object_type": "Table",
    "urn": "Server[@Name='Windows10-Pepe']/Database[@Name='CEFEGEN']/Table[@Name='Intervinientes' and @Schema='dbo']"
   },
   "source": [
    "# [dbo].[Intervinientes]"
   ]
  },
  {
   "cell_type": "markdown",
   "metadata": {},
   "source": [
    "#### Table: Intervinientes\n",
    "- **Purpose**: Stores individuals (e.g., sample providers) involved in a request.\n",
    "- **Columns**:\n",
    "  - `IdInterviniente`: Unique identifier (PK, auto-incremented).\n",
    "  - `IdSolicitud`: FK to `Solicitudes`, linking to the request.\n",
    "  - `Nombre`: Full name of the intervener.\n",
    "  - `TipoInterviniente`: Role (e.g., “Padre”, “Hijo”).\n",
    "  - `FechaNacimiento`: Date of birth (nullable).\n",
    "  - `Sexo`: Gender (‘M’, ‘F’, or NULL).\n",
    "  - `Observaciones`: Optional notes.\n",
    "- **Constraints**:\n",
    "  - `PK_Intervinientes`: Primary key on `IdInterviniente`.\n",
    "  - `FK_Intervinientes_Solicitudes`: Links to `Solicitudes`.\n",
    "  - `CK_Intervinientes_Sexo`: Restricts `Sexo` to valid values.\n",
    "- **Normalization**:\n",
    "  - **1NF**: All attributes are atomic.\n",
    "  - **2NF**: No partial dependencies.\n",
    "  - **3NF**: No transitive dependencies.\n",
    "- **RFP Alignment**:\n",
    "  - Supports registration of interveners for DNA tests.\n",
    "  - Links to `Solicitudes` and `Muestras` for sample association.\n",
    "- **Relationships**:\n",
    "  - Many-to-one with `Solicitudes`.\n",
    "  - One-to-many with `Muestras`.\n",
    "**Notes**: Meets RFP’s interviniente registration. Consider adding ID number for forensic cases (Addendum 1). Links to solicitations via `Peticiones`."
   ]
  },
  {
   "cell_type": "code",
   "execution_count": 0,
   "metadata": {
    "object_type": "Table",
    "urn": "Server[@Name='Windows10-Pepe']/Database[@Name='CEFEGEN']/Table[@Name='Intervinientes' and @Schema='dbo']"
   },
   "outputs": [],
   "source": [
    "/****** Object:  Table [dbo].[Intervinientes]    Script Date: 20/06/2025 18:08:55 ******/\n",
    "SET ANSI_NULLS ON\n",
    "GO\n",
    "SET QUOTED_IDENTIFIER ON\n",
    "GO\n",
    "CREATE TABLE [dbo].[Intervinientes](\n",
    "\t[IdInterviniente] [int] IDENTITY(1,1) NOT NULL,\n",
    "\t[Nombre] [nvarchar](100) NOT NULL,\n",
    "\t[Apellidos] [nvarchar](150) NOT NULL,\n",
    "\t[NumeroDocumento] [nvarchar](20) NOT NULL,\n",
    "\t[FechaNacimiento] [date] NULL,\n",
    "\t[Sexo] [char](1) NULL,\n",
    "\t[Telefono] [nvarchar](20) NULL,\n",
    "\t[Email] [nvarchar](100) NULL,\n",
    "\t[RepresentanteLegal] [nvarchar](255) NULL,\n",
    "\t[DocumentoRepresentante] [nvarchar](20) NULL,\n",
    "\t[Notas] [nvarchar](max) NULL,\n",
    "\t[IdSolicitud] [int] NULL,\n",
    "\t[IdSolicitante] [int] NULL,\n",
    "\t[IdTipoInterviniente] [char](4) NOT NULL,\n",
    "\t[IdDireccion] [int] NULL,\n",
    "\t[IdTipoDocumento] [int] NOT NULL,\n",
    "PRIMARY KEY CLUSTERED \n",
    "(\n",
    "\t[IdInterviniente] ASC\n",
    ")WITH (PAD_INDEX = OFF, STATISTICS_NORECOMPUTE = OFF, IGNORE_DUP_KEY = OFF, ALLOW_ROW_LOCKS = ON, ALLOW_PAGE_LOCKS = ON, OPTIMIZE_FOR_SEQUENTIAL_KEY = OFF) ON [PRIMARY]\n",
    ") ON [PRIMARY] TEXTIMAGE_ON [PRIMARY]\n",
    "GO\n"
   ]
  },
  {
   "cell_type": "markdown",
   "metadata": {
    "object_type": "Table",
    "urn": "Server[@Name='Windows10-Pepe']/Database[@Name='CEFEGEN']/Table[@Name='IndiceParentesco' and @Schema='dbo']"
   },
   "source": [
    "# [dbo].[IndiceParentesco]"
   ]
  },
  {
   "cell_type": "markdown",
   "metadata": {},
   "source": [
    "#### Table: IndiceParentesco\n",
    "- **Purpose**: Stores calculated kinship indices for requests, explicitly linking compared profiles and the analyst.\n",
    "- **Columns**:\n",
    "  - `IdIndiceParentesco`: Unique identifier (PK, auto-incremented).\n",
    "  - `IdSolicitud`: FK to `Solicitudes`, linking to the request.\n",
    "  - `IdPerfilGenetico1`: FK to `PerfilesGeneticos`, first profile compared.\n",
    "  - `IdPerfilGenetico2`: FK to `PerfilesGeneticos`, second profile compared.\n",
    "  - `IdUsuarioAnalista`: FK to `Usuarios`, identifying the analyst.\n",
    "  - `ValorIndice`: Kinship index value (e.g., likelihood ratio).\n",
    "  - `FechaCalculo`: Timestamp of calculation (defaults to current time).\n",
    "  - `Observaciones`: Optional notes (up to 500 characters).\n",
    "- **Constraints**:\n",
    "  - `PK_IndiceParentesco`: Primary key on `IdIndiceParentesco`.\n",
    "  - `FK_IndiceParentesco_Solicitud`: Links to `Solicitudes`.\n",
    "  - `FK_IndiceParentesco_Perfil1`: Links to `PerfilesGeneticos` for first profile.\n",
    "  - `FK_IndiceParentesco_Perfil2`: Links to `PerfilesGeneticos` for second profile.\n",
    "  - `FK_IndiceParentesco_Usuario`: Links to `Usuarios` for analyst.\n",
    "- **Normalization**:\n",
    "  - **1NF**: All attributes are atomic.\n",
    "  - **2NF**: No partial dependencies (all columns depend on `IdIndiceParentesco`).\n",
    "  - **3NF**: No transitive dependencies.\n",
    "- **RFP Alignment**:\n",
    "  - Supports kinship index calculations with explicit profile and analyst links.\n",
    "  - Enhances forensic traceability via `IdUsuarioAnalista`.\n",
    "- **Relationships**:\n",
    "  - Many-to-one with `Solicitudes`, `PerfilesGeneticos` (twice), and `Usuarios`.\n",
    "  - One-to-many with `IndiceParentesco_Resultados`."
   ]
  },
  {
   "cell_type": "code",
   "execution_count": 0,
   "metadata": {
    "object_type": "Table",
    "urn": "Server[@Name='Windows10-Pepe']/Database[@Name='CEFEGEN']/Table[@Name='IndiceParentesco' and @Schema='dbo']"
   },
   "outputs": [],
   "source": [
    "/****** Object:  Table [dbo].[IndiceParentesco]    Script Date: 20/06/2025 18:08:55 ******/\n",
    "SET ANSI_NULLS ON\n",
    "GO\n",
    "SET QUOTED_IDENTIFIER ON\n",
    "GO\n",
    "CREATE TABLE [dbo].[IndiceParentesco](\n",
    "\t[IdIndiceParentesco] [int] IDENTITY(1,1) NOT NULL,\n",
    "\t[IdSolicitud] [int] NOT NULL,\n",
    "\t[IdPerfilGenetico1] [int] NOT NULL,\n",
    "\t[IdPerfilGenetico2] [int] NOT NULL,\n",
    "\t[TipoRelacion] [varchar](50) NOT NULL,\n",
    "\t[IndiceCombinadoParentesco] [decimal](18, 6) NULL,\n",
    "\t[LikelihoodRatio] [decimal](18, 6) NULL,\n",
    "\t[ProbabilidadParentesco] [decimal](5, 2) NULL,\n",
    "\t[MarcadoresGeneticos] [nvarchar](max) NULL,\n",
    "\t[NumeroMarcadores] [int] NULL,\n",
    "\t[Resultado] [varchar](100) NULL,\n",
    "\t[Observaciones] [nvarchar](1000) NULL,\n",
    "\t[FechaAnalisis] [datetime] NOT NULL,\n",
    "\t[IdUsuarioAnalista] [int] NOT NULL,\n",
    "\t[Estado] [varchar](20) NOT NULL,\n",
    "\t[IdResultadoParentesco] [int] NULL,\n",
    "PRIMARY KEY CLUSTERED \n",
    "(\n",
    "\t[IdIndiceParentesco] ASC\n",
    ")WITH (PAD_INDEX = OFF, STATISTICS_NORECOMPUTE = OFF, IGNORE_DUP_KEY = OFF, ALLOW_ROW_LOCKS = ON, ALLOW_PAGE_LOCKS = ON, OPTIMIZE_FOR_SEQUENTIAL_KEY = OFF) ON [PRIMARY]\n",
    ") ON [PRIMARY] TEXTIMAGE_ON [PRIMARY]\n",
    "GO\n"
   ]
  },
  {
   "cell_type": "markdown",
   "metadata": {
    "object_type": "View",
    "urn": "Server[@Name='Windows10-Pepe']/Database[@Name='CEFEGEN']/View[@Name='vw_ReporteMadreHijo' and @Schema='dbo']"
   },
   "source": [
    "# [dbo].[vw_ReporteMadreHijo]"
   ]
  },
  {
   "cell_type": "code",
   "execution_count": 0,
   "metadata": {
    "object_type": "View",
    "urn": "Server[@Name='Windows10-Pepe']/Database[@Name='CEFEGEN']/View[@Name='vw_ReporteMadreHijo' and @Schema='dbo']"
   },
   "outputs": [],
   "source": [
    "/****** Object:  View [dbo].[vw_ReporteMadreHijo]    Script Date: 20/06/2025 18:08:55 ******/\n",
    "SET ANSI_NULLS ON\n",
    "GO\n",
    "SET QUOTED_IDENTIFIER ON\n",
    "GO\n",
    "CREATE VIEW [dbo].[vw_ReporteMadreHijo]\n",
    "AS\n",
    "SELECT\n",
    "    s.IdSolicitud,\n",
    "    s.FechaSolicitud,\n",
    "    i1.Nombre AS NombreHijo,\n",
    "    i2.Nombre AS NombreMadre,\n",
    "    ip.IndiceCombinadoParentesco,\n",
    "    ip.LikelihoodRatio,\n",
    "    ip.ProbabilidadParentesco,\n",
    "    ip.Resultado,\n",
    "    ip.FechaAnalisis\n",
    "FROM [dbo].[Solicitudes] s\n",
    "JOIN [dbo].[IndiceParentesco] ip ON s.IdSolicitud = ip.IdSolicitud\n",
    "JOIN [dbo].[PerfilesGeneticos] pg1 ON ip.IdPerfilGenetico1 = pg1.IdPerfilGenetico\n",
    "JOIN [dbo].[Intervinientes] i1 ON pg1.IdInterviniente = i1.IdInterviniente\n",
    "JOIN [dbo].[PerfilesGeneticos] pg2 ON ip.IdPerfilGenetico2 = pg2.IdPerfilGenetico\n",
    "JOIN [dbo].[Intervinientes] i2 ON pg2.IdInterviniente = i2.IdInterviniente\n",
    "WHERE ip.TipoRelacion = 'Madre-Hijo';\n",
    "GO\n"
   ]
  },
  {
   "cell_type": "markdown",
   "metadata": {
    "object_type": "Table",
    "urn": "Server[@Name='Windows10-Pepe']/Database[@Name='CEFEGEN']/Table[@Name='Direcciones' and @Schema='dbo']"
   },
   "source": [
    "# [dbo].[Direcciones]"
   ]
  },
  {
   "cell_type": "code",
   "execution_count": 0,
   "metadata": {
    "object_type": "Table",
    "urn": "Server[@Name='Windows10-Pepe']/Database[@Name='CEFEGEN']/Table[@Name='Direcciones' and @Schema='dbo']"
   },
   "outputs": [],
   "source": [
    "/****** Object:  Table [dbo].[Direcciones]    Script Date: 20/06/2025 18:08:55 ******/\n",
    "SET ANSI_NULLS ON\n",
    "GO\n",
    "SET QUOTED_IDENTIFIER ON\n",
    "GO\n",
    "CREATE TABLE [dbo].[Direcciones](\n",
    "\t[IdDireccion] [int] IDENTITY(1,1) NOT NULL,\n",
    "\t[CodigoPais] [char](2) NOT NULL,\n",
    "\t[CodigoProvincia] [char](2) NULL,\n",
    "\t[CodigoMunicipio] [char](6) NULL,\n",
    "\t[CodigoPostal] [nvarchar](10) NULL,\n",
    "\t[ProvinciaTexto] [nvarchar](100) NULL,\n",
    "\t[MunicipioTexto] [nvarchar](100) NULL,\n",
    "\t[CodigoPostalTexto] [nvarchar](20) NULL,\n",
    "\t[Direccion] [nvarchar](255) NOT NULL,\n",
    "\t[Direccion2] [nvarchar](255) NULL,\n",
    "\t[FuenteDatos] [nvarchar](50) NULL,\n",
    "\t[EstadoNormalizacion] [nvarchar](50) NULL,\n",
    "PRIMARY KEY CLUSTERED \n",
    "(\n",
    "\t[IdDireccion] ASC\n",
    ")WITH (PAD_INDEX = OFF, STATISTICS_NORECOMPUTE = OFF, IGNORE_DUP_KEY = OFF, ALLOW_ROW_LOCKS = ON, ALLOW_PAGE_LOCKS = ON, OPTIMIZE_FOR_SEQUENTIAL_KEY = OFF) ON [PRIMARY]\n",
    ") ON [PRIMARY]\n",
    "GO\n"
   ]
  },
  {
   "cell_type": "markdown",
   "metadata": {
    "object_type": "Table",
    "urn": "Server[@Name='Windows10-Pepe']/Database[@Name='CEFEGEN']/Table[@Name='Paises' and @Schema='dbo']"
   },
   "source": [
    "# [dbo].[Paises]"
   ]
  },
  {
   "cell_type": "code",
   "execution_count": 0,
   "metadata": {
    "object_type": "Table",
    "urn": "Server[@Name='Windows10-Pepe']/Database[@Name='CEFEGEN']/Table[@Name='Paises' and @Schema='dbo']"
   },
   "outputs": [],
   "source": [
    "/****** Object:  Table [dbo].[Paises]    Script Date: 20/06/2025 18:08:55 ******/\n",
    "SET ANSI_NULLS ON\n",
    "GO\n",
    "SET QUOTED_IDENTIFIER ON\n",
    "GO\n",
    "CREATE TABLE [dbo].[Paises](\n",
    "\t[CodigoPais] [char](2) NOT NULL,\n",
    "\t[Nombre] [nvarchar](100) NOT NULL,\n",
    "PRIMARY KEY CLUSTERED \n",
    "(\n",
    "\t[CodigoPais] ASC\n",
    ")WITH (PAD_INDEX = OFF, STATISTICS_NORECOMPUTE = OFF, IGNORE_DUP_KEY = OFF, ALLOW_ROW_LOCKS = ON, ALLOW_PAGE_LOCKS = ON, OPTIMIZE_FOR_SEQUENTIAL_KEY = OFF) ON [PRIMARY]\n",
    ") ON [PRIMARY]\n",
    "GO\n"
   ]
  },
  {
   "cell_type": "markdown",
   "metadata": {
    "object_type": "Table",
    "urn": "Server[@Name='Windows10-Pepe']/Database[@Name='CEFEGEN']/Table[@Name='Provincias' and @Schema='dbo']"
   },
   "source": [
    "# [dbo].[Provincias]"
   ]
  },
  {
   "cell_type": "code",
   "execution_count": 0,
   "metadata": {
    "object_type": "Table",
    "urn": "Server[@Name='Windows10-Pepe']/Database[@Name='CEFEGEN']/Table[@Name='Provincias' and @Schema='dbo']"
   },
   "outputs": [],
   "source": [
    "/****** Object:  Table [dbo].[Provincias]    Script Date: 20/06/2025 18:08:55 ******/\n",
    "SET ANSI_NULLS ON\n",
    "GO\n",
    "SET QUOTED_IDENTIFIER ON\n",
    "GO\n",
    "CREATE TABLE [dbo].[Provincias](\n",
    "\t[CodigoProvincia] [char](2) NOT NULL,\n",
    "\t[Nombre] [nvarchar](100) NOT NULL,\n",
    "PRIMARY KEY CLUSTERED \n",
    "(\n",
    "\t[CodigoProvincia] ASC\n",
    ")WITH (PAD_INDEX = OFF, STATISTICS_NORECOMPUTE = OFF, IGNORE_DUP_KEY = OFF, ALLOW_ROW_LOCKS = ON, ALLOW_PAGE_LOCKS = ON, OPTIMIZE_FOR_SEQUENTIAL_KEY = OFF) ON [PRIMARY],\n",
    "UNIQUE NONCLUSTERED \n",
    "(\n",
    "\t[Nombre] ASC\n",
    ")WITH (PAD_INDEX = OFF, STATISTICS_NORECOMPUTE = OFF, IGNORE_DUP_KEY = OFF, ALLOW_ROW_LOCKS = ON, ALLOW_PAGE_LOCKS = ON, OPTIMIZE_FOR_SEQUENTIAL_KEY = OFF) ON [PRIMARY]\n",
    ") ON [PRIMARY]\n",
    "GO\n"
   ]
  },
  {
   "cell_type": "markdown",
   "metadata": {
    "object_type": "Table",
    "urn": "Server[@Name='Windows10-Pepe']/Database[@Name='CEFEGEN']/Table[@Name='Poblaciones' and @Schema='dbo']"
   },
   "source": [
    "# [dbo].[Poblaciones]"
   ]
  },
  {
   "cell_type": "code",
   "execution_count": 0,
   "metadata": {
    "object_type": "Table",
    "urn": "Server[@Name='Windows10-Pepe']/Database[@Name='CEFEGEN']/Table[@Name='Poblaciones' and @Schema='dbo']"
   },
   "outputs": [],
   "source": [
    "/****** Object:  Table [dbo].[Poblaciones]    Script Date: 20/06/2025 18:08:55 ******/\n",
    "SET ANSI_NULLS ON\n",
    "GO\n",
    "SET QUOTED_IDENTIFIER ON\n",
    "GO\n",
    "CREATE TABLE [dbo].[Poblaciones](\n",
    "\t[CodigoMunicipio] [char](6) NOT NULL,\n",
    "\t[Nombre] [nvarchar](100) NOT NULL,\n",
    "\t[CodigoProvincia] [char](2) NOT NULL,\n",
    "PRIMARY KEY CLUSTERED \n",
    "(\n",
    "\t[CodigoMunicipio] ASC\n",
    ")WITH (PAD_INDEX = OFF, STATISTICS_NORECOMPUTE = OFF, IGNORE_DUP_KEY = OFF, ALLOW_ROW_LOCKS = ON, ALLOW_PAGE_LOCKS = ON, OPTIMIZE_FOR_SEQUENTIAL_KEY = OFF) ON [PRIMARY]\n",
    ") ON [PRIMARY]\n",
    "GO\n"
   ]
  },
  {
   "cell_type": "markdown",
   "metadata": {
    "object_type": "Table",
    "urn": "Server[@Name='Windows10-Pepe']/Database[@Name='CEFEGEN']/Table[@Name='LaboratoriosColaboradores' and @Schema='dbo']"
   },
   "source": [
    "# [dbo].[LaboratoriosColaboradores]"
   ]
  },
  {
   "cell_type": "code",
   "execution_count": 0,
   "metadata": {
    "object_type": "Table",
    "urn": "Server[@Name='Windows10-Pepe']/Database[@Name='CEFEGEN']/Table[@Name='LaboratoriosColaboradores' and @Schema='dbo']"
   },
   "outputs": [],
   "source": [
    "/****** Object:  Table [dbo].[LaboratoriosColaboradores]    Script Date: 20/06/2025 18:08:55 ******/\n",
    "SET ANSI_NULLS ON\n",
    "GO\n",
    "SET QUOTED_IDENTIFIER ON\n",
    "GO\n",
    "CREATE TABLE [dbo].[LaboratoriosColaboradores](\n",
    "\t[IdLaboratorioColaborador] [int] IDENTITY(1,1) NOT NULL,\n",
    "\t[NombreFiscal] [nvarchar](50) NOT NULL,\n",
    "\t[NombreComercial] [nvarchar](50) NULL,\n",
    "\t[CIF] [nvarchar](20) NOT NULL,\n",
    "\t[Contacto] [nvarchar](50) NOT NULL,\n",
    "\t[Telefono] [nvarchar](20) NOT NULL,\n",
    "\t[Telefono2] [nvarchar](20) NULL,\n",
    "\t[Email] [nvarchar](100) NOT NULL,\n",
    "\t[Web] [nvarchar](100) NULL,\n",
    "\t[FechaAlta] [date] NOT NULL,\n",
    "\t[IdTipoClienteConsumo] [int] NULL,\n",
    "\t[IdActividad] [int] NULL,\n",
    "\t[IdTarifa] [int] NULL,\n",
    "\t[IdFormaPago] [int] NULL,\n",
    "\t[IdIVA] [int] NULL,\n",
    "\t[IdIdioma] [char](2) NULL,\n",
    "\t[IdBanco] [int] NULL,\n",
    "\t[IdPersonal] [int] NULL,\n",
    "\t[TipoCliente] [smallint] NULL,\n",
    "\t[Descuento] [float] NULL,\n",
    "\t[IRPF] [float] NULL,\n",
    "\t[DomiciliacionBanco] [smallint] NULL,\n",
    "\t[NombreBanco] [nvarchar](100) NULL,\n",
    "\t[CuentaBanco] [nvarchar](100) NULL,\n",
    "\t[SwiftBanco] [nvarchar](100) NULL,\n",
    "\t[FormaPago] [nvarchar](100) NULL,\n",
    "\t[DiaPagoFijo1] [smallint] NULL,\n",
    "\t[DiaPagoFijo2] [smallint] NULL,\n",
    "\t[DiaPagoFijo3] [smallint] NULL,\n",
    "\t[DiasAplazamiento] [smallint] NULL,\n",
    "\t[PagoDiario] [smallint] NULL,\n",
    "\t[ValidarPrecios] [smallint] NULL,\n",
    "\t[FechaInicial] [datetime2](7) NULL,\n",
    "\t[FechaFinal] [datetime2](7) NULL,\n",
    "\t[FechaInicialC] [datetime2](7) NULL,\n",
    "\t[FechaFinalC] [datetime2](7) NULL,\n",
    "\t[IdAvisoTecnico] [int] NULL,\n",
    "\t[IdAvisoAdmon] [int] NULL,\n",
    "\t[IdAvisoFacturacion] [int] NULL,\n",
    "\t[IdAvisoInternas] [int] NULL,\n",
    "\t[MembreteCliente] [smallint] NULL,\n",
    "\t[FormatoFactura] [smallint] NULL,\n",
    "\t[TipoReferencias] [smallint] NULL,\n",
    "\t[RefContrato] [nvarchar](500) NULL,\n",
    "\t[Horario] [nvarchar](100) NULL,\n",
    "\t[HorarioVerano] [nvarchar](100) NULL,\n",
    "\t[Concepto1] [nvarchar](max) NULL,\n",
    "\t[Concepto2] [nvarchar](max) NULL,\n",
    "\t[Concepto3] [nvarchar](max) NULL,\n",
    "\t[CarpetaFichero] [nvarchar](1000) NULL,\n",
    "\t[Bloquear] [bit] NOT NULL,\n",
    "\t[EstadoContrato] [bit] NOT NULL,\n",
    "\t[IdDireccion] [int] NULL,\n",
    "\t[IdIdiomaPreferido] [char](2) NULL,\n",
    "\t[PrefiereSMS] [bit] NOT NULL,\n",
    "\t[TelefonoSMS] [nvarchar](20) NULL,\n",
    "PRIMARY KEY CLUSTERED \n",
    "(\n",
    "\t[IdLaboratorioColaborador] ASC\n",
    ")WITH (PAD_INDEX = OFF, STATISTICS_NORECOMPUTE = OFF, IGNORE_DUP_KEY = OFF, ALLOW_ROW_LOCKS = ON, ALLOW_PAGE_LOCKS = ON, OPTIMIZE_FOR_SEQUENTIAL_KEY = OFF) ON [PRIMARY]\n",
    ") ON [PRIMARY] TEXTIMAGE_ON [PRIMARY]\n",
    "GO\n"
   ]
  },
  {
   "cell_type": "markdown",
   "metadata": {},
   "source": [
    "# [dbo].[vw_UsuariosRoles]"
   ]
  },
  {
   "cell_type": "markdown",
   "metadata": {},
   "source": [
    "#### View: vw_UsuariosRoles (Proposed)\n",
    "**Purpose**: Joins `Usuarios`, `Roles`, and `Personal` to provide a comprehensive user report."
   ]
  },
  {
   "cell_type": "code",
   "execution_count": null,
   "metadata": {},
   "outputs": [],
   "source": [
    "/****** Object:  View [dbo].[w_UsuariosRoles]    Script Date: 20/06/2025 18:08:55 ******/\n",
    "SET ANSI_NULLS ON\n",
    "GO\n",
    "SET QUOTED_IDENTIFIER ON\n",
    "GO\n",
    "CREATE VIEW vw_UsuariosRoles AS\n",
    "SELECT \n",
    "    u.IdUsuario, u.NombreUsuario, u.Email, u.Activo, u.FechaCreacion,\n",
    "    r.NombreRol AS RolNombre,\n",
    "    p.NombrePersonal AS NombrePersonal\n",
    "FROM Usuarios u\n",
    "INNER JOIN Roles r ON u.IdRol = r.IdRol\n",
    "LEFT JOIN Personal p ON p.IdPersonal = u.IdUsuario;"
   ]
  },
  {
   "cell_type": "markdown",
   "metadata": {
    "object_type": "View",
    "urn": "Server[@Name='Windows10-Pepe']/Database[@Name='CEFEGEN']/View[@Name='vw_LaboratoriosColaboradoresBasicos' and @Schema='dbo']"
   },
   "source": [
    "# [dbo].[vw_LaboratoriosColaboradoresBasicos]"
   ]
  },
  {
   "cell_type": "code",
   "execution_count": 0,
   "metadata": {
    "object_type": "View",
    "urn": "Server[@Name='Windows10-Pepe']/Database[@Name='CEFEGEN']/View[@Name='vw_LaboratoriosColaboradoresBasicos' and @Schema='dbo']"
   },
   "outputs": [],
   "source": [
    "/****** Object:  View [dbo].[vw_LaboratoriosColaboradoresBasicos]    Script Date: 20/06/2025 18:08:55 ******/\n",
    "SET ANSI_NULLS ON\n",
    "GO\n",
    "SET QUOTED_IDENTIFIER ON\n",
    "GO\n",
    "\n",
    "-- 2. Actualizar definiciones de todas las vistas\n",
    "-- 2.1. vw_LaboratoriosColaboradoresBasicos (sin cambios)\n",
    "CREATE   VIEW [dbo].[vw_LaboratoriosColaboradoresBasicos] AS\n",
    "SELECT\n",
    "    lc.IdLaboratorioColaborador,\n",
    "    lc.NombreFiscal,\n",
    "    lc.NombreComercial,\n",
    "    d.Direccion,\n",
    "    d.Direccion2,\n",
    "    COALESCE(d.CodigoPostalTexto, d.CodigoPostal) AS CodigoPostal,\n",
    "    COALESCE(d.MunicipioTexto, po.Nombre) AS Poblacion,\n",
    "    COALESCE(d.ProvinciaTexto, pr.Nombre) AS Provincia,\n",
    "    pa.Nombre AS Pais,\n",
    "    lc.Telefono,\n",
    "    lc.Telefono2,\n",
    "    lc.Contacto,\n",
    "    lc.Email\n",
    "FROM dbo.LaboratoriosColaboradores lc\n",
    "LEFT JOIN dbo.Direcciones d ON lc.IdDireccion = d.IdDireccion\n",
    "LEFT JOIN dbo.Poblaciones po ON d.CodigoMunicipio = po.CodigoMunicipio\n",
    "LEFT JOIN dbo.Provincias pr ON d.CodigoProvincia = pr.CodigoProvincia\n",
    "LEFT JOIN dbo.Paises pa ON d.CodigoPais = pa.CodigoPais;\n",
    "GO\n"
   ]
  },
  {
   "cell_type": "markdown",
   "metadata": {
    "object_type": "View",
    "urn": "Server[@Name='Windows10-Pepe']/Database[@Name='CEFEGEN']/View[@Name='vw_ReporteHermanos' and @Schema='dbo']"
   },
   "source": [
    "# [dbo].[vw_ReporteHermanos]"
   ]
  },
  {
   "cell_type": "code",
   "execution_count": 0,
   "metadata": {
    "object_type": "View",
    "urn": "Server[@Name='Windows10-Pepe']/Database[@Name='CEFEGEN']/View[@Name='vw_ReporteHermanos' and @Schema='dbo']"
   },
   "outputs": [],
   "source": [
    "/****** Object:  View [dbo].[vw_ReporteHermanos]    Script Date: 20/06/2025 18:08:55 ******/\n",
    "SET ANSI_NULLS ON\n",
    "GO\n",
    "SET QUOTED_IDENTIFIER ON\n",
    "GO\n",
    "CREATE VIEW [dbo].[vw_ReporteHermanos]\n",
    "AS\n",
    "SELECT\n",
    "    s.IdSolicitud,\n",
    "    s.FechaSolicitud,\n",
    "    i1.Nombre AS NombreHermano1,\n",
    "    i2.Nombre AS NombreHermano2,\n",
    "    ip.IndiceCombinadoParentesco,\n",
    "    ip.LikelihoodRatio,\n",
    "    ip.ProbabilidadParentesco,\n",
    "    ip.Resultado,\n",
    "    ip.FechaAnalisis\n",
    "FROM [dbo].[Solicitudes] s\n",
    "JOIN [dbo].[IndiceParentesco] ip ON s.IdSolicitud = ip.IdSolicitud\n",
    "JOIN [dbo].[PerfilesGeneticos] pg1 ON ip.IdPerfilGenetico1 = pg1.IdPerfilGenetico\n",
    "JOIN [dbo].[Intervinientes] i1 ON pg1.IdInterviniente = i1.IdInterviniente\n",
    "JOIN [dbo].[PerfilesGeneticos] pg2 ON ip.IdPerfilGenetico2 = pg2.IdPerfilGenetico\n",
    "JOIN [dbo].[Intervinientes] i2 ON pg2.IdInterviniente = i2.IdInterviniente\n",
    "WHERE ip.TipoRelacion = 'Hermanos';\n",
    "GO\n"
   ]
  },
  {
   "cell_type": "markdown",
   "metadata": {
    "object_type": "View",
    "urn": "Server[@Name='Windows10-Pepe']/Database[@Name='CEFEGEN']/View[@Name='vw_LaboratoriosActivos' and @Schema='dbo']"
   },
   "source": [
    "# [dbo].[vw_LaboratoriosActivos]"
   ]
  },
  {
   "cell_type": "code",
   "execution_count": 0,
   "metadata": {
    "object_type": "View",
    "urn": "Server[@Name='Windows10-Pepe']/Database[@Name='CEFEGEN']/View[@Name='vw_LaboratoriosActivos' and @Schema='dbo']"
   },
   "outputs": [],
   "source": [
    "/****** Object:  View [dbo].[vw_LaboratoriosActivos]    Script Date: 20/06/2025 18:08:55 ******/\n",
    "SET ANSI_NULLS ON\n",
    "GO\n",
    "SET QUOTED_IDENTIFIER ON\n",
    "GO\n",
    "\n",
    "-- 2.2. vw_LaboratoriosActivos (sin cambios)\n",
    "CREATE   VIEW [dbo].[vw_LaboratoriosActivos] AS\n",
    "SELECT\n",
    "    lc.IdLaboratorioColaborador,\n",
    "    lc.NombreFiscal,\n",
    "    lc.NombreComercial,\n",
    "    d.Direccion,\n",
    "    lc.Contacto,\n",
    "    lc.Telefono,\n",
    "    lc.Email\n",
    "FROM dbo.LaboratoriosColaboradores lc\n",
    "LEFT JOIN dbo.Direcciones d ON lc.IdDireccion = d.IdDireccion\n",
    "WHERE ISNULL(lc.Bloquear, 0) = 0;\n",
    "GO\n"
   ]
  },
  {
   "cell_type": "markdown",
   "metadata": {
    "object_type": "View",
    "urn": "Server[@Name='Windows10-Pepe']/Database[@Name='CEFEGEN']/View[@Name='vw_ReporteAbueloNieto' and @Schema='dbo']"
   },
   "source": [
    "# [dbo].[vw_ReporteAbueloNieto]"
   ]
  },
  {
   "cell_type": "code",
   "execution_count": 0,
   "metadata": {
    "object_type": "View",
    "urn": "Server[@Name='Windows10-Pepe']/Database[@Name='CEFEGEN']/View[@Name='vw_ReporteAbueloNieto' and @Schema='dbo']"
   },
   "outputs": [],
   "source": [
    "/****** Object:  View [dbo].[vw_ReporteAbueloNieto]    Script Date: 20/06/2025 18:08:55 ******/\n",
    "SET ANSI_NULLS ON\n",
    "GO\n",
    "SET QUOTED_IDENTIFIER ON\n",
    "GO\n",
    "CREATE VIEW [dbo].[vw_ReporteAbueloNieto]\n",
    "AS\n",
    "SELECT\n",
    "    s.IdSolicitud,\n",
    "    s.FechaSolicitud,\n",
    "    i1.Nombre AS NombreNieto,\n",
    "    i2.Nombre AS NombreAbuelo,\n",
    "    ip.IndiceCombinadoParentesco,\n",
    "    ip.LikelihoodRatio,\n",
    "    ip.ProbabilidadParentesco,\n",
    "    ip.Resultado,\n",
    "    ip.FechaAnalisis\n",
    "FROM [dbo].[Solicitudes] s\n",
    "JOIN [dbo].[IndiceParentesco] ip ON s.IdSolicitud = ip.IdSolicitud\n",
    "JOIN [dbo].[PerfilesGeneticos] pg1 ON ip.IdPerfilGenetico1 = pg1.IdPerfilGenetico\n",
    "JOIN [dbo].[Intervinientes] i1 ON pg1.IdInterviniente = i1.IdInterviniente\n",
    "JOIN [dbo].[PerfilesGeneticos] pg2 ON ip.IdPerfilGenetico2 = pg2.IdPerfilGenetico\n",
    "JOIN [dbo].[Intervinientes] i2 ON pg2.IdInterviniente = i2.IdInterviniente\n",
    "WHERE ip.TipoRelacion = 'Abuelo-Nieto';\n",
    "GO\n"
   ]
  },
  {
   "cell_type": "markdown",
   "metadata": {
    "object_type": "Table",
    "urn": "Server[@Name='Windows10-Pepe']/Database[@Name='CEFEGEN']/Table[@Name='ReferenciasPaciente' and @Schema='dbo']"
   },
   "source": [
    "# [dbo].[ReferenciasPaciente]"
   ]
  },
  {
   "cell_type": "code",
   "execution_count": 0,
   "metadata": {
    "object_type": "Table",
    "urn": "Server[@Name='Windows10-Pepe']/Database[@Name='CEFEGEN']/Table[@Name='ReferenciasPaciente' and @Schema='dbo']"
   },
   "outputs": [],
   "source": [
    "/****** Object:  Table [dbo].[ReferenciasPaciente]    Script Date: 20/06/2025 18:08:55 ******/\n",
    "SET ANSI_NULLS ON\n",
    "GO\n",
    "SET QUOTED_IDENTIFIER ON\n",
    "GO\n",
    "CREATE TABLE [dbo].[ReferenciasPaciente](\n",
    "\t[IdReferenciaPaciente] [int] IDENTITY(1,1) NOT NULL,\n",
    "\t[IdSolicitante] [int] NOT NULL,\n",
    "\t[IdTipoReferencia] [int] NOT NULL,\n",
    "\t[Descripcion] [nvarchar](255) NULL,\n",
    "\t[FechaReferencia] [date] NOT NULL,\n",
    "\t[IdPersonalRegistro] [int] NULL,\n",
    "PRIMARY KEY CLUSTERED \n",
    "(\n",
    "\t[IdReferenciaPaciente] ASC\n",
    ")WITH (PAD_INDEX = OFF, STATISTICS_NORECOMPUTE = OFF, IGNORE_DUP_KEY = OFF, ALLOW_ROW_LOCKS = ON, ALLOW_PAGE_LOCKS = ON, OPTIMIZE_FOR_SEQUENTIAL_KEY = OFF) ON [PRIMARY]\n",
    ") ON [PRIMARY]\n",
    "GO\n"
   ]
  },
  {
   "cell_type": "markdown",
   "metadata": {
    "object_type": "Table",
    "urn": "Server[@Name='Windows10-Pepe']/Database[@Name='CEFEGEN']/Table[@Name='ReferenciaDetalles' and @Schema='dbo']"
   },
   "source": [
    "# [dbo].[ReferenciaDetalles]"
   ]
  },
  {
   "cell_type": "code",
   "execution_count": 0,
   "metadata": {
    "object_type": "Table",
    "urn": "Server[@Name='Windows10-Pepe']/Database[@Name='CEFEGEN']/Table[@Name='ReferenciaDetalles' and @Schema='dbo']"
   },
   "outputs": [],
   "source": [
    "/****** Object:  Table [dbo].[ReferenciaDetalles]    Script Date: 20/06/2025 18:08:55 ******/\n",
    "SET ANSI_NULLS ON\n",
    "GO\n",
    "SET QUOTED_IDENTIFIER ON\n",
    "GO\n",
    "CREATE TABLE [dbo].[ReferenciaDetalles](\n",
    "\t[IdReferenciaPaciente] [int] NOT NULL,\n",
    "\t[IdLaboratorioColaborador] [int] NULL,\n",
    "\t[IdMedico] [int] NULL,\n",
    "\t[IdAbogado] [int] NULL,\n",
    "\t[IdCampaniaMarketing] [int] NULL,\n",
    "\t[UrlLandingPage] [nvarchar](255) NULL,\n",
    "\t[Observaciones] [nvarchar](max) NULL,\n",
    "PRIMARY KEY CLUSTERED \n",
    "(\n",
    "\t[IdReferenciaPaciente] ASC\n",
    ")WITH (PAD_INDEX = OFF, STATISTICS_NORECOMPUTE = OFF, IGNORE_DUP_KEY = OFF, ALLOW_ROW_LOCKS = ON, ALLOW_PAGE_LOCKS = ON, OPTIMIZE_FOR_SEQUENTIAL_KEY = OFF) ON [PRIMARY]\n",
    ") ON [PRIMARY] TEXTIMAGE_ON [PRIMARY]\n",
    "GO\n"
   ]
  },
  {
   "cell_type": "markdown",
   "metadata": {
    "object_type": "View",
    "urn": "Server[@Name='Windows10-Pepe']/Database[@Name='CEFEGEN']/View[@Name='vw_LaboratoriosConReferenciasUltimoAno' and @Schema='dbo']"
   },
   "source": [
    "# [dbo].[vw_LaboratoriosConReferenciasUltimoAno]"
   ]
  },
  {
   "cell_type": "code",
   "execution_count": 0,
   "metadata": {
    "object_type": "View",
    "urn": "Server[@Name='Windows10-Pepe']/Database[@Name='CEFEGEN']/View[@Name='vw_LaboratoriosConReferenciasUltimoAno' and @Schema='dbo']"
   },
   "outputs": [],
   "source": [
    "/****** Object:  View [dbo].[vw_LaboratoriosConReferenciasUltimoAno]    Script Date: 20/06/2025 18:08:55 ******/\n",
    "SET ANSI_NULLS ON\n",
    "GO\n",
    "SET QUOTED_IDENTIFIER ON\n",
    "GO\n",
    "\n",
    "-- 2.3. vw_LaboratoriosConReferenciasUltimoAno (sin cambios)\n",
    "CREATE   VIEW [dbo].[vw_LaboratoriosConReferenciasUltimoAno] AS\n",
    "SELECT\n",
    "    lc.IdLaboratorioColaborador,\n",
    "    lc.NombreFiscal,\n",
    "    lc.Contacto,\n",
    "    lc.Telefono,\n",
    "    lc.Email,\n",
    "    COUNT(r.IdReferenciaPaciente) AS TotalReferencias,\n",
    "    MIN(r.FechaReferencia) AS PrimeraReferencia,\n",
    "    MAX(r.FechaReferencia) AS UltimaReferencia\n",
    "FROM dbo.ReferenciasPaciente r\n",
    "JOIN dbo.ReferenciaDetalles d ON r.IdReferenciaPaciente = d.IdReferenciaPaciente\n",
    "JOIN dbo.LaboratoriosColaboradores lc ON d.IdLaboratorioColaborador = lc.IdLaboratorioColaborador\n",
    "WHERE r.FechaReferencia >= DATEADD(YEAR, -1, GETDATE())\n",
    "GROUP BY \n",
    "    lc.IdLaboratorioColaborador,\n",
    "    lc.NombreFiscal,\n",
    "    lc.Contacto,\n",
    "    lc.Telefono,\n",
    "    lc.Email;\n",
    "GO\n"
   ]
  },
  {
   "cell_type": "markdown",
   "metadata": {
    "object_type": "Table",
    "urn": "Server[@Name='Windows10-Pepe']/Database[@Name='CEFEGEN']/Table[@Name='ResultadosParentesco' and @Schema='dbo']"
   },
   "source": [
    "# [dbo].[ResultadosParentesco]"
   ]
  },
  {
   "cell_type": "markdown",
   "metadata": {},
   "source": [
    "#### Table: ResultadosParentesco\n",
    "- **Purpose**: Stores kinship test results, including allele data and validation details.\n",
    "- **Columns**:\n",
    "  - `IdResultadoParentesco`: Unique identifier (PK, auto-incremented).\n",
    "  - `IdInterviniente`: FK to `Intervinientes`, linking to the sample provider.\n",
    "  - `Alelo1`: First allele value (nullable).\n",
    "  - `Alelo2`: Second allele value (nullable).\n",
    "  - `Resultado`: Result description (up to 510 characters, nullable).\n",
    "  - `FechaRegistro`: Date of result registration.\n",
    "  - `IdPersonalRegistro`: FK to `Personal`, identifying the staff who registered the result (nullable).\n",
    "  - `IdLineaPeticion`: FK to `PeticionesLin`, linking to the test request (nullable).\n",
    "  - `IdMarcador`: FK to `MarcadoresGeneticos`, specifying the marker analyzed.\n",
    "  - `ValidadoPor`: FK to `Usuarios`, identifying the validator (nullable).\n",
    "  - `EstadoValidacion`: Validation status (e.g., “Pending”, nullable).\n",
    "  - `FechaValidacion`: Timestamp of validation (nullable).\n",
    "  - `IdDocumento`: FK to `Documentos`, linking to a report (nullable).\n",
    "  - `Notificado`: Boolean flag indicating if the result was notified (defaults to 0).\n",
    "  - `EstadoValidacionFinal`: Final validation status (nullable).\n",
    "  - `FechaResultado`: Timestamp of result finalization (nullable).\n",
    "- **Constraints**:\n",
    "  - `PK_ResultadosParentesco`: Primary key on `IdResultadoParentesco`.\n",
    "  - FKs to `Intervinientes`, `MarcadoresGeneticos`, `Personal`, `PeticionesLin`, `Usuarios`, `Documentos`.\n",
    "- **Normalization**:\n",
    "  - **1NF**: All attributes are atomic.\n",
    "  - **2NF**: No partial dependencies (all columns depend on `IdResultadoParentesco`).\n",
    "  - **3NF**: No transitive dependencies.\n",
    "- **RFP Alignment**:\n",
    "  - Supports detailed result storage, validation, and notification.\n",
    "  - Links to interveners, markers, and documents for forensic traceability.\n",
    "- **Relationships**:\n",
    "  - Many-to-one with `Intervinientes`, `MarcadoresGeneticos`, `Personal` (nullable), `PeticionesLin` (nullable), `Usuarios` (nullable), `Documentos` (nullable).\n",
    "  - One-to-many with `IndiceParentesco_Resultados` and `MarcadorComparisons`."
   ]
  },
  {
   "cell_type": "code",
   "execution_count": 0,
   "metadata": {
    "object_type": "Table",
    "urn": "Server[@Name='Windows10-Pepe']/Database[@Name='CEFEGEN']/Table[@Name='ResultadosParentesco' and @Schema='dbo']"
   },
   "outputs": [],
   "source": [
    "/****** Object:  Table [dbo].[ResultadosParentesco]    Script Date: 20/06/2025 18:08:55 ******/\n",
    "SET ANSI_NULLS ON\n",
    "GO\n",
    "SET QUOTED_IDENTIFIER ON\n",
    "GO\n",
    "CREATE TABLE [dbo].[ResultadosParentesco](\n",
    "\t[IdResultadoParentesco] [int] IDENTITY(1,1) NOT NULL,\n",
    "\t[IdInterviniente] [int] NOT NULL,\n",
    "\t[Alelo1] [nvarchar](50) NULL,\n",
    "\t[Alelo2] [nvarchar](50) NULL,\n",
    "\t[Resultado] [nvarchar](255) NULL,\n",
    "\t[FechaRegistro] [date] NOT NULL,\n",
    "\t[IdPersonalRegistro] [int] NULL,\n",
    "\t[IdLineaPeticion] [int] NULL,\n",
    "\t[IdMarcador] [int] NOT NULL,\n",
    "\t[ValidadoPor] [int] NULL,\n",
    "\t[EstadoValidacion] [nvarchar](50) NULL,\n",
    "\t[FechaValidacion] [datetime] NULL,\n",
    "\t[IdDocumento] [int] NULL,\n",
    "\t[Notificado] [bit] NOT NULL,\n",
    "\t[EstadoValidacionFinal] [nvarchar](50) NULL,\n",
    "\t[FechaResultado] [datetime] NULL,\n",
    "PRIMARY KEY CLUSTERED \n",
    "(\n",
    "\t[IdResultadoParentesco] ASC\n",
    ")WITH (PAD_INDEX = OFF, STATISTICS_NORECOMPUTE = OFF, IGNORE_DUP_KEY = OFF, ALLOW_ROW_LOCKS = ON, ALLOW_PAGE_LOCKS = ON, OPTIMIZE_FOR_SEQUENTIAL_KEY = OFF) ON [PRIMARY]\n",
    ") ON [PRIMARY]\n",
    "GO\n"
   ]
  },
  {
   "cell_type": "markdown",
   "metadata": {
    "object_type": "Table",
    "urn": "Server[@Name='Windows10-Pepe']/Database[@Name='CEFEGEN']/Table[@Name='MarcadoresGeneticos' and @Schema='dbo']"
   },
   "source": [
    "# [dbo].[MarcadoresGeneticos]"
   ]
  },
  {
   "cell_type": "code",
   "execution_count": 0,
   "metadata": {
    "object_type": "Table",
    "urn": "Server[@Name='Windows10-Pepe']/Database[@Name='CEFEGEN']/Table[@Name='MarcadoresGeneticos' and @Schema='dbo']"
   },
   "outputs": [],
   "source": [
    "/****** Object:  Table [dbo].[MarcadoresGeneticos]    Script Date: 20/06/2025 18:08:55 ******/\n",
    "SET ANSI_NULLS ON\n",
    "GO\n",
    "SET QUOTED_IDENTIFIER ON\n",
    "GO\n",
    "CREATE TABLE [dbo].[MarcadoresGeneticos](\n",
    "\t[IdMarcador] [int] IDENTITY(1,1) NOT NULL,\n",
    "\t[NombreMarcador] [nvarchar](100) NOT NULL,\n",
    "\t[Descripcion] [nvarchar](255) NULL,\n",
    "\t[Activo] [bit] NOT NULL,\n",
    "\t[FechaCreacion] [datetime] NOT NULL,\n",
    "PRIMARY KEY CLUSTERED \n",
    "(\n",
    "\t[IdMarcador] ASC\n",
    ")WITH (PAD_INDEX = OFF, STATISTICS_NORECOMPUTE = OFF, IGNORE_DUP_KEY = OFF, ALLOW_ROW_LOCKS = ON, ALLOW_PAGE_LOCKS = ON, OPTIMIZE_FOR_SEQUENTIAL_KEY = OFF) ON [PRIMARY],\n",
    "UNIQUE NONCLUSTERED \n",
    "(\n",
    "\t[NombreMarcador] ASC\n",
    ")WITH (PAD_INDEX = OFF, STATISTICS_NORECOMPUTE = OFF, IGNORE_DUP_KEY = OFF, ALLOW_ROW_LOCKS = ON, ALLOW_PAGE_LOCKS = ON, OPTIMIZE_FOR_SEQUENTIAL_KEY = OFF) ON [PRIMARY]\n",
    ") ON [PRIMARY]\n",
    "GO\n"
   ]
  },
  {
   "cell_type": "markdown",
   "metadata": {
    "object_type": "View",
    "urn": "Server[@Name='Windows10-Pepe']/Database[@Name='CEFEGEN']/View[@Name='vw_ReportePaternidadDetallado' and @Schema='dbo']"
   },
   "source": [
    "# [dbo].[vw_ReportePaternidadDetallado]"
   ]
  },
  {
   "cell_type": "code",
   "execution_count": 0,
   "metadata": {
    "object_type": "View",
    "urn": "Server[@Name='Windows10-Pepe']/Database[@Name='CEFEGEN']/View[@Name='vw_ReportePaternidadDetallado' and @Schema='dbo']"
   },
   "outputs": [],
   "source": [
    "/****** Object:  View [dbo].[vw_ReportePaternidadDetallado]    Script Date: 20/06/2025 18:08:55 ******/\n",
    "SET ANSI_NULLS ON\n",
    "GO\n",
    "SET QUOTED_IDENTIFIER ON\n",
    "GO\n",
    "CREATE   VIEW [dbo].[vw_ReportePaternidadDetallado]\n",
    "AS\n",
    "SELECT\n",
    "    s.IdSolicitud,\n",
    "    s.FechaSolicitud,\n",
    "    i1.Nombre AS NombreHijo,\n",
    "    i2.Nombre AS NombrePadre,\n",
    "    ip.IndiceCombinadoParentesco,\n",
    "    ip.LikelihoodRatio,\n",
    "    ip.ProbabilidadParentesco,\n",
    "    ip.Resultado,\n",
    "    ip.FechaAnalisis,\n",
    "    mg.NombreMarcador AS MarcadorGenetico,\n",
    "    rp1.Alelo1 AS Alelo1_Hijo,\n",
    "    rp1.Alelo2 AS Alelo2_Hijo,\n",
    "    rp2.Alelo1 AS Alelo1_Padre,\n",
    "    rp2.Alelo2 AS Alelo2_Padre\n",
    "FROM [dbo].[Solicitudes] s\n",
    "JOIN [dbo].[IndiceParentesco] ip ON s.IdSolicitud = ip.IdSolicitud\n",
    "JOIN [dbo].[PerfilesGeneticos] pg1 ON ip.IdPerfilGenetico1 = pg1.IdPerfilGenetico\n",
    "JOIN [dbo].[Intervinientes] i1 ON pg1.IdInterviniente = i1.IdInterviniente\n",
    "JOIN [dbo].[PerfilesGeneticos] pg2 ON ip.IdPerfilGenetico2 = pg2.IdPerfilGenetico\n",
    "JOIN [dbo].[Intervinientes] i2 ON pg2.IdInterviniente = i2.IdInterviniente\n",
    "JOIN [dbo].[ResultadosParentesco] rp1 ON i1.IdInterviniente = rp1.IdInterviniente\n",
    "JOIN [dbo].[ResultadosParentesco] rp2 ON i2.IdInterviniente = rp2.IdInterviniente AND rp1.IdMarcador = rp2.IdMarcador\n",
    "JOIN [dbo].[MarcadoresGeneticos] mg ON rp1.IdMarcador = mg.IdMarcador\n",
    "WHERE ip.TipoRelacion = 'Padre-Hijo';\n",
    "GO\n"
   ]
  },
  {
   "cell_type": "markdown",
   "metadata": {
    "object_type": "View",
    "urn": "Server[@Name='Windows10-Pepe']/Database[@Name='CEFEGEN']/View[@Name='vw_RankingLaboratoriosPorReferencias' and @Schema='dbo']"
   },
   "source": [
    "# [dbo].[vw_RankingLaboratoriosPorReferencias]"
   ]
  },
  {
   "cell_type": "code",
   "execution_count": 0,
   "metadata": {
    "object_type": "View",
    "urn": "Server[@Name='Windows10-Pepe']/Database[@Name='CEFEGEN']/View[@Name='vw_RankingLaboratoriosPorReferencias' and @Schema='dbo']"
   },
   "outputs": [],
   "source": [
    "/****** Object:  View [dbo].[vw_RankingLaboratoriosPorReferencias]    Script Date: 20/06/2025 18:08:55 ******/\n",
    "SET ANSI_NULLS ON\n",
    "GO\n",
    "SET QUOTED_IDENTIFIER ON\n",
    "GO\n",
    "\n",
    "-- 2.4. vw_RankingLaboratoriosPorReferencias (sin cambios)\n",
    "CREATE   VIEW [dbo].[vw_RankingLaboratoriosPorReferencias] AS\n",
    "SELECT\n",
    "    lc.IdLaboratorioColaborador,\n",
    "    lc.NombreFiscal,\n",
    "    lc.Contacto,\n",
    "    lc.Email,\n",
    "    COUNT(r.IdReferenciaPaciente) AS TotalReferencias,\n",
    "    MIN(r.FechaReferencia) AS PrimeraReferencia,\n",
    "    MAX(r.FechaReferencia) AS UltimaReferencia\n",
    "FROM dbo.ReferenciasPaciente r\n",
    "JOIN dbo.ReferenciaDetalles d ON r.IdReferenciaPaciente = d.IdReferenciaPaciente\n",
    "JOIN dbo.LaboratoriosColaboradores lc ON d.IdLaboratorioColaborador = lc.IdLaboratorioColaborador\n",
    "GROUP BY \n",
    "    lc.IdLaboratorioColaborador,\n",
    "    lc.NombreFiscal,\n",
    "    lc.Contacto,\n",
    "    lc.Email;\n",
    "GO\n"
   ]
  },
  {
   "cell_type": "markdown",
   "metadata": {
    "object_type": "Table",
    "urn": "Server[@Name='Windows10-Pepe']/Database[@Name='CEFEGEN']/Table[@Name='Usuarios' and @Schema='dbo']"
   },
   "source": [
    "# [dbo].[Usuarios]"
   ]
  },
  {
   "cell_type": "markdown",
   "metadata": {},
   "source": [
    "#### Table: Usuarios\n",
    "- **Purpose**: Stores user credentials and basic profile information for authentication and access control.\n",
    "- **Columns**:\n",
    "  - `IdUsuario`: Unique identifier (PK, auto-incremented).\n",
    "  - `NombreUsuario`: Unique username for login (UNIQUE constraint).\n",
    "  - `Email`: Unique email address for user identification and communication (UNIQUE constraint).\n",
    "  - `HashPassword`: Stores hashed password for secure authentication.\n",
    "  - `NombreCompleto`: Optional full name for display purposes.\n",
    "  - `Activo`: Boolean flag indicating active/inactive status (defaults to 1).\n",
    "  - `FechaCreacion`: Timestamp of user creation (defaults to current time).\n",
    "  - `FechaUltimoAcceso`: Timestamp of last login (nullable).\n",
    "- **Constraints**:\n",
    "  - `PK_Usuarios`: Primary key on `IdUsuario`.\n",
    "  - `UK_Usuarios_NombreUsuario`: Ensures unique usernames.\n",
    "  - `UK_Usuarios_Email`: Ensures unique email addresses.\n",
    "- **Normalization**:\n",
    "  - **1NF**: All attributes are atomic, and there are no repeating groups.\n",
    "  - **2NF**: No partial dependencies (all non-key attributes depend on `IdUsuario`).\n",
    "  - **3NF**: No transitive dependencies (all attributes directly depend on `IdUsuario`).\n",
    "- **RFP Alignment**:\n",
    "  - Supports user registration (`NombreUsuario`, `Email`, `HashPassword`).\n",
    "  - Enables authentication via `HashPassword` (to be used with JWT as per RFP).\n",
    "  - Tracks user status (`Activo`) and audit fields (`FechaCreacion`, `FechaUltimoAcceso`)."
   ]
  },
  {
   "cell_type": "code",
   "execution_count": 0,
   "metadata": {
    "object_type": "Table",
    "urn": "Server[@Name='Windows10-Pepe']/Database[@Name='CEFEGEN']/Table[@Name='Usuarios' and @Schema='dbo']"
   },
   "outputs": [],
   "source": [
    "/****** Object:  Table [dbo].[Usuarios]    Script Date: 20/06/2025 18:08:55 ******/\n",
    "SET ANSI_NULLS ON\n",
    "GO\n",
    "SET QUOTED_IDENTIFIER ON\n",
    "GO\n",
    "CREATE TABLE [dbo].[Usuarios](\n",
    "\t[IdUsuario] [int] IDENTITY(1,1) NOT NULL,\n",
    "\t[NombreUsuario] [nvarchar](50) NOT NULL,\n",
    "\t[NombreCompleto] [nvarchar](100) NULL,\n",
    "\t[Email] [nvarchar](100) NULL,\n",
    "\t[HashPassword] [nvarchar](255) NOT NULL,\n",
    "\t[Activo] [bit] NOT NULL,\n",
    "\t[CambiarPassword] [bit] NULL,\n",
    "\t[FechaCreacion] [datetime] NOT NULL,\n",
    "\t[FechaUltimoAcceso] [datetime] NULL,\n",
    "\t[IdRol] [int] NOT NULL,\n",
    "\t[IdPersonal] [int] NULL,\n",
    "\t[Observaciones] [nvarchar](max) NULL,\n",
    "PRIMARY KEY CLUSTERED \n",
    "(\n",
    "\t[IdUsuario] ASC\n",
    ")WITH (PAD_INDEX = OFF, STATISTICS_NORECOMPUTE = OFF, IGNORE_DUP_KEY = OFF, ALLOW_ROW_LOCKS = ON, ALLOW_PAGE_LOCKS = ON, OPTIMIZE_FOR_SEQUENTIAL_KEY = OFF) ON [PRIMARY],\n",
    "UNIQUE NONCLUSTERED \n",
    "(\n",
    "\t[NombreUsuario] ASC\n",
    ")WITH (PAD_INDEX = OFF, STATISTICS_NORECOMPUTE = OFF, IGNORE_DUP_KEY = OFF, ALLOW_ROW_LOCKS = ON, ALLOW_PAGE_LOCKS = ON, OPTIMIZE_FOR_SEQUENTIAL_KEY = OFF) ON [PRIMARY]\n",
    ") ON [PRIMARY] TEXTIMAGE_ON [PRIMARY]\n",
    "GO\n"
   ]
  },
  {
   "cell_type": "markdown",
   "metadata": {
    "object_type": "Table",
    "urn": "Server[@Name='Windows10-Pepe']/Database[@Name='CEFEGEN']/Table[@Name='AuditoriasCalidad' and @Schema='dbo']"
   },
   "source": [
    "# [dbo].[AuditoriasCalidad]"
   ]
  },
  {
   "cell_type": "code",
   "execution_count": 0,
   "metadata": {
    "object_type": "Table",
    "urn": "Server[@Name='Windows10-Pepe']/Database[@Name='CEFEGEN']/Table[@Name='AuditoriasCalidad' and @Schema='dbo']"
   },
   "outputs": [],
   "source": [
    "/****** Object:  Table [dbo].[AuditoriasCalidad]    Script Date: 20/06/2025 18:08:55 ******/\n",
    "SET ANSI_NULLS ON\n",
    "GO\n",
    "SET QUOTED_IDENTIFIER ON\n",
    "GO\n",
    "CREATE TABLE [dbo].[AuditoriasCalidad](\n",
    "\t[IdAuditoria] [int] IDENTITY(1,1) NOT NULL,\n",
    "\t[TipoAuditoria] [nvarchar](50) NOT NULL,\n",
    "\t[FechaAuditoria] [datetime] NOT NULL,\n",
    "\t[Resultado] [nvarchar](100) NOT NULL,\n",
    "\t[Observaciones] [nvarchar](max) NULL,\n",
    "\t[Documento] [varbinary](max) NULL,\n",
    "\t[NombreArchivo] [nvarchar](255) NULL,\n",
    "\t[IdUsuarioResponsable] [int] NOT NULL,\n",
    "\t[FechaCreacion] [datetime] NOT NULL,\n",
    "PRIMARY KEY CLUSTERED \n",
    "(\n",
    "\t[IdAuditoria] ASC\n",
    ")WITH (PAD_INDEX = OFF, STATISTICS_NORECOMPUTE = OFF, IGNORE_DUP_KEY = OFF, ALLOW_ROW_LOCKS = ON, ALLOW_PAGE_LOCKS = ON, OPTIMIZE_FOR_SEQUENTIAL_KEY = OFF) ON [PRIMARY]\n",
    ") ON [PRIMARY] TEXTIMAGE_ON [PRIMARY]\n",
    "GO\n"
   ]
  },
  {
   "cell_type": "markdown",
   "metadata": {
    "object_type": "Table",
    "urn": "Server[@Name='Windows10-Pepe']/Database[@Name='CEFEGEN']/Table[@Name='Acreditaciones' and @Schema='dbo']"
   },
   "source": [
    "# [dbo].[Acreditaciones]"
   ]
  },
  {
   "cell_type": "code",
   "execution_count": 0,
   "metadata": {
    "object_type": "Table",
    "urn": "Server[@Name='Windows10-Pepe']/Database[@Name='CEFEGEN']/Table[@Name='Acreditaciones' and @Schema='dbo']"
   },
   "outputs": [],
   "source": [
    "/****** Object:  Table [dbo].[Acreditaciones]    Script Date: 20/06/2025 18:08:55 ******/\n",
    "SET ANSI_NULLS ON\n",
    "GO\n",
    "SET QUOTED_IDENTIFIER ON\n",
    "GO\n",
    "CREATE TABLE [dbo].[Acreditaciones](\n",
    "\t[IdAcreditacion] [int] IDENTITY(1,1) NOT NULL,\n",
    "\t[Nombre] [nvarchar](100) NOT NULL,\n",
    "\t[EntidadAcreditadora] [nvarchar](100) NOT NULL,\n",
    "\t[FechaEmision] [date] NOT NULL,\n",
    "\t[FechaExpiracion] [date] NOT NULL,\n",
    "\t[Estado] [nvarchar](50) NOT NULL,\n",
    "\t[NombreArchivo] [nvarchar](100) NOT NULL,\n",
    "\t[IdUsuarioRegistro] [int] NOT NULL,\n",
    "\t[FechaCreacion] [datetime] NOT NULL,\n",
    "\t[ArchivoReferencia] [nvarchar](50) NULL,\n",
    "\t[IdTipoDocumento] [int] NOT NULL,\n",
    "\t[EsConfidencial] [bit] NOT NULL,\n",
    "\t[HashDocumento] [nvarchar](64) NULL,\n",
    "PRIMARY KEY CLUSTERED \n",
    "(\n",
    "\t[IdAcreditacion] ASC\n",
    ")WITH (PAD_INDEX = OFF, STATISTICS_NORECOMPUTE = OFF, IGNORE_DUP_KEY = OFF, ALLOW_ROW_LOCKS = ON, ALLOW_PAGE_LOCKS = ON, OPTIMIZE_FOR_SEQUENTIAL_KEY = OFF) ON [PRIMARY]\n",
    ") ON [PRIMARY]\n",
    "GO\n"
   ]
  },
  {
   "cell_type": "markdown",
   "metadata": {
    "object_type": "Table",
    "urn": "Server[@Name='Windows10-Pepe']/Database[@Name='CEFEGEN']/Table[@Name='ValidacionesResultado' and @Schema='dbo']"
   },
   "source": [
    "# [dbo].[ValidacionesResultado]"
   ]
  },
  {
   "cell_type": "code",
   "execution_count": 0,
   "metadata": {
    "object_type": "Table",
    "urn": "Server[@Name='Windows10-Pepe']/Database[@Name='CEFEGEN']/Table[@Name='ValidacionesResultado' and @Schema='dbo']"
   },
   "outputs": [],
   "source": [
    "/****** Object:  Table [dbo].[ValidacionesResultado]    Script Date: 20/06/2025 18:08:55 ******/\n",
    "SET ANSI_NULLS ON\n",
    "GO\n",
    "SET QUOTED_IDENTIFIER ON\n",
    "GO\n",
    "CREATE TABLE [dbo].[ValidacionesResultado](\n",
    "\t[IdValidacion] [int] IDENTITY(1,1) NOT NULL,\n",
    "\t[IdResultado] [int] NOT NULL,\n",
    "\t[TipoResultado] [nvarchar](50) NOT NULL,\n",
    "\t[IdUsuarioValidador] [int] NOT NULL,\n",
    "\t[EstadoValidacion] [nvarchar](50) NOT NULL,\n",
    "\t[Observaciones] [nvarchar](max) NULL,\n",
    "\t[FechaValidacion] [datetime] NOT NULL,\n",
    "\t[NivelValidacion] [int] NOT NULL,\n",
    "\t[EsFinal] [bit] NOT NULL,\n",
    "PRIMARY KEY CLUSTERED \n",
    "(\n",
    "\t[IdValidacion] ASC\n",
    ")WITH (PAD_INDEX = OFF, STATISTICS_NORECOMPUTE = OFF, IGNORE_DUP_KEY = OFF, ALLOW_ROW_LOCKS = ON, ALLOW_PAGE_LOCKS = ON, OPTIMIZE_FOR_SEQUENTIAL_KEY = OFF) ON [PRIMARY]\n",
    ") ON [PRIMARY] TEXTIMAGE_ON [PRIMARY]\n",
    "GO\n"
   ]
  },
  {
   "cell_type": "markdown",
   "metadata": {
    "object_type": "View",
    "urn": "Server[@Name='Windows10-Pepe']/Database[@Name='CEFEGEN']/View[@Name='vw_InformeCumplimientoCalidad' and @Schema='dbo']"
   },
   "source": [
    "# [dbo].[vw_InformeCumplimientoCalidad]"
   ]
  },
  {
   "cell_type": "code",
   "execution_count": 0,
   "metadata": {
    "object_type": "View",
    "urn": "Server[@Name='Windows10-Pepe']/Database[@Name='CEFEGEN']/View[@Name='vw_InformeCumplimientoCalidad' and @Schema='dbo']"
   },
   "outputs": [],
   "source": [
    "/****** Object:  View [dbo].[vw_InformeCumplimientoCalidad]    Script Date: 20/06/2025 18:08:55 ******/\n",
    "SET ANSI_NULLS ON\n",
    "GO\n",
    "SET QUOTED_IDENTIFIER ON\n",
    "GO\n",
    "CREATE VIEW [dbo].[vw_InformeCumplimientoCalidad]\n",
    "AS\n",
    "SELECT \n",
    "    'Auditorías' AS TipoRegistro,\n",
    "    ac.IdAuditoria AS IdRegistro,\n",
    "    ac.TipoAuditoria AS Descripcion,\n",
    "    ac.FechaAuditoria AS Fecha,\n",
    "    ac.Resultado AS Estado,\n",
    "    u.NombreCompleto AS Responsable,\n",
    "    ac.Observaciones\n",
    "FROM [dbo].[AuditoriasCalidad] ac\n",
    "JOIN [dbo].[Usuarios] u ON ac.IdUsuarioResponsable = u.IdUsuario\n",
    "UNION ALL\n",
    "SELECT \n",
    "    'Acreditaciones' AS TipoRegistro,\n",
    "    a.IdAcreditacion AS IdRegistro,\n",
    "    a.Nombre + ' (' + a.EntidadAcreditadora + ')' AS Descripcion,\n",
    "    a.FechaEmision AS Fecha,\n",
    "    a.Estado AS Estado,\n",
    "    u.NombreCompleto AS Responsable,\n",
    "    NULL AS Observaciones\n",
    "FROM [dbo].[Acreditaciones] a\n",
    "JOIN [dbo].[Usuarios] u ON a.IdUsuarioRegistro = u.IdUsuario\n",
    "UNION ALL\n",
    "SELECT \n",
    "    'Validaciones' AS TipoRegistro,\n",
    "    vr.IdValidacion AS IdRegistro,\n",
    "    vr.TipoResultado + ' (IdResultado: ' + CAST(vr.IdResultado AS NVARCHAR(10)) + ')' AS Descripcion,\n",
    "    vr.FechaValidacion AS Fecha,\n",
    "    vr.EstadoValidacion AS Estado,\n",
    "    u.NombreCompleto AS Responsable,\n",
    "    vr.Observaciones\n",
    "FROM [dbo].[ValidacionesResultado] vr\n",
    "JOIN [dbo].[Usuarios] u ON vr.IdUsuarioValidador = u.IdUsuario;\n",
    "GO\n"
   ]
  },
  {
   "cell_type": "markdown",
   "metadata": {
    "object_type": "Table",
    "urn": "Server[@Name='Windows10-Pepe']/Database[@Name='CEFEGEN']/Table[@Name='TiposDocumentos' and @Schema='dbo']"
   },
   "source": [
    "# [dbo].[TiposDocumentos]"
   ]
  },
  {
   "cell_type": "markdown",
   "metadata": {},
   "source": [
    "## Stores physical files (or their references) with metadata (e.g., name, path, type, associated entity).\n",
    "[Documentos]: Stores final documents (uploaded or generated files, such as PDFs, images).\n",
    "\n",
    "IdEntidad is a generic foreign key that identifies a record in a specific table (e.g., [Solicitudes], [Facturas]).\n",
    "\n",
    "IdEntidadTipo is a FK to [Entidades].IdEntidadTipo, defining the entity type (e.g., \"Solicitudes\", \"Facturas\").\n",
    "\n",
    "In [Documentos], IdEntidad points to a record in a table defined by [Entidades] (e.g., IsSolicitud in [Solicitudes]).\n",
    "\n",
    "IdEntidad is a value explicitly assigned by the stored procedure (e.g., [sp_ManageDocument], [sp_GestionarResultado], [sp_GestionarFacturacion]) or the backend (FastAPI/Django), based on the unique identifier of the associated entity.\n",
    "Typical Flow:\n",
    "Context: The system identifies the entity to which the document is associated (e.g., a request with RequestId = 50).\n",
    "Obtaining the EntityId: The value is obtained from:\n",
    "A parameter provided by the frontend (e.g., entity_id in an endpoint).\n",
    "A value calculated in a procedure (e.g., SCOPE_IDENTITY() after inserting into [Invoices]).\n",
    "Obtaining IdEntidadTipo: [Entidades] is queried for the entity type.\n"
   ]
  },
  {
   "cell_type": "code",
   "execution_count": 0,
   "metadata": {
    "object_type": "Table",
    "urn": "Server[@Name='Windows10-Pepe']/Database[@Name='CEFEGEN']/Table[@Name='TiposDocumentos' and @Schema='dbo']"
   },
   "outputs": [],
   "source": [
    "/****** Object:  Table [dbo].[TiposDocumentos]    Script Date: 20/06/2025 18:08:55 ******/\n",
    "SET ANSI_NULLS ON\n",
    "GO\n",
    "SET QUOTED_IDENTIFIER ON\n",
    "GO\n",
    "CREATE TABLE [dbo].[TiposDocumentos](\n",
    "\t[IdTipoDocumento] [int] IDENTITY(1,1) NOT NULL,\n",
    "\t[Nombre] [nvarchar](100) NOT NULL,\n",
    "\t[Descripcion] [nvarchar](255) NULL,\n",
    "\t[RequiereAprobacion] [bit] NOT NULL,\n",
    "\t[FormatosPermitidos] [nvarchar](100) NULL,\n",
    "\t[TamanhoMaximoMB] [decimal](5, 2) NULL,\n",
    "\t[Activo] [bit] NOT NULL,\n",
    "PRIMARY KEY CLUSTERED \n",
    "(\n",
    "\t[IdTipoDocumento] ASC\n",
    ")WITH (PAD_INDEX = OFF, STATISTICS_NORECOMPUTE = OFF, IGNORE_DUP_KEY = OFF, ALLOW_ROW_LOCKS = ON, ALLOW_PAGE_LOCKS = ON, OPTIMIZE_FOR_SEQUENTIAL_KEY = OFF) ON [PRIMARY],\n",
    "UNIQUE NONCLUSTERED \n",
    "(\n",
    "\t[Nombre] ASC\n",
    ")WITH (PAD_INDEX = OFF, STATISTICS_NORECOMPUTE = OFF, IGNORE_DUP_KEY = OFF, ALLOW_ROW_LOCKS = ON, ALLOW_PAGE_LOCKS = ON, OPTIMIZE_FOR_SEQUENTIAL_KEY = OFF) ON [PRIMARY]\n",
    ") ON [PRIMARY]\n",
    "GO\n"
   ]
  },
  {
   "cell_type": "markdown",
   "metadata": {
    "object_type": "Table",
    "urn": "Server[@Name='Windows10-Pepe']/Database[@Name='CEFEGEN']/Table[@Name='Entidades' and @Schema='dbo']"
   },
   "source": [
    "# [dbo].[Entidades]"
   ]
  },
  {
   "cell_type": "code",
   "execution_count": 0,
   "metadata": {
    "object_type": "Table",
    "urn": "Server[@Name='Windows10-Pepe']/Database[@Name='CEFEGEN']/Table[@Name='Entidades' and @Schema='dbo']"
   },
   "outputs": [],
   "source": [
    "/****** Object:  Table [dbo].[Entidades]    Script Date: 20/06/2025 18:08:55 ******/\n",
    "SET ANSI_NULLS ON\n",
    "GO\n",
    "SET QUOTED_IDENTIFIER ON\n",
    "GO\n",
    "CREATE TABLE [dbo].[Entidades](\n",
    "\t[IdEntidadTipo] [int] IDENTITY(1,1) NOT NULL,\n",
    "\t[Nombre] [nvarchar](50) NOT NULL,\n",
    "\t[Descripcion] [nvarchar](255) NULL,\n",
    "PRIMARY KEY CLUSTERED \n",
    "(\n",
    "\t[IdEntidadTipo] ASC\n",
    ")WITH (PAD_INDEX = OFF, STATISTICS_NORECOMPUTE = OFF, IGNORE_DUP_KEY = OFF, ALLOW_ROW_LOCKS = ON, ALLOW_PAGE_LOCKS = ON, OPTIMIZE_FOR_SEQUENTIAL_KEY = OFF) ON [PRIMARY],\n",
    "UNIQUE NONCLUSTERED \n",
    "(\n",
    "\t[Nombre] ASC\n",
    ")WITH (PAD_INDEX = OFF, STATISTICS_NORECOMPUTE = OFF, IGNORE_DUP_KEY = OFF, ALLOW_ROW_LOCKS = ON, ALLOW_PAGE_LOCKS = ON, OPTIMIZE_FOR_SEQUENTIAL_KEY = OFF) ON [PRIMARY]\n",
    ") ON [PRIMARY]\n",
    "GO\n"
   ]
  },
  {
   "cell_type": "markdown",
   "metadata": {
    "object_type": "Table",
    "urn": "Server[@Name='Windows10-Pepe']/Database[@Name='CEFEGEN']/Table[@Name='Solicitantes' and @Schema='dbo']"
   },
   "source": [
    "# [dbo].[Solicitantes]"
   ]
  },
  {
   "cell_type": "markdown",
   "metadata": {},
   "source": [
    "#### Table: Solicitantes\n",
    "- **Purpose**: Stores requesters initiating DNA test requests.\n",
    "- **Columns**:\n",
    "  - `IdSolicitante`: Unique identifier (PK, auto-incremented).\n",
    "  - `Nombre`: Name of the requester.\n",
    "  - `Email`: Contact email (nullable).\n",
    "  - `Telefono`: Contact phone (nullable).\n",
    "  - `AutorizaPortal`: Boolean flag for portal access (defaults to 0).\n",
    "  - `IdIdiomaPreferido`: FK to `Idiomas`, for multilingual support (nullable).\n",
    "- **Constraints**:\n",
    "  - `PK_Solicitantes`: Primary key on `IdSolicitante`.\n",
    "  - `FK_Solicitantes_Idiomas`: Links to `Idiomas`.\n",
    "- **Normalization**:\n",
    "  - **1NF**: All attributes are atomic.\n",
    "  - **2NF**: No partial dependencies.\n",
    "  - **3NF**: No transitive dependencies.\n",
    "- **RFP Alignment**:\n",
    "  - Supports requester registration and portal integration (`AutorizaPortal`).\n",
    "  - Enables multilingual support via `IdIdiomaPreferido`.\n",
    "- **Relationships**:\n",
    "  - Many-to-many with `Solicitudes` via `SolicitudesSolicitantes`.\n",
    "  - One-to-many with `UsuariosPortal`.\n",
    "**Notes**: Supports RFP’s solicitante management and portal access (Addendum 2). Links to solicitations via `SolicitudesSolicitantes`."
   ]
  },
  {
   "cell_type": "code",
   "execution_count": 0,
   "metadata": {
    "object_type": "Table",
    "urn": "Server[@Name='Windows10-Pepe']/Database[@Name='CEFEGEN']/Table[@Name='Solicitantes' and @Schema='dbo']"
   },
   "outputs": [],
   "source": [
    "/****** Object:  Table [dbo].[Solicitantes]    Script Date: 20/06/2025 18:08:55 ******/\n",
    "SET ANSI_NULLS ON\n",
    "GO\n",
    "SET QUOTED_IDENTIFIER ON\n",
    "GO\n",
    "CREATE TABLE [dbo].[Solicitantes](\n",
    "\t[IdSolicitante] [int] IDENTITY(1,1) NOT NULL,\n",
    "\t[NumeroDocumento] [nvarchar](20) NOT NULL,\n",
    "\t[Nombre] [nvarchar](100) NOT NULL,\n",
    "\t[Apellidos] [nvarchar](150) NOT NULL,\n",
    "\t[FechaNacimiento] [date] NULL,\n",
    "\t[Sexo] [char](1) NULL,\n",
    "\t[Telefono] [nvarchar](20) NOT NULL,\n",
    "\t[Telefono2] [nvarchar](20) NULL,\n",
    "\t[Email] [nvarchar](100) NOT NULL,\n",
    "\t[IdTipoReferencia] [int] NOT NULL,\n",
    "\t[DetalleReferencia] [nvarchar](255) NULL,\n",
    "\t[FechaAlta] [date] NOT NULL,\n",
    "\t[IdLaboratorioColaborador] [int] NULL,\n",
    "\t[IdMedico] [int] NULL,\n",
    "\t[CodigoAsegurado] [nvarchar](30) NULL,\n",
    "\t[IdTarifa] [int] NULL,\n",
    "\t[IdFormaPago] [int] NULL,\n",
    "\t[Descuento] [float] NULL,\n",
    "\t[AutorizaEnvioResultados] [bit] NOT NULL,\n",
    "\t[UrlPDFEnvioResultados] [nvarchar](255) NULL,\n",
    "\t[Bloquear] [bit] NOT NULL,\n",
    "\t[Nollamar] [bit] NOT NULL,\n",
    "\t[EnviarEmail] [bit] NOT NULL,\n",
    "\t[EnviarEmailPet] [bit] NOT NULL,\n",
    "\t[EnviarEmailFac] [bit] NOT NULL,\n",
    "\t[EnviarEmailNotif] [bit] NOT NULL,\n",
    "\t[IdDireccion] [int] NULL,\n",
    "\t[IdTipoDocumento] [int] NOT NULL,\n",
    "\t[IdIdiomaPreferido] [char](2) NULL,\n",
    "\t[AutorizaPortal] [bit] NOT NULL,\n",
    "\t[PrefiereSMS] [bit] NOT NULL,\n",
    "\t[TelefonoSMS] [nvarchar](20) NULL,\n",
    "\t[RepresentanteLegal] [bit] NOT NULL,\n",
    " CONSTRAINT [PK_Solicitantes] PRIMARY KEY CLUSTERED \n",
    "(\n",
    "\t[IdSolicitante] ASC\n",
    ")WITH (PAD_INDEX = OFF, STATISTICS_NORECOMPUTE = OFF, IGNORE_DUP_KEY = OFF, ALLOW_ROW_LOCKS = ON, ALLOW_PAGE_LOCKS = ON, OPTIMIZE_FOR_SEQUENTIAL_KEY = OFF) ON [PRIMARY],\n",
    " CONSTRAINT [UQ_Solicitantes] UNIQUE NONCLUSTERED \n",
    "(\n",
    "\t[NumeroDocumento] ASC\n",
    ")WITH (PAD_INDEX = OFF, STATISTICS_NORECOMPUTE = OFF, IGNORE_DUP_KEY = OFF, ALLOW_ROW_LOCKS = ON, ALLOW_PAGE_LOCKS = ON, OPTIMIZE_FOR_SEQUENTIAL_KEY = OFF) ON [PRIMARY]\n",
    ") ON [PRIMARY]\n",
    "GO\n"
   ]
  },
  {
   "cell_type": "markdown",
   "metadata": {
    "object_type": "Table",
    "urn": "Server[@Name='Windows10-Pepe']/Database[@Name='CEFEGEN']/Table[@Name='Documentos' and @Schema='dbo']"
   },
   "source": [
    "# [dbo].[Documentos]"
   ]
  },
  {
   "cell_type": "code",
   "execution_count": 0,
   "metadata": {
    "object_type": "Table",
    "urn": "Server[@Name='Windows10-Pepe']/Database[@Name='CEFEGEN']/Table[@Name='Documentos' and @Schema='dbo']"
   },
   "outputs": [],
   "source": [
    "/****** Object:  Table [dbo].[Documentos]    Script Date: 20/06/2025 18:08:55 ******/\n",
    "SET ANSI_NULLS ON\n",
    "GO\n",
    "SET QUOTED_IDENTIFIER ON\n",
    "GO\n",
    "CREATE TABLE [dbo].[Documentos](\n",
    "\t[IdDocumento] [int] IDENTITY(1,1) NOT NULL,\n",
    "\t[IdEntidad] [int] NOT NULL,\n",
    "\t[NombreArchivo] [nvarchar](255) NULL,\n",
    "\t[ArchivoReferencia] [nvarchar](50) NOT NULL,\n",
    "\t[Extension] [nvarchar](10) NULL,\n",
    "\t[TamanoKB] [int] NULL,\n",
    "\t[FechaSubida] [datetime] NOT NULL,\n",
    "\t[SubidoPor] [int] NULL,\n",
    "\t[Comentarios] [nvarchar](max) NULL,\n",
    "\t[IdTipoDocumento] [int] NULL,\n",
    "\t[IdEntidadTipo] [int] NULL,\n",
    "\t[EsConfidencial] [bit] NOT NULL,\n",
    "\t[FechaExpiracion] [datetime] NULL,\n",
    "\t[HashDocumento] [nvarchar](256) NULL,\n",
    "PRIMARY KEY CLUSTERED \n",
    "(\n",
    "\t[IdDocumento] ASC\n",
    ")WITH (PAD_INDEX = OFF, STATISTICS_NORECOMPUTE = OFF, IGNORE_DUP_KEY = OFF, ALLOW_ROW_LOCKS = ON, ALLOW_PAGE_LOCKS = ON, OPTIMIZE_FOR_SEQUENTIAL_KEY = OFF) ON [PRIMARY]\n",
    ") ON [PRIMARY] TEXTIMAGE_ON [PRIMARY]\n",
    "GO\n"
   ]
  },
  {
   "cell_type": "markdown",
   "metadata": {
    "object_type": "View",
    "urn": "Server[@Name='Windows10-Pepe']/Database[@Name='CEFEGEN']/View[@Name='vw_DocumentosPorSolicitante' and @Schema='dbo']"
   },
   "source": [
    "# [dbo].[vw_DocumentosPorSolicitante]"
   ]
  },
  {
   "cell_type": "code",
   "execution_count": 0,
   "metadata": {
    "object_type": "View",
    "urn": "Server[@Name='Windows10-Pepe']/Database[@Name='CEFEGEN']/View[@Name='vw_DocumentosPorSolicitante' and @Schema='dbo']"
   },
   "outputs": [],
   "source": [
    "/****** Object:  View [dbo].[vw_DocumentosPorSolicitante]    Script Date: 20/06/2025 18:08:55 ******/\n",
    "SET ANSI_NULLS ON\n",
    "GO\n",
    "SET QUOTED_IDENTIFIER ON\n",
    "GO\n",
    "\n",
    "-- 2.8. vw_DocumentosPorSolicitante (renombrada y actualizada)\n",
    "CREATE   VIEW [dbo].[vw_DocumentosPorSolicitante] AS\n",
    "SELECT\n",
    "    d.IdDocumento,\n",
    "    d.IdEntidad AS IdSolicitante,\n",
    "    s.Nombre + ' ' + s.Apellidos AS NombreSolicitante,\n",
    "    td.Nombre AS TipoDocumento,\n",
    "    d.NombreArchivo,\n",
    "    d.RutaArchivo,\n",
    "    d.FechaSubida,\n",
    "    d.Comentarios\n",
    "FROM dbo.Documentos d\n",
    "JOIN dbo.Entidades e ON d.IdEntidadTipo = e.IdEntidadTipo\n",
    "JOIN dbo.TiposDocumentos td ON d.IdTipoDocumento = td.IdTipoDocumento\n",
    "JOIN dbo.Solicitantes s ON e.Nombre = 'Solicitantes' AND d.IdEntidad = s.IdSolicitante;\n",
    "GO\n"
   ]
  },
  {
   "cell_type": "markdown",
   "metadata": {
    "object_type": "Table",
    "urn": "Server[@Name='Windows10-Pepe']/Database[@Name='CEFEGEN']/Table[@Name='NotificacionesSMS' and @Schema='dbo']"
   },
   "source": [
    "# [dbo].[NotificacionesSMS]"
   ]
  },
  {
   "cell_type": "code",
   "execution_count": 0,
   "metadata": {
    "object_type": "Table",
    "urn": "Server[@Name='Windows10-Pepe']/Database[@Name='CEFEGEN']/Table[@Name='NotificacionesSMS' and @Schema='dbo']"
   },
   "outputs": [],
   "source": [
    "/****** Object:  Table [dbo].[NotificacionesSMS]    Script Date: 20/06/2025 18:08:55 ******/\n",
    "SET ANSI_NULLS ON\n",
    "GO\n",
    "SET QUOTED_IDENTIFIER ON\n",
    "GO\n",
    "CREATE TABLE [dbo].[NotificacionesSMS](\n",
    "\t[IdNotificacionSMS] [int] IDENTITY(1,1) NOT NULL,\n",
    "\t[IdSolicitud] [int] NULL,\n",
    "\t[TelefonoDestinatario] [nvarchar](20) NOT NULL,\n",
    "\t[Mensaje] [nvarchar](160) NOT NULL,\n",
    "\t[Estado] [nvarchar](50) NOT NULL,\n",
    "\t[FechaEnvio] [datetime] NOT NULL,\n",
    "\t[IdUsuario] [int] NULL,\n",
    "\t[IdExterno] [nvarchar](100) NULL,\n",
    "PRIMARY KEY CLUSTERED \n",
    "(\n",
    "\t[IdNotificacionSMS] ASC\n",
    ")WITH (PAD_INDEX = OFF, STATISTICS_NORECOMPUTE = OFF, IGNORE_DUP_KEY = OFF, ALLOW_ROW_LOCKS = ON, ALLOW_PAGE_LOCKS = ON, OPTIMIZE_FOR_SEQUENTIAL_KEY = OFF) ON [PRIMARY]\n",
    ") ON [PRIMARY]\n",
    "GO\n"
   ]
  },
  {
   "cell_type": "markdown",
   "metadata": {
    "object_type": "Table",
    "urn": "Server[@Name='Windows10-Pepe']/Database[@Name='CEFEGEN']/Table[@Name='Envios' and @Schema='dbo']"
   },
   "source": [
    "# [dbo].[Envios]"
   ]
  },
  {
   "cell_type": "code",
   "execution_count": 0,
   "metadata": {
    "object_type": "Table",
    "urn": "Server[@Name='Windows10-Pepe']/Database[@Name='CEFEGEN']/Table[@Name='Envios' and @Schema='dbo']"
   },
   "outputs": [],
   "source": [
    "/****** Object:  Table [dbo].[Envios]    Script Date: 20/06/2025 18:08:55 ******/\n",
    "SET ANSI_NULLS ON\n",
    "GO\n",
    "SET QUOTED_IDENTIFIER ON\n",
    "GO\n",
    "CREATE TABLE [dbo].[Envios](\n",
    "\t[IdEnvio] [int] IDENTITY(1,1) NOT NULL,\n",
    "\t[Fecha] [datetime2](7) NOT NULL,\n",
    "\t[FechaEnviado] [datetime2](7) NULL,\n",
    "\t[Asunto] [nvarchar](100) NULL,\n",
    "\t[Cuerpo] [nvarchar](max) NULL,\n",
    "\t[CodLaboratorioColaborador] [int] NULL,\n",
    "\t[CodMedico] [int] NULL,\n",
    "\t[CodPaciente] [int] NULL,\n",
    "\t[TipoEnvio] [smallint] NOT NULL,\n",
    "\t[CodGrupoEnvio] [int] NULL,\n",
    "\t[RegistroEnvio] [nvarchar](max) NULL,\n",
    "\t[Relaciones] [nvarchar](max) NULL,\n",
    "\t[Parametros] [nvarchar](max) NULL,\n",
    "\t[Estado] [bit] NOT NULL,\n",
    "\t[TipoNotificacion] [nvarchar](50) NULL,\n",
    "\t[IdExterno] [nvarchar](100) NULL,\n",
    "PRIMARY KEY CLUSTERED \n",
    "(\n",
    "\t[IdEnvio] ASC\n",
    ")WITH (PAD_INDEX = OFF, STATISTICS_NORECOMPUTE = OFF, IGNORE_DUP_KEY = OFF, ALLOW_ROW_LOCKS = ON, ALLOW_PAGE_LOCKS = ON, OPTIMIZE_FOR_SEQUENTIAL_KEY = OFF) ON [PRIMARY]\n",
    ") ON [PRIMARY] TEXTIMAGE_ON [PRIMARY]\n",
    "GO\n"
   ]
  },
  {
   "cell_type": "markdown",
   "metadata": {
    "object_type": "Table",
    "urn": "Server[@Name='Windows10-Pepe']/Database[@Name='CEFEGEN']/Table[@Name='DestinatariosEnvio' and @Schema='dbo']"
   },
   "source": [
    "# [dbo].[DestinatariosEnvio]"
   ]
  },
  {
   "cell_type": "code",
   "execution_count": 0,
   "metadata": {
    "object_type": "Table",
    "urn": "Server[@Name='Windows10-Pepe']/Database[@Name='CEFEGEN']/Table[@Name='DestinatariosEnvio' and @Schema='dbo']"
   },
   "outputs": [],
   "source": [
    "/****** Object:  Table [dbo].[DestinatariosEnvio]    Script Date: 20/06/2025 18:08:55 ******/\n",
    "SET ANSI_NULLS ON\n",
    "GO\n",
    "SET QUOTED_IDENTIFIER ON\n",
    "GO\n",
    "CREATE TABLE [dbo].[DestinatariosEnvio](\n",
    "\t[IdDestinatario] [int] IDENTITY(1,1) NOT NULL,\n",
    "\t[IdEnvio] [int] NOT NULL,\n",
    "\t[Email] [nvarchar](255) NULL,\n",
    "\t[Tipo] [nvarchar](10) NULL,\n",
    "PRIMARY KEY CLUSTERED \n",
    "(\n",
    "\t[IdDestinatario] ASC\n",
    ")WITH (PAD_INDEX = OFF, STATISTICS_NORECOMPUTE = OFF, IGNORE_DUP_KEY = OFF, ALLOW_ROW_LOCKS = ON, ALLOW_PAGE_LOCKS = ON, OPTIMIZE_FOR_SEQUENTIAL_KEY = OFF) ON [PRIMARY]\n",
    ") ON [PRIMARY]\n",
    "GO\n"
   ]
  },
  {
   "cell_type": "markdown",
   "metadata": {
    "object_type": "View",
    "urn": "Server[@Name='Windows10-Pepe']/Database[@Name='CEFEGEN']/View[@Name='vw_HistorialNotificaciones' and @Schema='dbo']"
   },
   "source": [
    "# [dbo].[vw_HistorialNotificaciones]"
   ]
  },
  {
   "cell_type": "code",
   "execution_count": 0,
   "metadata": {
    "object_type": "View",
    "urn": "Server[@Name='Windows10-Pepe']/Database[@Name='CEFEGEN']/View[@Name='vw_HistorialNotificaciones' and @Schema='dbo']"
   },
   "outputs": [],
   "source": [
    "/****** Object:  View [dbo].[vw_HistorialNotificaciones]    Script Date: 20/06/2025 18:08:55 ******/\n",
    "SET ANSI_NULLS ON\n",
    "GO\n",
    "SET QUOTED_IDENTIFIER ON\n",
    "GO\n",
    "CREATE   VIEW [dbo].[vw_HistorialNotificaciones]\n",
    "AS\n",
    "SELECT \n",
    "    'Email' AS Canal,\n",
    "    e.IdEnvio AS IdRegistro,\n",
    "    e.TipoNotificacion AS TipoNotificacion,\n",
    "    e.Asunto,\n",
    "    e.Cuerpo AS Mensaje,\n",
    "    d.Email AS Destinatario,\n",
    "    e.Fecha AS FechaCreacion,\n",
    "    CASE \n",
    "        WHEN e.Estado = 1 THEN 'Enviado'\n",
    "        WHEN e.Estado = 0 THEN 'Fallido'\n",
    "        ELSE 'Unknown'\n",
    "    END AS Estado, -- Cast bit to nvarchar\n",
    "    s.IdSolicitud,\n",
    "    NULL AS Responsable\n",
    "FROM [dbo].[Envios] e\n",
    "JOIN [dbo].[DestinatariosEnvio] d ON e.IdEnvio = d.IdEnvio\n",
    "LEFT JOIN [dbo].[Solicitudes] s ON e.CodPaciente = s.IdSolicitante\n",
    "UNION ALL\n",
    "SELECT \n",
    "    'SMS' AS Canal,\n",
    "    ns.IdNotificacionSMS AS IdRegistro,\n",
    "    NULL AS TipoNotificacion,\n",
    "    NULL AS Asunto,\n",
    "    ns.Mensaje,\n",
    "    ns.TelefonoDestinatario AS Destinatario,\n",
    "    ns.FechaEnvio AS FechaCreacion,\n",
    "    ns.Estado, -- Already nvarchar\n",
    "    ns.IdSolicitud,\n",
    "    u.NombreCompleto AS Responsable\n",
    "FROM [dbo].[NotificacionesSMS] ns\n",
    "LEFT JOIN [dbo].[Solicitudes] s ON ns.IdSolicitud = s.IdSolicitud\n",
    "LEFT JOIN [dbo].[Usuarios] u ON ns.IdUsuario = u.IdUsuario;\n",
    "GO\n"
   ]
  },
  {
   "cell_type": "markdown",
   "metadata": {
    "object_type": "Table",
    "urn": "Server[@Name='Windows10-Pepe']/Database[@Name='CEFEGEN']/Table[@Name='Empresas' and @Schema='dbo']"
   },
   "source": [
    "# [dbo].[Empresas]"
   ]
  },
  {
   "cell_type": "code",
   "execution_count": 0,
   "metadata": {
    "object_type": "Table",
    "urn": "Server[@Name='Windows10-Pepe']/Database[@Name='CEFEGEN']/Table[@Name='Empresas' and @Schema='dbo']"
   },
   "outputs": [],
   "source": [
    "/****** Object:  Table [dbo].[Empresas]    Script Date: 20/06/2025 18:08:55 ******/\n",
    "SET ANSI_NULLS ON\n",
    "GO\n",
    "SET QUOTED_IDENTIFIER ON\n",
    "GO\n",
    "CREATE TABLE [dbo].[Empresas](\n",
    "\t[IdEmpresa] [int] IDENTITY(1,1) NOT NULL,\n",
    "\t[NombreFiscal] [nvarchar](100) NOT NULL,\n",
    "\t[NombreComercial] [nvarchar](100) NOT NULL,\n",
    "\t[CIF] [nvarchar](20) NULL,\n",
    "\t[CodigoAlternativo] [nvarchar](30) NULL,\n",
    "\t[Contacto] [nvarchar](100) NULL,\n",
    "\t[Telefono] [nvarchar](20) NULL,\n",
    "\t[Telefono2] [nvarchar](20) NULL,\n",
    "\t[Email] [nvarchar](100) NULL,\n",
    "\t[Web] [nvarchar](100) NULL,\n",
    "\t[IdActividad] [int] NULL,\n",
    "\t[IdAvisoTecnico] [int] NULL,\n",
    "\t[IdAvisoAdmon] [int] NULL,\n",
    "\t[IdAvisoFacturacion] [int] NULL,\n",
    "\t[IdAvisoInternas] [int] NULL,\n",
    "\t[IdLaboratorioColaborador] [int] NULL,\n",
    "\t[CCC] [nvarchar](30) NULL,\n",
    "\t[EnviarEmailVarbinaryMax] [smallint] NOT NULL,\n",
    "\t[EnviarEmailNotifResNoConf] [smallint] NOT NULL,\n",
    "\t[Parametros] [nvarchar](max) NULL,\n",
    "\t[MembreteEmpresa] [smallint] NULL,\n",
    "\t[Bloquear] [bit] NOT NULL,\n",
    "\t[CrearFichero] [bit] NOT NULL,\n",
    "\t[ExportarWeb] [bit] NOT NULL,\n",
    "\t[EnviarEmail] [bit] NOT NULL,\n",
    "\t[EnviarEmailPet] [bit] NOT NULL,\n",
    "\t[EnviarEmailFac] [bit] NOT NULL,\n",
    "\t[EnviarEmailNotif] [bit] NOT NULL,\n",
    "\t[IdDireccion] [int] NULL,\n",
    "PRIMARY KEY CLUSTERED \n",
    "(\n",
    "\t[IdEmpresa] ASC\n",
    ")WITH (PAD_INDEX = OFF, STATISTICS_NORECOMPUTE = OFF, IGNORE_DUP_KEY = OFF, ALLOW_ROW_LOCKS = ON, ALLOW_PAGE_LOCKS = ON, OPTIMIZE_FOR_SEQUENTIAL_KEY = OFF) ON [PRIMARY]\n",
    ") ON [PRIMARY] TEXTIMAGE_ON [PRIMARY]\n",
    "GO\n"
   ]
  },
  {
   "cell_type": "markdown",
   "metadata": {
    "object_type": "Table",
    "urn": "Server[@Name='Windows10-Pepe']/Database[@Name='CEFEGEN']/Table[@Name='Recibos' and @Schema='dbo']"
   },
   "source": [
    "# [dbo].[Recibos]"
   ]
  },
  {
   "cell_type": "code",
   "execution_count": 0,
   "metadata": {
    "object_type": "Table",
    "urn": "Server[@Name='Windows10-Pepe']/Database[@Name='CEFEGEN']/Table[@Name='Recibos' and @Schema='dbo']"
   },
   "outputs": [],
   "source": [
    "/****** Object:  Table [dbo].[Recibos]    Script Date: 20/06/2025 18:08:55 ******/\n",
    "SET ANSI_NULLS ON\n",
    "GO\n",
    "SET QUOTED_IDENTIFIER ON\n",
    "GO\n",
    "CREATE TABLE [dbo].[Recibos](\n",
    "\t[IdRecibo] [int] IDENTITY(1,1) NOT NULL,\n",
    "\t[CodigoRecibo] [nvarchar](50) NOT NULL,\n",
    "\t[Descripcion] [nvarchar](255) NULL,\n",
    "\t[DescripcionLarga] [nvarchar](max) NULL,\n",
    "\t[Importe] [decimal](18, 2) NOT NULL,\n",
    "\t[FechaRecibo] [date] NULL,\n",
    "\t[FechaPago] [date] NULL,\n",
    "\t[FechaVencimiento] [date] NULL,\n",
    "\t[EstadoRecibo] [nvarchar](50) NULL,\n",
    "\t[TipoRecibo] [nvarchar](50) NULL,\n",
    "\t[Pagado] [bit] NULL,\n",
    "\t[SepaMandatoId] [nvarchar](50) NULL,\n",
    "\t[SepaMandatoFecha] [date] NULL,\n",
    "\t[NombreDeudor] [nvarchar](255) NULL,\n",
    "\t[IdFactura] [int] NULL,\n",
    "\t[IdEmpresa] [int] NULL,\n",
    "\t[IdCliente] [int] NULL,\n",
    "\t[IdSolicitante] [int] NULL,\n",
    "\t[IdFormaPago] [int] NULL,\n",
    "\t[IdRemesa] [int] NULL,\n",
    "\t[CuentaBanco] [nvarchar](100) NULL,\n",
    "\t[SwiftBanco] [nvarchar](100) NULL,\n",
    "\t[NotasInternas] [nvarchar](max) NULL,\n",
    "\t[Parametros] [nvarchar](max) NULL,\n",
    "PRIMARY KEY CLUSTERED \n",
    "(\n",
    "\t[IdRecibo] ASC\n",
    ")WITH (PAD_INDEX = OFF, STATISTICS_NORECOMPUTE = OFF, IGNORE_DUP_KEY = OFF, ALLOW_ROW_LOCKS = ON, ALLOW_PAGE_LOCKS = ON, OPTIMIZE_FOR_SEQUENTIAL_KEY = OFF) ON [PRIMARY],\n",
    "UNIQUE NONCLUSTERED \n",
    "(\n",
    "\t[CodigoRecibo] ASC\n",
    ")WITH (PAD_INDEX = OFF, STATISTICS_NORECOMPUTE = OFF, IGNORE_DUP_KEY = OFF, ALLOW_ROW_LOCKS = ON, ALLOW_PAGE_LOCKS = ON, OPTIMIZE_FOR_SEQUENTIAL_KEY = OFF) ON [PRIMARY]\n",
    ") ON [PRIMARY] TEXTIMAGE_ON [PRIMARY]\n",
    "GO\n"
   ]
  },
  {
   "cell_type": "markdown",
   "metadata": {
    "object_type": "Table",
    "urn": "Server[@Name='Windows10-Pepe']/Database[@Name='CEFEGEN']/Table[@Name='RecibosPagos' and @Schema='dbo']"
   },
   "source": [
    "# [dbo].[RecibosPagos]"
   ]
  },
  {
   "cell_type": "code",
   "execution_count": 0,
   "metadata": {
    "object_type": "Table",
    "urn": "Server[@Name='Windows10-Pepe']/Database[@Name='CEFEGEN']/Table[@Name='RecibosPagos' and @Schema='dbo']"
   },
   "outputs": [],
   "source": [
    "/****** Object:  Table [dbo].[RecibosPagos]    Script Date: 20/06/2025 18:08:55 ******/\n",
    "SET ANSI_NULLS ON\n",
    "GO\n",
    "SET QUOTED_IDENTIFIER ON\n",
    "GO\n",
    "CREATE TABLE [dbo].[RecibosPagos](\n",
    "\t[IdReciboPago] [int] IDENTITY(1,1) NOT NULL,\n",
    "\t[IdRecibo] [int] NOT NULL,\n",
    "\t[Importe] [decimal](18, 2) NOT NULL,\n",
    "\t[FechaPago] [datetime] NOT NULL,\n",
    "\t[Descripcion] [nvarchar](255) NULL,\n",
    "\t[IdPersonalRegistro] [int] NULL,\n",
    "\t[IdFormaPago] [int] NULL,\n",
    "PRIMARY KEY CLUSTERED \n",
    "(\n",
    "\t[IdReciboPago] ASC\n",
    ")WITH (PAD_INDEX = OFF, STATISTICS_NORECOMPUTE = OFF, IGNORE_DUP_KEY = OFF, ALLOW_ROW_LOCKS = ON, ALLOW_PAGE_LOCKS = ON, OPTIMIZE_FOR_SEQUENTIAL_KEY = OFF) ON [PRIMARY]\n",
    ") ON [PRIMARY]\n",
    "GO\n"
   ]
  },
  {
   "cell_type": "markdown",
   "metadata": {
    "object_type": "Table",
    "urn": "Server[@Name='Windows10-Pepe']/Database[@Name='CEFEGEN']/Table[@Name='Facturas' and @Schema='dbo']"
   },
   "source": [
    "# [dbo].[Facturas]"
   ]
  },
  {
   "cell_type": "code",
   "execution_count": 0,
   "metadata": {
    "object_type": "Table",
    "urn": "Server[@Name='Windows10-Pepe']/Database[@Name='CEFEGEN']/Table[@Name='Facturas' and @Schema='dbo']"
   },
   "outputs": [],
   "source": [
    "/****** Object:  Table [dbo].[Facturas]    Script Date: 20/06/2025 18:08:55 ******/\n",
    "SET ANSI_NULLS ON\n",
    "GO\n",
    "SET QUOTED_IDENTIFIER ON\n",
    "GO\n",
    "CREATE TABLE [dbo].[Facturas](\n",
    "\t[IdFactura] [int] IDENTITY(1,1) NOT NULL,\n",
    "\t[IdSociedad] [int] NOT NULL,\n",
    "\t[EjercicioFactura] [int] NOT NULL,\n",
    "\t[IdSerieFactura] [int] NOT NULL,\n",
    "\t[NumeroFactura] [int] NOT NULL,\n",
    "\t[FechaFactura] [datetime2](7) NOT NULL,\n",
    "\t[IdLaboratorioColaborador] [int] NULL,\n",
    "\t[IdSolicitante] [int] NULL,\n",
    "\t[NombreFiscal] [nvarchar](100) NOT NULL,\n",
    "\t[NombreComercial] [nvarchar](100) NULL,\n",
    "\t[CIF] [nvarchar](20) NULL,\n",
    "\t[Telefono] [nvarchar](20) NULL,\n",
    "\t[Telefono2] [nvarchar](20) NULL,\n",
    "\t[Email] [nvarchar](100) NULL,\n",
    "\t[IdEmpresa] [int] NULL,\n",
    "\t[IdTarifa] [int] NULL,\n",
    "\t[CoeficienteTarifa] [float] NOT NULL,\n",
    "\t[IdIVA1] [int] NULL,\n",
    "\t[IdIVA2] [int] NULL,\n",
    "\t[IdIVA3] [int] NULL,\n",
    "\t[IVA1] [float] NOT NULL,\n",
    "\t[IVA2] [float] NOT NULL,\n",
    "\t[IVA3] [float] NOT NULL,\n",
    "\t[Base1] [float] NOT NULL,\n",
    "\t[Base2] [float] NOT NULL,\n",
    "\t[Base3] [float] NOT NULL,\n",
    "\t[ImporteTotal] [float] NOT NULL,\n",
    "\t[Descuento] [float] NOT NULL,\n",
    "\t[Incremento] [float] NOT NULL,\n",
    "\t[IRPF] [float] NOT NULL,\n",
    "\t[PagoCuenta] [float] NOT NULL,\n",
    "\t[Tarifa] [float] NOT NULL,\n",
    "\t[IdFormaPago] [int] NULL,\n",
    "\t[Vencimientos] [nvarchar](max) NULL,\n",
    "\t[TipoCambio] [float] NOT NULL,\n",
    "\t[FechaCambio] [datetime2](7) NULL,\n",
    "\t[DescripcionAbono] [nvarchar](max) NULL,\n",
    "\t[Parametros] [nvarchar](max) NULL,\n",
    "\t[NotasFacturacion] [nvarchar](max) NULL,\n",
    "\t[IdAvisoFacturacion] [int] NULL,\n",
    "\t[NotasInternas] [nvarchar](max) NULL,\n",
    "\t[IdAvisoInternas] [int] NULL,\n",
    "\t[IdDireccion] [int] NULL,\n",
    "\t[EstadoFactura] [nvarchar](50) NULL,\n",
    "PRIMARY KEY CLUSTERED \n",
    "(\n",
    "\t[IdFactura] ASC\n",
    ")WITH (PAD_INDEX = OFF, STATISTICS_NORECOMPUTE = OFF, IGNORE_DUP_KEY = OFF, ALLOW_ROW_LOCKS = ON, ALLOW_PAGE_LOCKS = ON, OPTIMIZE_FOR_SEQUENTIAL_KEY = OFF) ON [PRIMARY],\n",
    " CONSTRAINT [UQ_Factura_Numero] UNIQUE NONCLUSTERED \n",
    "(\n",
    "\t[IdSociedad] ASC,\n",
    "\t[EjercicioFactura] ASC,\n",
    "\t[IdSerieFactura] ASC,\n",
    "\t[NumeroFactura] ASC\n",
    ")WITH (PAD_INDEX = OFF, STATISTICS_NORECOMPUTE = OFF, IGNORE_DUP_KEY = OFF, ALLOW_ROW_LOCKS = ON, ALLOW_PAGE_LOCKS = ON, OPTIMIZE_FOR_SEQUENTIAL_KEY = OFF) ON [PRIMARY]\n",
    ") ON [PRIMARY] TEXTIMAGE_ON [PRIMARY]\n",
    "GO\n"
   ]
  },
  {
   "cell_type": "markdown",
   "metadata": {
    "object_type": "View",
    "urn": "Server[@Name='Windows10-Pepe']/Database[@Name='CEFEGEN']/View[@Name='vw_FacturasImpagadas' and @Schema='dbo']"
   },
   "source": [
    "# [dbo].[vw_FacturasImpagadas]"
   ]
  },
  {
   "cell_type": "code",
   "execution_count": 0,
   "metadata": {
    "object_type": "View",
    "urn": "Server[@Name='Windows10-Pepe']/Database[@Name='CEFEGEN']/View[@Name='vw_FacturasImpagadas' and @Schema='dbo']"
   },
   "outputs": [],
   "source": [
    "/****** Object:  View [dbo].[vw_FacturasImpagadas]    Script Date: 20/06/2025 18:08:55 ******/\n",
    "SET ANSI_NULLS ON\n",
    "GO\n",
    "SET QUOTED_IDENTIFIER ON\n",
    "GO\n",
    "\n",
    "-- 2.5. vw_FacturasImpagadas (sin cambio en el nombre, actualizada para Solicitantes)\n",
    "CREATE   VIEW [dbo].[vw_FacturasImpagadas] AS\n",
    "SELECT \n",
    "    f.IdFactura,\n",
    "    f.NumeroFactura,\n",
    "    f.FechaFactura,\n",
    "    f.ImporteTotal,\n",
    "    ISNULL(SUM(rp.Importe), 0) AS ImportePagado,\n",
    "    (f.ImporteTotal - ISNULL(SUM(rp.Importe), 0)) AS SaldoPendiente,\n",
    "    f.EstadoFactura,\n",
    "    f.IdEmpresa,\n",
    "    e.NombreComercial AS EmpresaEmisora,\n",
    "    lc.NombreFiscal AS NombreCliente,\n",
    "    s.Nombre + ' ' + s.Apellidos AS NombreSolicitante\n",
    "FROM dbo.Facturas f\n",
    "LEFT JOIN dbo.Recibos r ON f.IdFactura = r.IdFactura\n",
    "LEFT JOIN dbo.RecibosPagos rp ON r.IdRecibo = rp.IdRecibo\n",
    "LEFT JOIN dbo.Solicitantes s ON f.IdSolicitante = s.IdSolicitante\n",
    "LEFT JOIN dbo.LaboratoriosColaboradores lc ON f.IdLaboratorioColaborador = lc.IdLaboratorioColaborador\n",
    "LEFT JOIN dbo.Empresas e ON f.IdEmpresa = e.IdEmpresa\n",
    "WHERE f.EstadoFactura <> 'Anulada'\n",
    "GROUP BY \n",
    "    f.IdFactura, f.NumeroFactura, f.FechaFactura, f.ImporteTotal,\n",
    "    f.EstadoFactura, f.IdEmpresa, e.NombreComercial,\n",
    "    lc.NombreFiscal, s.Nombre, s.Apellidos\n",
    "HAVING (f.ImporteTotal - ISNULL(SUM(rp.Importe), 0)) > 0;\n",
    "GO\n"
   ]
  },
  {
   "cell_type": "markdown",
   "metadata": {
    "object_type": "View",
    "urn": "Server[@Name='Windows10-Pepe']/Database[@Name='CEFEGEN']/View[@Name='vw_ReportePaternidad' and @Schema='dbo']"
   },
   "source": [
    "# [dbo].[vw_ReportePaternidad]"
   ]
  },
  {
   "cell_type": "code",
   "execution_count": 0,
   "metadata": {
    "object_type": "View",
    "urn": "Server[@Name='Windows10-Pepe']/Database[@Name='CEFEGEN']/View[@Name='vw_ReportePaternidad' and @Schema='dbo']"
   },
   "outputs": [],
   "source": [
    "/****** Object:  View [dbo].[vw_ReportePaternidad]    Script Date: 20/06/2025 18:08:55 ******/\n",
    "SET ANSI_NULLS ON\n",
    "GO\n",
    "SET QUOTED_IDENTIFIER ON\n",
    "GO\n",
    "CREATE VIEW [dbo].[vw_ReportePaternidad]\n",
    "AS\n",
    "SELECT\n",
    "    s.IdSolicitud,\n",
    "    s.FechaSolicitud,\n",
    "    i1.Nombre AS NombreHijo,\n",
    "    i2.Nombre AS NombrePadre,\n",
    "    ip.IndiceCombinadoParentesco,\n",
    "    ip.LikelihoodRatio,\n",
    "    ip.ProbabilidadParentesco,\n",
    "    ip.Resultado,\n",
    "    ip.FechaAnalisis\n",
    "FROM [dbo].[Solicitudes] s\n",
    "JOIN [dbo].[IndiceParentesco] ip ON s.IdSolicitud = ip.IdSolicitud\n",
    "JOIN [dbo].[PerfilesGeneticos] pg1 ON ip.IdPerfilGenetico1 = pg1.IdPerfilGenetico\n",
    "JOIN [dbo].[Intervinientes] i1 ON pg1.IdInterviniente = i1.IdInterviniente\n",
    "JOIN [dbo].[PerfilesGeneticos] pg2 ON ip.IdPerfilGenetico2 = pg2.IdPerfilGenetico\n",
    "JOIN [dbo].[Intervinientes] i2 ON pg2.IdInterviniente = i2.IdInterviniente\n",
    "WHERE ip.TipoRelacion = 'Padre-Hijo';\n",
    "GO\n"
   ]
  },
  {
   "cell_type": "markdown",
   "metadata": {
    "object_type": "Table",
    "urn": "Server[@Name='Windows10-Pepe']/Database[@Name='CEFEGEN']/Table[@Name='Medicos' and @Schema='dbo']"
   },
   "source": [
    "# [dbo].[Medicos]"
   ]
  },
  {
   "cell_type": "code",
   "execution_count": 0,
   "metadata": {
    "object_type": "Table",
    "urn": "Server[@Name='Windows10-Pepe']/Database[@Name='CEFEGEN']/Table[@Name='Medicos' and @Schema='dbo']"
   },
   "outputs": [],
   "source": [
    "/****** Object:  Table [dbo].[Medicos]    Script Date: 20/06/2025 18:08:55 ******/\n",
    "SET ANSI_NULLS ON\n",
    "GO\n",
    "SET QUOTED_IDENTIFIER ON\n",
    "GO\n",
    "CREATE TABLE [dbo].[Medicos](\n",
    "\t[IdMedico] [int] IDENTITY(1,1) NOT NULL,\n",
    "\t[NombreMedico] [nvarchar](100) NOT NULL,\n",
    "\t[NombreComercial] [nvarchar](100) NULL,\n",
    "\t[CIF] [nvarchar](20) NULL,\n",
    "\t[CodMedicoA] [nvarchar](30) NULL,\n",
    "\t[Contacto] [nvarchar](100) NULL,\n",
    "\t[Telefono] [nvarchar](20) NULL,\n",
    "\t[Telefono2] [nvarchar](20) NULL,\n",
    "\t[Email] [nvarchar](100) NULL,\n",
    "\t[Web] [nvarchar](100) NULL,\n",
    "\t[IdActividad] [int] NULL,\n",
    "\t[NotasTecnico] [nvarchar](max) NULL,\n",
    "\t[NotasAdmon] [nvarchar](max) NULL,\n",
    "\t[NotasFacturacion] [nvarchar](max) NULL,\n",
    "\t[NotasInternas] [nvarchar](max) NULL,\n",
    "\t[Bloquear] [bit] NOT NULL,\n",
    "\t[EnviarEmail] [bit] NOT NULL,\n",
    "\t[EnviarEmailPet] [bit] NOT NULL,\n",
    "\t[EnviarEmailNotif] [bit] NOT NULL,\n",
    "\t[IdDireccion] [int] NULL,\n",
    "PRIMARY KEY CLUSTERED \n",
    "(\n",
    "\t[IdMedico] ASC\n",
    ")WITH (PAD_INDEX = OFF, STATISTICS_NORECOMPUTE = OFF, IGNORE_DUP_KEY = OFF, ALLOW_ROW_LOCKS = ON, ALLOW_PAGE_LOCKS = ON, OPTIMIZE_FOR_SEQUENTIAL_KEY = OFF) ON [PRIMARY]\n",
    ") ON [PRIMARY] TEXTIMAGE_ON [PRIMARY]\n",
    "GO\n"
   ]
  },
  {
   "cell_type": "markdown",
   "metadata": {
    "object_type": "Table",
    "urn": "Server[@Name='Windows10-Pepe']/Database[@Name='CEFEGEN']/Table[@Name='TiposReferencia' and @Schema='dbo']"
   },
   "source": [
    "# [dbo].[TiposReferencia]"
   ]
  },
  {
   "cell_type": "code",
   "execution_count": 0,
   "metadata": {
    "object_type": "Table",
    "urn": "Server[@Name='Windows10-Pepe']/Database[@Name='CEFEGEN']/Table[@Name='TiposReferencia' and @Schema='dbo']"
   },
   "outputs": [],
   "source": [
    "/****** Object:  Table [dbo].[TiposReferencia]    Script Date: 20/06/2025 18:08:55 ******/\n",
    "SET ANSI_NULLS ON\n",
    "GO\n",
    "SET QUOTED_IDENTIFIER ON\n",
    "GO\n",
    "CREATE TABLE [dbo].[TiposReferencia](\n",
    "\t[IdTipoReferencia] [int] IDENTITY(1,1) NOT NULL,\n",
    "\t[Nombre] [nvarchar](100) NOT NULL,\n",
    "PRIMARY KEY CLUSTERED \n",
    "(\n",
    "\t[IdTipoReferencia] ASC\n",
    ")WITH (PAD_INDEX = OFF, STATISTICS_NORECOMPUTE = OFF, IGNORE_DUP_KEY = OFF, ALLOW_ROW_LOCKS = ON, ALLOW_PAGE_LOCKS = ON, OPTIMIZE_FOR_SEQUENTIAL_KEY = OFF) ON [PRIMARY],\n",
    "UNIQUE NONCLUSTERED \n",
    "(\n",
    "\t[Nombre] ASC\n",
    ")WITH (PAD_INDEX = OFF, STATISTICS_NORECOMPUTE = OFF, IGNORE_DUP_KEY = OFF, ALLOW_ROW_LOCKS = ON, ALLOW_PAGE_LOCKS = ON, OPTIMIZE_FOR_SEQUENTIAL_KEY = OFF) ON [PRIMARY]\n",
    ") ON [PRIMARY]\n",
    "GO\n"
   ]
  },
  {
   "cell_type": "markdown",
   "metadata": {
    "object_type": "Table",
    "urn": "Server[@Name='Windows10-Pepe']/Database[@Name='CEFEGEN']/Table[@Name='Campanias' and @Schema='dbo']"
   },
   "source": [
    "# [dbo].[Campanias]"
   ]
  },
  {
   "cell_type": "code",
   "execution_count": 0,
   "metadata": {
    "object_type": "Table",
    "urn": "Server[@Name='Windows10-Pepe']/Database[@Name='CEFEGEN']/Table[@Name='Campanias' and @Schema='dbo']"
   },
   "outputs": [],
   "source": [
    "/****** Object:  Table [dbo].[Campanias]    Script Date: 20/06/2025 18:08:55 ******/\n",
    "SET ANSI_NULLS ON\n",
    "GO\n",
    "SET QUOTED_IDENTIFIER ON\n",
    "GO\n",
    "CREATE TABLE [dbo].[Campanias](\n",
    "\t[IdCampaniaMarketing] [int] IDENTITY(1,1) NOT NULL,\n",
    "\t[Nombre] [nvarchar](100) NOT NULL,\n",
    "\t[Tipo] [nvarchar](50) NULL,\n",
    "\t[FechaInicio] [date] NULL,\n",
    "\t[FechaFin] [date] NULL,\n",
    "\t[Activa] [bit] NOT NULL,\n",
    "\t[Observaciones] [nvarchar](max) NULL,\n",
    "PRIMARY KEY CLUSTERED \n",
    "(\n",
    "\t[IdCampaniaMarketing] ASC\n",
    ")WITH (PAD_INDEX = OFF, STATISTICS_NORECOMPUTE = OFF, IGNORE_DUP_KEY = OFF, ALLOW_ROW_LOCKS = ON, ALLOW_PAGE_LOCKS = ON, OPTIMIZE_FOR_SEQUENTIAL_KEY = OFF) ON [PRIMARY]\n",
    ") ON [PRIMARY] TEXTIMAGE_ON [PRIMARY]\n",
    "GO\n"
   ]
  },
  {
   "cell_type": "markdown",
   "metadata": {
    "object_type": "Table",
    "urn": "Server[@Name='Windows10-Pepe']/Database[@Name='CEFEGEN']/Table[@Name='Abogados' and @Schema='dbo']"
   },
   "source": [
    "# [dbo].[Abogados]"
   ]
  },
  {
   "cell_type": "code",
   "execution_count": 0,
   "metadata": {
    "object_type": "Table",
    "urn": "Server[@Name='Windows10-Pepe']/Database[@Name='CEFEGEN']/Table[@Name='Abogados' and @Schema='dbo']"
   },
   "outputs": [],
   "source": [
    "/****** Object:  Table [dbo].[Abogados]    Script Date: 20/06/2025 18:08:55 ******/\n",
    "SET ANSI_NULLS ON\n",
    "GO\n",
    "SET QUOTED_IDENTIFIER ON\n",
    "GO\n",
    "CREATE TABLE [dbo].[Abogados](\n",
    "\t[IdAbogado] [int] IDENTITY(1,1) NOT NULL,\n",
    "\t[Nombre] [nvarchar](100) NOT NULL,\n",
    "\t[CIF] [nvarchar](20) NULL,\n",
    "\t[Email] [nvarchar](100) NULL,\n",
    "\t[Telefono] [nvarchar](20) NULL,\n",
    "\t[Observaciones] [nvarchar](max) NULL,\n",
    "\t[IdDireccion] [int] NULL,\n",
    "PRIMARY KEY CLUSTERED \n",
    "(\n",
    "\t[IdAbogado] ASC\n",
    ")WITH (PAD_INDEX = OFF, STATISTICS_NORECOMPUTE = OFF, IGNORE_DUP_KEY = OFF, ALLOW_ROW_LOCKS = ON, ALLOW_PAGE_LOCKS = ON, OPTIMIZE_FOR_SEQUENTIAL_KEY = OFF) ON [PRIMARY]\n",
    ") ON [PRIMARY] TEXTIMAGE_ON [PRIMARY]\n",
    "GO\n"
   ]
  },
  {
   "cell_type": "markdown",
   "metadata": {
    "object_type": "View",
    "urn": "Server[@Name='Windows10-Pepe']/Database[@Name='CEFEGEN']/View[@Name='vw_ReferenciasSolicitantePorPeriodo' and @Schema='dbo']"
   },
   "source": [
    "# [dbo].[vw_ReferenciasSolicitantePorPeriodo]"
   ]
  },
  {
   "cell_type": "code",
   "execution_count": 0,
   "metadata": {
    "object_type": "View",
    "urn": "Server[@Name='Windows10-Pepe']/Database[@Name='CEFEGEN']/View[@Name='vw_ReferenciasSolicitantePorPeriodo' and @Schema='dbo']"
   },
   "outputs": [],
   "source": [
    "/****** Object:  View [dbo].[vw_ReferenciasSolicitantePorPeriodo]    Script Date: 20/06/2025 18:08:55 ******/\n",
    "SET ANSI_NULLS ON\n",
    "GO\n",
    "SET QUOTED_IDENTIFIER ON\n",
    "GO\n",
    "\n",
    "-- 2.7. vw_ReferenciasSolicitantePorPeriodo (renombrada y actualizada)\n",
    "CREATE   VIEW [dbo].[vw_ReferenciasSolicitantePorPeriodo] AS\n",
    "SELECT\n",
    "    r.IdReferenciaPaciente,\n",
    "    r.IdSolicitante,\n",
    "    s.Nombre + ' ' + s.Apellidos AS NombreSolicitante,\n",
    "    r.FechaReferencia,\n",
    "    t.Nombre AS TipoReferencia,\n",
    "    r.Descripcion,\n",
    "    d.IdLaboratorioColaborador,\n",
    "    l.NombreFiscal AS NombreLaboratorio,\n",
    "    d.IdMedico,\n",
    "    m.NombreMedico,\n",
    "    d.IdCampaniaMarketing,\n",
    "    c.Nombre AS NombreCampania,\n",
    "    d.IdAbogado,\n",
    "    a.Nombre AS NombreAbogado\n",
    "FROM dbo.ReferenciasPaciente r\n",
    "JOIN dbo.TiposReferencia t ON r.IdTipoReferencia = t.IdTipoReferencia\n",
    "JOIN dbo.Solicitantes s ON r.IdSolicitante = s.IdSolicitante\n",
    "LEFT JOIN dbo.ReferenciaDetalles d ON r.IdReferenciaPaciente = d.IdReferenciaPaciente\n",
    "LEFT JOIN dbo.LaboratoriosColaboradores l ON d.IdLaboratorioColaborador = l.IdLaboratorioColaborador\n",
    "LEFT JOIN dbo.Medicos m ON d.IdMedico = m.IdMedico\n",
    "LEFT JOIN dbo.Campanias c ON d.IdCampaniaMarketing = c.IdCampaniaMarketing\n",
    "LEFT JOIN dbo.Abogados a ON d.IdAbogado = a.IdAbogado;\n",
    "GO\n"
   ]
  },
  {
   "cell_type": "markdown",
   "metadata": {
    "object_type": "View",
    "urn": "Server[@Name='Windows10-Pepe']/Database[@Name='CEFEGEN']/View[@Name='vw_OrigenGeograficoSolicitantes' and @Schema='dbo']"
   },
   "source": [
    "# [dbo].[vw_OrigenGeograficoSolicitantes]"
   ]
  },
  {
   "cell_type": "code",
   "execution_count": 0,
   "metadata": {
    "object_type": "View",
    "urn": "Server[@Name='Windows10-Pepe']/Database[@Name='CEFEGEN']/View[@Name='vw_OrigenGeograficoSolicitantes' and @Schema='dbo']"
   },
   "outputs": [],
   "source": [
    "/****** Object:  View [dbo].[vw_OrigenGeograficoSolicitantes]    Script Date: 20/06/2025 18:08:55 ******/\n",
    "SET ANSI_NULLS ON\n",
    "GO\n",
    "SET QUOTED_IDENTIFIER ON\n",
    "GO\n",
    "\n",
    "-- 2.6. vw_OrigenGeograficoSolicitantes (renombrada y actualizada)\n",
    "CREATE   VIEW [dbo].[vw_OrigenGeograficoSolicitantes] AS\n",
    "SELECT\n",
    "    s.IdSolicitante,\n",
    "    s.FechaAlta,\n",
    "    COALESCE(d.ProvinciaTexto, pr.Nombre) AS Provincia,\n",
    "    COALESCE(d.MunicipioTexto, po.Nombre) AS Municipio,\n",
    "    COALESCE(d.CodigoPostalTexto, d.CodigoPostal) AS CodigoPostal,\n",
    "    d.CodigoPais\n",
    "FROM dbo.Solicitantes s\n",
    "LEFT JOIN dbo.Direcciones d ON s.IdDireccion = d.IdDireccion\n",
    "LEFT JOIN dbo.Provincias pr ON d.CodigoProvincia = pr.CodigoProvincia\n",
    "LEFT JOIN dbo.Poblaciones po ON d.CodigoMunicipio = po.CodigoMunicipio;\n",
    "GO\n"
   ]
  },
  {
   "cell_type": "markdown",
   "metadata": {
    "object_type": "Table",
    "urn": "Server[@Name='Windows10-Pepe']/Database[@Name='CEFEGEN']/Table[@Name='PeticionesLin' and @Schema='dbo']"
   },
   "source": [
    "# [dbo].[PeticionesLin]"
   ]
  },
  {
   "cell_type": "markdown",
   "metadata": {},
   "source": [
    "#### Table: PeticionesLin\n",
    "- **Purpose**: Details specific tests within a petition.\n",
    "- **Columns**:\n",
    "  - `IdPeticionLin`: Unique identifier (PK, auto-incremented).\n",
    "  - `IdPeticion`: FK to `Peticiones`.\n",
    "  - `IdTipoPruebaConsumo`: FK to `TiposPruebasConsumo`.\n",
    "  - `Cantidad`: Number of tests (defaults to 1).\n",
    "  - `Observaciones`: Optional notes.\n",
    "- **Constraints**:\n",
    "  - `PK_PeticionesLin`: Primary key on `IdPeticionLin`.\n",
    "  - FKs to `Peticiones` and `TiposPruebasConsumo`.\n",
    "- **Normalization**:\n",
    "  - **1NF**: All attributes are atomic.\n",
    "  - **2NF**: No partial dependencies.\n",
    "  - **3NF**: No transitive dependencies.\n",
    "- **RFP Alignment**:\n",
    "  - Supports detailed test specifications.\n",
    "- **Relationships**:\n",
    "  - Many-to-one with `Peticiones` and `TiposPruebasConsumo`.\n",
    "**Notes**: Supports RFP’s interviniente-test association."
   ]
  },
  {
   "cell_type": "code",
   "execution_count": 0,
   "metadata": {
    "object_type": "Table",
    "urn": "Server[@Name='Windows10-Pepe']/Database[@Name='CEFEGEN']/Table[@Name='PeticionesLin' and @Schema='dbo']"
   },
   "outputs": [],
   "source": [
    "/****** Object:  Table [dbo].[PeticionesLin]    Script Date: 20/06/2025 18:08:55 ******/\n",
    "SET ANSI_NULLS ON\n",
    "GO\n",
    "SET QUOTED_IDENTIFIER ON\n",
    "GO\n",
    "CREATE TABLE [dbo].[PeticionesLin](\n",
    "\t[IdLineaPeticion] [int] IDENTITY(1,1) NOT NULL,\n",
    "\t[IdPeticion] [int] NOT NULL,\n",
    "\t[IdTipoPrueba] [int] NULL,\n",
    "\t[Descripcion] [nvarchar](200) NULL,\n",
    "\t[EstadoLinea] [varchar](20) NULL,\n",
    "\t[Resultado] [nvarchar](max) NULL,\n",
    "\t[Observaciones] [nvarchar](max) NULL,\n",
    "\t[PrecioUnitario] [decimal](10, 2) NOT NULL,\n",
    "\t[IdPlazoEntrega] [int] NULL,\n",
    "\t[IdTiposPruebasConsumo] [int] NOT NULL,\n",
    "\t[IdTipoMuestra] [int] NOT NULL,\n",
    "\t[NumIntervinientes] [int] NOT NULL,\n",
    "\t[NumMuestras] [int] NOT NULL,\n",
    "\t[IdPrecioConfigurado] [int] NOT NULL,\n",
    "\t[EstadoResultado] [nvarchar](50) NULL,\n",
    "\t[FechaCompletado] [datetime] NULL,\n",
    "\t[NumValidacionesCompletadas] [int] NOT NULL,\n",
    "\t[IdSolicitud] [int] NULL,\n",
    "PRIMARY KEY CLUSTERED \n",
    "(\n",
    "\t[IdLineaPeticion] ASC\n",
    ")WITH (PAD_INDEX = OFF, STATISTICS_NORECOMPUTE = OFF, IGNORE_DUP_KEY = OFF, ALLOW_ROW_LOCKS = ON, ALLOW_PAGE_LOCKS = ON, OPTIMIZE_FOR_SEQUENTIAL_KEY = OFF) ON [PRIMARY]\n",
    ") ON [PRIMARY] TEXTIMAGE_ON [PRIMARY]\n",
    "GO\n"
   ]
  },
  {
   "cell_type": "markdown",
   "metadata": {
    "object_type": "Table",
    "urn": "Server[@Name='Windows10-Pepe']/Database[@Name='CEFEGEN']/Table[@Name='TiposPruebasConsumo' and @Schema='dbo']"
   },
   "source": [
    "# [dbo].[TiposPruebasConsumo]"
   ]
  },
  {
   "cell_type": "markdown",
   "metadata": {},
   "source": [
    "#### Table: TiposPruebasConsumo\n",
    "**Purpose**: Stores consumed test types within a test type.\n",
    "**Columns**:\n",
    "- `IdTipoPruebasConsumo` (int, PK, IDENTITY): Unique identifier.\n",
    "- `IdTipoPrueba` (int, FK to `TiposPrueba`): Test type identifier.\n",
    "- `Nombre` (nvarchar(50), NOT NULL): Subtype test name.\n",
    "- `FechaCreacion` (datetime, NOT NULL): Creation timestamp.\n",
    "**Constraints**:\n",
    "- Primary Key: `IdTipoPruebasConsumo` (line 601).\n",
    "- Foreign Key: `IdTipoPrueba` to `TiposPrueba` (line 602).\n",
    "**Normalization**: 3NF.\n",
    "**Notes**: Supports RFP’s test association requirement."
   ]
  },
  {
   "cell_type": "code",
   "execution_count": 0,
   "metadata": {
    "object_type": "Table",
    "urn": "Server[@Name='Windows10-Pepe']/Database[@Name='CEFEGEN']/Table[@Name='TiposPruebasConsumo' and @Schema='dbo']"
   },
   "outputs": [],
   "source": [
    "/****** Object:  Table [dbo].[TiposPruebasConsumo]    Script Date: 20/06/2025 18:08:55 ******/\n",
    "SET ANSI_NULLS ON\n",
    "GO\n",
    "SET QUOTED_IDENTIFIER ON\n",
    "GO\n",
    "CREATE TABLE [dbo].[TiposPruebasConsumo](\n",
    "\t[IdTipoPruebaConsumo] [int] IDENTITY(1,1) NOT NULL,\n",
    "\t[Descripcion] [nvarchar](255) NULL,\n",
    "\t[IDTipoPrueba] [int] NOT NULL,\n",
    "\t[Nombre] [nvarchar](100) NULL,\n",
    "\t[Activo] [bit] NULL,\n",
    "\t[RequiereValidacion] [bit] NOT NULL,\n",
    "\t[IdDudaParienteCercano] [int] NULL,\n",
    "\t[Transfusiones] [bit] NOT NULL,\n",
    "PRIMARY KEY CLUSTERED \n",
    "(\n",
    "\t[IdTipoPruebaConsumo] ASC\n",
    ")WITH (PAD_INDEX = OFF, STATISTICS_NORECOMPUTE = OFF, IGNORE_DUP_KEY = OFF, ALLOW_ROW_LOCKS = ON, ALLOW_PAGE_LOCKS = ON, OPTIMIZE_FOR_SEQUENTIAL_KEY = OFF) ON [PRIMARY]\n",
    ") ON [PRIMARY]\n",
    "GO\n"
   ]
  },
  {
   "cell_type": "markdown",
   "metadata": {
    "object_type": "Table",
    "urn": "Server[@Name='Windows10-Pepe']/Database[@Name='CEFEGEN']/Table[@Name='LineasFactura' and @Schema='dbo']"
   },
   "source": [
    "# [dbo].[LineasFactura]"
   ]
  },
  {
   "cell_type": "code",
   "execution_count": 0,
   "metadata": {
    "object_type": "Table",
    "urn": "Server[@Name='Windows10-Pepe']/Database[@Name='CEFEGEN']/Table[@Name='LineasFactura' and @Schema='dbo']"
   },
   "outputs": [],
   "source": [
    "/****** Object:  Table [dbo].[LineasFactura]    Script Date: 20/06/2025 18:08:55 ******/\n",
    "SET ANSI_NULLS ON\n",
    "GO\n",
    "SET QUOTED_IDENTIFIER ON\n",
    "GO\n",
    "CREATE TABLE [dbo].[LineasFactura](\n",
    "\t[IdLineaFactura] [int] IDENTITY(1,1) NOT NULL,\n",
    "\t[IdFactura] [int] NOT NULL,\n",
    "\t[Descripcion] [nvarchar](255) NOT NULL,\n",
    "\t[Importe] [decimal](10, 2) NOT NULL,\n",
    "\t[Cantidad] [int] NULL,\n",
    "\t[IdTarifa] [int] NULL,\n",
    "\t[IdLineaPeticion] [int] NULL,\n",
    "PRIMARY KEY CLUSTERED \n",
    "(\n",
    "\t[IdLineaFactura] ASC\n",
    ")WITH (PAD_INDEX = OFF, STATISTICS_NORECOMPUTE = OFF, IGNORE_DUP_KEY = OFF, ALLOW_ROW_LOCKS = ON, ALLOW_PAGE_LOCKS = ON, OPTIMIZE_FOR_SEQUENTIAL_KEY = OFF) ON [PRIMARY]\n",
    ") ON [PRIMARY]\n",
    "GO\n"
   ]
  },
  {
   "cell_type": "markdown",
   "metadata": {
    "object_type": "View",
    "urn": "Server[@Name='Windows10-Pepe']/Database[@Name='CEFEGEN']/View[@Name='vw_FacturacionPorTipoPrueba' and @Schema='dbo']"
   },
   "source": [
    "# [dbo].[vw_FacturacionPorTipoPrueba]"
   ]
  },
  {
   "cell_type": "code",
   "execution_count": 0,
   "metadata": {
    "object_type": "View",
    "urn": "Server[@Name='Windows10-Pepe']/Database[@Name='CEFEGEN']/View[@Name='vw_FacturacionPorTipoPrueba' and @Schema='dbo']"
   },
   "outputs": [],
   "source": [
    "/****** Object:  View [dbo].[vw_FacturacionPorTipoPrueba]    Script Date: 20/06/2025 18:08:55 ******/\n",
    "SET ANSI_NULLS ON\n",
    "GO\n",
    "SET QUOTED_IDENTIFIER ON\n",
    "GO\n",
    "\n",
    "CREATE VIEW [dbo].[vw_FacturacionPorTipoPrueba] AS\n",
    "SELECT\n",
    "    tpc.Nombre AS TipoPrueba,\n",
    "    COUNT(lf.IdLineaFactura) AS NumeroPruebas,\n",
    "    SUM(lf.Importe) AS FacturacionTotal\n",
    "FROM dbo.LineasFactura lf\n",
    "JOIN dbo.PeticionesLin pl ON lf.IdLineaPeticion = pl.IdLineaPeticion\n",
    "JOIN dbo.TiposPruebasConsumo tpc ON pl.IdTiposPruebasConsumo = tpc.IdTipoPruebaConsumo\n",
    "JOIN dbo.Facturas f ON lf.IdFactura = f.IdFactura\n",
    "WHERE f.EstadoFactura <> 'Anulada'\n",
    "GROUP BY tpc.Nombre;\n",
    "GO\n"
   ]
  },
  {
   "cell_type": "markdown",
   "metadata": {
    "object_type": "Table",
    "urn": "Server[@Name='Windows10-Pepe']/Database[@Name='CEFEGEN']/Table[@Name='Actividades' and @Schema='dbo']"
   },
   "source": [
    "# [dbo].[Actividades]"
   ]
  },
  {
   "cell_type": "code",
   "execution_count": 0,
   "metadata": {
    "object_type": "Table",
    "urn": "Server[@Name='Windows10-Pepe']/Database[@Name='CEFEGEN']/Table[@Name='Actividades' and @Schema='dbo']"
   },
   "outputs": [],
   "source": [
    "/****** Object:  Table [dbo].[Actividades]    Script Date: 20/06/2025 18:08:55 ******/\n",
    "SET ANSI_NULLS ON\n",
    "GO\n",
    "SET QUOTED_IDENTIFIER ON\n",
    "GO\n",
    "CREATE TABLE [dbo].[Actividades](\n",
    "\t[IdActividad] [int] IDENTITY(1,1) NOT NULL,\n",
    "\t[Descripcion] [nvarchar](100) NOT NULL,\n",
    " CONSTRAINT [PK_Actividades] PRIMARY KEY CLUSTERED \n",
    "(\n",
    "\t[IdActividad] ASC\n",
    ")WITH (PAD_INDEX = OFF, STATISTICS_NORECOMPUTE = OFF, IGNORE_DUP_KEY = OFF, ALLOW_ROW_LOCKS = ON, ALLOW_PAGE_LOCKS = ON, OPTIMIZE_FOR_SEQUENTIAL_KEY = OFF) ON [PRIMARY]\n",
    ") ON [PRIMARY]\n",
    "GO\n"
   ]
  },
  {
   "cell_type": "markdown",
   "metadata": {
    "object_type": "Table",
    "urn": "Server[@Name='Windows10-Pepe']/Database[@Name='CEFEGEN']/Table[@Name='AdjuntosEnvio' and @Schema='dbo']"
   },
   "source": [
    "# [dbo].[AdjuntosEnvio]"
   ]
  },
  {
   "cell_type": "code",
   "execution_count": 0,
   "metadata": {
    "object_type": "Table",
    "urn": "Server[@Name='Windows10-Pepe']/Database[@Name='CEFEGEN']/Table[@Name='AdjuntosEnvio' and @Schema='dbo']"
   },
   "outputs": [],
   "source": [
    "/****** Object:  Table [dbo].[AdjuntosEnvio]    Script Date: 20/06/2025 18:08:55 ******/\n",
    "SET ANSI_NULLS ON\n",
    "GO\n",
    "SET QUOTED_IDENTIFIER ON\n",
    "GO\n",
    "CREATE TABLE [dbo].[AdjuntosEnvio](\n",
    "\t[IdAdjunto] [int] IDENTITY(1,1) NOT NULL,\n",
    "\t[IdEnvio] [int] NOT NULL,\n",
    "\t[NombreArchivo] [nvarchar](100) NOT NULL,\n",
    "\t[ArchivoReferencia] [nvarchar](50) NOT NULL,\n",
    "\t[IdTipoPlantilla] [int] NULL,\n",
    "PRIMARY KEY CLUSTERED \n",
    "(\n",
    "\t[IdAdjunto] ASC\n",
    ")WITH (PAD_INDEX = OFF, STATISTICS_NORECOMPUTE = OFF, IGNORE_DUP_KEY = OFF, ALLOW_ROW_LOCKS = ON, ALLOW_PAGE_LOCKS = ON, OPTIMIZE_FOR_SEQUENTIAL_KEY = OFF) ON [PRIMARY]\n",
    ") ON [PRIMARY]\n",
    "GO\n"
   ]
  },
  {
   "cell_type": "markdown",
   "metadata": {
    "object_type": "Table",
    "urn": "Server[@Name='Windows10-Pepe']/Database[@Name='CEFEGEN']/Table[@Name='Articulos' and @Schema='dbo']"
   },
   "source": [
    "# [dbo].[Articulos]"
   ]
  },
  {
   "cell_type": "code",
   "execution_count": 0,
   "metadata": {
    "object_type": "Table",
    "urn": "Server[@Name='Windows10-Pepe']/Database[@Name='CEFEGEN']/Table[@Name='Articulos' and @Schema='dbo']"
   },
   "outputs": [],
   "source": [
    "/****** Object:  Table [dbo].[Articulos]    Script Date: 20/06/2025 18:08:55 ******/\n",
    "SET ANSI_NULLS ON\n",
    "GO\n",
    "SET QUOTED_IDENTIFIER ON\n",
    "GO\n",
    "CREATE TABLE [dbo].[Articulos](\n",
    "\t[IdArticulo] [int] IDENTITY(1,1) NOT NULL,\n",
    "\t[CodigoArticulo] [nvarchar](50) NOT NULL,\n",
    "\t[Descripcion] [nvarchar](255) NOT NULL,\n",
    "\t[IdFamilia] [int] NULL,\n",
    "\t[IdProveedor] [int] NULL,\n",
    "\t[IdFabricante] [int] NULL,\n",
    "\t[Imagen] [varbinary](max) NULL,\n",
    "\t[Parametros] [nvarchar](max) NULL,\n",
    "\t[ControlLote] [bit] NOT NULL,\n",
    "\t[ControlCantidadEnvase] [bit] NOT NULL,\n",
    "\t[Precio] [float] NOT NULL,\n",
    "\t[Descuento] [float] NULL,\n",
    "\t[Stock] [decimal](15, 4) NOT NULL,\n",
    "\t[StockMinimo] [decimal](15, 4) NULL,\n",
    "\t[StockMaximo] [decimal](15, 4) NULL,\n",
    "\t[Ubicacion] [nvarchar](100) NULL,\n",
    "\t[ReferenciaProveedor] [nvarchar](50) NULL,\n",
    "\t[IdEnvase] [int] NULL,\n",
    "\t[IdUnidad] [int] NULL,\n",
    "\t[Unidades] [decimal](15, 4) NULL,\n",
    "\t[CantidadEnvase] [decimal](15, 4) NULL,\n",
    "\t[AlicuotasEnvase] [int] NULL,\n",
    "\t[NotasTecnico] [nvarchar](max) NULL,\n",
    "\t[NotasInternas] [nvarchar](max) NULL,\n",
    "PRIMARY KEY CLUSTERED \n",
    "(\n",
    "\t[IdArticulo] ASC\n",
    ")WITH (PAD_INDEX = OFF, STATISTICS_NORECOMPUTE = OFF, IGNORE_DUP_KEY = OFF, ALLOW_ROW_LOCKS = ON, ALLOW_PAGE_LOCKS = ON, OPTIMIZE_FOR_SEQUENTIAL_KEY = OFF) ON [PRIMARY],\n",
    "UNIQUE NONCLUSTERED \n",
    "(\n",
    "\t[CodigoArticulo] ASC\n",
    ")WITH (PAD_INDEX = OFF, STATISTICS_NORECOMPUTE = OFF, IGNORE_DUP_KEY = OFF, ALLOW_ROW_LOCKS = ON, ALLOW_PAGE_LOCKS = ON, OPTIMIZE_FOR_SEQUENTIAL_KEY = OFF) ON [PRIMARY]\n",
    ") ON [PRIMARY] TEXTIMAGE_ON [PRIMARY]\n",
    "GO\n"
   ]
  },
  {
   "cell_type": "markdown",
   "metadata": {
    "object_type": "Table",
    "urn": "Server[@Name='Windows10-Pepe']/Database[@Name='CEFEGEN']/Table[@Name='AuditoriaAcciones' and @Schema='dbo']"
   },
   "source": [
    "# [dbo].[AuditoriaAcciones]"
   ]
  },
  {
   "cell_type": "markdown",
   "metadata": {},
   "source": [
    "#### Table: AuditoriaAcciones\n",
    "- **Purpose**: Logs user actions for auditing and compliance with forensic and quality standards.\n",
    "- **Columns**:\n",
    "  - `IdAuditoria`: Unique identifier (PK, auto-incremented).\n",
    "  - `IdUsuario`: Foreign key to `Usuarios.IdUsuario` (nullable for system actions).\n",
    "  - `Accion`: Description of the action (e.g., `Login`, `UpdateUser`).\n",
    "  - `TablaAfectada`: Name of the affected table (nullable).\n",
    "  - `IdRegistroAfectado`: ID of the affected record (nullable).\n",
    "  - `FechaAccion`: Timestamp of the action (defaults to current time).\n",
    "  - `Detalles`: Additional details about the action (e.g., JSON or text).\n",
    "- **Constraints**:\n",
    "  - `PK_AuditoriaAcciones`: Primary key on `IdAuditoria`.\n",
    "  - `FK_AuditoriaAcciones_Usuarios`: Links to `Usuarios` (nullable).\n",
    "- **Normalization**:\n",
    "  - **1NF**: All attributes are atomic.\n",
    "  - **2NF**: No partial dependencies.\n",
    "  - **3NF**: No transitive dependencies.\n",
    "- **RFP Alignment**:\n",
    "  - Supports auditing of user actions, critical for forensic compliance and quality control.\n",
    "  - Flexible structure allows logging various actions across modules."
   ]
  },
  {
   "cell_type": "code",
   "execution_count": 0,
   "metadata": {
    "object_type": "Table",
    "urn": "Server[@Name='Windows10-Pepe']/Database[@Name='CEFEGEN']/Table[@Name='AuditoriaAcciones' and @Schema='dbo']"
   },
   "outputs": [],
   "source": [
    "/****** Object:  Table [dbo].[AuditoriaAcciones]    Script Date: 20/06/2025 18:08:55 ******/\n",
    "SET ANSI_NULLS ON\n",
    "GO\n",
    "SET QUOTED_IDENTIFIER ON\n",
    "GO\n",
    "CREATE TABLE [dbo].[AuditoriaAcciones](\n",
    "\t[IdAccion] [int] IDENTITY(1,1) NOT NULL,\n",
    "\t[IdUsuario] [int] NOT NULL,\n",
    "\t[FechaAccion] [datetime] NULL,\n",
    "\t[Tabla] [nvarchar](100) NULL,\n",
    "\t[Accion] [nvarchar](50) NULL,\n",
    "\t[Detalles] [nvarchar](max) NULL,\n",
    "\t[IdDocumento] [int] NULL,\n",
    "PRIMARY KEY CLUSTERED \n",
    "(\n",
    "\t[IdAccion] ASC\n",
    ")WITH (PAD_INDEX = OFF, STATISTICS_NORECOMPUTE = OFF, IGNORE_DUP_KEY = OFF, ALLOW_ROW_LOCKS = ON, ALLOW_PAGE_LOCKS = ON, OPTIMIZE_FOR_SEQUENTIAL_KEY = OFF) ON [PRIMARY]\n",
    ") ON [PRIMARY] TEXTIMAGE_ON [PRIMARY]\n",
    "GO\n"
   ]
  },
  {
   "cell_type": "markdown",
   "metadata": {
    "object_type": "Table",
    "urn": "Server[@Name='Windows10-Pepe']/Database[@Name='CEFEGEN']/Table[@Name='Avisos' and @Schema='dbo']"
   },
   "source": [
    "# [dbo].[Avisos]"
   ]
  },
  {
   "cell_type": "code",
   "execution_count": 0,
   "metadata": {
    "object_type": "Table",
    "urn": "Server[@Name='Windows10-Pepe']/Database[@Name='CEFEGEN']/Table[@Name='Avisos' and @Schema='dbo']"
   },
   "outputs": [],
   "source": [
    "/****** Object:  Table [dbo].[Avisos]    Script Date: 20/06/2025 18:08:55 ******/\n",
    "SET ANSI_NULLS ON\n",
    "GO\n",
    "SET QUOTED_IDENTIFIER ON\n",
    "GO\n",
    "CREATE TABLE [dbo].[Avisos](\n",
    "\t[IdAviso] [int] IDENTITY(1,1) NOT NULL,\n",
    "\t[Titulo] [nvarchar](100) NOT NULL,\n",
    "\t[Contenido] [nvarchar](max) NOT NULL,\n",
    "\t[TipoAviso] [nvarchar](50) NULL,\n",
    "\t[Prioridad] [int] NULL,\n",
    "\t[Activo] [bit] NOT NULL,\n",
    "\t[FechaAlta] [date] NOT NULL,\n",
    "PRIMARY KEY CLUSTERED \n",
    "(\n",
    "\t[IdAviso] ASC\n",
    ")WITH (PAD_INDEX = OFF, STATISTICS_NORECOMPUTE = OFF, IGNORE_DUP_KEY = OFF, ALLOW_ROW_LOCKS = ON, ALLOW_PAGE_LOCKS = ON, OPTIMIZE_FOR_SEQUENTIAL_KEY = OFF) ON [PRIMARY]\n",
    ") ON [PRIMARY] TEXTIMAGE_ON [PRIMARY]\n",
    "GO\n"
   ]
  },
  {
   "cell_type": "markdown",
   "metadata": {
    "object_type": "Table",
    "urn": "Server[@Name='Windows10-Pepe']/Database[@Name='CEFEGEN']/Table[@Name='Bancos' and @Schema='dbo']"
   },
   "source": [
    "# [dbo].[Bancos]"
   ]
  },
  {
   "cell_type": "code",
   "execution_count": 0,
   "metadata": {
    "object_type": "Table",
    "urn": "Server[@Name='Windows10-Pepe']/Database[@Name='CEFEGEN']/Table[@Name='Bancos' and @Schema='dbo']"
   },
   "outputs": [],
   "source": [
    "/****** Object:  Table [dbo].[Bancos]    Script Date: 20/06/2025 18:08:55 ******/\n",
    "SET ANSI_NULLS ON\n",
    "GO\n",
    "SET QUOTED_IDENTIFIER ON\n",
    "GO\n",
    "CREATE TABLE [dbo].[Bancos](\n",
    "\t[IdBanco] [int] IDENTITY(1,1) NOT NULL,\n",
    "\t[Nombre] [nvarchar](100) NOT NULL,\n",
    "\t[Swift] [nvarchar](20) NULL,\n",
    "\t[CodigoEntidad] [nvarchar](10) NULL,\n",
    "\t[CodPais] [char](2) NOT NULL,\n",
    "\t[IdDireccion] [int] NULL,\n",
    "PRIMARY KEY CLUSTERED \n",
    "(\n",
    "\t[IdBanco] ASC\n",
    ")WITH (PAD_INDEX = OFF, STATISTICS_NORECOMPUTE = OFF, IGNORE_DUP_KEY = OFF, ALLOW_ROW_LOCKS = ON, ALLOW_PAGE_LOCKS = ON, OPTIMIZE_FOR_SEQUENTIAL_KEY = OFF) ON [PRIMARY]\n",
    ") ON [PRIMARY]\n",
    "GO\n"
   ]
  },
  {
   "cell_type": "markdown",
   "metadata": {
    "object_type": "Table",
    "urn": "Server[@Name='Windows10-Pepe']/Database[@Name='CEFEGEN']/Table[@Name='Cargos' and @Schema='dbo']"
   },
   "source": [
    "# [dbo].[Cargos]"
   ]
  },
  {
   "cell_type": "code",
   "execution_count": 0,
   "metadata": {
    "object_type": "Table",
    "urn": "Server[@Name='Windows10-Pepe']/Database[@Name='CEFEGEN']/Table[@Name='Cargos' and @Schema='dbo']"
   },
   "outputs": [],
   "source": [
    "/****** Object:  Table [dbo].[Cargos]    Script Date: 20/06/2025 18:08:55 ******/\n",
    "SET ANSI_NULLS ON\n",
    "GO\n",
    "SET QUOTED_IDENTIFIER ON\n",
    "GO\n",
    "CREATE TABLE [dbo].[Cargos](\n",
    "\t[IdCargo] [int] IDENTITY(1,1) NOT NULL,\n",
    "\t[Descripcion] [nvarchar](100) NOT NULL,\n",
    "\t[Imagen] [varbinary](max) NULL,\n",
    "\t[NotasTecnico] [nvarchar](max) NULL,\n",
    "\t[NotasInternas] [nvarchar](max) NULL,\n",
    "PRIMARY KEY CLUSTERED \n",
    "(\n",
    "\t[IdCargo] ASC\n",
    ")WITH (PAD_INDEX = OFF, STATISTICS_NORECOMPUTE = OFF, IGNORE_DUP_KEY = OFF, ALLOW_ROW_LOCKS = ON, ALLOW_PAGE_LOCKS = ON, OPTIMIZE_FOR_SEQUENTIAL_KEY = OFF) ON [PRIMARY]\n",
    ") ON [PRIMARY] TEXTIMAGE_ON [PRIMARY]\n",
    "GO\n"
   ]
  },
  {
   "cell_type": "markdown",
   "metadata": {
    "object_type": "Table",
    "urn": "Server[@Name='Windows10-Pepe']/Database[@Name='CEFEGEN']/Table[@Name='CatalogoDeterminaciones' and @Schema='dbo']"
   },
   "source": [
    "# [dbo].[CatalogoDeterminaciones]"
   ]
  },
  {
   "cell_type": "code",
   "execution_count": 0,
   "metadata": {
    "object_type": "Table",
    "urn": "Server[@Name='Windows10-Pepe']/Database[@Name='CEFEGEN']/Table[@Name='CatalogoDeterminaciones' and @Schema='dbo']"
   },
   "outputs": [],
   "source": [
    "/****** Object:  Table [dbo].[CatalogoDeterminaciones]    Script Date: 20/06/2025 18:08:55 ******/\n",
    "SET ANSI_NULLS ON\n",
    "GO\n",
    "SET QUOTED_IDENTIFIER ON\n",
    "GO\n",
    "CREATE TABLE [dbo].[CatalogoDeterminaciones](\n",
    "\t[IdDeterminacionCatalogo] [int] IDENTITY(1,1) NOT NULL,\n",
    "\t[Nombre] [nvarchar](100) NOT NULL,\n",
    "\t[TipoDato] [nvarchar](20) NOT NULL,\n",
    "\t[Unidad] [nvarchar](50) NULL,\n",
    "\t[ValorReferencia] [nvarchar](255) NULL,\n",
    "\t[Area] [nvarchar](50) NULL,\n",
    "\t[Activo] [bit] NULL,\n",
    "\t[IdTipoResultado] [int] NULL,\n",
    "PRIMARY KEY CLUSTERED \n",
    "(\n",
    "\t[IdDeterminacionCatalogo] ASC\n",
    ")WITH (PAD_INDEX = OFF, STATISTICS_NORECOMPUTE = OFF, IGNORE_DUP_KEY = OFF, ALLOW_ROW_LOCKS = ON, ALLOW_PAGE_LOCKS = ON, OPTIMIZE_FOR_SEQUENTIAL_KEY = OFF) ON [PRIMARY]\n",
    ") ON [PRIMARY]\n",
    "GO\n"
   ]
  },
  {
   "cell_type": "markdown",
   "metadata": {
    "object_type": "Table",
    "urn": "Server[@Name='Windows10-Pepe']/Database[@Name='CEFEGEN']/Table[@Name='CatalogoDeterminacionesAndrologia' and @Schema='dbo']"
   },
   "source": [
    "# [dbo].[CatalogoDeterminacionesAndrologia]"
   ]
  },
  {
   "cell_type": "code",
   "execution_count": 0,
   "metadata": {
    "object_type": "Table",
    "urn": "Server[@Name='Windows10-Pepe']/Database[@Name='CEFEGEN']/Table[@Name='CatalogoDeterminacionesAndrologia' and @Schema='dbo']"
   },
   "outputs": [],
   "source": [
    "/****** Object:  Table [dbo].[CatalogoDeterminacionesAndrologia]    Script Date: 20/06/2025 18:08:55 ******/\n",
    "SET ANSI_NULLS ON\n",
    "GO\n",
    "SET QUOTED_IDENTIFIER ON\n",
    "GO\n",
    "CREATE TABLE [dbo].[CatalogoDeterminacionesAndrologia](\n",
    "\t[IdDeterminacionCatalogo] [int] IDENTITY(1,1) NOT NULL,\n",
    "\t[NombreDeterminacion] [nvarchar](100) NOT NULL,\n",
    "\t[Unidad] [nvarchar](50) NULL,\n",
    "\t[ValorReferencia] [nvarchar](100) NULL,\n",
    "\t[Activo] [bit] NULL,\n",
    "\t[TipoDato] [nvarchar](20) NULL,\n",
    "PRIMARY KEY CLUSTERED \n",
    "(\n",
    "\t[IdDeterminacionCatalogo] ASC\n",
    ")WITH (PAD_INDEX = OFF, STATISTICS_NORECOMPUTE = OFF, IGNORE_DUP_KEY = OFF, ALLOW_ROW_LOCKS = ON, ALLOW_PAGE_LOCKS = ON, OPTIMIZE_FOR_SEQUENTIAL_KEY = OFF) ON [PRIMARY],\n",
    "UNIQUE NONCLUSTERED \n",
    "(\n",
    "\t[NombreDeterminacion] ASC\n",
    ")WITH (PAD_INDEX = OFF, STATISTICS_NORECOMPUTE = OFF, IGNORE_DUP_KEY = OFF, ALLOW_ROW_LOCKS = ON, ALLOW_PAGE_LOCKS = ON, OPTIMIZE_FOR_SEQUENTIAL_KEY = OFF) ON [PRIMARY]\n",
    ") ON [PRIMARY]\n",
    "GO\n"
   ]
  },
  {
   "cell_type": "markdown",
   "metadata": {
    "object_type": "Table",
    "urn": "Server[@Name='Windows10-Pepe']/Database[@Name='CEFEGEN']/Table[@Name='Centros' and @Schema='dbo']"
   },
   "source": [
    "# [dbo].[Centros]"
   ]
  },
  {
   "cell_type": "code",
   "execution_count": 0,
   "metadata": {
    "object_type": "Table",
    "urn": "Server[@Name='Windows10-Pepe']/Database[@Name='CEFEGEN']/Table[@Name='Centros' and @Schema='dbo']"
   },
   "outputs": [],
   "source": [
    "/****** Object:  Table [dbo].[Centros]    Script Date: 20/06/2025 18:08:55 ******/\n",
    "SET ANSI_NULLS ON\n",
    "GO\n",
    "SET QUOTED_IDENTIFIER ON\n",
    "GO\n",
    "CREATE TABLE [dbo].[Centros](\n",
    "\t[IdCentro] [int] IDENTITY(1,1) NOT NULL,\n",
    "\t[NombreCentro] [nvarchar](50) NOT NULL,\n",
    "\t[CIF] [nvarchar](20) NULL,\n",
    "\t[Contacto] [nvarchar](50) NULL,\n",
    "\t[Telefono] [nvarchar](20) NULL,\n",
    "\t[Telefono2] [nvarchar](20) NULL,\n",
    "\t[Email] [nvarchar](100) NULL,\n",
    "\t[Web] [nvarchar](100) NULL,\n",
    "\t[IdAvisoTecnico] [int] NULL,\n",
    "\t[IdAvisoAdmon] [int] NULL,\n",
    "\t[IdAvisoFacturacion] [int] NULL,\n",
    "\t[IdAvisoInternas] [int] NULL,\n",
    "\t[NotasTecnico] [nvarchar](max) NULL,\n",
    "\t[NotasAdmon] [nvarchar](max) NULL,\n",
    "\t[NotasFacturacion] [nvarchar](max) NULL,\n",
    "\t[NotasInternas] [nvarchar](max) NULL,\n",
    "\t[Parametros] [nvarchar](max) NULL,\n",
    "\t[MembreteCentro] [bit] NOT NULL,\n",
    "\t[IdDireccion] [int] NULL,\n",
    "PRIMARY KEY CLUSTERED \n",
    "(\n",
    "\t[IdCentro] ASC\n",
    ")WITH (PAD_INDEX = OFF, STATISTICS_NORECOMPUTE = OFF, IGNORE_DUP_KEY = OFF, ALLOW_ROW_LOCKS = ON, ALLOW_PAGE_LOCKS = ON, OPTIMIZE_FOR_SEQUENTIAL_KEY = OFF) ON [PRIMARY]\n",
    ") ON [PRIMARY] TEXTIMAGE_ON [PRIMARY]\n",
    "GO\n"
   ]
  },
  {
   "cell_type": "markdown",
   "metadata": {
    "object_type": "Table",
    "urn": "Server[@Name='Windows10-Pepe']/Database[@Name='CEFEGEN']/Table[@Name='CodigosPostales' and @Schema='dbo']"
   },
   "source": [
    "# [dbo].[CodigosPostales]"
   ]
  },
  {
   "cell_type": "code",
   "execution_count": 0,
   "metadata": {
    "object_type": "Table",
    "urn": "Server[@Name='Windows10-Pepe']/Database[@Name='CEFEGEN']/Table[@Name='CodigosPostales' and @Schema='dbo']"
   },
   "outputs": [],
   "source": [
    "/****** Object:  Table [dbo].[CodigosPostales]    Script Date: 20/06/2025 18:08:55 ******/\n",
    "SET ANSI_NULLS ON\n",
    "GO\n",
    "SET QUOTED_IDENTIFIER ON\n",
    "GO\n",
    "CREATE TABLE [dbo].[CodigosPostales](\n",
    "\t[IdCP] [int] IDENTITY(1,1) NOT NULL,\n",
    "\t[CodigoPostal] [nvarchar](10) NOT NULL,\n",
    "\t[CodigoMunicipio] [char](6) NULL,\n",
    "\t[NombreMunicipio] [nvarchar](100) NULL,\n",
    "\t[CodigoProvincia] [char](2) NULL,\n",
    "\t[CodigoPais] [char](2) NOT NULL,\n",
    "PRIMARY KEY CLUSTERED \n",
    "(\n",
    "\t[IdCP] ASC\n",
    ")WITH (PAD_INDEX = OFF, STATISTICS_NORECOMPUTE = OFF, IGNORE_DUP_KEY = OFF, ALLOW_ROW_LOCKS = ON, ALLOW_PAGE_LOCKS = ON, OPTIMIZE_FOR_SEQUENTIAL_KEY = OFF) ON [PRIMARY],\n",
    "UNIQUE NONCLUSTERED \n",
    "(\n",
    "\t[CodigoPostal] ASC,\n",
    "\t[CodigoMunicipio] ASC,\n",
    "\t[CodigoPais] ASC\n",
    ")WITH (PAD_INDEX = OFF, STATISTICS_NORECOMPUTE = OFF, IGNORE_DUP_KEY = OFF, ALLOW_ROW_LOCKS = ON, ALLOW_PAGE_LOCKS = ON, OPTIMIZE_FOR_SEQUENTIAL_KEY = OFF) ON [PRIMARY]\n",
    ") ON [PRIMARY]\n",
    "GO\n"
   ]
  },
  {
   "cell_type": "markdown",
   "metadata": {
    "object_type": "Table",
    "urn": "Server[@Name='Windows10-Pepe']/Database[@Name='CEFEGEN']/Table[@Name='ConfiguracionesCodigos' and @Schema='dbo']"
   },
   "source": [
    "# [dbo].[ConfiguracionesCodigos]"
   ]
  },
  {
   "cell_type": "markdown",
   "metadata": {},
   "source": [
    "#### Table: ConfiguracionesCodigos\n",
    "- **Purpose**: Defines QR/barcode formats for sample identification.\n",
    "- **Columns**:\n",
    "  - `IdConfiguracion`: Unique identifier (PK, auto-incremented).\n",
    "  - `NombreConfiguracion`: Unique configuration name.\n",
    "  - `Formato`: Code format (e.g., “QR”, “Code128”).\n",
    "  - `Prefijo`: Optional prefix (e.g., “MUE-”).\n",
    "  - `Estándar`: Code standard.\n",
    "  - `Activo`: Boolean flag for active/inactive status.\n",
    "- **Constraints**:\n",
    "  - `PK_ConfiguracionesCodigos`: Primary key on `IdConfiguracion`.\n",
    "  - `UK_ConfiguracionesCodigos_NombreConfiguracion`: Ensures unique names.\n",
    "- **Normalization**:\n",
    "  - **1NF**: All attributes are atomic.\n",
    "  - **2NF**: No partial dependencies.\n",
    "  - **3NF**: No transitive dependencies.\n",
    "- **RFP Alignment**:\n",
    "  - Supports QR code generation (Addendum 3).\n",
    "- **Relationships**:\n",
    "  - No direct FKs, but used to configure `Muestras.BarcodeQrCode`."
   ]
  },
  {
   "cell_type": "code",
   "execution_count": 0,
   "metadata": {
    "object_type": "Table",
    "urn": "Server[@Name='Windows10-Pepe']/Database[@Name='CEFEGEN']/Table[@Name='ConfiguracionesCodigos' and @Schema='dbo']"
   },
   "outputs": [],
   "source": [
    "/****** Object:  Table [dbo].[ConfiguracionesCodigos]    Script Date: 20/06/2025 18:08:55 ******/\n",
    "SET ANSI_NULLS ON\n",
    "GO\n",
    "SET QUOTED_IDENTIFIER ON\n",
    "GO\n",
    "CREATE TABLE [dbo].[ConfiguracionesCodigos](\n",
    "\t[IdConfiguracion] [int] IDENTITY(1,1) NOT NULL,\n",
    "\t[TipoCodigo] [varchar](20) NOT NULL,\n",
    "\t[Prefijo] [nvarchar](10) NULL,\n",
    "\t[Formato] [nvarchar](50) NULL,\n",
    "\t[Activo] [bit] NULL,\n",
    "PRIMARY KEY CLUSTERED \n",
    "(\n",
    "\t[IdConfiguracion] ASC\n",
    ")WITH (PAD_INDEX = OFF, STATISTICS_NORECOMPUTE = OFF, IGNORE_DUP_KEY = OFF, ALLOW_ROW_LOCKS = ON, ALLOW_PAGE_LOCKS = ON, OPTIMIZE_FOR_SEQUENTIAL_KEY = OFF) ON [PRIMARY]\n",
    ") ON [PRIMARY]\n",
    "GO\n"
   ]
  },
  {
   "cell_type": "markdown",
   "metadata": {
    "object_type": "Table",
    "urn": "Server[@Name='Windows10-Pepe']/Database[@Name='CEFEGEN']/Table[@Name='ConfiguracionesPrecio' and @Schema='dbo']"
   },
   "source": [
    "# [dbo].[ConfiguracionesPrecio]"
   ]
  },
  {
   "cell_type": "code",
   "execution_count": 0,
   "metadata": {
    "object_type": "Table",
    "urn": "Server[@Name='Windows10-Pepe']/Database[@Name='CEFEGEN']/Table[@Name='ConfiguracionesPrecio' and @Schema='dbo']"
   },
   "outputs": [],
   "source": [
    "/****** Object:  Table [dbo].[ConfiguracionesPrecio]    Script Date: 20/06/2025 18:08:55 ******/\n",
    "SET ANSI_NULLS ON\n",
    "GO\n",
    "SET QUOTED_IDENTIFIER ON\n",
    "GO\n",
    "CREATE TABLE [dbo].[ConfiguracionesPrecio](\n",
    "\t[IdConfiguracion] [int] IDENTITY(1,1) NOT NULL,\n",
    "\t[IdTiposPruebasConsumo] [int] NOT NULL,\n",
    "\t[EsLegal] [bit] NOT NULL,\n",
    "\t[EsColaborador] [bit] NOT NULL,\n",
    "\t[PrecioBase] [decimal](10, 2) NOT NULL,\n",
    "\t[IdRegla] [int] NOT NULL,\n",
    "\t[Descripcion] [nvarchar](100) NULL,\n",
    "PRIMARY KEY CLUSTERED \n",
    "(\n",
    "\t[IdConfiguracion] ASC\n",
    ")WITH (PAD_INDEX = OFF, STATISTICS_NORECOMPUTE = OFF, IGNORE_DUP_KEY = OFF, ALLOW_ROW_LOCKS = ON, ALLOW_PAGE_LOCKS = ON, OPTIMIZE_FOR_SEQUENTIAL_KEY = OFF) ON [PRIMARY]\n",
    ") ON [PRIMARY]\n",
    "GO\n"
   ]
  },
  {
   "cell_type": "markdown",
   "metadata": {
    "object_type": "Table",
    "urn": "Server[@Name='Windows10-Pepe']/Database[@Name='CEFEGEN']/Table[@Name='ConfigValidaciones' and @Schema='dbo']"
   },
   "source": [
    "# [dbo].[ConfigValidaciones]"
   ]
  },
  {
   "cell_type": "code",
   "execution_count": 0,
   "metadata": {
    "object_type": "Table",
    "urn": "Server[@Name='Windows10-Pepe']/Database[@Name='CEFEGEN']/Table[@Name='ConfigValidaciones' and @Schema='dbo']"
   },
   "outputs": [],
   "source": [
    "/****** Object:  Table [dbo].[ConfigValidaciones]    Script Date: 20/06/2025 18:08:55 ******/\n",
    "SET ANSI_NULLS ON\n",
    "GO\n",
    "SET QUOTED_IDENTIFIER ON\n",
    "GO\n",
    "CREATE TABLE [dbo].[ConfigValidaciones](\n",
    "\t[IdConfigValidacion] [int] IDENTITY(1,1) NOT NULL,\n",
    "\t[TipoResultado] [nvarchar](50) NOT NULL,\n",
    "\t[NumValidacionesRequeridas] [int] NOT NULL,\n",
    "\t[RolRequerido] [int] NULL,\n",
    " CONSTRAINT [PK_ConfigValidaciones] PRIMARY KEY CLUSTERED \n",
    "(\n",
    "\t[IdConfigValidacion] ASC\n",
    ")WITH (PAD_INDEX = OFF, STATISTICS_NORECOMPUTE = OFF, IGNORE_DUP_KEY = OFF, ALLOW_ROW_LOCKS = ON, ALLOW_PAGE_LOCKS = ON, OPTIMIZE_FOR_SEQUENTIAL_KEY = OFF) ON [PRIMARY]\n",
    ") ON [PRIMARY]\n",
    "GO\n"
   ]
  },
  {
   "cell_type": "markdown",
   "metadata": {
    "object_type": "Table",
    "urn": "Server[@Name='Windows10-Pepe']/Database[@Name='CEFEGEN']/Table[@Name='Consentimientos' and @Schema='dbo']"
   },
   "source": [
    "# [dbo].[Consentimientos]"
   ]
  },
  {
   "cell_type": "markdown",
   "metadata": {},
   "source": [
    "#### Table: Consentimientos\n",
    "- **Purpose**: Manages consent documents for forensic tests.\n",
    "- **Columns**:\n",
    "  - `IdConsentimiento`: Unique identifier (PK, auto-incremented).\n",
    "  - `IdSolicitud`: FK to `Solicitudes`.\n",
    "  - `IdDocumento`: FK to `Documentos`, linking to the consent file.\n",
    "  - `FechaConsentimiento`: Timestamp of consent.\n",
    "  - `Valido`: Boolean flag for validity.\n",
    "- **Constraints**:\n",
    "  - `PK_Consentimientos`: Primary key on `IdConsentimiento`.\n",
    "  - FKs to `Solicitudes` and `Documentos`.\n",
    "- **Normalization**:\n",
    "  - **1NF**: All attributes are atomic.\n",
    "  - **2NF**: No partial dependencies.\n",
    "  - **3NF**: No transitive dependencies.\n",
    "- **RFP Alignment**:\n",
    "  - Supports forensic consent management.\n",
    "- **Relationships**:\n",
    "  - Many-to-one with `Solicitudes`.\n",
    "  - One-to-one with `Documentos`.\n",
    "**Notes**: Meets RFP’s consent requirement. Consider adding a field for signed document (e.g., link to `Documentos`)."
   ]
  },
  {
   "cell_type": "code",
   "execution_count": 0,
   "metadata": {
    "object_type": "Table",
    "urn": "Server[@Name='Windows10-Pepe']/Database[@Name='CEFEGEN']/Table[@Name='Consentimientos' and @Schema='dbo']"
   },
   "outputs": [],
   "source": [
    "/****** Object:  Table [dbo].[Consentimientos]    Script Date: 20/06/2025 18:08:55 ******/\n",
    "SET ANSI_NULLS ON\n",
    "GO\n",
    "SET QUOTED_IDENTIFIER ON\n",
    "GO\n",
    "CREATE TABLE [dbo].[Consentimientos](\n",
    "\t[IdConsentimiento] [int] IDENTITY(1,1) NOT NULL,\n",
    "\t[IdTipoPruebaConsumo] [int] NOT NULL,\n",
    "\t[IdSolicitud] [int] NULL,\n",
    "\t[ArchivoReferencia] [nvarchar](50) NOT NULL,\n",
    "\t[EstadoConsentimiento] [nvarchar](50) NOT NULL,\n",
    "\t[FechaCreacion] [datetime2](7) NOT NULL,\n",
    "\t[FechaActualizado] [datetime2](7) NULL,\n",
    "\t[FechaFirma] [datetime2](7) NOT NULL,\n",
    "\t[IdInterviniente] [int] NOT NULL,\n",
    "\t[IdPlantilla] [int] NULL,\n",
    "PRIMARY KEY CLUSTERED \n",
    "(\n",
    "\t[IdConsentimiento] ASC\n",
    ")WITH (PAD_INDEX = OFF, STATISTICS_NORECOMPUTE = OFF, IGNORE_DUP_KEY = OFF, ALLOW_ROW_LOCKS = ON, ALLOW_PAGE_LOCKS = ON, OPTIMIZE_FOR_SEQUENTIAL_KEY = OFF) ON [PRIMARY]\n",
    ") ON [PRIMARY]\n",
    "GO\n"
   ]
  },
  {
   "cell_type": "markdown",
   "metadata": {
    "object_type": "Table",
    "urn": "Server[@Name='Windows10-Pepe']/Database[@Name='CEFEGEN']/Table[@Name='Contactos' and @Schema='dbo']"
   },
   "source": [
    "# [dbo].[Contactos]"
   ]
  },
  {
   "cell_type": "code",
   "execution_count": 0,
   "metadata": {
    "object_type": "Table",
    "urn": "Server[@Name='Windows10-Pepe']/Database[@Name='CEFEGEN']/Table[@Name='Contactos' and @Schema='dbo']"
   },
   "outputs": [],
   "source": [
    "/****** Object:  Table [dbo].[Contactos]    Script Date: 20/06/2025 18:08:55 ******/\n",
    "SET ANSI_NULLS ON\n",
    "GO\n",
    "SET QUOTED_IDENTIFIER ON\n",
    "GO\n",
    "CREATE TABLE [dbo].[Contactos](\n",
    "\t[IdContacto] [int] IDENTITY(1,1) NOT NULL,\n",
    "\t[Nombre] [nvarchar](100) NOT NULL,\n",
    "\t[Telefono] [nvarchar](20) NULL,\n",
    "\t[Telefono2] [nvarchar](20) NULL,\n",
    "\t[Email] [nvarchar](100) NULL,\n",
    "\t[Cargo] [nvarchar](50) NULL,\n",
    "\t[Notas] [nvarchar](max) NULL,\n",
    "PRIMARY KEY CLUSTERED \n",
    "(\n",
    "\t[IdContacto] ASC\n",
    ")WITH (PAD_INDEX = OFF, STATISTICS_NORECOMPUTE = OFF, IGNORE_DUP_KEY = OFF, ALLOW_ROW_LOCKS = ON, ALLOW_PAGE_LOCKS = ON, OPTIMIZE_FOR_SEQUENTIAL_KEY = OFF) ON [PRIMARY]\n",
    ") ON [PRIMARY] TEXTIMAGE_ON [PRIMARY]\n",
    "GO\n"
   ]
  },
  {
   "cell_type": "markdown",
   "metadata": {
    "object_type": "Table",
    "urn": "Server[@Name='Windows10-Pepe']/Database[@Name='CEFEGEN']/Table[@Name='ContactosEntidad' and @Schema='dbo']"
   },
   "source": [
    "# [dbo].[ContactosEntidad]"
   ]
  },
  {
   "cell_type": "code",
   "execution_count": 0,
   "metadata": {
    "object_type": "Table",
    "urn": "Server[@Name='Windows10-Pepe']/Database[@Name='CEFEGEN']/Table[@Name='ContactosEntidad' and @Schema='dbo']"
   },
   "outputs": [],
   "source": [
    "/****** Object:  Table [dbo].[ContactosEntidad]    Script Date: 20/06/2025 18:08:55 ******/\n",
    "SET ANSI_NULLS ON\n",
    "GO\n",
    "SET QUOTED_IDENTIFIER ON\n",
    "GO\n",
    "CREATE TABLE [dbo].[ContactosEntidad](\n",
    "\t[IdContactoEntidad] [int] IDENTITY(1,1) NOT NULL,\n",
    "\t[IdContacto] [int] NOT NULL,\n",
    "\t[TipoEntidad] [nvarchar](50) NOT NULL,\n",
    "\t[IdEntidad] [int] NOT NULL,\n",
    "\t[Rol] [nvarchar](50) NULL,\n",
    "PRIMARY KEY CLUSTERED \n",
    "(\n",
    "\t[IdContactoEntidad] ASC\n",
    ")WITH (PAD_INDEX = OFF, STATISTICS_NORECOMPUTE = OFF, IGNORE_DUP_KEY = OFF, ALLOW_ROW_LOCKS = ON, ALLOW_PAGE_LOCKS = ON, OPTIMIZE_FOR_SEQUENTIAL_KEY = OFF) ON [PRIMARY]\n",
    ") ON [PRIMARY]\n",
    "GO\n"
   ]
  },
  {
   "cell_type": "markdown",
   "metadata": {
    "object_type": "Table",
    "urn": "Server[@Name='Windows10-Pepe']/Database[@Name='CEFEGEN']/Table[@Name='Contratos' and @Schema='dbo']"
   },
   "source": [
    "# [dbo].[Contratos]"
   ]
  },
  {
   "cell_type": "code",
   "execution_count": 0,
   "metadata": {
    "object_type": "Table",
    "urn": "Server[@Name='Windows10-Pepe']/Database[@Name='CEFEGEN']/Table[@Name='Contratos' and @Schema='dbo']"
   },
   "outputs": [],
   "source": [
    "/****** Object:  Table [dbo].[Contratos]    Script Date: 20/06/2025 18:08:55 ******/\n",
    "SET ANSI_NULLS ON\n",
    "GO\n",
    "SET QUOTED_IDENTIFIER ON\n",
    "GO\n",
    "CREATE TABLE [dbo].[Contratos](\n",
    "\t[IdContrato] [int] IDENTITY(1,1) NOT NULL,\n",
    "\t[TipoEntidad] [nvarchar](50) NOT NULL,\n",
    "\t[IdEntidad] [int] NOT NULL,\n",
    "\t[TipoContrato] [nvarchar](100) NULL,\n",
    "\t[Descripcion] [nvarchar](255) NULL,\n",
    "\t[FechaInicio] [date] NOT NULL,\n",
    "\t[FechaFin] [date] NULL,\n",
    "\t[Estado] [nvarchar](50) NULL,\n",
    "\t[Observaciones] [nvarchar](max) NULL,\n",
    "\t[ArchivoContrato] [varbinary](max) NULL,\n",
    "\t[NombreArchivo] [nvarchar](255) NULL,\n",
    "\t[FechaAlta] [date] NULL,\n",
    "\t[Activo] [bit] NOT NULL,\n",
    "PRIMARY KEY CLUSTERED \n",
    "(\n",
    "\t[IdContrato] ASC\n",
    ")WITH (PAD_INDEX = OFF, STATISTICS_NORECOMPUTE = OFF, IGNORE_DUP_KEY = OFF, ALLOW_ROW_LOCKS = ON, ALLOW_PAGE_LOCKS = ON, OPTIMIZE_FOR_SEQUENTIAL_KEY = OFF) ON [PRIMARY]\n",
    ") ON [PRIMARY] TEXTIMAGE_ON [PRIMARY]\n",
    "GO\n"
   ]
  },
  {
   "cell_type": "markdown",
   "metadata": {
    "object_type": "Table",
    "urn": "Server[@Name='Windows10-Pepe']/Database[@Name='CEFEGEN']/Table[@Name='Descuentos' and @Schema='dbo']"
   },
   "source": [
    "# [dbo].[Descuentos]"
   ]
  },
  {
   "cell_type": "code",
   "execution_count": 0,
   "metadata": {
    "object_type": "Table",
    "urn": "Server[@Name='Windows10-Pepe']/Database[@Name='CEFEGEN']/Table[@Name='Descuentos' and @Schema='dbo']"
   },
   "outputs": [],
   "source": [
    "/****** Object:  Table [dbo].[Descuentos]    Script Date: 20/06/2025 18:08:55 ******/\n",
    "SET ANSI_NULLS ON\n",
    "GO\n",
    "SET QUOTED_IDENTIFIER ON\n",
    "GO\n",
    "CREATE TABLE [dbo].[Descuentos](\n",
    "\t[IdDescuento] [int] IDENTITY(1,1) NOT NULL,\n",
    "\t[IdTarifa] [int] NOT NULL,\n",
    "\t[IdTipoClienteConsumo] [int] NOT NULL,\n",
    "\t[IdTipoPruebaConsumo] [int] NOT NULL,\n",
    "\t[Descuento] [float] NOT NULL,\n",
    "\t[Descripcion] [nvarchar](100) NOT NULL,\n",
    "PRIMARY KEY CLUSTERED \n",
    "(\n",
    "\t[IdDescuento] ASC\n",
    ")WITH (PAD_INDEX = OFF, STATISTICS_NORECOMPUTE = OFF, IGNORE_DUP_KEY = OFF, ALLOW_ROW_LOCKS = ON, ALLOW_PAGE_LOCKS = ON, OPTIMIZE_FOR_SEQUENTIAL_KEY = OFF) ON [PRIMARY],\n",
    " CONSTRAINT [UQ_Descuento_TarifaClientePrueba] UNIQUE NONCLUSTERED \n",
    "(\n",
    "\t[IdTarifa] ASC,\n",
    "\t[IdTipoClienteConsumo] ASC,\n",
    "\t[IdTipoPruebaConsumo] ASC\n",
    ")WITH (PAD_INDEX = OFF, STATISTICS_NORECOMPUTE = OFF, IGNORE_DUP_KEY = OFF, ALLOW_ROW_LOCKS = ON, ALLOW_PAGE_LOCKS = ON, OPTIMIZE_FOR_SEQUENTIAL_KEY = OFF) ON [PRIMARY]\n",
    ") ON [PRIMARY]\n",
    "GO\n"
   ]
  },
  {
   "cell_type": "markdown",
   "metadata": {
    "object_type": "Table",
    "urn": "Server[@Name='Windows10-Pepe']/Database[@Name='CEFEGEN']/Table[@Name='Detectives' and @Schema='dbo']"
   },
   "source": [
    "# [dbo].[Detectives]"
   ]
  },
  {
   "cell_type": "code",
   "execution_count": 0,
   "metadata": {
    "object_type": "Table",
    "urn": "Server[@Name='Windows10-Pepe']/Database[@Name='CEFEGEN']/Table[@Name='Detectives' and @Schema='dbo']"
   },
   "outputs": [],
   "source": [
    "/****** Object:  Table [dbo].[Detectives]    Script Date: 20/06/2025 18:08:55 ******/\n",
    "SET ANSI_NULLS ON\n",
    "GO\n",
    "SET QUOTED_IDENTIFIER ON\n",
    "GO\n",
    "CREATE TABLE [dbo].[Detectives](\n",
    "\t[IdDetective] [int] IDENTITY(1,1) NOT NULL,\n",
    "\t[Nombre] [nvarchar](100) NOT NULL,\n",
    "\t[CIF] [nvarchar](20) NULL,\n",
    "\t[Email] [nvarchar](100) NULL,\n",
    "\t[Telefono] [nvarchar](20) NULL,\n",
    "\t[Observaciones] [nvarchar](max) NULL,\n",
    "\t[IdDireccion] [int] NULL,\n",
    "PRIMARY KEY CLUSTERED \n",
    "(\n",
    "\t[IdDetective] ASC\n",
    ")WITH (PAD_INDEX = OFF, STATISTICS_NORECOMPUTE = OFF, IGNORE_DUP_KEY = OFF, ALLOW_ROW_LOCKS = ON, ALLOW_PAGE_LOCKS = ON, OPTIMIZE_FOR_SEQUENTIAL_KEY = OFF) ON [PRIMARY]\n",
    ") ON [PRIMARY] TEXTIMAGE_ON [PRIMARY]\n",
    "GO\n"
   ]
  },
  {
   "cell_type": "markdown",
   "metadata": {
    "object_type": "Table",
    "urn": "Server[@Name='Windows10-Pepe']/Database[@Name='CEFEGEN']/Table[@Name='DeterminacionesAndrologia' and @Schema='dbo']"
   },
   "source": [
    "# [dbo].[DeterminacionesAndrologia]"
   ]
  },
  {
   "cell_type": "code",
   "execution_count": 0,
   "metadata": {
    "object_type": "Table",
    "urn": "Server[@Name='Windows10-Pepe']/Database[@Name='CEFEGEN']/Table[@Name='DeterminacionesAndrologia' and @Schema='dbo']"
   },
   "outputs": [],
   "source": [
    "/****** Object:  Table [dbo].[DeterminacionesAndrologia]    Script Date: 20/06/2025 18:08:55 ******/\n",
    "SET ANSI_NULLS ON\n",
    "GO\n",
    "SET QUOTED_IDENTIFIER ON\n",
    "GO\n",
    "CREATE TABLE [dbo].[DeterminacionesAndrologia](\n",
    "\t[IdDeterminacion] [int] IDENTITY(1,1) NOT NULL,\n",
    "\t[IdDeterminacionCatalogo] [int] NOT NULL,\n",
    "\t[Resultado] [nvarchar](100) NULL,\n",
    "\t[Observaciones] [nvarchar](max) NULL,\n",
    "\t[IdLineaPeticion] [int] NULL,\n",
    "PRIMARY KEY CLUSTERED \n",
    "(\n",
    "\t[IdDeterminacion] ASC\n",
    ")WITH (PAD_INDEX = OFF, STATISTICS_NORECOMPUTE = OFF, IGNORE_DUP_KEY = OFF, ALLOW_ROW_LOCKS = ON, ALLOW_PAGE_LOCKS = ON, OPTIMIZE_FOR_SEQUENTIAL_KEY = OFF) ON [PRIMARY]\n",
    ") ON [PRIMARY] TEXTIMAGE_ON [PRIMARY]\n",
    "GO\n"
   ]
  },
  {
   "cell_type": "markdown",
   "metadata": {
    "object_type": "Table",
    "urn": "Server[@Name='Windows10-Pepe']/Database[@Name='CEFEGEN']/Table[@Name='DudaParienteCercano' and @Schema='dbo']"
   },
   "source": [
    "# [dbo].[DudaParienteCercano]"
   ]
  },
  {
   "cell_type": "code",
   "execution_count": 0,
   "metadata": {
    "object_type": "Table",
    "urn": "Server[@Name='Windows10-Pepe']/Database[@Name='CEFEGEN']/Table[@Name='DudaParienteCercano' and @Schema='dbo']"
   },
   "outputs": [],
   "source": [
    "/****** Object:  Table [dbo].[DudaParienteCercano]    Script Date: 20/06/2025 18:08:55 ******/\n",
    "SET ANSI_NULLS ON\n",
    "GO\n",
    "SET QUOTED_IDENTIFIER ON\n",
    "GO\n",
    "CREATE TABLE [dbo].[DudaParienteCercano](\n",
    "\t[IdDudaParienteCercano] [int] IDENTITY(1,1) NOT NULL,\n",
    "\t[Descripcion] [varchar](50) NOT NULL,\n",
    "PRIMARY KEY CLUSTERED \n",
    "(\n",
    "\t[IdDudaParienteCercano] ASC\n",
    ")WITH (PAD_INDEX = OFF, STATISTICS_NORECOMPUTE = OFF, IGNORE_DUP_KEY = OFF, ALLOW_ROW_LOCKS = ON, ALLOW_PAGE_LOCKS = ON, OPTIMIZE_FOR_SEQUENTIAL_KEY = OFF) ON [PRIMARY]\n",
    ") ON [PRIMARY]\n",
    "GO\n"
   ]
  },
  {
   "cell_type": "markdown",
   "metadata": {
    "object_type": "Table",
    "urn": "Server[@Name='Windows10-Pepe']/Database[@Name='CEFEGEN']/Table[@Name='EntidadMetadata' and @Schema='dbo']"
   },
   "source": [
    "# [dbo].[EntidadMetadata]"
   ]
  },
  {
   "cell_type": "code",
   "execution_count": 0,
   "metadata": {
    "object_type": "Table",
    "urn": "Server[@Name='Windows10-Pepe']/Database[@Name='CEFEGEN']/Table[@Name='EntidadMetadata' and @Schema='dbo']"
   },
   "outputs": [],
   "source": [
    "/****** Object:  Table [dbo].[EntidadMetadata]    Script Date: 20/06/2025 18:08:55 ******/\n",
    "SET ANSI_NULLS ON\n",
    "GO\n",
    "SET QUOTED_IDENTIFIER ON\n",
    "GO\n",
    "CREATE TABLE [dbo].[EntidadMetadata](\n",
    "\t[IdMetadata] [int] IDENTITY(1,1) NOT NULL,\n",
    "\t[IdEntidad] [int] NOT NULL,\n",
    "\t[TipoEntidad] [nvarchar](50) NOT NULL,\n",
    "\t[Clave] [nvarchar](50) NOT NULL,\n",
    "\t[Valor] [nvarchar](255) NULL,\n",
    "PRIMARY KEY CLUSTERED \n",
    "(\n",
    "\t[IdMetadata] ASC\n",
    ")WITH (PAD_INDEX = OFF, STATISTICS_NORECOMPUTE = OFF, IGNORE_DUP_KEY = OFF, ALLOW_ROW_LOCKS = ON, ALLOW_PAGE_LOCKS = ON, OPTIMIZE_FOR_SEQUENTIAL_KEY = OFF) ON [PRIMARY]\n",
    ") ON [PRIMARY]\n",
    "GO\n"
   ]
  },
  {
   "cell_type": "markdown",
   "metadata": {
    "object_type": "Table",
    "urn": "Server[@Name='Windows10-Pepe']/Database[@Name='CEFEGEN']/Table[@Name='Envases' and @Schema='dbo']"
   },
   "source": [
    "# [dbo].[Envases]"
   ]
  },
  {
   "cell_type": "code",
   "execution_count": 0,
   "metadata": {
    "object_type": "Table",
    "urn": "Server[@Name='Windows10-Pepe']/Database[@Name='CEFEGEN']/Table[@Name='Envases' and @Schema='dbo']"
   },
   "outputs": [],
   "source": [
    "/****** Object:  Table [dbo].[Envases]    Script Date: 20/06/2025 18:08:55 ******/\n",
    "SET ANSI_NULLS ON\n",
    "GO\n",
    "SET QUOTED_IDENTIFIER ON\n",
    "GO\n",
    "CREATE TABLE [dbo].[Envases](\n",
    "\t[IdEnvase] [int] IDENTITY(1,1) NOT NULL,\n",
    "\t[Descripcion] [nvarchar](100) NOT NULL,\n",
    "\t[Descripcion2] [nvarchar](100) NULL,\n",
    "\t[TipoEnvase] [smallint] NOT NULL,\n",
    "\t[Bloquear] [smallint] NOT NULL,\n",
    "\t[NotasTecnico] [nvarchar](max) NULL,\n",
    "\t[NotasInternas] [nvarchar](max) NULL,\n",
    "\t[Parametros] [nvarchar](max) NULL,\n",
    "PRIMARY KEY CLUSTERED \n",
    "(\n",
    "\t[IdEnvase] ASC\n",
    ")WITH (PAD_INDEX = OFF, STATISTICS_NORECOMPUTE = OFF, IGNORE_DUP_KEY = OFF, ALLOW_ROW_LOCKS = ON, ALLOW_PAGE_LOCKS = ON, OPTIMIZE_FOR_SEQUENTIAL_KEY = OFF) ON [PRIMARY]\n",
    ") ON [PRIMARY] TEXTIMAGE_ON [PRIMARY]\n",
    "GO\n"
   ]
  },
  {
   "cell_type": "markdown",
   "metadata": {
    "object_type": "Table",
    "urn": "Server[@Name='Windows10-Pepe']/Database[@Name='CEFEGEN']/Table[@Name='Equipos' and @Schema='dbo']"
   },
   "source": [
    "# [dbo].[Equipos]"
   ]
  },
  {
   "cell_type": "code",
   "execution_count": 0,
   "metadata": {
    "object_type": "Table",
    "urn": "Server[@Name='Windows10-Pepe']/Database[@Name='CEFEGEN']/Table[@Name='Equipos' and @Schema='dbo']"
   },
   "outputs": [],
   "source": [
    "/****** Object:  Table [dbo].[Equipos]    Script Date: 20/06/2025 18:08:55 ******/\n",
    "SET ANSI_NULLS ON\n",
    "GO\n",
    "SET QUOTED_IDENTIFIER ON\n",
    "GO\n",
    "CREATE TABLE [dbo].[Equipos](\n",
    "\t[IdEquipo] [int] IDENTITY(1,1) NOT NULL,\n",
    "\t[IdEquipoPadre] [int] NULL,\n",
    "\t[Descripcion] [nvarchar](255) NULL,\n",
    "\t[Descripcion2] [nvarchar](255) NULL,\n",
    "\t[IdEspecialidad] [int] NULL,\n",
    "\t[IdProveedor] [int] NULL,\n",
    "\t[IdFabricante] [int] NULL,\n",
    "\t[Marca] [nvarchar](100) NULL,\n",
    "\t[Modelo] [nvarchar](100) NULL,\n",
    "\t[NumeroSerie] [nvarchar](100) NULL,\n",
    "\t[Certificado] [nvarchar](255) NULL,\n",
    "\t[IdPersonal] [int] NULL,\n",
    "\t[FechaCompra] [date] NULL,\n",
    "\t[FechaPuestaMarcha] [date] NULL,\n",
    "\t[FechaBaja] [date] NULL,\n",
    "\t[Info1] [nvarchar](255) NULL,\n",
    "\t[Info2] [nvarchar](255) NULL,\n",
    "\t[Info3] [nvarchar](255) NULL,\n",
    "\t[Info4] [nvarchar](255) NULL,\n",
    "\t[Bloquear] [bit] NULL,\n",
    "\t[Imagen] [varbinary](max) NULL,\n",
    "\t[NotasTecnico] [nvarchar](max) NULL,\n",
    "\t[NotasInternas] [nvarchar](max) NULL,\n",
    "\t[Capacidad] [decimal](10, 2) NULL,\n",
    "\t[Parametros] [nvarchar](max) NULL,\n",
    "PRIMARY KEY CLUSTERED \n",
    "(\n",
    "\t[IdEquipo] ASC\n",
    ")WITH (PAD_INDEX = OFF, STATISTICS_NORECOMPUTE = OFF, IGNORE_DUP_KEY = OFF, ALLOW_ROW_LOCKS = ON, ALLOW_PAGE_LOCKS = ON, OPTIMIZE_FOR_SEQUENTIAL_KEY = OFF) ON [PRIMARY]\n",
    ") ON [PRIMARY] TEXTIMAGE_ON [PRIMARY]\n",
    "GO\n"
   ]
  },
  {
   "cell_type": "markdown",
   "metadata": {
    "object_type": "Table",
    "urn": "Server[@Name='Windows10-Pepe']/Database[@Name='CEFEGEN']/Table[@Name='Especialidades' and @Schema='dbo']"
   },
   "source": [
    "# [dbo].[Especialidades]"
   ]
  },
  {
   "cell_type": "code",
   "execution_count": 0,
   "metadata": {
    "object_type": "Table",
    "urn": "Server[@Name='Windows10-Pepe']/Database[@Name='CEFEGEN']/Table[@Name='Especialidades' and @Schema='dbo']"
   },
   "outputs": [],
   "source": [
    "/****** Object:  Table [dbo].[Especialidades]    Script Date: 20/06/2025 18:08:55 ******/\n",
    "SET ANSI_NULLS ON\n",
    "GO\n",
    "SET QUOTED_IDENTIFIER ON\n",
    "GO\n",
    "CREATE TABLE [dbo].[Especialidades](\n",
    "\t[IdEspecialidad] [int] IDENTITY(1,1) NOT NULL,\n",
    "\t[Descripcion] [nvarchar](255) NOT NULL,\n",
    "\t[Descripcion2] [nvarchar](255) NULL,\n",
    "\t[OrdenEspecialidad] [int] NULL,\n",
    "\t[SaltoDictamen] [varchar](2) NULL,\n",
    "\t[Imagen] [varbinary](max) NULL,\n",
    "\t[Bloquear] [bit] NULL,\n",
    "\t[Observaciones] [nvarchar](max) NULL,\n",
    "\t[NotasTecnico] [nvarchar](max) NULL,\n",
    "\t[NotasInternas] [nvarchar](max) NULL,\n",
    "\t[Parametros] [nvarchar](max) NULL,\n",
    "PRIMARY KEY CLUSTERED \n",
    "(\n",
    "\t[IdEspecialidad] ASC\n",
    ")WITH (PAD_INDEX = OFF, STATISTICS_NORECOMPUTE = OFF, IGNORE_DUP_KEY = OFF, ALLOW_ROW_LOCKS = ON, ALLOW_PAGE_LOCKS = ON, OPTIMIZE_FOR_SEQUENTIAL_KEY = OFF) ON [PRIMARY]\n",
    ") ON [PRIMARY] TEXTIMAGE_ON [PRIMARY]\n",
    "GO\n"
   ]
  },
  {
   "cell_type": "markdown",
   "metadata": {
    "object_type": "Table",
    "urn": "Server[@Name='Windows10-Pepe']/Database[@Name='CEFEGEN']/Table[@Name='Estados' and @Schema='dbo']"
   },
   "source": [
    "# [dbo].[Estados]"
   ]
  },
  {
   "cell_type": "markdown",
   "metadata": {},
   "source": [
    "#### Table: Estados\n",
    "- **Purpose**: Defines possible request states.\n",
    "- **Columns**:\n",
    "  - `IdEstado`: Unique identifier (PK, auto-incremented).\n",
    "  - `NombreEstado`: Unique state name (e.g., “In Progress”).\n",
    "  - `Activo`: Boolean flag for active/inactive status.\n",
    "- **Constraints**:\n",
    "  - `PK_Estados`: Primary key on `IdEstado`.\n",
    "  - `UK_Estados_NombreEstado`: Ensures unique state names.\n",
    "- **Normalization**:\n",
    "  - **1NF**: All attributes are atomic.\n",
    "  - **2NF**: No partial dependencies.\n",
    "  - **3NF**: No transitive dependencies.\n",
    "- **RFP Alignment**:\n",
    "  - Supports state tracking for requests.\n",
    "- **Relationships**:\n",
    "  - One-to-many with `Solicitudes`."
   ]
  },
  {
   "cell_type": "code",
   "execution_count": 0,
   "metadata": {
    "object_type": "Table",
    "urn": "Server[@Name='Windows10-Pepe']/Database[@Name='CEFEGEN']/Table[@Name='Estados' and @Schema='dbo']"
   },
   "outputs": [],
   "source": [
    "/****** Object:  Table [dbo].[Estados]    Script Date: 20/06/2025 18:08:55 ******/\n",
    "SET ANSI_NULLS ON\n",
    "GO\n",
    "SET QUOTED_IDENTIFIER ON\n",
    "GO\n",
    "CREATE TABLE [dbo].[Estados](\n",
    "\t[IdEstado] [int] IDENTITY(1,1) NOT NULL,\n",
    "\t[Nombre] [nvarchar](50) NOT NULL,\n",
    "\t[Descripcion] [nvarchar](255) NULL,\n",
    "\t[Activo] [bit] NULL,\n",
    "\t[DisparaNotificacion] [bit] NOT NULL,\n",
    "PRIMARY KEY CLUSTERED \n",
    "(\n",
    "\t[IdEstado] ASC\n",
    ")WITH (PAD_INDEX = OFF, STATISTICS_NORECOMPUTE = OFF, IGNORE_DUP_KEY = OFF, ALLOW_ROW_LOCKS = ON, ALLOW_PAGE_LOCKS = ON, OPTIMIZE_FOR_SEQUENTIAL_KEY = OFF) ON [PRIMARY],\n",
    "UNIQUE NONCLUSTERED \n",
    "(\n",
    "\t[Nombre] ASC\n",
    ")WITH (PAD_INDEX = OFF, STATISTICS_NORECOMPUTE = OFF, IGNORE_DUP_KEY = OFF, ALLOW_ROW_LOCKS = ON, ALLOW_PAGE_LOCKS = ON, OPTIMIZE_FOR_SEQUENTIAL_KEY = OFF) ON [PRIMARY]\n",
    ") ON [PRIMARY]\n",
    "GO\n"
   ]
  },
  {
   "cell_type": "markdown",
   "metadata": {
    "object_type": "Table",
    "urn": "Server[@Name='Windows10-Pepe']/Database[@Name='CEFEGEN']/Table[@Name='Fabricantes' and @Schema='dbo']"
   },
   "source": [
    "# [dbo].[Fabricantes]"
   ]
  },
  {
   "cell_type": "code",
   "execution_count": 0,
   "metadata": {
    "object_type": "Table",
    "urn": "Server[@Name='Windows10-Pepe']/Database[@Name='CEFEGEN']/Table[@Name='Fabricantes' and @Schema='dbo']"
   },
   "outputs": [],
   "source": [
    "/****** Object:  Table [dbo].[Fabricantes]    Script Date: 20/06/2025 18:08:55 ******/\n",
    "SET ANSI_NULLS ON\n",
    "GO\n",
    "SET QUOTED_IDENTIFIER ON\n",
    "GO\n",
    "CREATE TABLE [dbo].[Fabricantes](\n",
    "\t[IdFabricante] [int] IDENTITY(1,1) NOT NULL,\n",
    "\t[NombreFiscal] [nvarchar](100) NOT NULL,\n",
    "\t[NombreComercial] [nvarchar](100) NOT NULL,\n",
    "\t[CIF] [nvarchar](20) NULL,\n",
    "\t[Contacto] [nvarchar](100) NULL,\n",
    "\t[Telefono] [nvarchar](20) NULL,\n",
    "\t[Telefono2] [nvarchar](20) NULL,\n",
    "\t[Email] [nvarchar](100) NULL,\n",
    "\t[Web] [nvarchar](100) NULL,\n",
    "\t[NotasTecnico] [nvarchar](max) NULL,\n",
    "\t[NotasAdmon] [nvarchar](max) NULL,\n",
    "\t[NotasFacturacion] [nvarchar](max) NULL,\n",
    "\t[NotasInternas] [nvarchar](max) NULL,\n",
    "\t[Imagen] [varbinary](max) NULL,\n",
    "\t[Parametros] [nvarchar](max) NULL,\n",
    "\t[Bloquear] [bit] NOT NULL,\n",
    "\t[EstadoFactura] [bit] NOT NULL,\n",
    "\t[EstadoCobro] [bit] NOT NULL,\n",
    "\t[EstadoContable] [bit] NOT NULL,\n",
    "\t[IdDireccion] [int] NULL,\n",
    "PRIMARY KEY CLUSTERED \n",
    "(\n",
    "\t[IdFabricante] ASC\n",
    ")WITH (PAD_INDEX = OFF, STATISTICS_NORECOMPUTE = OFF, IGNORE_DUP_KEY = OFF, ALLOW_ROW_LOCKS = ON, ALLOW_PAGE_LOCKS = ON, OPTIMIZE_FOR_SEQUENTIAL_KEY = OFF) ON [PRIMARY]\n",
    ") ON [PRIMARY] TEXTIMAGE_ON [PRIMARY]\n",
    "GO\n"
   ]
  },
  {
   "cell_type": "markdown",
   "metadata": {
    "object_type": "Table",
    "urn": "Server[@Name='Windows10-Pepe']/Database[@Name='CEFEGEN']/Table[@Name='Familias' and @Schema='dbo']"
   },
   "source": [
    "# [dbo].[Familias]"
   ]
  },
  {
   "cell_type": "code",
   "execution_count": 0,
   "metadata": {
    "object_type": "Table",
    "urn": "Server[@Name='Windows10-Pepe']/Database[@Name='CEFEGEN']/Table[@Name='Familias' and @Schema='dbo']"
   },
   "outputs": [],
   "source": [
    "/****** Object:  Table [dbo].[Familias]    Script Date: 20/06/2025 18:08:55 ******/\n",
    "SET ANSI_NULLS ON\n",
    "GO\n",
    "SET QUOTED_IDENTIFIER ON\n",
    "GO\n",
    "CREATE TABLE [dbo].[Familias](\n",
    "\t[IdFamilia] [int] IDENTITY(1,1) NOT NULL,\n",
    "\t[Descripcion] [nvarchar](100) NOT NULL,\n",
    "\t[Imagen] [varbinary](max) NULL,\n",
    "\t[NotasTecnico] [nvarchar](max) NULL,\n",
    "\t[NotasInternas] [nvarchar](max) NULL,\n",
    "\t[Nota1] [nvarchar](100) NULL,\n",
    "\t[Nota2] [nvarchar](100) NULL,\n",
    "\t[Parametros] [nvarchar](max) NULL,\n",
    "PRIMARY KEY CLUSTERED \n",
    "(\n",
    "\t[IdFamilia] ASC\n",
    ")WITH (PAD_INDEX = OFF, STATISTICS_NORECOMPUTE = OFF, IGNORE_DUP_KEY = OFF, ALLOW_ROW_LOCKS = ON, ALLOW_PAGE_LOCKS = ON, OPTIMIZE_FOR_SEQUENTIAL_KEY = OFF) ON [PRIMARY]\n",
    ") ON [PRIMARY] TEXTIMAGE_ON [PRIMARY]\n",
    "GO\n"
   ]
  },
  {
   "cell_type": "markdown",
   "metadata": {
    "object_type": "Table",
    "urn": "Server[@Name='Windows10-Pepe']/Database[@Name='CEFEGEN']/Table[@Name='FormasEntrega' and @Schema='dbo']"
   },
   "source": [
    "# [dbo].[FormasEntrega]"
   ]
  },
  {
   "cell_type": "markdown",
   "metadata": {},
   "source": [
    "#### Table: FormasEntrega\n",
    "**Purpose**: Stores delivery methods.\n",
    "**Columns**:\n",
    "- `IdFormaEntrega` (int, PK, IDENTITY): Unique identifier.\n",
    "- `Nombre` (nvarchar(50), NOT NULL): Delivery method name.\n",
    "- `FechaCreacion` (datetime, NOT NULL): Creation timestamp.\n",
    "**Constraints**:\n",
    "- Primary Key: `IdFormaEntrega` (line 281).\n",
    "**Normalization**: 3NF.\n",
    "**Notes**: Meets RFP’s delivery method requirement."
   ]
  },
  {
   "cell_type": "code",
   "execution_count": 0,
   "metadata": {
    "object_type": "Table",
    "urn": "Server[@Name='Windows10-Pepe']/Database[@Name='CEFEGEN']/Table[@Name='FormasEntrega' and @Schema='dbo']"
   },
   "outputs": [],
   "source": [
    "/****** Object:  Table [dbo].[FormasEntrega]    Script Date: 20/06/2025 18:08:55 ******/\n",
    "SET ANSI_NULLS ON\n",
    "GO\n",
    "SET QUOTED_IDENTIFIER ON\n",
    "GO\n",
    "CREATE TABLE [dbo].[FormasEntrega](\n",
    "\t[IdFormaEntrega] [int] IDENTITY(1,1) NOT NULL,\n",
    "\t[Descripcion] [nvarchar](100) NOT NULL,\n",
    "PRIMARY KEY CLUSTERED \n",
    "(\n",
    "\t[IdFormaEntrega] ASC\n",
    ")WITH (PAD_INDEX = OFF, STATISTICS_NORECOMPUTE = OFF, IGNORE_DUP_KEY = OFF, ALLOW_ROW_LOCKS = ON, ALLOW_PAGE_LOCKS = ON, OPTIMIZE_FOR_SEQUENTIAL_KEY = OFF) ON [PRIMARY]\n",
    ") ON [PRIMARY]\n",
    "GO\n"
   ]
  },
  {
   "cell_type": "markdown",
   "metadata": {
    "object_type": "Table",
    "urn": "Server[@Name='Windows10-Pepe']/Database[@Name='CEFEGEN']/Table[@Name='FormasPago' and @Schema='dbo']"
   },
   "source": [
    "# [dbo].[FormasPago]"
   ]
  },
  {
   "cell_type": "markdown",
   "metadata": {},
   "source": [
    "#### Table: FormasPago\n",
    "**Purpose**: Stores payment methods.\n",
    "**Columns**:\n",
    "- `IdFormaPago` (int, PK, IDENTITY): Unique identifier.\n",
    "- `Nombre` (nvarchar(50), NOT NULL): Payment method name.\n",
    "- `FechaCreacion` (datetime, NOT NULL): Creation timestamp.\n",
    "**Constraints**:\n",
    "- Primary Key: `IdFormaPago` (line 288).\n",
    "**Normalization**: 3NF.\n",
    "**Notes**: Meets RFP’s payment method requirement."
   ]
  },
  {
   "cell_type": "code",
   "execution_count": 0,
   "metadata": {
    "object_type": "Table",
    "urn": "Server[@Name='Windows10-Pepe']/Database[@Name='CEFEGEN']/Table[@Name='FormasPago' and @Schema='dbo']"
   },
   "outputs": [],
   "source": [
    "/****** Object:  Table [dbo].[FormasPago]    Script Date: 20/06/2025 18:08:55 ******/\n",
    "SET ANSI_NULLS ON\n",
    "GO\n",
    "SET QUOTED_IDENTIFIER ON\n",
    "GO\n",
    "CREATE TABLE [dbo].[FormasPago](\n",
    "\t[IdFormaPago] [int] IDENTITY(1,1) NOT NULL,\n",
    "\t[Nombre] [nvarchar](100) NOT NULL,\n",
    "\t[Descripcion] [nvarchar](255) NULL,\n",
    "\t[RequiereCuentaBanco] [bit] NOT NULL,\n",
    "\t[Activa] [bit] NOT NULL,\n",
    "\t[FechaAlta] [date] NOT NULL,\n",
    "PRIMARY KEY CLUSTERED \n",
    "(\n",
    "\t[IdFormaPago] ASC\n",
    ")WITH (PAD_INDEX = OFF, STATISTICS_NORECOMPUTE = OFF, IGNORE_DUP_KEY = OFF, ALLOW_ROW_LOCKS = ON, ALLOW_PAGE_LOCKS = ON, OPTIMIZE_FOR_SEQUENTIAL_KEY = OFF) ON [PRIMARY],\n",
    "UNIQUE NONCLUSTERED \n",
    "(\n",
    "\t[Nombre] ASC\n",
    ")WITH (PAD_INDEX = OFF, STATISTICS_NORECOMPUTE = OFF, IGNORE_DUP_KEY = OFF, ALLOW_ROW_LOCKS = ON, ALLOW_PAGE_LOCKS = ON, OPTIMIZE_FOR_SEQUENTIAL_KEY = OFF) ON [PRIMARY]\n",
    ") ON [PRIMARY]\n",
    "GO\n"
   ]
  },
  {
   "cell_type": "markdown",
   "metadata": {
    "object_type": "Table",
    "urn": "Server[@Name='Windows10-Pepe']/Database[@Name='CEFEGEN']/Table[@Name='HistorialImpresion' and @Schema='dbo']"
   },
   "source": [
    "# [dbo].[HistorialImpresion]"
   ]
  },
  {
   "cell_type": "code",
   "execution_count": 0,
   "metadata": {
    "object_type": "Table",
    "urn": "Server[@Name='Windows10-Pepe']/Database[@Name='CEFEGEN']/Table[@Name='HistorialImpresion' and @Schema='dbo']"
   },
   "outputs": [],
   "source": [
    "/****** Object:  Table [dbo].[HistorialImpresion]    Script Date: 20/06/2025 18:08:55 ******/\n",
    "SET ANSI_NULLS ON\n",
    "GO\n",
    "SET QUOTED_IDENTIFIER ON\n",
    "GO\n",
    "CREATE TABLE [dbo].[HistorialImpresion](\n",
    "\t[IdHistorial] [int] IDENTITY(1,1) NOT NULL,\n",
    "\t[IdImpresora] [int] NULL,\n",
    "\t[NombreDocumento] [nvarchar](255) NULL,\n",
    "\t[FechaImpresion] [datetime] NULL,\n",
    "\t[IdUsuario] [int] NULL,\n",
    "\t[Estado] [nvarchar](50) NULL,\n",
    "PRIMARY KEY CLUSTERED \n",
    "(\n",
    "\t[IdHistorial] ASC\n",
    ")WITH (PAD_INDEX = OFF, STATISTICS_NORECOMPUTE = OFF, IGNORE_DUP_KEY = OFF, ALLOW_ROW_LOCKS = ON, ALLOW_PAGE_LOCKS = ON, OPTIMIZE_FOR_SEQUENTIAL_KEY = OFF) ON [PRIMARY]\n",
    ") ON [PRIMARY]\n",
    "GO\n"
   ]
  },
  {
   "cell_type": "markdown",
   "metadata": {
    "object_type": "Table",
    "urn": "Server[@Name='Windows10-Pepe']/Database[@Name='CEFEGEN']/Table[@Name='Idiomas' and @Schema='dbo']"
   },
   "source": [
    "# [dbo].[Idiomas]"
   ]
  },
  {
   "cell_type": "code",
   "execution_count": 0,
   "metadata": {
    "object_type": "Table",
    "urn": "Server[@Name='Windows10-Pepe']/Database[@Name='CEFEGEN']/Table[@Name='Idiomas' and @Schema='dbo']"
   },
   "outputs": [],
   "source": [
    "/****** Object:  Table [dbo].[Idiomas]    Script Date: 20/06/2025 18:08:55 ******/\n",
    "SET ANSI_NULLS ON\n",
    "GO\n",
    "SET QUOTED_IDENTIFIER ON\n",
    "GO\n",
    "CREATE TABLE [dbo].[Idiomas](\n",
    "\t[IdIdioma] [char](2) NOT NULL,\n",
    "\t[Nombre] [nvarchar](100) NOT NULL,\n",
    "\t[Activo] [bit] NOT NULL,\n",
    "\t[FechaAlta] [date] NOT NULL,\n",
    "PRIMARY KEY CLUSTERED \n",
    "(\n",
    "\t[IdIdioma] ASC\n",
    ")WITH (PAD_INDEX = OFF, STATISTICS_NORECOMPUTE = OFF, IGNORE_DUP_KEY = OFF, ALLOW_ROW_LOCKS = ON, ALLOW_PAGE_LOCKS = ON, OPTIMIZE_FOR_SEQUENTIAL_KEY = OFF) ON [PRIMARY],\n",
    "UNIQUE NONCLUSTERED \n",
    "(\n",
    "\t[Nombre] ASC\n",
    ")WITH (PAD_INDEX = OFF, STATISTICS_NORECOMPUTE = OFF, IGNORE_DUP_KEY = OFF, ALLOW_ROW_LOCKS = ON, ALLOW_PAGE_LOCKS = ON, OPTIMIZE_FOR_SEQUENTIAL_KEY = OFF) ON [PRIMARY]\n",
    ") ON [PRIMARY]\n",
    "GO\n"
   ]
  },
  {
   "cell_type": "markdown",
   "metadata": {
    "object_type": "Table",
    "urn": "Server[@Name='Windows10-Pepe']/Database[@Name='CEFEGEN']/Table[@Name='Impresoras' and @Schema='dbo']"
   },
   "source": [
    "# [dbo].[Impresoras]"
   ]
  },
  {
   "cell_type": "code",
   "execution_count": 0,
   "metadata": {
    "object_type": "Table",
    "urn": "Server[@Name='Windows10-Pepe']/Database[@Name='CEFEGEN']/Table[@Name='Impresoras' and @Schema='dbo']"
   },
   "outputs": [],
   "source": [
    "/****** Object:  Table [dbo].[Impresoras]    Script Date: 20/06/2025 18:08:55 ******/\n",
    "SET ANSI_NULLS ON\n",
    "GO\n",
    "SET QUOTED_IDENTIFIER ON\n",
    "GO\n",
    "CREATE TABLE [dbo].[Impresoras](\n",
    "\t[IdImpresora] [int] IDENTITY(1,1) NOT NULL,\n",
    "\t[Nombre] [nvarchar](100) NOT NULL,\n",
    "\t[Modelo] [nvarchar](100) NULL,\n",
    "\t[Ubicacion] [nvarchar](255) NULL,\n",
    "\t[Tipo] [nvarchar](50) NULL,\n",
    "\t[DireccionRed] [nvarchar](255) NULL,\n",
    "\t[Activa] [bit] NOT NULL,\n",
    "\t[FechaRegistro] [datetime] NOT NULL,\n",
    "PRIMARY KEY CLUSTERED \n",
    "(\n",
    "\t[IdImpresora] ASC\n",
    ")WITH (PAD_INDEX = OFF, STATISTICS_NORECOMPUTE = OFF, IGNORE_DUP_KEY = OFF, ALLOW_ROW_LOCKS = ON, ALLOW_PAGE_LOCKS = ON, OPTIMIZE_FOR_SEQUENTIAL_KEY = OFF) ON [PRIMARY]\n",
    ") ON [PRIMARY]\n",
    "GO\n"
   ]
  },
  {
   "cell_type": "markdown",
   "metadata": {
    "object_type": "Table",
    "urn": "Server[@Name='Windows10-Pepe']/Database[@Name='CEFEGEN']/Table[@Name='IncrementosIntervinientes' and @Schema='dbo']"
   },
   "source": [
    "# [dbo].[IncrementosIntervinientes]"
   ]
  },
  {
   "cell_type": "code",
   "execution_count": 0,
   "metadata": {
    "object_type": "Table",
    "urn": "Server[@Name='Windows10-Pepe']/Database[@Name='CEFEGEN']/Table[@Name='IncrementosIntervinientes' and @Schema='dbo']"
   },
   "outputs": [],
   "source": [
    "/****** Object:  Table [dbo].[IncrementosIntervinientes]    Script Date: 20/06/2025 18:08:55 ******/\n",
    "SET ANSI_NULLS ON\n",
    "GO\n",
    "SET QUOTED_IDENTIFIER ON\n",
    "GO\n",
    "CREATE TABLE [dbo].[IncrementosIntervinientes](\n",
    "\t[NumIntervinientes] [int] NOT NULL,\n",
    "\t[IncrementoFijo] [decimal](10, 2) NOT NULL,\n",
    "PRIMARY KEY CLUSTERED \n",
    "(\n",
    "\t[NumIntervinientes] ASC\n",
    ")WITH (PAD_INDEX = OFF, STATISTICS_NORECOMPUTE = OFF, IGNORE_DUP_KEY = OFF, ALLOW_ROW_LOCKS = ON, ALLOW_PAGE_LOCKS = ON, OPTIMIZE_FOR_SEQUENTIAL_KEY = OFF) ON [PRIMARY]\n",
    ") ON [PRIMARY]\n",
    "GO\n"
   ]
  },
  {
   "cell_type": "markdown",
   "metadata": {
    "object_type": "Table",
    "urn": "Server[@Name='Windows10-Pepe']/Database[@Name='CEFEGEN']/Table[@Name='IndiceParentesco_Resultados' and @Schema='dbo']"
   },
   "source": [
    "# [dbo].[IndiceParentesco_Resultados]"
   ]
  },
  {
   "cell_type": "code",
   "execution_count": 0,
   "metadata": {
    "object_type": "Table",
    "urn": "Server[@Name='Windows10-Pepe']/Database[@Name='CEFEGEN']/Table[@Name='IndiceParentesco_Resultados' and @Schema='dbo']"
   },
   "outputs": [],
   "source": [
    "/****** Object:  Table [dbo].[IndiceParentesco_Resultados]    Script Date: 20/06/2025 18:08:55 ******/\n",
    "SET ANSI_NULLS ON\n",
    "GO\n",
    "SET QUOTED_IDENTIFIER ON\n",
    "GO\n",
    "CREATE TABLE [dbo].[IndiceParentesco_Resultados](\n",
    "\t[IdIndiceParentesco] [int] NOT NULL,\n",
    "\t[IdResultadoParentesco] [int] NOT NULL,\n",
    "PRIMARY KEY CLUSTERED \n",
    "(\n",
    "\t[IdIndiceParentesco] ASC,\n",
    "\t[IdResultadoParentesco] ASC\n",
    ")WITH (PAD_INDEX = OFF, STATISTICS_NORECOMPUTE = OFF, IGNORE_DUP_KEY = OFF, ALLOW_ROW_LOCKS = ON, ALLOW_PAGE_LOCKS = ON, OPTIMIZE_FOR_SEQUENTIAL_KEY = OFF) ON [PRIMARY]\n",
    ") ON [PRIMARY]\n",
    "GO\n"
   ]
  },
  {
   "cell_type": "markdown",
   "metadata": {
    "object_type": "Table",
    "urn": "Server[@Name='Windows10-Pepe']/Database[@Name='CEFEGEN']/Table[@Name='InformesGenerados' and @Schema='dbo']"
   },
   "source": [
    "# [dbo].[InformesGenerados]"
   ]
  },
  {
   "cell_type": "code",
   "execution_count": 0,
   "metadata": {
    "object_type": "Table",
    "urn": "Server[@Name='Windows10-Pepe']/Database[@Name='CEFEGEN']/Table[@Name='InformesGenerados' and @Schema='dbo']"
   },
   "outputs": [],
   "source": [
    "/****** Object:  Table [dbo].[InformesGenerados]    Script Date: 20/06/2025 18:08:55 ******/\n",
    "SET ANSI_NULLS ON\n",
    "GO\n",
    "SET QUOTED_IDENTIFIER ON\n",
    "GO\n",
    "CREATE TABLE [dbo].[InformesGenerados](\n",
    "\t[IdInforme] [int] IDENTITY(1,1) NOT NULL,\n",
    "\t[IdSolicitud] [int] NOT NULL,\n",
    "\t[IdPlantilla] [int] NOT NULL,\n",
    "\t[IdDocumento] [int] NOT NULL,\n",
    "\t[FechaGeneracion] [datetime] NOT NULL,\n",
    "\t[IdUsuario] [int] NOT NULL,\n",
    "\t[Estado] [nvarchar](50) NOT NULL,\n",
    "PRIMARY KEY CLUSTERED \n",
    "(\n",
    "\t[IdInforme] ASC\n",
    ")WITH (PAD_INDEX = OFF, STATISTICS_NORECOMPUTE = OFF, IGNORE_DUP_KEY = OFF, ALLOW_ROW_LOCKS = ON, ALLOW_PAGE_LOCKS = ON, OPTIMIZE_FOR_SEQUENTIAL_KEY = OFF) ON [PRIMARY]\n",
    ") ON [PRIMARY]\n",
    "GO\n"
   ]
  },
  {
   "cell_type": "markdown",
   "metadata": {
    "object_type": "Table",
    "urn": "Server[@Name='Windows10-Pepe']/Database[@Name='CEFEGEN']/Table[@Name='IVA' and @Schema='dbo']"
   },
   "source": [
    "# [dbo].[IVA]"
   ]
  },
  {
   "cell_type": "code",
   "execution_count": 0,
   "metadata": {
    "object_type": "Table",
    "urn": "Server[@Name='Windows10-Pepe']/Database[@Name='CEFEGEN']/Table[@Name='IVA' and @Schema='dbo']"
   },
   "outputs": [],
   "source": [
    "/****** Object:  Table [dbo].[IVA]    Script Date: 20/06/2025 18:08:55 ******/\n",
    "SET ANSI_NULLS ON\n",
    "GO\n",
    "SET QUOTED_IDENTIFIER ON\n",
    "GO\n",
    "CREATE TABLE [dbo].[IVA](\n",
    "\t[IdIVA] [int] IDENTITY(1,1) NOT NULL,\n",
    "\t[Nombre] [nvarchar](100) NOT NULL,\n",
    "\t[Porcentaje] [decimal](5, 2) NOT NULL,\n",
    "\t[Descripcion] [nvarchar](255) NULL,\n",
    "\t[Activo] [bit] NOT NULL,\n",
    "\t[FechaAlta] [date] NOT NULL,\n",
    "PRIMARY KEY CLUSTERED \n",
    "(\n",
    "\t[IdIVA] ASC\n",
    ")WITH (PAD_INDEX = OFF, STATISTICS_NORECOMPUTE = OFF, IGNORE_DUP_KEY = OFF, ALLOW_ROW_LOCKS = ON, ALLOW_PAGE_LOCKS = ON, OPTIMIZE_FOR_SEQUENTIAL_KEY = OFF) ON [PRIMARY],\n",
    "UNIQUE NONCLUSTERED \n",
    "(\n",
    "\t[Nombre] ASC\n",
    ")WITH (PAD_INDEX = OFF, STATISTICS_NORECOMPUTE = OFF, IGNORE_DUP_KEY = OFF, ALLOW_ROW_LOCKS = ON, ALLOW_PAGE_LOCKS = ON, OPTIMIZE_FOR_SEQUENTIAL_KEY = OFF) ON [PRIMARY]\n",
    ") ON [PRIMARY]\n",
    "GO\n"
   ]
  },
  {
   "cell_type": "markdown",
   "metadata": {
    "object_type": "Table",
    "urn": "Server[@Name='Windows10-Pepe']/Database[@Name='CEFEGEN']/Table[@Name='LaboratorioImportes' and @Schema='dbo']"
   },
   "source": [
    "# [dbo].[LaboratorioImportes]"
   ]
  },
  {
   "cell_type": "code",
   "execution_count": 0,
   "metadata": {
    "object_type": "Table",
    "urn": "Server[@Name='Windows10-Pepe']/Database[@Name='CEFEGEN']/Table[@Name='LaboratorioImportes' and @Schema='dbo']"
   },
   "outputs": [],
   "source": [
    "/****** Object:  Table [dbo].[LaboratorioImportes]    Script Date: 20/06/2025 18:08:55 ******/\n",
    "SET ANSI_NULLS ON\n",
    "GO\n",
    "SET QUOTED_IDENTIFIER ON\n",
    "GO\n",
    "CREATE TABLE [dbo].[LaboratorioImportes](\n",
    "\t[IdImporte] [int] IDENTITY(1,1) NOT NULL,\n",
    "\t[IdLaboratorioColaborador] [int] NOT NULL,\n",
    "\t[Periodo] [date] NOT NULL,\n",
    "\t[Importe] [decimal](10, 2) NOT NULL,\n",
    "PRIMARY KEY CLUSTERED \n",
    "(\n",
    "\t[IdImporte] ASC\n",
    ")WITH (PAD_INDEX = OFF, STATISTICS_NORECOMPUTE = OFF, IGNORE_DUP_KEY = OFF, ALLOW_ROW_LOCKS = ON, ALLOW_PAGE_LOCKS = ON, OPTIMIZE_FOR_SEQUENTIAL_KEY = OFF) ON [PRIMARY]\n",
    ") ON [PRIMARY]\n",
    "GO\n"
   ]
  },
  {
   "cell_type": "markdown",
   "metadata": {
    "object_type": "Table",
    "urn": "Server[@Name='Windows10-Pepe']/Database[@Name='CEFEGEN']/Table[@Name='MarcadorComparisons' and @Schema='dbo']"
   },
   "source": [
    "# [dbo].[MarcadorComparisons]"
   ]
  },
  {
   "cell_type": "code",
   "execution_count": 0,
   "metadata": {
    "object_type": "Table",
    "urn": "Server[@Name='Windows10-Pepe']/Database[@Name='CEFEGEN']/Table[@Name='MarcadorComparisons' and @Schema='dbo']"
   },
   "outputs": [],
   "source": [
    "/****** Object:  Table [dbo].[MarcadorComparisons]    Script Date: 20/06/2025 18:08:55 ******/\n",
    "SET ANSI_NULLS ON\n",
    "GO\n",
    "SET QUOTED_IDENTIFIER ON\n",
    "GO\n",
    "CREATE TABLE [dbo].[MarcadorComparisons](\n",
    "\t[IdComparison] [int] IDENTITY(1,1) NOT NULL,\n",
    "\t[IdResultadoParentesco1] [int] NOT NULL,\n",
    "\t[IdResultadoParentesco2] [int] NOT NULL,\n",
    "\t[Coincidencia] [bit] NOT NULL,\n",
    "PRIMARY KEY CLUSTERED \n",
    "(\n",
    "\t[IdComparison] ASC\n",
    ")WITH (PAD_INDEX = OFF, STATISTICS_NORECOMPUTE = OFF, IGNORE_DUP_KEY = OFF, ALLOW_ROW_LOCKS = ON, ALLOW_PAGE_LOCKS = ON, OPTIMIZE_FOR_SEQUENTIAL_KEY = OFF) ON [PRIMARY]\n",
    ") ON [PRIMARY]\n",
    "GO\n"
   ]
  },
  {
   "cell_type": "markdown",
   "metadata": {
    "object_type": "Table",
    "urn": "Server[@Name='Windows10-Pepe']/Database[@Name='CEFEGEN']/Table[@Name='MetodosAmplificacion' and @Schema='dbo']"
   },
   "source": [
    "# [dbo].[MetodosAmplificacion]"
   ]
  },
  {
   "cell_type": "code",
   "execution_count": 0,
   "metadata": {
    "object_type": "Table",
    "urn": "Server[@Name='Windows10-Pepe']/Database[@Name='CEFEGEN']/Table[@Name='MetodosAmplificacion' and @Schema='dbo']"
   },
   "outputs": [],
   "source": [
    "/****** Object:  Table [dbo].[MetodosAmplificacion]    Script Date: 20/06/2025 18:08:55 ******/\n",
    "SET ANSI_NULLS ON\n",
    "GO\n",
    "SET QUOTED_IDENTIFIER ON\n",
    "GO\n",
    "CREATE TABLE [dbo].[MetodosAmplificacion](\n",
    "\t[IdMetodo] [int] IDENTITY(1,1) NOT NULL,\n",
    "\t[NombreMetodo] [nvarchar](100) NOT NULL,\n",
    "\t[Descripcion] [nvarchar](500) NULL,\n",
    "\t[FechaCreacion] [datetime] NULL,\n",
    "\t[Activo] [bit] NULL,\n",
    "PRIMARY KEY CLUSTERED \n",
    "(\n",
    "\t[IdMetodo] ASC\n",
    ")WITH (PAD_INDEX = OFF, STATISTICS_NORECOMPUTE = OFF, IGNORE_DUP_KEY = OFF, ALLOW_ROW_LOCKS = ON, ALLOW_PAGE_LOCKS = ON, OPTIMIZE_FOR_SEQUENTIAL_KEY = OFF) ON [PRIMARY],\n",
    " CONSTRAINT [UQ_MetodoAmplificacion_Nombre] UNIQUE NONCLUSTERED \n",
    "(\n",
    "\t[NombreMetodo] ASC\n",
    ")WITH (PAD_INDEX = OFF, STATISTICS_NORECOMPUTE = OFF, IGNORE_DUP_KEY = OFF, ALLOW_ROW_LOCKS = ON, ALLOW_PAGE_LOCKS = ON, OPTIMIZE_FOR_SEQUENTIAL_KEY = OFF) ON [PRIMARY]\n",
    ") ON [PRIMARY]\n",
    "GO\n"
   ]
  },
  {
   "cell_type": "markdown",
   "metadata": {
    "object_type": "Table",
    "urn": "Server[@Name='Windows10-Pepe']/Database[@Name='CEFEGEN']/Table[@Name='MetodosExtraccion' and @Schema='dbo']"
   },
   "source": [
    "# [dbo].[MetodosExtraccion]"
   ]
  },
  {
   "cell_type": "code",
   "execution_count": 0,
   "metadata": {
    "object_type": "Table",
    "urn": "Server[@Name='Windows10-Pepe']/Database[@Name='CEFEGEN']/Table[@Name='MetodosExtraccion' and @Schema='dbo']"
   },
   "outputs": [],
   "source": [
    "/****** Object:  Table [dbo].[MetodosExtraccion]    Script Date: 20/06/2025 18:08:55 ******/\n",
    "SET ANSI_NULLS ON\n",
    "GO\n",
    "SET QUOTED_IDENTIFIER ON\n",
    "GO\n",
    "CREATE TABLE [dbo].[MetodosExtraccion](\n",
    "\t[IdMetodo] [int] IDENTITY(1,1) NOT NULL,\n",
    "\t[NombreMetodo] [nvarchar](100) NOT NULL,\n",
    "\t[Descripcion] [nvarchar](500) NULL,\n",
    "\t[FechaCreacion] [datetime] NULL,\n",
    "\t[Activo] [bit] NULL,\n",
    "PRIMARY KEY CLUSTERED \n",
    "(\n",
    "\t[IdMetodo] ASC\n",
    ")WITH (PAD_INDEX = OFF, STATISTICS_NORECOMPUTE = OFF, IGNORE_DUP_KEY = OFF, ALLOW_ROW_LOCKS = ON, ALLOW_PAGE_LOCKS = ON, OPTIMIZE_FOR_SEQUENTIAL_KEY = OFF) ON [PRIMARY]\n",
    ") ON [PRIMARY]\n",
    "GO\n"
   ]
  },
  {
   "cell_type": "markdown",
   "metadata": {
    "object_type": "Table",
    "urn": "Server[@Name='Windows10-Pepe']/Database[@Name='CEFEGEN']/Table[@Name='MovimientosMuestras' and @Schema='dbo']"
   },
   "source": [
    "# [dbo].[MovimientosMuestras]"
   ]
  },
  {
   "cell_type": "markdown",
   "metadata": {},
   "source": [
    "#### Table: MovimientosMuestras\n",
    "- **Purpose**: Logs sample movements for traceability.\n",
    "- **Columns**:\n",
    "  - `IdMovimiento`: Unique identifier (PK, auto-incremented).\n",
    "  - `IdMuestra`: FK to `Muestras`.\n",
    "  - `IdTipoMovimiento`: FK to `TiposMovimiento`, specifying movement type.\n",
    "  - `IdUsuario`: FK to `Usuarios`, identifying the user.\n",
    "  - `FechaMovimiento`: Timestamp of the movement.\n",
    "  - `Ubicacion`: Location details (e.g., “Freezer A”).\n",
    "  - `Observaciones`: Optional notes.\n",
    "- **Constraints**:\n",
    "  - `PK_MovimientosMuestras`: Primary key on `IdMovimiento`.\n",
    "  - FKs to `Muestras`, `TiposMovimiento`, `Usuarios`.\n",
    "- **Normalization**:\n",
    "  - **1NF**: All attributes are atomic.\n",
    "  - **2NF**: No partial dependencies.\n",
    "  - **3NF**: No transitive dependencies.\n",
    "- **RFP Alignment**:\n",
    "  - Supports sample tracking and auditing.\n",
    "- **Relationships**:\n",
    "  - Many-to-one with `Muestras`, `TiposMovimiento`, `Usuarios`."
   ]
  },
  {
   "cell_type": "code",
   "execution_count": 0,
   "metadata": {
    "object_type": "Table",
    "urn": "Server[@Name='Windows10-Pepe']/Database[@Name='CEFEGEN']/Table[@Name='MovimientosMuestras' and @Schema='dbo']"
   },
   "outputs": [],
   "source": [
    "/****** Object:  Table [dbo].[MovimientosMuestras]    Script Date: 20/06/2025 18:08:55 ******/\n",
    "SET ANSI_NULLS ON\n",
    "GO\n",
    "SET QUOTED_IDENTIFIER ON\n",
    "GO\n",
    "CREATE TABLE [dbo].[MovimientosMuestras](\n",
    "\t[IdMovimiento] [int] IDENTITY(1,1) NOT NULL,\n",
    "\t[IdMuestra] [int] NOT NULL,\n",
    "\t[FechaMovimiento] [datetime] NOT NULL,\n",
    "\t[Ubicacion] [nvarchar](100) NULL,\n",
    "\t[IdUsuario] [int] NULL,\n",
    "\t[Observaciones] [nvarchar](500) NULL,\n",
    "\t[IdTipoMovimiento] [int] NOT NULL,\n",
    "PRIMARY KEY CLUSTERED \n",
    "(\n",
    "\t[IdMovimiento] ASC\n",
    ")WITH (PAD_INDEX = OFF, STATISTICS_NORECOMPUTE = OFF, IGNORE_DUP_KEY = OFF, ALLOW_ROW_LOCKS = ON, ALLOW_PAGE_LOCKS = ON, OPTIMIZE_FOR_SEQUENTIAL_KEY = OFF) ON [PRIMARY]\n",
    ") ON [PRIMARY]\n",
    "GO\n"
   ]
  },
  {
   "cell_type": "markdown",
   "metadata": {
    "object_type": "Table",
    "urn": "Server[@Name='Windows10-Pepe']/Database[@Name='CEFEGEN']/Table[@Name='Muestras' and @Schema='dbo']"
   },
   "source": [
    "# [dbo].[Muestras]"
   ]
  },
  {
   "cell_type": "markdown",
   "metadata": {},
   "source": [
    "#### Table: Muestras\n",
    "- **Purpose**: Tracks DNA samples from reception to analysis, including QR code identification.\n",
    "- **Columns**:\n",
    "  - `IdMuestra`: Unique identifier (PK, auto-incremented).\n",
    "  - `IdSolicitud`: FK to `Solicitudes`, linking to the request.\n",
    "  - `IdInterviniente`: FK to `Intervinientes`, identifying the sample provider.\n",
    "  - `IdTipoMuestra`: FK to `TiposMuestra`, specifying sample type.\n",
    "  - `IdTomaMuestra`: FK to `TomasMuestra`, linking to collection details (nullable).\n",
    "  - `IdMetodoExtraccion`: FK to `MetodosExtraccion`, specifying extraction method (nullable).\n",
    "  - `IdMetodoAmplificacion`: FK to `MetodosAmplificacion`, specifying amplification method (nullable).\n",
    "  - `CodigoMuestra`: Unique sample code (e.g., “23023-Hi-1”, generated by `TRG_SetCodigoMuestra`).\n",
    "  - `BarcodeQrCode`: Unique QR/barcode identifier (from Addendum 3).\n",
    "  - `FechaRecepcion`: Timestamp of sample reception.\n",
    "  - `FechaExtraccion`: Timestamp of extraction (nullable).\n",
    "  - `Valida`: Boolean flag for sample validity.\n",
    "  - `Intentos`: Number of sample attempts (defaults to 1).\n",
    "  - `Observaciones`: Optional notes.\n",
    "- **Constraints**:\n",
    "  - `PK_Muestras`: Primary key on `IdMuestra`.\n",
    "  - `UK_Muestras_CodigoMuestra`: Ensures unique sample codes.\n",
    "  - `UK_Muestras_BarcodeQrCode`: Ensures unique QR/barcodes.\n",
    "  - FKs to `Solicitudes`, `Intervinientes`, `TiposMuestra`, `TomasMuestra`, `MetodosExtraccion`, `MetodosAmplificacion`.\n",
    "- **Normalization**:\n",
    "  - **1NF**: All attributes are atomic.\n",
    "  - **2NF**: No partial dependencies.\n",
    "  - **3NF**: No transitive dependencies.\n",
    "- **RFP Alignment**:\n",
    "  - Supports sample registration, validation, and QR code generation.\n",
    "  - Links to requests, interveners, and collection details.\n",
    "- **Relationships**:\n",
    "  - Many-to-one with `Solicitudes`, `Intervinientes`, `TiposMuestra`, `MetodosExtraccion`, `MetodosAmplificacion`.\n",
    "  - One-to-one with `TomasMuestra`.\n",
    "  - One-to-many with `MovimientosMuestras`."
   ]
  },
  {
   "cell_type": "code",
   "execution_count": 0,
   "metadata": {
    "object_type": "Table",
    "urn": "Server[@Name='Windows10-Pepe']/Database[@Name='CEFEGEN']/Table[@Name='Muestras' and @Schema='dbo']"
   },
   "outputs": [],
   "source": [
    "/****** Object:  Table [dbo].[Muestras]    Script Date: 20/06/2025 18:08:55 ******/\n",
    "SET ANSI_NULLS ON\n",
    "GO\n",
    "SET QUOTED_IDENTIFIER ON\n",
    "GO\n",
    "CREATE TABLE [dbo].[Muestras](\n",
    "\t[IdMuestra] [int] IDENTITY(1,1) NOT NULL,\n",
    "\t[CodigoMuestra] [nvarchar](50) NOT NULL,\n",
    "\t[FechaExtraccion] [date] NULL,\n",
    "\t[Observaciones] [nvarchar](max) NULL,\n",
    "\t[IdSolicitante] [int] NULL,\n",
    "\t[IdInterviniente] [int] NULL,\n",
    "\t[TipoMuestra] [int] NULL,\n",
    "\t[IdPersonaTomaMuestras] [int] NULL,\n",
    "\t[IdMetodoExtraccion] [int] NULL,\n",
    "\t[IdMetodoAmplificacion] [int] NULL,\n",
    "\t[FechaAmplificacion] [date] NULL,\n",
    "\t[IdTecnicoAmplificacion] [int] NULL,\n",
    "\t[Posicion] [char](4) NULL,\n",
    "\t[Valida] [bit] NOT NULL,\n",
    "\t[FechaRecepcion] [date] NOT NULL,\n",
    "\t[IdCentroToma] [int] NOT NULL,\n",
    "\t[IdTecnicoExtraccion] [int] NOT NULL,\n",
    "\t[IdPeticion] [int] NULL,\n",
    "\t[IdSolicitud] [int] NOT NULL,\n",
    "\t[Intentos] [int] NOT NULL,\n",
    "\t[BarcodeQrCode] [nvarchar](100) NULL,\n",
    "\t[QrCodeContent] [nvarchar](500) NULL,\n",
    "PRIMARY KEY CLUSTERED \n",
    "(\n",
    "\t[IdMuestra] ASC\n",
    ")WITH (PAD_INDEX = OFF, STATISTICS_NORECOMPUTE = OFF, IGNORE_DUP_KEY = OFF, ALLOW_ROW_LOCKS = ON, ALLOW_PAGE_LOCKS = ON, OPTIMIZE_FOR_SEQUENTIAL_KEY = OFF) ON [PRIMARY],\n",
    "UNIQUE NONCLUSTERED \n",
    "(\n",
    "\t[QrCodeContent] ASC\n",
    ")WITH (PAD_INDEX = OFF, STATISTICS_NORECOMPUTE = OFF, IGNORE_DUP_KEY = OFF, ALLOW_ROW_LOCKS = ON, ALLOW_PAGE_LOCKS = ON, OPTIMIZE_FOR_SEQUENTIAL_KEY = OFF) ON [PRIMARY],\n",
    "UNIQUE NONCLUSTERED \n",
    "(\n",
    "\t[BarcodeQrCode] ASC\n",
    ")WITH (PAD_INDEX = OFF, STATISTICS_NORECOMPUTE = OFF, IGNORE_DUP_KEY = OFF, ALLOW_ROW_LOCKS = ON, ALLOW_PAGE_LOCKS = ON, OPTIMIZE_FOR_SEQUENTIAL_KEY = OFF) ON [PRIMARY]\n",
    ") ON [PRIMARY] TEXTIMAGE_ON [PRIMARY]\n",
    "GO\n"
   ]
  },
  {
   "cell_type": "markdown",
   "metadata": {
    "object_type": "Table",
    "urn": "Server[@Name='Windows10-Pepe']/Database[@Name='CEFEGEN']/Table[@Name='Notas' and @Schema='dbo']"
   },
   "source": [
    "# [dbo].[Notas]"
   ]
  },
  {
   "cell_type": "code",
   "execution_count": 0,
   "metadata": {
    "object_type": "Table",
    "urn": "Server[@Name='Windows10-Pepe']/Database[@Name='CEFEGEN']/Table[@Name='Notas' and @Schema='dbo']"
   },
   "outputs": [],
   "source": [
    "/****** Object:  Table [dbo].[Notas]    Script Date: 20/06/2025 18:08:55 ******/\n",
    "SET ANSI_NULLS ON\n",
    "GO\n",
    "SET QUOTED_IDENTIFIER ON\n",
    "GO\n",
    "CREATE TABLE [dbo].[Notas](\n",
    "\t[IdNota] [int] IDENTITY(1,1) NOT NULL,\n",
    "\t[IdEntidad] [int] NOT NULL,\n",
    "\t[TipoEntidad] [nvarchar](50) NOT NULL,\n",
    "\t[TipoNota] [nvarchar](50) NOT NULL,\n",
    "\t[Contenido] [nvarchar](4000) NULL,\n",
    "\t[FechaCreacion] [datetime] NULL,\n",
    "PRIMARY KEY CLUSTERED \n",
    "(\n",
    "\t[IdNota] ASC\n",
    ")WITH (PAD_INDEX = OFF, STATISTICS_NORECOMPUTE = OFF, IGNORE_DUP_KEY = OFF, ALLOW_ROW_LOCKS = ON, ALLOW_PAGE_LOCKS = ON, OPTIMIZE_FOR_SEQUENTIAL_KEY = OFF) ON [PRIMARY]\n",
    ") ON [PRIMARY]\n",
    "GO\n"
   ]
  },
  {
   "cell_type": "markdown",
   "metadata": {
    "object_type": "Table",
    "urn": "Server[@Name='Windows10-Pepe']/Database[@Name='CEFEGEN']/Table[@Name='PagosPaciente' and @Schema='dbo']"
   },
   "source": [
    "# [dbo].[PagosPaciente]"
   ]
  },
  {
   "cell_type": "code",
   "execution_count": 0,
   "metadata": {
    "object_type": "Table",
    "urn": "Server[@Name='Windows10-Pepe']/Database[@Name='CEFEGEN']/Table[@Name='PagosPaciente' and @Schema='dbo']"
   },
   "outputs": [],
   "source": [
    "/****** Object:  Table [dbo].[PagosPaciente]    Script Date: 20/06/2025 18:08:55 ******/\n",
    "SET ANSI_NULLS ON\n",
    "GO\n",
    "SET QUOTED_IDENTIFIER ON\n",
    "GO\n",
    "CREATE TABLE [dbo].[PagosPaciente](\n",
    "\t[IdPagoPaciente] [int] IDENTITY(1,1) NOT NULL,\n",
    "\t[IdSolicitante] [int] NOT NULL,\n",
    "\t[IdFormaPago] [int] NULL,\n",
    "\t[Importe] [decimal](10, 2) NOT NULL,\n",
    "\t[FechaPago] [date] NOT NULL,\n",
    "\t[Pagado] [bit] NOT NULL,\n",
    "\t[Observaciones] [nvarchar](max) NULL,\n",
    "\t[IdLineaPeticion] [int] NULL,\n",
    "PRIMARY KEY CLUSTERED \n",
    "(\n",
    "\t[IdPagoPaciente] ASC\n",
    ")WITH (PAD_INDEX = OFF, STATISTICS_NORECOMPUTE = OFF, IGNORE_DUP_KEY = OFF, ALLOW_ROW_LOCKS = ON, ALLOW_PAGE_LOCKS = ON, OPTIMIZE_FOR_SEQUENTIAL_KEY = OFF) ON [PRIMARY]\n",
    ") ON [PRIMARY] TEXTIMAGE_ON [PRIMARY]\n",
    "GO\n"
   ]
  },
  {
   "cell_type": "markdown",
   "metadata": {
    "object_type": "Table",
    "urn": "Server[@Name='Windows10-Pepe']/Database[@Name='CEFEGEN']/Table[@Name='Permisos' and @Schema='dbo']"
   },
   "source": [
    "# [dbo].[Permisos]"
   ]
  },
  {
   "cell_type": "markdown",
   "metadata": {},
   "source": [
    "#### Table: Permisos\n",
    "- **Purpose**: Stores permissions for fine-grained access control.\n",
    "- **Columns**:\n",
    "  - `IdPermiso`: Unique identifier (PK, auto-incremented).\n",
    "  - `NombrePermiso`: Unique name of the permission (e.g., `RegistrarSolicitud`).\n",
    "  - `Descripcion`: Optional description of the permission.\n",
    "  - `Activo`: Boolean flag indicating active/inactive status (defaults to 1).\n",
    "- **Constraints**:\n",
    "  - `PK_Permisos`: Primary key on `IdPermiso`.\n",
    "  - `UK_Permisos_NombrePermiso`: Ensures unique permission names.\n",
    "- **Normalization**:\n",
    "  - **1NF**: All attributes are atomic.\n",
    "  - **2NF**: No partial dependencies.\n",
    "  - **3NF**: No transitive dependencies.\n",
    "- **RFP Alignment**:\n",
    "  - Supports granular permissions (e.g., `RegistrarSolicitud`, `ConsultarResultados`) as required for the client portal and internal users."
   ]
  },
  {
   "cell_type": "code",
   "execution_count": 0,
   "metadata": {
    "object_type": "Table",
    "urn": "Server[@Name='Windows10-Pepe']/Database[@Name='CEFEGEN']/Table[@Name='Permisos' and @Schema='dbo']"
   },
   "outputs": [],
   "source": [
    "/****** Object:  Table [dbo].[Permisos]    Script Date: 20/06/2025 18:08:55 ******/\n",
    "SET ANSI_NULLS ON\n",
    "GO\n",
    "SET QUOTED_IDENTIFIER ON\n",
    "GO\n",
    "CREATE TABLE [dbo].[Permisos](\n",
    "\t[IdPermiso] [int] IDENTITY(1,1) NOT NULL,\n",
    "\t[NombrePermiso] [nvarchar](100) NOT NULL,\n",
    "\t[Descripcion] [nvarchar](255) NULL,\n",
    "PRIMARY KEY CLUSTERED \n",
    "(\n",
    "\t[IdPermiso] ASC\n",
    ")WITH (PAD_INDEX = OFF, STATISTICS_NORECOMPUTE = OFF, IGNORE_DUP_KEY = OFF, ALLOW_ROW_LOCKS = ON, ALLOW_PAGE_LOCKS = ON, OPTIMIZE_FOR_SEQUENTIAL_KEY = OFF) ON [PRIMARY],\n",
    "UNIQUE NONCLUSTERED \n",
    "(\n",
    "\t[NombrePermiso] ASC\n",
    ")WITH (PAD_INDEX = OFF, STATISTICS_NORECOMPUTE = OFF, IGNORE_DUP_KEY = OFF, ALLOW_ROW_LOCKS = ON, ALLOW_PAGE_LOCKS = ON, OPTIMIZE_FOR_SEQUENTIAL_KEY = OFF) ON [PRIMARY]\n",
    ") ON [PRIMARY]\n",
    "GO\n"
   ]
  },
  {
   "cell_type": "markdown",
   "metadata": {
    "object_type": "Table",
    "urn": "Server[@Name='Windows10-Pepe']/Database[@Name='CEFEGEN']/Table[@Name='PermisosDocumento' and @Schema='dbo']"
   },
   "source": [
    "# [dbo].[PermisosDocumento]"
   ]
  },
  {
   "cell_type": "code",
   "execution_count": 0,
   "metadata": {
    "object_type": "Table",
    "urn": "Server[@Name='Windows10-Pepe']/Database[@Name='CEFEGEN']/Table[@Name='PermisosDocumento' and @Schema='dbo']"
   },
   "outputs": [],
   "source": [
    "/****** Object:  Table [dbo].[PermisosDocumento]    Script Date: 20/06/2025 18:08:55 ******/\n",
    "SET ANSI_NULLS ON\n",
    "GO\n",
    "SET QUOTED_IDENTIFIER ON\n",
    "GO\n",
    "CREATE TABLE [dbo].[PermisosDocumento](\n",
    "\t[IdPermisoDocumento] [int] IDENTITY(1,1) NOT NULL,\n",
    "\t[IdDocumento] [int] NOT NULL,\n",
    "\t[IdUsuario] [int] NULL,\n",
    "\t[IdRol] [int] NULL,\n",
    "\t[Permiso] [nvarchar](50) NOT NULL,\n",
    "\t[FechaOtorgado] [datetime] NOT NULL,\n",
    "PRIMARY KEY CLUSTERED \n",
    "(\n",
    "\t[IdPermisoDocumento] ASC\n",
    ")WITH (PAD_INDEX = OFF, STATISTICS_NORECOMPUTE = OFF, IGNORE_DUP_KEY = OFF, ALLOW_ROW_LOCKS = ON, ALLOW_PAGE_LOCKS = ON, OPTIMIZE_FOR_SEQUENTIAL_KEY = OFF) ON [PRIMARY]\n",
    ") ON [PRIMARY]\n",
    "GO\n"
   ]
  },
  {
   "cell_type": "markdown",
   "metadata": {
    "object_type": "Table",
    "urn": "Server[@Name='Windows10-Pepe']/Database[@Name='CEFEGEN']/Table[@Name='Personal' and @Schema='dbo']"
   },
   "source": [
    "# [dbo].[Personal]"
   ]
  },
  {
   "cell_type": "markdown",
   "metadata": {},
   "source": [
    "#### Table: Personal\n",
    "- **Purpose**: Stores staff details for internal users (e.g., analysts, lab technicians).\n",
    "- **Columns**:\n",
    "  - `IdPersonal`: Unique identifier (PK, auto-incremented).\n",
    "  - `IdUsuario`: Foreign key to `Usuarios.IdUsuario`, linking staff to user accounts.\n",
    "  - `NombreCompleto`: Full name of the staff member.\n",
    "  - `Cargo`: Job title or role (e.g., `Analista`).\n",
    "  - `FechaContratacion`: Date of hiring (nullable).\n",
    "  - `Activo`: Boolean flag for active/inactive status (defaults to 1).\n",
    "- **Constraints**:\n",
    "  - `PK_Personal`: Primary key on `IdPersonal`.\n",
    "  - `FK_Personal_Usuarios`: Ensures `IdUsuario` references a valid user.\n",
    "- **Normalization**:\n",
    "  - **1NF**: All attributes are atomic.\n",
    "  - **2NF**: No partial dependencies.\n",
    "  - **3NF**: No transitive dependencies.\n",
    "- **RFP Alignment**:\n",
    "  - Supports management of internal users (e.g., `RolAnalista`).\n",
    "  - Links to `Usuarios` for authentication and role assignment."
   ]
  },
  {
   "cell_type": "code",
   "execution_count": 0,
   "metadata": {
    "object_type": "Table",
    "urn": "Server[@Name='Windows10-Pepe']/Database[@Name='CEFEGEN']/Table[@Name='Personal' and @Schema='dbo']"
   },
   "outputs": [],
   "source": [
    "/****** Object:  Table [dbo].[Personal]    Script Date: 20/06/2025 18:08:55 ******/\n",
    "SET ANSI_NULLS ON\n",
    "GO\n",
    "SET QUOTED_IDENTIFIER ON\n",
    "GO\n",
    "CREATE TABLE [dbo].[Personal](\n",
    "\t[IdPersonal] [int] IDENTITY(1,1) NOT NULL,\n",
    "\t[NombrePersonal] [nvarchar](50) NOT NULL,\n",
    "\t[FechaNacimiento] [datetime] NULL,\n",
    "\t[LugarNacimiento] [nvarchar](100) NULL,\n",
    "\t[Telefono] [nvarchar](20) NULL,\n",
    "\t[Telefono2] [nvarchar](20) NULL,\n",
    "\t[Email] [nvarchar](100) NULL,\n",
    "\t[TipoPersonal] [smallint] NULL,\n",
    "\t[IdCargo] [int] NULL,\n",
    "\t[FechaAlta] [datetime] NULL,\n",
    "\t[FechaBaja] [datetime] NULL,\n",
    "\t[Firma] [varbinary](max) NULL,\n",
    "\t[Imagen] [varbinary](max) NULL,\n",
    "\t[FirmaPdfTextoFirma] [nvarchar](max) NULL,\n",
    "\t[FirmaPdfSufijo] [nvarchar](100) NULL,\n",
    "\t[FirmaPdfTipoFirma] [smallint] NULL,\n",
    "\t[FirmaPdfImagenFirma] [nvarchar](1000) NULL,\n",
    "\t[FirmaPdfPosicion] [smallint] NULL,\n",
    "\t[FirmaPdfMargenes] [int] NULL,\n",
    "\t[FirmaPdfOrigenCertificado] [smallint] NULL,\n",
    "\t[FirmaPdfOrigenPfxFichero] [nvarchar](1000) NULL,\n",
    "\t[FirmaPdfOrigenPfxPasswd] [nvarchar](100) NULL,\n",
    "\t[FirmaPdfOrigenAlmacWinId] [nvarchar](100) NULL,\n",
    "\t[FirmaPdfConservarOriginales] [smallint] NULL,\n",
    "\t[Textovalidacion] [nvarchar](max) NULL,\n",
    "\t[Observaciones] [nvarchar](max) NULL,\n",
    "\t[NotasTecnico] [nvarchar](max) NULL,\n",
    "\t[NotasAdmon] [nvarchar](max) NULL,\n",
    "\t[NotasFacturacion] [nvarchar](max) NULL,\n",
    "\t[NotasInternas] [nvarchar](max) NULL,\n",
    "\t[Parametros] [nvarchar](max) NULL,\n",
    "\t[VidaLaboral] [nvarchar](max) NULL,\n",
    "\t[Vacaciones] [nvarchar](max) NULL,\n",
    "\t[FormacionAcademica] [nvarchar](max) NULL,\n",
    "\t[ExperienciaLaboral] [nvarchar](max) NULL,\n",
    "\t[CaracteristicasPersonales] [nvarchar](max) NULL,\n",
    "\t[TareasRealizar] [nvarchar](max) NULL,\n",
    "\t[Funciones] [nvarchar](max) NULL,\n",
    "\t[Responsabilidades] [nvarchar](max) NULL,\n",
    "\t[RequisitosPuesto] [nvarchar](max) NULL,\n",
    "\t[IdEspecialidad] [int] NULL,\n",
    "\t[PuestoAbreviado] [nvarchar](30) NULL,\n",
    "\t[IdRol] [int] NULL,\n",
    "\t[Bloquear] [bit] NOT NULL,\n",
    "\t[IdDireccion] [int] NULL,\n",
    "\t[IdTipoDocumento] [int] NOT NULL,\n",
    "\t[NumeroDocumento] [nvarchar](20) NULL,\n",
    "PRIMARY KEY CLUSTERED \n",
    "(\n",
    "\t[IdPersonal] ASC\n",
    ")WITH (PAD_INDEX = OFF, STATISTICS_NORECOMPUTE = OFF, IGNORE_DUP_KEY = OFF, ALLOW_ROW_LOCKS = ON, ALLOW_PAGE_LOCKS = ON, OPTIMIZE_FOR_SEQUENTIAL_KEY = OFF) ON [PRIMARY]\n",
    ") ON [PRIMARY] TEXTIMAGE_ON [PRIMARY]\n",
    "GO\n"
   ]
  },
  {
   "cell_type": "markdown",
   "metadata": {
    "object_type": "Table",
    "urn": "Server[@Name='Windows10-Pepe']/Database[@Name='CEFEGEN']/Table[@Name='PersonasTomaMuestras' and @Schema='dbo']"
   },
   "source": [
    "# [dbo].[PersonasTomaMuestras]"
   ]
  },
  {
   "cell_type": "code",
   "execution_count": 0,
   "metadata": {
    "object_type": "Table",
    "urn": "Server[@Name='Windows10-Pepe']/Database[@Name='CEFEGEN']/Table[@Name='PersonasTomaMuestras' and @Schema='dbo']"
   },
   "outputs": [],
   "source": [
    "/****** Object:  Table [dbo].[PersonasTomaMuestras]    Script Date: 20/06/2025 18:08:55 ******/\n",
    "SET ANSI_NULLS ON\n",
    "GO\n",
    "SET QUOTED_IDENTIFIER ON\n",
    "GO\n",
    "CREATE TABLE [dbo].[PersonasTomaMuestras](\n",
    "\t[IdPersonaTomaMuestras] [int] IDENTITY(1,1) NOT NULL,\n",
    "\t[IdLaboratorioColaborador] [int] NOT NULL,\n",
    "\t[Nombre] [nvarchar](100) NOT NULL,\n",
    "\t[Cargo] [nvarchar](100) NULL,\n",
    "\t[Observaciones] [nvarchar](max) NULL,\n",
    "\t[IdTipoDocumento] [int] NOT NULL,\n",
    "\t[NumeroDocumento] [nvarchar](20) NULL,\n",
    "PRIMARY KEY CLUSTERED \n",
    "(\n",
    "\t[IdPersonaTomaMuestras] ASC\n",
    ")WITH (PAD_INDEX = OFF, STATISTICS_NORECOMPUTE = OFF, IGNORE_DUP_KEY = OFF, ALLOW_ROW_LOCKS = ON, ALLOW_PAGE_LOCKS = ON, OPTIMIZE_FOR_SEQUENTIAL_KEY = OFF) ON [PRIMARY]\n",
    ") ON [PRIMARY] TEXTIMAGE_ON [PRIMARY]\n",
    "GO\n"
   ]
  },
  {
   "cell_type": "markdown",
   "metadata": {
    "object_type": "Table",
    "urn": "Server[@Name='Windows10-Pepe']/Database[@Name='CEFEGEN']/Table[@Name='Peticiones' and @Schema='dbo']"
   },
   "source": [
    "# [dbo].[Peticiones]"
   ]
  },
  {
   "cell_type": "markdown",
   "metadata": {},
   "source": [
    "#### Table: Peticiones\n",
    "- **Purpose**: Stores specific test petitions within a request.\n",
    "- **Columns**:\n",
    "  - `IdPeticion`: Unique identifier (PK, auto-incremented).\n",
    "  - `IdSolicitud`: FK to `Solicitudes`.\n",
    "  - `IdTipoPrueba`: FK to `TiposPrueba`, specifying test type.\n",
    "  - `FechaPeticion`: Timestamp of petition creation.\n",
    "  - `Observaciones`: Optional notes.\n",
    "- **Constraints**:\n",
    "  - `PK_Peticiones`: Primary key on `IdPeticion`.\n",
    "  - FKs to `Solicitudes` and `TiposPrueba`.\n",
    "- **Normalization**:\n",
    "  - **1NF**: All attributes are atomic.\n",
    "  - **2NF**: No partial dependencies.\n",
    "  - **3NF**: No transitive dependencies.\n",
    "- **RFP Alignment**:\n",
    "  - Supports detailed test requests within a `Solicitud`.\n",
    "- **Relationships**:\n",
    "  - Many-to-one with `Solicitudes` and `TiposPrueba`.\n",
    "  - One-to-many with `PeticionesLin`."
   ]
  },
  {
   "cell_type": "code",
   "execution_count": 0,
   "metadata": {
    "object_type": "Table",
    "urn": "Server[@Name='Windows10-Pepe']/Database[@Name='CEFEGEN']/Table[@Name='Peticiones' and @Schema='dbo']"
   },
   "outputs": [],
   "source": [
    "/****** Object:  Table [dbo].[Peticiones]    Script Date: 20/06/2025 18:08:55 ******/\n",
    "SET ANSI_NULLS ON\n",
    "GO\n",
    "SET QUOTED_IDENTIFIER ON\n",
    "GO\n",
    "CREATE TABLE [dbo].[Peticiones](\n",
    "\t[IdPeticion] [int] IDENTITY(1,1) NOT NULL,\n",
    "\t[IdSolicitud] [int] NULL,\n",
    "\t[EstadoPeticion] [varchar](20) NULL,\n",
    "\t[FechaPeticion] [datetime] NULL,\n",
    "\t[IdTipoPrueba] [int] NULL,\n",
    "\t[IdSubTipoPrueba] [int] NULL,\n",
    "PRIMARY KEY CLUSTERED \n",
    "(\n",
    "\t[IdPeticion] ASC\n",
    ")WITH (PAD_INDEX = OFF, STATISTICS_NORECOMPUTE = OFF, IGNORE_DUP_KEY = OFF, ALLOW_ROW_LOCKS = ON, ALLOW_PAGE_LOCKS = ON, OPTIMIZE_FOR_SEQUENTIAL_KEY = OFF) ON [PRIMARY]\n",
    ") ON [PRIMARY]\n",
    "GO\n"
   ]
  },
  {
   "cell_type": "markdown",
   "metadata": {
    "object_type": "Table",
    "urn": "Server[@Name='Windows10-Pepe']/Database[@Name='CEFEGEN']/Table[@Name='Plantillas' and @Schema='dbo']"
   },
   "source": [
    "# [dbo].[Plantillas]"
   ]
  },
  {
   "cell_type": "markdown",
   "metadata": {},
   "source": [
    "Plantillas]: Almacena las plantillas base (archivos reutilizables) para generar documentos dinámicos que luego se guardan en [Documentos].\n",
    "\n",
    "Propósito:Almacena las plantillas de documentos (e.g., archivos HTML, Word, o LaTeX) usadas para generar informes, consentimientos, o notificaciones personalizadas. Cada plantilla está asociada a un tipo (IdTipoPlantilla) y un idioma (IdIdioma).\n",
    "Se usa en el módulo de Generación de Informes para crear documentos dinámicos (e.g., informes multilingües con [sp_GenerateMultilingualReport]).\n",
    "También puede usarse para generar consentimientos o notificaciones estandarizadas.\n",
    "Ejemplo: Una plantilla para un informe de parentesco en español\n",
    "IdPlantilla | IdTipoPlantilla | Nombre                   | RutaPlantilla                     | IdIdioma | Activo\n",
    "1           | 1 (InformeParentesco) | Informe_Parentesco_ES | /templates/Informe_Parentesco_ES.html | ES       | 1\n",
    "\n",
    "Un informe generado usando una plantilla de [Plantillas] (e.g., un informe de parentesco) se almacena en [Documentos] con un IdTipoDocumento como \"Informe\".\n",
    "Un consentimiento generado desde una plantilla también se guarda en [Documentos] con IdTipoDocumento como \"Consentimiento\".\n",
    "Los documentos de identificación (e.g., DNI escaneado) se suben directamente a [Documentos] sin usar [Plantillas].\n",
    "\n",
    "Cómo se Relacionan en el Sistema\n",
    "Para ilustrar cómo funcionan juntas, detallo un flujo típico:\n",
    "\n",
    "a) Generación de un Informe\n",
    "Contexto: Un usuario valida un resultado de citogenética ([ResultadosCitogenetica]) con [sp_GestionarResultado] y solicita un informe (@GenerarInforme = 1).\n",
    "Plantilla:\n",
    "El sistema selecciona una plantilla de [Plantillas] según el tipo (IdTipoPlantilla para \"InformeCitogenetica\") e idioma (IdIdioma = 'ES'):\n",
    "\n",
    "SELECT RutaPlantilla\n",
    "FROM [dbo].[Plantillas]\n",
    "WHERE IdTipoPlantilla = (SELECT IdTipoPlantilla FROM [TiposPlantillas] WHERE Nombre = 'InformeCitogenetica')\n",
    "  AND IdIdioma = 'ES' AND Activo = 1;\n",
    "Generación: [sp_GenerateMultilingualReport] usa la plantilla para crear un PDF.\n",
    "Almacenamiento:\n",
    "El PDF se guarda en [Documentos] con:\n",
    "IdEntidad = IdResultadoCitogenetica.\n",
    "IdEntidadTipo = (SELECT IdEntidadTipo FROM [Entidades] WHERE Nombre = 'ResultadosCitogenetica').\n",
    "IdTipoDocumento = (SELECT IdTipoDocumento FROM [TiposDocumentos] WHERE Nombre = 'Informe')."
   ]
  },
  {
   "cell_type": "code",
   "execution_count": 0,
   "metadata": {
    "object_type": "Table",
    "urn": "Server[@Name='Windows10-Pepe']/Database[@Name='CEFEGEN']/Table[@Name='Plantillas' and @Schema='dbo']"
   },
   "outputs": [],
   "source": [
    "/****** Object:  Table [dbo].[Plantillas]    Script Date: 20/06/2025 18:08:55 ******/\n",
    "SET ANSI_NULLS ON\n",
    "GO\n",
    "SET QUOTED_IDENTIFIER ON\n",
    "GO\n",
    "CREATE TABLE [dbo].[Plantillas](\n",
    "\t[IdPlantilla] [int] IDENTITY(1,1) NOT NULL,\n",
    "\t[IdTipoPruebaConsumo] [int] NULL,\n",
    "\t[IdTipoPlantilla] [int] NOT NULL,\n",
    "\t[IdIdioma] [char](2) NOT NULL,\n",
    "\t[Version] [nvarchar](10) NOT NULL,\n",
    "\t[ArchivoReferencia] [nvarchar](50) NOT NULL,\n",
    "\t[FechaCreacion] [datetime2](7) NOT NULL,\n",
    "\t[Activa] [bit] NOT NULL,\n",
    " CONSTRAINT [PK_Plantillas] PRIMARY KEY CLUSTERED \n",
    "(\n",
    "\t[IdPlantilla] ASC\n",
    ")WITH (PAD_INDEX = OFF, STATISTICS_NORECOMPUTE = OFF, IGNORE_DUP_KEY = OFF, ALLOW_ROW_LOCKS = ON, ALLOW_PAGE_LOCKS = ON, OPTIMIZE_FOR_SEQUENTIAL_KEY = OFF) ON [PRIMARY],\n",
    " CONSTRAINT [UK_Plantillas_Active] UNIQUE NONCLUSTERED \n",
    "(\n",
    "\t[IdTipoPruebaConsumo] ASC,\n",
    "\t[IdTipoPlantilla] ASC,\n",
    "\t[IdIdioma] ASC,\n",
    "\t[Activa] ASC\n",
    ")WITH (PAD_INDEX = OFF, STATISTICS_NORECOMPUTE = OFF, IGNORE_DUP_KEY = OFF, ALLOW_ROW_LOCKS = ON, ALLOW_PAGE_LOCKS = ON, OPTIMIZE_FOR_SEQUENTIAL_KEY = OFF) ON [PRIMARY]\n",
    ") ON [PRIMARY]\n",
    "GO\n"
   ]
  },
  {
   "cell_type": "markdown",
   "metadata": {
    "object_type": "Table",
    "urn": "Server[@Name='Windows10-Pepe']/Database[@Name='CEFEGEN']/Table[@Name='PlantillasInforme' and @Schema='dbo']"
   },
   "source": [
    "# [dbo].[PlantillasInforme]"
   ]
  },
  {
   "cell_type": "code",
   "execution_count": 0,
   "metadata": {
    "object_type": "Table",
    "urn": "Server[@Name='Windows10-Pepe']/Database[@Name='CEFEGEN']/Table[@Name='PlantillasInforme' and @Schema='dbo']"
   },
   "outputs": [],
   "source": [
    "/****** Object:  Table [dbo].[PlantillasInforme]    Script Date: 20/06/2025 18:08:55 ******/\n",
    "SET ANSI_NULLS ON\n",
    "GO\n",
    "SET QUOTED_IDENTIFIER ON\n",
    "GO\n",
    "CREATE TABLE [dbo].[PlantillasInforme](\n",
    "\t[IdPlantilla] [int] IDENTITY(1,1) NOT NULL,\n",
    "\t[Nombre] [nvarchar](100) NOT NULL,\n",
    "\t[TipoInforme] [nvarchar](50) NOT NULL,\n",
    "\t[IdIdioma] [char](2) NOT NULL,\n",
    "\t[Contenido] [nvarchar](max) NOT NULL,\n",
    "\t[FechaCreacion] [datetime] NOT NULL,\n",
    "\t[Activa] [bit] NOT NULL,\n",
    "PRIMARY KEY CLUSTERED \n",
    "(\n",
    "\t[IdPlantilla] ASC\n",
    ")WITH (PAD_INDEX = OFF, STATISTICS_NORECOMPUTE = OFF, IGNORE_DUP_KEY = OFF, ALLOW_ROW_LOCKS = ON, ALLOW_PAGE_LOCKS = ON, OPTIMIZE_FOR_SEQUENTIAL_KEY = OFF) ON [PRIMARY]\n",
    ") ON [PRIMARY] TEXTIMAGE_ON [PRIMARY]\n",
    "GO\n"
   ]
  },
  {
   "cell_type": "markdown",
   "metadata": {
    "object_type": "Table",
    "urn": "Server[@Name='Windows10-Pepe']/Database[@Name='CEFEGEN']/Table[@Name='PlantillasNotificacion' and @Schema='dbo']"
   },
   "source": [
    "# [dbo].[PlantillasNotificacion]"
   ]
  },
  {
   "cell_type": "code",
   "execution_count": 0,
   "metadata": {
    "object_type": "Table",
    "urn": "Server[@Name='Windows10-Pepe']/Database[@Name='CEFEGEN']/Table[@Name='PlantillasNotificacion' and @Schema='dbo']"
   },
   "outputs": [],
   "source": [
    "/****** Object:  Table [dbo].[PlantillasNotificacion]    Script Date: 20/06/2025 18:08:55 ******/\n",
    "SET ANSI_NULLS ON\n",
    "GO\n",
    "SET QUOTED_IDENTIFIER ON\n",
    "GO\n",
    "CREATE TABLE [dbo].[PlantillasNotificacion](\n",
    "\t[IdPlantilla] [int] IDENTITY(1,1) NOT NULL,\n",
    "\t[TipoNotificacion] [nvarchar](50) NOT NULL,\n",
    "\t[Canal] [nvarchar](10) NOT NULL,\n",
    "\t[IdIdioma] [char](2) NOT NULL,\n",
    "\t[Asunto] [nvarchar](255) NULL,\n",
    "\t[Content] [nvarchar](max) NOT NULL,\n",
    "\t[Activa] [bit] NOT NULL,\n",
    "\t[FechaCreacion] [datetime] NOT NULL,\n",
    "PRIMARY KEY CLUSTERED \n",
    "(\n",
    "\t[IdPlantilla] ASC\n",
    ")WITH (PAD_INDEX = OFF, STATISTICS_NORECOMPUTE = OFF, IGNORE_DUP_KEY = OFF, ALLOW_ROW_LOCKS = ON, ALLOW_PAGE_LOCKS = ON, OPTIMIZE_FOR_SEQUENTIAL_KEY = OFF) ON [PRIMARY]\n",
    ") ON [PRIMARY] TEXTIMAGE_ON [PRIMARY]\n",
    "GO\n"
   ]
  },
  {
   "cell_type": "markdown",
   "metadata": {
    "object_type": "Table",
    "urn": "Server[@Name='Windows10-Pepe']/Database[@Name='CEFEGEN']/Table[@Name='PlazosEntrega' and @Schema='dbo']"
   },
   "source": [
    "# [dbo].[PlazosEntrega]"
   ]
  },
  {
   "cell_type": "markdown",
   "metadata": {},
   "source": [
    "#### Table: PlazosEntrega\n",
    "**Purpose**: Stores delivery deadlines.\n",
    "**Columns**:\n",
    "- `IdPlazoEntrega` (int, PK, IDENTITY): Unique identifier.\n",
    "- `Nombre` (nvarchar(50), NOT NULL): Deadline name.\n",
    "- `FechaCreacion` (datetime, NOT NULL): Creation timestamp.\n",
    "**Constraints**:\n",
    "- Primary Key: `IdPlazoEntrega` (line 417).\n",
    "**Normalization**: 3NF.\n",
    "**Notes**: Supports RFP’s pricing by deadline."
   ]
  },
  {
   "cell_type": "code",
   "execution_count": 0,
   "metadata": {
    "object_type": "Table",
    "urn": "Server[@Name='Windows10-Pepe']/Database[@Name='CEFEGEN']/Table[@Name='PlazosEntrega' and @Schema='dbo']"
   },
   "outputs": [],
   "source": [
    "/****** Object:  Table [dbo].[PlazosEntrega]    Script Date: 20/06/2025 18:08:55 ******/\n",
    "SET ANSI_NULLS ON\n",
    "GO\n",
    "SET QUOTED_IDENTIFIER ON\n",
    "GO\n",
    "CREATE TABLE [dbo].[PlazosEntrega](\n",
    "\t[IdPlazoEntrega] [int] IDENTITY(1,1) NOT NULL,\n",
    "\t[Descripcion] [varchar](100) NOT NULL,\n",
    "\t[Dias] [int] NOT NULL,\n",
    "\t[IncrementoFijo] [decimal](10, 2) NOT NULL,\n",
    "PRIMARY KEY CLUSTERED \n",
    "(\n",
    "\t[IdPlazoEntrega] ASC\n",
    ")WITH (PAD_INDEX = OFF, STATISTICS_NORECOMPUTE = OFF, IGNORE_DUP_KEY = OFF, ALLOW_ROW_LOCKS = ON, ALLOW_PAGE_LOCKS = ON, OPTIMIZE_FOR_SEQUENTIAL_KEY = OFF) ON [PRIMARY]\n",
    ") ON [PRIMARY]\n",
    "GO\n"
   ]
  },
  {
   "cell_type": "markdown",
   "metadata": {
    "object_type": "Table",
    "urn": "Server[@Name='Windows10-Pepe']/Database[@Name='CEFEGEN']/Table[@Name='PrecioCache' and @Schema='dbo']"
   },
   "source": [
    "# [dbo].[PrecioCache]"
   ]
  },
  {
   "cell_type": "code",
   "execution_count": 0,
   "metadata": {
    "object_type": "Table",
    "urn": "Server[@Name='Windows10-Pepe']/Database[@Name='CEFEGEN']/Table[@Name='PrecioCache' and @Schema='dbo']"
   },
   "outputs": [],
   "source": [
    "/****** Object:  Table [dbo].[PrecioCache]    Script Date: 20/06/2025 18:08:55 ******/\n",
    "SET ANSI_NULLS ON\n",
    "GO\n",
    "SET QUOTED_IDENTIFIER ON\n",
    "GO\n",
    "CREATE TABLE [dbo].[PrecioCache](\n",
    "\t[IdCache] [int] IDENTITY(1,1) NOT NULL,\n",
    "\t[IdTiposPruebasConsumo] [int] NOT NULL,\n",
    "\t[EsLegal] [bit] NOT NULL,\n",
    "\t[EsColaborador] [bit] NOT NULL,\n",
    "\t[PrecioBase] [decimal](10, 2) NOT NULL,\n",
    "\t[IdRegla] [int] NOT NULL,\n",
    "\t[FechaActualizacion] [datetime] NULL,\n",
    "PRIMARY KEY CLUSTERED \n",
    "(\n",
    "\t[IdCache] ASC\n",
    ")WITH (PAD_INDEX = OFF, STATISTICS_NORECOMPUTE = OFF, IGNORE_DUP_KEY = OFF, ALLOW_ROW_LOCKS = ON, ALLOW_PAGE_LOCKS = ON, OPTIMIZE_FOR_SEQUENTIAL_KEY = OFF) ON [PRIMARY]\n",
    ") ON [PRIMARY]\n",
    "GO\n"
   ]
  },
  {
   "cell_type": "markdown",
   "metadata": {
    "object_type": "Table",
    "urn": "Server[@Name='Windows10-Pepe']/Database[@Name='CEFEGEN']/Table[@Name='Productos' and @Schema='dbo']"
   },
   "source": [
    "# [dbo].[Productos]"
   ]
  },
  {
   "cell_type": "code",
   "execution_count": 0,
   "metadata": {
    "object_type": "Table",
    "urn": "Server[@Name='Windows10-Pepe']/Database[@Name='CEFEGEN']/Table[@Name='Productos' and @Schema='dbo']"
   },
   "outputs": [],
   "source": [
    "/****** Object:  Table [dbo].[Productos]    Script Date: 20/06/2025 18:08:55 ******/\n",
    "SET ANSI_NULLS ON\n",
    "GO\n",
    "SET QUOTED_IDENTIFIER ON\n",
    "GO\n",
    "CREATE TABLE [dbo].[Productos](\n",
    "\t[IdProducto] [int] IDENTITY(1,1) NOT NULL,\n",
    "\t[CodigoProducto] [nvarchar](50) NOT NULL,\n",
    "\t[Descripcion] [nvarchar](255) NOT NULL,\n",
    "\t[IdFamiliaProducto] [int] NULL,\n",
    "\t[IdMuestra] [int] NULL,\n",
    "\t[Bloquear] [char](1) NULL,\n",
    "\t[Imagen] [varbinary](max) NULL,\n",
    "\t[Parametros] [nvarchar](max) NULL,\n",
    "\t[Precio] [float] NOT NULL,\n",
    "\t[Descuento] [float] NOT NULL,\n",
    "\t[Stock] [decimal](15, 4) NOT NULL,\n",
    "\t[StockMinimo] [decimal](15, 4) NOT NULL,\n",
    "\t[StockMaximo] [decimal](15, 4) NOT NULL,\n",
    "\t[NotasTecnico] [nvarchar](max) NULL,\n",
    "\t[NotasInternas] [nvarchar](max) NULL,\n",
    "PRIMARY KEY CLUSTERED \n",
    "(\n",
    "\t[IdProducto] ASC\n",
    ")WITH (PAD_INDEX = OFF, STATISTICS_NORECOMPUTE = OFF, IGNORE_DUP_KEY = OFF, ALLOW_ROW_LOCKS = ON, ALLOW_PAGE_LOCKS = ON, OPTIMIZE_FOR_SEQUENTIAL_KEY = OFF) ON [PRIMARY]\n",
    ") ON [PRIMARY] TEXTIMAGE_ON [PRIMARY]\n",
    "GO\n"
   ]
  },
  {
   "cell_type": "markdown",
   "metadata": {
    "object_type": "Table",
    "urn": "Server[@Name='Windows10-Pepe']/Database[@Name='CEFEGEN']/Table[@Name='Proveedores' and @Schema='dbo']"
   },
   "source": [
    "# [dbo].[Proveedores]"
   ]
  },
  {
   "cell_type": "code",
   "execution_count": 0,
   "metadata": {
    "object_type": "Table",
    "urn": "Server[@Name='Windows10-Pepe']/Database[@Name='CEFEGEN']/Table[@Name='Proveedores' and @Schema='dbo']"
   },
   "outputs": [],
   "source": [
    "/****** Object:  Table [dbo].[Proveedores]    Script Date: 20/06/2025 18:08:55 ******/\n",
    "SET ANSI_NULLS ON\n",
    "GO\n",
    "SET QUOTED_IDENTIFIER ON\n",
    "GO\n",
    "CREATE TABLE [dbo].[Proveedores](\n",
    "\t[NombreFiscal] [nvarchar](255) NULL,\n",
    "\t[NombreComercial] [nvarchar](255) NULL,\n",
    "\t[CIF] [nvarchar](50) NULL,\n",
    "\t[Telefono] [nvarchar](50) NULL,\n",
    "\t[Telefono2] [nvarchar](50) NULL,\n",
    "\t[Fax] [nvarchar](50) NULL,\n",
    "\t[Email] [nvarchar](255) NULL,\n",
    "\t[Web] [nvarchar](255) NULL,\n",
    "\t[Contacto] [nvarchar](255) NULL,\n",
    "\t[TipoProveedor] [nvarchar](50) NULL,\n",
    "\t[Bloquear] [nvarchar](10) NULL,\n",
    "\t[NotasTecnico] [nvarchar](max) NULL,\n",
    "\t[NotasAdmon] [nvarchar](max) NULL,\n",
    "\t[NotasFacturacion] [nvarchar](max) NULL,\n",
    "\t[NotasInternas] [nvarchar](max) NULL,\n",
    "\t[Imagen] [varbinary](max) NULL,\n",
    "\t[Latitud] [float] NULL,\n",
    "\t[Longitud] [float] NULL,\n",
    "\t[Parametros] [nvarchar](max) NULL,\n",
    "\t[IdActividad] [int] NULL,\n",
    "\t[IdFormaPago] [int] NULL,\n",
    "\t[IdProveedor] [int] IDENTITY(1,1) NOT NULL,\n",
    "\t[IdDireccion] [int] NULL,\n",
    " CONSTRAINT [PK_Proveedores_IdProveedor] PRIMARY KEY CLUSTERED \n",
    "(\n",
    "\t[IdProveedor] ASC\n",
    ")WITH (PAD_INDEX = OFF, STATISTICS_NORECOMPUTE = OFF, IGNORE_DUP_KEY = OFF, ALLOW_ROW_LOCKS = ON, ALLOW_PAGE_LOCKS = ON, OPTIMIZE_FOR_SEQUENTIAL_KEY = OFF) ON [PRIMARY]\n",
    ") ON [PRIMARY] TEXTIMAGE_ON [PRIMARY]\n",
    "GO\n"
   ]
  },
  {
   "cell_type": "markdown",
   "metadata": {
    "object_type": "Table",
    "urn": "Server[@Name='Windows10-Pepe']/Database[@Name='CEFEGEN']/Table[@Name='Proyectos' and @Schema='dbo']"
   },
   "source": [
    "# [dbo].[Proyectos]"
   ]
  },
  {
   "cell_type": "code",
   "execution_count": 0,
   "metadata": {
    "object_type": "Table",
    "urn": "Server[@Name='Windows10-Pepe']/Database[@Name='CEFEGEN']/Table[@Name='Proyectos' and @Schema='dbo']"
   },
   "outputs": [],
   "source": [
    "/****** Object:  Table [dbo].[Proyectos]    Script Date: 20/06/2025 18:08:55 ******/\n",
    "SET ANSI_NULLS ON\n",
    "GO\n",
    "SET QUOTED_IDENTIFIER ON\n",
    "GO\n",
    "CREATE TABLE [dbo].[Proyectos](\n",
    "\t[IdProyecto] [int] IDENTITY(1,1) NOT NULL,\n",
    "\t[CodigoProyecto] [nvarchar](50) NOT NULL,\n",
    "\t[Descripcion] [nvarchar](255) NULL,\n",
    "\t[CodigoPeticion] [nvarchar](50) NULL,\n",
    "\t[CodigoProyectoRelacionado] [nvarchar](50) NULL,\n",
    "\t[ColorPlanificaciones] [nvarchar](50) NULL,\n",
    "PRIMARY KEY CLUSTERED \n",
    "(\n",
    "\t[IdProyecto] ASC\n",
    ")WITH (PAD_INDEX = OFF, STATISTICS_NORECOMPUTE = OFF, IGNORE_DUP_KEY = OFF, ALLOW_ROW_LOCKS = ON, ALLOW_PAGE_LOCKS = ON, OPTIMIZE_FOR_SEQUENTIAL_KEY = OFF) ON [PRIMARY],\n",
    "UNIQUE NONCLUSTERED \n",
    "(\n",
    "\t[CodigoProyecto] ASC\n",
    ")WITH (PAD_INDEX = OFF, STATISTICS_NORECOMPUTE = OFF, IGNORE_DUP_KEY = OFF, ALLOW_ROW_LOCKS = ON, ALLOW_PAGE_LOCKS = ON, OPTIMIZE_FOR_SEQUENTIAL_KEY = OFF) ON [PRIMARY]\n",
    ") ON [PRIMARY]\n",
    "GO\n"
   ]
  },
  {
   "cell_type": "markdown",
   "metadata": {
    "object_type": "Table",
    "urn": "Server[@Name='Windows10-Pepe']/Database[@Name='CEFEGEN']/Table[@Name='ReglasIncrementoPrecio' and @Schema='dbo']"
   },
   "source": [
    "# [dbo].[ReglasIncrementoPrecio]"
   ]
  },
  {
   "cell_type": "code",
   "execution_count": 0,
   "metadata": {
    "object_type": "Table",
    "urn": "Server[@Name='Windows10-Pepe']/Database[@Name='CEFEGEN']/Table[@Name='ReglasIncrementoPrecio' and @Schema='dbo']"
   },
   "outputs": [],
   "source": [
    "/****** Object:  Table [dbo].[ReglasIncrementoPrecio]    Script Date: 20/06/2025 18:08:55 ******/\n",
    "SET ANSI_NULLS ON\n",
    "GO\n",
    "SET QUOTED_IDENTIFIER ON\n",
    "GO\n",
    "CREATE TABLE [dbo].[ReglasIncrementoPrecio](\n",
    "\t[IdRegla] [int] NOT NULL,\n",
    "\t[PorcentajeIntervinienteLegal] [decimal](5, 2) NOT NULL,\n",
    "\t[PorcentajeMuestraLegal] [decimal](5, 2) NOT NULL,\n",
    "\t[PorcentajeColaborador] [decimal](5, 2) NOT NULL,\n",
    "\t[Descripcion] [nvarchar](200) NOT NULL,\n",
    "PRIMARY KEY CLUSTERED \n",
    "(\n",
    "\t[IdRegla] ASC\n",
    ")WITH (PAD_INDEX = OFF, STATISTICS_NORECOMPUTE = OFF, IGNORE_DUP_KEY = OFF, ALLOW_ROW_LOCKS = ON, ALLOW_PAGE_LOCKS = ON, OPTIMIZE_FOR_SEQUENTIAL_KEY = OFF) ON [PRIMARY]\n",
    ") ON [PRIMARY]\n",
    "GO\n"
   ]
  },
  {
   "cell_type": "markdown",
   "metadata": {
    "object_type": "Table",
    "urn": "Server[@Name='Windows10-Pepe']/Database[@Name='CEFEGEN']/Table[@Name='Remesas' and @Schema='dbo']"
   },
   "source": [
    "# [dbo].[Remesas]"
   ]
  },
  {
   "cell_type": "code",
   "execution_count": 0,
   "metadata": {
    "object_type": "Table",
    "urn": "Server[@Name='Windows10-Pepe']/Database[@Name='CEFEGEN']/Table[@Name='Remesas' and @Schema='dbo']"
   },
   "outputs": [],
   "source": [
    "/****** Object:  Table [dbo].[Remesas]    Script Date: 20/06/2025 18:08:55 ******/\n",
    "SET ANSI_NULLS ON\n",
    "GO\n",
    "SET QUOTED_IDENTIFIER ON\n",
    "GO\n",
    "CREATE TABLE [dbo].[Remesas](\n",
    "\t[IdRemesa] [int] IDENTITY(1,1) NOT NULL,\n",
    "\t[CodigoRemesa] [nvarchar](50) NOT NULL,\n",
    "\t[Descripcion] [nvarchar](255) NULL,\n",
    "\t[Tipo] [nvarchar](50) NULL,\n",
    "\t[IdBanco] [int] NULL,\n",
    "\t[CuentaBanco] [nvarchar](100) NULL,\n",
    "\t[SwiftBanco] [nvarchar](100) NULL,\n",
    "\t[NivelSEPA] [nvarchar](255) NULL,\n",
    "\t[NombreFichero] [nvarchar](255) NULL,\n",
    "\t[FechaFichero] [datetime] NULL,\n",
    "\t[ImporteTotal] [decimal](18, 2) NULL,\n",
    "\t[FechaRemesa] [date] NULL,\n",
    "\t[Parametros] [nvarchar](max) NULL,\n",
    "PRIMARY KEY CLUSTERED \n",
    "(\n",
    "\t[IdRemesa] ASC\n",
    ")WITH (PAD_INDEX = OFF, STATISTICS_NORECOMPUTE = OFF, IGNORE_DUP_KEY = OFF, ALLOW_ROW_LOCKS = ON, ALLOW_PAGE_LOCKS = ON, OPTIMIZE_FOR_SEQUENTIAL_KEY = OFF) ON [PRIMARY],\n",
    "UNIQUE NONCLUSTERED \n",
    "(\n",
    "\t[CodigoRemesa] ASC\n",
    ")WITH (PAD_INDEX = OFF, STATISTICS_NORECOMPUTE = OFF, IGNORE_DUP_KEY = OFF, ALLOW_ROW_LOCKS = ON, ALLOW_PAGE_LOCKS = ON, OPTIMIZE_FOR_SEQUENTIAL_KEY = OFF) ON [PRIMARY]\n",
    ") ON [PRIMARY] TEXTIMAGE_ON [PRIMARY]\n",
    "GO\n"
   ]
  },
  {
   "cell_type": "markdown",
   "metadata": {
    "object_type": "Table",
    "urn": "Server[@Name='Windows10-Pepe']/Database[@Name='CEFEGEN']/Table[@Name='ResultadosAndrologia' and @Schema='dbo']"
   },
   "source": [
    "# [dbo].[ResultadosAndrologia]"
   ]
  },
  {
   "cell_type": "code",
   "execution_count": 0,
   "metadata": {
    "object_type": "Table",
    "urn": "Server[@Name='Windows10-Pepe']/Database[@Name='CEFEGEN']/Table[@Name='ResultadosAndrologia' and @Schema='dbo']"
   },
   "outputs": [],
   "source": [
    "/****** Object:  Table [dbo].[ResultadosAndrologia]    Script Date: 20/06/2025 18:08:55 ******/\n",
    "SET ANSI_NULLS ON\n",
    "GO\n",
    "SET QUOTED_IDENTIFIER ON\n",
    "GO\n",
    "CREATE TABLE [dbo].[ResultadosAndrologia](\n",
    "\t[IdResultadoAndrologia] [int] IDENTITY(1,1) NOT NULL,\n",
    "\t[IdDeterminacion] [int] NOT NULL,\n",
    "\t[Resultado] [nvarchar](255) NOT NULL,\n",
    "\t[Unidad] [nvarchar](50) NULL,\n",
    "\t[ValorReferencia] [nvarchar](255) NULL,\n",
    "\t[FechaRegistro] [date] NOT NULL,\n",
    "\t[IdPersonalRegistro] [int] NULL,\n",
    "\t[IdLineaPeticion] [int] NULL,\n",
    "\t[ValidadoPor] [int] NULL,\n",
    "\t[EstadoValidacion] [nvarchar](50) NULL,\n",
    "\t[FechaValidacion] [datetime] NULL,\n",
    "\t[IdDocumento] [int] NULL,\n",
    "\t[Notificado] [bit] NOT NULL,\n",
    "\t[EstadoValidacionFinal] [nvarchar](50) NULL,\n",
    "\t[FechaResultado] [datetime] NULL,\n",
    "PRIMARY KEY CLUSTERED \n",
    "(\n",
    "\t[IdResultadoAndrologia] ASC\n",
    ")WITH (PAD_INDEX = OFF, STATISTICS_NORECOMPUTE = OFF, IGNORE_DUP_KEY = OFF, ALLOW_ROW_LOCKS = ON, ALLOW_PAGE_LOCKS = ON, OPTIMIZE_FOR_SEQUENTIAL_KEY = OFF) ON [PRIMARY]\n",
    ") ON [PRIMARY]\n",
    "GO\n"
   ]
  },
  {
   "cell_type": "markdown",
   "metadata": {
    "object_type": "Table",
    "urn": "Server[@Name='Windows10-Pepe']/Database[@Name='CEFEGEN']/Table[@Name='ResultadosCitogenetica' and @Schema='dbo']"
   },
   "source": [
    "# [dbo].[ResultadosCitogenetica]"
   ]
  },
  {
   "cell_type": "code",
   "execution_count": 0,
   "metadata": {
    "object_type": "Table",
    "urn": "Server[@Name='Windows10-Pepe']/Database[@Name='CEFEGEN']/Table[@Name='ResultadosCitogenetica' and @Schema='dbo']"
   },
   "outputs": [],
   "source": [
    "/****** Object:  Table [dbo].[ResultadosCitogenetica]    Script Date: 20/06/2025 18:08:55 ******/\n",
    "SET ANSI_NULLS ON\n",
    "GO\n",
    "SET QUOTED_IDENTIFIER ON\n",
    "GO\n",
    "CREATE TABLE [dbo].[ResultadosCitogenetica](\n",
    "\t[IdResultadoCitogenetica] [int] IDENTITY(1,1) NOT NULL,\n",
    "\t[Cariotipo] [nvarchar](100) NULL,\n",
    "\t[Anomalias] [nvarchar](max) NULL,\n",
    "\t[Comentarios] [nvarchar](max) NULL,\n",
    "\t[FechaRegistro] [date] NOT NULL,\n",
    "\t[IdPersonalRegistro] [int] NULL,\n",
    "\t[IdLineaPeticion] [int] NULL,\n",
    "\t[ValidadoPor] [int] NULL,\n",
    "\t[EstadoValidacion] [nvarchar](50) NULL,\n",
    "\t[FechaValidacion] [datetime] NULL,\n",
    "\t[IdDocumento] [int] NULL,\n",
    "\t[Notificado] [bit] NOT NULL,\n",
    "\t[EstadoValidacionFinal] [nvarchar](50) NULL,\n",
    "\t[FechaResultado] [datetime] NULL,\n",
    "\t[Resultado] [nvarchar](max) NULL,\n",
    "PRIMARY KEY CLUSTERED \n",
    "(\n",
    "\t[IdResultadoCitogenetica] ASC\n",
    ")WITH (PAD_INDEX = OFF, STATISTICS_NORECOMPUTE = OFF, IGNORE_DUP_KEY = OFF, ALLOW_ROW_LOCKS = ON, ALLOW_PAGE_LOCKS = ON, OPTIMIZE_FOR_SEQUENTIAL_KEY = OFF) ON [PRIMARY]\n",
    ") ON [PRIMARY] TEXTIMAGE_ON [PRIMARY]\n",
    "GO\n"
   ]
  },
  {
   "cell_type": "markdown",
   "metadata": {
    "object_type": "Table",
    "urn": "Server[@Name='Windows10-Pepe']/Database[@Name='CEFEGEN']/Table[@Name='ResultadosGenetica' and @Schema='dbo']"
   },
   "source": [
    "# [dbo].[ResultadosGenetica]"
   ]
  },
  {
   "cell_type": "code",
   "execution_count": 0,
   "metadata": {
    "object_type": "Table",
    "urn": "Server[@Name='Windows10-Pepe']/Database[@Name='CEFEGEN']/Table[@Name='ResultadosGenetica' and @Schema='dbo']"
   },
   "outputs": [],
   "source": [
    "/****** Object:  Table [dbo].[ResultadosGenetica]    Script Date: 20/06/2025 18:08:55 ******/\n",
    "SET ANSI_NULLS ON\n",
    "GO\n",
    "SET QUOTED_IDENTIFIER ON\n",
    "GO\n",
    "CREATE TABLE [dbo].[ResultadosGenetica](\n",
    "\t[IdResultadoGenetica] [int] IDENTITY(1,1) NOT NULL,\n",
    "\t[Gen] [nvarchar](100) NULL,\n",
    "\t[Mutacion] [nvarchar](100) NULL,\n",
    "\t[Resultado] [nvarchar](255) NULL,\n",
    "\t[FechaRegistro] [date] NOT NULL,\n",
    "\t[IdPersonalRegistro] [int] NULL,\n",
    "\t[IdLineaPeticion] [int] NULL,\n",
    "\t[ValidadoPor] [int] NULL,\n",
    "\t[EstadoValidacion] [nvarchar](50) NULL,\n",
    "\t[FechaValidacion] [datetime] NULL,\n",
    "\t[IdDocumento] [int] NULL,\n",
    "\t[Notificado] [bit] NOT NULL,\n",
    "\t[EstadoValidacionFinal] [nvarchar](50) NULL,\n",
    "\t[FechaResultado] [datetime] NULL,\n",
    "PRIMARY KEY CLUSTERED \n",
    "(\n",
    "\t[IdResultadoGenetica] ASC\n",
    ")WITH (PAD_INDEX = OFF, STATISTICS_NORECOMPUTE = OFF, IGNORE_DUP_KEY = OFF, ALLOW_ROW_LOCKS = ON, ALLOW_PAGE_LOCKS = ON, OPTIMIZE_FOR_SEQUENTIAL_KEY = OFF) ON [PRIMARY]\n",
    ") ON [PRIMARY]\n",
    "GO\n"
   ]
  },
  {
   "cell_type": "markdown",
   "metadata": {
    "object_type": "Table",
    "urn": "Server[@Name='Windows10-Pepe']/Database[@Name='CEFEGEN']/Table[@Name='ResultadosPrueba' and @Schema='dbo']"
   },
   "source": [
    "# [dbo].[ResultadosPrueba]"
   ]
  },
  {
   "cell_type": "code",
   "execution_count": 0,
   "metadata": {
    "object_type": "Table",
    "urn": "Server[@Name='Windows10-Pepe']/Database[@Name='CEFEGEN']/Table[@Name='ResultadosPrueba' and @Schema='dbo']"
   },
   "outputs": [],
   "source": [
    "/****** Object:  Table [dbo].[ResultadosPrueba]    Script Date: 20/06/2025 18:08:55 ******/\n",
    "SET ANSI_NULLS ON\n",
    "GO\n",
    "SET QUOTED_IDENTIFIER ON\n",
    "GO\n",
    "CREATE TABLE [dbo].[ResultadosPrueba](\n",
    "\t[IdResultado] [int] IDENTITY(1,1) NOT NULL,\n",
    "\t[IdDeterminacionCatalogo] [int] NOT NULL,\n",
    "\t[Resultado] [nvarchar](255) NULL,\n",
    "\t[Unidad] [nvarchar](50) NULL,\n",
    "\t[ValorReferencia] [nvarchar](255) NULL,\n",
    "\t[Observaciones] [nvarchar](max) NULL,\n",
    "\t[FechaRegistro] [datetime] NULL,\n",
    "\t[IdLineaPeticion] [int] NULL,\n",
    "PRIMARY KEY CLUSTERED \n",
    "(\n",
    "\t[IdResultado] ASC\n",
    ")WITH (PAD_INDEX = OFF, STATISTICS_NORECOMPUTE = OFF, IGNORE_DUP_KEY = OFF, ALLOW_ROW_LOCKS = ON, ALLOW_PAGE_LOCKS = ON, OPTIMIZE_FOR_SEQUENTIAL_KEY = OFF) ON [PRIMARY]\n",
    ") ON [PRIMARY] TEXTIMAGE_ON [PRIMARY]\n",
    "GO\n"
   ]
  },
  {
   "cell_type": "markdown",
   "metadata": {
    "object_type": "Table",
    "urn": "Server[@Name='Windows10-Pepe']/Database[@Name='CEFEGEN']/Table[@Name='Roles' and @Schema='dbo']"
   },
   "source": [
    "# [dbo].[Roles]"
   ]
  },
  {
   "cell_type": "markdown",
   "metadata": {},
   "source": [
    "#### Table: Roles\n",
    "- **Purpose**: Defines user roles for role-based access control (RBAC).\n",
    "- **Columns**:\n",
    "  - `IdRol`: Unique identifier (PK, auto-incremented).\n",
    "  - `NombreRol`: Unique name of the role (e.g., `RolUsuario`, `RolAnalista`).\n",
    "  - `Descripcion`: Optional description of the role’s purpose.\n",
    "  - `Activo`: Boolean flag indicating active/inactive status (defaults to 1).\n",
    "- **Constraints**:\n",
    "  - `PK_Roles`: Primary key on `IdRol`.\n",
    "  - `UK_Roles_NombreRol`: Ensures unique role names.\n",
    "- **Normalization**:\n",
    "  - **1NF**: All attributes are atomic.\n",
    "  - **2NF**: No partial dependencies (all attributes depend on `IdRol`).\n",
    "  - **3NF**: No transitive dependencies.\n",
    "- **RFP Alignment**:\n",
    "  - Supports role assignment for different user types (e.g., `RolUsuario`, `RolAnalista`).\n",
    "  - Allows deactivation of roles via `Activo`."
   ]
  },
  {
   "cell_type": "code",
   "execution_count": 0,
   "metadata": {
    "object_type": "Table",
    "urn": "Server[@Name='Windows10-Pepe']/Database[@Name='CEFEGEN']/Table[@Name='Roles' and @Schema='dbo']"
   },
   "outputs": [],
   "source": [
    "/****** Object:  Table [dbo].[Roles]    Script Date: 20/06/2025 18:08:55 ******/\n",
    "SET ANSI_NULLS ON\n",
    "GO\n",
    "SET QUOTED_IDENTIFIER ON\n",
    "GO\n",
    "CREATE TABLE [dbo].[Roles](\n",
    "\t[IdRol] [int] IDENTITY(1,1) NOT NULL,\n",
    "\t[NombreRol] [nvarchar](50) NOT NULL,\n",
    "\t[Descripcion] [nvarchar](255) NULL,\n",
    "\t[Activo] [bit] NOT NULL,\n",
    "PRIMARY KEY CLUSTERED \n",
    "(\n",
    "\t[IdRol] ASC\n",
    ")WITH (PAD_INDEX = OFF, STATISTICS_NORECOMPUTE = OFF, IGNORE_DUP_KEY = OFF, ALLOW_ROW_LOCKS = ON, ALLOW_PAGE_LOCKS = ON, OPTIMIZE_FOR_SEQUENTIAL_KEY = OFF) ON [PRIMARY],\n",
    "UNIQUE NONCLUSTERED \n",
    "(\n",
    "\t[NombreRol] ASC\n",
    ")WITH (PAD_INDEX = OFF, STATISTICS_NORECOMPUTE = OFF, IGNORE_DUP_KEY = OFF, ALLOW_ROW_LOCKS = ON, ALLOW_PAGE_LOCKS = ON, OPTIMIZE_FOR_SEQUENTIAL_KEY = OFF) ON [PRIMARY]\n",
    ") ON [PRIMARY]\n",
    "GO\n"
   ]
  },
  {
   "cell_type": "markdown",
   "metadata": {
    "object_type": "Table",
    "urn": "Server[@Name='Windows10-Pepe']/Database[@Name='CEFEGEN']/Table[@Name='RolesPermisos' and @Schema='dbo']"
   },
   "source": [
    "# [dbo].[RolesPermisos]"
   ]
  },
  {
   "cell_type": "markdown",
   "metadata": {},
   "source": [
    "#### Table: RolesPermisos\n",
    "- **Purpose**: Associates roles with permissions to implement role-based access control.\n",
    "- **Columns**:\n",
    "  - `IdRol`: Foreign key to `Roles.IdRol`.\n",
    "  - `IdPermiso`: Foreign key to `Permisos.IdPermiso`.\n",
    "- **Constraints**:\n",
    "  - `PK_RolesPermisos`: Composite primary key on (`IdRol`, `IdPermiso`).\n",
    "  - `FK_RolesPermisos_Roles`: Ensures `IdRol` references a valid role.\n",
    "  - `FK_RolesPermisos_Permisos`: Ensures `IdPermiso` references a valid permission.\n",
    "- **Normalization**:\n",
    "  - **1NF**: Atomic attributes, no repeating groups.\n",
    "  - **2NF**: No partial dependencies (composite key ensures full dependency).\n",
    "  - **3NF**: No transitive dependencies.\n",
    "- **RFP Alignment**:\n",
    "  - Enables flexible assignment of permissions to roles, supporting complex access control for different user types."
   ]
  },
  {
   "cell_type": "code",
   "execution_count": 0,
   "metadata": {
    "object_type": "Table",
    "urn": "Server[@Name='Windows10-Pepe']/Database[@Name='CEFEGEN']/Table[@Name='RolesPermisos' and @Schema='dbo']"
   },
   "outputs": [],
   "source": [
    "/****** Object:  Table [dbo].[RolesPermisos]    Script Date: 20/06/2025 18:08:55 ******/\n",
    "SET ANSI_NULLS ON\n",
    "GO\n",
    "SET QUOTED_IDENTIFIER ON\n",
    "GO\n",
    "CREATE TABLE [dbo].[RolesPermisos](\n",
    "\t[IdRol] [int] NOT NULL,\n",
    "\t[IdPermiso] [int] NOT NULL,\n",
    "PRIMARY KEY CLUSTERED \n",
    "(\n",
    "\t[IdRol] ASC,\n",
    "\t[IdPermiso] ASC\n",
    ")WITH (PAD_INDEX = OFF, STATISTICS_NORECOMPUTE = OFF, IGNORE_DUP_KEY = OFF, ALLOW_ROW_LOCKS = ON, ALLOW_PAGE_LOCKS = ON, OPTIMIZE_FOR_SEQUENTIAL_KEY = OFF) ON [PRIMARY]\n",
    ") ON [PRIMARY]\n",
    "GO\n"
   ]
  },
  {
   "cell_type": "markdown",
   "metadata": {
    "object_type": "Table",
    "urn": "Server[@Name='Windows10-Pepe']/Database[@Name='CEFEGEN']/Table[@Name='SolicitudesSolicitantes' and @Schema='dbo']"
   },
   "source": [
    "# [dbo].[SolicitudesSolicitantes]"
   ]
  },
  {
   "cell_type": "markdown",
   "metadata": {},
   "source": [
    "#### Table: SolicitudesSolicitantes\n",
    "- **Purpose**: Manages many-to-many relationship between `Solicitudes` and `Solicitantes`.\n",
    "- **Columns**:\n",
    "  - `IdSolicitud`: FK to `Solicitudes`.\n",
    "  - `IdSolicitante`: FK to `Solicitantes`.\n",
    "- **Constraints**:\n",
    "  - `PK_SolicitudesSolicitantes`: Composite primary key on (`IdSolicitud`, `IdSolicitante`).\n",
    "  - FKs to `Solicitudes` and `Solicitantes`.\n",
    "- **Normalization**:\n",
    "  - **1NF**: All attributes are atomic.\n",
    "  - **2NF**: No partial dependencies.\n",
    "  - **3NF**: No transitive dependencies.\n",
    "- **RFP Alignment**:\n",
    "  - Enables multiple requesters per request, as required.\n",
    "- **Relationships**:\n",
    "  - Many-to-one with `Solicitudes` and `Solicitantes`.\n",
    "**Notes**: Supports RFP’s requirement for associating solicitantes with solicitations."
   ]
  },
  {
   "cell_type": "code",
   "execution_count": 0,
   "metadata": {
    "object_type": "Table",
    "urn": "Server[@Name='Windows10-Pepe']/Database[@Name='CEFEGEN']/Table[@Name='SolicitudesSolicitantes' and @Schema='dbo']"
   },
   "outputs": [],
   "source": [
    "/****** Object:  Table [dbo].[SolicitudesSolicitantes]    Script Date: 20/06/2025 18:08:55 ******/\n",
    "SET ANSI_NULLS ON\n",
    "GO\n",
    "SET QUOTED_IDENTIFIER ON\n",
    "GO\n",
    "CREATE TABLE [dbo].[SolicitudesSolicitantes](\n",
    "\t[IdSolicitudSolicitante] [int] IDENTITY(1,1) NOT NULL,\n",
    "\t[IdSolicitud] [int] NOT NULL,\n",
    "\t[IdSolicitante] [int] NOT NULL,\n",
    "\t[EsInterviniente] [bit] NOT NULL,\n",
    "PRIMARY KEY CLUSTERED \n",
    "(\n",
    "\t[IdSolicitudSolicitante] ASC\n",
    ")WITH (PAD_INDEX = OFF, STATISTICS_NORECOMPUTE = OFF, IGNORE_DUP_KEY = OFF, ALLOW_ROW_LOCKS = ON, ALLOW_PAGE_LOCKS = ON, OPTIMIZE_FOR_SEQUENTIAL_KEY = OFF) ON [PRIMARY],\n",
    " CONSTRAINT [UQ_SolicitudSolicitante] UNIQUE NONCLUSTERED \n",
    "(\n",
    "\t[IdSolicitud] ASC,\n",
    "\t[IdSolicitante] ASC\n",
    ")WITH (PAD_INDEX = OFF, STATISTICS_NORECOMPUTE = OFF, IGNORE_DUP_KEY = OFF, ALLOW_ROW_LOCKS = ON, ALLOW_PAGE_LOCKS = ON, OPTIMIZE_FOR_SEQUENTIAL_KEY = OFF) ON [PRIMARY]\n",
    ") ON [PRIMARY]\n",
    "GO\n"
   ]
  },
  {
   "cell_type": "markdown",
   "metadata": {
    "object_type": "Table",
    "urn": "Server[@Name='Windows10-Pepe']/Database[@Name='CEFEGEN']/Table[@Name='Tarifas' and @Schema='dbo']"
   },
   "source": [
    "# [dbo].[Tarifas]"
   ]
  },
  {
   "cell_type": "code",
   "execution_count": 0,
   "metadata": {
    "object_type": "Table",
    "urn": "Server[@Name='Windows10-Pepe']/Database[@Name='CEFEGEN']/Table[@Name='Tarifas' and @Schema='dbo']"
   },
   "outputs": [],
   "source": [
    "/****** Object:  Table [dbo].[Tarifas]    Script Date: 20/06/2025 18:08:55 ******/\n",
    "SET ANSI_NULLS ON\n",
    "GO\n",
    "SET QUOTED_IDENTIFIER ON\n",
    "GO\n",
    "CREATE TABLE [dbo].[Tarifas](\n",
    "\t[IdTarifa] [int] IDENTITY(1,1) NOT NULL,\n",
    "\t[Descripcion] [nvarchar](255) NULL,\n",
    "\t[Coeficiente] [decimal](10, 2) NULL,\n",
    "\t[Observaciones] [nvarchar](max) NULL,\n",
    "PRIMARY KEY CLUSTERED \n",
    "(\n",
    "\t[IdTarifa] ASC\n",
    ")WITH (PAD_INDEX = OFF, STATISTICS_NORECOMPUTE = OFF, IGNORE_DUP_KEY = OFF, ALLOW_ROW_LOCKS = ON, ALLOW_PAGE_LOCKS = ON, OPTIMIZE_FOR_SEQUENTIAL_KEY = OFF) ON [PRIMARY]\n",
    ") ON [PRIMARY] TEXTIMAGE_ON [PRIMARY]\n",
    "GO\n"
   ]
  },
  {
   "cell_type": "markdown",
   "metadata": {
    "object_type": "Table",
    "urn": "Server[@Name='Windows10-Pepe']/Database[@Name='CEFEGEN']/Table[@Name='TarifasBase' and @Schema='dbo']"
   },
   "source": [
    "# [dbo].[TarifasBase]"
   ]
  },
  {
   "cell_type": "code",
   "execution_count": 0,
   "metadata": {
    "object_type": "Table",
    "urn": "Server[@Name='Windows10-Pepe']/Database[@Name='CEFEGEN']/Table[@Name='TarifasBase' and @Schema='dbo']"
   },
   "outputs": [],
   "source": [
    "/****** Object:  Table [dbo].[TarifasBase]    Script Date: 20/06/2025 18:08:55 ******/\n",
    "SET ANSI_NULLS ON\n",
    "GO\n",
    "SET QUOTED_IDENTIFIER ON\n",
    "GO\n",
    "CREATE TABLE [dbo].[TarifasBase](\n",
    "\t[IdTarifa] [int] IDENTITY(1,1) NOT NULL,\n",
    "\t[PrecioPorInterviniente] [decimal](10, 2) NOT NULL,\n",
    "\t[PrecioPorMuestra] [decimal](10, 2) NOT NULL,\n",
    "\t[Descripcion] [varchar](100) NULL,\n",
    "PRIMARY KEY CLUSTERED \n",
    "(\n",
    "\t[IdTarifa] ASC\n",
    ")WITH (PAD_INDEX = OFF, STATISTICS_NORECOMPUTE = OFF, IGNORE_DUP_KEY = OFF, ALLOW_ROW_LOCKS = ON, ALLOW_PAGE_LOCKS = ON, OPTIMIZE_FOR_SEQUENTIAL_KEY = OFF) ON [PRIMARY]\n",
    ") ON [PRIMARY]\n",
    "GO\n"
   ]
  },
  {
   "cell_type": "markdown",
   "metadata": {
    "object_type": "Table",
    "urn": "Server[@Name='Windows10-Pepe']/Database[@Name='CEFEGEN']/Table[@Name='TipoInterviniente' and @Schema='dbo']"
   },
   "source": [
    "# [dbo].[TipoInterviniente]"
   ]
  },
  {
   "cell_type": "code",
   "execution_count": 0,
   "metadata": {
    "object_type": "Table",
    "urn": "Server[@Name='Windows10-Pepe']/Database[@Name='CEFEGEN']/Table[@Name='TipoInterviniente' and @Schema='dbo']"
   },
   "outputs": [],
   "source": [
    "/****** Object:  Table [dbo].[TipoInterviniente]    Script Date: 20/06/2025 18:08:55 ******/\n",
    "SET ANSI_NULLS ON\n",
    "GO\n",
    "SET QUOTED_IDENTIFIER ON\n",
    "GO\n",
    "CREATE TABLE [dbo].[TipoInterviniente](\n",
    "\t[Codigo] [char](4) NOT NULL,\n",
    "\t[Descripcion] [nvarchar](50) NOT NULL,\n",
    "PRIMARY KEY CLUSTERED \n",
    "(\n",
    "\t[Codigo] ASC\n",
    ")WITH (PAD_INDEX = OFF, STATISTICS_NORECOMPUTE = OFF, IGNORE_DUP_KEY = OFF, ALLOW_ROW_LOCKS = ON, ALLOW_PAGE_LOCKS = ON, OPTIMIZE_FOR_SEQUENTIAL_KEY = OFF) ON [PRIMARY]\n",
    ") ON [PRIMARY]\n",
    "GO\n"
   ]
  },
  {
   "cell_type": "markdown",
   "metadata": {
    "object_type": "Table",
    "urn": "Server[@Name='Windows10-Pepe']/Database[@Name='CEFEGEN']/Table[@Name='TiposClientesConsumo' and @Schema='dbo']"
   },
   "source": [
    "# [dbo].[TiposClientesConsumo]"
   ]
  },
  {
   "cell_type": "code",
   "execution_count": 0,
   "metadata": {
    "object_type": "Table",
    "urn": "Server[@Name='Windows10-Pepe']/Database[@Name='CEFEGEN']/Table[@Name='TiposClientesConsumo' and @Schema='dbo']"
   },
   "outputs": [],
   "source": [
    "/****** Object:  Table [dbo].[TiposClientesConsumo]    Script Date: 20/06/2025 18:08:55 ******/\n",
    "SET ANSI_NULLS ON\n",
    "GO\n",
    "SET QUOTED_IDENTIFIER ON\n",
    "GO\n",
    "CREATE TABLE [dbo].[TiposClientesConsumo](\n",
    "\t[IdTipoClienteConsumo] [int] IDENTITY(1,1) NOT NULL,\n",
    "\t[Descripcion] [nvarchar](255) NULL,\n",
    "PRIMARY KEY CLUSTERED \n",
    "(\n",
    "\t[IdTipoClienteConsumo] ASC\n",
    ")WITH (PAD_INDEX = OFF, STATISTICS_NORECOMPUTE = OFF, IGNORE_DUP_KEY = OFF, ALLOW_ROW_LOCKS = ON, ALLOW_PAGE_LOCKS = ON, OPTIMIZE_FOR_SEQUENTIAL_KEY = OFF) ON [PRIMARY]\n",
    ") ON [PRIMARY]\n",
    "GO\n"
   ]
  },
  {
   "cell_type": "markdown",
   "metadata": {
    "object_type": "Table",
    "urn": "Server[@Name='Windows10-Pepe']/Database[@Name='CEFEGEN']/Table[@Name='TiposEntidad' and @Schema='dbo']"
   },
   "source": [
    "# [dbo].[TiposEntidad]"
   ]
  },
  {
   "cell_type": "markdown",
   "metadata": {},
   "source": [
    "Propósito: Define tipos de entidades lógicas o roles de entidades en el sistema, usados principalmente en la tabla [UsuariosPortal] para clasificar usuarios del portal (e.g., \"Solicitante\", \"LaboratorioColaborador\").\n",
    "\n",
    "Uso: En [UsuariosPortal], el campo IdTipoEntidad (FK a [TiposEntidad].IdTipoEntidad) indica si un usuario del portal es un solicitante, laboratorio, u otra categoría.\n",
    "Función de [TiposEntidad]\n",
    "\n",
    "[TiposEntidad]: Define tipos de roles o categorías lógicas para usuarios en [UsuariosPortal] (e.g., \"Solicitante\", \"LaboratorioColaborador\"). Se usa en el Portal del Cliente para clasificar cuentas de usuario."
   ]
  },
  {
   "cell_type": "code",
   "execution_count": 0,
   "metadata": {
    "object_type": "Table",
    "urn": "Server[@Name='Windows10-Pepe']/Database[@Name='CEFEGEN']/Table[@Name='TiposEntidad' and @Schema='dbo']"
   },
   "outputs": [],
   "source": [
    "/****** Object:  Table [dbo].[TiposEntidad]    Script Date: 20/06/2025 18:08:55 ******/\n",
    "SET ANSI_NULLS ON\n",
    "GO\n",
    "SET QUOTED_IDENTIFIER ON\n",
    "GO\n",
    "CREATE TABLE [dbo].[TiposEntidad](\n",
    "\t[IdEntidadTipo] [int] IDENTITY(1,1) NOT NULL,\n",
    "\t[Descripcion] [nvarchar](100) NOT NULL,\n",
    " CONSTRAINT [PK_TiposEntidad] PRIMARY KEY CLUSTERED \n",
    "(\n",
    "\t[IdEntidadTipo] ASC\n",
    ")WITH (PAD_INDEX = OFF, STATISTICS_NORECOMPUTE = OFF, IGNORE_DUP_KEY = OFF, ALLOW_ROW_LOCKS = ON, ALLOW_PAGE_LOCKS = ON, OPTIMIZE_FOR_SEQUENTIAL_KEY = OFF) ON [PRIMARY]\n",
    ") ON [PRIMARY]\n",
    "GO\n"
   ]
  },
  {
   "cell_type": "markdown",
   "metadata": {
    "object_type": "Table",
    "urn": "Server[@Name='Windows10-Pepe']/Database[@Name='CEFEGEN']/Table[@Name='TiposMovimiento' and @Schema='dbo']"
   },
   "source": [
    "# [dbo].[TiposMovimiento]"
   ]
  },
  {
   "cell_type": "code",
   "execution_count": 0,
   "metadata": {
    "object_type": "Table",
    "urn": "Server[@Name='Windows10-Pepe']/Database[@Name='CEFEGEN']/Table[@Name='TiposMovimiento' and @Schema='dbo']"
   },
   "outputs": [],
   "source": [
    "/****** Object:  Table [dbo].[TiposMovimiento]    Script Date: 20/06/2025 18:08:55 ******/\n",
    "SET ANSI_NULLS ON\n",
    "GO\n",
    "SET QUOTED_IDENTIFIER ON\n",
    "GO\n",
    "CREATE TABLE [dbo].[TiposMovimiento](\n",
    "\t[IdTipoMovimiento] [int] IDENTITY(1,1) NOT NULL,\n",
    "\t[Nombre] [nvarchar](50) NOT NULL,\n",
    "\t[Descripcion] [nvarchar](255) NULL,\n",
    "\t[Activo] [bit] NULL,\n",
    "PRIMARY KEY CLUSTERED \n",
    "(\n",
    "\t[IdTipoMovimiento] ASC\n",
    ")WITH (PAD_INDEX = OFF, STATISTICS_NORECOMPUTE = OFF, IGNORE_DUP_KEY = OFF, ALLOW_ROW_LOCKS = ON, ALLOW_PAGE_LOCKS = ON, OPTIMIZE_FOR_SEQUENTIAL_KEY = OFF) ON [PRIMARY],\n",
    "UNIQUE NONCLUSTERED \n",
    "(\n",
    "\t[Nombre] ASC\n",
    ")WITH (PAD_INDEX = OFF, STATISTICS_NORECOMPUTE = OFF, IGNORE_DUP_KEY = OFF, ALLOW_ROW_LOCKS = ON, ALLOW_PAGE_LOCKS = ON, OPTIMIZE_FOR_SEQUENTIAL_KEY = OFF) ON [PRIMARY]\n",
    ") ON [PRIMARY]\n",
    "GO\n"
   ]
  },
  {
   "cell_type": "markdown",
   "metadata": {
    "object_type": "Table",
    "urn": "Server[@Name='Windows10-Pepe']/Database[@Name='CEFEGEN']/Table[@Name='TiposMuestra' and @Schema='dbo']"
   },
   "source": [
    "# [dbo].[TiposMuestra]"
   ]
  },
  {
   "cell_type": "markdown",
   "metadata": {},
   "source": [
    "#### Table: TiposMuestra\n",
    "- **Purpose**: Defines sample types.\n",
    "- **Columns**:\n",
    "  - `IdTipoMuestra`: Unique identifier (PK, auto-incremented).\n",
    "  - `NombreTipoMuestra`: Unique type name (e.g., “Blood”).\n",
    "  - `Activo`: Boolean flag for active/inactive status.\n",
    "- **Constraints**:\n",
    "  - `PK_TiposMuestra`: Primary key on `IdTipoMuestra`.\n",
    "  - `UK_TiposMuestra_NombreTipoMuestra`: Ensures unique names.\n",
    "- **Normalization**:\n",
    "  - **1NF**: All attributes are atomic.\n",
    "  - **2NF**: No partial dependencies.\n",
    "  - **3NF**: No transitive dependencies.\n",
    "- **RFP Alignment**:\n",
    "  - Supports sample type specification.\n",
    "- **Relationships**:\n",
    "  - One-to-many with `Muestras`."
   ]
  },
  {
   "cell_type": "code",
   "execution_count": 0,
   "metadata": {
    "object_type": "Table",
    "urn": "Server[@Name='Windows10-Pepe']/Database[@Name='CEFEGEN']/Table[@Name='TiposMuestra' and @Schema='dbo']"
   },
   "outputs": [],
   "source": [
    "/****** Object:  Table [dbo].[TiposMuestra]    Script Date: 20/06/2025 18:08:55 ******/\n",
    "SET ANSI_NULLS ON\n",
    "GO\n",
    "SET QUOTED_IDENTIFIER ON\n",
    "GO\n",
    "CREATE TABLE [dbo].[TiposMuestra](\n",
    "\t[IdTipoMuestra] [int] IDENTITY(1,1) NOT NULL,\n",
    "\t[Descripcion] [nvarchar](100) NULL,\n",
    "\t[CodigoCorto] [nvarchar](20) NULL,\n",
    "\t[Observaciones] [nvarchar](max) NULL,\n",
    "\t[CosteFijo] [decimal](10, 2) NOT NULL,\n",
    "PRIMARY KEY CLUSTERED \n",
    "(\n",
    "\t[IdTipoMuestra] ASC\n",
    ")WITH (PAD_INDEX = OFF, STATISTICS_NORECOMPUTE = OFF, IGNORE_DUP_KEY = OFF, ALLOW_ROW_LOCKS = ON, ALLOW_PAGE_LOCKS = ON, OPTIMIZE_FOR_SEQUENTIAL_KEY = OFF) ON [PRIMARY]\n",
    ") ON [PRIMARY] TEXTIMAGE_ON [PRIMARY]\n",
    "GO\n"
   ]
  },
  {
   "cell_type": "markdown",
   "metadata": {
    "object_type": "Table",
    "urn": "Server[@Name='Windows10-Pepe']/Database[@Name='CEFEGEN']/Table[@Name='TiposPlantillas' and @Schema='dbo']"
   },
   "source": [
    "# [dbo].[TiposPlantillas]"
   ]
  },
  {
   "cell_type": "markdown",
   "metadata": {},
   "source": [
    "Propósito: Define las categorías de plantillas almacenadas en [Plantillas]. Representa tipos como \"InformeParentesco\", \"Consentimiento\", \"Notificación\", etc.\n",
    "Uso: El campo IdTipoPlantilla en [Plantillas] clasifica la plantilla según su propósito.\n",
    "Ejemplo:\n",
    "IdTipoPlantilla | Nombre            | Descripción\n",
    "1               | InformeParentesco | Plantilla para informes de parentesco\n",
    "2               | Consentimiento    | Plantilla para consentimientos\n",
    "3               | Notificación      | Plantilla para notificaciones por email/SMS"
   ]
  },
  {
   "cell_type": "code",
   "execution_count": 0,
   "metadata": {
    "object_type": "Table",
    "urn": "Server[@Name='Windows10-Pepe']/Database[@Name='CEFEGEN']/Table[@Name='TiposPlantillas' and @Schema='dbo']"
   },
   "outputs": [],
   "source": [
    "/****** Object:  Table [dbo].[TiposPlantillas]    Script Date: 20/06/2025 18:08:55 ******/\n",
    "SET ANSI_NULLS ON\n",
    "GO\n",
    "SET QUOTED_IDENTIFIER ON\n",
    "GO\n",
    "CREATE TABLE [dbo].[TiposPlantillas](\n",
    "\t[IdTipoPlantilla] [int] IDENTITY(1,1) NOT NULL,\n",
    "\t[Descripcion] [nvarchar](100) NOT NULL,\n",
    "\t[RequiereFirma] [bit] NOT NULL,\n",
    "\t[Activo] [bit] NOT NULL,\n",
    " CONSTRAINT [PK_TiposPlantillas] PRIMARY KEY CLUSTERED \n",
    "(\n",
    "\t[IdTipoPlantilla] ASC\n",
    ")WITH (PAD_INDEX = OFF, STATISTICS_NORECOMPUTE = OFF, IGNORE_DUP_KEY = OFF, ALLOW_ROW_LOCKS = ON, ALLOW_PAGE_LOCKS = ON, OPTIMIZE_FOR_SEQUENTIAL_KEY = OFF) ON [PRIMARY]\n",
    ") ON [PRIMARY]\n",
    "GO\n"
   ]
  },
  {
   "cell_type": "markdown",
   "metadata": {
    "object_type": "Table",
    "urn": "Server[@Name='Windows10-Pepe']/Database[@Name='CEFEGEN']/Table[@Name='TiposPrueba' and @Schema='dbo']"
   },
   "source": [
    "# [dbo].[TiposPrueba]"
   ]
  },
  {
   "cell_type": "markdown",
   "metadata": {},
   "source": [
    "#### Table: TiposPrueba\n",
    "**Purpose**: Stores test types.\n",
    "**Columns**:\n",
    "- `IdTipoPrueba` (int, PK, IDENTITY): Unique identifier.\n",
    "- `Nombre` (nvarchar(50), NOT NULL): Test type name.\n",
    "- `FechaCreacion` (datetime, NOT NULL): Creation timestamp.\n",
    "**Constraints**:\n",
    "- Primary Key: `IdTipoPrueba` (line 591).\n",
    "**Normalization**: 3NF.\n",
    "**Notes**: Meets RFP’s test type requirement."
   ]
  },
  {
   "cell_type": "code",
   "execution_count": 0,
   "metadata": {
    "object_type": "Table",
    "urn": "Server[@Name='Windows10-Pepe']/Database[@Name='CEFEGEN']/Table[@Name='TiposPrueba' and @Schema='dbo']"
   },
   "outputs": [],
   "source": [
    "/****** Object:  Table [dbo].[TiposPrueba]    Script Date: 20/06/2025 18:08:55 ******/\n",
    "SET ANSI_NULLS ON\n",
    "GO\n",
    "SET QUOTED_IDENTIFIER ON\n",
    "GO\n",
    "CREATE TABLE [dbo].[TiposPrueba](\n",
    "\t[IdTipoPrueba] [int] IDENTITY(1,1) NOT NULL,\n",
    "\t[Activo] [bit] NULL,\n",
    "\t[Categoria] [nvarchar](100) NULL,\n",
    "PRIMARY KEY CLUSTERED \n",
    "(\n",
    "\t[IdTipoPrueba] ASC\n",
    ")WITH (PAD_INDEX = OFF, STATISTICS_NORECOMPUTE = OFF, IGNORE_DUP_KEY = OFF, ALLOW_ROW_LOCKS = ON, ALLOW_PAGE_LOCKS = ON, OPTIMIZE_FOR_SEQUENTIAL_KEY = OFF) ON [PRIMARY]\n",
    ") ON [PRIMARY]\n",
    "GO\n"
   ]
  },
  {
   "cell_type": "markdown",
   "metadata": {
    "object_type": "Table",
    "urn": "Server[@Name='Windows10-Pepe']/Database[@Name='CEFEGEN']/Table[@Name='TiposResultado' and @Schema='dbo']"
   },
   "source": [
    "# [dbo].[TiposResultado]"
   ]
  },
  {
   "cell_type": "code",
   "execution_count": 0,
   "metadata": {
    "object_type": "Table",
    "urn": "Server[@Name='Windows10-Pepe']/Database[@Name='CEFEGEN']/Table[@Name='TiposResultado' and @Schema='dbo']"
   },
   "outputs": [],
   "source": [
    "/****** Object:  Table [dbo].[TiposResultado]    Script Date: 20/06/2025 18:08:55 ******/\n",
    "SET ANSI_NULLS ON\n",
    "GO\n",
    "SET QUOTED_IDENTIFIER ON\n",
    "GO\n",
    "CREATE TABLE [dbo].[TiposResultado](\n",
    "\t[IdTipoResultado] [int] IDENTITY(1,1) NOT NULL,\n",
    "\t[Nombre] [nvarchar](50) NOT NULL,\n",
    "\t[Codigo] [nvarchar](20) NOT NULL,\n",
    "\t[Descripcion] [nvarchar](255) NULL,\n",
    "\t[EsEstructurado] [bit] NOT NULL,\n",
    "\t[FormatoEsperado] [nvarchar](100) NULL,\n",
    "\t[ValidacionRegEx] [nvarchar](255) NULL,\n",
    "\t[UnidadSugerida] [nvarchar](50) NULL,\n",
    "\t[EsResultadoUnico] [bit] NOT NULL,\n",
    "\t[RequiereArchivo] [bit] NOT NULL,\n",
    "\t[RequiereValidacion] [bit] NOT NULL,\n",
    "PRIMARY KEY CLUSTERED \n",
    "(\n",
    "\t[IdTipoResultado] ASC\n",
    ")WITH (PAD_INDEX = OFF, STATISTICS_NORECOMPUTE = OFF, IGNORE_DUP_KEY = OFF, ALLOW_ROW_LOCKS = ON, ALLOW_PAGE_LOCKS = ON, OPTIMIZE_FOR_SEQUENTIAL_KEY = OFF) ON [PRIMARY],\n",
    "UNIQUE NONCLUSTERED \n",
    "(\n",
    "\t[Codigo] ASC\n",
    ")WITH (PAD_INDEX = OFF, STATISTICS_NORECOMPUTE = OFF, IGNORE_DUP_KEY = OFF, ALLOW_ROW_LOCKS = ON, ALLOW_PAGE_LOCKS = ON, OPTIMIZE_FOR_SEQUENTIAL_KEY = OFF) ON [PRIMARY]\n",
    ") ON [PRIMARY]\n",
    "GO\n"
   ]
  },
  {
   "cell_type": "markdown",
   "metadata": {
    "object_type": "Table",
    "urn": "Server[@Name='Windows10-Pepe']/Database[@Name='CEFEGEN']/Table[@Name='TomasMuestra' and @Schema='dbo']"
   },
   "source": [
    "# [dbo].[TomasMuestra]"
   ]
  },
  {
   "cell_type": "markdown",
   "metadata": {},
   "source": [
    "#### Table: TomasMuestra\n",
    "- **Purpose**: Records sample collection details.\n",
    "- **Columns**:\n",
    "  - `IdTomaMuestra`: Unique identifier (PK, auto-incremented).\n",
    "  - `IdPersonaTomaMuestra`: FK to `PersonasTomaMuestras`, identifying the collector.\n",
    "  - `FechaToma`: Timestamp of collection.\n",
    "  - `LugarToma`: Location of collection.\n",
    "  - `Observaciones`: Optional notes.\n",
    "- **Constraints**:\n",
    "  - `PK_TomasMuestra`: Primary key on `IdTomaMuestra`.\n",
    "  - FK to `PersonasTomaMuestras`.\n",
    "- **Normalization**:\n",
    "  - **1NF**: All attributes are atomic.\n",
    "  - **2NF**: No partial dependencies.\n",
    "  - **3NF**: No transitive dependencies.\n",
    "- **RFP Alignment**:\n",
    "  - Supports sample collection tracking.\n",
    "- **Relationships**:\n",
    "  - One-to-many with `PersonasTomaMuestras`.\n",
    "  - One-to-one with `Muestras`."
   ]
  },
  {
   "cell_type": "code",
   "execution_count": 0,
   "metadata": {
    "object_type": "Table",
    "urn": "Server[@Name='Windows10-Pepe']/Database[@Name='CEFEGEN']/Table[@Name='TomasMuestra' and @Schema='dbo']"
   },
   "outputs": [],
   "source": [
    "/****** Object:  Table [dbo].[TomasMuestra]    Script Date: 20/06/2025 18:08:55 ******/\n",
    "SET ANSI_NULLS ON\n",
    "GO\n",
    "SET QUOTED_IDENTIFIER ON\n",
    "GO\n",
    "CREATE TABLE [dbo].[TomasMuestra](\n",
    "\t[IdTomaMuestra] [int] IDENTITY(1,1) NOT NULL,\n",
    "\t[IdMuestra] [int] NOT NULL,\n",
    "\t[IdInterviniente] [int] NULL,\n",
    "\t[IdPersonalToma] [int] NULL,\n",
    "\t[IdLugarToma] [int] NULL,\n",
    "\t[FechaToma] [datetime] NOT NULL,\n",
    "\t[MetodoToma] [nvarchar](100) NULL,\n",
    "\t[Observaciones] [nvarchar](max) NULL,\n",
    "\t[IdPlantilla] [int] NULL,\n",
    "PRIMARY KEY CLUSTERED \n",
    "(\n",
    "\t[IdTomaMuestra] ASC\n",
    ")WITH (PAD_INDEX = OFF, STATISTICS_NORECOMPUTE = OFF, IGNORE_DUP_KEY = OFF, ALLOW_ROW_LOCKS = ON, ALLOW_PAGE_LOCKS = ON, OPTIMIZE_FOR_SEQUENTIAL_KEY = OFF) ON [PRIMARY]\n",
    ") ON [PRIMARY] TEXTIMAGE_ON [PRIMARY]\n",
    "GO\n"
   ]
  },
  {
   "cell_type": "markdown",
   "metadata": {
    "object_type": "Table",
    "urn": "Server[@Name='Windows10-Pepe']/Database[@Name='CEFEGEN']/Table[@Name='Unidades' and @Schema='dbo']"
   },
   "source": [
    "# [dbo].[Unidades]"
   ]
  },
  {
   "cell_type": "code",
   "execution_count": 0,
   "metadata": {
    "object_type": "Table",
    "urn": "Server[@Name='Windows10-Pepe']/Database[@Name='CEFEGEN']/Table[@Name='Unidades' and @Schema='dbo']"
   },
   "outputs": [],
   "source": [
    "/****** Object:  Table [dbo].[Unidades]    Script Date: 20/06/2025 18:08:55 ******/\n",
    "SET ANSI_NULLS ON\n",
    "GO\n",
    "SET QUOTED_IDENTIFIER ON\n",
    "GO\n",
    "CREATE TABLE [dbo].[Unidades](\n",
    "\t[IdUnidad] [int] IDENTITY(1,1) NOT NULL,\n",
    "\t[Descripcion] [nvarchar](255) NULL,\n",
    "\t[TipoUnidad] [nvarchar](50) NULL,\n",
    "\t[Bloquear] [nvarchar](50) NULL,\n",
    "\t[NotasTecnico] [nvarchar](max) NULL,\n",
    "\t[NotasInternas] [nvarchar](max) NULL,\n",
    "\t[Parametros] [nvarchar](max) NULL,\n",
    "PRIMARY KEY CLUSTERED \n",
    "(\n",
    "\t[IdUnidad] ASC\n",
    ")WITH (PAD_INDEX = OFF, STATISTICS_NORECOMPUTE = OFF, IGNORE_DUP_KEY = OFF, ALLOW_ROW_LOCKS = ON, ALLOW_PAGE_LOCKS = ON, OPTIMIZE_FOR_SEQUENTIAL_KEY = OFF) ON [PRIMARY]\n",
    ") ON [PRIMARY] TEXTIMAGE_ON [PRIMARY]\n",
    "GO\n"
   ]
  },
  {
   "cell_type": "markdown",
   "metadata": {},
   "source": [
    "# [dbo].[UsuariosPortal]"
   ]
  },
  {
   "cell_type": "markdown",
   "metadata": {},
   "source": [
    "#### Table: UsuariosPortal\n",
    "- **Purpose**: Manages external users for the client portal, linked to solicitantes or laboratorios colaboradores.\n",
    "- **Columns**:\n",
    "  - `IdUsuarioPortal`: Unique identifier (PK, auto-incremented).\n",
    "  - `NombreUsuario`: Unique username for portal login.\n",
    "  - `Email`: Unique email for communication and login.\n",
    "  - `HashPassword`: Hashed password for secure authentication.\n",
    "  - `IdEntidad`: Links to `Solicitantes.IdSolicitante` or `LaboratoriosColaboradores.IdLaboratorio`.\n",
    "  - `TipoEntidad`: Specifies entity type (`Solicitante` or `Laboratorio`).\n",
    "  - `IdRol`: Foreign key to `Roles.IdRol` for access control.\n",
    "  - `Activo`: Boolean flag for active/inactive status (defaults to 1).\n",
    "  - `FechaCreacion`: Timestamp of user creation.\n",
    "- **Constraints**:\n",
    "  - `PK_UsuariosPortal`: Primary key on `IdUsuarioPortal`.\n",
    "  - `UK_UsuariosPortal_NombreUsuario`: Ensures unique usernames.\n",
    "  - `UK_UsuariosPortal_Email`: Ensures unique emails.\n",
    "  - `FK_UsuariosPortal_Roles`: Links to `Roles`.\n",
    "  - `CK_UsuariosPortal_TipoEntidad`: Restricts `TipoEntidad` to valid values.\n",
    "- **Normalization**:\n",
    "  - **1NF**: All attributes are atomic.\n",
    "  - **2NF**: No partial dependencies.\n",
    "  - **3NF**: No transitive dependencies, though `IdEntidad` and `TipoEntidad` require careful validation to ensure referential integrity.\n",
    "- **RFP Alignment**:\n",
    "  - Supports external user management for the client portal.\n",
    "  - Links to `Solicitantes` or `LaboratoriosColaboradores` via `IdEntidad` and `TipoEntidad`.\n",
    "  - Integrates with RBAC via `IdRol`.\n"
   ]
  },
  {
   "cell_type": "markdown",
   "metadata": {},
   "source": [
    "IdTipoEntidad es una FK a [TiposEntidad], definiendo el tipo de entidad del usuario (e.g., \"Solicitante\", \"LaboratorioColaborador\").\n",
    "\n",
    "IdEntidad en [UsuariosPortal] es similar a [Documentos], pero aquí apunta a un registro en una tabla específica según IdTipoEntidad (e.g., IdSolicitante en [Solicitantes] o IdLaboratorioColaborador en [LaboratoriosColaboradores]).\n",
    "\n",
    "En [UsuariosPortal], IdEntidad apunta a un registro en una tabla definida por [TiposEntidad] (e.g., IdSolicitante en [Solicitantes]).\n",
    "\n",
    "Ejemplo en [UsuariosPortal]\n",
    "El uso de IdEntidad y IdTipoEntidad en [UsuariosPortal] es análogo a [Documentos], pero con [TiposEntidad]:\n",
    "\n",
    "Ejemplo: Un usuario del portal representa a un solicitante con IdSolicitante = 10.\n",
    "En [UsuariosPortal]:\n",
    "\n",
    "IdUsuarioPortal | UserName | Email               | IdEntidad | IdTipoEntidad | IdRol | Activo | FechaCreacion\n",
    "1               | juan.perez | juan.perez@email.com | 10        | 1 (Solicitante) | 1     | 1      | 2025-06-17\n",
    "\n",
    "Aquí, IdEntidad = 10 corresponde a IdSolicitante = 10 en [Solicitantes], y IdTipoEntidad = 1 indica que el tipo es \"Solicitante\" en [TiposEntidad].\n",
    "\n",
    "Inserción en [UsuariosPortal] (hipotético)\n",
    "\n",
    "INSERT INTO [dbo].[UsuariosPortal] (\n",
    "    UserName, Email, HashPassword, IdEntidad, IdTipoEntidad, IdRol, Activo, FechaCreacion\n",
    ")\n",
    "VALUES (\n",
    "    'juan.perez', 'juan.perez@email.com', 'hashed_password', 10,\n",
    "    (SELECT IdTipoEntidad FROM [TiposEntidad] WHERE Nombre = 'Solicitante'),\n",
    "    1, 1, GETDATE()\n",
    ");"
   ]
  },
  {
   "cell_type": "code",
   "execution_count": 0,
   "metadata": {
    "object_type": "Table",
    "urn": "Server[@Name='Windows10-Pepe']/Database[@Name='CEFEGEN']/Table[@Name='UsuariosPortal' and @Schema='dbo']"
   },
   "outputs": [],
   "source": [
    "/****** Object:  Table [dbo].[UsuariosPortal]    Script Date: 20/06/2025 18:08:55 ******/\n",
    "SET ANSI_NULLS ON\n",
    "GO\n",
    "SET QUOTED_IDENTIFIER ON\n",
    "GO\n",
    "CREATE TABLE [dbo].[UsuariosPortal](\n",
    "\t[IdUsuarioPortal] [int] IDENTITY(1,1) NOT NULL,\n",
    "\t[NombreUsuario] [nvarchar](50) NOT NULL,\n",
    "\t[Email] [nvarchar](100) NOT NULL,\n",
    "\t[HashPassword] [nvarchar](255) NOT NULL,\n",
    "\t[IdEntidad] [int] NOT NULL,\n",
    "\t[IdTipoEntidad] [int] NOT NULL,\n",
    "\t[IdRol] [int] NOT NULL,\n",
    "\t[Activo] [bit] NOT NULL,\n",
    "\t[FechaCreacion] [datetime] NOT NULL,\n",
    "PRIMARY KEY CLUSTERED \n",
    "(\n",
    "\t[IdUsuarioPortal] ASC\n",
    ")WITH (PAD_INDEX = OFF, STATISTICS_NORECOMPUTE = OFF, IGNORE_DUP_KEY = OFF, ALLOW_ROW_LOCKS = ON, ALLOW_PAGE_LOCKS = ON, OPTIMIZE_FOR_SEQUENTIAL_KEY = OFF) ON [PRIMARY],\n",
    "UNIQUE NONCLUSTERED \n",
    "(\n",
    "\t[NombreUsuario] ASC\n",
    ")WITH (PAD_INDEX = OFF, STATISTICS_NORECOMPUTE = OFF, IGNORE_DUP_KEY = OFF, ALLOW_ROW_LOCKS = ON, ALLOW_PAGE_LOCKS = ON, OPTIMIZE_FOR_SEQUENTIAL_KEY = OFF) ON [PRIMARY],\n",
    "UNIQUE NONCLUSTERED \n",
    "(\n",
    "\t[Email] ASC\n",
    ")WITH (PAD_INDEX = OFF, STATISTICS_NORECOMPUTE = OFF, IGNORE_DUP_KEY = OFF, ALLOW_ROW_LOCKS = ON, ALLOW_PAGE_LOCKS = ON, OPTIMIZE_FOR_SEQUENTIAL_KEY = OFF) ON [PRIMARY],\n",
    " CONSTRAINT [UQ_UsuariosPortal_Email] UNIQUE NONCLUSTERED \n",
    "(\n",
    "\t[Email] ASC\n",
    ")WITH (PAD_INDEX = OFF, STATISTICS_NORECOMPUTE = OFF, IGNORE_DUP_KEY = OFF, ALLOW_ROW_LOCKS = ON, ALLOW_PAGE_LOCKS = ON, OPTIMIZE_FOR_SEQUENTIAL_KEY = OFF) ON [PRIMARY],\n",
    " CONSTRAINT [UQ_UsuariosPortal_UserName] UNIQUE NONCLUSTERED \n",
    "(\n",
    "\t[NombreUsuario] ASC\n",
    ")WITH (PAD_INDEX = OFF, STATISTICS_NORECOMPUTE = OFF, IGNORE_DUP_KEY = OFF, ALLOW_ROW_LOCKS = ON, ALLOW_PAGE_LOCKS = ON, OPTIMIZE_FOR_SEQUENTIAL_KEY = OFF) ON [PRIMARY]\n",
    ") ON [PRIMARY]\n",
    "GO\n"
   ]
  },
  {
   "cell_type": "markdown",
   "metadata": {
    "object_type": "Index",
    "urn": "Server[@Name='Windows10-Pepe']/Database[@Name='CEFEGEN']/Table[@Name='Direcciones' and @Schema='dbo']/Index[@Name='IX_Direcciones_CodigoPais']"
   },
   "source": [
    "# [IX_Direcciones_CodigoPais]"
   ]
  },
  {
   "cell_type": "code",
   "execution_count": 0,
   "metadata": {
    "object_type": "Index",
    "urn": "Server[@Name='Windows10-Pepe']/Database[@Name='CEFEGEN']/Table[@Name='Direcciones' and @Schema='dbo']/Index[@Name='IX_Direcciones_CodigoPais']"
   },
   "outputs": [],
   "source": [
    "SET ANSI_PADDING ON\n",
    "GO\n",
    "/****** Object:  Index [IX_Direcciones_CodigoPais]    Script Date: 20/06/2025 18:08:55 ******/\n",
    "CREATE NONCLUSTERED INDEX [IX_Direcciones_CodigoPais] ON [dbo].[Direcciones]\n",
    "(\n",
    "\t[CodigoPais] ASC\n",
    ")WITH (PAD_INDEX = OFF, STATISTICS_NORECOMPUTE = OFF, SORT_IN_TEMPDB = OFF, DROP_EXISTING = OFF, ONLINE = OFF, ALLOW_ROW_LOCKS = ON, ALLOW_PAGE_LOCKS = ON, OPTIMIZE_FOR_SEQUENTIAL_KEY = OFF) ON [PRIMARY]\n",
    "GO\n"
   ]
  },
  {
   "cell_type": "markdown",
   "metadata": {
    "object_type": "Index",
    "urn": "Server[@Name='Windows10-Pepe']/Database[@Name='CEFEGEN']/Table[@Name='Documentos' and @Schema='dbo']/Index[@Name='IX_Documentos_IdTipoDocumento']"
   },
   "source": [
    "# [IX_Documentos_IdTipoDocumento]"
   ]
  },
  {
   "cell_type": "code",
   "execution_count": 0,
   "metadata": {
    "object_type": "Index",
    "urn": "Server[@Name='Windows10-Pepe']/Database[@Name='CEFEGEN']/Table[@Name='Documentos' and @Schema='dbo']/Index[@Name='IX_Documentos_IdTipoDocumento']"
   },
   "outputs": [],
   "source": [
    "/****** Object:  Index [IX_Documentos_IdTipoDocumento]    Script Date: 20/06/2025 18:08:55 ******/\n",
    "CREATE NONCLUSTERED INDEX [IX_Documentos_IdTipoDocumento] ON [dbo].[Documentos]\n",
    "(\n",
    "\t[IdTipoDocumento] ASC\n",
    ")WITH (PAD_INDEX = OFF, STATISTICS_NORECOMPUTE = OFF, SORT_IN_TEMPDB = OFF, DROP_EXISTING = OFF, ONLINE = OFF, ALLOW_ROW_LOCKS = ON, ALLOW_PAGE_LOCKS = ON, OPTIMIZE_FOR_SEQUENTIAL_KEY = OFF) ON [PRIMARY]\n",
    "GO\n"
   ]
  },
  {
   "cell_type": "markdown",
   "metadata": {
    "object_type": "Index",
    "urn": "Server[@Name='Windows10-Pepe']/Database[@Name='CEFEGEN']/Table[@Name='IndiceParentesco' and @Schema='dbo']/Index[@Name='IX_IndiceParentesco_IdSolicitud']"
   },
   "source": [
    "# [IX_IndiceParentesco_IdSolicitud]"
   ]
  },
  {
   "cell_type": "code",
   "execution_count": 0,
   "metadata": {
    "object_type": "Index",
    "urn": "Server[@Name='Windows10-Pepe']/Database[@Name='CEFEGEN']/Table[@Name='IndiceParentesco' and @Schema='dbo']/Index[@Name='IX_IndiceParentesco_IdSolicitud']"
   },
   "outputs": [],
   "source": [
    "/****** Object:  Index [IX_IndiceParentesco_IdSolicitud]    Script Date: 20/06/2025 18:08:55 ******/\n",
    "CREATE NONCLUSTERED INDEX [IX_IndiceParentesco_IdSolicitud] ON [dbo].[IndiceParentesco]\n",
    "(\n",
    "\t[IdSolicitud] ASC\n",
    ")WITH (PAD_INDEX = OFF, STATISTICS_NORECOMPUTE = OFF, SORT_IN_TEMPDB = OFF, DROP_EXISTING = OFF, ONLINE = OFF, ALLOW_ROW_LOCKS = ON, ALLOW_PAGE_LOCKS = ON, OPTIMIZE_FOR_SEQUENTIAL_KEY = OFF) ON [PRIMARY]\n",
    "GO\n"
   ]
  },
  {
   "cell_type": "markdown",
   "metadata": {
    "object_type": "Index",
    "urn": "Server[@Name='Windows10-Pepe']/Database[@Name='CEFEGEN']/Table[@Name='IndiceParentesco' and @Schema='dbo']/Index[@Name='IX_IndiceParentesco_Perfiles']"
   },
   "source": [
    "# [IX_IndiceParentesco_Perfiles]"
   ]
  },
  {
   "cell_type": "code",
   "execution_count": 0,
   "metadata": {
    "object_type": "Index",
    "urn": "Server[@Name='Windows10-Pepe']/Database[@Name='CEFEGEN']/Table[@Name='IndiceParentesco' and @Schema='dbo']/Index[@Name='IX_IndiceParentesco_Perfiles']"
   },
   "outputs": [],
   "source": [
    "/****** Object:  Index [IX_IndiceParentesco_Perfiles]    Script Date: 20/06/2025 18:08:55 ******/\n",
    "CREATE NONCLUSTERED INDEX [IX_IndiceParentesco_Perfiles] ON [dbo].[IndiceParentesco]\n",
    "(\n",
    "\t[IdPerfilGenetico1] ASC,\n",
    "\t[IdPerfilGenetico2] ASC\n",
    ")WITH (PAD_INDEX = OFF, STATISTICS_NORECOMPUTE = OFF, SORT_IN_TEMPDB = OFF, DROP_EXISTING = OFF, ONLINE = OFF, ALLOW_ROW_LOCKS = ON, ALLOW_PAGE_LOCKS = ON, OPTIMIZE_FOR_SEQUENTIAL_KEY = OFF) ON [PRIMARY]\n",
    "GO\n"
   ]
  },
  {
   "cell_type": "markdown",
   "metadata": {
    "object_type": "Index",
    "urn": "Server[@Name='Windows10-Pepe']/Database[@Name='CEFEGEN']/Table[@Name='IndiceParentesco' and @Schema='dbo']/Index[@Name='IX_IndiceParentesco_TipoRelacion']"
   },
   "source": [
    "# [IX_IndiceParentesco_TipoRelacion]"
   ]
  },
  {
   "cell_type": "code",
   "execution_count": 0,
   "metadata": {
    "object_type": "Index",
    "urn": "Server[@Name='Windows10-Pepe']/Database[@Name='CEFEGEN']/Table[@Name='IndiceParentesco' and @Schema='dbo']/Index[@Name='IX_IndiceParentesco_TipoRelacion']"
   },
   "outputs": [],
   "source": [
    "SET ANSI_PADDING ON\n",
    "GO\n",
    "/****** Object:  Index [IX_IndiceParentesco_TipoRelacion]    Script Date: 20/06/2025 18:08:55 ******/\n",
    "CREATE NONCLUSTERED INDEX [IX_IndiceParentesco_TipoRelacion] ON [dbo].[IndiceParentesco]\n",
    "(\n",
    "\t[TipoRelacion] ASC\n",
    ")WITH (PAD_INDEX = OFF, STATISTICS_NORECOMPUTE = OFF, SORT_IN_TEMPDB = OFF, DROP_EXISTING = OFF, ONLINE = OFF, ALLOW_ROW_LOCKS = ON, ALLOW_PAGE_LOCKS = ON, OPTIMIZE_FOR_SEQUENTIAL_KEY = OFF) ON [PRIMARY]\n",
    "GO\n"
   ]
  },
  {
   "cell_type": "markdown",
   "metadata": {
    "object_type": "Index",
    "urn": "Server[@Name='Windows10-Pepe']/Database[@Name='CEFEGEN']/Table[@Name='LaboratorioImportes' and @Schema='dbo']/Index[@Name='IX_LaboratorioImportes_IdLaboratorioColaborador_Periodo']"
   },
   "source": [
    "# [IX_LaboratorioImportes_IdLaboratorioColaborador_Periodo]"
   ]
  },
  {
   "cell_type": "code",
   "execution_count": 0,
   "metadata": {
    "object_type": "Index",
    "urn": "Server[@Name='Windows10-Pepe']/Database[@Name='CEFEGEN']/Table[@Name='LaboratorioImportes' and @Schema='dbo']/Index[@Name='IX_LaboratorioImportes_IdLaboratorioColaborador_Periodo']"
   },
   "outputs": [],
   "source": [
    "/****** Object:  Index [IX_LaboratorioImportes_IdLaboratorioColaborador_Periodo]    Script Date: 20/06/2025 18:08:55 ******/\n",
    "CREATE NONCLUSTERED INDEX [IX_LaboratorioImportes_IdLaboratorioColaborador_Periodo] ON [dbo].[LaboratorioImportes]\n",
    "(\n",
    "\t[IdLaboratorioColaborador] ASC,\n",
    "\t[Periodo] ASC\n",
    ")WITH (PAD_INDEX = OFF, STATISTICS_NORECOMPUTE = OFF, SORT_IN_TEMPDB = OFF, DROP_EXISTING = OFF, ONLINE = OFF, ALLOW_ROW_LOCKS = ON, ALLOW_PAGE_LOCKS = ON, OPTIMIZE_FOR_SEQUENTIAL_KEY = OFF) ON [PRIMARY]\n",
    "GO\n"
   ]
  },
  {
   "cell_type": "markdown",
   "metadata": {
    "object_type": "Index",
    "urn": "Server[@Name='Windows10-Pepe']/Database[@Name='CEFEGEN']/Table[@Name='Muestras' and @Schema='dbo']/Index[@Name='IX_Muestras_BarcodeQrCode']"
   },
   "source": [
    "# [IX_Muestras_BarcodeQrCode]"
   ]
  },
  {
   "cell_type": "code",
   "execution_count": 0,
   "metadata": {
    "object_type": "Index",
    "urn": "Server[@Name='Windows10-Pepe']/Database[@Name='CEFEGEN']/Table[@Name='Muestras' and @Schema='dbo']/Index[@Name='IX_Muestras_BarcodeQrCode']"
   },
   "outputs": [],
   "source": [
    "SET ANSI_PADDING ON\n",
    "GO\n",
    "/****** Object:  Index [IX_Muestras_BarcodeQrCode]    Script Date: 20/06/2025 18:08:55 ******/\n",
    "CREATE NONCLUSTERED INDEX [IX_Muestras_BarcodeQrCode] ON [dbo].[Muestras]\n",
    "(\n",
    "\t[BarcodeQrCode] ASC\n",
    ")WITH (PAD_INDEX = OFF, STATISTICS_NORECOMPUTE = OFF, SORT_IN_TEMPDB = OFF, DROP_EXISTING = OFF, ONLINE = OFF, ALLOW_ROW_LOCKS = ON, ALLOW_PAGE_LOCKS = ON, OPTIMIZE_FOR_SEQUENTIAL_KEY = OFF) ON [PRIMARY]\n",
    "GO\n"
   ]
  },
  {
   "cell_type": "markdown",
   "metadata": {
    "object_type": "Index",
    "urn": "Server[@Name='Windows10-Pepe']/Database[@Name='CEFEGEN']/Table[@Name='Notas' and @Schema='dbo']/Index[@Name='IX_Notas_IdEntidad_TipoEntidad']"
   },
   "source": [
    "# [IX_Notas_IdEntidad_TipoEntidad]"
   ]
  },
  {
   "cell_type": "code",
   "execution_count": 0,
   "metadata": {
    "object_type": "Index",
    "urn": "Server[@Name='Windows10-Pepe']/Database[@Name='CEFEGEN']/Table[@Name='Notas' and @Schema='dbo']/Index[@Name='IX_Notas_IdEntidad_TipoEntidad']"
   },
   "outputs": [],
   "source": [
    "SET ANSI_PADDING ON\n",
    "GO\n",
    "/****** Object:  Index [IX_Notas_IdEntidad_TipoEntidad]    Script Date: 20/06/2025 18:08:55 ******/\n",
    "CREATE NONCLUSTERED INDEX [IX_Notas_IdEntidad_TipoEntidad] ON [dbo].[Notas]\n",
    "(\n",
    "\t[IdEntidad] ASC,\n",
    "\t[TipoEntidad] ASC\n",
    ")WITH (PAD_INDEX = OFF, STATISTICS_NORECOMPUTE = OFF, SORT_IN_TEMPDB = OFF, DROP_EXISTING = OFF, ONLINE = OFF, ALLOW_ROW_LOCKS = ON, ALLOW_PAGE_LOCKS = ON, OPTIMIZE_FOR_SEQUENTIAL_KEY = OFF) ON [PRIMARY]\n",
    "GO\n"
   ]
  },
  {
   "cell_type": "markdown",
   "metadata": {
    "object_type": "Index",
    "urn": "Server[@Name='Windows10-Pepe']/Database[@Name='CEFEGEN']/Table[@Name='PerfilesGeneticos' and @Schema='dbo']/Index[@Name='IX_PerfilesGeneticos_IdInterviniente']"
   },
   "source": [
    "# [IX_PerfilesGeneticos_IdInterviniente]"
   ]
  },
  {
   "cell_type": "code",
   "execution_count": 0,
   "metadata": {
    "object_type": "Index",
    "urn": "Server[@Name='Windows10-Pepe']/Database[@Name='CEFEGEN']/Table[@Name='PerfilesGeneticos' and @Schema='dbo']/Index[@Name='IX_PerfilesGeneticos_IdInterviniente']"
   },
   "outputs": [],
   "source": [
    "/****** Object:  Index [IX_PerfilesGeneticos_IdInterviniente]    Script Date: 20/06/2025 18:08:55 ******/\n",
    "CREATE NONCLUSTERED INDEX [IX_PerfilesGeneticos_IdInterviniente] ON [dbo].[PerfilesGeneticos]\n",
    "(\n",
    "\t[IdInterviniente] ASC\n",
    ")WITH (PAD_INDEX = OFF, STATISTICS_NORECOMPUTE = OFF, SORT_IN_TEMPDB = OFF, DROP_EXISTING = OFF, ONLINE = OFF, ALLOW_ROW_LOCKS = ON, ALLOW_PAGE_LOCKS = ON, OPTIMIZE_FOR_SEQUENTIAL_KEY = OFF) ON [PRIMARY]\n",
    "GO\n"
   ]
  },
  {
   "cell_type": "markdown",
   "metadata": {
    "object_type": "Index",
    "urn": "Server[@Name='Windows10-Pepe']/Database[@Name='CEFEGEN']/Table[@Name='Plantillas' and @Schema='dbo']/Index[@Name='IX_Plantillas_IdTipoPlantilla']"
   },
   "source": [
    "# [IX_Plantillas_IdTipoPlantilla]"
   ]
  },
  {
   "cell_type": "code",
   "execution_count": 0,
   "metadata": {
    "object_type": "Index",
    "urn": "Server[@Name='Windows10-Pepe']/Database[@Name='CEFEGEN']/Table[@Name='Plantillas' and @Schema='dbo']/Index[@Name='IX_Plantillas_IdTipoPlantilla']"
   },
   "outputs": [],
   "source": [
    "/****** Object:  Index [IX_Plantillas_IdTipoPlantilla]    Script Date: 20/06/2025 18:08:55 ******/\n",
    "CREATE NONCLUSTERED INDEX [IX_Plantillas_IdTipoPlantilla] ON [dbo].[Plantillas]\n",
    "(\n",
    "\t[IdTipoPlantilla] ASC\n",
    ")WITH (PAD_INDEX = OFF, STATISTICS_NORECOMPUTE = OFF, SORT_IN_TEMPDB = OFF, DROP_EXISTING = OFF, ONLINE = OFF, ALLOW_ROW_LOCKS = ON, ALLOW_PAGE_LOCKS = ON, OPTIMIZE_FOR_SEQUENTIAL_KEY = OFF) ON [PRIMARY]\n",
    "GO\n"
   ]
  },
  {
   "cell_type": "markdown",
   "metadata": {
    "object_type": "Index",
    "urn": "Server[@Name='Windows10-Pepe']/Database[@Name='CEFEGEN']/Table[@Name='PlantillasInforme' and @Schema='dbo']/Index[@Name='IX_PlantillasInforme_TipoIdioma']"
   },
   "source": [
    "# [IX_PlantillasInforme_TipoIdioma]"
   ]
  },
  {
   "cell_type": "code",
   "execution_count": 0,
   "metadata": {
    "object_type": "Index",
    "urn": "Server[@Name='Windows10-Pepe']/Database[@Name='CEFEGEN']/Table[@Name='PlantillasInforme' and @Schema='dbo']/Index[@Name='IX_PlantillasInforme_TipoIdioma']"
   },
   "outputs": [],
   "source": [
    "SET ANSI_PADDING ON\n",
    "GO\n",
    "/****** Object:  Index [IX_PlantillasInforme_TipoIdioma]    Script Date: 20/06/2025 18:08:55 ******/\n",
    "CREATE NONCLUSTERED INDEX [IX_PlantillasInforme_TipoIdioma] ON [dbo].[PlantillasInforme]\n",
    "(\n",
    "\t[TipoInforme] ASC,\n",
    "\t[IdIdioma] ASC\n",
    ")WITH (PAD_INDEX = OFF, STATISTICS_NORECOMPUTE = OFF, SORT_IN_TEMPDB = OFF, DROP_EXISTING = OFF, ONLINE = OFF, ALLOW_ROW_LOCKS = ON, ALLOW_PAGE_LOCKS = ON, OPTIMIZE_FOR_SEQUENTIAL_KEY = OFF) ON [PRIMARY]\n",
    "GO\n"
   ]
  },
  {
   "cell_type": "markdown",
   "metadata": {
    "object_type": "Index",
    "urn": "Server[@Name='Windows10-Pepe']/Database[@Name='CEFEGEN']/Table[@Name='ResultadosParentesco' and @Schema='dbo']/Index[@Name='IX_ResultadosParentesco_IdInterviniente']"
   },
   "source": [
    "# [IX_ResultadosParentesco_IdInterviniente]"
   ]
  },
  {
   "cell_type": "code",
   "execution_count": 0,
   "metadata": {
    "object_type": "Index",
    "urn": "Server[@Name='Windows10-Pepe']/Database[@Name='CEFEGEN']/Table[@Name='ResultadosParentesco' and @Schema='dbo']/Index[@Name='IX_ResultadosParentesco_IdInterviniente']"
   },
   "outputs": [],
   "source": [
    "/****** Object:  Index [IX_ResultadosParentesco_IdInterviniente]    Script Date: 20/06/2025 18:08:55 ******/\n",
    "CREATE NONCLUSTERED INDEX [IX_ResultadosParentesco_IdInterviniente] ON [dbo].[ResultadosParentesco]\n",
    "(\n",
    "\t[IdInterviniente] ASC\n",
    ")WITH (PAD_INDEX = OFF, STATISTICS_NORECOMPUTE = OFF, SORT_IN_TEMPDB = OFF, DROP_EXISTING = OFF, ONLINE = OFF, ALLOW_ROW_LOCKS = ON, ALLOW_PAGE_LOCKS = ON, OPTIMIZE_FOR_SEQUENTIAL_KEY = OFF) ON [PRIMARY]\n",
    "GO\n"
   ]
  },
  {
   "cell_type": "markdown",
   "metadata": {
    "object_type": "Index",
    "urn": "Server[@Name='Windows10-Pepe']/Database[@Name='CEFEGEN']/Table[@Name='ResultadosParentesco' and @Schema='dbo']/Index[@Name='IX_ResultadosParentesco_IdLineaPeticion']"
   },
   "source": [
    "# [IX_ResultadosParentesco_IdLineaPeticion]"
   ]
  },
  {
   "cell_type": "code",
   "execution_count": 0,
   "metadata": {
    "object_type": "Index",
    "urn": "Server[@Name='Windows10-Pepe']/Database[@Name='CEFEGEN']/Table[@Name='ResultadosParentesco' and @Schema='dbo']/Index[@Name='IX_ResultadosParentesco_IdLineaPeticion']"
   },
   "outputs": [],
   "source": [
    "/****** Object:  Index [IX_ResultadosParentesco_IdLineaPeticion]    Script Date: 20/06/2025 18:08:55 ******/\n",
    "CREATE NONCLUSTERED INDEX [IX_ResultadosParentesco_IdLineaPeticion] ON [dbo].[ResultadosParentesco]\n",
    "(\n",
    "\t[IdLineaPeticion] ASC\n",
    ")WITH (PAD_INDEX = OFF, STATISTICS_NORECOMPUTE = OFF, SORT_IN_TEMPDB = OFF, DROP_EXISTING = OFF, ONLINE = OFF, ALLOW_ROW_LOCKS = ON, ALLOW_PAGE_LOCKS = ON, OPTIMIZE_FOR_SEQUENTIAL_KEY = OFF) ON [PRIMARY]\n",
    "GO\n"
   ]
  },
  {
   "cell_type": "markdown",
   "metadata": {
    "object_type": "Index",
    "urn": "Server[@Name='Windows10-Pepe']/Database[@Name='CEFEGEN']/Table[@Name='TiposPruebasConsumo' and @Schema='dbo']/Index[@Name='IX_TiposPruebasConsumo_IdTipoPruebaConsumo']"
   },
   "source": [
    "# [IX_TiposPruebasConsumo_IdTipoPruebaConsumo]"
   ]
  },
  {
   "cell_type": "code",
   "execution_count": 0,
   "metadata": {
    "object_type": "Index",
    "urn": "Server[@Name='Windows10-Pepe']/Database[@Name='CEFEGEN']/Table[@Name='TiposPruebasConsumo' and @Schema='dbo']/Index[@Name='IX_TiposPruebasConsumo_IdTipoPruebaConsumo']"
   },
   "outputs": [],
   "source": [
    "/****** Object:  Index [IX_TiposPruebasConsumo_IdTipoPruebaConsumo]    Script Date: 20/06/2025 18:08:55 ******/\n",
    "CREATE UNIQUE NONCLUSTERED INDEX [IX_TiposPruebasConsumo_IdTipoPruebaConsumo] ON [dbo].[TiposPruebasConsumo]\n",
    "(\n",
    "\t[IdTipoPruebaConsumo] ASC\n",
    ")WITH (PAD_INDEX = OFF, STATISTICS_NORECOMPUTE = OFF, SORT_IN_TEMPDB = OFF, IGNORE_DUP_KEY = OFF, DROP_EXISTING = OFF, ONLINE = OFF, ALLOW_ROW_LOCKS = ON, ALLOW_PAGE_LOCKS = ON, OPTIMIZE_FOR_SEQUENTIAL_KEY = OFF) ON [PRIMARY]\n",
    "GO\n"
   ]
  },
  {
   "cell_type": "markdown",
   "metadata": {
    "object_type": "Default",
    "urn": "Server[@Name='Windows10-Pepe']/Database[@Name='CEFEGEN']/Table[@Name='Acreditaciones' and @Schema='dbo']/Column[@Name='FechaCreacion']/Default[@Name='DF__Acreditac__Fecha__7C055DC1']"
   },
   "source": [
    "# [DF__Acreditac__Fecha__7C055DC1]"
   ]
  },
  {
   "cell_type": "code",
   "execution_count": 0,
   "metadata": {
    "object_type": "Default",
    "urn": "Server[@Name='Windows10-Pepe']/Database[@Name='CEFEGEN']/Table[@Name='Acreditaciones' and @Schema='dbo']/Column[@Name='FechaCreacion']/Default[@Name='DF__Acreditac__Fecha__7C055DC1']"
   },
   "outputs": [],
   "source": [
    "ALTER TABLE [dbo].[Acreditaciones] ADD  DEFAULT (getdate()) FOR [FechaCreacion]\n",
    "GO\n"
   ]
  },
  {
   "cell_type": "markdown",
   "metadata": {
    "object_type": "Default",
    "urn": "Server[@Name='Windows10-Pepe']/Database[@Name='CEFEGEN']/Table[@Name='Acreditaciones' and @Schema='dbo']/Column[@Name='EsConfidencial']/Default[@Name='DF__Acreditac__EsCon__27AED5D5']"
   },
   "source": [
    "# [DF__Acreditac__EsCon__27AED5D5]"
   ]
  },
  {
   "cell_type": "code",
   "execution_count": 0,
   "metadata": {
    "object_type": "Default",
    "urn": "Server[@Name='Windows10-Pepe']/Database[@Name='CEFEGEN']/Table[@Name='Acreditaciones' and @Schema='dbo']/Column[@Name='EsConfidencial']/Default[@Name='DF__Acreditac__EsCon__27AED5D5']"
   },
   "outputs": [],
   "source": [
    "ALTER TABLE [dbo].[Acreditaciones] ADD  DEFAULT ((0)) FOR [EsConfidencial]\n",
    "GO\n"
   ]
  },
  {
   "cell_type": "markdown",
   "metadata": {
    "object_type": "Default",
    "urn": "Server[@Name='Windows10-Pepe']/Database[@Name='CEFEGEN']/Table[@Name='Articulos' and @Schema='dbo']/Column[@Name='ControlLote']/Default[@Name='DF__Articulos__Contr__5C37ACAD']"
   },
   "source": [
    "# [DF__Articulos__Contr__5C37ACAD]"
   ]
  },
  {
   "cell_type": "code",
   "execution_count": 0,
   "metadata": {
    "object_type": "Default",
    "urn": "Server[@Name='Windows10-Pepe']/Database[@Name='CEFEGEN']/Table[@Name='Articulos' and @Schema='dbo']/Column[@Name='ControlLote']/Default[@Name='DF__Articulos__Contr__5C37ACAD']"
   },
   "outputs": [],
   "source": [
    "ALTER TABLE [dbo].[Articulos] ADD  DEFAULT ((0)) FOR [ControlLote]\n",
    "GO\n"
   ]
  },
  {
   "cell_type": "markdown",
   "metadata": {
    "object_type": "Default",
    "urn": "Server[@Name='Windows10-Pepe']/Database[@Name='CEFEGEN']/Table[@Name='Articulos' and @Schema='dbo']/Column[@Name='ControlCantidadEnvase']/Default[@Name='DF__Articulos__Contr__5D2BD0E6']"
   },
   "source": [
    "# [DF__Articulos__Contr__5D2BD0E6]"
   ]
  },
  {
   "cell_type": "code",
   "execution_count": 0,
   "metadata": {
    "object_type": "Default",
    "urn": "Server[@Name='Windows10-Pepe']/Database[@Name='CEFEGEN']/Table[@Name='Articulos' and @Schema='dbo']/Column[@Name='ControlCantidadEnvase']/Default[@Name='DF__Articulos__Contr__5D2BD0E6']"
   },
   "outputs": [],
   "source": [
    "ALTER TABLE [dbo].[Articulos] ADD  DEFAULT ((0)) FOR [ControlCantidadEnvase]\n",
    "GO\n"
   ]
  },
  {
   "cell_type": "markdown",
   "metadata": {
    "object_type": "Default",
    "urn": "Server[@Name='Windows10-Pepe']/Database[@Name='CEFEGEN']/Table[@Name='Articulos' and @Schema='dbo']/Column[@Name='Descuento']/Default[@Name='DF__Articulos__Descu__5E1FF51F']"
   },
   "source": [
    "# [DF__Articulos__Descu__5E1FF51F]"
   ]
  },
  {
   "cell_type": "code",
   "execution_count": 0,
   "metadata": {
    "object_type": "Default",
    "urn": "Server[@Name='Windows10-Pepe']/Database[@Name='CEFEGEN']/Table[@Name='Articulos' and @Schema='dbo']/Column[@Name='Descuento']/Default[@Name='DF__Articulos__Descu__5E1FF51F']"
   },
   "outputs": [],
   "source": [
    "ALTER TABLE [dbo].[Articulos] ADD  DEFAULT ((0)) FOR [Descuento]\n",
    "GO\n"
   ]
  },
  {
   "cell_type": "markdown",
   "metadata": {
    "object_type": "Default",
    "urn": "Server[@Name='Windows10-Pepe']/Database[@Name='CEFEGEN']/Table[@Name='Articulos' and @Schema='dbo']/Column[@Name='Stock']/Default[@Name='DF__Articulos__Stock__5F141958']"
   },
   "source": [
    "# [DF__Articulos__Stock__5F141958]"
   ]
  },
  {
   "cell_type": "code",
   "execution_count": 0,
   "metadata": {
    "object_type": "Default",
    "urn": "Server[@Name='Windows10-Pepe']/Database[@Name='CEFEGEN']/Table[@Name='Articulos' and @Schema='dbo']/Column[@Name='Stock']/Default[@Name='DF__Articulos__Stock__5F141958']"
   },
   "outputs": [],
   "source": [
    "ALTER TABLE [dbo].[Articulos] ADD  DEFAULT ((0)) FOR [Stock]\n",
    "GO\n"
   ]
  },
  {
   "cell_type": "markdown",
   "metadata": {
    "object_type": "Default",
    "urn": "Server[@Name='Windows10-Pepe']/Database[@Name='CEFEGEN']/Table[@Name='Articulos' and @Schema='dbo']/Column[@Name='StockMinimo']/Default[@Name='DF__Articulos__Stock__60083D91']"
   },
   "source": [
    "# [DF__Articulos__Stock__60083D91]"
   ]
  },
  {
   "cell_type": "code",
   "execution_count": 0,
   "metadata": {
    "object_type": "Default",
    "urn": "Server[@Name='Windows10-Pepe']/Database[@Name='CEFEGEN']/Table[@Name='Articulos' and @Schema='dbo']/Column[@Name='StockMinimo']/Default[@Name='DF__Articulos__Stock__60083D91']"
   },
   "outputs": [],
   "source": [
    "ALTER TABLE [dbo].[Articulos] ADD  DEFAULT ((0)) FOR [StockMinimo]\n",
    "GO\n"
   ]
  },
  {
   "cell_type": "markdown",
   "metadata": {
    "object_type": "Default",
    "urn": "Server[@Name='Windows10-Pepe']/Database[@Name='CEFEGEN']/Table[@Name='Articulos' and @Schema='dbo']/Column[@Name='StockMaximo']/Default[@Name='DF__Articulos__Stock__60FC61CA']"
   },
   "source": [
    "# [DF__Articulos__Stock__60FC61CA]"
   ]
  },
  {
   "cell_type": "code",
   "execution_count": 0,
   "metadata": {
    "object_type": "Default",
    "urn": "Server[@Name='Windows10-Pepe']/Database[@Name='CEFEGEN']/Table[@Name='Articulos' and @Schema='dbo']/Column[@Name='StockMaximo']/Default[@Name='DF__Articulos__Stock__60FC61CA']"
   },
   "outputs": [],
   "source": [
    "ALTER TABLE [dbo].[Articulos] ADD  DEFAULT ((0)) FOR [StockMaximo]\n",
    "GO\n"
   ]
  },
  {
   "cell_type": "markdown",
   "metadata": {
    "object_type": "Default",
    "urn": "Server[@Name='Windows10-Pepe']/Database[@Name='CEFEGEN']/Table[@Name='Articulos' and @Schema='dbo']/Column[@Name='Unidades']/Default[@Name='DF__Articulos__Unida__61F08603']"
   },
   "source": [
    "# [DF__Articulos__Unida__61F08603]"
   ]
  },
  {
   "cell_type": "code",
   "execution_count": 0,
   "metadata": {
    "object_type": "Default",
    "urn": "Server[@Name='Windows10-Pepe']/Database[@Name='CEFEGEN']/Table[@Name='Articulos' and @Schema='dbo']/Column[@Name='Unidades']/Default[@Name='DF__Articulos__Unida__61F08603']"
   },
   "outputs": [],
   "source": [
    "ALTER TABLE [dbo].[Articulos] ADD  DEFAULT ((1)) FOR [Unidades]\n",
    "GO\n"
   ]
  },
  {
   "cell_type": "markdown",
   "metadata": {
    "object_type": "Default",
    "urn": "Server[@Name='Windows10-Pepe']/Database[@Name='CEFEGEN']/Table[@Name='AuditoriasCalidad' and @Schema='dbo']/Column[@Name='FechaCreacion']/Default[@Name='DF__Auditoria__Fecha__7928F116']"
   },
   "source": [
    "# [DF__Auditoria__Fecha__7928F116]"
   ]
  },
  {
   "cell_type": "code",
   "execution_count": 0,
   "metadata": {
    "object_type": "Default",
    "urn": "Server[@Name='Windows10-Pepe']/Database[@Name='CEFEGEN']/Table[@Name='AuditoriasCalidad' and @Schema='dbo']/Column[@Name='FechaCreacion']/Default[@Name='DF__Auditoria__Fecha__7928F116']"
   },
   "outputs": [],
   "source": [
    "ALTER TABLE [dbo].[AuditoriasCalidad] ADD  DEFAULT (getdate()) FOR [FechaCreacion]\n",
    "GO\n"
   ]
  },
  {
   "cell_type": "markdown",
   "metadata": {
    "object_type": "Default",
    "urn": "Server[@Name='Windows10-Pepe']/Database[@Name='CEFEGEN']/Table[@Name='Campanias' and @Schema='dbo']/Column[@Name='Activa']/Default[@Name='DF__Campanias__Activ__6D6238AF']"
   },
   "source": [
    "# [DF__Campanias__Activ__6D6238AF]"
   ]
  },
  {
   "cell_type": "code",
   "execution_count": 0,
   "metadata": {
    "object_type": "Default",
    "urn": "Server[@Name='Windows10-Pepe']/Database[@Name='CEFEGEN']/Table[@Name='Campanias' and @Schema='dbo']/Column[@Name='Activa']/Default[@Name='DF__Campanias__Activ__6D6238AF']"
   },
   "outputs": [],
   "source": [
    "ALTER TABLE [dbo].[Campanias] ADD  DEFAULT ((1)) FOR [Activa]\n",
    "GO\n"
   ]
  },
  {
   "cell_type": "markdown",
   "metadata": {
    "object_type": "Default",
    "urn": "Server[@Name='Windows10-Pepe']/Database[@Name='CEFEGEN']/Table[@Name='Centros' and @Schema='dbo']/Column[@Name='MembreteCentro']/Default[@Name='DF__Centros__Membret__658C0CBD']"
   },
   "source": [
    "# [DF__Centros__Membret__658C0CBD]"
   ]
  },
  {
   "cell_type": "code",
   "execution_count": 0,
   "metadata": {
    "object_type": "Default",
    "urn": "Server[@Name='Windows10-Pepe']/Database[@Name='CEFEGEN']/Table[@Name='Centros' and @Schema='dbo']/Column[@Name='MembreteCentro']/Default[@Name='DF__Centros__Membret__658C0CBD']"
   },
   "outputs": [],
   "source": [
    "ALTER TABLE [dbo].[Centros] ADD  DEFAULT ((0)) FOR [MembreteCentro]\n",
    "GO\n"
   ]
  },
  {
   "cell_type": "markdown",
   "metadata": {
    "object_type": "Default",
    "urn": "Server[@Name='Windows10-Pepe']/Database[@Name='CEFEGEN']/Table[@Name='CodigosPostales' and @Schema='dbo']/Column[@Name='CodigoPais']/Default[@Name='DF__CodigosPo__Codig__44FF419A']"
   },
   "source": [
    "# [DF__CodigosPo__Codig__44FF419A]"
   ]
  },
  {
   "cell_type": "code",
   "execution_count": 0,
   "metadata": {
    "object_type": "Default",
    "urn": "Server[@Name='Windows10-Pepe']/Database[@Name='CEFEGEN']/Table[@Name='CodigosPostales' and @Schema='dbo']/Column[@Name='CodigoPais']/Default[@Name='DF__CodigosPo__Codig__44FF419A']"
   },
   "outputs": [],
   "source": [
    "ALTER TABLE [dbo].[CodigosPostales] ADD  DEFAULT ('ES') FOR [CodigoPais]\n",
    "GO\n"
   ]
  },
  {
   "cell_type": "markdown",
   "metadata": {
    "object_type": "Default",
    "urn": "Server[@Name='Windows10-Pepe']/Database[@Name='CEFEGEN']/Table[@Name='ConfiguracionesCodigos' and @Schema='dbo']/Column[@Name='Activo']/Default[@Name='DF__Configura__Activ__2818EA29']"
   },
   "source": [
    "# [DF__Configura__Activ__2818EA29]"
   ]
  },
  {
   "cell_type": "code",
   "execution_count": 0,
   "metadata": {
    "object_type": "Default",
    "urn": "Server[@Name='Windows10-Pepe']/Database[@Name='CEFEGEN']/Table[@Name='ConfiguracionesCodigos' and @Schema='dbo']/Column[@Name='Activo']/Default[@Name='DF__Configura__Activ__2818EA29']"
   },
   "outputs": [],
   "source": [
    "ALTER TABLE [dbo].[ConfiguracionesCodigos] ADD  DEFAULT ((1)) FOR [Activo]\n",
    "GO\n"
   ]
  },
  {
   "cell_type": "markdown",
   "metadata": {
    "object_type": "Default",
    "urn": "Server[@Name='Windows10-Pepe']/Database[@Name='CEFEGEN']/Table[@Name='ConfiguracionesPrecio' and @Schema='dbo']/Column[@Name='IdRegla']/Default[@Name='DF__Configura__IdReg__0D99FE17']"
   },
   "source": [
    "# [DF__Configura__IdReg__0D99FE17]"
   ]
  },
  {
   "cell_type": "code",
   "execution_count": 0,
   "metadata": {
    "object_type": "Default",
    "urn": "Server[@Name='Windows10-Pepe']/Database[@Name='CEFEGEN']/Table[@Name='ConfiguracionesPrecio' and @Schema='dbo']/Column[@Name='IdRegla']/Default[@Name='DF__Configura__IdReg__0D99FE17']"
   },
   "outputs": [],
   "source": [
    "ALTER TABLE [dbo].[ConfiguracionesPrecio] ADD  DEFAULT ((1)) FOR [IdRegla]\n",
    "GO\n"
   ]
  },
  {
   "cell_type": "markdown",
   "metadata": {
    "object_type": "Default",
    "urn": "Server[@Name='Windows10-Pepe']/Database[@Name='CEFEGEN']/Table[@Name='Consentimientos' and @Schema='dbo']/Column[@Name='ArchivoReferencia']/Default[@Name='DF__Consentim__Archi__733B0D96']"
   },
   "source": [
    "# [DF__Consentim__Archi__733B0D96]"
   ]
  },
  {
   "cell_type": "code",
   "execution_count": 0,
   "metadata": {
    "object_type": "Default",
    "urn": "Server[@Name='Windows10-Pepe']/Database[@Name='CEFEGEN']/Table[@Name='Consentimientos' and @Schema='dbo']/Column[@Name='ArchivoReferencia']/Default[@Name='DF__Consentim__Archi__733B0D96']"
   },
   "outputs": [],
   "source": [
    "ALTER TABLE [dbo].[Consentimientos] ADD  DEFAULT (newid()) FOR [ArchivoReferencia]\n",
    "GO\n"
   ]
  },
  {
   "cell_type": "markdown",
   "metadata": {
    "object_type": "Default",
    "urn": "Server[@Name='Windows10-Pepe']/Database[@Name='CEFEGEN']/Table[@Name='Consentimientos' and @Schema='dbo']/Column[@Name='EstadoConsentimiento']/Default[@Name='DF__Consentim__Estad__742F31CF']"
   },
   "source": [
    "# [DF__Consentim__Estad__742F31CF]"
   ]
  },
  {
   "cell_type": "code",
   "execution_count": 0,
   "metadata": {
    "object_type": "Default",
    "urn": "Server[@Name='Windows10-Pepe']/Database[@Name='CEFEGEN']/Table[@Name='Consentimientos' and @Schema='dbo']/Column[@Name='EstadoConsentimiento']/Default[@Name='DF__Consentim__Estad__742F31CF']"
   },
   "outputs": [],
   "source": [
    "ALTER TABLE [dbo].[Consentimientos] ADD  DEFAULT ('Pendiente') FOR [EstadoConsentimiento]\n",
    "GO\n"
   ]
  },
  {
   "cell_type": "markdown",
   "metadata": {
    "object_type": "Default",
    "urn": "Server[@Name='Windows10-Pepe']/Database[@Name='CEFEGEN']/Table[@Name='Consentimientos' and @Schema='dbo']/Column[@Name='FechaCreacion']/Default[@Name='DF__Consentim__Fecha__76177A41']"
   },
   "source": [
    "# [DF__Consentim__Fecha__76177A41]"
   ]
  },
  {
   "cell_type": "code",
   "execution_count": 0,
   "metadata": {
    "object_type": "Default",
    "urn": "Server[@Name='Windows10-Pepe']/Database[@Name='CEFEGEN']/Table[@Name='Consentimientos' and @Schema='dbo']/Column[@Name='FechaCreacion']/Default[@Name='DF__Consentim__Fecha__76177A41']"
   },
   "outputs": [],
   "source": [
    "ALTER TABLE [dbo].[Consentimientos] ADD  DEFAULT (getdate()) FOR [FechaCreacion]\n",
    "GO\n"
   ]
  },
  {
   "cell_type": "markdown",
   "metadata": {
    "object_type": "Default",
    "urn": "Server[@Name='Windows10-Pepe']/Database[@Name='CEFEGEN']/Table[@Name='Consentimientos' and @Schema='dbo']/Column[@Name='FechaFirma']/Default[@Name='DF__Consentim__Fecha__770B9E7A']"
   },
   "source": [
    "# [DF__Consentim__Fecha__770B9E7A]"
   ]
  },
  {
   "cell_type": "code",
   "execution_count": 0,
   "metadata": {
    "object_type": "Default",
    "urn": "Server[@Name='Windows10-Pepe']/Database[@Name='CEFEGEN']/Table[@Name='Consentimientos' and @Schema='dbo']/Column[@Name='FechaFirma']/Default[@Name='DF__Consentim__Fecha__770B9E7A']"
   },
   "outputs": [],
   "source": [
    "ALTER TABLE [dbo].[Consentimientos] ADD  DEFAULT (getdate()) FOR [FechaFirma]\n",
    "GO\n"
   ]
  },
  {
   "cell_type": "markdown",
   "metadata": {
    "object_type": "Default",
    "urn": "Server[@Name='Windows10-Pepe']/Database[@Name='CEFEGEN']/Table[@Name='Contratos' and @Schema='dbo']/Column[@Name='Activo']/Default[@Name='DF__Contratos__Activ__668030F6']"
   },
   "source": [
    "# [DF__Contratos__Activ__668030F6]"
   ]
  },
  {
   "cell_type": "code",
   "execution_count": 0,
   "metadata": {
    "object_type": "Default",
    "urn": "Server[@Name='Windows10-Pepe']/Database[@Name='CEFEGEN']/Table[@Name='Contratos' and @Schema='dbo']/Column[@Name='Activo']/Default[@Name='DF__Contratos__Activ__668030F6']"
   },
   "outputs": [],
   "source": [
    "ALTER TABLE [dbo].[Contratos] ADD  DEFAULT ((1)) FOR [Activo]\n",
    "GO\n"
   ]
  },
  {
   "cell_type": "markdown",
   "metadata": {
    "object_type": "Default",
    "urn": "Server[@Name='Windows10-Pepe']/Database[@Name='CEFEGEN']/Table[@Name='Documentos' and @Schema='dbo']/Column[@Name='FechaSubida']/Default[@Name='DF__Documento__Fecha__6991A7CB']"
   },
   "source": [
    "# [DF__Documento__Fecha__6991A7CB]"
   ]
  },
  {
   "cell_type": "code",
   "execution_count": 0,
   "metadata": {
    "object_type": "Default",
    "urn": "Server[@Name='Windows10-Pepe']/Database[@Name='CEFEGEN']/Table[@Name='Documentos' and @Schema='dbo']/Column[@Name='FechaSubida']/Default[@Name='DF__Documento__Fecha__6991A7CB']"
   },
   "outputs": [],
   "source": [
    "ALTER TABLE [dbo].[Documentos] ADD  DEFAULT (getdate()) FOR [FechaSubida]\n",
    "GO\n"
   ]
  },
  {
   "cell_type": "markdown",
   "metadata": {
    "object_type": "Default",
    "urn": "Server[@Name='Windows10-Pepe']/Database[@Name='CEFEGEN']/Table[@Name='Documentos' and @Schema='dbo']/Column[@Name='EsConfidencial']/Default[@Name='DF__Documento__EsCon__3CDEFCE5']"
   },
   "source": [
    "# [DF__Documento__EsCon__3CDEFCE5]"
   ]
  },
  {
   "cell_type": "code",
   "execution_count": 0,
   "metadata": {
    "object_type": "Default",
    "urn": "Server[@Name='Windows10-Pepe']/Database[@Name='CEFEGEN']/Table[@Name='Documentos' and @Schema='dbo']/Column[@Name='EsConfidencial']/Default[@Name='DF__Documento__EsCon__3CDEFCE5']"
   },
   "outputs": [],
   "source": [
    "ALTER TABLE [dbo].[Documentos] ADD  DEFAULT ((0)) FOR [EsConfidencial]\n",
    "GO\n"
   ]
  },
  {
   "cell_type": "markdown",
   "metadata": {
    "object_type": "Default",
    "urn": "Server[@Name='Windows10-Pepe']/Database[@Name='CEFEGEN']/Table[@Name='Empresas' and @Schema='dbo']/Column[@Name='Bloquear']/Default[@Name='DF__Empresas__Bloque__6774552F']"
   },
   "source": [
    "# [DF__Empresas__Bloque__6774552F]"
   ]
  },
  {
   "cell_type": "code",
   "execution_count": 0,
   "metadata": {
    "object_type": "Default",
    "urn": "Server[@Name='Windows10-Pepe']/Database[@Name='CEFEGEN']/Table[@Name='Empresas' and @Schema='dbo']/Column[@Name='Bloquear']/Default[@Name='DF__Empresas__Bloque__6774552F']"
   },
   "outputs": [],
   "source": [
    "ALTER TABLE [dbo].[Empresas] ADD  DEFAULT ((0)) FOR [Bloquear]\n",
    "GO\n"
   ]
  },
  {
   "cell_type": "markdown",
   "metadata": {
    "object_type": "Default",
    "urn": "Server[@Name='Windows10-Pepe']/Database[@Name='CEFEGEN']/Table[@Name='Empresas' and @Schema='dbo']/Column[@Name='CrearFichero']/Default[@Name='DF__Empresas__CrearF__68687968']"
   },
   "source": [
    "# [DF__Empresas__CrearF__68687968]"
   ]
  },
  {
   "cell_type": "code",
   "execution_count": 0,
   "metadata": {
    "object_type": "Default",
    "urn": "Server[@Name='Windows10-Pepe']/Database[@Name='CEFEGEN']/Table[@Name='Empresas' and @Schema='dbo']/Column[@Name='CrearFichero']/Default[@Name='DF__Empresas__CrearF__68687968']"
   },
   "outputs": [],
   "source": [
    "ALTER TABLE [dbo].[Empresas] ADD  DEFAULT ((0)) FOR [CrearFichero]\n",
    "GO\n"
   ]
  },
  {
   "cell_type": "markdown",
   "metadata": {
    "object_type": "Default",
    "urn": "Server[@Name='Windows10-Pepe']/Database[@Name='CEFEGEN']/Table[@Name='Empresas' and @Schema='dbo']/Column[@Name='ExportarWeb']/Default[@Name='DF__Empresas__Export__695C9DA1']"
   },
   "source": [
    "# [DF__Empresas__Export__695C9DA1]"
   ]
  },
  {
   "cell_type": "code",
   "execution_count": 0,
   "metadata": {
    "object_type": "Default",
    "urn": "Server[@Name='Windows10-Pepe']/Database[@Name='CEFEGEN']/Table[@Name='Empresas' and @Schema='dbo']/Column[@Name='ExportarWeb']/Default[@Name='DF__Empresas__Export__695C9DA1']"
   },
   "outputs": [],
   "source": [
    "ALTER TABLE [dbo].[Empresas] ADD  DEFAULT ((0)) FOR [ExportarWeb]\n",
    "GO\n"
   ]
  },
  {
   "cell_type": "markdown",
   "metadata": {
    "object_type": "Default",
    "urn": "Server[@Name='Windows10-Pepe']/Database[@Name='CEFEGEN']/Table[@Name='Empresas' and @Schema='dbo']/Column[@Name='EnviarEmail']/Default[@Name='DF__Empresas__Enviar__6A50C1DA']"
   },
   "source": [
    "# [DF__Empresas__Enviar__6A50C1DA]"
   ]
  },
  {
   "cell_type": "code",
   "execution_count": 0,
   "metadata": {
    "object_type": "Default",
    "urn": "Server[@Name='Windows10-Pepe']/Database[@Name='CEFEGEN']/Table[@Name='Empresas' and @Schema='dbo']/Column[@Name='EnviarEmail']/Default[@Name='DF__Empresas__Enviar__6A50C1DA']"
   },
   "outputs": [],
   "source": [
    "ALTER TABLE [dbo].[Empresas] ADD  DEFAULT ((1)) FOR [EnviarEmail]\n",
    "GO\n"
   ]
  },
  {
   "cell_type": "markdown",
   "metadata": {
    "object_type": "Default",
    "urn": "Server[@Name='Windows10-Pepe']/Database[@Name='CEFEGEN']/Table[@Name='Empresas' and @Schema='dbo']/Column[@Name='EnviarEmailPet']/Default[@Name='DF__Empresas__Enviar__6B44E613']"
   },
   "source": [
    "# [DF__Empresas__Enviar__6B44E613]"
   ]
  },
  {
   "cell_type": "code",
   "execution_count": 0,
   "metadata": {
    "object_type": "Default",
    "urn": "Server[@Name='Windows10-Pepe']/Database[@Name='CEFEGEN']/Table[@Name='Empresas' and @Schema='dbo']/Column[@Name='EnviarEmailPet']/Default[@Name='DF__Empresas__Enviar__6B44E613']"
   },
   "outputs": [],
   "source": [
    "ALTER TABLE [dbo].[Empresas] ADD  DEFAULT ((0)) FOR [EnviarEmailPet]\n",
    "GO\n"
   ]
  },
  {
   "cell_type": "markdown",
   "metadata": {
    "object_type": "Default",
    "urn": "Server[@Name='Windows10-Pepe']/Database[@Name='CEFEGEN']/Table[@Name='Empresas' and @Schema='dbo']/Column[@Name='EnviarEmailFac']/Default[@Name='DF__Empresas__Enviar__6C390A4C']"
   },
   "source": [
    "# [DF__Empresas__Enviar__6C390A4C]"
   ]
  },
  {
   "cell_type": "code",
   "execution_count": 0,
   "metadata": {
    "object_type": "Default",
    "urn": "Server[@Name='Windows10-Pepe']/Database[@Name='CEFEGEN']/Table[@Name='Empresas' and @Schema='dbo']/Column[@Name='EnviarEmailFac']/Default[@Name='DF__Empresas__Enviar__6C390A4C']"
   },
   "outputs": [],
   "source": [
    "ALTER TABLE [dbo].[Empresas] ADD  DEFAULT ((0)) FOR [EnviarEmailFac]\n",
    "GO\n"
   ]
  },
  {
   "cell_type": "markdown",
   "metadata": {
    "object_type": "Default",
    "urn": "Server[@Name='Windows10-Pepe']/Database[@Name='CEFEGEN']/Table[@Name='Empresas' and @Schema='dbo']/Column[@Name='EnviarEmailNotif']/Default[@Name='DF__Empresas__Enviar__6D2D2E85']"
   },
   "source": [
    "# [DF__Empresas__Enviar__6D2D2E85]"
   ]
  },
  {
   "cell_type": "code",
   "execution_count": 0,
   "metadata": {
    "object_type": "Default",
    "urn": "Server[@Name='Windows10-Pepe']/Database[@Name='CEFEGEN']/Table[@Name='Empresas' and @Schema='dbo']/Column[@Name='EnviarEmailNotif']/Default[@Name='DF__Empresas__Enviar__6D2D2E85']"
   },
   "outputs": [],
   "source": [
    "ALTER TABLE [dbo].[Empresas] ADD  DEFAULT ((0)) FOR [EnviarEmailNotif]\n",
    "GO\n"
   ]
  },
  {
   "cell_type": "markdown",
   "metadata": {
    "object_type": "Default",
    "urn": "Server[@Name='Windows10-Pepe']/Database[@Name='CEFEGEN']/Table[@Name='Envios' and @Schema='dbo']/Column[@Name='Estado']/Default[@Name='DF__Envios__Estado__6E2152BE']"
   },
   "source": [
    "# [DF__Envios__Estado__6E2152BE]"
   ]
  },
  {
   "cell_type": "code",
   "execution_count": 0,
   "metadata": {
    "object_type": "Default",
    "urn": "Server[@Name='Windows10-Pepe']/Database[@Name='CEFEGEN']/Table[@Name='Envios' and @Schema='dbo']/Column[@Name='Estado']/Default[@Name='DF__Envios__Estado__6E2152BE']"
   },
   "outputs": [],
   "source": [
    "ALTER TABLE [dbo].[Envios] ADD  DEFAULT ((1)) FOR [Estado]\n",
    "GO\n"
   ]
  },
  {
   "cell_type": "markdown",
   "metadata": {
    "object_type": "Default",
    "urn": "Server[@Name='Windows10-Pepe']/Database[@Name='CEFEGEN']/Table[@Name='Estados' and @Schema='dbo']/Column[@Name='Activo']/Default[@Name='DF__Estados__Activo__31A25463']"
   },
   "source": [
    "# [DF__Estados__Activo__31A25463]"
   ]
  },
  {
   "cell_type": "code",
   "execution_count": 0,
   "metadata": {
    "object_type": "Default",
    "urn": "Server[@Name='Windows10-Pepe']/Database[@Name='CEFEGEN']/Table[@Name='Estados' and @Schema='dbo']/Column[@Name='Activo']/Default[@Name='DF__Estados__Activo__31A25463']"
   },
   "outputs": [],
   "source": [
    "ALTER TABLE [dbo].[Estados] ADD  DEFAULT ((1)) FOR [Activo]\n",
    "GO\n"
   ]
  },
  {
   "cell_type": "markdown",
   "metadata": {
    "object_type": "Default",
    "urn": "Server[@Name='Windows10-Pepe']/Database[@Name='CEFEGEN']/Table[@Name='Estados' and @Schema='dbo']/Column[@Name='DisparaNotificacion']/Default[@Name='DF__Estados__Dispara__27E3DFFF']"
   },
   "source": [
    "# [DF__Estados__Dispara__27E3DFFF]"
   ]
  },
  {
   "cell_type": "code",
   "execution_count": 0,
   "metadata": {
    "object_type": "Default",
    "urn": "Server[@Name='Windows10-Pepe']/Database[@Name='CEFEGEN']/Table[@Name='Estados' and @Schema='dbo']/Column[@Name='DisparaNotificacion']/Default[@Name='DF__Estados__Dispara__27E3DFFF']"
   },
   "outputs": [],
   "source": [
    "ALTER TABLE [dbo].[Estados] ADD  DEFAULT ((1)) FOR [DisparaNotificacion]\n",
    "GO\n"
   ]
  },
  {
   "cell_type": "markdown",
   "metadata": {
    "object_type": "Default",
    "urn": "Server[@Name='Windows10-Pepe']/Database[@Name='CEFEGEN']/Table[@Name='Fabricantes' and @Schema='dbo']/Column[@Name='Bloquear']/Default[@Name='DF__Fabricant__Bloqu__6F1576F7']"
   },
   "source": [
    "# [DF__Fabricant__Bloqu__6F1576F7]"
   ]
  },
  {
   "cell_type": "code",
   "execution_count": 0,
   "metadata": {
    "object_type": "Default",
    "urn": "Server[@Name='Windows10-Pepe']/Database[@Name='CEFEGEN']/Table[@Name='Fabricantes' and @Schema='dbo']/Column[@Name='Bloquear']/Default[@Name='DF__Fabricant__Bloqu__6F1576F7']"
   },
   "outputs": [],
   "source": [
    "ALTER TABLE [dbo].[Fabricantes] ADD  DEFAULT ((0)) FOR [Bloquear]\n",
    "GO\n"
   ]
  },
  {
   "cell_type": "markdown",
   "metadata": {
    "object_type": "Default",
    "urn": "Server[@Name='Windows10-Pepe']/Database[@Name='CEFEGEN']/Table[@Name='Fabricantes' and @Schema='dbo']/Column[@Name='EstadoFactura']/Default[@Name='DF__Fabricant__Estad__70099B30']"
   },
   "source": [
    "# [DF__Fabricant__Estad__70099B30]"
   ]
  },
  {
   "cell_type": "code",
   "execution_count": 0,
   "metadata": {
    "object_type": "Default",
    "urn": "Server[@Name='Windows10-Pepe']/Database[@Name='CEFEGEN']/Table[@Name='Fabricantes' and @Schema='dbo']/Column[@Name='EstadoFactura']/Default[@Name='DF__Fabricant__Estad__70099B30']"
   },
   "outputs": [],
   "source": [
    "ALTER TABLE [dbo].[Fabricantes] ADD  DEFAULT ((0)) FOR [EstadoFactura]\n",
    "GO\n"
   ]
  },
  {
   "cell_type": "markdown",
   "metadata": {
    "object_type": "Default",
    "urn": "Server[@Name='Windows10-Pepe']/Database[@Name='CEFEGEN']/Table[@Name='Fabricantes' and @Schema='dbo']/Column[@Name='EstadoCobro']/Default[@Name='DF__Fabricant__Estad__70FDBF69']"
   },
   "source": [
    "# [DF__Fabricant__Estad__70FDBF69]"
   ]
  },
  {
   "cell_type": "code",
   "execution_count": 0,
   "metadata": {
    "object_type": "Default",
    "urn": "Server[@Name='Windows10-Pepe']/Database[@Name='CEFEGEN']/Table[@Name='Fabricantes' and @Schema='dbo']/Column[@Name='EstadoCobro']/Default[@Name='DF__Fabricant__Estad__70FDBF69']"
   },
   "outputs": [],
   "source": [
    "ALTER TABLE [dbo].[Fabricantes] ADD  DEFAULT ((0)) FOR [EstadoCobro]\n",
    "GO\n"
   ]
  },
  {
   "cell_type": "markdown",
   "metadata": {
    "object_type": "Default",
    "urn": "Server[@Name='Windows10-Pepe']/Database[@Name='CEFEGEN']/Table[@Name='Fabricantes' and @Schema='dbo']/Column[@Name='EstadoContable']/Default[@Name='DF__Fabricant__Estad__71F1E3A2']"
   },
   "source": [
    "# [DF__Fabricant__Estad__71F1E3A2]"
   ]
  },
  {
   "cell_type": "code",
   "execution_count": 0,
   "metadata": {
    "object_type": "Default",
    "urn": "Server[@Name='Windows10-Pepe']/Database[@Name='CEFEGEN']/Table[@Name='Fabricantes' and @Schema='dbo']/Column[@Name='EstadoContable']/Default[@Name='DF__Fabricant__Estad__71F1E3A2']"
   },
   "outputs": [],
   "source": [
    "ALTER TABLE [dbo].[Fabricantes] ADD  DEFAULT ((0)) FOR [EstadoContable]\n",
    "GO\n"
   ]
  },
  {
   "cell_type": "markdown",
   "metadata": {
    "object_type": "Default",
    "urn": "Server[@Name='Windows10-Pepe']/Database[@Name='CEFEGEN']/Table[@Name='HistorialImpresion' and @Schema='dbo']/Column[@Name='FechaImpresion']/Default[@Name='DF__Historial__Fecha__5D80D6A1']"
   },
   "source": [
    "# [DF__Historial__Fecha__5D80D6A1]"
   ]
  },
  {
   "cell_type": "code",
   "execution_count": 0,
   "metadata": {
    "object_type": "Default",
    "urn": "Server[@Name='Windows10-Pepe']/Database[@Name='CEFEGEN']/Table[@Name='HistorialImpresion' and @Schema='dbo']/Column[@Name='FechaImpresion']/Default[@Name='DF__Historial__Fecha__5D80D6A1']"
   },
   "outputs": [],
   "source": [
    "ALTER TABLE [dbo].[HistorialImpresion] ADD  DEFAULT (getdate()) FOR [FechaImpresion]\n",
    "GO\n"
   ]
  },
  {
   "cell_type": "markdown",
   "metadata": {
    "object_type": "Default",
    "urn": "Server[@Name='Windows10-Pepe']/Database[@Name='CEFEGEN']/Table[@Name='Impresoras' and @Schema='dbo']/Column[@Name='Activa']/Default[@Name='DF__Impresora__Activ__58BC2184']"
   },
   "source": [
    "# [DF__Impresora__Activ__58BC2184]"
   ]
  },
  {
   "cell_type": "code",
   "execution_count": 0,
   "metadata": {
    "object_type": "Default",
    "urn": "Server[@Name='Windows10-Pepe']/Database[@Name='CEFEGEN']/Table[@Name='Impresoras' and @Schema='dbo']/Column[@Name='Activa']/Default[@Name='DF__Impresora__Activ__58BC2184']"
   },
   "outputs": [],
   "source": [
    "ALTER TABLE [dbo].[Impresoras] ADD  DEFAULT ((1)) FOR [Activa]\n",
    "GO\n"
   ]
  },
  {
   "cell_type": "markdown",
   "metadata": {
    "object_type": "Default",
    "urn": "Server[@Name='Windows10-Pepe']/Database[@Name='CEFEGEN']/Table[@Name='Impresoras' and @Schema='dbo']/Column[@Name='FechaRegistro']/Default[@Name='DF__Impresora__Fecha__59B045BD']"
   },
   "source": [
    "# [DF__Impresora__Fecha__59B045BD]"
   ]
  },
  {
   "cell_type": "code",
   "execution_count": 0,
   "metadata": {
    "object_type": "Default",
    "urn": "Server[@Name='Windows10-Pepe']/Database[@Name='CEFEGEN']/Table[@Name='Impresoras' and @Schema='dbo']/Column[@Name='FechaRegistro']/Default[@Name='DF__Impresora__Fecha__59B045BD']"
   },
   "outputs": [],
   "source": [
    "ALTER TABLE [dbo].[Impresoras] ADD  DEFAULT (getdate()) FOR [FechaRegistro]\n",
    "GO\n"
   ]
  },
  {
   "cell_type": "markdown",
   "metadata": {
    "object_type": "Default",
    "urn": "Server[@Name='Windows10-Pepe']/Database[@Name='CEFEGEN']/Table[@Name='IndiceParentesco' and @Schema='dbo']/Column[@Name='FechaAnalisis']/Default[@Name='DF__IndicePar__Fecha__6DEC4894']"
   },
   "source": [
    "# [DF__IndicePar__Fecha__6DEC4894]"
   ]
  },
  {
   "cell_type": "code",
   "execution_count": 0,
   "metadata": {
    "object_type": "Default",
    "urn": "Server[@Name='Windows10-Pepe']/Database[@Name='CEFEGEN']/Table[@Name='IndiceParentesco' and @Schema='dbo']/Column[@Name='FechaAnalisis']/Default[@Name='DF__IndicePar__Fecha__6DEC4894']"
   },
   "outputs": [],
   "source": [
    "ALTER TABLE [dbo].[IndiceParentesco] ADD  DEFAULT (getdate()) FOR [FechaAnalisis]\n",
    "GO\n"
   ]
  },
  {
   "cell_type": "markdown",
   "metadata": {
    "object_type": "Default",
    "urn": "Server[@Name='Windows10-Pepe']/Database[@Name='CEFEGEN']/Table[@Name='IndiceParentesco' and @Schema='dbo']/Column[@Name='Estado']/Default[@Name='DF__IndicePar__Estad__6EE06CCD']"
   },
   "source": [
    "# [DF__IndicePar__Estad__6EE06CCD]"
   ]
  },
  {
   "cell_type": "code",
   "execution_count": 0,
   "metadata": {
    "object_type": "Default",
    "urn": "Server[@Name='Windows10-Pepe']/Database[@Name='CEFEGEN']/Table[@Name='IndiceParentesco' and @Schema='dbo']/Column[@Name='Estado']/Default[@Name='DF__IndicePar__Estad__6EE06CCD']"
   },
   "outputs": [],
   "source": [
    "ALTER TABLE [dbo].[IndiceParentesco] ADD  DEFAULT ('Activo') FOR [Estado]\n",
    "GO\n"
   ]
  },
  {
   "cell_type": "markdown",
   "metadata": {
    "object_type": "Default",
    "urn": "Server[@Name='Windows10-Pepe']/Database[@Name='CEFEGEN']/Table[@Name='InformesGenerados' and @Schema='dbo']/Column[@Name='FechaGeneracion']/Default[@Name='DF__InformesG__Fecha__6521F869']"
   },
   "source": [
    "# [DF__InformesG__Fecha__6521F869]"
   ]
  },
  {
   "cell_type": "code",
   "execution_count": 0,
   "metadata": {
    "object_type": "Default",
    "urn": "Server[@Name='Windows10-Pepe']/Database[@Name='CEFEGEN']/Table[@Name='InformesGenerados' and @Schema='dbo']/Column[@Name='FechaGeneracion']/Default[@Name='DF__InformesG__Fecha__6521F869']"
   },
   "outputs": [],
   "source": [
    "ALTER TABLE [dbo].[InformesGenerados] ADD  DEFAULT (getdate()) FOR [FechaGeneracion]\n",
    "GO\n"
   ]
  },
  {
   "cell_type": "markdown",
   "metadata": {
    "object_type": "Default",
    "urn": "Server[@Name='Windows10-Pepe']/Database[@Name='CEFEGEN']/Table[@Name='InformesGenerados' and @Schema='dbo']/Column[@Name='Estado']/Default[@Name='DF__InformesG__Estad__66161CA2']"
   },
   "source": [
    "# [DF__InformesG__Estad__66161CA2]"
   ]
  },
  {
   "cell_type": "code",
   "execution_count": 0,
   "metadata": {
    "object_type": "Default",
    "urn": "Server[@Name='Windows10-Pepe']/Database[@Name='CEFEGEN']/Table[@Name='InformesGenerados' and @Schema='dbo']/Column[@Name='Estado']/Default[@Name='DF__InformesG__Estad__66161CA2']"
   },
   "outputs": [],
   "source": [
    "ALTER TABLE [dbo].[InformesGenerados] ADD  DEFAULT ('Generado') FOR [Estado]\n",
    "GO\n"
   ]
  },
  {
   "cell_type": "markdown",
   "metadata": {
    "object_type": "Default",
    "urn": "Server[@Name='Windows10-Pepe']/Database[@Name='CEFEGEN']/Table[@Name='Intervinientes' and @Schema='dbo']/Column[@Name='IdTipoInterviniente']/Default[@Name='DF_Intervinientes_IdTipoInterviniente']"
   },
   "source": [
    "# [DF_Intervinientes_IdTipoInterviniente]"
   ]
  },
  {
   "cell_type": "code",
   "execution_count": 0,
   "metadata": {
    "object_type": "Default",
    "urn": "Server[@Name='Windows10-Pepe']/Database[@Name='CEFEGEN']/Table[@Name='Intervinientes' and @Schema='dbo']/Column[@Name='IdTipoInterviniente']/Default[@Name='DF_Intervinientes_IdTipoInterviniente']"
   },
   "outputs": [],
   "source": [
    "ALTER TABLE [dbo].[Intervinientes] ADD  CONSTRAINT [DF_Intervinientes_IdTipoInterviniente]  DEFAULT ('PP') FOR [IdTipoInterviniente]\n",
    "GO\n"
   ]
  },
  {
   "cell_type": "markdown",
   "metadata": {
    "object_type": "Default",
    "urn": "Server[@Name='Windows10-Pepe']/Database[@Name='CEFEGEN']/Table[@Name='LaboratoriosColaboradores' and @Schema='dbo']/Column[@Name='FechaAlta']/Default[@Name='DF__Laborator__Fecha__5D95E53A']"
   },
   "source": [
    "# [DF__Laborator__Fecha__5D95E53A]"
   ]
  },
  {
   "cell_type": "code",
   "execution_count": 0,
   "metadata": {
    "object_type": "Default",
    "urn": "Server[@Name='Windows10-Pepe']/Database[@Name='CEFEGEN']/Table[@Name='LaboratoriosColaboradores' and @Schema='dbo']/Column[@Name='FechaAlta']/Default[@Name='DF__Laborator__Fecha__5D95E53A']"
   },
   "outputs": [],
   "source": [
    "ALTER TABLE [dbo].[LaboratoriosColaboradores] ADD  DEFAULT (CONVERT([date],getdate())) FOR [FechaAlta]\n",
    "GO\n"
   ]
  },
  {
   "cell_type": "markdown",
   "metadata": {
    "object_type": "Default",
    "urn": "Server[@Name='Windows10-Pepe']/Database[@Name='CEFEGEN']/Table[@Name='LaboratoriosColaboradores' and @Schema='dbo']/Column[@Name='Bloquear']/Default[@Name='DF__Laborator__Bloqu__72E607DB']"
   },
   "source": [
    "# [DF__Laborator__Bloqu__72E607DB]"
   ]
  },
  {
   "cell_type": "code",
   "execution_count": 0,
   "metadata": {
    "object_type": "Default",
    "urn": "Server[@Name='Windows10-Pepe']/Database[@Name='CEFEGEN']/Table[@Name='LaboratoriosColaboradores' and @Schema='dbo']/Column[@Name='Bloquear']/Default[@Name='DF__Laborator__Bloqu__72E607DB']"
   },
   "outputs": [],
   "source": [
    "ALTER TABLE [dbo].[LaboratoriosColaboradores] ADD  DEFAULT ((0)) FOR [Bloquear]\n",
    "GO\n"
   ]
  },
  {
   "cell_type": "markdown",
   "metadata": {
    "object_type": "Default",
    "urn": "Server[@Name='Windows10-Pepe']/Database[@Name='CEFEGEN']/Table[@Name='LaboratoriosColaboradores' and @Schema='dbo']/Column[@Name='EstadoContrato']/Default[@Name='DF__Laborator__Estad__73DA2C14']"
   },
   "source": [
    "# [DF__Laborator__Estad__73DA2C14]"
   ]
  },
  {
   "cell_type": "code",
   "execution_count": 0,
   "metadata": {
    "object_type": "Default",
    "urn": "Server[@Name='Windows10-Pepe']/Database[@Name='CEFEGEN']/Table[@Name='LaboratoriosColaboradores' and @Schema='dbo']/Column[@Name='EstadoContrato']/Default[@Name='DF__Laborator__Estad__73DA2C14']"
   },
   "outputs": [],
   "source": [
    "ALTER TABLE [dbo].[LaboratoriosColaboradores] ADD  DEFAULT ((1)) FOR [EstadoContrato]\n",
    "GO\n"
   ]
  },
  {
   "cell_type": "markdown",
   "metadata": {
    "object_type": "Default",
    "urn": "Server[@Name='Windows10-Pepe']/Database[@Name='CEFEGEN']/Table[@Name='LaboratoriosColaboradores' and @Schema='dbo']/Column[@Name='IdIdiomaPreferido']/Default[@Name='DF_LaboratoriosColaboradores_IdIdiomaPreferido']"
   },
   "source": [
    "# [DF_LaboratoriosColaboradores_IdIdiomaPreferido]"
   ]
  },
  {
   "cell_type": "code",
   "execution_count": 0,
   "metadata": {
    "object_type": "Default",
    "urn": "Server[@Name='Windows10-Pepe']/Database[@Name='CEFEGEN']/Table[@Name='LaboratoriosColaboradores' and @Schema='dbo']/Column[@Name='IdIdiomaPreferido']/Default[@Name='DF_LaboratoriosColaboradores_IdIdiomaPreferido']"
   },
   "outputs": [],
   "source": [
    "ALTER TABLE [dbo].[LaboratoriosColaboradores] ADD  CONSTRAINT [DF_LaboratoriosColaboradores_IdIdiomaPreferido]  DEFAULT ('ES') FOR [IdIdiomaPreferido]\n",
    "GO\n"
   ]
  },
  {
   "cell_type": "markdown",
   "metadata": {
    "object_type": "Default",
    "urn": "Server[@Name='Windows10-Pepe']/Database[@Name='CEFEGEN']/Table[@Name='LaboratoriosColaboradores' and @Schema='dbo']/Column[@Name='PrefiereSMS']/Default[@Name='DF__Laborator__Prefi__26EFBBC6']"
   },
   "source": [
    "# [DF__Laborator__Prefi__26EFBBC6]"
   ]
  },
  {
   "cell_type": "code",
   "execution_count": 0,
   "metadata": {
    "object_type": "Default",
    "urn": "Server[@Name='Windows10-Pepe']/Database[@Name='CEFEGEN']/Table[@Name='LaboratoriosColaboradores' and @Schema='dbo']/Column[@Name='PrefiereSMS']/Default[@Name='DF__Laborator__Prefi__26EFBBC6']"
   },
   "outputs": [],
   "source": [
    "ALTER TABLE [dbo].[LaboratoriosColaboradores] ADD  DEFAULT ((0)) FOR [PrefiereSMS]\n",
    "GO\n"
   ]
  },
  {
   "cell_type": "markdown",
   "metadata": {
    "object_type": "Default",
    "urn": "Server[@Name='Windows10-Pepe']/Database[@Name='CEFEGEN']/Table[@Name='LineasFactura' and @Schema='dbo']/Column[@Name='Cantidad']/Default[@Name='DF__LineasFac__Canti__7BB05806']"
   },
   "source": [
    "# [DF__LineasFac__Canti__7BB05806]"
   ]
  },
  {
   "cell_type": "code",
   "execution_count": 0,
   "metadata": {
    "object_type": "Default",
    "urn": "Server[@Name='Windows10-Pepe']/Database[@Name='CEFEGEN']/Table[@Name='LineasFactura' and @Schema='dbo']/Column[@Name='Cantidad']/Default[@Name='DF__LineasFac__Canti__7BB05806']"
   },
   "outputs": [],
   "source": [
    "ALTER TABLE [dbo].[LineasFactura] ADD  DEFAULT ((1)) FOR [Cantidad]\n",
    "GO\n"
   ]
  },
  {
   "cell_type": "markdown",
   "metadata": {
    "object_type": "Default",
    "urn": "Server[@Name='Windows10-Pepe']/Database[@Name='CEFEGEN']/Table[@Name='MarcadoresGeneticos' and @Schema='dbo']/Column[@Name='Activo']/Default[@Name='DF__Marcadore__Activ__7D2E8C24']"
   },
   "source": [
    "# [DF__Marcadore__Activ__7D2E8C24]"
   ]
  },
  {
   "cell_type": "code",
   "execution_count": 0,
   "metadata": {
    "object_type": "Default",
    "urn": "Server[@Name='Windows10-Pepe']/Database[@Name='CEFEGEN']/Table[@Name='MarcadoresGeneticos' and @Schema='dbo']/Column[@Name='Activo']/Default[@Name='DF__Marcadore__Activ__7D2E8C24']"
   },
   "outputs": [],
   "source": [
    "ALTER TABLE [dbo].[MarcadoresGeneticos] ADD  DEFAULT ((1)) FOR [Activo]\n",
    "GO\n"
   ]
  },
  {
   "cell_type": "markdown",
   "metadata": {
    "object_type": "Default",
    "urn": "Server[@Name='Windows10-Pepe']/Database[@Name='CEFEGEN']/Table[@Name='MarcadoresGeneticos' and @Schema='dbo']/Column[@Name='FechaCreacion']/Default[@Name='DF__Marcadore__Fecha__7E22B05D']"
   },
   "source": [
    "# [DF__Marcadore__Fecha__7E22B05D]"
   ]
  },
  {
   "cell_type": "code",
   "execution_count": 0,
   "metadata": {
    "object_type": "Default",
    "urn": "Server[@Name='Windows10-Pepe']/Database[@Name='CEFEGEN']/Table[@Name='MarcadoresGeneticos' and @Schema='dbo']/Column[@Name='FechaCreacion']/Default[@Name='DF__Marcadore__Fecha__7E22B05D']"
   },
   "outputs": [],
   "source": [
    "ALTER TABLE [dbo].[MarcadoresGeneticos] ADD  DEFAULT (getdate()) FOR [FechaCreacion]\n",
    "GO\n"
   ]
  },
  {
   "cell_type": "markdown",
   "metadata": {
    "object_type": "Default",
    "urn": "Server[@Name='Windows10-Pepe']/Database[@Name='CEFEGEN']/Table[@Name='Medicos' and @Schema='dbo']/Column[@Name='Bloquear']/Default[@Name='DF__Medicos__Bloquea__74CE504D']"
   },
   "source": [
    "# [DF__Medicos__Bloquea__74CE504D]"
   ]
  },
  {
   "cell_type": "code",
   "execution_count": 0,
   "metadata": {
    "object_type": "Default",
    "urn": "Server[@Name='Windows10-Pepe']/Database[@Name='CEFEGEN']/Table[@Name='Medicos' and @Schema='dbo']/Column[@Name='Bloquear']/Default[@Name='DF__Medicos__Bloquea__74CE504D']"
   },
   "outputs": [],
   "source": [
    "ALTER TABLE [dbo].[Medicos] ADD  DEFAULT ((0)) FOR [Bloquear]\n",
    "GO\n"
   ]
  },
  {
   "cell_type": "markdown",
   "metadata": {
    "object_type": "Default",
    "urn": "Server[@Name='Windows10-Pepe']/Database[@Name='CEFEGEN']/Table[@Name='Medicos' and @Schema='dbo']/Column[@Name='EnviarEmail']/Default[@Name='DF__Medicos__EnviarE__75C27486']"
   },
   "source": [
    "# [DF__Medicos__EnviarE__75C27486]"
   ]
  },
  {
   "cell_type": "code",
   "execution_count": 0,
   "metadata": {
    "object_type": "Default",
    "urn": "Server[@Name='Windows10-Pepe']/Database[@Name='CEFEGEN']/Table[@Name='Medicos' and @Schema='dbo']/Column[@Name='EnviarEmail']/Default[@Name='DF__Medicos__EnviarE__75C27486']"
   },
   "outputs": [],
   "source": [
    "ALTER TABLE [dbo].[Medicos] ADD  DEFAULT ((1)) FOR [EnviarEmail]\n",
    "GO\n"
   ]
  },
  {
   "cell_type": "markdown",
   "metadata": {
    "object_type": "Default",
    "urn": "Server[@Name='Windows10-Pepe']/Database[@Name='CEFEGEN']/Table[@Name='Medicos' and @Schema='dbo']/Column[@Name='EnviarEmailPet']/Default[@Name='DF__Medicos__EnviarE__76B698BF']"
   },
   "source": [
    "# [DF__Medicos__EnviarE__76B698BF]"
   ]
  },
  {
   "cell_type": "code",
   "execution_count": 0,
   "metadata": {
    "object_type": "Default",
    "urn": "Server[@Name='Windows10-Pepe']/Database[@Name='CEFEGEN']/Table[@Name='Medicos' and @Schema='dbo']/Column[@Name='EnviarEmailPet']/Default[@Name='DF__Medicos__EnviarE__76B698BF']"
   },
   "outputs": [],
   "source": [
    "ALTER TABLE [dbo].[Medicos] ADD  DEFAULT ((0)) FOR [EnviarEmailPet]\n",
    "GO\n"
   ]
  },
  {
   "cell_type": "markdown",
   "metadata": {
    "object_type": "Default",
    "urn": "Server[@Name='Windows10-Pepe']/Database[@Name='CEFEGEN']/Table[@Name='Medicos' and @Schema='dbo']/Column[@Name='EnviarEmailNotif']/Default[@Name='DF__Medicos__EnviarE__77AABCF8']"
   },
   "source": [
    "# [DF__Medicos__EnviarE__77AABCF8]"
   ]
  },
  {
   "cell_type": "code",
   "execution_count": 0,
   "metadata": {
    "object_type": "Default",
    "urn": "Server[@Name='Windows10-Pepe']/Database[@Name='CEFEGEN']/Table[@Name='Medicos' and @Schema='dbo']/Column[@Name='EnviarEmailNotif']/Default[@Name='DF__Medicos__EnviarE__77AABCF8']"
   },
   "outputs": [],
   "source": [
    "ALTER TABLE [dbo].[Medicos] ADD  DEFAULT ((0)) FOR [EnviarEmailNotif]\n",
    "GO\n"
   ]
  },
  {
   "cell_type": "markdown",
   "metadata": {
    "object_type": "Default",
    "urn": "Server[@Name='Windows10-Pepe']/Database[@Name='CEFEGEN']/Table[@Name='MetodosAmplificacion' and @Schema='dbo']/Column[@Name='FechaCreacion']/Default[@Name='DF_MetodoAmplificacion_FechaCreacion']"
   },
   "source": [
    "# [DF_MetodoAmplificacion_FechaCreacion]"
   ]
  },
  {
   "cell_type": "code",
   "execution_count": 0,
   "metadata": {
    "object_type": "Default",
    "urn": "Server[@Name='Windows10-Pepe']/Database[@Name='CEFEGEN']/Table[@Name='MetodosAmplificacion' and @Schema='dbo']/Column[@Name='FechaCreacion']/Default[@Name='DF_MetodoAmplificacion_FechaCreacion']"
   },
   "outputs": [],
   "source": [
    "ALTER TABLE [dbo].[MetodosAmplificacion] ADD  CONSTRAINT [DF_MetodoAmplificacion_FechaCreacion]  DEFAULT (getdate()) FOR [FechaCreacion]\n",
    "GO\n"
   ]
  },
  {
   "cell_type": "markdown",
   "metadata": {
    "object_type": "Default",
    "urn": "Server[@Name='Windows10-Pepe']/Database[@Name='CEFEGEN']/Table[@Name='MetodosAmplificacion' and @Schema='dbo']/Column[@Name='Activo']/Default[@Name='DF_MetodoAmplificacion_Activo']"
   },
   "source": [
    "# [DF_MetodoAmplificacion_Activo]"
   ]
  },
  {
   "cell_type": "code",
   "execution_count": 0,
   "metadata": {
    "object_type": "Default",
    "urn": "Server[@Name='Windows10-Pepe']/Database[@Name='CEFEGEN']/Table[@Name='MetodosAmplificacion' and @Schema='dbo']/Column[@Name='Activo']/Default[@Name='DF_MetodoAmplificacion_Activo']"
   },
   "outputs": [],
   "source": [
    "ALTER TABLE [dbo].[MetodosAmplificacion] ADD  CONSTRAINT [DF_MetodoAmplificacion_Activo]  DEFAULT ((1)) FOR [Activo]\n",
    "GO\n"
   ]
  },
  {
   "cell_type": "markdown",
   "metadata": {
    "object_type": "Default",
    "urn": "Server[@Name='Windows10-Pepe']/Database[@Name='CEFEGEN']/Table[@Name='MetodosExtraccion' and @Schema='dbo']/Column[@Name='FechaCreacion']/Default[@Name='DF_MetodosExtraccion_FechaCreacion']"
   },
   "source": [
    "# [DF_MetodosExtraccion_FechaCreacion]"
   ]
  },
  {
   "cell_type": "code",
   "execution_count": 0,
   "metadata": {
    "object_type": "Default",
    "urn": "Server[@Name='Windows10-Pepe']/Database[@Name='CEFEGEN']/Table[@Name='MetodosExtraccion' and @Schema='dbo']/Column[@Name='FechaCreacion']/Default[@Name='DF_MetodosExtraccion_FechaCreacion']"
   },
   "outputs": [],
   "source": [
    "ALTER TABLE [dbo].[MetodosExtraccion] ADD  CONSTRAINT [DF_MetodosExtraccion_FechaCreacion]  DEFAULT (getdate()) FOR [FechaCreacion]\n",
    "GO\n"
   ]
  },
  {
   "cell_type": "markdown",
   "metadata": {
    "object_type": "Default",
    "urn": "Server[@Name='Windows10-Pepe']/Database[@Name='CEFEGEN']/Table[@Name='MetodosExtraccion' and @Schema='dbo']/Column[@Name='Activo']/Default[@Name='DF_MetodosExtraccion_Activo']"
   },
   "source": [
    "# [DF_MetodosExtraccion_Activo]"
   ]
  },
  {
   "cell_type": "code",
   "execution_count": 0,
   "metadata": {
    "object_type": "Default",
    "urn": "Server[@Name='Windows10-Pepe']/Database[@Name='CEFEGEN']/Table[@Name='MetodosExtraccion' and @Schema='dbo']/Column[@Name='Activo']/Default[@Name='DF_MetodosExtraccion_Activo']"
   },
   "outputs": [],
   "source": [
    "ALTER TABLE [dbo].[MetodosExtraccion] ADD  CONSTRAINT [DF_MetodosExtraccion_Activo]  DEFAULT ((1)) FOR [Activo]\n",
    "GO\n"
   ]
  },
  {
   "cell_type": "markdown",
   "metadata": {
    "object_type": "Default",
    "urn": "Server[@Name='Windows10-Pepe']/Database[@Name='CEFEGEN']/Table[@Name='MovimientosMuestras' and @Schema='dbo']/Column[@Name='FechaMovimiento']/Default[@Name='DF__Movimient__Fecha__2354350C']"
   },
   "source": [
    "# [DF__Movimient__Fecha__2354350C]"
   ]
  },
  {
   "cell_type": "code",
   "execution_count": 0,
   "metadata": {
    "object_type": "Default",
    "urn": "Server[@Name='Windows10-Pepe']/Database[@Name='CEFEGEN']/Table[@Name='MovimientosMuestras' and @Schema='dbo']/Column[@Name='FechaMovimiento']/Default[@Name='DF__Movimient__Fecha__2354350C']"
   },
   "outputs": [],
   "source": [
    "ALTER TABLE [dbo].[MovimientosMuestras] ADD  DEFAULT (getdate()) FOR [FechaMovimiento]\n",
    "GO\n"
   ]
  },
  {
   "cell_type": "markdown",
   "metadata": {
    "object_type": "Default",
    "urn": "Server[@Name='Windows10-Pepe']/Database[@Name='CEFEGEN']/Table[@Name='Muestras' and @Schema='dbo']/Column[@Name='Valida']/Default[@Name='DF__Muestras__Valida__39AD8A7F']"
   },
   "source": [
    "# [DF__Muestras__Valida__39AD8A7F]"
   ]
  },
  {
   "cell_type": "code",
   "execution_count": 0,
   "metadata": {
    "object_type": "Default",
    "urn": "Server[@Name='Windows10-Pepe']/Database[@Name='CEFEGEN']/Table[@Name='Muestras' and @Schema='dbo']/Column[@Name='Valida']/Default[@Name='DF__Muestras__Valida__39AD8A7F']"
   },
   "outputs": [],
   "source": [
    "ALTER TABLE [dbo].[Muestras] ADD  DEFAULT ((1)) FOR [Valida]\n",
    "GO\n"
   ]
  },
  {
   "cell_type": "markdown",
   "metadata": {
    "object_type": "Default",
    "urn": "Server[@Name='Windows10-Pepe']/Database[@Name='CEFEGEN']/Table[@Name='Muestras' and @Schema='dbo']/Column[@Name='FechaRecepcion']/Default[@Name='DF__Muestras__FechaR__3AA1AEB8']"
   },
   "source": [
    "# [DF__Muestras__FechaR__3AA1AEB8]"
   ]
  },
  {
   "cell_type": "code",
   "execution_count": 0,
   "metadata": {
    "object_type": "Default",
    "urn": "Server[@Name='Windows10-Pepe']/Database[@Name='CEFEGEN']/Table[@Name='Muestras' and @Schema='dbo']/Column[@Name='FechaRecepcion']/Default[@Name='DF__Muestras__FechaR__3AA1AEB8']"
   },
   "outputs": [],
   "source": [
    "ALTER TABLE [dbo].[Muestras] ADD  DEFAULT (getdate()) FOR [FechaRecepcion]\n",
    "GO\n"
   ]
  },
  {
   "cell_type": "markdown",
   "metadata": {
    "object_type": "Default",
    "urn": "Server[@Name='Windows10-Pepe']/Database[@Name='CEFEGEN']/Table[@Name='Muestras' and @Schema='dbo']/Column[@Name='IdCentroToma']/Default[@Name='DF__Muestras__IdCent__3B95D2F1']"
   },
   "source": [
    "# [DF__Muestras__IdCent__3B95D2F1]"
   ]
  },
  {
   "cell_type": "code",
   "execution_count": 0,
   "metadata": {
    "object_type": "Default",
    "urn": "Server[@Name='Windows10-Pepe']/Database[@Name='CEFEGEN']/Table[@Name='Muestras' and @Schema='dbo']/Column[@Name='IdCentroToma']/Default[@Name='DF__Muestras__IdCent__3B95D2F1']"
   },
   "outputs": [],
   "source": [
    "ALTER TABLE [dbo].[Muestras] ADD  DEFAULT ((1)) FOR [IdCentroToma]\n",
    "GO\n"
   ]
  },
  {
   "cell_type": "markdown",
   "metadata": {
    "object_type": "Default",
    "urn": "Server[@Name='Windows10-Pepe']/Database[@Name='CEFEGEN']/Table[@Name='Muestras' and @Schema='dbo']/Column[@Name='IdSolicitud']/Default[@Name='DF__Muestras__IdSoli__2EFAF1E2']"
   },
   "source": [
    "# [DF__Muestras__IdSoli__2EFAF1E2]"
   ]
  },
  {
   "cell_type": "code",
   "execution_count": 0,
   "metadata": {
    "object_type": "Default",
    "urn": "Server[@Name='Windows10-Pepe']/Database[@Name='CEFEGEN']/Table[@Name='Muestras' and @Schema='dbo']/Column[@Name='IdSolicitud']/Default[@Name='DF__Muestras__IdSoli__2EFAF1E2']"
   },
   "outputs": [],
   "source": [
    "ALTER TABLE [dbo].[Muestras] ADD  DEFAULT ((0)) FOR [IdSolicitud]\n",
    "GO\n"
   ]
  },
  {
   "cell_type": "markdown",
   "metadata": {
    "object_type": "Default",
    "urn": "Server[@Name='Windows10-Pepe']/Database[@Name='CEFEGEN']/Table[@Name='Muestras' and @Schema='dbo']/Column[@Name='Intentos']/Default[@Name='DF__Muestras__Intent__542C7691']"
   },
   "source": [
    "# [DF__Muestras__Intent__542C7691]"
   ]
  },
  {
   "cell_type": "code",
   "execution_count": 0,
   "metadata": {
    "object_type": "Default",
    "urn": "Server[@Name='Windows10-Pepe']/Database[@Name='CEFEGEN']/Table[@Name='Muestras' and @Schema='dbo']/Column[@Name='Intentos']/Default[@Name='DF__Muestras__Intent__542C7691']"
   },
   "outputs": [],
   "source": [
    "ALTER TABLE [dbo].[Muestras] ADD  DEFAULT ((1)) FOR [Intentos]\n",
    "GO\n"
   ]
  },
  {
   "cell_type": "markdown",
   "metadata": {
    "object_type": "Default",
    "urn": "Server[@Name='Windows10-Pepe']/Database[@Name='CEFEGEN']/Table[@Name='Notas' and @Schema='dbo']/Column[@Name='FechaCreacion']/Default[@Name='DF__Notas__FechaCrea__47919582']"
   },
   "source": [
    "# [DF__Notas__FechaCrea__47919582]"
   ]
  },
  {
   "cell_type": "code",
   "execution_count": 0,
   "metadata": {
    "object_type": "Default",
    "urn": "Server[@Name='Windows10-Pepe']/Database[@Name='CEFEGEN']/Table[@Name='Notas' and @Schema='dbo']/Column[@Name='FechaCreacion']/Default[@Name='DF__Notas__FechaCrea__47919582']"
   },
   "outputs": [],
   "source": [
    "ALTER TABLE [dbo].[Notas] ADD  DEFAULT (getdate()) FOR [FechaCreacion]\n",
    "GO\n"
   ]
  },
  {
   "cell_type": "markdown",
   "metadata": {
    "object_type": "Default",
    "urn": "Server[@Name='Windows10-Pepe']/Database[@Name='CEFEGEN']/Table[@Name='NotificacionesSMS' and @Schema='dbo']/Column[@Name='FechaEnvio']/Default[@Name='DF__Notificac__Fecha__2136E270']"
   },
   "source": [
    "# [DF__Notificac__Fecha__2136E270]"
   ]
  },
  {
   "cell_type": "code",
   "execution_count": 0,
   "metadata": {
    "object_type": "Default",
    "urn": "Server[@Name='Windows10-Pepe']/Database[@Name='CEFEGEN']/Table[@Name='NotificacionesSMS' and @Schema='dbo']/Column[@Name='FechaEnvio']/Default[@Name='DF__Notificac__Fecha__2136E270']"
   },
   "outputs": [],
   "source": [
    "ALTER TABLE [dbo].[NotificacionesSMS] ADD  DEFAULT (getdate()) FOR [FechaEnvio]\n",
    "GO\n"
   ]
  },
  {
   "cell_type": "markdown",
   "metadata": {
    "object_type": "Default",
    "urn": "Server[@Name='Windows10-Pepe']/Database[@Name='CEFEGEN']/Table[@Name='PagosPaciente' and @Schema='dbo']/Column[@Name='Pagado']/Default[@Name='DF__PagosPaci__Pagad__0D0FEE32']"
   },
   "source": [
    "# [DF__PagosPaci__Pagad__0D0FEE32]"
   ]
  },
  {
   "cell_type": "code",
   "execution_count": 0,
   "metadata": {
    "object_type": "Default",
    "urn": "Server[@Name='Windows10-Pepe']/Database[@Name='CEFEGEN']/Table[@Name='PagosPaciente' and @Schema='dbo']/Column[@Name='Pagado']/Default[@Name='DF__PagosPaci__Pagad__0D0FEE32']"
   },
   "outputs": [],
   "source": [
    "ALTER TABLE [dbo].[PagosPaciente] ADD  DEFAULT ((0)) FOR [Pagado]\n",
    "GO\n"
   ]
  },
  {
   "cell_type": "markdown",
   "metadata": {
    "object_type": "Default",
    "urn": "Server[@Name='Windows10-Pepe']/Database[@Name='CEFEGEN']/Table[@Name='PermisosDocumento' and @Schema='dbo']/Column[@Name='FechaOtorgado']/Default[@Name='DF__PermisosD__Fecha__3FBB6990']"
   },
   "source": [
    "# [DF__PermisosD__Fecha__3FBB6990]"
   ]
  },
  {
   "cell_type": "code",
   "execution_count": 0,
   "metadata": {
    "object_type": "Default",
    "urn": "Server[@Name='Windows10-Pepe']/Database[@Name='CEFEGEN']/Table[@Name='PermisosDocumento' and @Schema='dbo']/Column[@Name='FechaOtorgado']/Default[@Name='DF__PermisosD__Fecha__3FBB6990']"
   },
   "outputs": [],
   "source": [
    "ALTER TABLE [dbo].[PermisosDocumento] ADD  DEFAULT (getdate()) FOR [FechaOtorgado]\n",
    "GO\n"
   ]
  },
  {
   "cell_type": "markdown",
   "metadata": {
    "object_type": "Default",
    "urn": "Server[@Name='Windows10-Pepe']/Database[@Name='CEFEGEN']/Table[@Name='Personal' and @Schema='dbo']/Column[@Name='Bloquear']/Default[@Name='DF__Personal__Bloque__789EE131']"
   },
   "source": [
    "# [DF__Personal__Bloque__789EE131]"
   ]
  },
  {
   "cell_type": "code",
   "execution_count": 0,
   "metadata": {
    "object_type": "Default",
    "urn": "Server[@Name='Windows10-Pepe']/Database[@Name='CEFEGEN']/Table[@Name='Personal' and @Schema='dbo']/Column[@Name='Bloquear']/Default[@Name='DF__Personal__Bloque__789EE131']"
   },
   "outputs": [],
   "source": [
    "ALTER TABLE [dbo].[Personal] ADD  DEFAULT ((0)) FOR [Bloquear]\n",
    "GO\n"
   ]
  },
  {
   "cell_type": "markdown",
   "metadata": {
    "object_type": "Default",
    "urn": "Server[@Name='Windows10-Pepe']/Database[@Name='CEFEGEN']/Table[@Name='Peticiones' and @Schema='dbo']/Column[@Name='EstadoPeticion']/Default[@Name='DF__Peticione__Estad__1A34DF26']"
   },
   "source": [
    "# [DF__Peticione__Estad__1A34DF26]"
   ]
  },
  {
   "cell_type": "code",
   "execution_count": 0,
   "metadata": {
    "object_type": "Default",
    "urn": "Server[@Name='Windows10-Pepe']/Database[@Name='CEFEGEN']/Table[@Name='Peticiones' and @Schema='dbo']/Column[@Name='EstadoPeticion']/Default[@Name='DF__Peticione__Estad__1A34DF26']"
   },
   "outputs": [],
   "source": [
    "ALTER TABLE [dbo].[Peticiones] ADD  DEFAULT ('pendiente') FOR [EstadoPeticion]\n",
    "GO\n"
   ]
  },
  {
   "cell_type": "markdown",
   "metadata": {
    "object_type": "Default",
    "urn": "Server[@Name='Windows10-Pepe']/Database[@Name='CEFEGEN']/Table[@Name='Peticiones' and @Schema='dbo']/Column[@Name='FechaPeticion']/Default[@Name='DF__Peticione__Fecha__1B29035F']"
   },
   "source": [
    "# [DF__Peticione__Fecha__1B29035F]"
   ]
  },
  {
   "cell_type": "code",
   "execution_count": 0,
   "metadata": {
    "object_type": "Default",
    "urn": "Server[@Name='Windows10-Pepe']/Database[@Name='CEFEGEN']/Table[@Name='Peticiones' and @Schema='dbo']/Column[@Name='FechaPeticion']/Default[@Name='DF__Peticione__Fecha__1B29035F']"
   },
   "outputs": [],
   "source": [
    "ALTER TABLE [dbo].[Peticiones] ADD  DEFAULT (getdate()) FOR [FechaPeticion]\n",
    "GO\n"
   ]
  },
  {
   "cell_type": "markdown",
   "metadata": {
    "object_type": "Default",
    "urn": "Server[@Name='Windows10-Pepe']/Database[@Name='CEFEGEN']/Table[@Name='PeticionesLin' and @Schema='dbo']/Column[@Name='EstadoLinea']/Default[@Name='DF__Peticione__Estad__21D600EE']"
   },
   "source": [
    "# [DF__Peticione__Estad__21D600EE]"
   ]
  },
  {
   "cell_type": "code",
   "execution_count": 0,
   "metadata": {
    "object_type": "Default",
    "urn": "Server[@Name='Windows10-Pepe']/Database[@Name='CEFEGEN']/Table[@Name='PeticionesLin' and @Schema='dbo']/Column[@Name='EstadoLinea']/Default[@Name='DF__Peticione__Estad__21D600EE']"
   },
   "outputs": [],
   "source": [
    "ALTER TABLE [dbo].[PeticionesLin] ADD  DEFAULT ('pendiente') FOR [EstadoLinea]\n",
    "GO\n"
   ]
  },
  {
   "cell_type": "markdown",
   "metadata": {
    "object_type": "Default",
    "urn": "Server[@Name='Windows10-Pepe']/Database[@Name='CEFEGEN']/Table[@Name='PeticionesLin' and @Schema='dbo']/Column[@Name='PrecioUnitario']/Default[@Name='DF__Peticione__Preci__46136164']"
   },
   "source": [
    "# [DF__Peticione__Preci__46136164]"
   ]
  },
  {
   "cell_type": "code",
   "execution_count": 0,
   "metadata": {
    "object_type": "Default",
    "urn": "Server[@Name='Windows10-Pepe']/Database[@Name='CEFEGEN']/Table[@Name='PeticionesLin' and @Schema='dbo']/Column[@Name='PrecioUnitario']/Default[@Name='DF__Peticione__Preci__46136164']"
   },
   "outputs": [],
   "source": [
    "ALTER TABLE [dbo].[PeticionesLin] ADD  DEFAULT ((0)) FOR [PrecioUnitario]\n",
    "GO\n"
   ]
  },
  {
   "cell_type": "markdown",
   "metadata": {
    "object_type": "Default",
    "urn": "Server[@Name='Windows10-Pepe']/Database[@Name='CEFEGEN']/Table[@Name='PeticionesLin' and @Schema='dbo']/Column[@Name='EstadoResultado']/Default[@Name='DF__Peticione__Estad__4FF1D159']"
   },
   "source": [
    "# [DF__Peticione__Estad__4FF1D159]"
   ]
  },
  {
   "cell_type": "code",
   "execution_count": 0,
   "metadata": {
    "object_type": "Default",
    "urn": "Server[@Name='Windows10-Pepe']/Database[@Name='CEFEGEN']/Table[@Name='PeticionesLin' and @Schema='dbo']/Column[@Name='EstadoResultado']/Default[@Name='DF__Peticione__Estad__4FF1D159']"
   },
   "outputs": [],
   "source": [
    "ALTER TABLE [dbo].[PeticionesLin] ADD  DEFAULT ('En Proceso') FOR [EstadoResultado]\n",
    "GO\n"
   ]
  },
  {
   "cell_type": "markdown",
   "metadata": {
    "object_type": "Default",
    "urn": "Server[@Name='Windows10-Pepe']/Database[@Name='CEFEGEN']/Table[@Name='PeticionesLin' and @Schema='dbo']/Column[@Name='NumValidacionesCompletadas']/Default[@Name='DF__Peticione__NumVa__5E3FF0B0']"
   },
   "source": [
    "# [DF__Peticione__NumVa__5E3FF0B0]"
   ]
  },
  {
   "cell_type": "code",
   "execution_count": 0,
   "metadata": {
    "object_type": "Default",
    "urn": "Server[@Name='Windows10-Pepe']/Database[@Name='CEFEGEN']/Table[@Name='PeticionesLin' and @Schema='dbo']/Column[@Name='NumValidacionesCompletadas']/Default[@Name='DF__Peticione__NumVa__5E3FF0B0']"
   },
   "outputs": [],
   "source": [
    "ALTER TABLE [dbo].[PeticionesLin] ADD  DEFAULT ((0)) FOR [NumValidacionesCompletadas]\n",
    "GO\n"
   ]
  },
  {
   "cell_type": "markdown",
   "metadata": {
    "object_type": "Default",
    "urn": "Server[@Name='Windows10-Pepe']/Database[@Name='CEFEGEN']/Table[@Name='Plantillas' and @Schema='dbo']/Column[@Name='FechaCreacion']/Default[@Name='DF__Plantilla__Fecha__0EE3280B']"
   },
   "source": [
    "# [DF__Plantilla__Fecha__0EE3280B]"
   ]
  },
  {
   "cell_type": "code",
   "execution_count": 0,
   "metadata": {
    "object_type": "Default",
    "urn": "Server[@Name='Windows10-Pepe']/Database[@Name='CEFEGEN']/Table[@Name='Plantillas' and @Schema='dbo']/Column[@Name='FechaCreacion']/Default[@Name='DF__Plantilla__Fecha__0EE3280B']"
   },
   "outputs": [],
   "source": [
    "ALTER TABLE [dbo].[Plantillas] ADD  DEFAULT (getdate()) FOR [FechaCreacion]\n",
    "GO\n"
   ]
  },
  {
   "cell_type": "markdown",
   "metadata": {
    "object_type": "Default",
    "urn": "Server[@Name='Windows10-Pepe']/Database[@Name='CEFEGEN']/Table[@Name='Plantillas' and @Schema='dbo']/Column[@Name='Activa']/Default[@Name='DF__Plantilla__Activ__0FD74C44']"
   },
   "source": [
    "# [DF__Plantilla__Activ__0FD74C44]"
   ]
  },
  {
   "cell_type": "code",
   "execution_count": 0,
   "metadata": {
    "object_type": "Default",
    "urn": "Server[@Name='Windows10-Pepe']/Database[@Name='CEFEGEN']/Table[@Name='Plantillas' and @Schema='dbo']/Column[@Name='Activa']/Default[@Name='DF__Plantilla__Activ__0FD74C44']"
   },
   "outputs": [],
   "source": [
    "ALTER TABLE [dbo].[Plantillas] ADD  DEFAULT ((1)) FOR [Activa]\n",
    "GO\n"
   ]
  },
  {
   "cell_type": "markdown",
   "metadata": {
    "object_type": "Default",
    "urn": "Server[@Name='Windows10-Pepe']/Database[@Name='CEFEGEN']/Table[@Name='PlantillasInforme' and @Schema='dbo']/Column[@Name='FechaCreacion']/Default[@Name='DF__Plantilla__Fecha__61516785']"
   },
   "source": [
    "# [DF__Plantilla__Fecha__61516785]"
   ]
  },
  {
   "cell_type": "code",
   "execution_count": 0,
   "metadata": {
    "object_type": "Default",
    "urn": "Server[@Name='Windows10-Pepe']/Database[@Name='CEFEGEN']/Table[@Name='PlantillasInforme' and @Schema='dbo']/Column[@Name='FechaCreacion']/Default[@Name='DF__Plantilla__Fecha__61516785']"
   },
   "outputs": [],
   "source": [
    "ALTER TABLE [dbo].[PlantillasInforme] ADD  DEFAULT (getdate()) FOR [FechaCreacion]\n",
    "GO\n"
   ]
  },
  {
   "cell_type": "markdown",
   "metadata": {
    "object_type": "Default",
    "urn": "Server[@Name='Windows10-Pepe']/Database[@Name='CEFEGEN']/Table[@Name='PlantillasInforme' and @Schema='dbo']/Column[@Name='Activa']/Default[@Name='DF__Plantilla__Activ__62458BBE']"
   },
   "source": [
    "# [DF__Plantilla__Activ__62458BBE]"
   ]
  },
  {
   "cell_type": "code",
   "execution_count": 0,
   "metadata": {
    "object_type": "Default",
    "urn": "Server[@Name='Windows10-Pepe']/Database[@Name='CEFEGEN']/Table[@Name='PlantillasInforme' and @Schema='dbo']/Column[@Name='Activa']/Default[@Name='DF__Plantilla__Activ__62458BBE']"
   },
   "outputs": [],
   "source": [
    "ALTER TABLE [dbo].[PlantillasInforme] ADD  DEFAULT ((1)) FOR [Activa]\n",
    "GO\n"
   ]
  },
  {
   "cell_type": "markdown",
   "metadata": {
    "object_type": "Default",
    "urn": "Server[@Name='Windows10-Pepe']/Database[@Name='CEFEGEN']/Table[@Name='PlantillasNotificacion' and @Schema='dbo']/Column[@Name='Activa']/Default[@Name='DF__Plantilla__Activ__24134F1B']"
   },
   "source": [
    "# [DF__Plantilla__Activ__24134F1B]"
   ]
  },
  {
   "cell_type": "code",
   "execution_count": 0,
   "metadata": {
    "object_type": "Default",
    "urn": "Server[@Name='Windows10-Pepe']/Database[@Name='CEFEGEN']/Table[@Name='PlantillasNotificacion' and @Schema='dbo']/Column[@Name='Activa']/Default[@Name='DF__Plantilla__Activ__24134F1B']"
   },
   "outputs": [],
   "source": [
    "ALTER TABLE [dbo].[PlantillasNotificacion] ADD  DEFAULT ((1)) FOR [Activa]\n",
    "GO\n"
   ]
  },
  {
   "cell_type": "markdown",
   "metadata": {
    "object_type": "Default",
    "urn": "Server[@Name='Windows10-Pepe']/Database[@Name='CEFEGEN']/Table[@Name='PlantillasNotificacion' and @Schema='dbo']/Column[@Name='FechaCreacion']/Default[@Name='DF__Plantilla__Fecha__25077354']"
   },
   "source": [
    "# [DF__Plantilla__Fecha__25077354]"
   ]
  },
  {
   "cell_type": "code",
   "execution_count": 0,
   "metadata": {
    "object_type": "Default",
    "urn": "Server[@Name='Windows10-Pepe']/Database[@Name='CEFEGEN']/Table[@Name='PlantillasNotificacion' and @Schema='dbo']/Column[@Name='FechaCreacion']/Default[@Name='DF__Plantilla__Fecha__25077354']"
   },
   "outputs": [],
   "source": [
    "ALTER TABLE [dbo].[PlantillasNotificacion] ADD  DEFAULT (getdate()) FOR [FechaCreacion]\n",
    "GO\n"
   ]
  },
  {
   "cell_type": "markdown",
   "metadata": {
    "object_type": "Default",
    "urn": "Server[@Name='Windows10-Pepe']/Database[@Name='CEFEGEN']/Table[@Name='PlazosEntrega' and @Schema='dbo']/Column[@Name='IncrementoFijo']/Default[@Name='DF__PlazosEnt__Incre__7B7B4DDC']"
   },
   "source": [
    "# [DF__PlazosEnt__Incre__7B7B4DDC]"
   ]
  },
  {
   "cell_type": "code",
   "execution_count": 0,
   "metadata": {
    "object_type": "Default",
    "urn": "Server[@Name='Windows10-Pepe']/Database[@Name='CEFEGEN']/Table[@Name='PlazosEntrega' and @Schema='dbo']/Column[@Name='IncrementoFijo']/Default[@Name='DF__PlazosEnt__Incre__7B7B4DDC']"
   },
   "outputs": [],
   "source": [
    "ALTER TABLE [dbo].[PlazosEntrega] ADD  DEFAULT ((0)) FOR [IncrementoFijo]\n",
    "GO\n"
   ]
  },
  {
   "cell_type": "markdown",
   "metadata": {
    "object_type": "Default",
    "urn": "Server[@Name='Windows10-Pepe']/Database[@Name='CEFEGEN']/Table[@Name='PrecioCache' and @Schema='dbo']/Column[@Name='FechaActualizacion']/Default[@Name='DF__PrecioCac__Fecha__5303482E']"
   },
   "source": [
    "# [DF__PrecioCac__Fecha__5303482E]"
   ]
  },
  {
   "cell_type": "code",
   "execution_count": 0,
   "metadata": {
    "object_type": "Default",
    "urn": "Server[@Name='Windows10-Pepe']/Database[@Name='CEFEGEN']/Table[@Name='PrecioCache' and @Schema='dbo']/Column[@Name='FechaActualizacion']/Default[@Name='DF__PrecioCac__Fecha__5303482E']"
   },
   "outputs": [],
   "source": [
    "ALTER TABLE [dbo].[PrecioCache] ADD  DEFAULT (getdate()) FOR [FechaActualizacion]\n",
    "GO\n"
   ]
  },
  {
   "cell_type": "markdown",
   "metadata": {
    "object_type": "Default",
    "urn": "Server[@Name='Windows10-Pepe']/Database[@Name='CEFEGEN']/Table[@Name='Recibos' and @Schema='dbo']/Column[@Name='Pagado']/Default[@Name='DF__Recibos__Pagado__1E3A7A34']"
   },
   "source": [
    "# [DF__Recibos__Pagado__1E3A7A34]"
   ]
  },
  {
   "cell_type": "code",
   "execution_count": 0,
   "metadata": {
    "object_type": "Default",
    "urn": "Server[@Name='Windows10-Pepe']/Database[@Name='CEFEGEN']/Table[@Name='Recibos' and @Schema='dbo']/Column[@Name='Pagado']/Default[@Name='DF__Recibos__Pagado__1E3A7A34']"
   },
   "outputs": [],
   "source": [
    "ALTER TABLE [dbo].[Recibos] ADD  DEFAULT ((0)) FOR [Pagado]\n",
    "GO\n"
   ]
  },
  {
   "cell_type": "markdown",
   "metadata": {
    "object_type": "Default",
    "urn": "Server[@Name='Windows10-Pepe']/Database[@Name='CEFEGEN']/Table[@Name='ReferenciasPaciente' and @Schema='dbo']/Column[@Name='IdTipoReferencia']/Default[@Name='DF__Referenci__IdTip__2B947552']"
   },
   "source": [
    "# [DF__Referenci__IdTip__2B947552]"
   ]
  },
  {
   "cell_type": "code",
   "execution_count": 0,
   "metadata": {
    "object_type": "Default",
    "urn": "Server[@Name='Windows10-Pepe']/Database[@Name='CEFEGEN']/Table[@Name='ReferenciasPaciente' and @Schema='dbo']/Column[@Name='IdTipoReferencia']/Default[@Name='DF__Referenci__IdTip__2B947552']"
   },
   "outputs": [],
   "source": [
    "ALTER TABLE [dbo].[ReferenciasPaciente] ADD  DEFAULT ((1)) FOR [IdTipoReferencia]\n",
    "GO\n"
   ]
  },
  {
   "cell_type": "markdown",
   "metadata": {
    "object_type": "Default",
    "urn": "Server[@Name='Windows10-Pepe']/Database[@Name='CEFEGEN']/Table[@Name='ReferenciasPaciente' and @Schema='dbo']/Column[@Name='FechaReferencia']/Default[@Name='DF__Referenci__Fecha__2C88998B']"
   },
   "source": [
    "# [DF__Referenci__Fecha__2C88998B]"
   ]
  },
  {
   "cell_type": "code",
   "execution_count": 0,
   "metadata": {
    "object_type": "Default",
    "urn": "Server[@Name='Windows10-Pepe']/Database[@Name='CEFEGEN']/Table[@Name='ReferenciasPaciente' and @Schema='dbo']/Column[@Name='FechaReferencia']/Default[@Name='DF__Referenci__Fecha__2C88998B']"
   },
   "outputs": [],
   "source": [
    "ALTER TABLE [dbo].[ReferenciasPaciente] ADD  DEFAULT (CONVERT([date],getdate())) FOR [FechaReferencia]\n",
    "GO\n"
   ]
  },
  {
   "cell_type": "markdown",
   "metadata": {
    "object_type": "Default",
    "urn": "Server[@Name='Windows10-Pepe']/Database[@Name='CEFEGEN']/Table[@Name='ReglasIncrementoPrecio' and @Schema='dbo']/Column[@Name='PorcentajeIntervinienteLegal']/Default[@Name='DF__ReglasInc__Porce__125EB334']"
   },
   "source": [
    "# [DF__ReglasInc__Porce__125EB334]"
   ]
  },
  {
   "cell_type": "code",
   "execution_count": 0,
   "metadata": {
    "object_type": "Default",
    "urn": "Server[@Name='Windows10-Pepe']/Database[@Name='CEFEGEN']/Table[@Name='ReglasIncrementoPrecio' and @Schema='dbo']/Column[@Name='PorcentajeIntervinienteLegal']/Default[@Name='DF__ReglasInc__Porce__125EB334']"
   },
   "outputs": [],
   "source": [
    "ALTER TABLE [dbo].[ReglasIncrementoPrecio] ADD  DEFAULT ((0)) FOR [PorcentajeIntervinienteLegal]\n",
    "GO\n"
   ]
  },
  {
   "cell_type": "markdown",
   "metadata": {
    "object_type": "Default",
    "urn": "Server[@Name='Windows10-Pepe']/Database[@Name='CEFEGEN']/Table[@Name='ReglasIncrementoPrecio' and @Schema='dbo']/Column[@Name='PorcentajeMuestraLegal']/Default[@Name='DF__ReglasInc__Porce__1352D76D']"
   },
   "source": [
    "# [DF__ReglasInc__Porce__1352D76D]"
   ]
  },
  {
   "cell_type": "code",
   "execution_count": 0,
   "metadata": {
    "object_type": "Default",
    "urn": "Server[@Name='Windows10-Pepe']/Database[@Name='CEFEGEN']/Table[@Name='ReglasIncrementoPrecio' and @Schema='dbo']/Column[@Name='PorcentajeMuestraLegal']/Default[@Name='DF__ReglasInc__Porce__1352D76D']"
   },
   "outputs": [],
   "source": [
    "ALTER TABLE [dbo].[ReglasIncrementoPrecio] ADD  DEFAULT ((0)) FOR [PorcentajeMuestraLegal]\n",
    "GO\n"
   ]
  },
  {
   "cell_type": "markdown",
   "metadata": {
    "object_type": "Default",
    "urn": "Server[@Name='Windows10-Pepe']/Database[@Name='CEFEGEN']/Table[@Name='ReglasIncrementoPrecio' and @Schema='dbo']/Column[@Name='PorcentajeColaborador']/Default[@Name='DF__ReglasInc__Porce__1446FBA6']"
   },
   "source": [
    "# [DF__ReglasInc__Porce__1446FBA6]"
   ]
  },
  {
   "cell_type": "code",
   "execution_count": 0,
   "metadata": {
    "object_type": "Default",
    "urn": "Server[@Name='Windows10-Pepe']/Database[@Name='CEFEGEN']/Table[@Name='ReglasIncrementoPrecio' and @Schema='dbo']/Column[@Name='PorcentajeColaborador']/Default[@Name='DF__ReglasInc__Porce__1446FBA6']"
   },
   "outputs": [],
   "source": [
    "ALTER TABLE [dbo].[ReglasIncrementoPrecio] ADD  DEFAULT ((0)) FOR [PorcentajeColaborador]\n",
    "GO\n"
   ]
  },
  {
   "cell_type": "markdown",
   "metadata": {
    "object_type": "Default",
    "urn": "Server[@Name='Windows10-Pepe']/Database[@Name='CEFEGEN']/Table[@Name='ResultadosAndrologia' and @Schema='dbo']/Column[@Name='FechaRegistro']/Default[@Name='DF__Resultado__Fecha__370627FE']"
   },
   "source": [
    "# [DF__Resultado__Fecha__370627FE]"
   ]
  },
  {
   "cell_type": "code",
   "execution_count": 0,
   "metadata": {
    "object_type": "Default",
    "urn": "Server[@Name='Windows10-Pepe']/Database[@Name='CEFEGEN']/Table[@Name='ResultadosAndrologia' and @Schema='dbo']/Column[@Name='FechaRegistro']/Default[@Name='DF__Resultado__Fecha__370627FE']"
   },
   "outputs": [],
   "source": [
    "ALTER TABLE [dbo].[ResultadosAndrologia] ADD  DEFAULT (getdate()) FOR [FechaRegistro]\n",
    "GO\n"
   ]
  },
  {
   "cell_type": "markdown",
   "metadata": {
    "object_type": "Default",
    "urn": "Server[@Name='Windows10-Pepe']/Database[@Name='CEFEGEN']/Table[@Name='ResultadosAndrologia' and @Schema='dbo']/Column[@Name='EstadoValidacion']/Default[@Name='DF__Resultado__Estad__058EC7FB']"
   },
   "source": [
    "# [DF__Resultado__Estad__058EC7FB]"
   ]
  },
  {
   "cell_type": "code",
   "execution_count": 0,
   "metadata": {
    "object_type": "Default",
    "urn": "Server[@Name='Windows10-Pepe']/Database[@Name='CEFEGEN']/Table[@Name='ResultadosAndrologia' and @Schema='dbo']/Column[@Name='EstadoValidacion']/Default[@Name='DF__Resultado__Estad__058EC7FB']"
   },
   "outputs": [],
   "source": [
    "ALTER TABLE [dbo].[ResultadosAndrologia] ADD  DEFAULT ('Pendiente') FOR [EstadoValidacion]\n",
    "GO\n"
   ]
  },
  {
   "cell_type": "markdown",
   "metadata": {
    "object_type": "Default",
    "urn": "Server[@Name='Windows10-Pepe']/Database[@Name='CEFEGEN']/Table[@Name='ResultadosAndrologia' and @Schema='dbo']/Column[@Name='Notificado']/Default[@Name='DF__Resultado__Notif__4E0988E7']"
   },
   "source": [
    "# [DF__Resultado__Notif__4E0988E7]"
   ]
  },
  {
   "cell_type": "code",
   "execution_count": 0,
   "metadata": {
    "object_type": "Default",
    "urn": "Server[@Name='Windows10-Pepe']/Database[@Name='CEFEGEN']/Table[@Name='ResultadosAndrologia' and @Schema='dbo']/Column[@Name='Notificado']/Default[@Name='DF__Resultado__Notif__4E0988E7']"
   },
   "outputs": [],
   "source": [
    "ALTER TABLE [dbo].[ResultadosAndrologia] ADD  DEFAULT ((0)) FOR [Notificado]\n",
    "GO\n"
   ]
  },
  {
   "cell_type": "markdown",
   "metadata": {
    "object_type": "Default",
    "urn": "Server[@Name='Windows10-Pepe']/Database[@Name='CEFEGEN']/Table[@Name='ResultadosAndrologia' and @Schema='dbo']/Column[@Name='EstadoValidacionFinal']/Default[@Name='DF__Resultado__Estad__5A6F5FCC']"
   },
   "source": [
    "# [DF__Resultado__Estad__5A6F5FCC]"
   ]
  },
  {
   "cell_type": "code",
   "execution_count": 0,
   "metadata": {
    "object_type": "Default",
    "urn": "Server[@Name='Windows10-Pepe']/Database[@Name='CEFEGEN']/Table[@Name='ResultadosAndrologia' and @Schema='dbo']/Column[@Name='EstadoValidacionFinal']/Default[@Name='DF__Resultado__Estad__5A6F5FCC']"
   },
   "outputs": [],
   "source": [
    "ALTER TABLE [dbo].[ResultadosAndrologia] ADD  DEFAULT ('Pendiente') FOR [EstadoValidacionFinal]\n",
    "GO\n"
   ]
  },
  {
   "cell_type": "markdown",
   "metadata": {
    "object_type": "Default",
    "urn": "Server[@Name='Windows10-Pepe']/Database[@Name='CEFEGEN']/Table[@Name='ResultadosCitogenetica' and @Schema='dbo']/Column[@Name='FechaRegistro']/Default[@Name='DF__Resultado__Fecha__4183B671']"
   },
   "source": [
    "# [DF__Resultado__Fecha__4183B671]"
   ]
  },
  {
   "cell_type": "code",
   "execution_count": 0,
   "metadata": {
    "object_type": "Default",
    "urn": "Server[@Name='Windows10-Pepe']/Database[@Name='CEFEGEN']/Table[@Name='ResultadosCitogenetica' and @Schema='dbo']/Column[@Name='FechaRegistro']/Default[@Name='DF__Resultado__Fecha__4183B671']"
   },
   "outputs": [],
   "source": [
    "ALTER TABLE [dbo].[ResultadosCitogenetica] ADD  DEFAULT (getdate()) FOR [FechaRegistro]\n",
    "GO\n"
   ]
  },
  {
   "cell_type": "markdown",
   "metadata": {
    "object_type": "Default",
    "urn": "Server[@Name='Windows10-Pepe']/Database[@Name='CEFEGEN']/Table[@Name='ResultadosCitogenetica' and @Schema='dbo']/Column[@Name='EstadoValidacion']/Default[@Name='DF__Resultado__Estad__03A67F89']"
   },
   "source": [
    "# [DF__Resultado__Estad__03A67F89]"
   ]
  },
  {
   "cell_type": "code",
   "execution_count": 0,
   "metadata": {
    "object_type": "Default",
    "urn": "Server[@Name='Windows10-Pepe']/Database[@Name='CEFEGEN']/Table[@Name='ResultadosCitogenetica' and @Schema='dbo']/Column[@Name='EstadoValidacion']/Default[@Name='DF__Resultado__Estad__03A67F89']"
   },
   "outputs": [],
   "source": [
    "ALTER TABLE [dbo].[ResultadosCitogenetica] ADD  DEFAULT ('Pendiente') FOR [EstadoValidacion]\n",
    "GO\n"
   ]
  },
  {
   "cell_type": "markdown",
   "metadata": {
    "object_type": "Default",
    "urn": "Server[@Name='Windows10-Pepe']/Database[@Name='CEFEGEN']/Table[@Name='ResultadosCitogenetica' and @Schema='dbo']/Column[@Name='Notificado']/Default[@Name='DF__Resultado__Notif__4C214075']"
   },
   "source": [
    "# [DF__Resultado__Notif__4C214075]"
   ]
  },
  {
   "cell_type": "code",
   "execution_count": 0,
   "metadata": {
    "object_type": "Default",
    "urn": "Server[@Name='Windows10-Pepe']/Database[@Name='CEFEGEN']/Table[@Name='ResultadosCitogenetica' and @Schema='dbo']/Column[@Name='Notificado']/Default[@Name='DF__Resultado__Notif__4C214075']"
   },
   "outputs": [],
   "source": [
    "ALTER TABLE [dbo].[ResultadosCitogenetica] ADD  DEFAULT ((0)) FOR [Notificado]\n",
    "GO\n"
   ]
  },
  {
   "cell_type": "markdown",
   "metadata": {
    "object_type": "Default",
    "urn": "Server[@Name='Windows10-Pepe']/Database[@Name='CEFEGEN']/Table[@Name='ResultadosCitogenetica' and @Schema='dbo']/Column[@Name='EstadoValidacionFinal']/Default[@Name='DF__Resultado__Estad__5887175A']"
   },
   "source": [
    "# [DF__Resultado__Estad__5887175A]"
   ]
  },
  {
   "cell_type": "code",
   "execution_count": 0,
   "metadata": {
    "object_type": "Default",
    "urn": "Server[@Name='Windows10-Pepe']/Database[@Name='CEFEGEN']/Table[@Name='ResultadosCitogenetica' and @Schema='dbo']/Column[@Name='EstadoValidacionFinal']/Default[@Name='DF__Resultado__Estad__5887175A']"
   },
   "outputs": [],
   "source": [
    "ALTER TABLE [dbo].[ResultadosCitogenetica] ADD  DEFAULT ('Pendiente') FOR [EstadoValidacionFinal]\n",
    "GO\n"
   ]
  },
  {
   "cell_type": "markdown",
   "metadata": {
    "object_type": "Default",
    "urn": "Server[@Name='Windows10-Pepe']/Database[@Name='CEFEGEN']/Table[@Name='ResultadosGenetica' and @Schema='dbo']/Column[@Name='FechaRegistro']/Default[@Name='DF__Resultado__Fecha__3CBF0154']"
   },
   "source": [
    "# [DF__Resultado__Fecha__3CBF0154]"
   ]
  },
  {
   "cell_type": "code",
   "execution_count": 0,
   "metadata": {
    "object_type": "Default",
    "urn": "Server[@Name='Windows10-Pepe']/Database[@Name='CEFEGEN']/Table[@Name='ResultadosGenetica' and @Schema='dbo']/Column[@Name='FechaRegistro']/Default[@Name='DF__Resultado__Fecha__3CBF0154']"
   },
   "outputs": [],
   "source": [
    "ALTER TABLE [dbo].[ResultadosGenetica] ADD  DEFAULT (getdate()) FOR [FechaRegistro]\n",
    "GO\n"
   ]
  },
  {
   "cell_type": "markdown",
   "metadata": {
    "object_type": "Default",
    "urn": "Server[@Name='Windows10-Pepe']/Database[@Name='CEFEGEN']/Table[@Name='ResultadosGenetica' and @Schema='dbo']/Column[@Name='EstadoValidacion']/Default[@Name='DF__Resultado__Estad__01BE3717']"
   },
   "source": [
    "# [DF__Resultado__Estad__01BE3717]"
   ]
  },
  {
   "cell_type": "code",
   "execution_count": 0,
   "metadata": {
    "object_type": "Default",
    "urn": "Server[@Name='Windows10-Pepe']/Database[@Name='CEFEGEN']/Table[@Name='ResultadosGenetica' and @Schema='dbo']/Column[@Name='EstadoValidacion']/Default[@Name='DF__Resultado__Estad__01BE3717']"
   },
   "outputs": [],
   "source": [
    "ALTER TABLE [dbo].[ResultadosGenetica] ADD  DEFAULT ('Pendiente') FOR [EstadoValidacion]\n",
    "GO\n"
   ]
  },
  {
   "cell_type": "markdown",
   "metadata": {
    "object_type": "Default",
    "urn": "Server[@Name='Windows10-Pepe']/Database[@Name='CEFEGEN']/Table[@Name='ResultadosGenetica' and @Schema='dbo']/Column[@Name='Notificado']/Default[@Name='DF__Resultado__Notif__4A38F803']"
   },
   "source": [
    "# [DF__Resultado__Notif__4A38F803]"
   ]
  },
  {
   "cell_type": "code",
   "execution_count": 0,
   "metadata": {
    "object_type": "Default",
    "urn": "Server[@Name='Windows10-Pepe']/Database[@Name='CEFEGEN']/Table[@Name='ResultadosGenetica' and @Schema='dbo']/Column[@Name='Notificado']/Default[@Name='DF__Resultado__Notif__4A38F803']"
   },
   "outputs": [],
   "source": [
    "ALTER TABLE [dbo].[ResultadosGenetica] ADD  DEFAULT ((0)) FOR [Notificado]\n",
    "GO\n"
   ]
  },
  {
   "cell_type": "markdown",
   "metadata": {
    "object_type": "Default",
    "urn": "Server[@Name='Windows10-Pepe']/Database[@Name='CEFEGEN']/Table[@Name='ResultadosGenetica' and @Schema='dbo']/Column[@Name='EstadoValidacionFinal']/Default[@Name='DF__Resultado__Estad__569ECEE8']"
   },
   "source": [
    "# [DF__Resultado__Estad__569ECEE8]"
   ]
  },
  {
   "cell_type": "code",
   "execution_count": 0,
   "metadata": {
    "object_type": "Default",
    "urn": "Server[@Name='Windows10-Pepe']/Database[@Name='CEFEGEN']/Table[@Name='ResultadosGenetica' and @Schema='dbo']/Column[@Name='EstadoValidacionFinal']/Default[@Name='DF__Resultado__Estad__569ECEE8']"
   },
   "outputs": [],
   "source": [
    "ALTER TABLE [dbo].[ResultadosGenetica] ADD  DEFAULT ('Pendiente') FOR [EstadoValidacionFinal]\n",
    "GO\n"
   ]
  },
  {
   "cell_type": "markdown",
   "metadata": {
    "object_type": "Default",
    "urn": "Server[@Name='Windows10-Pepe']/Database[@Name='CEFEGEN']/Table[@Name='ResultadosParentesco' and @Schema='dbo']/Column[@Name='FechaRegistro']/Default[@Name='DF__Resultado__Fecha__46486B8E']"
   },
   "source": [
    "# [DF__Resultado__Fecha__46486B8E]"
   ]
  },
  {
   "cell_type": "code",
   "execution_count": 0,
   "metadata": {
    "object_type": "Default",
    "urn": "Server[@Name='Windows10-Pepe']/Database[@Name='CEFEGEN']/Table[@Name='ResultadosParentesco' and @Schema='dbo']/Column[@Name='FechaRegistro']/Default[@Name='DF__Resultado__Fecha__46486B8E']"
   },
   "outputs": [],
   "source": [
    "ALTER TABLE [dbo].[ResultadosParentesco] ADD  DEFAULT (getdate()) FOR [FechaRegistro]\n",
    "GO\n"
   ]
  },
  {
   "cell_type": "markdown",
   "metadata": {
    "object_type": "Default",
    "urn": "Server[@Name='Windows10-Pepe']/Database[@Name='CEFEGEN']/Table[@Name='ResultadosParentesco' and @Schema='dbo']/Column[@Name='EstadoValidacion']/Default[@Name='DF__Resultado__Estad__7FD5EEA5']"
   },
   "source": [
    "# [DF__Resultado__Estad__7FD5EEA5]"
   ]
  },
  {
   "cell_type": "code",
   "execution_count": 0,
   "metadata": {
    "object_type": "Default",
    "urn": "Server[@Name='Windows10-Pepe']/Database[@Name='CEFEGEN']/Table[@Name='ResultadosParentesco' and @Schema='dbo']/Column[@Name='EstadoValidacion']/Default[@Name='DF__Resultado__Estad__7FD5EEA5']"
   },
   "outputs": [],
   "source": [
    "ALTER TABLE [dbo].[ResultadosParentesco] ADD  DEFAULT ('Pendiente') FOR [EstadoValidacion]\n",
    "GO\n"
   ]
  },
  {
   "cell_type": "markdown",
   "metadata": {
    "object_type": "Default",
    "urn": "Server[@Name='Windows10-Pepe']/Database[@Name='CEFEGEN']/Table[@Name='ResultadosParentesco' and @Schema='dbo']/Column[@Name='Notificado']/Default[@Name='DF__Resultado__Notif__4850AF91']"
   },
   "source": [
    "# [DF__Resultado__Notif__4850AF91]"
   ]
  },
  {
   "cell_type": "code",
   "execution_count": 0,
   "metadata": {
    "object_type": "Default",
    "urn": "Server[@Name='Windows10-Pepe']/Database[@Name='CEFEGEN']/Table[@Name='ResultadosParentesco' and @Schema='dbo']/Column[@Name='Notificado']/Default[@Name='DF__Resultado__Notif__4850AF91']"
   },
   "outputs": [],
   "source": [
    "ALTER TABLE [dbo].[ResultadosParentesco] ADD  DEFAULT ((0)) FOR [Notificado]\n",
    "GO\n"
   ]
  },
  {
   "cell_type": "markdown",
   "metadata": {
    "object_type": "Default",
    "urn": "Server[@Name='Windows10-Pepe']/Database[@Name='CEFEGEN']/Table[@Name='ResultadosParentesco' and @Schema='dbo']/Column[@Name='EstadoValidacionFinal']/Default[@Name='DF__Resultado__Estad__54B68676']"
   },
   "source": [
    "# [DF__Resultado__Estad__54B68676]"
   ]
  },
  {
   "cell_type": "code",
   "execution_count": 0,
   "metadata": {
    "object_type": "Default",
    "urn": "Server[@Name='Windows10-Pepe']/Database[@Name='CEFEGEN']/Table[@Name='ResultadosParentesco' and @Schema='dbo']/Column[@Name='EstadoValidacionFinal']/Default[@Name='DF__Resultado__Estad__54B68676']"
   },
   "outputs": [],
   "source": [
    "ALTER TABLE [dbo].[ResultadosParentesco] ADD  DEFAULT ('Pendiente') FOR [EstadoValidacionFinal]\n",
    "GO\n"
   ]
  },
  {
   "cell_type": "markdown",
   "metadata": {
    "object_type": "Default",
    "urn": "Server[@Name='Windows10-Pepe']/Database[@Name='CEFEGEN']/Table[@Name='Solicitantes' and @Schema='dbo']/Column[@Name='IdTipoReferencia']/Default[@Name='DF_Solicitantes_IdTipo']"
   },
   "source": [
    "# [DF_Solicitantes_IdTipo]"
   ]
  },
  {
   "cell_type": "code",
   "execution_count": 0,
   "metadata": {
    "object_type": "Default",
    "urn": "Server[@Name='Windows10-Pepe']/Database[@Name='CEFEGEN']/Table[@Name='Solicitantes' and @Schema='dbo']/Column[@Name='IdTipoReferencia']/Default[@Name='DF_Solicitantes_IdTipo']"
   },
   "outputs": [],
   "source": [
    "ALTER TABLE [dbo].[Solicitantes] ADD  CONSTRAINT [DF_Solicitantes_IdTipo]  DEFAULT ((1)) FOR [IdTipoReferencia]\n",
    "GO\n"
   ]
  },
  {
   "cell_type": "markdown",
   "metadata": {
    "object_type": "Default",
    "urn": "Server[@Name='Windows10-Pepe']/Database[@Name='CEFEGEN']/Table[@Name='Solicitantes' and @Schema='dbo']/Column[@Name='FechaAlta']/Default[@Name='DF_Solicitantes_Fecha']"
   },
   "source": [
    "# [DF_Solicitantes_Fecha]"
   ]
  },
  {
   "cell_type": "code",
   "execution_count": 0,
   "metadata": {
    "object_type": "Default",
    "urn": "Server[@Name='Windows10-Pepe']/Database[@Name='CEFEGEN']/Table[@Name='Solicitantes' and @Schema='dbo']/Column[@Name='FechaAlta']/Default[@Name='DF_Solicitantes_Fecha']"
   },
   "outputs": [],
   "source": [
    "ALTER TABLE [dbo].[Solicitantes] ADD  CONSTRAINT [DF_Solicitantes_Fecha]  DEFAULT (CONVERT([date],getdate())) FOR [FechaAlta]\n",
    "GO\n"
   ]
  },
  {
   "cell_type": "markdown",
   "metadata": {
    "object_type": "Default",
    "urn": "Server[@Name='Windows10-Pepe']/Database[@Name='CEFEGEN']/Table[@Name='Solicitantes' and @Schema='dbo']/Column[@Name='AutorizaEnvioResultados']/Default[@Name='DF_Solicitantes_Autor']"
   },
   "source": [
    "# [DF_Solicitantes_Autor]"
   ]
  },
  {
   "cell_type": "code",
   "execution_count": 0,
   "metadata": {
    "object_type": "Default",
    "urn": "Server[@Name='Windows10-Pepe']/Database[@Name='CEFEGEN']/Table[@Name='Solicitantes' and @Schema='dbo']/Column[@Name='AutorizaEnvioResultados']/Default[@Name='DF_Solicitantes_Autor']"
   },
   "outputs": [],
   "source": [
    "ALTER TABLE [dbo].[Solicitantes] ADD  CONSTRAINT [DF_Solicitantes_Autor]  DEFAULT ((0)) FOR [AutorizaEnvioResultados]\n",
    "GO\n"
   ]
  },
  {
   "cell_type": "markdown",
   "metadata": {
    "object_type": "Default",
    "urn": "Server[@Name='Windows10-Pepe']/Database[@Name='CEFEGEN']/Table[@Name='Solicitantes' and @Schema='dbo']/Column[@Name='Bloquear']/Default[@Name='DF_Solicitantes_Bloqueo']"
   },
   "source": [
    "# [DF_Solicitantes_Bloqueo]"
   ]
  },
  {
   "cell_type": "code",
   "execution_count": 0,
   "metadata": {
    "object_type": "Default",
    "urn": "Server[@Name='Windows10-Pepe']/Database[@Name='CEFEGEN']/Table[@Name='Solicitantes' and @Schema='dbo']/Column[@Name='Bloquear']/Default[@Name='DF_Solicitantes_Bloqueo']"
   },
   "outputs": [],
   "source": [
    "ALTER TABLE [dbo].[Solicitantes] ADD  CONSTRAINT [DF_Solicitantes_Bloqueo]  DEFAULT ((0)) FOR [Bloquear]\n",
    "GO\n"
   ]
  },
  {
   "cell_type": "markdown",
   "metadata": {
    "object_type": "Default",
    "urn": "Server[@Name='Windows10-Pepe']/Database[@Name='CEFEGEN']/Table[@Name='Solicitantes' and @Schema='dbo']/Column[@Name='Nollamar']/Default[@Name='DF_Solicitantes_Nolla']"
   },
   "source": [
    "# [DF_Solicitantes_Nolla]"
   ]
  },
  {
   "cell_type": "code",
   "execution_count": 0,
   "metadata": {
    "object_type": "Default",
    "urn": "Server[@Name='Windows10-Pepe']/Database[@Name='CEFEGEN']/Table[@Name='Solicitantes' and @Schema='dbo']/Column[@Name='Nollamar']/Default[@Name='DF_Solicitantes_Nolla']"
   },
   "outputs": [],
   "source": [
    "ALTER TABLE [dbo].[Solicitantes] ADD  CONSTRAINT [DF_Solicitantes_Nolla]  DEFAULT ((1)) FOR [Nollamar]\n",
    "GO\n"
   ]
  },
  {
   "cell_type": "markdown",
   "metadata": {
    "object_type": "Default",
    "urn": "Server[@Name='Windows10-Pepe']/Database[@Name='CEFEGEN']/Table[@Name='Solicitantes' and @Schema='dbo']/Column[@Name='EnviarEmail']/Default[@Name='DF_Solicitantes_Envio1']"
   },
   "source": [
    "# [DF_Solicitantes_Envio1]"
   ]
  },
  {
   "cell_type": "code",
   "execution_count": 0,
   "metadata": {
    "object_type": "Default",
    "urn": "Server[@Name='Windows10-Pepe']/Database[@Name='CEFEGEN']/Table[@Name='Solicitantes' and @Schema='dbo']/Column[@Name='EnviarEmail']/Default[@Name='DF_Solicitantes_Envio1']"
   },
   "outputs": [],
   "source": [
    "ALTER TABLE [dbo].[Solicitantes] ADD  CONSTRAINT [DF_Solicitantes_Envio1]  DEFAULT ((1)) FOR [EnviarEmail]\n",
    "GO\n"
   ]
  },
  {
   "cell_type": "markdown",
   "metadata": {
    "object_type": "Default",
    "urn": "Server[@Name='Windows10-Pepe']/Database[@Name='CEFEGEN']/Table[@Name='Solicitantes' and @Schema='dbo']/Column[@Name='EnviarEmailPet']/Default[@Name='DF_Solicitantes_Envio2']"
   },
   "source": [
    "# [DF_Solicitantes_Envio2]"
   ]
  },
  {
   "cell_type": "code",
   "execution_count": 0,
   "metadata": {
    "object_type": "Default",
    "urn": "Server[@Name='Windows10-Pepe']/Database[@Name='CEFEGEN']/Table[@Name='Solicitantes' and @Schema='dbo']/Column[@Name='EnviarEmailPet']/Default[@Name='DF_Solicitantes_Envio2']"
   },
   "outputs": [],
   "source": [
    "ALTER TABLE [dbo].[Solicitantes] ADD  CONSTRAINT [DF_Solicitantes_Envio2]  DEFAULT ((0)) FOR [EnviarEmailPet]\n",
    "GO\n"
   ]
  },
  {
   "cell_type": "markdown",
   "metadata": {
    "object_type": "Default",
    "urn": "Server[@Name='Windows10-Pepe']/Database[@Name='CEFEGEN']/Table[@Name='Solicitantes' and @Schema='dbo']/Column[@Name='EnviarEmailFac']/Default[@Name='DF_Solicitantes_Envio3']"
   },
   "source": [
    "# [DF_Solicitantes_Envio3]"
   ]
  },
  {
   "cell_type": "code",
   "execution_count": 0,
   "metadata": {
    "object_type": "Default",
    "urn": "Server[@Name='Windows10-Pepe']/Database[@Name='CEFEGEN']/Table[@Name='Solicitantes' and @Schema='dbo']/Column[@Name='EnviarEmailFac']/Default[@Name='DF_Solicitantes_Envio3']"
   },
   "outputs": [],
   "source": [
    "ALTER TABLE [dbo].[Solicitantes] ADD  CONSTRAINT [DF_Solicitantes_Envio3]  DEFAULT ((0)) FOR [EnviarEmailFac]\n",
    "GO\n"
   ]
  },
  {
   "cell_type": "markdown",
   "metadata": {
    "object_type": "Default",
    "urn": "Server[@Name='Windows10-Pepe']/Database[@Name='CEFEGEN']/Table[@Name='Solicitantes' and @Schema='dbo']/Column[@Name='EnviarEmailNotif']/Default[@Name='DF_Solicitantes_Envio4']"
   },
   "source": [
    "# [DF_Solicitantes_Envio4]"
   ]
  },
  {
   "cell_type": "code",
   "execution_count": 0,
   "metadata": {
    "object_type": "Default",
    "urn": "Server[@Name='Windows10-Pepe']/Database[@Name='CEFEGEN']/Table[@Name='Solicitantes' and @Schema='dbo']/Column[@Name='EnviarEmailNotif']/Default[@Name='DF_Solicitantes_Envio4']"
   },
   "outputs": [],
   "source": [
    "ALTER TABLE [dbo].[Solicitantes] ADD  CONSTRAINT [DF_Solicitantes_Envio4]  DEFAULT ((0)) FOR [EnviarEmailNotif]\n",
    "GO\n"
   ]
  },
  {
   "cell_type": "markdown",
   "metadata": {
    "object_type": "Default",
    "urn": "Server[@Name='Windows10-Pepe']/Database[@Name='CEFEGEN']/Table[@Name='Solicitantes' and @Schema='dbo']/Column[@Name='IdIdiomaPreferido']/Default[@Name='DF_Solicitantes_IdIdiomaPreferido']"
   },
   "source": [
    "# [DF_Solicitantes_IdIdiomaPreferido]"
   ]
  },
  {
   "cell_type": "code",
   "execution_count": 0,
   "metadata": {
    "object_type": "Default",
    "urn": "Server[@Name='Windows10-Pepe']/Database[@Name='CEFEGEN']/Table[@Name='Solicitantes' and @Schema='dbo']/Column[@Name='IdIdiomaPreferido']/Default[@Name='DF_Solicitantes_IdIdiomaPreferido']"
   },
   "outputs": [],
   "source": [
    "ALTER TABLE [dbo].[Solicitantes] ADD  CONSTRAINT [DF_Solicitantes_IdIdiomaPreferido]  DEFAULT ('ES') FOR [IdIdiomaPreferido]\n",
    "GO\n"
   ]
  },
  {
   "cell_type": "markdown",
   "metadata": {
    "object_type": "Default",
    "urn": "Server[@Name='Windows10-Pepe']/Database[@Name='CEFEGEN']/Table[@Name='Solicitantes' and @Schema='dbo']/Column[@Name='AutorizaPortal']/Default[@Name='DF__Solicitan__Autor__737017C0']"
   },
   "source": [
    "# [DF__Solicitan__Autor__737017C0]"
   ]
  },
  {
   "cell_type": "code",
   "execution_count": 0,
   "metadata": {
    "object_type": "Default",
    "urn": "Server[@Name='Windows10-Pepe']/Database[@Name='CEFEGEN']/Table[@Name='Solicitantes' and @Schema='dbo']/Column[@Name='AutorizaPortal']/Default[@Name='DF__Solicitan__Autor__737017C0']"
   },
   "outputs": [],
   "source": [
    "ALTER TABLE [dbo].[Solicitantes] ADD  DEFAULT ((0)) FOR [AutorizaPortal]\n",
    "GO\n"
   ]
  },
  {
   "cell_type": "markdown",
   "metadata": {
    "object_type": "Default",
    "urn": "Server[@Name='Windows10-Pepe']/Database[@Name='CEFEGEN']/Table[@Name='Solicitantes' and @Schema='dbo']/Column[@Name='PrefiereSMS']/Default[@Name='DF__Solicitan__Prefi__25FB978D']"
   },
   "source": [
    "# [DF__Solicitan__Prefi__25FB978D]"
   ]
  },
  {
   "cell_type": "code",
   "execution_count": 0,
   "metadata": {
    "object_type": "Default",
    "urn": "Server[@Name='Windows10-Pepe']/Database[@Name='CEFEGEN']/Table[@Name='Solicitantes' and @Schema='dbo']/Column[@Name='PrefiereSMS']/Default[@Name='DF__Solicitan__Prefi__25FB978D']"
   },
   "outputs": [],
   "source": [
    "ALTER TABLE [dbo].[Solicitantes] ADD  DEFAULT ((0)) FOR [PrefiereSMS]\n",
    "GO\n"
   ]
  },
  {
   "cell_type": "markdown",
   "metadata": {
    "object_type": "Default",
    "urn": "Server[@Name='Windows10-Pepe']/Database[@Name='CEFEGEN']/Table[@Name='Solicitantes' and @Schema='dbo']/Column[@Name='RepresentanteLegal']/Default[@Name='DF__Solicitan__Repre__3A02903A']"
   },
   "source": [
    "# [DF__Solicitan__Repre__3A02903A]"
   ]
  },
  {
   "cell_type": "code",
   "execution_count": 0,
   "metadata": {
    "object_type": "Default",
    "urn": "Server[@Name='Windows10-Pepe']/Database[@Name='CEFEGEN']/Table[@Name='Solicitantes' and @Schema='dbo']/Column[@Name='RepresentanteLegal']/Default[@Name='DF__Solicitan__Repre__3A02903A']"
   },
   "outputs": [],
   "source": [
    "ALTER TABLE [dbo].[Solicitantes] ADD  DEFAULT ((1)) FOR [RepresentanteLegal]\n",
    "GO\n"
   ]
  },
  {
   "cell_type": "markdown",
   "metadata": {
    "object_type": "Default",
    "urn": "Server[@Name='Windows10-Pepe']/Database[@Name='CEFEGEN']/Table[@Name='Solicitudes' and @Schema='dbo']/Column[@Name='FechaSolicitud']/Default[@Name='DF__Solicitud__Fecha__15702A09']"
   },
   "source": [
    "# [DF__Solicitud__Fecha__15702A09]"
   ]
  },
  {
   "cell_type": "code",
   "execution_count": 0,
   "metadata": {
    "object_type": "Default",
    "urn": "Server[@Name='Windows10-Pepe']/Database[@Name='CEFEGEN']/Table[@Name='Solicitudes' and @Schema='dbo']/Column[@Name='FechaSolicitud']/Default[@Name='DF__Solicitud__Fecha__15702A09']"
   },
   "outputs": [],
   "source": [
    "ALTER TABLE [dbo].[Solicitudes] ADD  DEFAULT (getdate()) FOR [FechaSolicitud]\n",
    "GO\n"
   ]
  },
  {
   "cell_type": "markdown",
   "metadata": {
    "object_type": "Default",
    "urn": "Server[@Name='Windows10-Pepe']/Database[@Name='CEFEGEN']/Table[@Name='Solicitudes' and @Schema='dbo']/Column[@Name='IdFormaEntrega']/Default[@Name='DF_Solicitudes_IdFormaEntrega']"
   },
   "source": [
    "# [DF_Solicitudes_IdFormaEntrega]"
   ]
  },
  {
   "cell_type": "code",
   "execution_count": 0,
   "metadata": {
    "object_type": "Default",
    "urn": "Server[@Name='Windows10-Pepe']/Database[@Name='CEFEGEN']/Table[@Name='Solicitudes' and @Schema='dbo']/Column[@Name='IdFormaEntrega']/Default[@Name='DF_Solicitudes_IdFormaEntrega']"
   },
   "outputs": [],
   "source": [
    "ALTER TABLE [dbo].[Solicitudes] ADD  CONSTRAINT [DF_Solicitudes_IdFormaEntrega]  DEFAULT ((1)) FOR [IdFormaEntrega]\n",
    "GO\n"
   ]
  },
  {
   "cell_type": "markdown",
   "metadata": {
    "object_type": "Default",
    "urn": "Server[@Name='Windows10-Pepe']/Database[@Name='CEFEGEN']/Table[@Name='Solicitudes' and @Schema='dbo']/Column[@Name='CodigoSolicitud']/Default[@Name='DF_Solicitudes_CodigoSolicitud']"
   },
   "source": [
    "# [DF_Solicitudes_CodigoSolicitud]"
   ]
  },
  {
   "cell_type": "code",
   "execution_count": 0,
   "metadata": {
    "object_type": "Default",
    "urn": "Server[@Name='Windows10-Pepe']/Database[@Name='CEFEGEN']/Table[@Name='Solicitudes' and @Schema='dbo']/Column[@Name='CodigoSolicitud']/Default[@Name='DF_Solicitudes_CodigoSolicitud']"
   },
   "outputs": [],
   "source": [
    "ALTER TABLE [dbo].[Solicitudes] ADD  CONSTRAINT [DF_Solicitudes_CodigoSolicitud]  DEFAULT (NEXT VALUE FOR [dbo].[SEQ_CodigoSolicitud]) FOR [CodigoSolicitud]\n",
    "GO\n"
   ]
  },
  {
   "cell_type": "markdown",
   "metadata": {
    "object_type": "Default",
    "urn": "Server[@Name='Windows10-Pepe']/Database[@Name='CEFEGEN']/Table[@Name='Solicitudes' and @Schema='dbo']/Column[@Name='EstadoBit']/Default[@Name='DF__Solicitud__Estad__2942188C']"
   },
   "source": [
    "# [DF__Solicitud__Estad__2942188C]"
   ]
  },
  {
   "cell_type": "code",
   "execution_count": 0,
   "metadata": {
    "object_type": "Default",
    "urn": "Server[@Name='Windows10-Pepe']/Database[@Name='CEFEGEN']/Table[@Name='Solicitudes' and @Schema='dbo']/Column[@Name='EstadoBit']/Default[@Name='DF__Solicitud__Estad__2942188C']"
   },
   "outputs": [],
   "source": [
    "ALTER TABLE [dbo].[Solicitudes] ADD  DEFAULT ((0)) FOR [EstadoBit]\n",
    "GO\n"
   ]
  },
  {
   "cell_type": "markdown",
   "metadata": {
    "object_type": "Default",
    "urn": "Server[@Name='Windows10-Pepe']/Database[@Name='CEFEGEN']/Table[@Name='Solicitudes' and @Schema='dbo']/Column[@Name='EsForense']/Default[@Name='DF__Solicitud__EsFor__07AC1A97']"
   },
   "source": [
    "# [DF__Solicitud__EsFor__07AC1A97]"
   ]
  },
  {
   "cell_type": "code",
   "execution_count": 0,
   "metadata": {
    "object_type": "Default",
    "urn": "Server[@Name='Windows10-Pepe']/Database[@Name='CEFEGEN']/Table[@Name='Solicitudes' and @Schema='dbo']/Column[@Name='EsForense']/Default[@Name='DF__Solicitud__EsFor__07AC1A97']"
   },
   "outputs": [],
   "source": [
    "ALTER TABLE [dbo].[Solicitudes] ADD  DEFAULT ((0)) FOR [EsForense]\n",
    "GO\n"
   ]
  },
  {
   "cell_type": "markdown",
   "metadata": {
    "object_type": "Default",
    "urn": "Server[@Name='Windows10-Pepe']/Database[@Name='CEFEGEN']/Table[@Name='Solicitudes' and @Schema='dbo']/Column[@Name='IdEstado']/Default[@Name='DF__Solicitud__IdEst__347EC10E']"
   },
   "source": [
    "# [DF__Solicitud__IdEst__347EC10E]"
   ]
  },
  {
   "cell_type": "code",
   "execution_count": 0,
   "metadata": {
    "object_type": "Default",
    "urn": "Server[@Name='Windows10-Pepe']/Database[@Name='CEFEGEN']/Table[@Name='Solicitudes' and @Schema='dbo']/Column[@Name='IdEstado']/Default[@Name='DF__Solicitud__IdEst__347EC10E']"
   },
   "outputs": [],
   "source": [
    "ALTER TABLE [dbo].[Solicitudes] ADD  DEFAULT ((1)) FOR [IdEstado]\n",
    "GO\n"
   ]
  },
  {
   "cell_type": "markdown",
   "metadata": {
    "object_type": "Default",
    "urn": "Server[@Name='Windows10-Pepe']/Database[@Name='CEFEGEN']/Table[@Name='Solicitudes' and @Schema='dbo']/Column[@Name='EstadoResultados']/Default[@Name='DF__Solicitud__Estad__51DA19CB']"
   },
   "source": [
    "# [DF__Solicitud__Estad__51DA19CB]"
   ]
  },
  {
   "cell_type": "code",
   "execution_count": 0,
   "metadata": {
    "object_type": "Default",
    "urn": "Server[@Name='Windows10-Pepe']/Database[@Name='CEFEGEN']/Table[@Name='Solicitudes' and @Schema='dbo']/Column[@Name='EstadoResultados']/Default[@Name='DF__Solicitud__Estad__51DA19CB']"
   },
   "outputs": [],
   "source": [
    "ALTER TABLE [dbo].[Solicitudes] ADD  DEFAULT ('Pendiente') FOR [EstadoResultados]\n",
    "GO\n"
   ]
  },
  {
   "cell_type": "markdown",
   "metadata": {
    "object_type": "Default",
    "urn": "Server[@Name='Windows10-Pepe']/Database[@Name='CEFEGEN']/Table[@Name='SolicitudesSolicitantes' and @Schema='dbo']/Column[@Name='EsInterviniente']/Default[@Name='DF__Solicitud__EsInt__664B26CC']"
   },
   "source": [
    "# [DF__Solicitud__EsInt__664B26CC]"
   ]
  },
  {
   "cell_type": "code",
   "execution_count": 0,
   "metadata": {
    "object_type": "Default",
    "urn": "Server[@Name='Windows10-Pepe']/Database[@Name='CEFEGEN']/Table[@Name='SolicitudesSolicitantes' and @Schema='dbo']/Column[@Name='EsInterviniente']/Default[@Name='DF__Solicitud__EsInt__664B26CC']"
   },
   "outputs": [],
   "source": [
    "ALTER TABLE [dbo].[SolicitudesSolicitantes] ADD  DEFAULT ((0)) FOR [EsInterviniente]\n",
    "GO\n"
   ]
  },
  {
   "cell_type": "markdown",
   "metadata": {
    "object_type": "Default",
    "urn": "Server[@Name='Windows10-Pepe']/Database[@Name='CEFEGEN']/Table[@Name='TarifasBase' and @Schema='dbo']/Column[@Name='PrecioPorInterviniente']/Default[@Name='DF__TarifasBa__Preci__190BB0C3']"
   },
   "source": [
    "# [DF__TarifasBa__Preci__190BB0C3]"
   ]
  },
  {
   "cell_type": "code",
   "execution_count": 0,
   "metadata": {
    "object_type": "Default",
    "urn": "Server[@Name='Windows10-Pepe']/Database[@Name='CEFEGEN']/Table[@Name='TarifasBase' and @Schema='dbo']/Column[@Name='PrecioPorInterviniente']/Default[@Name='DF__TarifasBa__Preci__190BB0C3']"
   },
   "outputs": [],
   "source": [
    "ALTER TABLE [dbo].[TarifasBase] ADD  DEFAULT ((0)) FOR [PrecioPorInterviniente]\n",
    "GO\n"
   ]
  },
  {
   "cell_type": "markdown",
   "metadata": {
    "object_type": "Default",
    "urn": "Server[@Name='Windows10-Pepe']/Database[@Name='CEFEGEN']/Table[@Name='TarifasBase' and @Schema='dbo']/Column[@Name='PrecioPorMuestra']/Default[@Name='DF__TarifasBa__Preci__19FFD4FC']"
   },
   "source": [
    "# [DF__TarifasBa__Preci__19FFD4FC]"
   ]
  },
  {
   "cell_type": "code",
   "execution_count": 0,
   "metadata": {
    "object_type": "Default",
    "urn": "Server[@Name='Windows10-Pepe']/Database[@Name='CEFEGEN']/Table[@Name='TarifasBase' and @Schema='dbo']/Column[@Name='PrecioPorMuestra']/Default[@Name='DF__TarifasBa__Preci__19FFD4FC']"
   },
   "outputs": [],
   "source": [
    "ALTER TABLE [dbo].[TarifasBase] ADD  DEFAULT ((0)) FOR [PrecioPorMuestra]\n",
    "GO\n"
   ]
  },
  {
   "cell_type": "markdown",
   "metadata": {
    "object_type": "Default",
    "urn": "Server[@Name='Windows10-Pepe']/Database[@Name='CEFEGEN']/Table[@Name='TiposDocumentos' and @Schema='dbo']/Column[@Name='RequiereAprobacion']/Default[@Name='DF__TiposDocu__Requi__40AF8DC9']"
   },
   "source": [
    "# [DF__TiposDocu__Requi__40AF8DC9]"
   ]
  },
  {
   "cell_type": "code",
   "execution_count": 0,
   "metadata": {
    "object_type": "Default",
    "urn": "Server[@Name='Windows10-Pepe']/Database[@Name='CEFEGEN']/Table[@Name='TiposDocumentos' and @Schema='dbo']/Column[@Name='RequiereAprobacion']/Default[@Name='DF__TiposDocu__Requi__40AF8DC9']"
   },
   "outputs": [],
   "source": [
    "ALTER TABLE [dbo].[TiposDocumentos] ADD  DEFAULT ((0)) FOR [RequiereAprobacion]\n",
    "GO\n"
   ]
  },
  {
   "cell_type": "markdown",
   "metadata": {
    "object_type": "Default",
    "urn": "Server[@Name='Windows10-Pepe']/Database[@Name='CEFEGEN']/Table[@Name='TiposDocumentos' and @Schema='dbo']/Column[@Name='Activo']/Default[@Name='DF__TiposDocu__Activ__13A7DD28']"
   },
   "source": [
    "# [DF__TiposDocu__Activ__13A7DD28]"
   ]
  },
  {
   "cell_type": "code",
   "execution_count": 0,
   "metadata": {
    "object_type": "Default",
    "urn": "Server[@Name='Windows10-Pepe']/Database[@Name='CEFEGEN']/Table[@Name='TiposDocumentos' and @Schema='dbo']/Column[@Name='Activo']/Default[@Name='DF__TiposDocu__Activ__13A7DD28']"
   },
   "outputs": [],
   "source": [
    "ALTER TABLE [dbo].[TiposDocumentos] ADD  DEFAULT ((1)) FOR [Activo]\n",
    "GO\n"
   ]
  },
  {
   "cell_type": "markdown",
   "metadata": {
    "object_type": "Default",
    "urn": "Server[@Name='Windows10-Pepe']/Database[@Name='CEFEGEN']/Table[@Name='TiposMovimiento' and @Schema='dbo']/Column[@Name='Activo']/Default[@Name='DF__TiposMovi__Activ__2DD1C37F']"
   },
   "source": [
    "# [DF__TiposMovi__Activ__2DD1C37F]"
   ]
  },
  {
   "cell_type": "code",
   "execution_count": 0,
   "metadata": {
    "object_type": "Default",
    "urn": "Server[@Name='Windows10-Pepe']/Database[@Name='CEFEGEN']/Table[@Name='TiposMovimiento' and @Schema='dbo']/Column[@Name='Activo']/Default[@Name='DF__TiposMovi__Activ__2DD1C37F']"
   },
   "outputs": [],
   "source": [
    "ALTER TABLE [dbo].[TiposMovimiento] ADD  DEFAULT ((1)) FOR [Activo]\n",
    "GO\n"
   ]
  },
  {
   "cell_type": "markdown",
   "metadata": {
    "object_type": "Default",
    "urn": "Server[@Name='Windows10-Pepe']/Database[@Name='CEFEGEN']/Table[@Name='TiposMuestra' and @Schema='dbo']/Column[@Name='CosteFijo']/Default[@Name='DF__TiposMues__Coste__7C6F7215']"
   },
   "source": [
    "# [DF__TiposMues__Coste__7C6F7215]"
   ]
  },
  {
   "cell_type": "code",
   "execution_count": 0,
   "metadata": {
    "object_type": "Default",
    "urn": "Server[@Name='Windows10-Pepe']/Database[@Name='CEFEGEN']/Table[@Name='TiposMuestra' and @Schema='dbo']/Column[@Name='CosteFijo']/Default[@Name='DF__TiposMues__Coste__7C6F7215']"
   },
   "outputs": [],
   "source": [
    "ALTER TABLE [dbo].[TiposMuestra] ADD  DEFAULT ((0)) FOR [CosteFijo]\n",
    "GO\n"
   ]
  },
  {
   "cell_type": "markdown",
   "metadata": {
    "object_type": "Default",
    "urn": "Server[@Name='Windows10-Pepe']/Database[@Name='CEFEGEN']/Table[@Name='TiposPlantillas' and @Schema='dbo']/Column[@Name='RequiereFirma']/Default[@Name='DF__TiposPlan__Requi__7ADC2F5E']"
   },
   "source": [
    "# [DF__TiposPlan__Requi__7ADC2F5E]"
   ]
  },
  {
   "cell_type": "code",
   "execution_count": 0,
   "metadata": {
    "object_type": "Default",
    "urn": "Server[@Name='Windows10-Pepe']/Database[@Name='CEFEGEN']/Table[@Name='TiposPlantillas' and @Schema='dbo']/Column[@Name='RequiereFirma']/Default[@Name='DF__TiposPlan__Requi__7ADC2F5E']"
   },
   "outputs": [],
   "source": [
    "ALTER TABLE [dbo].[TiposPlantillas] ADD  DEFAULT ((0)) FOR [RequiereFirma]\n",
    "GO\n"
   ]
  },
  {
   "cell_type": "markdown",
   "metadata": {
    "object_type": "Default",
    "urn": "Server[@Name='Windows10-Pepe']/Database[@Name='CEFEGEN']/Table[@Name='TiposPlantillas' and @Schema='dbo']/Column[@Name='Activo']/Default[@Name='DF__TiposPlan__Activ__7BD05397']"
   },
   "source": [
    "# [DF__TiposPlan__Activ__7BD05397]"
   ]
  },
  {
   "cell_type": "code",
   "execution_count": 0,
   "metadata": {
    "object_type": "Default",
    "urn": "Server[@Name='Windows10-Pepe']/Database[@Name='CEFEGEN']/Table[@Name='TiposPlantillas' and @Schema='dbo']/Column[@Name='Activo']/Default[@Name='DF__TiposPlan__Activ__7BD05397']"
   },
   "outputs": [],
   "source": [
    "ALTER TABLE [dbo].[TiposPlantillas] ADD  DEFAULT ((1)) FOR [Activo]\n",
    "GO\n"
   ]
  },
  {
   "cell_type": "markdown",
   "metadata": {
    "object_type": "Default",
    "urn": "Server[@Name='Windows10-Pepe']/Database[@Name='CEFEGEN']/Table[@Name='TiposPruebasConsumo' and @Schema='dbo']/Column[@Name='RequiereValidacion']/Default[@Name='DF__TiposPrue__Requi__0777106D']"
   },
   "source": [
    "# [DF__TiposPrue__Requi__0777106D]"
   ]
  },
  {
   "cell_type": "code",
   "execution_count": 0,
   "metadata": {
    "object_type": "Default",
    "urn": "Server[@Name='Windows10-Pepe']/Database[@Name='CEFEGEN']/Table[@Name='TiposPruebasConsumo' and @Schema='dbo']/Column[@Name='RequiereValidacion']/Default[@Name='DF__TiposPrue__Requi__0777106D']"
   },
   "outputs": [],
   "source": [
    "ALTER TABLE [dbo].[TiposPruebasConsumo] ADD  DEFAULT ((1)) FOR [RequiereValidacion]\n",
    "GO\n"
   ]
  },
  {
   "cell_type": "markdown",
   "metadata": {
    "object_type": "Default",
    "urn": "Server[@Name='Windows10-Pepe']/Database[@Name='CEFEGEN']/Table[@Name='TiposPruebasConsumo' and @Schema='dbo']/Column[@Name='IdDudaParienteCercano']/Default[@Name='DF_TiposPruebasConsumo_IdDudaParienteCercano']"
   },
   "source": [
    "# [DF_TiposPruebasConsumo_IdDudaParienteCercano]"
   ]
  },
  {
   "cell_type": "code",
   "execution_count": 0,
   "metadata": {
    "object_type": "Default",
    "urn": "Server[@Name='Windows10-Pepe']/Database[@Name='CEFEGEN']/Table[@Name='TiposPruebasConsumo' and @Schema='dbo']/Column[@Name='IdDudaParienteCercano']/Default[@Name='DF_TiposPruebasConsumo_IdDudaParienteCercano']"
   },
   "outputs": [],
   "source": [
    "ALTER TABLE [dbo].[TiposPruebasConsumo] ADD  CONSTRAINT [DF_TiposPruebasConsumo_IdDudaParienteCercano]  DEFAULT ((13)) FOR [IdDudaParienteCercano]\n",
    "GO\n"
   ]
  },
  {
   "cell_type": "markdown",
   "metadata": {
    "object_type": "Default",
    "urn": "Server[@Name='Windows10-Pepe']/Database[@Name='CEFEGEN']/Table[@Name='TiposPruebasConsumo' and @Schema='dbo']/Column[@Name='Transfusiones']/Default[@Name='DF__TiposPrue__Trans__381A47C8']"
   },
   "source": [
    "# [DF__TiposPrue__Trans__381A47C8]"
   ]
  },
  {
   "cell_type": "code",
   "execution_count": 0,
   "metadata": {
    "object_type": "Default",
    "urn": "Server[@Name='Windows10-Pepe']/Database[@Name='CEFEGEN']/Table[@Name='TiposPruebasConsumo' and @Schema='dbo']/Column[@Name='Transfusiones']/Default[@Name='DF__TiposPrue__Trans__381A47C8']"
   },
   "outputs": [],
   "source": [
    "ALTER TABLE [dbo].[TiposPruebasConsumo] ADD  DEFAULT ((0)) FOR [Transfusiones]\n",
    "GO\n"
   ]
  },
  {
   "cell_type": "markdown",
   "metadata": {
    "object_type": "Default",
    "urn": "Server[@Name='Windows10-Pepe']/Database[@Name='CEFEGEN']/Table[@Name='TomasMuestra' and @Schema='dbo']/Column[@Name='FechaToma']/Default[@Name='DF__TomasMues__Fecha__4CF5691D']"
   },
   "source": [
    "# [DF__TomasMues__Fecha__4CF5691D]"
   ]
  },
  {
   "cell_type": "code",
   "execution_count": 0,
   "metadata": {
    "object_type": "Default",
    "urn": "Server[@Name='Windows10-Pepe']/Database[@Name='CEFEGEN']/Table[@Name='TomasMuestra' and @Schema='dbo']/Column[@Name='FechaToma']/Default[@Name='DF__TomasMues__Fecha__4CF5691D']"
   },
   "outputs": [],
   "source": [
    "ALTER TABLE [dbo].[TomasMuestra] ADD  DEFAULT (getdate()) FOR [FechaToma]\n",
    "GO\n"
   ]
  },
  {
   "cell_type": "markdown",
   "metadata": {
    "object_type": "Default",
    "urn": "Server[@Name='Windows10-Pepe']/Database[@Name='CEFEGEN']/Table[@Name='Usuarios' and @Schema='dbo']/Column[@Name='Activo']/Default[@Name='DF__Usuarios__Activo__54968AE5']"
   },
   "source": [
    "# [DF__Usuarios__Activo__54968AE5]"
   ]
  },
  {
   "cell_type": "code",
   "execution_count": 0,
   "metadata": {
    "object_type": "Default",
    "urn": "Server[@Name='Windows10-Pepe']/Database[@Name='CEFEGEN']/Table[@Name='Usuarios' and @Schema='dbo']/Column[@Name='Activo']/Default[@Name='DF__Usuarios__Activo__54968AE5']"
   },
   "outputs": [],
   "source": [
    "ALTER TABLE [dbo].[Usuarios] ADD  DEFAULT ((1)) FOR [Activo]\n",
    "GO\n"
   ]
  },
  {
   "cell_type": "markdown",
   "metadata": {
    "object_type": "Default",
    "urn": "Server[@Name='Windows10-Pepe']/Database[@Name='CEFEGEN']/Table[@Name='Usuarios' and @Schema='dbo']/Column[@Name='CambiarPassword']/Default[@Name='DF__Usuarios__Cambia__558AAF1E']"
   },
   "source": [
    "# [DF__Usuarios__Cambia__558AAF1E]"
   ]
  },
  {
   "cell_type": "code",
   "execution_count": 0,
   "metadata": {
    "object_type": "Default",
    "urn": "Server[@Name='Windows10-Pepe']/Database[@Name='CEFEGEN']/Table[@Name='Usuarios' and @Schema='dbo']/Column[@Name='CambiarPassword']/Default[@Name='DF__Usuarios__Cambia__558AAF1E']"
   },
   "outputs": [],
   "source": [
    "ALTER TABLE [dbo].[Usuarios] ADD  DEFAULT ((0)) FOR [CambiarPassword]\n",
    "GO\n"
   ]
  },
  {
   "cell_type": "markdown",
   "metadata": {
    "object_type": "Default",
    "urn": "Server[@Name='Windows10-Pepe']/Database[@Name='CEFEGEN']/Table[@Name='Usuarios' and @Schema='dbo']/Column[@Name='FechaCreacion']/Default[@Name='DF__Usuarios__FechaC__567ED357']"
   },
   "source": [
    "# [DF__Usuarios__FechaC__567ED357]"
   ]
  },
  {
   "cell_type": "code",
   "execution_count": 0,
   "metadata": {
    "object_type": "Default",
    "urn": "Server[@Name='Windows10-Pepe']/Database[@Name='CEFEGEN']/Table[@Name='Usuarios' and @Schema='dbo']/Column[@Name='FechaCreacion']/Default[@Name='DF__Usuarios__FechaC__567ED357']"
   },
   "outputs": [],
   "source": [
    "ALTER TABLE [dbo].[Usuarios] ADD  DEFAULT (getdate()) FOR [FechaCreacion]\n",
    "GO\n"
   ]
  },
  {
   "cell_type": "markdown",
   "metadata": {
    "object_type": "Default",
    "urn": "Server[@Name='Windows10-Pepe']/Database[@Name='CEFEGEN']/Table[@Name='UsuariosPortal' and @Schema='dbo']/Column[@Name='Activo']/Default[@Name='DF__UsuariosP__Activ__7187CF4E']"
   },
   "source": [
    "# [DF__UsuariosP__Activ__7187CF4E]"
   ]
  },
  {
   "cell_type": "code",
   "execution_count": 0,
   "metadata": {
    "object_type": "Default",
    "urn": "Server[@Name='Windows10-Pepe']/Database[@Name='CEFEGEN']/Table[@Name='UsuariosPortal' and @Schema='dbo']/Column[@Name='Activo']/Default[@Name='DF__UsuariosP__Activ__7187CF4E']"
   },
   "outputs": [],
   "source": [
    "ALTER TABLE [dbo].[UsuariosPortal] ADD  DEFAULT ((1)) FOR [Activo]\n",
    "GO\n"
   ]
  },
  {
   "cell_type": "markdown",
   "metadata": {
    "object_type": "Default",
    "urn": "Server[@Name='Windows10-Pepe']/Database[@Name='CEFEGEN']/Table[@Name='UsuariosPortal' and @Schema='dbo']/Column[@Name='FechaCreacion']/Default[@Name='DF__UsuariosP__Fecha__727BF387']"
   },
   "source": [
    "# [DF__UsuariosP__Fecha__727BF387]"
   ]
  },
  {
   "cell_type": "code",
   "execution_count": 0,
   "metadata": {
    "object_type": "Default",
    "urn": "Server[@Name='Windows10-Pepe']/Database[@Name='CEFEGEN']/Table[@Name='UsuariosPortal' and @Schema='dbo']/Column[@Name='FechaCreacion']/Default[@Name='DF__UsuariosP__Fecha__727BF387']"
   },
   "outputs": [],
   "source": [
    "ALTER TABLE [dbo].[UsuariosPortal] ADD  DEFAULT (getdate()) FOR [FechaCreacion]\n",
    "GO\n"
   ]
  },
  {
   "cell_type": "markdown",
   "metadata": {
    "object_type": "Default",
    "urn": "Server[@Name='Windows10-Pepe']/Database[@Name='CEFEGEN']/Table[@Name='ValidacionesResultado' and @Schema='dbo']/Column[@Name='FechaValidacion']/Default[@Name='DF__Validacio__Fecha__7EE1CA6C']"
   },
   "source": [
    "# [DF__Validacio__Fecha__7EE1CA6C]"
   ]
  },
  {
   "cell_type": "code",
   "execution_count": 0,
   "metadata": {
    "object_type": "Default",
    "urn": "Server[@Name='Windows10-Pepe']/Database[@Name='CEFEGEN']/Table[@Name='ValidacionesResultado' and @Schema='dbo']/Column[@Name='FechaValidacion']/Default[@Name='DF__Validacio__Fecha__7EE1CA6C']"
   },
   "outputs": [],
   "source": [
    "ALTER TABLE [dbo].[ValidacionesResultado] ADD  DEFAULT (getdate()) FOR [FechaValidacion]\n",
    "GO\n"
   ]
  },
  {
   "cell_type": "markdown",
   "metadata": {
    "object_type": "Default",
    "urn": "Server[@Name='Windows10-Pepe']/Database[@Name='CEFEGEN']/Table[@Name='ValidacionesResultado' and @Schema='dbo']/Column[@Name='NivelValidacion']/Default[@Name='DF__Validacio__Nivel__5C57A83E']"
   },
   "source": [
    "# [DF__Validacio__Nivel__5C57A83E]"
   ]
  },
  {
   "cell_type": "code",
   "execution_count": 0,
   "metadata": {
    "object_type": "Default",
    "urn": "Server[@Name='Windows10-Pepe']/Database[@Name='CEFEGEN']/Table[@Name='ValidacionesResultado' and @Schema='dbo']/Column[@Name='NivelValidacion']/Default[@Name='DF__Validacio__Nivel__5C57A83E']"
   },
   "outputs": [],
   "source": [
    "ALTER TABLE [dbo].[ValidacionesResultado] ADD  DEFAULT ((1)) FOR [NivelValidacion]\n",
    "GO\n"
   ]
  },
  {
   "cell_type": "markdown",
   "metadata": {
    "object_type": "Default",
    "urn": "Server[@Name='Windows10-Pepe']/Database[@Name='CEFEGEN']/Table[@Name='ValidacionesResultado' and @Schema='dbo']/Column[@Name='EsFinal']/Default[@Name='DF__Validacio__EsFin__5D4BCC77']"
   },
   "source": [
    "# [DF__Validacio__EsFin__5D4BCC77]"
   ]
  },
  {
   "cell_type": "code",
   "execution_count": 0,
   "metadata": {
    "object_type": "Default",
    "urn": "Server[@Name='Windows10-Pepe']/Database[@Name='CEFEGEN']/Table[@Name='ValidacionesResultado' and @Schema='dbo']/Column[@Name='EsFinal']/Default[@Name='DF__Validacio__EsFin__5D4BCC77']"
   },
   "outputs": [],
   "source": [
    "ALTER TABLE [dbo].[ValidacionesResultado] ADD  DEFAULT ((0)) FOR [EsFinal]\n",
    "GO\n"
   ]
  },
  {
   "cell_type": "markdown",
   "metadata": {
    "object_type": "ForeignKey",
    "urn": "Server[@Name='Windows10-Pepe']/Database[@Name='CEFEGEN']/Table[@Name='Abogados' and @Schema='dbo']/ForeignKey[@Name='FK_Abogados_Direcciones']"
   },
   "source": [
    "# [FK_Abogados_Direcciones]"
   ]
  },
  {
   "cell_type": "code",
   "execution_count": 0,
   "metadata": {
    "object_type": "ForeignKey",
    "urn": "Server[@Name='Windows10-Pepe']/Database[@Name='CEFEGEN']/Table[@Name='Abogados' and @Schema='dbo']/ForeignKey[@Name='FK_Abogados_Direcciones']"
   },
   "outputs": [],
   "source": [
    "ALTER TABLE [dbo].[Abogados]  WITH CHECK ADD  CONSTRAINT [FK_Abogados_Direcciones] FOREIGN KEY([IdDireccion])\n",
    "REFERENCES [dbo].[Direcciones] ([IdDireccion])\n",
    "ON DELETE SET NULL\n",
    "GO\n",
    "ALTER TABLE [dbo].[Abogados] CHECK CONSTRAINT [FK_Abogados_Direcciones]\n",
    "GO\n"
   ]
  },
  {
   "cell_type": "markdown",
   "metadata": {
    "object_type": "ForeignKey",
    "urn": "Server[@Name='Windows10-Pepe']/Database[@Name='CEFEGEN']/Table[@Name='Acreditaciones' and @Schema='dbo']/ForeignKey[@Name='FK_Acreditaciones_TiposDocumentos']"
   },
   "source": [
    "# [FK_Acreditaciones_TiposDocumentos]"
   ]
  },
  {
   "cell_type": "code",
   "execution_count": 0,
   "metadata": {
    "object_type": "ForeignKey",
    "urn": "Server[@Name='Windows10-Pepe']/Database[@Name='CEFEGEN']/Table[@Name='Acreditaciones' and @Schema='dbo']/ForeignKey[@Name='FK_Acreditaciones_TiposDocumentos']"
   },
   "outputs": [],
   "source": [
    "ALTER TABLE [dbo].[Acreditaciones]  WITH NOCHECK ADD  CONSTRAINT [FK_Acreditaciones_TiposDocumentos] FOREIGN KEY([IdTipoDocumento])\n",
    "REFERENCES [dbo].[TiposDocumentos] ([IdTipoDocumento])\n",
    "GO\n",
    "ALTER TABLE [dbo].[Acreditaciones] NOCHECK CONSTRAINT [FK_Acreditaciones_TiposDocumentos]\n",
    "GO\n"
   ]
  },
  {
   "cell_type": "markdown",
   "metadata": {
    "object_type": "ForeignKey",
    "urn": "Server[@Name='Windows10-Pepe']/Database[@Name='CEFEGEN']/Table[@Name='Acreditaciones' and @Schema='dbo']/ForeignKey[@Name='FK_Acreditaciones_Usuarios']"
   },
   "source": [
    "# [FK_Acreditaciones_Usuarios]"
   ]
  },
  {
   "cell_type": "code",
   "execution_count": 0,
   "metadata": {
    "object_type": "ForeignKey",
    "urn": "Server[@Name='Windows10-Pepe']/Database[@Name='CEFEGEN']/Table[@Name='Acreditaciones' and @Schema='dbo']/ForeignKey[@Name='FK_Acreditaciones_Usuarios']"
   },
   "outputs": [],
   "source": [
    "ALTER TABLE [dbo].[Acreditaciones]  WITH NOCHECK ADD  CONSTRAINT [FK_Acreditaciones_Usuarios] FOREIGN KEY([IdUsuarioRegistro])\n",
    "REFERENCES [dbo].[Usuarios] ([IdUsuario])\n",
    "GO\n",
    "ALTER TABLE [dbo].[Acreditaciones] NOCHECK CONSTRAINT [FK_Acreditaciones_Usuarios]\n",
    "GO\n"
   ]
  },
  {
   "cell_type": "markdown",
   "metadata": {
    "object_type": "ForeignKey",
    "urn": "Server[@Name='Windows10-Pepe']/Database[@Name='CEFEGEN']/Table[@Name='AdjuntosEnvio' and @Schema='dbo']/ForeignKey[@Name='FK_AdjuntosEnvio_Envios']"
   },
   "source": [
    "# [FK_AdjuntosEnvio_Envios]"
   ]
  },
  {
   "cell_type": "code",
   "execution_count": 0,
   "metadata": {
    "object_type": "ForeignKey",
    "urn": "Server[@Name='Windows10-Pepe']/Database[@Name='CEFEGEN']/Table[@Name='AdjuntosEnvio' and @Schema='dbo']/ForeignKey[@Name='FK_AdjuntosEnvio_Envios']"
   },
   "outputs": [],
   "source": [
    "ALTER TABLE [dbo].[AdjuntosEnvio]  WITH NOCHECK ADD  CONSTRAINT [FK_AdjuntosEnvio_Envios] FOREIGN KEY([IdEnvio])\n",
    "REFERENCES [dbo].[Envios] ([IdEnvio])\n",
    "GO\n",
    "ALTER TABLE [dbo].[AdjuntosEnvio] NOCHECK CONSTRAINT [FK_AdjuntosEnvio_Envios]\n",
    "GO\n"
   ]
  },
  {
   "cell_type": "markdown",
   "metadata": {
    "object_type": "ForeignKey",
    "urn": "Server[@Name='Windows10-Pepe']/Database[@Name='CEFEGEN']/Table[@Name='AdjuntosEnvio' and @Schema='dbo']/ForeignKey[@Name='FK_AdjuntosEnvio_TiposPlantillas']"
   },
   "source": [
    "# [FK_AdjuntosEnvio_TiposPlantillas]"
   ]
  },
  {
   "cell_type": "code",
   "execution_count": 0,
   "metadata": {
    "object_type": "ForeignKey",
    "urn": "Server[@Name='Windows10-Pepe']/Database[@Name='CEFEGEN']/Table[@Name='AdjuntosEnvio' and @Schema='dbo']/ForeignKey[@Name='FK_AdjuntosEnvio_TiposPlantillas']"
   },
   "outputs": [],
   "source": [
    "ALTER TABLE [dbo].[AdjuntosEnvio]  WITH NOCHECK ADD  CONSTRAINT [FK_AdjuntosEnvio_TiposPlantillas] FOREIGN KEY([IdTipoPlantilla])\n",
    "REFERENCES [dbo].[TiposPlantillas] ([IdTipoPlantilla])\n",
    "GO\n",
    "ALTER TABLE [dbo].[AdjuntosEnvio] NOCHECK CONSTRAINT [FK_AdjuntosEnvio_TiposPlantillas]\n",
    "GO\n"
   ]
  },
  {
   "cell_type": "markdown",
   "metadata": {
    "object_type": "ForeignKey",
    "urn": "Server[@Name='Windows10-Pepe']/Database[@Name='CEFEGEN']/Table[@Name='Articulos' and @Schema='dbo']/ForeignKey[@Name='FK_Articulos_Envase']"
   },
   "source": [
    "# [FK_Articulos_Envase]"
   ]
  },
  {
   "cell_type": "code",
   "execution_count": 0,
   "metadata": {
    "object_type": "ForeignKey",
    "urn": "Server[@Name='Windows10-Pepe']/Database[@Name='CEFEGEN']/Table[@Name='Articulos' and @Schema='dbo']/ForeignKey[@Name='FK_Articulos_Envase']"
   },
   "outputs": [],
   "source": [
    "ALTER TABLE [dbo].[Articulos]  WITH NOCHECK ADD  CONSTRAINT [FK_Articulos_Envase] FOREIGN KEY([IdEnvase])\n",
    "REFERENCES [dbo].[Envases] ([IdEnvase])\n",
    "GO\n",
    "ALTER TABLE [dbo].[Articulos] NOCHECK CONSTRAINT [FK_Articulos_Envase]\n",
    "GO\n"
   ]
  },
  {
   "cell_type": "markdown",
   "metadata": {
    "object_type": "ForeignKey",
    "urn": "Server[@Name='Windows10-Pepe']/Database[@Name='CEFEGEN']/Table[@Name='Articulos' and @Schema='dbo']/ForeignKey[@Name='FK_Articulos_Fabricante']"
   },
   "source": [
    "# [FK_Articulos_Fabricante]"
   ]
  },
  {
   "cell_type": "code",
   "execution_count": 0,
   "metadata": {
    "object_type": "ForeignKey",
    "urn": "Server[@Name='Windows10-Pepe']/Database[@Name='CEFEGEN']/Table[@Name='Articulos' and @Schema='dbo']/ForeignKey[@Name='FK_Articulos_Fabricante']"
   },
   "outputs": [],
   "source": [
    "ALTER TABLE [dbo].[Articulos]  WITH NOCHECK ADD  CONSTRAINT [FK_Articulos_Fabricante] FOREIGN KEY([IdFabricante])\n",
    "REFERENCES [dbo].[Fabricantes] ([IdFabricante])\n",
    "GO\n",
    "ALTER TABLE [dbo].[Articulos] NOCHECK CONSTRAINT [FK_Articulos_Fabricante]\n",
    "GO\n"
   ]
  },
  {
   "cell_type": "markdown",
   "metadata": {
    "object_type": "ForeignKey",
    "urn": "Server[@Name='Windows10-Pepe']/Database[@Name='CEFEGEN']/Table[@Name='Articulos' and @Schema='dbo']/ForeignKey[@Name='FK_Articulos_Familia']"
   },
   "source": [
    "# [FK_Articulos_Familia]"
   ]
  },
  {
   "cell_type": "code",
   "execution_count": 0,
   "metadata": {
    "object_type": "ForeignKey",
    "urn": "Server[@Name='Windows10-Pepe']/Database[@Name='CEFEGEN']/Table[@Name='Articulos' and @Schema='dbo']/ForeignKey[@Name='FK_Articulos_Familia']"
   },
   "outputs": [],
   "source": [
    "ALTER TABLE [dbo].[Articulos]  WITH NOCHECK ADD  CONSTRAINT [FK_Articulos_Familia] FOREIGN KEY([IdFamilia])\n",
    "REFERENCES [dbo].[Familias] ([IdFamilia])\n",
    "GO\n",
    "ALTER TABLE [dbo].[Articulos] NOCHECK CONSTRAINT [FK_Articulos_Familia]\n",
    "GO\n"
   ]
  },
  {
   "cell_type": "markdown",
   "metadata": {
    "object_type": "ForeignKey",
    "urn": "Server[@Name='Windows10-Pepe']/Database[@Name='CEFEGEN']/Table[@Name='Articulos' and @Schema='dbo']/ForeignKey[@Name='FK_Articulos_Proveedor']"
   },
   "source": [
    "# [FK_Articulos_Proveedor]"
   ]
  },
  {
   "cell_type": "code",
   "execution_count": 0,
   "metadata": {
    "object_type": "ForeignKey",
    "urn": "Server[@Name='Windows10-Pepe']/Database[@Name='CEFEGEN']/Table[@Name='Articulos' and @Schema='dbo']/ForeignKey[@Name='FK_Articulos_Proveedor']"
   },
   "outputs": [],
   "source": [
    "ALTER TABLE [dbo].[Articulos]  WITH NOCHECK ADD  CONSTRAINT [FK_Articulos_Proveedor] FOREIGN KEY([IdProveedor])\n",
    "REFERENCES [dbo].[Proveedores] ([IdProveedor])\n",
    "GO\n",
    "ALTER TABLE [dbo].[Articulos] NOCHECK CONSTRAINT [FK_Articulos_Proveedor]\n",
    "GO\n"
   ]
  },
  {
   "cell_type": "markdown",
   "metadata": {
    "object_type": "ForeignKey",
    "urn": "Server[@Name='Windows10-Pepe']/Database[@Name='CEFEGEN']/Table[@Name='Articulos' and @Schema='dbo']/ForeignKey[@Name='FK_Articulos_Unidad']"
   },
   "source": [
    "# [FK_Articulos_Unidad]"
   ]
  },
  {
   "cell_type": "code",
   "execution_count": 0,
   "metadata": {
    "object_type": "ForeignKey",
    "urn": "Server[@Name='Windows10-Pepe']/Database[@Name='CEFEGEN']/Table[@Name='Articulos' and @Schema='dbo']/ForeignKey[@Name='FK_Articulos_Unidad']"
   },
   "outputs": [],
   "source": [
    "ALTER TABLE [dbo].[Articulos]  WITH NOCHECK ADD  CONSTRAINT [FK_Articulos_Unidad] FOREIGN KEY([IdUnidad])\n",
    "REFERENCES [dbo].[Unidades] ([IdUnidad])\n",
    "GO\n",
    "ALTER TABLE [dbo].[Articulos] NOCHECK CONSTRAINT [FK_Articulos_Unidad]\n",
    "GO\n"
   ]
  },
  {
   "cell_type": "markdown",
   "metadata": {
    "object_type": "ForeignKey",
    "urn": "Server[@Name='Windows10-Pepe']/Database[@Name='CEFEGEN']/Table[@Name='AuditoriaAcciones' and @Schema='dbo']/ForeignKey[@Name='FK_AuditoriaAcciones_Documentos']"
   },
   "source": [
    "# [FK_AuditoriaAcciones_Documentos]"
   ]
  },
  {
   "cell_type": "code",
   "execution_count": 0,
   "metadata": {
    "object_type": "ForeignKey",
    "urn": "Server[@Name='Windows10-Pepe']/Database[@Name='CEFEGEN']/Table[@Name='AuditoriaAcciones' and @Schema='dbo']/ForeignKey[@Name='FK_AuditoriaAcciones_Documentos']"
   },
   "outputs": [],
   "source": [
    "ALTER TABLE [dbo].[AuditoriaAcciones]  WITH NOCHECK ADD  CONSTRAINT [FK_AuditoriaAcciones_Documentos] FOREIGN KEY([IdDocumento])\n",
    "REFERENCES [dbo].[Documentos] ([IdDocumento])\n",
    "GO\n",
    "ALTER TABLE [dbo].[AuditoriaAcciones] NOCHECK CONSTRAINT [FK_AuditoriaAcciones_Documentos]\n",
    "GO\n"
   ]
  },
  {
   "cell_type": "markdown",
   "metadata": {
    "object_type": "ForeignKey",
    "urn": "Server[@Name='Windows10-Pepe']/Database[@Name='CEFEGEN']/Table[@Name='AuditoriasCalidad' and @Schema='dbo']/ForeignKey[@Name='FK_AuditoriasCalidad_Usuarios']"
   },
   "source": [
    "# [FK_AuditoriasCalidad_Usuarios]"
   ]
  },
  {
   "cell_type": "code",
   "execution_count": 0,
   "metadata": {
    "object_type": "ForeignKey",
    "urn": "Server[@Name='Windows10-Pepe']/Database[@Name='CEFEGEN']/Table[@Name='AuditoriasCalidad' and @Schema='dbo']/ForeignKey[@Name='FK_AuditoriasCalidad_Usuarios']"
   },
   "outputs": [],
   "source": [
    "ALTER TABLE [dbo].[AuditoriasCalidad]  WITH NOCHECK ADD  CONSTRAINT [FK_AuditoriasCalidad_Usuarios] FOREIGN KEY([IdUsuarioResponsable])\n",
    "REFERENCES [dbo].[Usuarios] ([IdUsuario])\n",
    "GO\n",
    "ALTER TABLE [dbo].[AuditoriasCalidad] NOCHECK CONSTRAINT [FK_AuditoriasCalidad_Usuarios]\n",
    "GO\n"
   ]
  },
  {
   "cell_type": "markdown",
   "metadata": {
    "object_type": "ForeignKey",
    "urn": "Server[@Name='Windows10-Pepe']/Database[@Name='CEFEGEN']/Table[@Name='Bancos' and @Schema='dbo']/ForeignKey[@Name='FK_Bancos_Direcciones']"
   },
   "source": [
    "# [FK_Bancos_Direcciones]"
   ]
  },
  {
   "cell_type": "code",
   "execution_count": 0,
   "metadata": {
    "object_type": "ForeignKey",
    "urn": "Server[@Name='Windows10-Pepe']/Database[@Name='CEFEGEN']/Table[@Name='Bancos' and @Schema='dbo']/ForeignKey[@Name='FK_Bancos_Direcciones']"
   },
   "outputs": [],
   "source": [
    "ALTER TABLE [dbo].[Bancos]  WITH CHECK ADD  CONSTRAINT [FK_Bancos_Direcciones] FOREIGN KEY([IdDireccion])\n",
    "REFERENCES [dbo].[Direcciones] ([IdDireccion])\n",
    "ON DELETE SET NULL\n",
    "GO\n",
    "ALTER TABLE [dbo].[Bancos] CHECK CONSTRAINT [FK_Bancos_Direcciones]\n",
    "GO\n"
   ]
  },
  {
   "cell_type": "markdown",
   "metadata": {
    "object_type": "ForeignKey",
    "urn": "Server[@Name='Windows10-Pepe']/Database[@Name='CEFEGEN']/Table[@Name='Centros' and @Schema='dbo']/ForeignKey[@Name='FK_Centros_AvisoAdmon']"
   },
   "source": [
    "# [FK_Centros_AvisoAdmon]"
   ]
  },
  {
   "cell_type": "code",
   "execution_count": 0,
   "metadata": {
    "object_type": "ForeignKey",
    "urn": "Server[@Name='Windows10-Pepe']/Database[@Name='CEFEGEN']/Table[@Name='Centros' and @Schema='dbo']/ForeignKey[@Name='FK_Centros_AvisoAdmon']"
   },
   "outputs": [],
   "source": [
    "ALTER TABLE [dbo].[Centros]  WITH NOCHECK ADD  CONSTRAINT [FK_Centros_AvisoAdmon] FOREIGN KEY([IdAvisoAdmon])\n",
    "REFERENCES [dbo].[Avisos] ([IdAviso])\n",
    "GO\n",
    "ALTER TABLE [dbo].[Centros] NOCHECK CONSTRAINT [FK_Centros_AvisoAdmon]\n",
    "GO\n"
   ]
  },
  {
   "cell_type": "markdown",
   "metadata": {
    "object_type": "ForeignKey",
    "urn": "Server[@Name='Windows10-Pepe']/Database[@Name='CEFEGEN']/Table[@Name='Centros' and @Schema='dbo']/ForeignKey[@Name='FK_Centros_AvisoFacturacion']"
   },
   "source": [
    "# [FK_Centros_AvisoFacturacion]"
   ]
  },
  {
   "cell_type": "code",
   "execution_count": 0,
   "metadata": {
    "object_type": "ForeignKey",
    "urn": "Server[@Name='Windows10-Pepe']/Database[@Name='CEFEGEN']/Table[@Name='Centros' and @Schema='dbo']/ForeignKey[@Name='FK_Centros_AvisoFacturacion']"
   },
   "outputs": [],
   "source": [
    "ALTER TABLE [dbo].[Centros]  WITH NOCHECK ADD  CONSTRAINT [FK_Centros_AvisoFacturacion] FOREIGN KEY([IdAvisoFacturacion])\n",
    "REFERENCES [dbo].[Avisos] ([IdAviso])\n",
    "GO\n",
    "ALTER TABLE [dbo].[Centros] NOCHECK CONSTRAINT [FK_Centros_AvisoFacturacion]\n",
    "GO\n"
   ]
  },
  {
   "cell_type": "markdown",
   "metadata": {
    "object_type": "ForeignKey",
    "urn": "Server[@Name='Windows10-Pepe']/Database[@Name='CEFEGEN']/Table[@Name='Centros' and @Schema='dbo']/ForeignKey[@Name='FK_Centros_AvisoInternas']"
   },
   "source": [
    "# [FK_Centros_AvisoInternas]"
   ]
  },
  {
   "cell_type": "code",
   "execution_count": 0,
   "metadata": {
    "object_type": "ForeignKey",
    "urn": "Server[@Name='Windows10-Pepe']/Database[@Name='CEFEGEN']/Table[@Name='Centros' and @Schema='dbo']/ForeignKey[@Name='FK_Centros_AvisoInternas']"
   },
   "outputs": [],
   "source": [
    "ALTER TABLE [dbo].[Centros]  WITH NOCHECK ADD  CONSTRAINT [FK_Centros_AvisoInternas] FOREIGN KEY([IdAvisoInternas])\n",
    "REFERENCES [dbo].[Avisos] ([IdAviso])\n",
    "GO\n",
    "ALTER TABLE [dbo].[Centros] NOCHECK CONSTRAINT [FK_Centros_AvisoInternas]\n",
    "GO\n"
   ]
  },
  {
   "cell_type": "markdown",
   "metadata": {
    "object_type": "ForeignKey",
    "urn": "Server[@Name='Windows10-Pepe']/Database[@Name='CEFEGEN']/Table[@Name='Centros' and @Schema='dbo']/ForeignKey[@Name='FK_Centros_AvisoTecnico']"
   },
   "source": [
    "# [FK_Centros_AvisoTecnico]"
   ]
  },
  {
   "cell_type": "code",
   "execution_count": 0,
   "metadata": {
    "object_type": "ForeignKey",
    "urn": "Server[@Name='Windows10-Pepe']/Database[@Name='CEFEGEN']/Table[@Name='Centros' and @Schema='dbo']/ForeignKey[@Name='FK_Centros_AvisoTecnico']"
   },
   "outputs": [],
   "source": [
    "ALTER TABLE [dbo].[Centros]  WITH NOCHECK ADD  CONSTRAINT [FK_Centros_AvisoTecnico] FOREIGN KEY([IdAvisoTecnico])\n",
    "REFERENCES [dbo].[Avisos] ([IdAviso])\n",
    "GO\n",
    "ALTER TABLE [dbo].[Centros] NOCHECK CONSTRAINT [FK_Centros_AvisoTecnico]\n",
    "GO\n"
   ]
  },
  {
   "cell_type": "markdown",
   "metadata": {
    "object_type": "ForeignKey",
    "urn": "Server[@Name='Windows10-Pepe']/Database[@Name='CEFEGEN']/Table[@Name='Centros' and @Schema='dbo']/ForeignKey[@Name='FK_Centros_Direcciones']"
   },
   "source": [
    "# [FK_Centros_Direcciones]"
   ]
  },
  {
   "cell_type": "code",
   "execution_count": 0,
   "metadata": {
    "object_type": "ForeignKey",
    "urn": "Server[@Name='Windows10-Pepe']/Database[@Name='CEFEGEN']/Table[@Name='Centros' and @Schema='dbo']/ForeignKey[@Name='FK_Centros_Direcciones']"
   },
   "outputs": [],
   "source": [
    "ALTER TABLE [dbo].[Centros]  WITH CHECK ADD  CONSTRAINT [FK_Centros_Direcciones] FOREIGN KEY([IdDireccion])\n",
    "REFERENCES [dbo].[Direcciones] ([IdDireccion])\n",
    "GO\n",
    "ALTER TABLE [dbo].[Centros] CHECK CONSTRAINT [FK_Centros_Direcciones]\n",
    "GO\n"
   ]
  },
  {
   "cell_type": "markdown",
   "metadata": {
    "object_type": "ForeignKey",
    "urn": "Server[@Name='Windows10-Pepe']/Database[@Name='CEFEGEN']/Table[@Name='CodigosPostales' and @Schema='dbo']/ForeignKey[@Name='FK_CodigosPostales_Pais']"
   },
   "source": [
    "# [FK_CodigosPostales_Pais]"
   ]
  },
  {
   "cell_type": "code",
   "execution_count": 0,
   "metadata": {
    "object_type": "ForeignKey",
    "urn": "Server[@Name='Windows10-Pepe']/Database[@Name='CEFEGEN']/Table[@Name='CodigosPostales' and @Schema='dbo']/ForeignKey[@Name='FK_CodigosPostales_Pais']"
   },
   "outputs": [],
   "source": [
    "ALTER TABLE [dbo].[CodigosPostales]  WITH NOCHECK ADD  CONSTRAINT [FK_CodigosPostales_Pais] FOREIGN KEY([CodigoPais])\n",
    "REFERENCES [dbo].[Paises] ([CodigoPais])\n",
    "GO\n",
    "ALTER TABLE [dbo].[CodigosPostales] NOCHECK CONSTRAINT [FK_CodigosPostales_Pais]\n",
    "GO\n"
   ]
  },
  {
   "cell_type": "markdown",
   "metadata": {
    "object_type": "ForeignKey",
    "urn": "Server[@Name='Windows10-Pepe']/Database[@Name='CEFEGEN']/Table[@Name='CodigosPostales' and @Schema='dbo']/ForeignKey[@Name='FK_CodigosPostales_Poblacion']"
   },
   "source": [
    "# [FK_CodigosPostales_Poblacion]"
   ]
  },
  {
   "cell_type": "code",
   "execution_count": 0,
   "metadata": {
    "object_type": "ForeignKey",
    "urn": "Server[@Name='Windows10-Pepe']/Database[@Name='CEFEGEN']/Table[@Name='CodigosPostales' and @Schema='dbo']/ForeignKey[@Name='FK_CodigosPostales_Poblacion']"
   },
   "outputs": [],
   "source": [
    "ALTER TABLE [dbo].[CodigosPostales]  WITH NOCHECK ADD  CONSTRAINT [FK_CodigosPostales_Poblacion] FOREIGN KEY([CodigoMunicipio])\n",
    "REFERENCES [dbo].[Poblaciones] ([CodigoMunicipio])\n",
    "GO\n",
    "ALTER TABLE [dbo].[CodigosPostales] NOCHECK CONSTRAINT [FK_CodigosPostales_Poblacion]\n",
    "GO\n"
   ]
  },
  {
   "cell_type": "markdown",
   "metadata": {
    "object_type": "ForeignKey",
    "urn": "Server[@Name='Windows10-Pepe']/Database[@Name='CEFEGEN']/Table[@Name='ConfiguracionesPrecio' and @Schema='dbo']/ForeignKey[@Name='FK_ConfigPrecio_TipoPruebaConsumo']"
   },
   "source": [
    "# [FK_ConfigPrecio_TipoPruebaConsumo]"
   ]
  },
  {
   "cell_type": "code",
   "execution_count": 0,
   "metadata": {
    "object_type": "ForeignKey",
    "urn": "Server[@Name='Windows10-Pepe']/Database[@Name='CEFEGEN']/Table[@Name='ConfiguracionesPrecio' and @Schema='dbo']/ForeignKey[@Name='FK_ConfigPrecio_TipoPruebaConsumo']"
   },
   "outputs": [],
   "source": [
    "ALTER TABLE [dbo].[ConfiguracionesPrecio]  WITH NOCHECK ADD  CONSTRAINT [FK_ConfigPrecio_TipoPruebaConsumo] FOREIGN KEY([IdTiposPruebasConsumo])\n",
    "REFERENCES [dbo].[TiposPruebasConsumo] ([IdTipoPruebaConsumo])\n",
    "GO\n",
    "ALTER TABLE [dbo].[ConfiguracionesPrecio] NOCHECK CONSTRAINT [FK_ConfigPrecio_TipoPruebaConsumo]\n",
    "GO\n"
   ]
  },
  {
   "cell_type": "markdown",
   "metadata": {
    "object_type": "ForeignKey",
    "urn": "Server[@Name='Windows10-Pepe']/Database[@Name='CEFEGEN']/Table[@Name='ConfiguracionesPrecio' and @Schema='dbo']/ForeignKey[@Name='FK_ConfiguracionesPrecio_Regla']"
   },
   "source": [
    "# [FK_ConfiguracionesPrecio_Regla]"
   ]
  },
  {
   "cell_type": "code",
   "execution_count": 0,
   "metadata": {
    "object_type": "ForeignKey",
    "urn": "Server[@Name='Windows10-Pepe']/Database[@Name='CEFEGEN']/Table[@Name='ConfiguracionesPrecio' and @Schema='dbo']/ForeignKey[@Name='FK_ConfiguracionesPrecio_Regla']"
   },
   "outputs": [],
   "source": [
    "ALTER TABLE [dbo].[ConfiguracionesPrecio]  WITH NOCHECK ADD  CONSTRAINT [FK_ConfiguracionesPrecio_Regla] FOREIGN KEY([IdRegla])\n",
    "REFERENCES [dbo].[ReglasIncrementoPrecio] ([IdRegla])\n",
    "GO\n",
    "ALTER TABLE [dbo].[ConfiguracionesPrecio] NOCHECK CONSTRAINT [FK_ConfiguracionesPrecio_Regla]\n",
    "GO\n"
   ]
  },
  {
   "cell_type": "markdown",
   "metadata": {
    "object_type": "ForeignKey",
    "urn": "Server[@Name='Windows10-Pepe']/Database[@Name='CEFEGEN']/Table[@Name='ConfigValidaciones' and @Schema='dbo']/ForeignKey[@Name='FK_ConfigValidaciones_Roles']"
   },
   "source": [
    "# [FK_ConfigValidaciones_Roles]"
   ]
  },
  {
   "cell_type": "code",
   "execution_count": 0,
   "metadata": {
    "object_type": "ForeignKey",
    "urn": "Server[@Name='Windows10-Pepe']/Database[@Name='CEFEGEN']/Table[@Name='ConfigValidaciones' and @Schema='dbo']/ForeignKey[@Name='FK_ConfigValidaciones_Roles']"
   },
   "outputs": [],
   "source": [
    "ALTER TABLE [dbo].[ConfigValidaciones]  WITH NOCHECK ADD  CONSTRAINT [FK_ConfigValidaciones_Roles] FOREIGN KEY([RolRequerido])\n",
    "REFERENCES [dbo].[Roles] ([IdRol])\n",
    "GO\n",
    "ALTER TABLE [dbo].[ConfigValidaciones] NOCHECK CONSTRAINT [FK_ConfigValidaciones_Roles]\n",
    "GO\n"
   ]
  },
  {
   "cell_type": "markdown",
   "metadata": {
    "object_type": "ForeignKey",
    "urn": "Server[@Name='Windows10-Pepe']/Database[@Name='CEFEGEN']/Table[@Name='Consentimientos' and @Schema='dbo']/ForeignKey[@Name='FK_Consentimientos_Intervinientes']"
   },
   "source": [
    "# [FK_Consentimientos_Intervinientes]"
   ]
  },
  {
   "cell_type": "code",
   "execution_count": 0,
   "metadata": {
    "object_type": "ForeignKey",
    "urn": "Server[@Name='Windows10-Pepe']/Database[@Name='CEFEGEN']/Table[@Name='Consentimientos' and @Schema='dbo']/ForeignKey[@Name='FK_Consentimientos_Intervinientes']"
   },
   "outputs": [],
   "source": [
    "ALTER TABLE [dbo].[Consentimientos]  WITH NOCHECK ADD  CONSTRAINT [FK_Consentimientos_Intervinientes] FOREIGN KEY([IdInterviniente])\n",
    "REFERENCES [dbo].[Intervinientes] ([IdInterviniente])\n",
    "GO\n",
    "ALTER TABLE [dbo].[Consentimientos] NOCHECK CONSTRAINT [FK_Consentimientos_Intervinientes]\n",
    "GO\n"
   ]
  },
  {
   "cell_type": "markdown",
   "metadata": {
    "object_type": "ForeignKey",
    "urn": "Server[@Name='Windows10-Pepe']/Database[@Name='CEFEGEN']/Table[@Name='Consentimientos' and @Schema='dbo']/ForeignKey[@Name='FK_Consentimientos_Plantillas']"
   },
   "source": [
    "# [FK_Consentimientos_Plantillas]"
   ]
  },
  {
   "cell_type": "code",
   "execution_count": 0,
   "metadata": {
    "object_type": "ForeignKey",
    "urn": "Server[@Name='Windows10-Pepe']/Database[@Name='CEFEGEN']/Table[@Name='Consentimientos' and @Schema='dbo']/ForeignKey[@Name='FK_Consentimientos_Plantillas']"
   },
   "outputs": [],
   "source": [
    "ALTER TABLE [dbo].[Consentimientos]  WITH NOCHECK ADD  CONSTRAINT [FK_Consentimientos_Plantillas] FOREIGN KEY([IdPlantilla])\n",
    "REFERENCES [dbo].[Plantillas] ([IdPlantilla])\n",
    "GO\n",
    "ALTER TABLE [dbo].[Consentimientos] NOCHECK CONSTRAINT [FK_Consentimientos_Plantillas]\n",
    "GO\n"
   ]
  },
  {
   "cell_type": "markdown",
   "metadata": {
    "object_type": "ForeignKey",
    "urn": "Server[@Name='Windows10-Pepe']/Database[@Name='CEFEGEN']/Table[@Name='Consentimientos' and @Schema='dbo']/ForeignKey[@Name='FK_Consentimientos_Solicitudes']"
   },
   "source": [
    "# [FK_Consentimientos_Solicitudes]"
   ]
  },
  {
   "cell_type": "code",
   "execution_count": 0,
   "metadata": {
    "object_type": "ForeignKey",
    "urn": "Server[@Name='Windows10-Pepe']/Database[@Name='CEFEGEN']/Table[@Name='Consentimientos' and @Schema='dbo']/ForeignKey[@Name='FK_Consentimientos_Solicitudes']"
   },
   "outputs": [],
   "source": [
    "ALTER TABLE [dbo].[Consentimientos]  WITH NOCHECK ADD  CONSTRAINT [FK_Consentimientos_Solicitudes] FOREIGN KEY([IdSolicitud])\n",
    "REFERENCES [dbo].[Solicitudes] ([IdSolicitud])\n",
    "GO\n",
    "ALTER TABLE [dbo].[Consentimientos] NOCHECK CONSTRAINT [FK_Consentimientos_Solicitudes]\n",
    "GO\n"
   ]
  },
  {
   "cell_type": "markdown",
   "metadata": {
    "object_type": "ForeignKey",
    "urn": "Server[@Name='Windows10-Pepe']/Database[@Name='CEFEGEN']/Table[@Name='Consentimientos' and @Schema='dbo']/ForeignKey[@Name='FK_Consentimientos_TiposPruebasConsumo']"
   },
   "source": [
    "# [FK_Consentimientos_TiposPruebasConsumo]"
   ]
  },
  {
   "cell_type": "code",
   "execution_count": 0,
   "metadata": {
    "object_type": "ForeignKey",
    "urn": "Server[@Name='Windows10-Pepe']/Database[@Name='CEFEGEN']/Table[@Name='Consentimientos' and @Schema='dbo']/ForeignKey[@Name='FK_Consentimientos_TiposPruebasConsumo']"
   },
   "outputs": [],
   "source": [
    "ALTER TABLE [dbo].[Consentimientos]  WITH NOCHECK ADD  CONSTRAINT [FK_Consentimientos_TiposPruebasConsumo] FOREIGN KEY([IdTipoPruebaConsumo])\n",
    "REFERENCES [dbo].[TiposPruebasConsumo] ([IdTipoPruebaConsumo])\n",
    "GO\n",
    "ALTER TABLE [dbo].[Consentimientos] NOCHECK CONSTRAINT [FK_Consentimientos_TiposPruebasConsumo]\n",
    "GO\n"
   ]
  },
  {
   "cell_type": "markdown",
   "metadata": {
    "object_type": "ForeignKey",
    "urn": "Server[@Name='Windows10-Pepe']/Database[@Name='CEFEGEN']/Table[@Name='Detectives' and @Schema='dbo']/ForeignKey[@Name='FK_Detectives_Direcciones']"
   },
   "source": [
    "# [FK_Detectives_Direcciones]"
   ]
  },
  {
   "cell_type": "code",
   "execution_count": 0,
   "metadata": {
    "object_type": "ForeignKey",
    "urn": "Server[@Name='Windows10-Pepe']/Database[@Name='CEFEGEN']/Table[@Name='Detectives' and @Schema='dbo']/ForeignKey[@Name='FK_Detectives_Direcciones']"
   },
   "outputs": [],
   "source": [
    "ALTER TABLE [dbo].[Detectives]  WITH CHECK ADD  CONSTRAINT [FK_Detectives_Direcciones] FOREIGN KEY([IdDireccion])\n",
    "REFERENCES [dbo].[Direcciones] ([IdDireccion])\n",
    "ON DELETE SET NULL\n",
    "GO\n",
    "ALTER TABLE [dbo].[Detectives] CHECK CONSTRAINT [FK_Detectives_Direcciones]\n",
    "GO\n"
   ]
  },
  {
   "cell_type": "markdown",
   "metadata": {
    "object_type": "ForeignKey",
    "urn": "Server[@Name='Windows10-Pepe']/Database[@Name='CEFEGEN']/Table[@Name='DeterminacionesAndrologia' and @Schema='dbo']/ForeignKey[@Name='FK__Determina__IdLin__52442E1F']"
   },
   "source": [
    "# [FK__Determina__IdLin__52442E1F]"
   ]
  },
  {
   "cell_type": "code",
   "execution_count": 0,
   "metadata": {
    "object_type": "ForeignKey",
    "urn": "Server[@Name='Windows10-Pepe']/Database[@Name='CEFEGEN']/Table[@Name='DeterminacionesAndrologia' and @Schema='dbo']/ForeignKey[@Name='FK__Determina__IdLin__52442E1F']"
   },
   "outputs": [],
   "source": [
    "ALTER TABLE [dbo].[DeterminacionesAndrologia]  WITH NOCHECK ADD FOREIGN KEY([IdLineaPeticion])\n",
    "REFERENCES [dbo].[PeticionesLin] ([IdLineaPeticion])\n",
    "GO\n"
   ]
  },
  {
   "cell_type": "markdown",
   "metadata": {
    "object_type": "ForeignKey",
    "urn": "Server[@Name='Windows10-Pepe']/Database[@Name='CEFEGEN']/Table[@Name='Documentos' and @Schema='dbo']/ForeignKey[@Name='FK_Documentos_EntidadTipo']"
   },
   "source": [
    "# [FK_Documentos_EntidadTipo]"
   ]
  },
  {
   "cell_type": "code",
   "execution_count": 0,
   "metadata": {
    "object_type": "ForeignKey",
    "urn": "Server[@Name='Windows10-Pepe']/Database[@Name='CEFEGEN']/Table[@Name='Documentos' and @Schema='dbo']/ForeignKey[@Name='FK_Documentos_EntidadTipo']"
   },
   "outputs": [],
   "source": [
    "ALTER TABLE [dbo].[Documentos]  WITH NOCHECK ADD  CONSTRAINT [FK_Documentos_EntidadTipo] FOREIGN KEY([IdEntidadTipo])\n",
    "REFERENCES [dbo].[Entidades] ([IdEntidadTipo])\n",
    "GO\n",
    "ALTER TABLE [dbo].[Documentos] NOCHECK CONSTRAINT [FK_Documentos_EntidadTipo]\n",
    "GO\n"
   ]
  },
  {
   "cell_type": "markdown",
   "metadata": {
    "object_type": "ForeignKey",
    "urn": "Server[@Name='Windows10-Pepe']/Database[@Name='CEFEGEN']/Table[@Name='Documentos' and @Schema='dbo']/ForeignKey[@Name='FK_Documentos_SubidoPor']"
   },
   "source": [
    "# [FK_Documentos_SubidoPor]"
   ]
  },
  {
   "cell_type": "code",
   "execution_count": 0,
   "metadata": {
    "object_type": "ForeignKey",
    "urn": "Server[@Name='Windows10-Pepe']/Database[@Name='CEFEGEN']/Table[@Name='Documentos' and @Schema='dbo']/ForeignKey[@Name='FK_Documentos_SubidoPor']"
   },
   "outputs": [],
   "source": [
    "ALTER TABLE [dbo].[Documentos]  WITH NOCHECK ADD  CONSTRAINT [FK_Documentos_SubidoPor] FOREIGN KEY([SubidoPor])\n",
    "REFERENCES [dbo].[Usuarios] ([IdUsuario])\n",
    "GO\n",
    "ALTER TABLE [dbo].[Documentos] NOCHECK CONSTRAINT [FK_Documentos_SubidoPor]\n",
    "GO\n"
   ]
  },
  {
   "cell_type": "markdown",
   "metadata": {
    "object_type": "ForeignKey",
    "urn": "Server[@Name='Windows10-Pepe']/Database[@Name='CEFEGEN']/Table[@Name='Documentos' and @Schema='dbo']/ForeignKey[@Name='FK_Documentos_TipoDocumento']"
   },
   "source": [
    "# [FK_Documentos_TipoDocumento]"
   ]
  },
  {
   "cell_type": "code",
   "execution_count": 0,
   "metadata": {
    "object_type": "ForeignKey",
    "urn": "Server[@Name='Windows10-Pepe']/Database[@Name='CEFEGEN']/Table[@Name='Documentos' and @Schema='dbo']/ForeignKey[@Name='FK_Documentos_TipoDocumento']"
   },
   "outputs": [],
   "source": [
    "ALTER TABLE [dbo].[Documentos]  WITH NOCHECK ADD  CONSTRAINT [FK_Documentos_TipoDocumento] FOREIGN KEY([IdTipoDocumento])\n",
    "REFERENCES [dbo].[TiposDocumentos] ([IdTipoDocumento])\n",
    "GO\n",
    "ALTER TABLE [dbo].[Documentos] NOCHECK CONSTRAINT [FK_Documentos_TipoDocumento]\n",
    "GO\n"
   ]
  },
  {
   "cell_type": "markdown",
   "metadata": {
    "object_type": "ForeignKey",
    "urn": "Server[@Name='Windows10-Pepe']/Database[@Name='CEFEGEN']/Table[@Name='Documentos' and @Schema='dbo']/ForeignKey[@Name='FK_Documentos_TiposDocumentos']"
   },
   "source": [
    "# [FK_Documentos_TiposDocumentos]"
   ]
  },
  {
   "cell_type": "code",
   "execution_count": 0,
   "metadata": {
    "object_type": "ForeignKey",
    "urn": "Server[@Name='Windows10-Pepe']/Database[@Name='CEFEGEN']/Table[@Name='Documentos' and @Schema='dbo']/ForeignKey[@Name='FK_Documentos_TiposDocumentos']"
   },
   "outputs": [],
   "source": [
    "ALTER TABLE [dbo].[Documentos]  WITH NOCHECK ADD  CONSTRAINT [FK_Documentos_TiposDocumentos] FOREIGN KEY([IdTipoDocumento])\n",
    "REFERENCES [dbo].[TiposDocumentos] ([IdTipoDocumento])\n",
    "GO\n",
    "ALTER TABLE [dbo].[Documentos] NOCHECK CONSTRAINT [FK_Documentos_TiposDocumentos]\n",
    "GO\n"
   ]
  },
  {
   "cell_type": "markdown",
   "metadata": {
    "object_type": "ForeignKey",
    "urn": "Server[@Name='Windows10-Pepe']/Database[@Name='CEFEGEN']/Table[@Name='Documentos' and @Schema='dbo']/ForeignKey[@Name='FK_Documentos_TiposEntidad']"
   },
   "source": [
    "# [FK_Documentos_TiposEntidad]"
   ]
  },
  {
   "cell_type": "code",
   "execution_count": 0,
   "metadata": {
    "object_type": "ForeignKey",
    "urn": "Server[@Name='Windows10-Pepe']/Database[@Name='CEFEGEN']/Table[@Name='Documentos' and @Schema='dbo']/ForeignKey[@Name='FK_Documentos_TiposEntidad']"
   },
   "outputs": [],
   "source": [
    "ALTER TABLE [dbo].[Documentos]  WITH NOCHECK ADD  CONSTRAINT [FK_Documentos_TiposEntidad] FOREIGN KEY([IdEntidadTipo])\n",
    "REFERENCES [dbo].[TiposEntidad] ([IdEntidadTipo])\n",
    "GO\n",
    "ALTER TABLE [dbo].[Documentos] NOCHECK CONSTRAINT [FK_Documentos_TiposEntidad]\n",
    "GO\n"
   ]
  },
  {
   "cell_type": "markdown",
   "metadata": {
    "object_type": "ForeignKey",
    "urn": "Server[@Name='Windows10-Pepe']/Database[@Name='CEFEGEN']/Table[@Name='Empresas' and @Schema='dbo']/ForeignKey[@Name='FK_Empresa_Actividad']"
   },
   "source": [
    "# [FK_Empresa_Actividad]"
   ]
  },
  {
   "cell_type": "code",
   "execution_count": 0,
   "metadata": {
    "object_type": "ForeignKey",
    "urn": "Server[@Name='Windows10-Pepe']/Database[@Name='CEFEGEN']/Table[@Name='Empresas' and @Schema='dbo']/ForeignKey[@Name='FK_Empresa_Actividad']"
   },
   "outputs": [],
   "source": [
    "ALTER TABLE [dbo].[Empresas]  WITH NOCHECK ADD  CONSTRAINT [FK_Empresa_Actividad] FOREIGN KEY([IdActividad])\n",
    "REFERENCES [dbo].[Actividades] ([IdActividad])\n",
    "GO\n",
    "ALTER TABLE [dbo].[Empresas] NOCHECK CONSTRAINT [FK_Empresa_Actividad]\n",
    "GO\n"
   ]
  },
  {
   "cell_type": "markdown",
   "metadata": {
    "object_type": "ForeignKey",
    "urn": "Server[@Name='Windows10-Pepe']/Database[@Name='CEFEGEN']/Table[@Name='Empresas' and @Schema='dbo']/ForeignKey[@Name='FK_Empresa_AvisoAdmon']"
   },
   "source": [
    "# [FK_Empresa_AvisoAdmon]"
   ]
  },
  {
   "cell_type": "code",
   "execution_count": 0,
   "metadata": {
    "object_type": "ForeignKey",
    "urn": "Server[@Name='Windows10-Pepe']/Database[@Name='CEFEGEN']/Table[@Name='Empresas' and @Schema='dbo']/ForeignKey[@Name='FK_Empresa_AvisoAdmon']"
   },
   "outputs": [],
   "source": [
    "ALTER TABLE [dbo].[Empresas]  WITH NOCHECK ADD  CONSTRAINT [FK_Empresa_AvisoAdmon] FOREIGN KEY([IdAvisoAdmon])\n",
    "REFERENCES [dbo].[Avisos] ([IdAviso])\n",
    "GO\n",
    "ALTER TABLE [dbo].[Empresas] NOCHECK CONSTRAINT [FK_Empresa_AvisoAdmon]\n",
    "GO\n"
   ]
  },
  {
   "cell_type": "markdown",
   "metadata": {
    "object_type": "ForeignKey",
    "urn": "Server[@Name='Windows10-Pepe']/Database[@Name='CEFEGEN']/Table[@Name='Empresas' and @Schema='dbo']/ForeignKey[@Name='FK_Empresa_AvisoFacturacion']"
   },
   "source": [
    "# [FK_Empresa_AvisoFacturacion]"
   ]
  },
  {
   "cell_type": "code",
   "execution_count": 0,
   "metadata": {
    "object_type": "ForeignKey",
    "urn": "Server[@Name='Windows10-Pepe']/Database[@Name='CEFEGEN']/Table[@Name='Empresas' and @Schema='dbo']/ForeignKey[@Name='FK_Empresa_AvisoFacturacion']"
   },
   "outputs": [],
   "source": [
    "ALTER TABLE [dbo].[Empresas]  WITH NOCHECK ADD  CONSTRAINT [FK_Empresa_AvisoFacturacion] FOREIGN KEY([IdAvisoFacturacion])\n",
    "REFERENCES [dbo].[Avisos] ([IdAviso])\n",
    "GO\n",
    "ALTER TABLE [dbo].[Empresas] NOCHECK CONSTRAINT [FK_Empresa_AvisoFacturacion]\n",
    "GO\n"
   ]
  },
  {
   "cell_type": "markdown",
   "metadata": {
    "object_type": "ForeignKey",
    "urn": "Server[@Name='Windows10-Pepe']/Database[@Name='CEFEGEN']/Table[@Name='Empresas' and @Schema='dbo']/ForeignKey[@Name='FK_Empresa_AvisoInternas']"
   },
   "source": [
    "# [FK_Empresa_AvisoInternas]"
   ]
  },
  {
   "cell_type": "code",
   "execution_count": 0,
   "metadata": {
    "object_type": "ForeignKey",
    "urn": "Server[@Name='Windows10-Pepe']/Database[@Name='CEFEGEN']/Table[@Name='Empresas' and @Schema='dbo']/ForeignKey[@Name='FK_Empresa_AvisoInternas']"
   },
   "outputs": [],
   "source": [
    "ALTER TABLE [dbo].[Empresas]  WITH NOCHECK ADD  CONSTRAINT [FK_Empresa_AvisoInternas] FOREIGN KEY([IdAvisoInternas])\n",
    "REFERENCES [dbo].[Avisos] ([IdAviso])\n",
    "GO\n",
    "ALTER TABLE [dbo].[Empresas] NOCHECK CONSTRAINT [FK_Empresa_AvisoInternas]\n",
    "GO\n"
   ]
  },
  {
   "cell_type": "markdown",
   "metadata": {
    "object_type": "ForeignKey",
    "urn": "Server[@Name='Windows10-Pepe']/Database[@Name='CEFEGEN']/Table[@Name='Empresas' and @Schema='dbo']/ForeignKey[@Name='FK_Empresa_AvisoTecnico']"
   },
   "source": [
    "# [FK_Empresa_AvisoTecnico]"
   ]
  },
  {
   "cell_type": "code",
   "execution_count": 0,
   "metadata": {
    "object_type": "ForeignKey",
    "urn": "Server[@Name='Windows10-Pepe']/Database[@Name='CEFEGEN']/Table[@Name='Empresas' and @Schema='dbo']/ForeignKey[@Name='FK_Empresa_AvisoTecnico']"
   },
   "outputs": [],
   "source": [
    "ALTER TABLE [dbo].[Empresas]  WITH NOCHECK ADD  CONSTRAINT [FK_Empresa_AvisoTecnico] FOREIGN KEY([IdAvisoTecnico])\n",
    "REFERENCES [dbo].[Avisos] ([IdAviso])\n",
    "GO\n",
    "ALTER TABLE [dbo].[Empresas] NOCHECK CONSTRAINT [FK_Empresa_AvisoTecnico]\n",
    "GO\n"
   ]
  },
  {
   "cell_type": "markdown",
   "metadata": {
    "object_type": "ForeignKey",
    "urn": "Server[@Name='Windows10-Pepe']/Database[@Name='CEFEGEN']/Table[@Name='Empresas' and @Schema='dbo']/ForeignKey[@Name='FK_Empresa_Laboratorio']"
   },
   "source": [
    "# [FK_Empresa_Laboratorio]"
   ]
  },
  {
   "cell_type": "code",
   "execution_count": 0,
   "metadata": {
    "object_type": "ForeignKey",
    "urn": "Server[@Name='Windows10-Pepe']/Database[@Name='CEFEGEN']/Table[@Name='Empresas' and @Schema='dbo']/ForeignKey[@Name='FK_Empresa_Laboratorio']"
   },
   "outputs": [],
   "source": [
    "ALTER TABLE [dbo].[Empresas]  WITH NOCHECK ADD  CONSTRAINT [FK_Empresa_Laboratorio] FOREIGN KEY([IdLaboratorioColaborador])\n",
    "REFERENCES [dbo].[LaboratoriosColaboradores] ([IdLaboratorioColaborador])\n",
    "GO\n",
    "ALTER TABLE [dbo].[Empresas] NOCHECK CONSTRAINT [FK_Empresa_Laboratorio]\n",
    "GO\n"
   ]
  },
  {
   "cell_type": "markdown",
   "metadata": {
    "object_type": "ForeignKey",
    "urn": "Server[@Name='Windows10-Pepe']/Database[@Name='CEFEGEN']/Table[@Name='Empresas' and @Schema='dbo']/ForeignKey[@Name='FK_Empresas_Direcciones']"
   },
   "source": [
    "# [FK_Empresas_Direcciones]"
   ]
  },
  {
   "cell_type": "code",
   "execution_count": 0,
   "metadata": {
    "object_type": "ForeignKey",
    "urn": "Server[@Name='Windows10-Pepe']/Database[@Name='CEFEGEN']/Table[@Name='Empresas' and @Schema='dbo']/ForeignKey[@Name='FK_Empresas_Direcciones']"
   },
   "outputs": [],
   "source": [
    "ALTER TABLE [dbo].[Empresas]  WITH CHECK ADD  CONSTRAINT [FK_Empresas_Direcciones] FOREIGN KEY([IdDireccion])\n",
    "REFERENCES [dbo].[Direcciones] ([IdDireccion])\n",
    "GO\n",
    "ALTER TABLE [dbo].[Empresas] CHECK CONSTRAINT [FK_Empresas_Direcciones]\n",
    "GO\n"
   ]
  },
  {
   "cell_type": "markdown",
   "metadata": {
    "object_type": "ForeignKey",
    "urn": "Server[@Name='Windows10-Pepe']/Database[@Name='CEFEGEN']/Table[@Name='Equipos' and @Schema='dbo']/ForeignKey[@Name='FK_Equipos_Especialidad']"
   },
   "source": [
    "# [FK_Equipos_Especialidad]"
   ]
  },
  {
   "cell_type": "code",
   "execution_count": 0,
   "metadata": {
    "object_type": "ForeignKey",
    "urn": "Server[@Name='Windows10-Pepe']/Database[@Name='CEFEGEN']/Table[@Name='Equipos' and @Schema='dbo']/ForeignKey[@Name='FK_Equipos_Especialidad']"
   },
   "outputs": [],
   "source": [
    "ALTER TABLE [dbo].[Equipos]  WITH NOCHECK ADD  CONSTRAINT [FK_Equipos_Especialidad] FOREIGN KEY([IdEspecialidad])\n",
    "REFERENCES [dbo].[Especialidades] ([IdEspecialidad])\n",
    "GO\n",
    "ALTER TABLE [dbo].[Equipos] NOCHECK CONSTRAINT [FK_Equipos_Especialidad]\n",
    "GO\n"
   ]
  },
  {
   "cell_type": "markdown",
   "metadata": {
    "object_type": "ForeignKey",
    "urn": "Server[@Name='Windows10-Pepe']/Database[@Name='CEFEGEN']/Table[@Name='Equipos' and @Schema='dbo']/ForeignKey[@Name='FK_Equipos_Fabricante']"
   },
   "source": [
    "# [FK_Equipos_Fabricante]"
   ]
  },
  {
   "cell_type": "code",
   "execution_count": 0,
   "metadata": {
    "object_type": "ForeignKey",
    "urn": "Server[@Name='Windows10-Pepe']/Database[@Name='CEFEGEN']/Table[@Name='Equipos' and @Schema='dbo']/ForeignKey[@Name='FK_Equipos_Fabricante']"
   },
   "outputs": [],
   "source": [
    "ALTER TABLE [dbo].[Equipos]  WITH NOCHECK ADD  CONSTRAINT [FK_Equipos_Fabricante] FOREIGN KEY([IdFabricante])\n",
    "REFERENCES [dbo].[Fabricantes] ([IdFabricante])\n",
    "GO\n",
    "ALTER TABLE [dbo].[Equipos] NOCHECK CONSTRAINT [FK_Equipos_Fabricante]\n",
    "GO\n"
   ]
  },
  {
   "cell_type": "markdown",
   "metadata": {
    "object_type": "ForeignKey",
    "urn": "Server[@Name='Windows10-Pepe']/Database[@Name='CEFEGEN']/Table[@Name='Equipos' and @Schema='dbo']/ForeignKey[@Name='FK_Equipos_Personal']"
   },
   "source": [
    "# [FK_Equipos_Personal]"
   ]
  },
  {
   "cell_type": "code",
   "execution_count": 0,
   "metadata": {
    "object_type": "ForeignKey",
    "urn": "Server[@Name='Windows10-Pepe']/Database[@Name='CEFEGEN']/Table[@Name='Equipos' and @Schema='dbo']/ForeignKey[@Name='FK_Equipos_Personal']"
   },
   "outputs": [],
   "source": [
    "ALTER TABLE [dbo].[Equipos]  WITH NOCHECK ADD  CONSTRAINT [FK_Equipos_Personal] FOREIGN KEY([IdPersonal])\n",
    "REFERENCES [dbo].[Personal] ([IdPersonal])\n",
    "GO\n",
    "ALTER TABLE [dbo].[Equipos] NOCHECK CONSTRAINT [FK_Equipos_Personal]\n",
    "GO\n"
   ]
  },
  {
   "cell_type": "markdown",
   "metadata": {
    "object_type": "ForeignKey",
    "urn": "Server[@Name='Windows10-Pepe']/Database[@Name='CEFEGEN']/Table[@Name='Equipos' and @Schema='dbo']/ForeignKey[@Name='FK_Equipos_Proveedor']"
   },
   "source": [
    "# [FK_Equipos_Proveedor]"
   ]
  },
  {
   "cell_type": "code",
   "execution_count": 0,
   "metadata": {
    "object_type": "ForeignKey",
    "urn": "Server[@Name='Windows10-Pepe']/Database[@Name='CEFEGEN']/Table[@Name='Equipos' and @Schema='dbo']/ForeignKey[@Name='FK_Equipos_Proveedor']"
   },
   "outputs": [],
   "source": [
    "ALTER TABLE [dbo].[Equipos]  WITH NOCHECK ADD  CONSTRAINT [FK_Equipos_Proveedor] FOREIGN KEY([IdProveedor])\n",
    "REFERENCES [dbo].[Proveedores] ([IdProveedor])\n",
    "GO\n",
    "ALTER TABLE [dbo].[Equipos] NOCHECK CONSTRAINT [FK_Equipos_Proveedor]\n",
    "GO\n"
   ]
  },
  {
   "cell_type": "markdown",
   "metadata": {
    "object_type": "ForeignKey",
    "urn": "Server[@Name='Windows10-Pepe']/Database[@Name='CEFEGEN']/Table[@Name='Fabricantes' and @Schema='dbo']/ForeignKey[@Name='FK_Fabricantes_Direcciones']"
   },
   "source": [
    "# [FK_Fabricantes_Direcciones]"
   ]
  },
  {
   "cell_type": "code",
   "execution_count": 0,
   "metadata": {
    "object_type": "ForeignKey",
    "urn": "Server[@Name='Windows10-Pepe']/Database[@Name='CEFEGEN']/Table[@Name='Fabricantes' and @Schema='dbo']/ForeignKey[@Name='FK_Fabricantes_Direcciones']"
   },
   "outputs": [],
   "source": [
    "ALTER TABLE [dbo].[Fabricantes]  WITH CHECK ADD  CONSTRAINT [FK_Fabricantes_Direcciones] FOREIGN KEY([IdDireccion])\n",
    "REFERENCES [dbo].[Direcciones] ([IdDireccion])\n",
    "GO\n",
    "ALTER TABLE [dbo].[Fabricantes] CHECK CONSTRAINT [FK_Fabricantes_Direcciones]\n",
    "GO\n"
   ]
  },
  {
   "cell_type": "markdown",
   "metadata": {
    "object_type": "ForeignKey",
    "urn": "Server[@Name='Windows10-Pepe']/Database[@Name='CEFEGEN']/Table[@Name='Facturas' and @Schema='dbo']/ForeignKey[@Name='FK_Facturas_AvisoFacturacion']"
   },
   "source": [
    "# [FK_Facturas_AvisoFacturacion]"
   ]
  },
  {
   "cell_type": "code",
   "execution_count": 0,
   "metadata": {
    "object_type": "ForeignKey",
    "urn": "Server[@Name='Windows10-Pepe']/Database[@Name='CEFEGEN']/Table[@Name='Facturas' and @Schema='dbo']/ForeignKey[@Name='FK_Facturas_AvisoFacturacion']"
   },
   "outputs": [],
   "source": [
    "ALTER TABLE [dbo].[Facturas]  WITH NOCHECK ADD  CONSTRAINT [FK_Facturas_AvisoFacturacion] FOREIGN KEY([IdAvisoFacturacion])\n",
    "REFERENCES [dbo].[Avisos] ([IdAviso])\n",
    "GO\n",
    "ALTER TABLE [dbo].[Facturas] NOCHECK CONSTRAINT [FK_Facturas_AvisoFacturacion]\n",
    "GO\n"
   ]
  },
  {
   "cell_type": "markdown",
   "metadata": {
    "object_type": "ForeignKey",
    "urn": "Server[@Name='Windows10-Pepe']/Database[@Name='CEFEGEN']/Table[@Name='Facturas' and @Schema='dbo']/ForeignKey[@Name='FK_Facturas_AvisoInternas']"
   },
   "source": [
    "# [FK_Facturas_AvisoInternas]"
   ]
  },
  {
   "cell_type": "code",
   "execution_count": 0,
   "metadata": {
    "object_type": "ForeignKey",
    "urn": "Server[@Name='Windows10-Pepe']/Database[@Name='CEFEGEN']/Table[@Name='Facturas' and @Schema='dbo']/ForeignKey[@Name='FK_Facturas_AvisoInternas']"
   },
   "outputs": [],
   "source": [
    "ALTER TABLE [dbo].[Facturas]  WITH NOCHECK ADD  CONSTRAINT [FK_Facturas_AvisoInternas] FOREIGN KEY([IdAvisoInternas])\n",
    "REFERENCES [dbo].[Avisos] ([IdAviso])\n",
    "GO\n",
    "ALTER TABLE [dbo].[Facturas] NOCHECK CONSTRAINT [FK_Facturas_AvisoInternas]\n",
    "GO\n"
   ]
  },
  {
   "cell_type": "markdown",
   "metadata": {
    "object_type": "ForeignKey",
    "urn": "Server[@Name='Windows10-Pepe']/Database[@Name='CEFEGEN']/Table[@Name='Facturas' and @Schema='dbo']/ForeignKey[@Name='FK_Facturas_Cliente']"
   },
   "source": [
    "# [FK_Facturas_Cliente]"
   ]
  },
  {
   "cell_type": "code",
   "execution_count": 0,
   "metadata": {
    "object_type": "ForeignKey",
    "urn": "Server[@Name='Windows10-Pepe']/Database[@Name='CEFEGEN']/Table[@Name='Facturas' and @Schema='dbo']/ForeignKey[@Name='FK_Facturas_Cliente']"
   },
   "outputs": [],
   "source": [
    "ALTER TABLE [dbo].[Facturas]  WITH NOCHECK ADD  CONSTRAINT [FK_Facturas_Cliente] FOREIGN KEY([IdLaboratorioColaborador])\n",
    "REFERENCES [dbo].[LaboratoriosColaboradores] ([IdLaboratorioColaborador])\n",
    "GO\n",
    "ALTER TABLE [dbo].[Facturas] NOCHECK CONSTRAINT [FK_Facturas_Cliente]\n",
    "GO\n"
   ]
  },
  {
   "cell_type": "markdown",
   "metadata": {
    "object_type": "ForeignKey",
    "urn": "Server[@Name='Windows10-Pepe']/Database[@Name='CEFEGEN']/Table[@Name='Facturas' and @Schema='dbo']/ForeignKey[@Name='FK_Facturas_Direcciones']"
   },
   "source": [
    "# [FK_Facturas_Direcciones]"
   ]
  },
  {
   "cell_type": "code",
   "execution_count": 0,
   "metadata": {
    "object_type": "ForeignKey",
    "urn": "Server[@Name='Windows10-Pepe']/Database[@Name='CEFEGEN']/Table[@Name='Facturas' and @Schema='dbo']/ForeignKey[@Name='FK_Facturas_Direcciones']"
   },
   "outputs": [],
   "source": [
    "ALTER TABLE [dbo].[Facturas]  WITH CHECK ADD  CONSTRAINT [FK_Facturas_Direcciones] FOREIGN KEY([IdDireccion])\n",
    "REFERENCES [dbo].[Direcciones] ([IdDireccion])\n",
    "GO\n",
    "ALTER TABLE [dbo].[Facturas] CHECK CONSTRAINT [FK_Facturas_Direcciones]\n",
    "GO\n"
   ]
  },
  {
   "cell_type": "markdown",
   "metadata": {
    "object_type": "ForeignKey",
    "urn": "Server[@Name='Windows10-Pepe']/Database[@Name='CEFEGEN']/Table[@Name='Facturas' and @Schema='dbo']/ForeignKey[@Name='FK_Facturas_Empresa']"
   },
   "source": [
    "# [FK_Facturas_Empresa]"
   ]
  },
  {
   "cell_type": "code",
   "execution_count": 0,
   "metadata": {
    "object_type": "ForeignKey",
    "urn": "Server[@Name='Windows10-Pepe']/Database[@Name='CEFEGEN']/Table[@Name='Facturas' and @Schema='dbo']/ForeignKey[@Name='FK_Facturas_Empresa']"
   },
   "outputs": [],
   "source": [
    "ALTER TABLE [dbo].[Facturas]  WITH NOCHECK ADD  CONSTRAINT [FK_Facturas_Empresa] FOREIGN KEY([IdEmpresa])\n",
    "REFERENCES [dbo].[Empresas] ([IdEmpresa])\n",
    "GO\n",
    "ALTER TABLE [dbo].[Facturas] NOCHECK CONSTRAINT [FK_Facturas_Empresa]\n",
    "GO\n"
   ]
  },
  {
   "cell_type": "markdown",
   "metadata": {
    "object_type": "ForeignKey",
    "urn": "Server[@Name='Windows10-Pepe']/Database[@Name='CEFEGEN']/Table[@Name='Facturas' and @Schema='dbo']/ForeignKey[@Name='FK_Facturas_FormaPago']"
   },
   "source": [
    "# [FK_Facturas_FormaPago]"
   ]
  },
  {
   "cell_type": "code",
   "execution_count": 0,
   "metadata": {
    "object_type": "ForeignKey",
    "urn": "Server[@Name='Windows10-Pepe']/Database[@Name='CEFEGEN']/Table[@Name='Facturas' and @Schema='dbo']/ForeignKey[@Name='FK_Facturas_FormaPago']"
   },
   "outputs": [],
   "source": [
    "ALTER TABLE [dbo].[Facturas]  WITH NOCHECK ADD  CONSTRAINT [FK_Facturas_FormaPago] FOREIGN KEY([IdFormaPago])\n",
    "REFERENCES [dbo].[FormasPago] ([IdFormaPago])\n",
    "GO\n",
    "ALTER TABLE [dbo].[Facturas] NOCHECK CONSTRAINT [FK_Facturas_FormaPago]\n",
    "GO\n"
   ]
  },
  {
   "cell_type": "markdown",
   "metadata": {
    "object_type": "ForeignKey",
    "urn": "Server[@Name='Windows10-Pepe']/Database[@Name='CEFEGEN']/Table[@Name='Facturas' and @Schema='dbo']/ForeignKey[@Name='FK_Facturas_IVA1']"
   },
   "source": [
    "# [FK_Facturas_IVA1]"
   ]
  },
  {
   "cell_type": "code",
   "execution_count": 0,
   "metadata": {
    "object_type": "ForeignKey",
    "urn": "Server[@Name='Windows10-Pepe']/Database[@Name='CEFEGEN']/Table[@Name='Facturas' and @Schema='dbo']/ForeignKey[@Name='FK_Facturas_IVA1']"
   },
   "outputs": [],
   "source": [
    "ALTER TABLE [dbo].[Facturas]  WITH NOCHECK ADD  CONSTRAINT [FK_Facturas_IVA1] FOREIGN KEY([IdIVA1])\n",
    "REFERENCES [dbo].[IVA] ([IdIVA])\n",
    "GO\n",
    "ALTER TABLE [dbo].[Facturas] NOCHECK CONSTRAINT [FK_Facturas_IVA1]\n",
    "GO\n"
   ]
  },
  {
   "cell_type": "markdown",
   "metadata": {
    "object_type": "ForeignKey",
    "urn": "Server[@Name='Windows10-Pepe']/Database[@Name='CEFEGEN']/Table[@Name='Facturas' and @Schema='dbo']/ForeignKey[@Name='FK_Facturas_IVA2']"
   },
   "source": [
    "# [FK_Facturas_IVA2]"
   ]
  },
  {
   "cell_type": "code",
   "execution_count": 0,
   "metadata": {
    "object_type": "ForeignKey",
    "urn": "Server[@Name='Windows10-Pepe']/Database[@Name='CEFEGEN']/Table[@Name='Facturas' and @Schema='dbo']/ForeignKey[@Name='FK_Facturas_IVA2']"
   },
   "outputs": [],
   "source": [
    "ALTER TABLE [dbo].[Facturas]  WITH NOCHECK ADD  CONSTRAINT [FK_Facturas_IVA2] FOREIGN KEY([IdIVA2])\n",
    "REFERENCES [dbo].[IVA] ([IdIVA])\n",
    "GO\n",
    "ALTER TABLE [dbo].[Facturas] NOCHECK CONSTRAINT [FK_Facturas_IVA2]\n",
    "GO\n"
   ]
  },
  {
   "cell_type": "markdown",
   "metadata": {
    "object_type": "ForeignKey",
    "urn": "Server[@Name='Windows10-Pepe']/Database[@Name='CEFEGEN']/Table[@Name='Facturas' and @Schema='dbo']/ForeignKey[@Name='FK_Facturas_IVA3']"
   },
   "source": [
    "# [FK_Facturas_IVA3]"
   ]
  },
  {
   "cell_type": "code",
   "execution_count": 0,
   "metadata": {
    "object_type": "ForeignKey",
    "urn": "Server[@Name='Windows10-Pepe']/Database[@Name='CEFEGEN']/Table[@Name='Facturas' and @Schema='dbo']/ForeignKey[@Name='FK_Facturas_IVA3']"
   },
   "outputs": [],
   "source": [
    "ALTER TABLE [dbo].[Facturas]  WITH NOCHECK ADD  CONSTRAINT [FK_Facturas_IVA3] FOREIGN KEY([IdIVA3])\n",
    "REFERENCES [dbo].[IVA] ([IdIVA])\n",
    "GO\n",
    "ALTER TABLE [dbo].[Facturas] NOCHECK CONSTRAINT [FK_Facturas_IVA3]\n",
    "GO\n"
   ]
  },
  {
   "cell_type": "markdown",
   "metadata": {
    "object_type": "ForeignKey",
    "urn": "Server[@Name='Windows10-Pepe']/Database[@Name='CEFEGEN']/Table[@Name='Facturas' and @Schema='dbo']/ForeignKey[@Name='FK_Facturas_Solicitantes']"
   },
   "source": [
    "# [FK_Facturas_Solicitantes]"
   ]
  },
  {
   "cell_type": "code",
   "execution_count": 0,
   "metadata": {
    "object_type": "ForeignKey",
    "urn": "Server[@Name='Windows10-Pepe']/Database[@Name='CEFEGEN']/Table[@Name='Facturas' and @Schema='dbo']/ForeignKey[@Name='FK_Facturas_Solicitantes']"
   },
   "outputs": [],
   "source": [
    "ALTER TABLE [dbo].[Facturas]  WITH NOCHECK ADD  CONSTRAINT [FK_Facturas_Solicitantes] FOREIGN KEY([IdSolicitante])\n",
    "REFERENCES [dbo].[Solicitantes] ([IdSolicitante])\n",
    "GO\n",
    "ALTER TABLE [dbo].[Facturas] NOCHECK CONSTRAINT [FK_Facturas_Solicitantes]\n",
    "GO\n"
   ]
  },
  {
   "cell_type": "markdown",
   "metadata": {
    "object_type": "ForeignKey",
    "urn": "Server[@Name='Windows10-Pepe']/Database[@Name='CEFEGEN']/Table[@Name='Facturas' and @Schema='dbo']/ForeignKey[@Name='FK_Facturas_Tarifa']"
   },
   "source": [
    "# [FK_Facturas_Tarifa]"
   ]
  },
  {
   "cell_type": "code",
   "execution_count": 0,
   "metadata": {
    "object_type": "ForeignKey",
    "urn": "Server[@Name='Windows10-Pepe']/Database[@Name='CEFEGEN']/Table[@Name='Facturas' and @Schema='dbo']/ForeignKey[@Name='FK_Facturas_Tarifa']"
   },
   "outputs": [],
   "source": [
    "ALTER TABLE [dbo].[Facturas]  WITH NOCHECK ADD  CONSTRAINT [FK_Facturas_Tarifa] FOREIGN KEY([IdTarifa])\n",
    "REFERENCES [dbo].[Tarifas] ([IdTarifa])\n",
    "GO\n",
    "ALTER TABLE [dbo].[Facturas] NOCHECK CONSTRAINT [FK_Facturas_Tarifa]\n",
    "GO\n"
   ]
  },
  {
   "cell_type": "markdown",
   "metadata": {
    "object_type": "ForeignKey",
    "urn": "Server[@Name='Windows10-Pepe']/Database[@Name='CEFEGEN']/Table[@Name='HistorialImpresion' and @Schema='dbo']/ForeignKey[@Name='FK__Historial__IdImp__5C8CB268']"
   },
   "source": [
    "# [FK__Historial__IdImp__5C8CB268]"
   ]
  },
  {
   "cell_type": "code",
   "execution_count": 0,
   "metadata": {
    "object_type": "ForeignKey",
    "urn": "Server[@Name='Windows10-Pepe']/Database[@Name='CEFEGEN']/Table[@Name='HistorialImpresion' and @Schema='dbo']/ForeignKey[@Name='FK__Historial__IdImp__5C8CB268']"
   },
   "outputs": [],
   "source": [
    "ALTER TABLE [dbo].[HistorialImpresion]  WITH NOCHECK ADD FOREIGN KEY([IdImpresora])\n",
    "REFERENCES [dbo].[Impresoras] ([IdImpresora])\n",
    "GO\n"
   ]
  },
  {
   "cell_type": "markdown",
   "metadata": {
    "object_type": "ForeignKey",
    "urn": "Server[@Name='Windows10-Pepe']/Database[@Name='CEFEGEN']/Table[@Name='HistorialImpresion' and @Schema='dbo']/ForeignKey[@Name='FK__Historial__IdUsu__5E74FADA']"
   },
   "source": [
    "# [FK__Historial__IdUsu__5E74FADA]"
   ]
  },
  {
   "cell_type": "code",
   "execution_count": 0,
   "metadata": {
    "object_type": "ForeignKey",
    "urn": "Server[@Name='Windows10-Pepe']/Database[@Name='CEFEGEN']/Table[@Name='HistorialImpresion' and @Schema='dbo']/ForeignKey[@Name='FK__Historial__IdUsu__5E74FADA']"
   },
   "outputs": [],
   "source": [
    "ALTER TABLE [dbo].[HistorialImpresion]  WITH NOCHECK ADD FOREIGN KEY([IdUsuario])\n",
    "REFERENCES [dbo].[Usuarios] ([IdUsuario])\n",
    "GO\n"
   ]
  },
  {
   "cell_type": "markdown",
   "metadata": {
    "object_type": "ForeignKey",
    "urn": "Server[@Name='Windows10-Pepe']/Database[@Name='CEFEGEN']/Table[@Name='IndiceParentesco' and @Schema='dbo']/ForeignKey[@Name='FK_IndiceParentesco_Perfil1']"
   },
   "source": [
    "# [FK_IndiceParentesco_Perfil1]"
   ]
  },
  {
   "cell_type": "code",
   "execution_count": 0,
   "metadata": {
    "object_type": "ForeignKey",
    "urn": "Server[@Name='Windows10-Pepe']/Database[@Name='CEFEGEN']/Table[@Name='IndiceParentesco' and @Schema='dbo']/ForeignKey[@Name='FK_IndiceParentesco_Perfil1']"
   },
   "outputs": [],
   "source": [
    "ALTER TABLE [dbo].[IndiceParentesco]  WITH NOCHECK ADD  CONSTRAINT [FK_IndiceParentesco_Perfil1] FOREIGN KEY([IdPerfilGenetico1])\n",
    "REFERENCES [dbo].[PerfilesGeneticos] ([IdPerfilGenetico])\n",
    "GO\n",
    "ALTER TABLE [dbo].[IndiceParentesco] NOCHECK CONSTRAINT [FK_IndiceParentesco_Perfil1]\n",
    "GO\n"
   ]
  },
  {
   "cell_type": "markdown",
   "metadata": {
    "object_type": "ForeignKey",
    "urn": "Server[@Name='Windows10-Pepe']/Database[@Name='CEFEGEN']/Table[@Name='IndiceParentesco' and @Schema='dbo']/ForeignKey[@Name='FK_IndiceParentesco_Perfil2']"
   },
   "source": [
    "# [FK_IndiceParentesco_Perfil2]"
   ]
  },
  {
   "cell_type": "code",
   "execution_count": 0,
   "metadata": {
    "object_type": "ForeignKey",
    "urn": "Server[@Name='Windows10-Pepe']/Database[@Name='CEFEGEN']/Table[@Name='IndiceParentesco' and @Schema='dbo']/ForeignKey[@Name='FK_IndiceParentesco_Perfil2']"
   },
   "outputs": [],
   "source": [
    "ALTER TABLE [dbo].[IndiceParentesco]  WITH NOCHECK ADD  CONSTRAINT [FK_IndiceParentesco_Perfil2] FOREIGN KEY([IdPerfilGenetico2])\n",
    "REFERENCES [dbo].[PerfilesGeneticos] ([IdPerfilGenetico])\n",
    "GO\n",
    "ALTER TABLE [dbo].[IndiceParentesco] NOCHECK CONSTRAINT [FK_IndiceParentesco_Perfil2]\n",
    "GO\n"
   ]
  },
  {
   "cell_type": "markdown",
   "metadata": {
    "object_type": "ForeignKey",
    "urn": "Server[@Name='Windows10-Pepe']/Database[@Name='CEFEGEN']/Table[@Name='IndiceParentesco' and @Schema='dbo']/ForeignKey[@Name='FK_IndiceParentesco_ResultadosParentesco']"
   },
   "source": [
    "# [FK_IndiceParentesco_ResultadosParentesco]"
   ]
  },
  {
   "cell_type": "code",
   "execution_count": 0,
   "metadata": {
    "object_type": "ForeignKey",
    "urn": "Server[@Name='Windows10-Pepe']/Database[@Name='CEFEGEN']/Table[@Name='IndiceParentesco' and @Schema='dbo']/ForeignKey[@Name='FK_IndiceParentesco_ResultadosParentesco']"
   },
   "outputs": [],
   "source": [
    "ALTER TABLE [dbo].[IndiceParentesco]  WITH NOCHECK ADD  CONSTRAINT [FK_IndiceParentesco_ResultadosParentesco] FOREIGN KEY([IdResultadoParentesco])\n",
    "REFERENCES [dbo].[ResultadosParentesco] ([IdResultadoParentesco])\n",
    "GO\n",
    "ALTER TABLE [dbo].[IndiceParentesco] NOCHECK CONSTRAINT [FK_IndiceParentesco_ResultadosParentesco]\n",
    "GO\n"
   ]
  },
  {
   "cell_type": "markdown",
   "metadata": {
    "object_type": "ForeignKey",
    "urn": "Server[@Name='Windows10-Pepe']/Database[@Name='CEFEGEN']/Table[@Name='IndiceParentesco' and @Schema='dbo']/ForeignKey[@Name='FK_IndiceParentesco_Solicitud']"
   },
   "source": [
    "# [FK_IndiceParentesco_Solicitud]"
   ]
  },
  {
   "cell_type": "code",
   "execution_count": 0,
   "metadata": {
    "object_type": "ForeignKey",
    "urn": "Server[@Name='Windows10-Pepe']/Database[@Name='CEFEGEN']/Table[@Name='IndiceParentesco' and @Schema='dbo']/ForeignKey[@Name='FK_IndiceParentesco_Solicitud']"
   },
   "outputs": [],
   "source": [
    "ALTER TABLE [dbo].[IndiceParentesco]  WITH NOCHECK ADD  CONSTRAINT [FK_IndiceParentesco_Solicitud] FOREIGN KEY([IdSolicitud])\n",
    "REFERENCES [dbo].[Solicitudes] ([IdSolicitud])\n",
    "GO\n",
    "ALTER TABLE [dbo].[IndiceParentesco] NOCHECK CONSTRAINT [FK_IndiceParentesco_Solicitud]\n",
    "GO\n"
   ]
  },
  {
   "cell_type": "markdown",
   "metadata": {
    "object_type": "ForeignKey",
    "urn": "Server[@Name='Windows10-Pepe']/Database[@Name='CEFEGEN']/Table[@Name='IndiceParentesco' and @Schema='dbo']/ForeignKey[@Name='FK_IndiceParentesco_Usuario']"
   },
   "source": [
    "# [FK_IndiceParentesco_Usuario]"
   ]
  },
  {
   "cell_type": "code",
   "execution_count": 0,
   "metadata": {
    "object_type": "ForeignKey",
    "urn": "Server[@Name='Windows10-Pepe']/Database[@Name='CEFEGEN']/Table[@Name='IndiceParentesco' and @Schema='dbo']/ForeignKey[@Name='FK_IndiceParentesco_Usuario']"
   },
   "outputs": [],
   "source": [
    "ALTER TABLE [dbo].[IndiceParentesco]  WITH NOCHECK ADD  CONSTRAINT [FK_IndiceParentesco_Usuario] FOREIGN KEY([IdUsuarioAnalista])\n",
    "REFERENCES [dbo].[Usuarios] ([IdUsuario])\n",
    "GO\n",
    "ALTER TABLE [dbo].[IndiceParentesco] NOCHECK CONSTRAINT [FK_IndiceParentesco_Usuario]\n",
    "GO\n"
   ]
  },
  {
   "cell_type": "markdown",
   "metadata": {
    "object_type": "ForeignKey",
    "urn": "Server[@Name='Windows10-Pepe']/Database[@Name='CEFEGEN']/Table[@Name='IndiceParentesco_Resultados' and @Schema='dbo']/ForeignKey[@Name='FK_IndiceParentesco_Resultados_IndiceParentesco']"
   },
   "source": [
    "# [FK_IndiceParentesco_Resultados_IndiceParentesco]"
   ]
  },
  {
   "cell_type": "code",
   "execution_count": 0,
   "metadata": {
    "object_type": "ForeignKey",
    "urn": "Server[@Name='Windows10-Pepe']/Database[@Name='CEFEGEN']/Table[@Name='IndiceParentesco_Resultados' and @Schema='dbo']/ForeignKey[@Name='FK_IndiceParentesco_Resultados_IndiceParentesco']"
   },
   "outputs": [],
   "source": [
    "ALTER TABLE [dbo].[IndiceParentesco_Resultados]  WITH NOCHECK ADD  CONSTRAINT [FK_IndiceParentesco_Resultados_IndiceParentesco] FOREIGN KEY([IdIndiceParentesco])\n",
    "REFERENCES [dbo].[IndiceParentesco] ([IdIndiceParentesco])\n",
    "GO\n",
    "ALTER TABLE [dbo].[IndiceParentesco_Resultados] NOCHECK CONSTRAINT [FK_IndiceParentesco_Resultados_IndiceParentesco]\n",
    "GO\n"
   ]
  },
  {
   "cell_type": "markdown",
   "metadata": {
    "object_type": "ForeignKey",
    "urn": "Server[@Name='Windows10-Pepe']/Database[@Name='CEFEGEN']/Table[@Name='IndiceParentesco_Resultados' and @Schema='dbo']/ForeignKey[@Name='FK_IndiceParentesco_Resultados_ResultadosParentesco']"
   },
   "source": [
    "# [FK_IndiceParentesco_Resultados_ResultadosParentesco]"
   ]
  },
  {
   "cell_type": "code",
   "execution_count": 0,
   "metadata": {
    "object_type": "ForeignKey",
    "urn": "Server[@Name='Windows10-Pepe']/Database[@Name='CEFEGEN']/Table[@Name='IndiceParentesco_Resultados' and @Schema='dbo']/ForeignKey[@Name='FK_IndiceParentesco_Resultados_ResultadosParentesco']"
   },
   "outputs": [],
   "source": [
    "ALTER TABLE [dbo].[IndiceParentesco_Resultados]  WITH NOCHECK ADD  CONSTRAINT [FK_IndiceParentesco_Resultados_ResultadosParentesco] FOREIGN KEY([IdResultadoParentesco])\n",
    "REFERENCES [dbo].[ResultadosParentesco] ([IdResultadoParentesco])\n",
    "GO\n",
    "ALTER TABLE [dbo].[IndiceParentesco_Resultados] NOCHECK CONSTRAINT [FK_IndiceParentesco_Resultados_ResultadosParentesco]\n",
    "GO\n"
   ]
  },
  {
   "cell_type": "markdown",
   "metadata": {
    "object_type": "ForeignKey",
    "urn": "Server[@Name='Windows10-Pepe']/Database[@Name='CEFEGEN']/Table[@Name='InformesGenerados' and @Schema='dbo']/ForeignKey[@Name='FK_InformesGenerados_Documentos']"
   },
   "source": [
    "# [FK_InformesGenerados_Documentos]"
   ]
  },
  {
   "cell_type": "code",
   "execution_count": 0,
   "metadata": {
    "object_type": "ForeignKey",
    "urn": "Server[@Name='Windows10-Pepe']/Database[@Name='CEFEGEN']/Table[@Name='InformesGenerados' and @Schema='dbo']/ForeignKey[@Name='FK_InformesGenerados_Documentos']"
   },
   "outputs": [],
   "source": [
    "ALTER TABLE [dbo].[InformesGenerados]  WITH NOCHECK ADD  CONSTRAINT [FK_InformesGenerados_Documentos] FOREIGN KEY([IdDocumento])\n",
    "REFERENCES [dbo].[Documentos] ([IdDocumento])\n",
    "GO\n",
    "ALTER TABLE [dbo].[InformesGenerados] NOCHECK CONSTRAINT [FK_InformesGenerados_Documentos]\n",
    "GO\n"
   ]
  },
  {
   "cell_type": "markdown",
   "metadata": {
    "object_type": "ForeignKey",
    "urn": "Server[@Name='Windows10-Pepe']/Database[@Name='CEFEGEN']/Table[@Name='InformesGenerados' and @Schema='dbo']/ForeignKey[@Name='FK_InformesGenerados_Plantillas']"
   },
   "source": [
    "# [FK_InformesGenerados_Plantillas]"
   ]
  },
  {
   "cell_type": "code",
   "execution_count": 0,
   "metadata": {
    "object_type": "ForeignKey",
    "urn": "Server[@Name='Windows10-Pepe']/Database[@Name='CEFEGEN']/Table[@Name='InformesGenerados' and @Schema='dbo']/ForeignKey[@Name='FK_InformesGenerados_Plantillas']"
   },
   "outputs": [],
   "source": [
    "ALTER TABLE [dbo].[InformesGenerados]  WITH NOCHECK ADD  CONSTRAINT [FK_InformesGenerados_Plantillas] FOREIGN KEY([IdPlantilla])\n",
    "REFERENCES [dbo].[PlantillasInforme] ([IdPlantilla])\n",
    "GO\n",
    "ALTER TABLE [dbo].[InformesGenerados] NOCHECK CONSTRAINT [FK_InformesGenerados_Plantillas]\n",
    "GO\n"
   ]
  },
  {
   "cell_type": "markdown",
   "metadata": {
    "object_type": "ForeignKey",
    "urn": "Server[@Name='Windows10-Pepe']/Database[@Name='CEFEGEN']/Table[@Name='InformesGenerados' and @Schema='dbo']/ForeignKey[@Name='FK_InformesGenerados_Solicitudes']"
   },
   "source": [
    "# [FK_InformesGenerados_Solicitudes]"
   ]
  },
  {
   "cell_type": "code",
   "execution_count": 0,
   "metadata": {
    "object_type": "ForeignKey",
    "urn": "Server[@Name='Windows10-Pepe']/Database[@Name='CEFEGEN']/Table[@Name='InformesGenerados' and @Schema='dbo']/ForeignKey[@Name='FK_InformesGenerados_Solicitudes']"
   },
   "outputs": [],
   "source": [
    "ALTER TABLE [dbo].[InformesGenerados]  WITH NOCHECK ADD  CONSTRAINT [FK_InformesGenerados_Solicitudes] FOREIGN KEY([IdSolicitud])\n",
    "REFERENCES [dbo].[Solicitudes] ([IdSolicitud])\n",
    "GO\n",
    "ALTER TABLE [dbo].[InformesGenerados] NOCHECK CONSTRAINT [FK_InformesGenerados_Solicitudes]\n",
    "GO\n"
   ]
  },
  {
   "cell_type": "markdown",
   "metadata": {
    "object_type": "ForeignKey",
    "urn": "Server[@Name='Windows10-Pepe']/Database[@Name='CEFEGEN']/Table[@Name='InformesGenerados' and @Schema='dbo']/ForeignKey[@Name='FK_InformesGenerados_Usuarios']"
   },
   "source": [
    "# [FK_InformesGenerados_Usuarios]"
   ]
  },
  {
   "cell_type": "code",
   "execution_count": 0,
   "metadata": {
    "object_type": "ForeignKey",
    "urn": "Server[@Name='Windows10-Pepe']/Database[@Name='CEFEGEN']/Table[@Name='InformesGenerados' and @Schema='dbo']/ForeignKey[@Name='FK_InformesGenerados_Usuarios']"
   },
   "outputs": [],
   "source": [
    "ALTER TABLE [dbo].[InformesGenerados]  WITH NOCHECK ADD  CONSTRAINT [FK_InformesGenerados_Usuarios] FOREIGN KEY([IdUsuario])\n",
    "REFERENCES [dbo].[Usuarios] ([IdUsuario])\n",
    "GO\n",
    "ALTER TABLE [dbo].[InformesGenerados] NOCHECK CONSTRAINT [FK_InformesGenerados_Usuarios]\n",
    "GO\n"
   ]
  },
  {
   "cell_type": "markdown",
   "metadata": {
    "object_type": "ForeignKey",
    "urn": "Server[@Name='Windows10-Pepe']/Database[@Name='CEFEGEN']/Table[@Name='Intervinientes' and @Schema='dbo']/ForeignKey[@Name='FK__Intervini__IdSol__16644E42']"
   },
   "source": [
    "# [FK__Intervini__IdSol__16644E42]"
   ]
  },
  {
   "cell_type": "code",
   "execution_count": 0,
   "metadata": {
    "object_type": "ForeignKey",
    "urn": "Server[@Name='Windows10-Pepe']/Database[@Name='CEFEGEN']/Table[@Name='Intervinientes' and @Schema='dbo']/ForeignKey[@Name='FK__Intervini__IdSol__16644E42']"
   },
   "outputs": [],
   "source": [
    "ALTER TABLE [dbo].[Intervinientes]  WITH NOCHECK ADD FOREIGN KEY([IdSolicitud])\n",
    "REFERENCES [dbo].[Solicitudes] ([IdSolicitud])\n",
    "GO\n"
   ]
  },
  {
   "cell_type": "markdown",
   "metadata": {
    "object_type": "ForeignKey",
    "urn": "Server[@Name='Windows10-Pepe']/Database[@Name='CEFEGEN']/Table[@Name='Intervinientes' and @Schema='dbo']/ForeignKey[@Name='FK_Intervinientes_Direcciones']"
   },
   "source": [
    "# [FK_Intervinientes_Direcciones]"
   ]
  },
  {
   "cell_type": "code",
   "execution_count": 0,
   "metadata": {
    "object_type": "ForeignKey",
    "urn": "Server[@Name='Windows10-Pepe']/Database[@Name='CEFEGEN']/Table[@Name='Intervinientes' and @Schema='dbo']/ForeignKey[@Name='FK_Intervinientes_Direcciones']"
   },
   "outputs": [],
   "source": [
    "ALTER TABLE [dbo].[Intervinientes]  WITH CHECK ADD  CONSTRAINT [FK_Intervinientes_Direcciones] FOREIGN KEY([IdDireccion])\n",
    "REFERENCES [dbo].[Direcciones] ([IdDireccion])\n",
    "GO\n",
    "ALTER TABLE [dbo].[Intervinientes] CHECK CONSTRAINT [FK_Intervinientes_Direcciones]\n",
    "GO\n"
   ]
  },
  {
   "cell_type": "markdown",
   "metadata": {
    "object_type": "ForeignKey",
    "urn": "Server[@Name='Windows10-Pepe']/Database[@Name='CEFEGEN']/Table[@Name='Intervinientes' and @Schema='dbo']/ForeignKey[@Name='FK_Intervinientes_Solicitantes']"
   },
   "source": [
    "# [FK_Intervinientes_Solicitantes]"
   ]
  },
  {
   "cell_type": "code",
   "execution_count": 0,
   "metadata": {
    "object_type": "ForeignKey",
    "urn": "Server[@Name='Windows10-Pepe']/Database[@Name='CEFEGEN']/Table[@Name='Intervinientes' and @Schema='dbo']/ForeignKey[@Name='FK_Intervinientes_Solicitantes']"
   },
   "outputs": [],
   "source": [
    "ALTER TABLE [dbo].[Intervinientes]  WITH NOCHECK ADD  CONSTRAINT [FK_Intervinientes_Solicitantes] FOREIGN KEY([IdSolicitante])\n",
    "REFERENCES [dbo].[Solicitantes] ([IdSolicitante])\n",
    "GO\n",
    "ALTER TABLE [dbo].[Intervinientes] NOCHECK CONSTRAINT [FK_Intervinientes_Solicitantes]\n",
    "GO\n"
   ]
  },
  {
   "cell_type": "markdown",
   "metadata": {
    "object_type": "ForeignKey",
    "urn": "Server[@Name='Windows10-Pepe']/Database[@Name='CEFEGEN']/Table[@Name='Intervinientes' and @Schema='dbo']/ForeignKey[@Name='FK_Intervinientes_TipoInterviniente']"
   },
   "source": [
    "# [FK_Intervinientes_TipoInterviniente]"
   ]
  },
  {
   "cell_type": "code",
   "execution_count": 0,
   "metadata": {
    "object_type": "ForeignKey",
    "urn": "Server[@Name='Windows10-Pepe']/Database[@Name='CEFEGEN']/Table[@Name='Intervinientes' and @Schema='dbo']/ForeignKey[@Name='FK_Intervinientes_TipoInterviniente']"
   },
   "outputs": [],
   "source": [
    "ALTER TABLE [dbo].[Intervinientes]  WITH NOCHECK ADD  CONSTRAINT [FK_Intervinientes_TipoInterviniente] FOREIGN KEY([IdTipoInterviniente])\n",
    "REFERENCES [dbo].[TipoInterviniente] ([Codigo])\n",
    "GO\n",
    "ALTER TABLE [dbo].[Intervinientes] NOCHECK CONSTRAINT [FK_Intervinientes_TipoInterviniente]\n",
    "GO\n"
   ]
  },
  {
   "cell_type": "markdown",
   "metadata": {
    "object_type": "ForeignKey",
    "urn": "Server[@Name='Windows10-Pepe']/Database[@Name='CEFEGEN']/Table[@Name='Intervinientes' and @Schema='dbo']/ForeignKey[@Name='FK_Intervinientes_TiposDocumentos']"
   },
   "source": [
    "# [FK_Intervinientes_TiposDocumentos]"
   ]
  },
  {
   "cell_type": "code",
   "execution_count": 0,
   "metadata": {
    "object_type": "ForeignKey",
    "urn": "Server[@Name='Windows10-Pepe']/Database[@Name='CEFEGEN']/Table[@Name='Intervinientes' and @Schema='dbo']/ForeignKey[@Name='FK_Intervinientes_TiposDocumentos']"
   },
   "outputs": [],
   "source": [
    "ALTER TABLE [dbo].[Intervinientes]  WITH NOCHECK ADD  CONSTRAINT [FK_Intervinientes_TiposDocumentos] FOREIGN KEY([IdTipoDocumento])\n",
    "REFERENCES [dbo].[TiposDocumentos] ([IdTipoDocumento])\n",
    "GO\n",
    "ALTER TABLE [dbo].[Intervinientes] NOCHECK CONSTRAINT [FK_Intervinientes_TiposDocumentos]\n",
    "GO\n"
   ]
  },
  {
   "cell_type": "markdown",
   "metadata": {
    "object_type": "ForeignKey",
    "urn": "Server[@Name='Windows10-Pepe']/Database[@Name='CEFEGEN']/Table[@Name='LaboratorioImportes' and @Schema='dbo']/ForeignKey[@Name='FK_LaboratorioImportes_LaboratoriosColaboradores']"
   },
   "source": [
    "# [FK_LaboratorioImportes_LaboratoriosColaboradores]"
   ]
  },
  {
   "cell_type": "code",
   "execution_count": 0,
   "metadata": {
    "object_type": "ForeignKey",
    "urn": "Server[@Name='Windows10-Pepe']/Database[@Name='CEFEGEN']/Table[@Name='LaboratorioImportes' and @Schema='dbo']/ForeignKey[@Name='FK_LaboratorioImportes_LaboratoriosColaboradores']"
   },
   "outputs": [],
   "source": [
    "ALTER TABLE [dbo].[LaboratorioImportes]  WITH NOCHECK ADD  CONSTRAINT [FK_LaboratorioImportes_LaboratoriosColaboradores] FOREIGN KEY([IdLaboratorioColaborador])\n",
    "REFERENCES [dbo].[LaboratoriosColaboradores] ([IdLaboratorioColaborador])\n",
    "GO\n",
    "ALTER TABLE [dbo].[LaboratorioImportes] NOCHECK CONSTRAINT [FK_LaboratorioImportes_LaboratoriosColaboradores]\n",
    "GO\n"
   ]
  },
  {
   "cell_type": "markdown",
   "metadata": {
    "object_type": "ForeignKey",
    "urn": "Server[@Name='Windows10-Pepe']/Database[@Name='CEFEGEN']/Table[@Name='LaboratoriosColaboradores' and @Schema='dbo']/ForeignKey[@Name='FK_Laboratorio_Actividad']"
   },
   "source": [
    "# [FK_Laboratorio_Actividad]"
   ]
  },
  {
   "cell_type": "code",
   "execution_count": 0,
   "metadata": {
    "object_type": "ForeignKey",
    "urn": "Server[@Name='Windows10-Pepe']/Database[@Name='CEFEGEN']/Table[@Name='LaboratoriosColaboradores' and @Schema='dbo']/ForeignKey[@Name='FK_Laboratorio_Actividad']"
   },
   "outputs": [],
   "source": [
    "ALTER TABLE [dbo].[LaboratoriosColaboradores]  WITH NOCHECK ADD  CONSTRAINT [FK_Laboratorio_Actividad] FOREIGN KEY([IdActividad])\n",
    "REFERENCES [dbo].[Actividades] ([IdActividad])\n",
    "GO\n",
    "ALTER TABLE [dbo].[LaboratoriosColaboradores] NOCHECK CONSTRAINT [FK_Laboratorio_Actividad]\n",
    "GO\n"
   ]
  },
  {
   "cell_type": "markdown",
   "metadata": {
    "object_type": "ForeignKey",
    "urn": "Server[@Name='Windows10-Pepe']/Database[@Name='CEFEGEN']/Table[@Name='LaboratoriosColaboradores' and @Schema='dbo']/ForeignKey[@Name='FK_Laboratorio_AvisoAdmon']"
   },
   "source": [
    "# [FK_Laboratorio_AvisoAdmon]"
   ]
  },
  {
   "cell_type": "code",
   "execution_count": 0,
   "metadata": {
    "object_type": "ForeignKey",
    "urn": "Server[@Name='Windows10-Pepe']/Database[@Name='CEFEGEN']/Table[@Name='LaboratoriosColaboradores' and @Schema='dbo']/ForeignKey[@Name='FK_Laboratorio_AvisoAdmon']"
   },
   "outputs": [],
   "source": [
    "ALTER TABLE [dbo].[LaboratoriosColaboradores]  WITH NOCHECK ADD  CONSTRAINT [FK_Laboratorio_AvisoAdmon] FOREIGN KEY([IdAvisoAdmon])\n",
    "REFERENCES [dbo].[Avisos] ([IdAviso])\n",
    "GO\n",
    "ALTER TABLE [dbo].[LaboratoriosColaboradores] NOCHECK CONSTRAINT [FK_Laboratorio_AvisoAdmon]\n",
    "GO\n"
   ]
  },
  {
   "cell_type": "markdown",
   "metadata": {
    "object_type": "ForeignKey",
    "urn": "Server[@Name='Windows10-Pepe']/Database[@Name='CEFEGEN']/Table[@Name='LaboratoriosColaboradores' and @Schema='dbo']/ForeignKey[@Name='FK_Laboratorio_AvisoFacturacion']"
   },
   "source": [
    "# [FK_Laboratorio_AvisoFacturacion]"
   ]
  },
  {
   "cell_type": "code",
   "execution_count": 0,
   "metadata": {
    "object_type": "ForeignKey",
    "urn": "Server[@Name='Windows10-Pepe']/Database[@Name='CEFEGEN']/Table[@Name='LaboratoriosColaboradores' and @Schema='dbo']/ForeignKey[@Name='FK_Laboratorio_AvisoFacturacion']"
   },
   "outputs": [],
   "source": [
    "ALTER TABLE [dbo].[LaboratoriosColaboradores]  WITH NOCHECK ADD  CONSTRAINT [FK_Laboratorio_AvisoFacturacion] FOREIGN KEY([IdAvisoFacturacion])\n",
    "REFERENCES [dbo].[Avisos] ([IdAviso])\n",
    "GO\n",
    "ALTER TABLE [dbo].[LaboratoriosColaboradores] NOCHECK CONSTRAINT [FK_Laboratorio_AvisoFacturacion]\n",
    "GO\n"
   ]
  },
  {
   "cell_type": "markdown",
   "metadata": {
    "object_type": "ForeignKey",
    "urn": "Server[@Name='Windows10-Pepe']/Database[@Name='CEFEGEN']/Table[@Name='LaboratoriosColaboradores' and @Schema='dbo']/ForeignKey[@Name='FK_Laboratorio_AvisoInternas']"
   },
   "source": [
    "# [FK_Laboratorio_AvisoInternas]"
   ]
  },
  {
   "cell_type": "code",
   "execution_count": 0,
   "metadata": {
    "object_type": "ForeignKey",
    "urn": "Server[@Name='Windows10-Pepe']/Database[@Name='CEFEGEN']/Table[@Name='LaboratoriosColaboradores' and @Schema='dbo']/ForeignKey[@Name='FK_Laboratorio_AvisoInternas']"
   },
   "outputs": [],
   "source": [
    "ALTER TABLE [dbo].[LaboratoriosColaboradores]  WITH NOCHECK ADD  CONSTRAINT [FK_Laboratorio_AvisoInternas] FOREIGN KEY([IdAvisoInternas])\n",
    "REFERENCES [dbo].[Avisos] ([IdAviso])\n",
    "GO\n",
    "ALTER TABLE [dbo].[LaboratoriosColaboradores] NOCHECK CONSTRAINT [FK_Laboratorio_AvisoInternas]\n",
    "GO\n"
   ]
  },
  {
   "cell_type": "markdown",
   "metadata": {
    "object_type": "ForeignKey",
    "urn": "Server[@Name='Windows10-Pepe']/Database[@Name='CEFEGEN']/Table[@Name='LaboratoriosColaboradores' and @Schema='dbo']/ForeignKey[@Name='FK_Laboratorio_AvisoTecnico']"
   },
   "source": [
    "# [FK_Laboratorio_AvisoTecnico]"
   ]
  },
  {
   "cell_type": "code",
   "execution_count": 0,
   "metadata": {
    "object_type": "ForeignKey",
    "urn": "Server[@Name='Windows10-Pepe']/Database[@Name='CEFEGEN']/Table[@Name='LaboratoriosColaboradores' and @Schema='dbo']/ForeignKey[@Name='FK_Laboratorio_AvisoTecnico']"
   },
   "outputs": [],
   "source": [
    "ALTER TABLE [dbo].[LaboratoriosColaboradores]  WITH NOCHECK ADD  CONSTRAINT [FK_Laboratorio_AvisoTecnico] FOREIGN KEY([IdAvisoTecnico])\n",
    "REFERENCES [dbo].[Avisos] ([IdAviso])\n",
    "GO\n",
    "ALTER TABLE [dbo].[LaboratoriosColaboradores] NOCHECK CONSTRAINT [FK_Laboratorio_AvisoTecnico]\n",
    "GO\n"
   ]
  },
  {
   "cell_type": "markdown",
   "metadata": {
    "object_type": "ForeignKey",
    "urn": "Server[@Name='Windows10-Pepe']/Database[@Name='CEFEGEN']/Table[@Name='LaboratoriosColaboradores' and @Schema='dbo']/ForeignKey[@Name='FK_Laboratorio_Banco']"
   },
   "source": [
    "# [FK_Laboratorio_Banco]"
   ]
  },
  {
   "cell_type": "code",
   "execution_count": 0,
   "metadata": {
    "object_type": "ForeignKey",
    "urn": "Server[@Name='Windows10-Pepe']/Database[@Name='CEFEGEN']/Table[@Name='LaboratoriosColaboradores' and @Schema='dbo']/ForeignKey[@Name='FK_Laboratorio_Banco']"
   },
   "outputs": [],
   "source": [
    "ALTER TABLE [dbo].[LaboratoriosColaboradores]  WITH NOCHECK ADD  CONSTRAINT [FK_Laboratorio_Banco] FOREIGN KEY([IdBanco])\n",
    "REFERENCES [dbo].[Bancos] ([IdBanco])\n",
    "GO\n",
    "ALTER TABLE [dbo].[LaboratoriosColaboradores] NOCHECK CONSTRAINT [FK_Laboratorio_Banco]\n",
    "GO\n"
   ]
  },
  {
   "cell_type": "markdown",
   "metadata": {
    "object_type": "ForeignKey",
    "urn": "Server[@Name='Windows10-Pepe']/Database[@Name='CEFEGEN']/Table[@Name='LaboratoriosColaboradores' and @Schema='dbo']/ForeignKey[@Name='FK_Laboratorio_FormaPago']"
   },
   "source": [
    "# [FK_Laboratorio_FormaPago]"
   ]
  },
  {
   "cell_type": "code",
   "execution_count": 0,
   "metadata": {
    "object_type": "ForeignKey",
    "urn": "Server[@Name='Windows10-Pepe']/Database[@Name='CEFEGEN']/Table[@Name='LaboratoriosColaboradores' and @Schema='dbo']/ForeignKey[@Name='FK_Laboratorio_FormaPago']"
   },
   "outputs": [],
   "source": [
    "ALTER TABLE [dbo].[LaboratoriosColaboradores]  WITH NOCHECK ADD  CONSTRAINT [FK_Laboratorio_FormaPago] FOREIGN KEY([IdFormaPago])\n",
    "REFERENCES [dbo].[FormasPago] ([IdFormaPago])\n",
    "GO\n",
    "ALTER TABLE [dbo].[LaboratoriosColaboradores] NOCHECK CONSTRAINT [FK_Laboratorio_FormaPago]\n",
    "GO\n"
   ]
  },
  {
   "cell_type": "markdown",
   "metadata": {
    "object_type": "ForeignKey",
    "urn": "Server[@Name='Windows10-Pepe']/Database[@Name='CEFEGEN']/Table[@Name='LaboratoriosColaboradores' and @Schema='dbo']/ForeignKey[@Name='FK_Laboratorio_Idioma']"
   },
   "source": [
    "# [FK_Laboratorio_Idioma]"
   ]
  },
  {
   "cell_type": "code",
   "execution_count": 0,
   "metadata": {
    "object_type": "ForeignKey",
    "urn": "Server[@Name='Windows10-Pepe']/Database[@Name='CEFEGEN']/Table[@Name='LaboratoriosColaboradores' and @Schema='dbo']/ForeignKey[@Name='FK_Laboratorio_Idioma']"
   },
   "outputs": [],
   "source": [
    "ALTER TABLE [dbo].[LaboratoriosColaboradores]  WITH NOCHECK ADD  CONSTRAINT [FK_Laboratorio_Idioma] FOREIGN KEY([IdIdioma])\n",
    "REFERENCES [dbo].[Idiomas] ([IdIdioma])\n",
    "GO\n",
    "ALTER TABLE [dbo].[LaboratoriosColaboradores] NOCHECK CONSTRAINT [FK_Laboratorio_Idioma]\n",
    "GO\n"
   ]
  },
  {
   "cell_type": "markdown",
   "metadata": {
    "object_type": "ForeignKey",
    "urn": "Server[@Name='Windows10-Pepe']/Database[@Name='CEFEGEN']/Table[@Name='LaboratoriosColaboradores' and @Schema='dbo']/ForeignKey[@Name='FK_Laboratorio_IVA']"
   },
   "source": [
    "# [FK_Laboratorio_IVA]"
   ]
  },
  {
   "cell_type": "code",
   "execution_count": 0,
   "metadata": {
    "object_type": "ForeignKey",
    "urn": "Server[@Name='Windows10-Pepe']/Database[@Name='CEFEGEN']/Table[@Name='LaboratoriosColaboradores' and @Schema='dbo']/ForeignKey[@Name='FK_Laboratorio_IVA']"
   },
   "outputs": [],
   "source": [
    "ALTER TABLE [dbo].[LaboratoriosColaboradores]  WITH NOCHECK ADD  CONSTRAINT [FK_Laboratorio_IVA] FOREIGN KEY([IdIVA])\n",
    "REFERENCES [dbo].[IVA] ([IdIVA])\n",
    "GO\n",
    "ALTER TABLE [dbo].[LaboratoriosColaboradores] NOCHECK CONSTRAINT [FK_Laboratorio_IVA]\n",
    "GO\n"
   ]
  },
  {
   "cell_type": "markdown",
   "metadata": {
    "object_type": "ForeignKey",
    "urn": "Server[@Name='Windows10-Pepe']/Database[@Name='CEFEGEN']/Table[@Name='LaboratoriosColaboradores' and @Schema='dbo']/ForeignKey[@Name='FK_Laboratorio_Personal']"
   },
   "source": [
    "# [FK_Laboratorio_Personal]"
   ]
  },
  {
   "cell_type": "code",
   "execution_count": 0,
   "metadata": {
    "object_type": "ForeignKey",
    "urn": "Server[@Name='Windows10-Pepe']/Database[@Name='CEFEGEN']/Table[@Name='LaboratoriosColaboradores' and @Schema='dbo']/ForeignKey[@Name='FK_Laboratorio_Personal']"
   },
   "outputs": [],
   "source": [
    "ALTER TABLE [dbo].[LaboratoriosColaboradores]  WITH NOCHECK ADD  CONSTRAINT [FK_Laboratorio_Personal] FOREIGN KEY([IdPersonal])\n",
    "REFERENCES [dbo].[Personal] ([IdPersonal])\n",
    "GO\n",
    "ALTER TABLE [dbo].[LaboratoriosColaboradores] NOCHECK CONSTRAINT [FK_Laboratorio_Personal]\n",
    "GO\n"
   ]
  },
  {
   "cell_type": "markdown",
   "metadata": {
    "object_type": "ForeignKey",
    "urn": "Server[@Name='Windows10-Pepe']/Database[@Name='CEFEGEN']/Table[@Name='LaboratoriosColaboradores' and @Schema='dbo']/ForeignKey[@Name='FK_Laboratorio_Tarifa']"
   },
   "source": [
    "# [FK_Laboratorio_Tarifa]"
   ]
  },
  {
   "cell_type": "code",
   "execution_count": 0,
   "metadata": {
    "object_type": "ForeignKey",
    "urn": "Server[@Name='Windows10-Pepe']/Database[@Name='CEFEGEN']/Table[@Name='LaboratoriosColaboradores' and @Schema='dbo']/ForeignKey[@Name='FK_Laboratorio_Tarifa']"
   },
   "outputs": [],
   "source": [
    "ALTER TABLE [dbo].[LaboratoriosColaboradores]  WITH NOCHECK ADD  CONSTRAINT [FK_Laboratorio_Tarifa] FOREIGN KEY([IdTarifa])\n",
    "REFERENCES [dbo].[Tarifas] ([IdTarifa])\n",
    "GO\n",
    "ALTER TABLE [dbo].[LaboratoriosColaboradores] NOCHECK CONSTRAINT [FK_Laboratorio_Tarifa]\n",
    "GO\n"
   ]
  },
  {
   "cell_type": "markdown",
   "metadata": {
    "object_type": "ForeignKey",
    "urn": "Server[@Name='Windows10-Pepe']/Database[@Name='CEFEGEN']/Table[@Name='LaboratoriosColaboradores' and @Schema='dbo']/ForeignKey[@Name='FK_Laboratorio_TipoClienteConsumo']"
   },
   "source": [
    "# [FK_Laboratorio_TipoClienteConsumo]"
   ]
  },
  {
   "cell_type": "code",
   "execution_count": 0,
   "metadata": {
    "object_type": "ForeignKey",
    "urn": "Server[@Name='Windows10-Pepe']/Database[@Name='CEFEGEN']/Table[@Name='LaboratoriosColaboradores' and @Schema='dbo']/ForeignKey[@Name='FK_Laboratorio_TipoClienteConsumo']"
   },
   "outputs": [],
   "source": [
    "ALTER TABLE [dbo].[LaboratoriosColaboradores]  WITH NOCHECK ADD  CONSTRAINT [FK_Laboratorio_TipoClienteConsumo] FOREIGN KEY([IdTipoClienteConsumo])\n",
    "REFERENCES [dbo].[TiposClientesConsumo] ([IdTipoClienteConsumo])\n",
    "GO\n",
    "ALTER TABLE [dbo].[LaboratoriosColaboradores] NOCHECK CONSTRAINT [FK_Laboratorio_TipoClienteConsumo]\n",
    "GO\n"
   ]
  },
  {
   "cell_type": "markdown",
   "metadata": {
    "object_type": "ForeignKey",
    "urn": "Server[@Name='Windows10-Pepe']/Database[@Name='CEFEGEN']/Table[@Name='LaboratoriosColaboradores' and @Schema='dbo']/ForeignKey[@Name='FK_LaboratoriosColaboradores_Direcciones']"
   },
   "source": [
    "# [FK_LaboratoriosColaboradores_Direcciones]"
   ]
  },
  {
   "cell_type": "code",
   "execution_count": 0,
   "metadata": {
    "object_type": "ForeignKey",
    "urn": "Server[@Name='Windows10-Pepe']/Database[@Name='CEFEGEN']/Table[@Name='LaboratoriosColaboradores' and @Schema='dbo']/ForeignKey[@Name='FK_LaboratoriosColaboradores_Direcciones']"
   },
   "outputs": [],
   "source": [
    "ALTER TABLE [dbo].[LaboratoriosColaboradores]  WITH CHECK ADD  CONSTRAINT [FK_LaboratoriosColaboradores_Direcciones] FOREIGN KEY([IdDireccion])\n",
    "REFERENCES [dbo].[Direcciones] ([IdDireccion])\n",
    "GO\n",
    "ALTER TABLE [dbo].[LaboratoriosColaboradores] CHECK CONSTRAINT [FK_LaboratoriosColaboradores_Direcciones]\n",
    "GO\n"
   ]
  },
  {
   "cell_type": "markdown",
   "metadata": {
    "object_type": "ForeignKey",
    "urn": "Server[@Name='Windows10-Pepe']/Database[@Name='CEFEGEN']/Table[@Name='LaboratoriosColaboradores' and @Schema='dbo']/ForeignKey[@Name='FK_LaboratoriosColaboradores_Idiomas']"
   },
   "source": [
    "# [FK_LaboratoriosColaboradores_Idiomas]"
   ]
  },
  {
   "cell_type": "code",
   "execution_count": 0,
   "metadata": {
    "object_type": "ForeignKey",
    "urn": "Server[@Name='Windows10-Pepe']/Database[@Name='CEFEGEN']/Table[@Name='LaboratoriosColaboradores' and @Schema='dbo']/ForeignKey[@Name='FK_LaboratoriosColaboradores_Idiomas']"
   },
   "outputs": [],
   "source": [
    "ALTER TABLE [dbo].[LaboratoriosColaboradores]  WITH NOCHECK ADD  CONSTRAINT [FK_LaboratoriosColaboradores_Idiomas] FOREIGN KEY([IdIdiomaPreferido])\n",
    "REFERENCES [dbo].[Idiomas] ([IdIdioma])\n",
    "GO\n",
    "ALTER TABLE [dbo].[LaboratoriosColaboradores] NOCHECK CONSTRAINT [FK_LaboratoriosColaboradores_Idiomas]\n",
    "GO\n"
   ]
  },
  {
   "cell_type": "markdown",
   "metadata": {
    "object_type": "ForeignKey",
    "urn": "Server[@Name='Windows10-Pepe']/Database[@Name='CEFEGEN']/Table[@Name='LineasFactura' and @Schema='dbo']/ForeignKey[@Name='FK__LineasFac__IdLin__53385258']"
   },
   "source": [
    "# [FK__LineasFac__IdLin__53385258]"
   ]
  },
  {
   "cell_type": "code",
   "execution_count": 0,
   "metadata": {
    "object_type": "ForeignKey",
    "urn": "Server[@Name='Windows10-Pepe']/Database[@Name='CEFEGEN']/Table[@Name='LineasFactura' and @Schema='dbo']/ForeignKey[@Name='FK__LineasFac__IdLin__53385258']"
   },
   "outputs": [],
   "source": [
    "ALTER TABLE [dbo].[LineasFactura]  WITH NOCHECK ADD FOREIGN KEY([IdLineaPeticion])\n",
    "REFERENCES [dbo].[PeticionesLin] ([IdLineaPeticion])\n",
    "GO\n"
   ]
  },
  {
   "cell_type": "markdown",
   "metadata": {
    "object_type": "ForeignKey",
    "urn": "Server[@Name='Windows10-Pepe']/Database[@Name='CEFEGEN']/Table[@Name='LineasFactura' and @Schema='dbo']/ForeignKey[@Name='FK_LineasFactura_Factura']"
   },
   "source": [
    "# [FK_LineasFactura_Factura]"
   ]
  },
  {
   "cell_type": "code",
   "execution_count": 0,
   "metadata": {
    "object_type": "ForeignKey",
    "urn": "Server[@Name='Windows10-Pepe']/Database[@Name='CEFEGEN']/Table[@Name='LineasFactura' and @Schema='dbo']/ForeignKey[@Name='FK_LineasFactura_Factura']"
   },
   "outputs": [],
   "source": [
    "ALTER TABLE [dbo].[LineasFactura]  WITH NOCHECK ADD  CONSTRAINT [FK_LineasFactura_Factura] FOREIGN KEY([IdFactura])\n",
    "REFERENCES [dbo].[Facturas] ([IdFactura])\n",
    "GO\n",
    "ALTER TABLE [dbo].[LineasFactura] NOCHECK CONSTRAINT [FK_LineasFactura_Factura]\n",
    "GO\n"
   ]
  },
  {
   "cell_type": "markdown",
   "metadata": {
    "object_type": "ForeignKey",
    "urn": "Server[@Name='Windows10-Pepe']/Database[@Name='CEFEGEN']/Table[@Name='LineasFactura' and @Schema='dbo']/ForeignKey[@Name='FK_LineasFactura_Tarifa']"
   },
   "source": [
    "# [FK_LineasFactura_Tarifa]"
   ]
  },
  {
   "cell_type": "code",
   "execution_count": 0,
   "metadata": {
    "object_type": "ForeignKey",
    "urn": "Server[@Name='Windows10-Pepe']/Database[@Name='CEFEGEN']/Table[@Name='LineasFactura' and @Schema='dbo']/ForeignKey[@Name='FK_LineasFactura_Tarifa']"
   },
   "outputs": [],
   "source": [
    "ALTER TABLE [dbo].[LineasFactura]  WITH NOCHECK ADD  CONSTRAINT [FK_LineasFactura_Tarifa] FOREIGN KEY([IdTarifa])\n",
    "REFERENCES [dbo].[Tarifas] ([IdTarifa])\n",
    "GO\n",
    "ALTER TABLE [dbo].[LineasFactura] NOCHECK CONSTRAINT [FK_LineasFactura_Tarifa]\n",
    "GO\n"
   ]
  },
  {
   "cell_type": "markdown",
   "metadata": {
    "object_type": "ForeignKey",
    "urn": "Server[@Name='Windows10-Pepe']/Database[@Name='CEFEGEN']/Table[@Name='MarcadorComparisons' and @Schema='dbo']/ForeignKey[@Name='FK_MarcadorComparisons_Resultado1']"
   },
   "source": [
    "# [FK_MarcadorComparisons_Resultado1]"
   ]
  },
  {
   "cell_type": "code",
   "execution_count": 0,
   "metadata": {
    "object_type": "ForeignKey",
    "urn": "Server[@Name='Windows10-Pepe']/Database[@Name='CEFEGEN']/Table[@Name='MarcadorComparisons' and @Schema='dbo']/ForeignKey[@Name='FK_MarcadorComparisons_Resultado1']"
   },
   "outputs": [],
   "source": [
    "ALTER TABLE [dbo].[MarcadorComparisons]  WITH NOCHECK ADD  CONSTRAINT [FK_MarcadorComparisons_Resultado1] FOREIGN KEY([IdResultadoParentesco1])\n",
    "REFERENCES [dbo].[ResultadosParentesco] ([IdResultadoParentesco])\n",
    "GO\n",
    "ALTER TABLE [dbo].[MarcadorComparisons] NOCHECK CONSTRAINT [FK_MarcadorComparisons_Resultado1]\n",
    "GO\n"
   ]
  },
  {
   "cell_type": "markdown",
   "metadata": {
    "object_type": "ForeignKey",
    "urn": "Server[@Name='Windows10-Pepe']/Database[@Name='CEFEGEN']/Table[@Name='MarcadorComparisons' and @Schema='dbo']/ForeignKey[@Name='FK_MarcadorComparisons_Resultado2']"
   },
   "source": [
    "# [FK_MarcadorComparisons_Resultado2]"
   ]
  },
  {
   "cell_type": "code",
   "execution_count": 0,
   "metadata": {
    "object_type": "ForeignKey",
    "urn": "Server[@Name='Windows10-Pepe']/Database[@Name='CEFEGEN']/Table[@Name='MarcadorComparisons' and @Schema='dbo']/ForeignKey[@Name='FK_MarcadorComparisons_Resultado2']"
   },
   "outputs": [],
   "source": [
    "ALTER TABLE [dbo].[MarcadorComparisons]  WITH NOCHECK ADD  CONSTRAINT [FK_MarcadorComparisons_Resultado2] FOREIGN KEY([IdResultadoParentesco2])\n",
    "REFERENCES [dbo].[ResultadosParentesco] ([IdResultadoParentesco])\n",
    "GO\n",
    "ALTER TABLE [dbo].[MarcadorComparisons] NOCHECK CONSTRAINT [FK_MarcadorComparisons_Resultado2]\n",
    "GO\n"
   ]
  },
  {
   "cell_type": "markdown",
   "metadata": {
    "object_type": "ForeignKey",
    "urn": "Server[@Name='Windows10-Pepe']/Database[@Name='CEFEGEN']/Table[@Name='Medicos' and @Schema='dbo']/ForeignKey[@Name='FK_Medicos_Actividad']"
   },
   "source": [
    "# [FK_Medicos_Actividad]"
   ]
  },
  {
   "cell_type": "code",
   "execution_count": 0,
   "metadata": {
    "object_type": "ForeignKey",
    "urn": "Server[@Name='Windows10-Pepe']/Database[@Name='CEFEGEN']/Table[@Name='Medicos' and @Schema='dbo']/ForeignKey[@Name='FK_Medicos_Actividad']"
   },
   "outputs": [],
   "source": [
    "ALTER TABLE [dbo].[Medicos]  WITH NOCHECK ADD  CONSTRAINT [FK_Medicos_Actividad] FOREIGN KEY([IdActividad])\n",
    "REFERENCES [dbo].[Actividades] ([IdActividad])\n",
    "GO\n",
    "ALTER TABLE [dbo].[Medicos] NOCHECK CONSTRAINT [FK_Medicos_Actividad]\n",
    "GO\n"
   ]
  },
  {
   "cell_type": "markdown",
   "metadata": {
    "object_type": "ForeignKey",
    "urn": "Server[@Name='Windows10-Pepe']/Database[@Name='CEFEGEN']/Table[@Name='MovimientosMuestras' and @Schema='dbo']/ForeignKey[@Name='FK_MovimientosMuestras_Muestras']"
   },
   "source": [
    "# [FK_MovimientosMuestras_Muestras]"
   ]
  },
  {
   "cell_type": "code",
   "execution_count": 0,
   "metadata": {
    "object_type": "ForeignKey",
    "urn": "Server[@Name='Windows10-Pepe']/Database[@Name='CEFEGEN']/Table[@Name='MovimientosMuestras' and @Schema='dbo']/ForeignKey[@Name='FK_MovimientosMuestras_Muestras']"
   },
   "outputs": [],
   "source": [
    "ALTER TABLE [dbo].[MovimientosMuestras]  WITH NOCHECK ADD  CONSTRAINT [FK_MovimientosMuestras_Muestras] FOREIGN KEY([IdMuestra])\n",
    "REFERENCES [dbo].[Muestras] ([IdMuestra])\n",
    "GO\n",
    "ALTER TABLE [dbo].[MovimientosMuestras] NOCHECK CONSTRAINT [FK_MovimientosMuestras_Muestras]\n",
    "GO\n"
   ]
  },
  {
   "cell_type": "markdown",
   "metadata": {
    "object_type": "ForeignKey",
    "urn": "Server[@Name='Windows10-Pepe']/Database[@Name='CEFEGEN']/Table[@Name='MovimientosMuestras' and @Schema='dbo']/ForeignKey[@Name='FK_MovimientosMuestras_TiposMovimiento']"
   },
   "source": [
    "# [FK_MovimientosMuestras_TiposMovimiento]"
   ]
  },
  {
   "cell_type": "code",
   "execution_count": 0,
   "metadata": {
    "object_type": "ForeignKey",
    "urn": "Server[@Name='Windows10-Pepe']/Database[@Name='CEFEGEN']/Table[@Name='MovimientosMuestras' and @Schema='dbo']/ForeignKey[@Name='FK_MovimientosMuestras_TiposMovimiento']"
   },
   "outputs": [],
   "source": [
    "ALTER TABLE [dbo].[MovimientosMuestras]  WITH NOCHECK ADD  CONSTRAINT [FK_MovimientosMuestras_TiposMovimiento] FOREIGN KEY([IdTipoMovimiento])\n",
    "REFERENCES [dbo].[TiposMovimiento] ([IdTipoMovimiento])\n",
    "GO\n",
    "ALTER TABLE [dbo].[MovimientosMuestras] NOCHECK CONSTRAINT [FK_MovimientosMuestras_TiposMovimiento]\n",
    "GO\n"
   ]
  },
  {
   "cell_type": "markdown",
   "metadata": {
    "object_type": "ForeignKey",
    "urn": "Server[@Name='Windows10-Pepe']/Database[@Name='CEFEGEN']/Table[@Name='MovimientosMuestras' and @Schema='dbo']/ForeignKey[@Name='FK_MovimientosMuestras_Usuarios']"
   },
   "source": [
    "# [FK_MovimientosMuestras_Usuarios]"
   ]
  },
  {
   "cell_type": "code",
   "execution_count": 0,
   "metadata": {
    "object_type": "ForeignKey",
    "urn": "Server[@Name='Windows10-Pepe']/Database[@Name='CEFEGEN']/Table[@Name='MovimientosMuestras' and @Schema='dbo']/ForeignKey[@Name='FK_MovimientosMuestras_Usuarios']"
   },
   "outputs": [],
   "source": [
    "ALTER TABLE [dbo].[MovimientosMuestras]  WITH NOCHECK ADD  CONSTRAINT [FK_MovimientosMuestras_Usuarios] FOREIGN KEY([IdUsuario])\n",
    "REFERENCES [dbo].[Usuarios] ([IdUsuario])\n",
    "GO\n",
    "ALTER TABLE [dbo].[MovimientosMuestras] NOCHECK CONSTRAINT [FK_MovimientosMuestras_Usuarios]\n",
    "GO\n"
   ]
  },
  {
   "cell_type": "markdown",
   "metadata": {
    "object_type": "ForeignKey",
    "urn": "Server[@Name='Windows10-Pepe']/Database[@Name='CEFEGEN']/Table[@Name='Muestras' and @Schema='dbo']/ForeignKey[@Name='FK_Muestras_CentroToma']"
   },
   "source": [
    "# [FK_Muestras_CentroToma]"
   ]
  },
  {
   "cell_type": "code",
   "execution_count": 0,
   "metadata": {
    "object_type": "ForeignKey",
    "urn": "Server[@Name='Windows10-Pepe']/Database[@Name='CEFEGEN']/Table[@Name='Muestras' and @Schema='dbo']/ForeignKey[@Name='FK_Muestras_CentroToma']"
   },
   "outputs": [],
   "source": [
    "ALTER TABLE [dbo].[Muestras]  WITH NOCHECK ADD  CONSTRAINT [FK_Muestras_CentroToma] FOREIGN KEY([IdCentroToma])\n",
    "REFERENCES [dbo].[LaboratoriosColaboradores] ([IdLaboratorioColaborador])\n",
    "GO\n",
    "ALTER TABLE [dbo].[Muestras] NOCHECK CONSTRAINT [FK_Muestras_CentroToma]\n",
    "GO\n"
   ]
  },
  {
   "cell_type": "markdown",
   "metadata": {
    "object_type": "ForeignKey",
    "urn": "Server[@Name='Windows10-Pepe']/Database[@Name='CEFEGEN']/Table[@Name='Muestras' and @Schema='dbo']/ForeignKey[@Name='FK_Muestras_Interviniente']"
   },
   "source": [
    "# [FK_Muestras_Interviniente]"
   ]
  },
  {
   "cell_type": "code",
   "execution_count": 0,
   "metadata": {
    "object_type": "ForeignKey",
    "urn": "Server[@Name='Windows10-Pepe']/Database[@Name='CEFEGEN']/Table[@Name='Muestras' and @Schema='dbo']/ForeignKey[@Name='FK_Muestras_Interviniente']"
   },
   "outputs": [],
   "source": [
    "ALTER TABLE [dbo].[Muestras]  WITH NOCHECK ADD  CONSTRAINT [FK_Muestras_Interviniente] FOREIGN KEY([IdInterviniente])\n",
    "REFERENCES [dbo].[Intervinientes] ([IdInterviniente])\n",
    "GO\n",
    "ALTER TABLE [dbo].[Muestras] NOCHECK CONSTRAINT [FK_Muestras_Interviniente]\n",
    "GO\n"
   ]
  },
  {
   "cell_type": "markdown",
   "metadata": {
    "object_type": "ForeignKey",
    "urn": "Server[@Name='Windows10-Pepe']/Database[@Name='CEFEGEN']/Table[@Name='Muestras' and @Schema='dbo']/ForeignKey[@Name='FK_Muestras_MetodoAmplificacion']"
   },
   "source": [
    "# [FK_Muestras_MetodoAmplificacion]"
   ]
  },
  {
   "cell_type": "code",
   "execution_count": 0,
   "metadata": {
    "object_type": "ForeignKey",
    "urn": "Server[@Name='Windows10-Pepe']/Database[@Name='CEFEGEN']/Table[@Name='Muestras' and @Schema='dbo']/ForeignKey[@Name='FK_Muestras_MetodoAmplificacion']"
   },
   "outputs": [],
   "source": [
    "ALTER TABLE [dbo].[Muestras]  WITH NOCHECK ADD  CONSTRAINT [FK_Muestras_MetodoAmplificacion] FOREIGN KEY([IdMetodoAmplificacion])\n",
    "REFERENCES [dbo].[MetodosAmplificacion] ([IdMetodo])\n",
    "GO\n",
    "ALTER TABLE [dbo].[Muestras] CHECK CONSTRAINT [FK_Muestras_MetodoAmplificacion]\n",
    "GO\n"
   ]
  },
  {
   "cell_type": "markdown",
   "metadata": {
    "object_type": "ForeignKey",
    "urn": "Server[@Name='Windows10-Pepe']/Database[@Name='CEFEGEN']/Table[@Name='Muestras' and @Schema='dbo']/ForeignKey[@Name='FK_Muestras_MetodoExtraccion']"
   },
   "source": [
    "# [FK_Muestras_MetodoExtraccion]"
   ]
  },
  {
   "cell_type": "code",
   "execution_count": 0,
   "metadata": {
    "object_type": "ForeignKey",
    "urn": "Server[@Name='Windows10-Pepe']/Database[@Name='CEFEGEN']/Table[@Name='Muestras' and @Schema='dbo']/ForeignKey[@Name='FK_Muestras_MetodoExtraccion']"
   },
   "outputs": [],
   "source": [
    "ALTER TABLE [dbo].[Muestras]  WITH NOCHECK ADD  CONSTRAINT [FK_Muestras_MetodoExtraccion] FOREIGN KEY([IdMetodoExtraccion])\n",
    "REFERENCES [dbo].[MetodosExtraccion] ([IdMetodo])\n",
    "GO\n",
    "ALTER TABLE [dbo].[Muestras] NOCHECK CONSTRAINT [FK_Muestras_MetodoExtraccion]\n",
    "GO\n"
   ]
  },
  {
   "cell_type": "markdown",
   "metadata": {
    "object_type": "ForeignKey",
    "urn": "Server[@Name='Windows10-Pepe']/Database[@Name='CEFEGEN']/Table[@Name='Muestras' and @Schema='dbo']/ForeignKey[@Name='FK_Muestras_PersonaTomaMuestras']"
   },
   "source": [
    "# [FK_Muestras_PersonaTomaMuestras]"
   ]
  },
  {
   "cell_type": "code",
   "execution_count": 0,
   "metadata": {
    "object_type": "ForeignKey",
    "urn": "Server[@Name='Windows10-Pepe']/Database[@Name='CEFEGEN']/Table[@Name='Muestras' and @Schema='dbo']/ForeignKey[@Name='FK_Muestras_PersonaTomaMuestras']"
   },
   "outputs": [],
   "source": [
    "ALTER TABLE [dbo].[Muestras]  WITH NOCHECK ADD  CONSTRAINT [FK_Muestras_PersonaTomaMuestras] FOREIGN KEY([IdPersonaTomaMuestras])\n",
    "REFERENCES [dbo].[PersonasTomaMuestras] ([IdPersonaTomaMuestras])\n",
    "GO\n",
    "ALTER TABLE [dbo].[Muestras] NOCHECK CONSTRAINT [FK_Muestras_PersonaTomaMuestras]\n",
    "GO\n"
   ]
  },
  {
   "cell_type": "markdown",
   "metadata": {
    "object_type": "ForeignKey",
    "urn": "Server[@Name='Windows10-Pepe']/Database[@Name='CEFEGEN']/Table[@Name='Muestras' and @Schema='dbo']/ForeignKey[@Name='FK_Muestras_Peticiones']"
   },
   "source": [
    "# [FK_Muestras_Peticiones]"
   ]
  },
  {
   "cell_type": "code",
   "execution_count": 0,
   "metadata": {
    "object_type": "ForeignKey",
    "urn": "Server[@Name='Windows10-Pepe']/Database[@Name='CEFEGEN']/Table[@Name='Muestras' and @Schema='dbo']/ForeignKey[@Name='FK_Muestras_Peticiones']"
   },
   "outputs": [],
   "source": [
    "ALTER TABLE [dbo].[Muestras]  WITH NOCHECK ADD  CONSTRAINT [FK_Muestras_Peticiones] FOREIGN KEY([IdPeticion])\n",
    "REFERENCES [dbo].[Peticiones] ([IdPeticion])\n",
    "GO\n",
    "ALTER TABLE [dbo].[Muestras] NOCHECK CONSTRAINT [FK_Muestras_Peticiones]\n",
    "GO\n"
   ]
  },
  {
   "cell_type": "markdown",
   "metadata": {
    "object_type": "ForeignKey",
    "urn": "Server[@Name='Windows10-Pepe']/Database[@Name='CEFEGEN']/Table[@Name='Muestras' and @Schema='dbo']/ForeignKey[@Name='FK_Muestras_Solicitantes']"
   },
   "source": [
    "# [FK_Muestras_Solicitantes]"
   ]
  },
  {
   "cell_type": "code",
   "execution_count": 0,
   "metadata": {
    "object_type": "ForeignKey",
    "urn": "Server[@Name='Windows10-Pepe']/Database[@Name='CEFEGEN']/Table[@Name='Muestras' and @Schema='dbo']/ForeignKey[@Name='FK_Muestras_Solicitantes']"
   },
   "outputs": [],
   "source": [
    "ALTER TABLE [dbo].[Muestras]  WITH NOCHECK ADD  CONSTRAINT [FK_Muestras_Solicitantes] FOREIGN KEY([IdSolicitante])\n",
    "REFERENCES [dbo].[Solicitantes] ([IdSolicitante])\n",
    "GO\n",
    "ALTER TABLE [dbo].[Muestras] NOCHECK CONSTRAINT [FK_Muestras_Solicitantes]\n",
    "GO\n"
   ]
  },
  {
   "cell_type": "markdown",
   "metadata": {
    "object_type": "ForeignKey",
    "urn": "Server[@Name='Windows10-Pepe']/Database[@Name='CEFEGEN']/Table[@Name='Muestras' and @Schema='dbo']/ForeignKey[@Name='FK_Muestras_Solicitudes']"
   },
   "source": [
    "# [FK_Muestras_Solicitudes]"
   ]
  },
  {
   "cell_type": "code",
   "execution_count": 0,
   "metadata": {
    "object_type": "ForeignKey",
    "urn": "Server[@Name='Windows10-Pepe']/Database[@Name='CEFEGEN']/Table[@Name='Muestras' and @Schema='dbo']/ForeignKey[@Name='FK_Muestras_Solicitudes']"
   },
   "outputs": [],
   "source": [
    "ALTER TABLE [dbo].[Muestras]  WITH NOCHECK ADD  CONSTRAINT [FK_Muestras_Solicitudes] FOREIGN KEY([IdSolicitud])\n",
    "REFERENCES [dbo].[Solicitudes] ([IdSolicitud])\n",
    "GO\n",
    "ALTER TABLE [dbo].[Muestras] NOCHECK CONSTRAINT [FK_Muestras_Solicitudes]\n",
    "GO\n"
   ]
  },
  {
   "cell_type": "markdown",
   "metadata": {
    "object_type": "ForeignKey",
    "urn": "Server[@Name='Windows10-Pepe']/Database[@Name='CEFEGEN']/Table[@Name='Muestras' and @Schema='dbo']/ForeignKey[@Name='FK_Muestras_TecnicoAmplificacion']"
   },
   "source": [
    "# [FK_Muestras_TecnicoAmplificacion]"
   ]
  },
  {
   "cell_type": "code",
   "execution_count": 0,
   "metadata": {
    "object_type": "ForeignKey",
    "urn": "Server[@Name='Windows10-Pepe']/Database[@Name='CEFEGEN']/Table[@Name='Muestras' and @Schema='dbo']/ForeignKey[@Name='FK_Muestras_TecnicoAmplificacion']"
   },
   "outputs": [],
   "source": [
    "ALTER TABLE [dbo].[Muestras]  WITH NOCHECK ADD  CONSTRAINT [FK_Muestras_TecnicoAmplificacion] FOREIGN KEY([IdTecnicoAmplificacion])\n",
    "REFERENCES [dbo].[Personal] ([IdPersonal])\n",
    "GO\n",
    "ALTER TABLE [dbo].[Muestras] NOCHECK CONSTRAINT [FK_Muestras_TecnicoAmplificacion]\n",
    "GO\n"
   ]
  },
  {
   "cell_type": "markdown",
   "metadata": {
    "object_type": "ForeignKey",
    "urn": "Server[@Name='Windows10-Pepe']/Database[@Name='CEFEGEN']/Table[@Name='Muestras' and @Schema='dbo']/ForeignKey[@Name='FK_Muestras_TecnicoExtraccion']"
   },
   "source": [
    "# [FK_Muestras_TecnicoExtraccion]"
   ]
  },
  {
   "cell_type": "code",
   "execution_count": 0,
   "metadata": {
    "object_type": "ForeignKey",
    "urn": "Server[@Name='Windows10-Pepe']/Database[@Name='CEFEGEN']/Table[@Name='Muestras' and @Schema='dbo']/ForeignKey[@Name='FK_Muestras_TecnicoExtraccion']"
   },
   "outputs": [],
   "source": [
    "ALTER TABLE [dbo].[Muestras]  WITH NOCHECK ADD  CONSTRAINT [FK_Muestras_TecnicoExtraccion] FOREIGN KEY([IdTecnicoExtraccion])\n",
    "REFERENCES [dbo].[Personal] ([IdPersonal])\n",
    "GO\n",
    "ALTER TABLE [dbo].[Muestras] NOCHECK CONSTRAINT [FK_Muestras_TecnicoExtraccion]\n",
    "GO\n"
   ]
  },
  {
   "cell_type": "markdown",
   "metadata": {
    "object_type": "ForeignKey",
    "urn": "Server[@Name='Windows10-Pepe']/Database[@Name='CEFEGEN']/Table[@Name='Muestras' and @Schema='dbo']/ForeignKey[@Name='FK_Muestras_TipoMuestra']"
   },
   "source": [
    "# [FK_Muestras_TipoMuestra]"
   ]
  },
  {
   "cell_type": "code",
   "execution_count": 0,
   "metadata": {
    "object_type": "ForeignKey",
    "urn": "Server[@Name='Windows10-Pepe']/Database[@Name='CEFEGEN']/Table[@Name='Muestras' and @Schema='dbo']/ForeignKey[@Name='FK_Muestras_TipoMuestra']"
   },
   "outputs": [],
   "source": [
    "ALTER TABLE [dbo].[Muestras]  WITH NOCHECK ADD  CONSTRAINT [FK_Muestras_TipoMuestra] FOREIGN KEY([TipoMuestra])\n",
    "REFERENCES [dbo].[TiposMuestra] ([IdTipoMuestra])\n",
    "GO\n",
    "ALTER TABLE [dbo].[Muestras] NOCHECK CONSTRAINT [FK_Muestras_TipoMuestra]\n",
    "GO\n"
   ]
  },
  {
   "cell_type": "markdown",
   "metadata": {
    "object_type": "ForeignKey",
    "urn": "Server[@Name='Windows10-Pepe']/Database[@Name='CEFEGEN']/Table[@Name='NotificacionesSMS' and @Schema='dbo']/ForeignKey[@Name='FK_NotificacionesSMS_Solicitudes']"
   },
   "source": [
    "# [FK_NotificacionesSMS_Solicitudes]"
   ]
  },
  {
   "cell_type": "code",
   "execution_count": 0,
   "metadata": {
    "object_type": "ForeignKey",
    "urn": "Server[@Name='Windows10-Pepe']/Database[@Name='CEFEGEN']/Table[@Name='NotificacionesSMS' and @Schema='dbo']/ForeignKey[@Name='FK_NotificacionesSMS_Solicitudes']"
   },
   "outputs": [],
   "source": [
    "ALTER TABLE [dbo].[NotificacionesSMS]  WITH NOCHECK ADD  CONSTRAINT [FK_NotificacionesSMS_Solicitudes] FOREIGN KEY([IdSolicitud])\n",
    "REFERENCES [dbo].[Solicitudes] ([IdSolicitud])\n",
    "GO\n",
    "ALTER TABLE [dbo].[NotificacionesSMS] NOCHECK CONSTRAINT [FK_NotificacionesSMS_Solicitudes]\n",
    "GO\n"
   ]
  },
  {
   "cell_type": "markdown",
   "metadata": {
    "object_type": "ForeignKey",
    "urn": "Server[@Name='Windows10-Pepe']/Database[@Name='CEFEGEN']/Table[@Name='NotificacionesSMS' and @Schema='dbo']/ForeignKey[@Name='FK_NotificacionesSMS_Usuarios']"
   },
   "source": [
    "# [FK_NotificacionesSMS_Usuarios]"
   ]
  },
  {
   "cell_type": "code",
   "execution_count": 0,
   "metadata": {
    "object_type": "ForeignKey",
    "urn": "Server[@Name='Windows10-Pepe']/Database[@Name='CEFEGEN']/Table[@Name='NotificacionesSMS' and @Schema='dbo']/ForeignKey[@Name='FK_NotificacionesSMS_Usuarios']"
   },
   "outputs": [],
   "source": [
    "ALTER TABLE [dbo].[NotificacionesSMS]  WITH NOCHECK ADD  CONSTRAINT [FK_NotificacionesSMS_Usuarios] FOREIGN KEY([IdUsuario])\n",
    "REFERENCES [dbo].[Usuarios] ([IdUsuario])\n",
    "GO\n",
    "ALTER TABLE [dbo].[NotificacionesSMS] NOCHECK CONSTRAINT [FK_NotificacionesSMS_Usuarios]\n",
    "GO\n"
   ]
  },
  {
   "cell_type": "markdown",
   "metadata": {
    "object_type": "ForeignKey",
    "urn": "Server[@Name='Windows10-Pepe']/Database[@Name='CEFEGEN']/Table[@Name='PagosPaciente' and @Schema='dbo']/ForeignKey[@Name='FK__PagosPaci__IdLin__4C8B54C9']"
   },
   "source": [
    "# [FK__PagosPaci__IdLin__4C8B54C9]"
   ]
  },
  {
   "cell_type": "code",
   "execution_count": 0,
   "metadata": {
    "object_type": "ForeignKey",
    "urn": "Server[@Name='Windows10-Pepe']/Database[@Name='CEFEGEN']/Table[@Name='PagosPaciente' and @Schema='dbo']/ForeignKey[@Name='FK__PagosPaci__IdLin__4C8B54C9']"
   },
   "outputs": [],
   "source": [
    "ALTER TABLE [dbo].[PagosPaciente]  WITH NOCHECK ADD FOREIGN KEY([IdLineaPeticion])\n",
    "REFERENCES [dbo].[PeticionesLin] ([IdLineaPeticion])\n",
    "GO\n"
   ]
  },
  {
   "cell_type": "markdown",
   "metadata": {
    "object_type": "ForeignKey",
    "urn": "Server[@Name='Windows10-Pepe']/Database[@Name='CEFEGEN']/Table[@Name='PagosPaciente' and @Schema='dbo']/ForeignKey[@Name='FK_PagosPaciente_FormaPago']"
   },
   "source": [
    "# [FK_PagosPaciente_FormaPago]"
   ]
  },
  {
   "cell_type": "code",
   "execution_count": 0,
   "metadata": {
    "object_type": "ForeignKey",
    "urn": "Server[@Name='Windows10-Pepe']/Database[@Name='CEFEGEN']/Table[@Name='PagosPaciente' and @Schema='dbo']/ForeignKey[@Name='FK_PagosPaciente_FormaPago']"
   },
   "outputs": [],
   "source": [
    "ALTER TABLE [dbo].[PagosPaciente]  WITH NOCHECK ADD  CONSTRAINT [FK_PagosPaciente_FormaPago] FOREIGN KEY([IdFormaPago])\n",
    "REFERENCES [dbo].[FormasPago] ([IdFormaPago])\n",
    "GO\n",
    "ALTER TABLE [dbo].[PagosPaciente] NOCHECK CONSTRAINT [FK_PagosPaciente_FormaPago]\n",
    "GO\n"
   ]
  },
  {
   "cell_type": "markdown",
   "metadata": {
    "object_type": "ForeignKey",
    "urn": "Server[@Name='Windows10-Pepe']/Database[@Name='CEFEGEN']/Table[@Name='PagosPaciente' and @Schema='dbo']/ForeignKey[@Name='FK_PagosPaciente_Solicitantes']"
   },
   "source": [
    "# [FK_PagosPaciente_Solicitantes]"
   ]
  },
  {
   "cell_type": "code",
   "execution_count": 0,
   "metadata": {
    "object_type": "ForeignKey",
    "urn": "Server[@Name='Windows10-Pepe']/Database[@Name='CEFEGEN']/Table[@Name='PagosPaciente' and @Schema='dbo']/ForeignKey[@Name='FK_PagosPaciente_Solicitantes']"
   },
   "outputs": [],
   "source": [
    "ALTER TABLE [dbo].[PagosPaciente]  WITH NOCHECK ADD  CONSTRAINT [FK_PagosPaciente_Solicitantes] FOREIGN KEY([IdSolicitante])\n",
    "REFERENCES [dbo].[Solicitantes] ([IdSolicitante])\n",
    "GO\n",
    "ALTER TABLE [dbo].[PagosPaciente] NOCHECK CONSTRAINT [FK_PagosPaciente_Solicitantes]\n",
    "GO\n"
   ]
  },
  {
   "cell_type": "markdown",
   "metadata": {
    "object_type": "ForeignKey",
    "urn": "Server[@Name='Windows10-Pepe']/Database[@Name='CEFEGEN']/Table[@Name='PerfilesGeneticos' and @Schema='dbo']/ForeignKey[@Name='FK_PerfilesGeneticos_Intervinientes']"
   },
   "source": [
    "# [FK_PerfilesGeneticos_Intervinientes]"
   ]
  },
  {
   "cell_type": "code",
   "execution_count": 0,
   "metadata": {
    "object_type": "ForeignKey",
    "urn": "Server[@Name='Windows10-Pepe']/Database[@Name='CEFEGEN']/Table[@Name='PerfilesGeneticos' and @Schema='dbo']/ForeignKey[@Name='FK_PerfilesGeneticos_Intervinientes']"
   },
   "outputs": [],
   "source": [
    "ALTER TABLE [dbo].[PerfilesGeneticos]  WITH NOCHECK ADD  CONSTRAINT [FK_PerfilesGeneticos_Intervinientes] FOREIGN KEY([IdInterviniente])\n",
    "REFERENCES [dbo].[Intervinientes] ([IdInterviniente])\n",
    "GO\n",
    "ALTER TABLE [dbo].[PerfilesGeneticos] NOCHECK CONSTRAINT [FK_PerfilesGeneticos_Intervinientes]\n",
    "GO\n"
   ]
  },
  {
   "cell_type": "markdown",
   "metadata": {
    "object_type": "ForeignKey",
    "urn": "Server[@Name='Windows10-Pepe']/Database[@Name='CEFEGEN']/Table[@Name='PermisosDocumento' and @Schema='dbo']/ForeignKey[@Name='FK_PermisosDocumento_Documentos']"
   },
   "source": [
    "# [FK_PermisosDocumento_Documentos]"
   ]
  },
  {
   "cell_type": "code",
   "execution_count": 0,
   "metadata": {
    "object_type": "ForeignKey",
    "urn": "Server[@Name='Windows10-Pepe']/Database[@Name='CEFEGEN']/Table[@Name='PermisosDocumento' and @Schema='dbo']/ForeignKey[@Name='FK_PermisosDocumento_Documentos']"
   },
   "outputs": [],
   "source": [
    "ALTER TABLE [dbo].[PermisosDocumento]  WITH NOCHECK ADD  CONSTRAINT [FK_PermisosDocumento_Documentos] FOREIGN KEY([IdDocumento])\n",
    "REFERENCES [dbo].[Documentos] ([IdDocumento])\n",
    "GO\n",
    "ALTER TABLE [dbo].[PermisosDocumento] NOCHECK CONSTRAINT [FK_PermisosDocumento_Documentos]\n",
    "GO\n"
   ]
  },
  {
   "cell_type": "markdown",
   "metadata": {
    "object_type": "ForeignKey",
    "urn": "Server[@Name='Windows10-Pepe']/Database[@Name='CEFEGEN']/Table[@Name='PermisosDocumento' and @Schema='dbo']/ForeignKey[@Name='FK_PermisosDocumento_Roles']"
   },
   "source": [
    "# [FK_PermisosDocumento_Roles]"
   ]
  },
  {
   "cell_type": "code",
   "execution_count": 0,
   "metadata": {
    "object_type": "ForeignKey",
    "urn": "Server[@Name='Windows10-Pepe']/Database[@Name='CEFEGEN']/Table[@Name='PermisosDocumento' and @Schema='dbo']/ForeignKey[@Name='FK_PermisosDocumento_Roles']"
   },
   "outputs": [],
   "source": [
    "ALTER TABLE [dbo].[PermisosDocumento]  WITH NOCHECK ADD  CONSTRAINT [FK_PermisosDocumento_Roles] FOREIGN KEY([IdRol])\n",
    "REFERENCES [dbo].[Roles] ([IdRol])\n",
    "GO\n",
    "ALTER TABLE [dbo].[PermisosDocumento] NOCHECK CONSTRAINT [FK_PermisosDocumento_Roles]\n",
    "GO\n"
   ]
  },
  {
   "cell_type": "markdown",
   "metadata": {
    "object_type": "ForeignKey",
    "urn": "Server[@Name='Windows10-Pepe']/Database[@Name='CEFEGEN']/Table[@Name='PermisosDocumento' and @Schema='dbo']/ForeignKey[@Name='FK_PermisosDocumento_Usuarios']"
   },
   "source": [
    "# [FK_PermisosDocumento_Usuarios]"
   ]
  },
  {
   "cell_type": "code",
   "execution_count": 0,
   "metadata": {
    "object_type": "ForeignKey",
    "urn": "Server[@Name='Windows10-Pepe']/Database[@Name='CEFEGEN']/Table[@Name='PermisosDocumento' and @Schema='dbo']/ForeignKey[@Name='FK_PermisosDocumento_Usuarios']"
   },
   "outputs": [],
   "source": [
    "ALTER TABLE [dbo].[PermisosDocumento]  WITH NOCHECK ADD  CONSTRAINT [FK_PermisosDocumento_Usuarios] FOREIGN KEY([IdUsuario])\n",
    "REFERENCES [dbo].[Usuarios] ([IdUsuario])\n",
    "GO\n",
    "ALTER TABLE [dbo].[PermisosDocumento] NOCHECK CONSTRAINT [FK_PermisosDocumento_Usuarios]\n",
    "GO\n"
   ]
  },
  {
   "cell_type": "markdown",
   "metadata": {
    "object_type": "ForeignKey",
    "urn": "Server[@Name='Windows10-Pepe']/Database[@Name='CEFEGEN']/Table[@Name='Personal' and @Schema='dbo']/ForeignKey[@Name='FK_Personal_Cargo']"
   },
   "source": [
    "# [FK_Personal_Cargo]"
   ]
  },
  {
   "cell_type": "code",
   "execution_count": 0,
   "metadata": {
    "object_type": "ForeignKey",
    "urn": "Server[@Name='Windows10-Pepe']/Database[@Name='CEFEGEN']/Table[@Name='Personal' and @Schema='dbo']/ForeignKey[@Name='FK_Personal_Cargo']"
   },
   "outputs": [],
   "source": [
    "ALTER TABLE [dbo].[Personal]  WITH NOCHECK ADD  CONSTRAINT [FK_Personal_Cargo] FOREIGN KEY([IdCargo])\n",
    "REFERENCES [dbo].[Cargos] ([IdCargo])\n",
    "GO\n",
    "ALTER TABLE [dbo].[Personal] NOCHECK CONSTRAINT [FK_Personal_Cargo]\n",
    "GO\n"
   ]
  },
  {
   "cell_type": "markdown",
   "metadata": {
    "object_type": "ForeignKey",
    "urn": "Server[@Name='Windows10-Pepe']/Database[@Name='CEFEGEN']/Table[@Name='Personal' and @Schema='dbo']/ForeignKey[@Name='FK_Personal_Direcciones']"
   },
   "source": [
    "# [FK_Personal_Direcciones]"
   ]
  },
  {
   "cell_type": "code",
   "execution_count": 0,
   "metadata": {
    "object_type": "ForeignKey",
    "urn": "Server[@Name='Windows10-Pepe']/Database[@Name='CEFEGEN']/Table[@Name='Personal' and @Schema='dbo']/ForeignKey[@Name='FK_Personal_Direcciones']"
   },
   "outputs": [],
   "source": [
    "ALTER TABLE [dbo].[Personal]  WITH CHECK ADD  CONSTRAINT [FK_Personal_Direcciones] FOREIGN KEY([IdDireccion])\n",
    "REFERENCES [dbo].[Direcciones] ([IdDireccion])\n",
    "GO\n",
    "ALTER TABLE [dbo].[Personal] CHECK CONSTRAINT [FK_Personal_Direcciones]\n",
    "GO\n"
   ]
  },
  {
   "cell_type": "markdown",
   "metadata": {
    "object_type": "ForeignKey",
    "urn": "Server[@Name='Windows10-Pepe']/Database[@Name='CEFEGEN']/Table[@Name='Personal' and @Schema='dbo']/ForeignKey[@Name='FK_Personal_Especialidad']"
   },
   "source": [
    "# [FK_Personal_Especialidad]"
   ]
  },
  {
   "cell_type": "code",
   "execution_count": 0,
   "metadata": {
    "object_type": "ForeignKey",
    "urn": "Server[@Name='Windows10-Pepe']/Database[@Name='CEFEGEN']/Table[@Name='Personal' and @Schema='dbo']/ForeignKey[@Name='FK_Personal_Especialidad']"
   },
   "outputs": [],
   "source": [
    "ALTER TABLE [dbo].[Personal]  WITH NOCHECK ADD  CONSTRAINT [FK_Personal_Especialidad] FOREIGN KEY([IdEspecialidad])\n",
    "REFERENCES [dbo].[Especialidades] ([IdEspecialidad])\n",
    "GO\n",
    "ALTER TABLE [dbo].[Personal] NOCHECK CONSTRAINT [FK_Personal_Especialidad]\n",
    "GO\n"
   ]
  },
  {
   "cell_type": "markdown",
   "metadata": {
    "object_type": "ForeignKey",
    "urn": "Server[@Name='Windows10-Pepe']/Database[@Name='CEFEGEN']/Table[@Name='Personal' and @Schema='dbo']/ForeignKey[@Name='FK_Personal_TiposDocumentos']"
   },
   "source": [
    "# [FK_Personal_TiposDocumentos]"
   ]
  },
  {
   "cell_type": "code",
   "execution_count": 0,
   "metadata": {
    "object_type": "ForeignKey",
    "urn": "Server[@Name='Windows10-Pepe']/Database[@Name='CEFEGEN']/Table[@Name='Personal' and @Schema='dbo']/ForeignKey[@Name='FK_Personal_TiposDocumentos']"
   },
   "outputs": [],
   "source": [
    "ALTER TABLE [dbo].[Personal]  WITH NOCHECK ADD  CONSTRAINT [FK_Personal_TiposDocumentos] FOREIGN KEY([IdTipoDocumento])\n",
    "REFERENCES [dbo].[TiposDocumentos] ([IdTipoDocumento])\n",
    "GO\n",
    "ALTER TABLE [dbo].[Personal] NOCHECK CONSTRAINT [FK_Personal_TiposDocumentos]\n",
    "GO\n"
   ]
  },
  {
   "cell_type": "markdown",
   "metadata": {
    "object_type": "ForeignKey",
    "urn": "Server[@Name='Windows10-Pepe']/Database[@Name='CEFEGEN']/Table[@Name='PersonasTomaMuestras' and @Schema='dbo']/ForeignKey[@Name='FK_PersonasToma_Laboratorio']"
   },
   "source": [
    "# [FK_PersonasToma_Laboratorio]"
   ]
  },
  {
   "cell_type": "code",
   "execution_count": 0,
   "metadata": {
    "object_type": "ForeignKey",
    "urn": "Server[@Name='Windows10-Pepe']/Database[@Name='CEFEGEN']/Table[@Name='PersonasTomaMuestras' and @Schema='dbo']/ForeignKey[@Name='FK_PersonasToma_Laboratorio']"
   },
   "outputs": [],
   "source": [
    "ALTER TABLE [dbo].[PersonasTomaMuestras]  WITH NOCHECK ADD  CONSTRAINT [FK_PersonasToma_Laboratorio] FOREIGN KEY([IdLaboratorioColaborador])\n",
    "REFERENCES [dbo].[LaboratoriosColaboradores] ([IdLaboratorioColaborador])\n",
    "GO\n",
    "ALTER TABLE [dbo].[PersonasTomaMuestras] NOCHECK CONSTRAINT [FK_PersonasToma_Laboratorio]\n",
    "GO\n"
   ]
  },
  {
   "cell_type": "markdown",
   "metadata": {
    "object_type": "ForeignKey",
    "urn": "Server[@Name='Windows10-Pepe']/Database[@Name='CEFEGEN']/Table[@Name='PersonasTomaMuestras' and @Schema='dbo']/ForeignKey[@Name='FK_PersonasTomaMuestras_TiposDocumentos']"
   },
   "source": [
    "# [FK_PersonasTomaMuestras_TiposDocumentos]"
   ]
  },
  {
   "cell_type": "code",
   "execution_count": 0,
   "metadata": {
    "object_type": "ForeignKey",
    "urn": "Server[@Name='Windows10-Pepe']/Database[@Name='CEFEGEN']/Table[@Name='PersonasTomaMuestras' and @Schema='dbo']/ForeignKey[@Name='FK_PersonasTomaMuestras_TiposDocumentos']"
   },
   "outputs": [],
   "source": [
    "ALTER TABLE [dbo].[PersonasTomaMuestras]  WITH NOCHECK ADD  CONSTRAINT [FK_PersonasTomaMuestras_TiposDocumentos] FOREIGN KEY([IdTipoDocumento])\n",
    "REFERENCES [dbo].[TiposDocumentos] ([IdTipoDocumento])\n",
    "GO\n",
    "ALTER TABLE [dbo].[PersonasTomaMuestras] NOCHECK CONSTRAINT [FK_PersonasTomaMuestras_TiposDocumentos]\n",
    "GO\n"
   ]
  },
  {
   "cell_type": "markdown",
   "metadata": {
    "object_type": "ForeignKey",
    "urn": "Server[@Name='Windows10-Pepe']/Database[@Name='CEFEGEN']/Table[@Name='Peticiones' and @Schema='dbo']/ForeignKey[@Name='FK__Peticione__IdSol__1940BAED']"
   },
   "source": [
    "# [FK__Peticione__IdSol__1940BAED]"
   ]
  },
  {
   "cell_type": "code",
   "execution_count": 0,
   "metadata": {
    "object_type": "ForeignKey",
    "urn": "Server[@Name='Windows10-Pepe']/Database[@Name='CEFEGEN']/Table[@Name='Peticiones' and @Schema='dbo']/ForeignKey[@Name='FK__Peticione__IdSol__1940BAED']"
   },
   "outputs": [],
   "source": [
    "ALTER TABLE [dbo].[Peticiones]  WITH NOCHECK ADD FOREIGN KEY([IdSolicitud])\n",
    "REFERENCES [dbo].[Solicitudes] ([IdSolicitud])\n",
    "GO\n"
   ]
  },
  {
   "cell_type": "markdown",
   "metadata": {
    "object_type": "ForeignKey",
    "urn": "Server[@Name='Windows10-Pepe']/Database[@Name='CEFEGEN']/Table[@Name='Peticiones' and @Schema='dbo']/ForeignKey[@Name='FK_Peticiones_Solicitudes']"
   },
   "source": [
    "# [FK_Peticiones_Solicitudes]"
   ]
  },
  {
   "cell_type": "code",
   "execution_count": 0,
   "metadata": {
    "object_type": "ForeignKey",
    "urn": "Server[@Name='Windows10-Pepe']/Database[@Name='CEFEGEN']/Table[@Name='Peticiones' and @Schema='dbo']/ForeignKey[@Name='FK_Peticiones_Solicitudes']"
   },
   "outputs": [],
   "source": [
    "ALTER TABLE [dbo].[Peticiones]  WITH NOCHECK ADD  CONSTRAINT [FK_Peticiones_Solicitudes] FOREIGN KEY([IdSolicitud])\n",
    "REFERENCES [dbo].[Solicitudes] ([IdSolicitud])\n",
    "GO\n",
    "ALTER TABLE [dbo].[Peticiones] NOCHECK CONSTRAINT [FK_Peticiones_Solicitudes]\n",
    "GO\n"
   ]
  },
  {
   "cell_type": "markdown",
   "metadata": {
    "object_type": "ForeignKey",
    "urn": "Server[@Name='Windows10-Pepe']/Database[@Name='CEFEGEN']/Table[@Name='Peticiones' and @Schema='dbo']/ForeignKey[@Name='FK_Peticiones_TiposPrueba']"
   },
   "source": [
    "# [FK_Peticiones_TiposPrueba]"
   ]
  },
  {
   "cell_type": "code",
   "execution_count": 0,
   "metadata": {
    "object_type": "ForeignKey",
    "urn": "Server[@Name='Windows10-Pepe']/Database[@Name='CEFEGEN']/Table[@Name='Peticiones' and @Schema='dbo']/ForeignKey[@Name='FK_Peticiones_TiposPrueba']"
   },
   "outputs": [],
   "source": [
    "ALTER TABLE [dbo].[Peticiones]  WITH NOCHECK ADD  CONSTRAINT [FK_Peticiones_TiposPrueba] FOREIGN KEY([IdTipoPrueba])\n",
    "REFERENCES [dbo].[TiposPrueba] ([IdTipoPrueba])\n",
    "GO\n",
    "ALTER TABLE [dbo].[Peticiones] NOCHECK CONSTRAINT [FK_Peticiones_TiposPrueba]\n",
    "GO\n"
   ]
  },
  {
   "cell_type": "markdown",
   "metadata": {
    "object_type": "ForeignKey",
    "urn": "Server[@Name='Windows10-Pepe']/Database[@Name='CEFEGEN']/Table[@Name='Peticiones' and @Schema='dbo']/ForeignKey[@Name='FK_Peticiones_TiposPruebasConsumo']"
   },
   "source": [
    "# [FK_Peticiones_TiposPruebasConsumo]"
   ]
  },
  {
   "cell_type": "code",
   "execution_count": 0,
   "metadata": {
    "object_type": "ForeignKey",
    "urn": "Server[@Name='Windows10-Pepe']/Database[@Name='CEFEGEN']/Table[@Name='Peticiones' and @Schema='dbo']/ForeignKey[@Name='FK_Peticiones_TiposPruebasConsumo']"
   },
   "outputs": [],
   "source": [
    "ALTER TABLE [dbo].[Peticiones]  WITH NOCHECK ADD  CONSTRAINT [FK_Peticiones_TiposPruebasConsumo] FOREIGN KEY([IdSubTipoPrueba])\n",
    "REFERENCES [dbo].[TiposPruebasConsumo] ([IdTipoPruebaConsumo])\n",
    "GO\n",
    "ALTER TABLE [dbo].[Peticiones] NOCHECK CONSTRAINT [FK_Peticiones_TiposPruebasConsumo]\n",
    "GO\n"
   ]
  },
  {
   "cell_type": "markdown",
   "metadata": {
    "object_type": "ForeignKey",
    "urn": "Server[@Name='Windows10-Pepe']/Database[@Name='CEFEGEN']/Table[@Name='PeticionesLin' and @Schema='dbo']/ForeignKey[@Name='FK_PeticionesLin_Peticiones']"
   },
   "source": [
    "# [FK_PeticionesLin_Peticiones]"
   ]
  },
  {
   "cell_type": "code",
   "execution_count": 0,
   "metadata": {
    "object_type": "ForeignKey",
    "urn": "Server[@Name='Windows10-Pepe']/Database[@Name='CEFEGEN']/Table[@Name='PeticionesLin' and @Schema='dbo']/ForeignKey[@Name='FK_PeticionesLin_Peticiones']"
   },
   "outputs": [],
   "source": [
    "ALTER TABLE [dbo].[PeticionesLin]  WITH NOCHECK ADD  CONSTRAINT [FK_PeticionesLin_Peticiones] FOREIGN KEY([IdPeticion])\n",
    "REFERENCES [dbo].[Peticiones] ([IdPeticion])\n",
    "GO\n",
    "ALTER TABLE [dbo].[PeticionesLin] NOCHECK CONSTRAINT [FK_PeticionesLin_Peticiones]\n",
    "GO\n"
   ]
  },
  {
   "cell_type": "markdown",
   "metadata": {
    "object_type": "ForeignKey",
    "urn": "Server[@Name='Windows10-Pepe']/Database[@Name='CEFEGEN']/Table[@Name='PeticionesLin' and @Schema='dbo']/ForeignKey[@Name='FK_PeticionesLin_PlazoEntrega']"
   },
   "source": [
    "# [FK_PeticionesLin_PlazoEntrega]"
   ]
  },
  {
   "cell_type": "code",
   "execution_count": 0,
   "metadata": {
    "object_type": "ForeignKey",
    "urn": "Server[@Name='Windows10-Pepe']/Database[@Name='CEFEGEN']/Table[@Name='PeticionesLin' and @Schema='dbo']/ForeignKey[@Name='FK_PeticionesLin_PlazoEntrega']"
   },
   "outputs": [],
   "source": [
    "ALTER TABLE [dbo].[PeticionesLin]  WITH NOCHECK ADD  CONSTRAINT [FK_PeticionesLin_PlazoEntrega] FOREIGN KEY([IdPlazoEntrega])\n",
    "REFERENCES [dbo].[PlazosEntrega] ([IdPlazoEntrega])\n",
    "GO\n",
    "ALTER TABLE [dbo].[PeticionesLin] NOCHECK CONSTRAINT [FK_PeticionesLin_PlazoEntrega]\n",
    "GO\n"
   ]
  },
  {
   "cell_type": "markdown",
   "metadata": {
    "object_type": "ForeignKey",
    "urn": "Server[@Name='Windows10-Pepe']/Database[@Name='CEFEGEN']/Table[@Name='PeticionesLin' and @Schema='dbo']/ForeignKey[@Name='FK_PeticionesLin_Solicitudes']"
   },
   "source": [
    "# [FK_PeticionesLin_Solicitudes]"
   ]
  },
  {
   "cell_type": "code",
   "execution_count": 0,
   "metadata": {
    "object_type": "ForeignKey",
    "urn": "Server[@Name='Windows10-Pepe']/Database[@Name='CEFEGEN']/Table[@Name='PeticionesLin' and @Schema='dbo']/ForeignKey[@Name='FK_PeticionesLin_Solicitudes']"
   },
   "outputs": [],
   "source": [
    "ALTER TABLE [dbo].[PeticionesLin]  WITH NOCHECK ADD  CONSTRAINT [FK_PeticionesLin_Solicitudes] FOREIGN KEY([IdSolicitud])\n",
    "REFERENCES [dbo].[Solicitudes] ([IdSolicitud])\n",
    "GO\n",
    "ALTER TABLE [dbo].[PeticionesLin] NOCHECK CONSTRAINT [FK_PeticionesLin_Solicitudes]\n",
    "GO\n"
   ]
  },
  {
   "cell_type": "markdown",
   "metadata": {
    "object_type": "ForeignKey",
    "urn": "Server[@Name='Windows10-Pepe']/Database[@Name='CEFEGEN']/Table[@Name='PeticionesLin' and @Schema='dbo']/ForeignKey[@Name='FK_PeticionesLin_TipoMuestra']"
   },
   "source": [
    "# [FK_PeticionesLin_TipoMuestra]"
   ]
  },
  {
   "cell_type": "code",
   "execution_count": 0,
   "metadata": {
    "object_type": "ForeignKey",
    "urn": "Server[@Name='Windows10-Pepe']/Database[@Name='CEFEGEN']/Table[@Name='PeticionesLin' and @Schema='dbo']/ForeignKey[@Name='FK_PeticionesLin_TipoMuestra']"
   },
   "outputs": [],
   "source": [
    "ALTER TABLE [dbo].[PeticionesLin]  WITH NOCHECK ADD  CONSTRAINT [FK_PeticionesLin_TipoMuestra] FOREIGN KEY([IdTipoMuestra])\n",
    "REFERENCES [dbo].[TiposMuestra] ([IdTipoMuestra])\n",
    "GO\n",
    "ALTER TABLE [dbo].[PeticionesLin] NOCHECK CONSTRAINT [FK_PeticionesLin_TipoMuestra]\n",
    "GO\n"
   ]
  },
  {
   "cell_type": "markdown",
   "metadata": {
    "object_type": "ForeignKey",
    "urn": "Server[@Name='Windows10-Pepe']/Database[@Name='CEFEGEN']/Table[@Name='PeticionesLin' and @Schema='dbo']/ForeignKey[@Name='FK_PeticionesLin_TiposPrueba']"
   },
   "source": [
    "# [FK_PeticionesLin_TiposPrueba]"
   ]
  },
  {
   "cell_type": "code",
   "execution_count": 0,
   "metadata": {
    "object_type": "ForeignKey",
    "urn": "Server[@Name='Windows10-Pepe']/Database[@Name='CEFEGEN']/Table[@Name='PeticionesLin' and @Schema='dbo']/ForeignKey[@Name='FK_PeticionesLin_TiposPrueba']"
   },
   "outputs": [],
   "source": [
    "ALTER TABLE [dbo].[PeticionesLin]  WITH NOCHECK ADD  CONSTRAINT [FK_PeticionesLin_TiposPrueba] FOREIGN KEY([IdTipoPrueba])\n",
    "REFERENCES [dbo].[TiposPrueba] ([IdTipoPrueba])\n",
    "GO\n",
    "ALTER TABLE [dbo].[PeticionesLin] NOCHECK CONSTRAINT [FK_PeticionesLin_TiposPrueba]\n",
    "GO\n"
   ]
  },
  {
   "cell_type": "markdown",
   "metadata": {
    "object_type": "ForeignKey",
    "urn": "Server[@Name='Windows10-Pepe']/Database[@Name='CEFEGEN']/Table[@Name='PeticionesLin' and @Schema='dbo']/ForeignKey[@Name='FK_PeticionesLin_TiposPruebasConsumo']"
   },
   "source": [
    "# [FK_PeticionesLin_TiposPruebasConsumo]"
   ]
  },
  {
   "cell_type": "code",
   "execution_count": 0,
   "metadata": {
    "object_type": "ForeignKey",
    "urn": "Server[@Name='Windows10-Pepe']/Database[@Name='CEFEGEN']/Table[@Name='PeticionesLin' and @Schema='dbo']/ForeignKey[@Name='FK_PeticionesLin_TiposPruebasConsumo']"
   },
   "outputs": [],
   "source": [
    "ALTER TABLE [dbo].[PeticionesLin]  WITH NOCHECK ADD  CONSTRAINT [FK_PeticionesLin_TiposPruebasConsumo] FOREIGN KEY([IdTiposPruebasConsumo])\n",
    "REFERENCES [dbo].[TiposPruebasConsumo] ([IdTipoPruebaConsumo])\n",
    "GO\n",
    "ALTER TABLE [dbo].[PeticionesLin] NOCHECK CONSTRAINT [FK_PeticionesLin_TiposPruebasConsumo]\n",
    "GO\n"
   ]
  },
  {
   "cell_type": "markdown",
   "metadata": {
    "object_type": "ForeignKey",
    "urn": "Server[@Name='Windows10-Pepe']/Database[@Name='CEFEGEN']/Table[@Name='Plantillas' and @Schema='dbo']/ForeignKey[@Name='FK_Plantillas_Idiomas']"
   },
   "source": [
    "# [FK_Plantillas_Idiomas]"
   ]
  },
  {
   "cell_type": "code",
   "execution_count": 0,
   "metadata": {
    "object_type": "ForeignKey",
    "urn": "Server[@Name='Windows10-Pepe']/Database[@Name='CEFEGEN']/Table[@Name='Plantillas' and @Schema='dbo']/ForeignKey[@Name='FK_Plantillas_Idiomas']"
   },
   "outputs": [],
   "source": [
    "ALTER TABLE [dbo].[Plantillas]  WITH NOCHECK ADD  CONSTRAINT [FK_Plantillas_Idiomas] FOREIGN KEY([IdIdioma])\n",
    "REFERENCES [dbo].[Idiomas] ([IdIdioma])\n",
    "GO\n",
    "ALTER TABLE [dbo].[Plantillas] NOCHECK CONSTRAINT [FK_Plantillas_Idiomas]\n",
    "GO\n"
   ]
  },
  {
   "cell_type": "markdown",
   "metadata": {
    "object_type": "ForeignKey",
    "urn": "Server[@Name='Windows10-Pepe']/Database[@Name='CEFEGEN']/Table[@Name='Plantillas' and @Schema='dbo']/ForeignKey[@Name='FK_Plantillas_TiposPlantillas']"
   },
   "source": [
    "# [FK_Plantillas_TiposPlantillas]"
   ]
  },
  {
   "cell_type": "code",
   "execution_count": 0,
   "metadata": {
    "object_type": "ForeignKey",
    "urn": "Server[@Name='Windows10-Pepe']/Database[@Name='CEFEGEN']/Table[@Name='Plantillas' and @Schema='dbo']/ForeignKey[@Name='FK_Plantillas_TiposPlantillas']"
   },
   "outputs": [],
   "source": [
    "ALTER TABLE [dbo].[Plantillas]  WITH NOCHECK ADD  CONSTRAINT [FK_Plantillas_TiposPlantillas] FOREIGN KEY([IdTipoPlantilla])\n",
    "REFERENCES [dbo].[TiposPlantillas] ([IdTipoPlantilla])\n",
    "GO\n",
    "ALTER TABLE [dbo].[Plantillas] NOCHECK CONSTRAINT [FK_Plantillas_TiposPlantillas]\n",
    "GO\n"
   ]
  },
  {
   "cell_type": "markdown",
   "metadata": {
    "object_type": "ForeignKey",
    "urn": "Server[@Name='Windows10-Pepe']/Database[@Name='CEFEGEN']/Table[@Name='Plantillas' and @Schema='dbo']/ForeignKey[@Name='FK_Plantillas_TiposPruebasConsumo']"
   },
   "source": [
    "# [FK_Plantillas_TiposPruebasConsumo]"
   ]
  },
  {
   "cell_type": "code",
   "execution_count": 0,
   "metadata": {
    "object_type": "ForeignKey",
    "urn": "Server[@Name='Windows10-Pepe']/Database[@Name='CEFEGEN']/Table[@Name='Plantillas' and @Schema='dbo']/ForeignKey[@Name='FK_Plantillas_TiposPruebasConsumo']"
   },
   "outputs": [],
   "source": [
    "ALTER TABLE [dbo].[Plantillas]  WITH NOCHECK ADD  CONSTRAINT [FK_Plantillas_TiposPruebasConsumo] FOREIGN KEY([IdTipoPruebaConsumo])\n",
    "REFERENCES [dbo].[TiposPruebasConsumo] ([IdTipoPruebaConsumo])\n",
    "GO\n",
    "ALTER TABLE [dbo].[Plantillas] NOCHECK CONSTRAINT [FK_Plantillas_TiposPruebasConsumo]\n",
    "GO\n"
   ]
  },
  {
   "cell_type": "markdown",
   "metadata": {
    "object_type": "ForeignKey",
    "urn": "Server[@Name='Windows10-Pepe']/Database[@Name='CEFEGEN']/Table[@Name='PlantillasInforme' and @Schema='dbo']/ForeignKey[@Name='FK_PlantillasInforme_Idiomas']"
   },
   "source": [
    "# [FK_PlantillasInforme_Idiomas]"
   ]
  },
  {
   "cell_type": "code",
   "execution_count": 0,
   "metadata": {
    "object_type": "ForeignKey",
    "urn": "Server[@Name='Windows10-Pepe']/Database[@Name='CEFEGEN']/Table[@Name='PlantillasInforme' and @Schema='dbo']/ForeignKey[@Name='FK_PlantillasInforme_Idiomas']"
   },
   "outputs": [],
   "source": [
    "ALTER TABLE [dbo].[PlantillasInforme]  WITH NOCHECK ADD  CONSTRAINT [FK_PlantillasInforme_Idiomas] FOREIGN KEY([IdIdioma])\n",
    "REFERENCES [dbo].[Idiomas] ([IdIdioma])\n",
    "GO\n",
    "ALTER TABLE [dbo].[PlantillasInforme] NOCHECK CONSTRAINT [FK_PlantillasInforme_Idiomas]\n",
    "GO\n"
   ]
  },
  {
   "cell_type": "markdown",
   "metadata": {
    "object_type": "ForeignKey",
    "urn": "Server[@Name='Windows10-Pepe']/Database[@Name='CEFEGEN']/Table[@Name='PlantillasNotificacion' and @Schema='dbo']/ForeignKey[@Name='FK_PlantillasNotificacion_Idiomas']"
   },
   "source": [
    "# [FK_PlantillasNotificacion_Idiomas]"
   ]
  },
  {
   "cell_type": "code",
   "execution_count": 0,
   "metadata": {
    "object_type": "ForeignKey",
    "urn": "Server[@Name='Windows10-Pepe']/Database[@Name='CEFEGEN']/Table[@Name='PlantillasNotificacion' and @Schema='dbo']/ForeignKey[@Name='FK_PlantillasNotificacion_Idiomas']"
   },
   "outputs": [],
   "source": [
    "ALTER TABLE [dbo].[PlantillasNotificacion]  WITH NOCHECK ADD  CONSTRAINT [FK_PlantillasNotificacion_Idiomas] FOREIGN KEY([IdIdioma])\n",
    "REFERENCES [dbo].[Idiomas] ([IdIdioma])\n",
    "GO\n",
    "ALTER TABLE [dbo].[PlantillasNotificacion] NOCHECK CONSTRAINT [FK_PlantillasNotificacion_Idiomas]\n",
    "GO\n"
   ]
  },
  {
   "cell_type": "markdown",
   "metadata": {
    "object_type": "ForeignKey",
    "urn": "Server[@Name='Windows10-Pepe']/Database[@Name='CEFEGEN']/Table[@Name='Poblaciones' and @Schema='dbo']/ForeignKey[@Name='FK__Poblacion__Codig__3C69FB99']"
   },
   "source": [
    "# [FK__Poblacion__Codig__3C69FB99]"
   ]
  },
  {
   "cell_type": "code",
   "execution_count": 0,
   "metadata": {
    "object_type": "ForeignKey",
    "urn": "Server[@Name='Windows10-Pepe']/Database[@Name='CEFEGEN']/Table[@Name='Poblaciones' and @Schema='dbo']/ForeignKey[@Name='FK__Poblacion__Codig__3C69FB99']"
   },
   "outputs": [],
   "source": [
    "ALTER TABLE [dbo].[Poblaciones]  WITH NOCHECK ADD FOREIGN KEY([CodigoProvincia])\n",
    "REFERENCES [dbo].[Provincias] ([CodigoProvincia])\n",
    "GO\n"
   ]
  },
  {
   "cell_type": "markdown",
   "metadata": {
    "object_type": "ForeignKey",
    "urn": "Server[@Name='Windows10-Pepe']/Database[@Name='CEFEGEN']/Table[@Name='PrecioCache' and @Schema='dbo']/ForeignKey[@Name='FK_PrecioCache_ReglasIncrementoPrecio']"
   },
   "source": [
    "# [FK_PrecioCache_ReglasIncrementoPrecio]"
   ]
  },
  {
   "cell_type": "code",
   "execution_count": 0,
   "metadata": {
    "object_type": "ForeignKey",
    "urn": "Server[@Name='Windows10-Pepe']/Database[@Name='CEFEGEN']/Table[@Name='PrecioCache' and @Schema='dbo']/ForeignKey[@Name='FK_PrecioCache_ReglasIncrementoPrecio']"
   },
   "outputs": [],
   "source": [
    "ALTER TABLE [dbo].[PrecioCache]  WITH NOCHECK ADD  CONSTRAINT [FK_PrecioCache_ReglasIncrementoPrecio] FOREIGN KEY([IdRegla])\n",
    "REFERENCES [dbo].[ReglasIncrementoPrecio] ([IdRegla])\n",
    "GO\n",
    "ALTER TABLE [dbo].[PrecioCache] NOCHECK CONSTRAINT [FK_PrecioCache_ReglasIncrementoPrecio]\n",
    "GO\n"
   ]
  },
  {
   "cell_type": "markdown",
   "metadata": {
    "object_type": "ForeignKey",
    "urn": "Server[@Name='Windows10-Pepe']/Database[@Name='CEFEGEN']/Table[@Name='PrecioCache' and @Schema='dbo']/ForeignKey[@Name='FK_PrecioCache_TiposPruebasConsumo']"
   },
   "source": [
    "# [FK_PrecioCache_TiposPruebasConsumo]"
   ]
  },
  {
   "cell_type": "code",
   "execution_count": 0,
   "metadata": {
    "object_type": "ForeignKey",
    "urn": "Server[@Name='Windows10-Pepe']/Database[@Name='CEFEGEN']/Table[@Name='PrecioCache' and @Schema='dbo']/ForeignKey[@Name='FK_PrecioCache_TiposPruebasConsumo']"
   },
   "outputs": [],
   "source": [
    "ALTER TABLE [dbo].[PrecioCache]  WITH NOCHECK ADD  CONSTRAINT [FK_PrecioCache_TiposPruebasConsumo] FOREIGN KEY([IdTiposPruebasConsumo])\n",
    "REFERENCES [dbo].[TiposPruebasConsumo] ([IdTipoPruebaConsumo])\n",
    "GO\n",
    "ALTER TABLE [dbo].[PrecioCache] NOCHECK CONSTRAINT [FK_PrecioCache_TiposPruebasConsumo]\n",
    "GO\n"
   ]
  },
  {
   "cell_type": "markdown",
   "metadata": {
    "object_type": "ForeignKey",
    "urn": "Server[@Name='Windows10-Pepe']/Database[@Name='CEFEGEN']/Table[@Name='Productos' and @Schema='dbo']/ForeignKey[@Name='FK_Productos_Familia']"
   },
   "source": [
    "# [FK_Productos_Familia]"
   ]
  },
  {
   "cell_type": "code",
   "execution_count": 0,
   "metadata": {
    "object_type": "ForeignKey",
    "urn": "Server[@Name='Windows10-Pepe']/Database[@Name='CEFEGEN']/Table[@Name='Productos' and @Schema='dbo']/ForeignKey[@Name='FK_Productos_Familia']"
   },
   "outputs": [],
   "source": [
    "ALTER TABLE [dbo].[Productos]  WITH NOCHECK ADD  CONSTRAINT [FK_Productos_Familia] FOREIGN KEY([IdFamiliaProducto])\n",
    "REFERENCES [dbo].[Familias] ([IdFamilia])\n",
    "GO\n",
    "ALTER TABLE [dbo].[Productos] NOCHECK CONSTRAINT [FK_Productos_Familia]\n",
    "GO\n"
   ]
  },
  {
   "cell_type": "markdown",
   "metadata": {
    "object_type": "ForeignKey",
    "urn": "Server[@Name='Windows10-Pepe']/Database[@Name='CEFEGEN']/Table[@Name='Productos' and @Schema='dbo']/ForeignKey[@Name='FK_Productos_Muestra']"
   },
   "source": [
    "# [FK_Productos_Muestra]"
   ]
  },
  {
   "cell_type": "code",
   "execution_count": 0,
   "metadata": {
    "object_type": "ForeignKey",
    "urn": "Server[@Name='Windows10-Pepe']/Database[@Name='CEFEGEN']/Table[@Name='Productos' and @Schema='dbo']/ForeignKey[@Name='FK_Productos_Muestra']"
   },
   "outputs": [],
   "source": [
    "ALTER TABLE [dbo].[Productos]  WITH NOCHECK ADD  CONSTRAINT [FK_Productos_Muestra] FOREIGN KEY([IdMuestra])\n",
    "REFERENCES [dbo].[Muestras] ([IdMuestra])\n",
    "GO\n",
    "ALTER TABLE [dbo].[Productos] NOCHECK CONSTRAINT [FK_Productos_Muestra]\n",
    "GO\n"
   ]
  },
  {
   "cell_type": "markdown",
   "metadata": {
    "object_type": "ForeignKey",
    "urn": "Server[@Name='Windows10-Pepe']/Database[@Name='CEFEGEN']/Table[@Name='Proveedores' and @Schema='dbo']/ForeignKey[@Name='FK_Proveedor_Actividad']"
   },
   "source": [
    "# [FK_Proveedor_Actividad]"
   ]
  },
  {
   "cell_type": "code",
   "execution_count": 0,
   "metadata": {
    "object_type": "ForeignKey",
    "urn": "Server[@Name='Windows10-Pepe']/Database[@Name='CEFEGEN']/Table[@Name='Proveedores' and @Schema='dbo']/ForeignKey[@Name='FK_Proveedor_Actividad']"
   },
   "outputs": [],
   "source": [
    "ALTER TABLE [dbo].[Proveedores]  WITH NOCHECK ADD  CONSTRAINT [FK_Proveedor_Actividad] FOREIGN KEY([IdActividad])\n",
    "REFERENCES [dbo].[Actividades] ([IdActividad])\n",
    "GO\n",
    "ALTER TABLE [dbo].[Proveedores] NOCHECK CONSTRAINT [FK_Proveedor_Actividad]\n",
    "GO\n"
   ]
  },
  {
   "cell_type": "markdown",
   "metadata": {
    "object_type": "ForeignKey",
    "urn": "Server[@Name='Windows10-Pepe']/Database[@Name='CEFEGEN']/Table[@Name='Proveedores' and @Schema='dbo']/ForeignKey[@Name='FK_Proveedor_FormaPago']"
   },
   "source": [
    "# [FK_Proveedor_FormaPago]"
   ]
  },
  {
   "cell_type": "code",
   "execution_count": 0,
   "metadata": {
    "object_type": "ForeignKey",
    "urn": "Server[@Name='Windows10-Pepe']/Database[@Name='CEFEGEN']/Table[@Name='Proveedores' and @Schema='dbo']/ForeignKey[@Name='FK_Proveedor_FormaPago']"
   },
   "outputs": [],
   "source": [
    "ALTER TABLE [dbo].[Proveedores]  WITH NOCHECK ADD  CONSTRAINT [FK_Proveedor_FormaPago] FOREIGN KEY([IdFormaPago])\n",
    "REFERENCES [dbo].[FormasPago] ([IdFormaPago])\n",
    "GO\n",
    "ALTER TABLE [dbo].[Proveedores] NOCHECK CONSTRAINT [FK_Proveedor_FormaPago]\n",
    "GO\n"
   ]
  },
  {
   "cell_type": "markdown",
   "metadata": {
    "object_type": "ForeignKey",
    "urn": "Server[@Name='Windows10-Pepe']/Database[@Name='CEFEGEN']/Table[@Name='Proveedores' and @Schema='dbo']/ForeignKey[@Name='FK_Proveedores_Direcciones']"
   },
   "source": [
    "# [FK_Proveedores_Direcciones]"
   ]
  },
  {
   "cell_type": "code",
   "execution_count": 0,
   "metadata": {
    "object_type": "ForeignKey",
    "urn": "Server[@Name='Windows10-Pepe']/Database[@Name='CEFEGEN']/Table[@Name='Proveedores' and @Schema='dbo']/ForeignKey[@Name='FK_Proveedores_Direcciones']"
   },
   "outputs": [],
   "source": [
    "ALTER TABLE [dbo].[Proveedores]  WITH CHECK ADD  CONSTRAINT [FK_Proveedores_Direcciones] FOREIGN KEY([IdDireccion])\n",
    "REFERENCES [dbo].[Direcciones] ([IdDireccion])\n",
    "GO\n",
    "ALTER TABLE [dbo].[Proveedores] CHECK CONSTRAINT [FK_Proveedores_Direcciones]\n",
    "GO\n"
   ]
  },
  {
   "cell_type": "markdown",
   "metadata": {
    "object_type": "ForeignKey",
    "urn": "Server[@Name='Windows10-Pepe']/Database[@Name='CEFEGEN']/Table[@Name='Recibos' and @Schema='dbo']/ForeignKey[@Name='FK_Recibos_Cliente']"
   },
   "source": [
    "# [FK_Recibos_Cliente]"
   ]
  },
  {
   "cell_type": "code",
   "execution_count": 0,
   "metadata": {
    "object_type": "ForeignKey",
    "urn": "Server[@Name='Windows10-Pepe']/Database[@Name='CEFEGEN']/Table[@Name='Recibos' and @Schema='dbo']/ForeignKey[@Name='FK_Recibos_Cliente']"
   },
   "outputs": [],
   "source": [
    "ALTER TABLE [dbo].[Recibos]  WITH NOCHECK ADD  CONSTRAINT [FK_Recibos_Cliente] FOREIGN KEY([IdCliente])\n",
    "REFERENCES [dbo].[LaboratoriosColaboradores] ([IdLaboratorioColaborador])\n",
    "GO\n",
    "ALTER TABLE [dbo].[Recibos] NOCHECK CONSTRAINT [FK_Recibos_Cliente]\n",
    "GO\n"
   ]
  },
  {
   "cell_type": "markdown",
   "metadata": {
    "object_type": "ForeignKey",
    "urn": "Server[@Name='Windows10-Pepe']/Database[@Name='CEFEGEN']/Table[@Name='Recibos' and @Schema='dbo']/ForeignKey[@Name='FK_Recibos_Empresa']"
   },
   "source": [
    "# [FK_Recibos_Empresa]"
   ]
  },
  {
   "cell_type": "code",
   "execution_count": 0,
   "metadata": {
    "object_type": "ForeignKey",
    "urn": "Server[@Name='Windows10-Pepe']/Database[@Name='CEFEGEN']/Table[@Name='Recibos' and @Schema='dbo']/ForeignKey[@Name='FK_Recibos_Empresa']"
   },
   "outputs": [],
   "source": [
    "ALTER TABLE [dbo].[Recibos]  WITH NOCHECK ADD  CONSTRAINT [FK_Recibos_Empresa] FOREIGN KEY([IdEmpresa])\n",
    "REFERENCES [dbo].[Empresas] ([IdEmpresa])\n",
    "GO\n",
    "ALTER TABLE [dbo].[Recibos] NOCHECK CONSTRAINT [FK_Recibos_Empresa]\n",
    "GO\n"
   ]
  },
  {
   "cell_type": "markdown",
   "metadata": {
    "object_type": "ForeignKey",
    "urn": "Server[@Name='Windows10-Pepe']/Database[@Name='CEFEGEN']/Table[@Name='Recibos' and @Schema='dbo']/ForeignKey[@Name='FK_Recibos_Factura']"
   },
   "source": [
    "# [FK_Recibos_Factura]"
   ]
  },
  {
   "cell_type": "code",
   "execution_count": 0,
   "metadata": {
    "object_type": "ForeignKey",
    "urn": "Server[@Name='Windows10-Pepe']/Database[@Name='CEFEGEN']/Table[@Name='Recibos' and @Schema='dbo']/ForeignKey[@Name='FK_Recibos_Factura']"
   },
   "outputs": [],
   "source": [
    "ALTER TABLE [dbo].[Recibos]  WITH NOCHECK ADD  CONSTRAINT [FK_Recibos_Factura] FOREIGN KEY([IdFactura])\n",
    "REFERENCES [dbo].[Facturas] ([IdFactura])\n",
    "GO\n",
    "ALTER TABLE [dbo].[Recibos] NOCHECK CONSTRAINT [FK_Recibos_Factura]\n",
    "GO\n"
   ]
  },
  {
   "cell_type": "markdown",
   "metadata": {
    "object_type": "ForeignKey",
    "urn": "Server[@Name='Windows10-Pepe']/Database[@Name='CEFEGEN']/Table[@Name='Recibos' and @Schema='dbo']/ForeignKey[@Name='FK_Recibos_FormaPago']"
   },
   "source": [
    "# [FK_Recibos_FormaPago]"
   ]
  },
  {
   "cell_type": "code",
   "execution_count": 0,
   "metadata": {
    "object_type": "ForeignKey",
    "urn": "Server[@Name='Windows10-Pepe']/Database[@Name='CEFEGEN']/Table[@Name='Recibos' and @Schema='dbo']/ForeignKey[@Name='FK_Recibos_FormaPago']"
   },
   "outputs": [],
   "source": [
    "ALTER TABLE [dbo].[Recibos]  WITH NOCHECK ADD  CONSTRAINT [FK_Recibos_FormaPago] FOREIGN KEY([IdFormaPago])\n",
    "REFERENCES [dbo].[FormasPago] ([IdFormaPago])\n",
    "GO\n",
    "ALTER TABLE [dbo].[Recibos] NOCHECK CONSTRAINT [FK_Recibos_FormaPago]\n",
    "GO\n"
   ]
  },
  {
   "cell_type": "markdown",
   "metadata": {
    "object_type": "ForeignKey",
    "urn": "Server[@Name='Windows10-Pepe']/Database[@Name='CEFEGEN']/Table[@Name='Recibos' and @Schema='dbo']/ForeignKey[@Name='FK_Recibos_Remesa']"
   },
   "source": [
    "# [FK_Recibos_Remesa]"
   ]
  },
  {
   "cell_type": "code",
   "execution_count": 0,
   "metadata": {
    "object_type": "ForeignKey",
    "urn": "Server[@Name='Windows10-Pepe']/Database[@Name='CEFEGEN']/Table[@Name='Recibos' and @Schema='dbo']/ForeignKey[@Name='FK_Recibos_Remesa']"
   },
   "outputs": [],
   "source": [
    "ALTER TABLE [dbo].[Recibos]  WITH NOCHECK ADD  CONSTRAINT [FK_Recibos_Remesa] FOREIGN KEY([IdRemesa])\n",
    "REFERENCES [dbo].[Remesas] ([IdRemesa])\n",
    "GO\n",
    "ALTER TABLE [dbo].[Recibos] NOCHECK CONSTRAINT [FK_Recibos_Remesa]\n",
    "GO\n"
   ]
  },
  {
   "cell_type": "markdown",
   "metadata": {
    "object_type": "ForeignKey",
    "urn": "Server[@Name='Windows10-Pepe']/Database[@Name='CEFEGEN']/Table[@Name='Recibos' and @Schema='dbo']/ForeignKey[@Name='FK_Recibos_Solicitantes']"
   },
   "source": [
    "# [FK_Recibos_Solicitantes]"
   ]
  },
  {
   "cell_type": "code",
   "execution_count": 0,
   "metadata": {
    "object_type": "ForeignKey",
    "urn": "Server[@Name='Windows10-Pepe']/Database[@Name='CEFEGEN']/Table[@Name='Recibos' and @Schema='dbo']/ForeignKey[@Name='FK_Recibos_Solicitantes']"
   },
   "outputs": [],
   "source": [
    "ALTER TABLE [dbo].[Recibos]  WITH NOCHECK ADD  CONSTRAINT [FK_Recibos_Solicitantes] FOREIGN KEY([IdSolicitante])\n",
    "REFERENCES [dbo].[Solicitantes] ([IdSolicitante])\n",
    "GO\n",
    "ALTER TABLE [dbo].[Recibos] NOCHECK CONSTRAINT [FK_Recibos_Solicitantes]\n",
    "GO\n"
   ]
  },
  {
   "cell_type": "markdown",
   "metadata": {
    "object_type": "ForeignKey",
    "urn": "Server[@Name='Windows10-Pepe']/Database[@Name='CEFEGEN']/Table[@Name='RecibosPagos' and @Schema='dbo']/ForeignKey[@Name='FK_RecibosPagos_FormaPago']"
   },
   "source": [
    "# [FK_RecibosPagos_FormaPago]"
   ]
  },
  {
   "cell_type": "code",
   "execution_count": 0,
   "metadata": {
    "object_type": "ForeignKey",
    "urn": "Server[@Name='Windows10-Pepe']/Database[@Name='CEFEGEN']/Table[@Name='RecibosPagos' and @Schema='dbo']/ForeignKey[@Name='FK_RecibosPagos_FormaPago']"
   },
   "outputs": [],
   "source": [
    "ALTER TABLE [dbo].[RecibosPagos]  WITH NOCHECK ADD  CONSTRAINT [FK_RecibosPagos_FormaPago] FOREIGN KEY([IdFormaPago])\n",
    "REFERENCES [dbo].[FormasPago] ([IdFormaPago])\n",
    "GO\n",
    "ALTER TABLE [dbo].[RecibosPagos] NOCHECK CONSTRAINT [FK_RecibosPagos_FormaPago]\n",
    "GO\n"
   ]
  },
  {
   "cell_type": "markdown",
   "metadata": {
    "object_type": "ForeignKey",
    "urn": "Server[@Name='Windows10-Pepe']/Database[@Name='CEFEGEN']/Table[@Name='RecibosPagos' and @Schema='dbo']/ForeignKey[@Name='FK_RecibosPagos_Personal']"
   },
   "source": [
    "# [FK_RecibosPagos_Personal]"
   ]
  },
  {
   "cell_type": "code",
   "execution_count": 0,
   "metadata": {
    "object_type": "ForeignKey",
    "urn": "Server[@Name='Windows10-Pepe']/Database[@Name='CEFEGEN']/Table[@Name='RecibosPagos' and @Schema='dbo']/ForeignKey[@Name='FK_RecibosPagos_Personal']"
   },
   "outputs": [],
   "source": [
    "ALTER TABLE [dbo].[RecibosPagos]  WITH NOCHECK ADD  CONSTRAINT [FK_RecibosPagos_Personal] FOREIGN KEY([IdPersonalRegistro])\n",
    "REFERENCES [dbo].[Personal] ([IdPersonal])\n",
    "GO\n",
    "ALTER TABLE [dbo].[RecibosPagos] NOCHECK CONSTRAINT [FK_RecibosPagos_Personal]\n",
    "GO\n"
   ]
  },
  {
   "cell_type": "markdown",
   "metadata": {
    "object_type": "ForeignKey",
    "urn": "Server[@Name='Windows10-Pepe']/Database[@Name='CEFEGEN']/Table[@Name='RecibosPagos' and @Schema='dbo']/ForeignKey[@Name='FK_RecibosPagos_Recibo']"
   },
   "source": [
    "# [FK_RecibosPagos_Recibo]"
   ]
  },
  {
   "cell_type": "code",
   "execution_count": 0,
   "metadata": {
    "object_type": "ForeignKey",
    "urn": "Server[@Name='Windows10-Pepe']/Database[@Name='CEFEGEN']/Table[@Name='RecibosPagos' and @Schema='dbo']/ForeignKey[@Name='FK_RecibosPagos_Recibo']"
   },
   "outputs": [],
   "source": [
    "ALTER TABLE [dbo].[RecibosPagos]  WITH NOCHECK ADD  CONSTRAINT [FK_RecibosPagos_Recibo] FOREIGN KEY([IdRecibo])\n",
    "REFERENCES [dbo].[Recibos] ([IdRecibo])\n",
    "GO\n",
    "ALTER TABLE [dbo].[RecibosPagos] NOCHECK CONSTRAINT [FK_RecibosPagos_Recibo]\n",
    "GO\n"
   ]
  },
  {
   "cell_type": "markdown",
   "metadata": {
    "object_type": "ForeignKey",
    "urn": "Server[@Name='Windows10-Pepe']/Database[@Name='CEFEGEN']/Table[@Name='ReferenciaDetalles' and @Schema='dbo']/ForeignKey[@Name='FK_ReferenciaDetalles_Abogado']"
   },
   "source": [
    "# [FK_ReferenciaDetalles_Abogado]"
   ]
  },
  {
   "cell_type": "code",
   "execution_count": 0,
   "metadata": {
    "object_type": "ForeignKey",
    "urn": "Server[@Name='Windows10-Pepe']/Database[@Name='CEFEGEN']/Table[@Name='ReferenciaDetalles' and @Schema='dbo']/ForeignKey[@Name='FK_ReferenciaDetalles_Abogado']"
   },
   "outputs": [],
   "source": [
    "ALTER TABLE [dbo].[ReferenciaDetalles]  WITH NOCHECK ADD  CONSTRAINT [FK_ReferenciaDetalles_Abogado] FOREIGN KEY([IdAbogado])\n",
    "REFERENCES [dbo].[Abogados] ([IdAbogado])\n",
    "GO\n",
    "ALTER TABLE [dbo].[ReferenciaDetalles] NOCHECK CONSTRAINT [FK_ReferenciaDetalles_Abogado]\n",
    "GO\n"
   ]
  },
  {
   "cell_type": "markdown",
   "metadata": {
    "object_type": "ForeignKey",
    "urn": "Server[@Name='Windows10-Pepe']/Database[@Name='CEFEGEN']/Table[@Name='ReferenciaDetalles' and @Schema='dbo']/ForeignKey[@Name='FK_ReferenciaDetalles_Base']"
   },
   "source": [
    "# [FK_ReferenciaDetalles_Base]"
   ]
  },
  {
   "cell_type": "code",
   "execution_count": 0,
   "metadata": {
    "object_type": "ForeignKey",
    "urn": "Server[@Name='Windows10-Pepe']/Database[@Name='CEFEGEN']/Table[@Name='ReferenciaDetalles' and @Schema='dbo']/ForeignKey[@Name='FK_ReferenciaDetalles_Base']"
   },
   "outputs": [],
   "source": [
    "ALTER TABLE [dbo].[ReferenciaDetalles]  WITH NOCHECK ADD  CONSTRAINT [FK_ReferenciaDetalles_Base] FOREIGN KEY([IdReferenciaPaciente])\n",
    "REFERENCES [dbo].[ReferenciasPaciente] ([IdReferenciaPaciente])\n",
    "GO\n",
    "ALTER TABLE [dbo].[ReferenciaDetalles] NOCHECK CONSTRAINT [FK_ReferenciaDetalles_Base]\n",
    "GO\n"
   ]
  },
  {
   "cell_type": "markdown",
   "metadata": {
    "object_type": "ForeignKey",
    "urn": "Server[@Name='Windows10-Pepe']/Database[@Name='CEFEGEN']/Table[@Name='ReferenciaDetalles' and @Schema='dbo']/ForeignKey[@Name='FK_ReferenciaDetalles_Campania']"
   },
   "source": [
    "# [FK_ReferenciaDetalles_Campania]"
   ]
  },
  {
   "cell_type": "code",
   "execution_count": 0,
   "metadata": {
    "object_type": "ForeignKey",
    "urn": "Server[@Name='Windows10-Pepe']/Database[@Name='CEFEGEN']/Table[@Name='ReferenciaDetalles' and @Schema='dbo']/ForeignKey[@Name='FK_ReferenciaDetalles_Campania']"
   },
   "outputs": [],
   "source": [
    "ALTER TABLE [dbo].[ReferenciaDetalles]  WITH NOCHECK ADD  CONSTRAINT [FK_ReferenciaDetalles_Campania] FOREIGN KEY([IdCampaniaMarketing])\n",
    "REFERENCES [dbo].[Campanias] ([IdCampaniaMarketing])\n",
    "GO\n",
    "ALTER TABLE [dbo].[ReferenciaDetalles] NOCHECK CONSTRAINT [FK_ReferenciaDetalles_Campania]\n",
    "GO\n"
   ]
  },
  {
   "cell_type": "markdown",
   "metadata": {
    "object_type": "ForeignKey",
    "urn": "Server[@Name='Windows10-Pepe']/Database[@Name='CEFEGEN']/Table[@Name='ReferenciaDetalles' and @Schema='dbo']/ForeignKey[@Name='FK_ReferenciaDetalles_Lab']"
   },
   "source": [
    "# [FK_ReferenciaDetalles_Lab]"
   ]
  },
  {
   "cell_type": "code",
   "execution_count": 0,
   "metadata": {
    "object_type": "ForeignKey",
    "urn": "Server[@Name='Windows10-Pepe']/Database[@Name='CEFEGEN']/Table[@Name='ReferenciaDetalles' and @Schema='dbo']/ForeignKey[@Name='FK_ReferenciaDetalles_Lab']"
   },
   "outputs": [],
   "source": [
    "ALTER TABLE [dbo].[ReferenciaDetalles]  WITH NOCHECK ADD  CONSTRAINT [FK_ReferenciaDetalles_Lab] FOREIGN KEY([IdLaboratorioColaborador])\n",
    "REFERENCES [dbo].[LaboratoriosColaboradores] ([IdLaboratorioColaborador])\n",
    "GO\n",
    "ALTER TABLE [dbo].[ReferenciaDetalles] NOCHECK CONSTRAINT [FK_ReferenciaDetalles_Lab]\n",
    "GO\n"
   ]
  },
  {
   "cell_type": "markdown",
   "metadata": {
    "object_type": "ForeignKey",
    "urn": "Server[@Name='Windows10-Pepe']/Database[@Name='CEFEGEN']/Table[@Name='ReferenciaDetalles' and @Schema='dbo']/ForeignKey[@Name='FK_ReferenciaDetalles_Medico']"
   },
   "source": [
    "# [FK_ReferenciaDetalles_Medico]"
   ]
  },
  {
   "cell_type": "code",
   "execution_count": 0,
   "metadata": {
    "object_type": "ForeignKey",
    "urn": "Server[@Name='Windows10-Pepe']/Database[@Name='CEFEGEN']/Table[@Name='ReferenciaDetalles' and @Schema='dbo']/ForeignKey[@Name='FK_ReferenciaDetalles_Medico']"
   },
   "outputs": [],
   "source": [
    "ALTER TABLE [dbo].[ReferenciaDetalles]  WITH NOCHECK ADD  CONSTRAINT [FK_ReferenciaDetalles_Medico] FOREIGN KEY([IdMedico])\n",
    "REFERENCES [dbo].[Medicos] ([IdMedico])\n",
    "GO\n",
    "ALTER TABLE [dbo].[ReferenciaDetalles] NOCHECK CONSTRAINT [FK_ReferenciaDetalles_Medico]\n",
    "GO\n"
   ]
  },
  {
   "cell_type": "markdown",
   "metadata": {
    "object_type": "ForeignKey",
    "urn": "Server[@Name='Windows10-Pepe']/Database[@Name='CEFEGEN']/Table[@Name='ReferenciasPaciente' and @Schema='dbo']/ForeignKey[@Name='FK_ReferenciasPaciente_Personal']"
   },
   "source": [
    "# [FK_ReferenciasPaciente_Personal]"
   ]
  },
  {
   "cell_type": "code",
   "execution_count": 0,
   "metadata": {
    "object_type": "ForeignKey",
    "urn": "Server[@Name='Windows10-Pepe']/Database[@Name='CEFEGEN']/Table[@Name='ReferenciasPaciente' and @Schema='dbo']/ForeignKey[@Name='FK_ReferenciasPaciente_Personal']"
   },
   "outputs": [],
   "source": [
    "ALTER TABLE [dbo].[ReferenciasPaciente]  WITH NOCHECK ADD  CONSTRAINT [FK_ReferenciasPaciente_Personal] FOREIGN KEY([IdPersonalRegistro])\n",
    "REFERENCES [dbo].[Personal] ([IdPersonal])\n",
    "GO\n",
    "ALTER TABLE [dbo].[ReferenciasPaciente] NOCHECK CONSTRAINT [FK_ReferenciasPaciente_Personal]\n",
    "GO\n"
   ]
  },
  {
   "cell_type": "markdown",
   "metadata": {
    "object_type": "ForeignKey",
    "urn": "Server[@Name='Windows10-Pepe']/Database[@Name='CEFEGEN']/Table[@Name='ReferenciasPaciente' and @Schema='dbo']/ForeignKey[@Name='FK_ReferenciasPaciente_Solicitantes']"
   },
   "source": [
    "# [FK_ReferenciasPaciente_Solicitantes]"
   ]
  },
  {
   "cell_type": "code",
   "execution_count": 0,
   "metadata": {
    "object_type": "ForeignKey",
    "urn": "Server[@Name='Windows10-Pepe']/Database[@Name='CEFEGEN']/Table[@Name='ReferenciasPaciente' and @Schema='dbo']/ForeignKey[@Name='FK_ReferenciasPaciente_Solicitantes']"
   },
   "outputs": [],
   "source": [
    "ALTER TABLE [dbo].[ReferenciasPaciente]  WITH NOCHECK ADD  CONSTRAINT [FK_ReferenciasPaciente_Solicitantes] FOREIGN KEY([IdSolicitante])\n",
    "REFERENCES [dbo].[Solicitantes] ([IdSolicitante])\n",
    "GO\n",
    "ALTER TABLE [dbo].[ReferenciasPaciente] NOCHECK CONSTRAINT [FK_ReferenciasPaciente_Solicitantes]\n",
    "GO\n"
   ]
  },
  {
   "cell_type": "markdown",
   "metadata": {
    "object_type": "ForeignKey",
    "urn": "Server[@Name='Windows10-Pepe']/Database[@Name='CEFEGEN']/Table[@Name='ReferenciasPaciente' and @Schema='dbo']/ForeignKey[@Name='FK_ReferenciasPaciente_TipoReferencia']"
   },
   "source": [
    "# [FK_ReferenciasPaciente_TipoReferencia]"
   ]
  },
  {
   "cell_type": "code",
   "execution_count": 0,
   "metadata": {
    "object_type": "ForeignKey",
    "urn": "Server[@Name='Windows10-Pepe']/Database[@Name='CEFEGEN']/Table[@Name='ReferenciasPaciente' and @Schema='dbo']/ForeignKey[@Name='FK_ReferenciasPaciente_TipoReferencia']"
   },
   "outputs": [],
   "source": [
    "ALTER TABLE [dbo].[ReferenciasPaciente]  WITH NOCHECK ADD  CONSTRAINT [FK_ReferenciasPaciente_TipoReferencia] FOREIGN KEY([IdTipoReferencia])\n",
    "REFERENCES [dbo].[TiposReferencia] ([IdTipoReferencia])\n",
    "GO\n",
    "ALTER TABLE [dbo].[ReferenciasPaciente] NOCHECK CONSTRAINT [FK_ReferenciasPaciente_TipoReferencia]\n",
    "GO\n"
   ]
  },
  {
   "cell_type": "markdown",
   "metadata": {
    "object_type": "ForeignKey",
    "urn": "Server[@Name='Windows10-Pepe']/Database[@Name='CEFEGEN']/Table[@Name='Remesas' and @Schema='dbo']/ForeignKey[@Name='FK_Remesas_Banco']"
   },
   "source": [
    "# [FK_Remesas_Banco]"
   ]
  },
  {
   "cell_type": "code",
   "execution_count": 0,
   "metadata": {
    "object_type": "ForeignKey",
    "urn": "Server[@Name='Windows10-Pepe']/Database[@Name='CEFEGEN']/Table[@Name='Remesas' and @Schema='dbo']/ForeignKey[@Name='FK_Remesas_Banco']"
   },
   "outputs": [],
   "source": [
    "ALTER TABLE [dbo].[Remesas]  WITH NOCHECK ADD  CONSTRAINT [FK_Remesas_Banco] FOREIGN KEY([IdBanco])\n",
    "REFERENCES [dbo].[Bancos] ([IdBanco])\n",
    "GO\n",
    "ALTER TABLE [dbo].[Remesas] NOCHECK CONSTRAINT [FK_Remesas_Banco]\n",
    "GO\n"
   ]
  },
  {
   "cell_type": "markdown",
   "metadata": {
    "object_type": "ForeignKey",
    "urn": "Server[@Name='Windows10-Pepe']/Database[@Name='CEFEGEN']/Table[@Name='ResultadosAndrologia' and @Schema='dbo']/ForeignKey[@Name='FK__Resultado__IdLin__4D7F7902']"
   },
   "source": [
    "# [FK__Resultado__IdLin__4D7F7902]"
   ]
  },
  {
   "cell_type": "code",
   "execution_count": 0,
   "metadata": {
    "object_type": "ForeignKey",
    "urn": "Server[@Name='Windows10-Pepe']/Database[@Name='CEFEGEN']/Table[@Name='ResultadosAndrologia' and @Schema='dbo']/ForeignKey[@Name='FK__Resultado__IdLin__4D7F7902']"
   },
   "outputs": [],
   "source": [
    "ALTER TABLE [dbo].[ResultadosAndrologia]  WITH NOCHECK ADD FOREIGN KEY([IdLineaPeticion])\n",
    "REFERENCES [dbo].[PeticionesLin] ([IdLineaPeticion])\n",
    "GO\n"
   ]
  },
  {
   "cell_type": "markdown",
   "metadata": {
    "object_type": "ForeignKey",
    "urn": "Server[@Name='Windows10-Pepe']/Database[@Name='CEFEGEN']/Table[@Name='ResultadosAndrologia' and @Schema='dbo']/ForeignKey[@Name='FK_ResultadosAndrologia_Determinacion']"
   },
   "source": [
    "# [FK_ResultadosAndrologia_Determinacion]"
   ]
  },
  {
   "cell_type": "code",
   "execution_count": 0,
   "metadata": {
    "object_type": "ForeignKey",
    "urn": "Server[@Name='Windows10-Pepe']/Database[@Name='CEFEGEN']/Table[@Name='ResultadosAndrologia' and @Schema='dbo']/ForeignKey[@Name='FK_ResultadosAndrologia_Determinacion']"
   },
   "outputs": [],
   "source": [
    "ALTER TABLE [dbo].[ResultadosAndrologia]  WITH NOCHECK ADD  CONSTRAINT [FK_ResultadosAndrologia_Determinacion] FOREIGN KEY([IdDeterminacion])\n",
    "REFERENCES [dbo].[CatalogoDeterminacionesAndrologia] ([IdDeterminacionCatalogo])\n",
    "GO\n",
    "ALTER TABLE [dbo].[ResultadosAndrologia] NOCHECK CONSTRAINT [FK_ResultadosAndrologia_Determinacion]\n",
    "GO\n"
   ]
  },
  {
   "cell_type": "markdown",
   "metadata": {
    "object_type": "ForeignKey",
    "urn": "Server[@Name='Windows10-Pepe']/Database[@Name='CEFEGEN']/Table[@Name='ResultadosAndrologia' and @Schema='dbo']/ForeignKey[@Name='FK_ResultadosAndrologia_Documentos']"
   },
   "source": [
    "# [FK_ResultadosAndrologia_Documentos]"
   ]
  },
  {
   "cell_type": "code",
   "execution_count": 0,
   "metadata": {
    "object_type": "ForeignKey",
    "urn": "Server[@Name='Windows10-Pepe']/Database[@Name='CEFEGEN']/Table[@Name='ResultadosAndrologia' and @Schema='dbo']/ForeignKey[@Name='FK_ResultadosAndrologia_Documentos']"
   },
   "outputs": [],
   "source": [
    "ALTER TABLE [dbo].[ResultadosAndrologia]  WITH NOCHECK ADD  CONSTRAINT [FK_ResultadosAndrologia_Documentos] FOREIGN KEY([IdDocumento])\n",
    "REFERENCES [dbo].[Documentos] ([IdDocumento])\n",
    "GO\n",
    "ALTER TABLE [dbo].[ResultadosAndrologia] NOCHECK CONSTRAINT [FK_ResultadosAndrologia_Documentos]\n",
    "GO\n"
   ]
  },
  {
   "cell_type": "markdown",
   "metadata": {
    "object_type": "ForeignKey",
    "urn": "Server[@Name='Windows10-Pepe']/Database[@Name='CEFEGEN']/Table[@Name='ResultadosAndrologia' and @Schema='dbo']/ForeignKey[@Name='FK_ResultadosAndrologia_Personal']"
   },
   "source": [
    "# [FK_ResultadosAndrologia_Personal]"
   ]
  },
  {
   "cell_type": "code",
   "execution_count": 0,
   "metadata": {
    "object_type": "ForeignKey",
    "urn": "Server[@Name='Windows10-Pepe']/Database[@Name='CEFEGEN']/Table[@Name='ResultadosAndrologia' and @Schema='dbo']/ForeignKey[@Name='FK_ResultadosAndrologia_Personal']"
   },
   "outputs": [],
   "source": [
    "ALTER TABLE [dbo].[ResultadosAndrologia]  WITH NOCHECK ADD  CONSTRAINT [FK_ResultadosAndrologia_Personal] FOREIGN KEY([IdPersonalRegistro])\n",
    "REFERENCES [dbo].[Personal] ([IdPersonal])\n",
    "GO\n",
    "ALTER TABLE [dbo].[ResultadosAndrologia] NOCHECK CONSTRAINT [FK_ResultadosAndrologia_Personal]\n",
    "GO\n"
   ]
  },
  {
   "cell_type": "markdown",
   "metadata": {
    "object_type": "ForeignKey",
    "urn": "Server[@Name='Windows10-Pepe']/Database[@Name='CEFEGEN']/Table[@Name='ResultadosAndrologia' and @Schema='dbo']/ForeignKey[@Name='FK_ResultadosAndrologia_Usuarios_ValidadoPor']"
   },
   "source": [
    "# [FK_ResultadosAndrologia_Usuarios_ValidadoPor]"
   ]
  },
  {
   "cell_type": "code",
   "execution_count": 0,
   "metadata": {
    "object_type": "ForeignKey",
    "urn": "Server[@Name='Windows10-Pepe']/Database[@Name='CEFEGEN']/Table[@Name='ResultadosAndrologia' and @Schema='dbo']/ForeignKey[@Name='FK_ResultadosAndrologia_Usuarios_ValidadoPor']"
   },
   "outputs": [],
   "source": [
    "ALTER TABLE [dbo].[ResultadosAndrologia]  WITH NOCHECK ADD  CONSTRAINT [FK_ResultadosAndrologia_Usuarios_ValidadoPor] FOREIGN KEY([ValidadoPor])\n",
    "REFERENCES [dbo].[Usuarios] ([IdUsuario])\n",
    "GO\n",
    "ALTER TABLE [dbo].[ResultadosAndrologia] NOCHECK CONSTRAINT [FK_ResultadosAndrologia_Usuarios_ValidadoPor]\n",
    "GO\n"
   ]
  },
  {
   "cell_type": "markdown",
   "metadata": {
    "object_type": "ForeignKey",
    "urn": "Server[@Name='Windows10-Pepe']/Database[@Name='CEFEGEN']/Table[@Name='ResultadosCitogenetica' and @Schema='dbo']/ForeignKey[@Name='FK__Resultado__IdLin__4F67C174']"
   },
   "source": [
    "# [FK__Resultado__IdLin__4F67C174]"
   ]
  },
  {
   "cell_type": "code",
   "execution_count": 0,
   "metadata": {
    "object_type": "ForeignKey",
    "urn": "Server[@Name='Windows10-Pepe']/Database[@Name='CEFEGEN']/Table[@Name='ResultadosCitogenetica' and @Schema='dbo']/ForeignKey[@Name='FK__Resultado__IdLin__4F67C174']"
   },
   "outputs": [],
   "source": [
    "ALTER TABLE [dbo].[ResultadosCitogenetica]  WITH NOCHECK ADD FOREIGN KEY([IdLineaPeticion])\n",
    "REFERENCES [dbo].[PeticionesLin] ([IdLineaPeticion])\n",
    "GO\n"
   ]
  },
  {
   "cell_type": "markdown",
   "metadata": {
    "object_type": "ForeignKey",
    "urn": "Server[@Name='Windows10-Pepe']/Database[@Name='CEFEGEN']/Table[@Name='ResultadosCitogenetica' and @Schema='dbo']/ForeignKey[@Name='FK_ResultadosCitogenetica_Documentos']"
   },
   "source": [
    "# [FK_ResultadosCitogenetica_Documentos]"
   ]
  },
  {
   "cell_type": "code",
   "execution_count": 0,
   "metadata": {
    "object_type": "ForeignKey",
    "urn": "Server[@Name='Windows10-Pepe']/Database[@Name='CEFEGEN']/Table[@Name='ResultadosCitogenetica' and @Schema='dbo']/ForeignKey[@Name='FK_ResultadosCitogenetica_Documentos']"
   },
   "outputs": [],
   "source": [
    "ALTER TABLE [dbo].[ResultadosCitogenetica]  WITH NOCHECK ADD  CONSTRAINT [FK_ResultadosCitogenetica_Documentos] FOREIGN KEY([IdDocumento])\n",
    "REFERENCES [dbo].[Documentos] ([IdDocumento])\n",
    "GO\n",
    "ALTER TABLE [dbo].[ResultadosCitogenetica] NOCHECK CONSTRAINT [FK_ResultadosCitogenetica_Documentos]\n",
    "GO\n"
   ]
  },
  {
   "cell_type": "markdown",
   "metadata": {
    "object_type": "ForeignKey",
    "urn": "Server[@Name='Windows10-Pepe']/Database[@Name='CEFEGEN']/Table[@Name='ResultadosCitogenetica' and @Schema='dbo']/ForeignKey[@Name='FK_ResultadosCitogenetica_Personal']"
   },
   "source": [
    "# [FK_ResultadosCitogenetica_Personal]"
   ]
  },
  {
   "cell_type": "code",
   "execution_count": 0,
   "metadata": {
    "object_type": "ForeignKey",
    "urn": "Server[@Name='Windows10-Pepe']/Database[@Name='CEFEGEN']/Table[@Name='ResultadosCitogenetica' and @Schema='dbo']/ForeignKey[@Name='FK_ResultadosCitogenetica_Personal']"
   },
   "outputs": [],
   "source": [
    "ALTER TABLE [dbo].[ResultadosCitogenetica]  WITH NOCHECK ADD  CONSTRAINT [FK_ResultadosCitogenetica_Personal] FOREIGN KEY([IdPersonalRegistro])\n",
    "REFERENCES [dbo].[Personal] ([IdPersonal])\n",
    "GO\n",
    "ALTER TABLE [dbo].[ResultadosCitogenetica] NOCHECK CONSTRAINT [FK_ResultadosCitogenetica_Personal]\n",
    "GO\n"
   ]
  },
  {
   "cell_type": "markdown",
   "metadata": {
    "object_type": "ForeignKey",
    "urn": "Server[@Name='Windows10-Pepe']/Database[@Name='CEFEGEN']/Table[@Name='ResultadosCitogenetica' and @Schema='dbo']/ForeignKey[@Name='FK_ResultadosCitogenetica_Usuarios_ValidadoPor']"
   },
   "source": [
    "# [FK_ResultadosCitogenetica_Usuarios_ValidadoPor]"
   ]
  },
  {
   "cell_type": "code",
   "execution_count": 0,
   "metadata": {
    "object_type": "ForeignKey",
    "urn": "Server[@Name='Windows10-Pepe']/Database[@Name='CEFEGEN']/Table[@Name='ResultadosCitogenetica' and @Schema='dbo']/ForeignKey[@Name='FK_ResultadosCitogenetica_Usuarios_ValidadoPor']"
   },
   "outputs": [],
   "source": [
    "ALTER TABLE [dbo].[ResultadosCitogenetica]  WITH NOCHECK ADD  CONSTRAINT [FK_ResultadosCitogenetica_Usuarios_ValidadoPor] FOREIGN KEY([ValidadoPor])\n",
    "REFERENCES [dbo].[Usuarios] ([IdUsuario])\n",
    "GO\n",
    "ALTER TABLE [dbo].[ResultadosCitogenetica] NOCHECK CONSTRAINT [FK_ResultadosCitogenetica_Usuarios_ValidadoPor]\n",
    "GO\n"
   ]
  },
  {
   "cell_type": "markdown",
   "metadata": {
    "object_type": "ForeignKey",
    "urn": "Server[@Name='Windows10-Pepe']/Database[@Name='CEFEGEN']/Table[@Name='ResultadosGenetica' and @Schema='dbo']/ForeignKey[@Name='FK__Resultado__IdLin__4E739D3B']"
   },
   "source": [
    "# [FK__Resultado__IdLin__4E739D3B]"
   ]
  },
  {
   "cell_type": "code",
   "execution_count": 0,
   "metadata": {
    "object_type": "ForeignKey",
    "urn": "Server[@Name='Windows10-Pepe']/Database[@Name='CEFEGEN']/Table[@Name='ResultadosGenetica' and @Schema='dbo']/ForeignKey[@Name='FK__Resultado__IdLin__4E739D3B']"
   },
   "outputs": [],
   "source": [
    "ALTER TABLE [dbo].[ResultadosGenetica]  WITH NOCHECK ADD FOREIGN KEY([IdLineaPeticion])\n",
    "REFERENCES [dbo].[PeticionesLin] ([IdLineaPeticion])\n",
    "GO\n"
   ]
  },
  {
   "cell_type": "markdown",
   "metadata": {
    "object_type": "ForeignKey",
    "urn": "Server[@Name='Windows10-Pepe']/Database[@Name='CEFEGEN']/Table[@Name='ResultadosGenetica' and @Schema='dbo']/ForeignKey[@Name='FK_ResultadosGenetica_Documentos']"
   },
   "source": [
    "# [FK_ResultadosGenetica_Documentos]"
   ]
  },
  {
   "cell_type": "code",
   "execution_count": 0,
   "metadata": {
    "object_type": "ForeignKey",
    "urn": "Server[@Name='Windows10-Pepe']/Database[@Name='CEFEGEN']/Table[@Name='ResultadosGenetica' and @Schema='dbo']/ForeignKey[@Name='FK_ResultadosGenetica_Documentos']"
   },
   "outputs": [],
   "source": [
    "ALTER TABLE [dbo].[ResultadosGenetica]  WITH NOCHECK ADD  CONSTRAINT [FK_ResultadosGenetica_Documentos] FOREIGN KEY([IdDocumento])\n",
    "REFERENCES [dbo].[Documentos] ([IdDocumento])\n",
    "GO\n",
    "ALTER TABLE [dbo].[ResultadosGenetica] NOCHECK CONSTRAINT [FK_ResultadosGenetica_Documentos]\n",
    "GO\n"
   ]
  },
  {
   "cell_type": "markdown",
   "metadata": {
    "object_type": "ForeignKey",
    "urn": "Server[@Name='Windows10-Pepe']/Database[@Name='CEFEGEN']/Table[@Name='ResultadosGenetica' and @Schema='dbo']/ForeignKey[@Name='FK_ResultadosGenetica_Personal']"
   },
   "source": [
    "# [FK_ResultadosGenetica_Personal]"
   ]
  },
  {
   "cell_type": "code",
   "execution_count": 0,
   "metadata": {
    "object_type": "ForeignKey",
    "urn": "Server[@Name='Windows10-Pepe']/Database[@Name='CEFEGEN']/Table[@Name='ResultadosGenetica' and @Schema='dbo']/ForeignKey[@Name='FK_ResultadosGenetica_Personal']"
   },
   "outputs": [],
   "source": [
    "ALTER TABLE [dbo].[ResultadosGenetica]  WITH NOCHECK ADD  CONSTRAINT [FK_ResultadosGenetica_Personal] FOREIGN KEY([IdPersonalRegistro])\n",
    "REFERENCES [dbo].[Personal] ([IdPersonal])\n",
    "GO\n",
    "ALTER TABLE [dbo].[ResultadosGenetica] NOCHECK CONSTRAINT [FK_ResultadosGenetica_Personal]\n",
    "GO\n"
   ]
  },
  {
   "cell_type": "markdown",
   "metadata": {
    "object_type": "ForeignKey",
    "urn": "Server[@Name='Windows10-Pepe']/Database[@Name='CEFEGEN']/Table[@Name='ResultadosGenetica' and @Schema='dbo']/ForeignKey[@Name='FK_ResultadosGenetica_Usuarios_ValidadoPor']"
   },
   "source": [
    "# [FK_ResultadosGenetica_Usuarios_ValidadoPor]"
   ]
  },
  {
   "cell_type": "code",
   "execution_count": 0,
   "metadata": {
    "object_type": "ForeignKey",
    "urn": "Server[@Name='Windows10-Pepe']/Database[@Name='CEFEGEN']/Table[@Name='ResultadosGenetica' and @Schema='dbo']/ForeignKey[@Name='FK_ResultadosGenetica_Usuarios_ValidadoPor']"
   },
   "outputs": [],
   "source": [
    "ALTER TABLE [dbo].[ResultadosGenetica]  WITH NOCHECK ADD  CONSTRAINT [FK_ResultadosGenetica_Usuarios_ValidadoPor] FOREIGN KEY([ValidadoPor])\n",
    "REFERENCES [dbo].[Usuarios] ([IdUsuario])\n",
    "GO\n",
    "ALTER TABLE [dbo].[ResultadosGenetica] NOCHECK CONSTRAINT [FK_ResultadosGenetica_Usuarios_ValidadoPor]\n",
    "GO\n"
   ]
  },
  {
   "cell_type": "markdown",
   "metadata": {
    "object_type": "ForeignKey",
    "urn": "Server[@Name='Windows10-Pepe']/Database[@Name='CEFEGEN']/Table[@Name='ResultadosParentesco' and @Schema='dbo']/ForeignKey[@Name='FK__Resultado__IdLin__505BE5AD']"
   },
   "source": [
    "# [FK__Resultado__IdLin__505BE5AD]"
   ]
  },
  {
   "cell_type": "code",
   "execution_count": 0,
   "metadata": {
    "object_type": "ForeignKey",
    "urn": "Server[@Name='Windows10-Pepe']/Database[@Name='CEFEGEN']/Table[@Name='ResultadosParentesco' and @Schema='dbo']/ForeignKey[@Name='FK__Resultado__IdLin__505BE5AD']"
   },
   "outputs": [],
   "source": [
    "ALTER TABLE [dbo].[ResultadosParentesco]  WITH NOCHECK ADD FOREIGN KEY([IdLineaPeticion])\n",
    "REFERENCES [dbo].[PeticionesLin] ([IdLineaPeticion])\n",
    "GO\n"
   ]
  },
  {
   "cell_type": "markdown",
   "metadata": {
    "object_type": "ForeignKey",
    "urn": "Server[@Name='Windows10-Pepe']/Database[@Name='CEFEGEN']/Table[@Name='ResultadosParentesco' and @Schema='dbo']/ForeignKey[@Name='FK_ResultadosParentesco_Documentos']"
   },
   "source": [
    "# [FK_ResultadosParentesco_Documentos]"
   ]
  },
  {
   "cell_type": "code",
   "execution_count": 0,
   "metadata": {
    "object_type": "ForeignKey",
    "urn": "Server[@Name='Windows10-Pepe']/Database[@Name='CEFEGEN']/Table[@Name='ResultadosParentesco' and @Schema='dbo']/ForeignKey[@Name='FK_ResultadosParentesco_Documentos']"
   },
   "outputs": [],
   "source": [
    "ALTER TABLE [dbo].[ResultadosParentesco]  WITH NOCHECK ADD  CONSTRAINT [FK_ResultadosParentesco_Documentos] FOREIGN KEY([IdDocumento])\n",
    "REFERENCES [dbo].[Documentos] ([IdDocumento])\n",
    "GO\n",
    "ALTER TABLE [dbo].[ResultadosParentesco] NOCHECK CONSTRAINT [FK_ResultadosParentesco_Documentos]\n",
    "GO\n"
   ]
  },
  {
   "cell_type": "markdown",
   "metadata": {
    "object_type": "ForeignKey",
    "urn": "Server[@Name='Windows10-Pepe']/Database[@Name='CEFEGEN']/Table[@Name='ResultadosParentesco' and @Schema='dbo']/ForeignKey[@Name='FK_ResultadosParentesco_Interviniente']"
   },
   "source": [
    "# [FK_ResultadosParentesco_Interviniente]"
   ]
  },
  {
   "cell_type": "code",
   "execution_count": 0,
   "metadata": {
    "object_type": "ForeignKey",
    "urn": "Server[@Name='Windows10-Pepe']/Database[@Name='CEFEGEN']/Table[@Name='ResultadosParentesco' and @Schema='dbo']/ForeignKey[@Name='FK_ResultadosParentesco_Interviniente']"
   },
   "outputs": [],
   "source": [
    "ALTER TABLE [dbo].[ResultadosParentesco]  WITH NOCHECK ADD  CONSTRAINT [FK_ResultadosParentesco_Interviniente] FOREIGN KEY([IdInterviniente])\n",
    "REFERENCES [dbo].[Intervinientes] ([IdInterviniente])\n",
    "GO\n",
    "ALTER TABLE [dbo].[ResultadosParentesco] NOCHECK CONSTRAINT [FK_ResultadosParentesco_Interviniente]\n",
    "GO\n"
   ]
  },
  {
   "cell_type": "markdown",
   "metadata": {
    "object_type": "ForeignKey",
    "urn": "Server[@Name='Windows10-Pepe']/Database[@Name='CEFEGEN']/Table[@Name='ResultadosParentesco' and @Schema='dbo']/ForeignKey[@Name='FK_ResultadosParentesco_MarcadoresGeneticos']"
   },
   "source": [
    "# [FK_ResultadosParentesco_MarcadoresGeneticos]"
   ]
  },
  {
   "cell_type": "code",
   "execution_count": 0,
   "metadata": {
    "object_type": "ForeignKey",
    "urn": "Server[@Name='Windows10-Pepe']/Database[@Name='CEFEGEN']/Table[@Name='ResultadosParentesco' and @Schema='dbo']/ForeignKey[@Name='FK_ResultadosParentesco_MarcadoresGeneticos']"
   },
   "outputs": [],
   "source": [
    "ALTER TABLE [dbo].[ResultadosParentesco]  WITH NOCHECK ADD  CONSTRAINT [FK_ResultadosParentesco_MarcadoresGeneticos] FOREIGN KEY([IdMarcador])\n",
    "REFERENCES [dbo].[MarcadoresGeneticos] ([IdMarcador])\n",
    "GO\n",
    "ALTER TABLE [dbo].[ResultadosParentesco] NOCHECK CONSTRAINT [FK_ResultadosParentesco_MarcadoresGeneticos]\n",
    "GO\n"
   ]
  },
  {
   "cell_type": "markdown",
   "metadata": {
    "object_type": "ForeignKey",
    "urn": "Server[@Name='Windows10-Pepe']/Database[@Name='CEFEGEN']/Table[@Name='ResultadosParentesco' and @Schema='dbo']/ForeignKey[@Name='FK_ResultadosParentesco_Personal']"
   },
   "source": [
    "# [FK_ResultadosParentesco_Personal]"
   ]
  },
  {
   "cell_type": "code",
   "execution_count": 0,
   "metadata": {
    "object_type": "ForeignKey",
    "urn": "Server[@Name='Windows10-Pepe']/Database[@Name='CEFEGEN']/Table[@Name='ResultadosParentesco' and @Schema='dbo']/ForeignKey[@Name='FK_ResultadosParentesco_Personal']"
   },
   "outputs": [],
   "source": [
    "ALTER TABLE [dbo].[ResultadosParentesco]  WITH NOCHECK ADD  CONSTRAINT [FK_ResultadosParentesco_Personal] FOREIGN KEY([IdPersonalRegistro])\n",
    "REFERENCES [dbo].[Personal] ([IdPersonal])\n",
    "GO\n",
    "ALTER TABLE [dbo].[ResultadosParentesco] NOCHECK CONSTRAINT [FK_ResultadosParentesco_Personal]\n",
    "GO\n"
   ]
  },
  {
   "cell_type": "markdown",
   "metadata": {
    "object_type": "ForeignKey",
    "urn": "Server[@Name='Windows10-Pepe']/Database[@Name='CEFEGEN']/Table[@Name='ResultadosParentesco' and @Schema='dbo']/ForeignKey[@Name='FK_ResultadosParentesco_Usuarios_ValidadoPor']"
   },
   "source": [
    "# [FK_ResultadosParentesco_Usuarios_ValidadoPor]"
   ]
  },
  {
   "cell_type": "code",
   "execution_count": 0,
   "metadata": {
    "object_type": "ForeignKey",
    "urn": "Server[@Name='Windows10-Pepe']/Database[@Name='CEFEGEN']/Table[@Name='ResultadosParentesco' and @Schema='dbo']/ForeignKey[@Name='FK_ResultadosParentesco_Usuarios_ValidadoPor']"
   },
   "outputs": [],
   "source": [
    "ALTER TABLE [dbo].[ResultadosParentesco]  WITH NOCHECK ADD  CONSTRAINT [FK_ResultadosParentesco_Usuarios_ValidadoPor] FOREIGN KEY([ValidadoPor])\n",
    "REFERENCES [dbo].[Usuarios] ([IdUsuario])\n",
    "GO\n",
    "ALTER TABLE [dbo].[ResultadosParentesco] NOCHECK CONSTRAINT [FK_ResultadosParentesco_Usuarios_ValidadoPor]\n",
    "GO\n"
   ]
  },
  {
   "cell_type": "markdown",
   "metadata": {
    "object_type": "ForeignKey",
    "urn": "Server[@Name='Windows10-Pepe']/Database[@Name='CEFEGEN']/Table[@Name='ResultadosPrueba' and @Schema='dbo']/ForeignKey[@Name='FK__Resultado__IdLin__515009E6']"
   },
   "source": [
    "# [FK__Resultado__IdLin__515009E6]"
   ]
  },
  {
   "cell_type": "code",
   "execution_count": 0,
   "metadata": {
    "object_type": "ForeignKey",
    "urn": "Server[@Name='Windows10-Pepe']/Database[@Name='CEFEGEN']/Table[@Name='ResultadosPrueba' and @Schema='dbo']/ForeignKey[@Name='FK__Resultado__IdLin__515009E6']"
   },
   "outputs": [],
   "source": [
    "ALTER TABLE [dbo].[ResultadosPrueba]  WITH NOCHECK ADD FOREIGN KEY([IdLineaPeticion])\n",
    "REFERENCES [dbo].[PeticionesLin] ([IdLineaPeticion])\n",
    "GO\n"
   ]
  },
  {
   "cell_type": "markdown",
   "metadata": {
    "object_type": "ForeignKey",
    "urn": "Server[@Name='Windows10-Pepe']/Database[@Name='CEFEGEN']/Table[@Name='Solicitantes' and @Schema='dbo']/ForeignKey[@Name='FK_Pacientes_FormaPago']"
   },
   "source": [
    "# [FK_Pacientes_FormaPago]"
   ]
  },
  {
   "cell_type": "code",
   "execution_count": 0,
   "metadata": {
    "object_type": "ForeignKey",
    "urn": "Server[@Name='Windows10-Pepe']/Database[@Name='CEFEGEN']/Table[@Name='Solicitantes' and @Schema='dbo']/ForeignKey[@Name='FK_Pacientes_FormaPago']"
   },
   "outputs": [],
   "source": [
    "ALTER TABLE [dbo].[Solicitantes]  WITH NOCHECK ADD  CONSTRAINT [FK_Pacientes_FormaPago] FOREIGN KEY([IdFormaPago])\n",
    "REFERENCES [dbo].[FormasPago] ([IdFormaPago])\n",
    "GO\n",
    "ALTER TABLE [dbo].[Solicitantes] NOCHECK CONSTRAINT [FK_Pacientes_FormaPago]\n",
    "GO\n"
   ]
  },
  {
   "cell_type": "markdown",
   "metadata": {
    "object_type": "ForeignKey",
    "urn": "Server[@Name='Windows10-Pepe']/Database[@Name='CEFEGEN']/Table[@Name='Solicitantes' and @Schema='dbo']/ForeignKey[@Name='FK_Pacientes_Laboratorio']"
   },
   "source": [
    "# [FK_Pacientes_Laboratorio]"
   ]
  },
  {
   "cell_type": "code",
   "execution_count": 0,
   "metadata": {
    "object_type": "ForeignKey",
    "urn": "Server[@Name='Windows10-Pepe']/Database[@Name='CEFEGEN']/Table[@Name='Solicitantes' and @Schema='dbo']/ForeignKey[@Name='FK_Pacientes_Laboratorio']"
   },
   "outputs": [],
   "source": [
    "ALTER TABLE [dbo].[Solicitantes]  WITH NOCHECK ADD  CONSTRAINT [FK_Pacientes_Laboratorio] FOREIGN KEY([IdLaboratorioColaborador])\n",
    "REFERENCES [dbo].[LaboratoriosColaboradores] ([IdLaboratorioColaborador])\n",
    "GO\n",
    "ALTER TABLE [dbo].[Solicitantes] NOCHECK CONSTRAINT [FK_Pacientes_Laboratorio]\n",
    "GO\n"
   ]
  },
  {
   "cell_type": "markdown",
   "metadata": {
    "object_type": "ForeignKey",
    "urn": "Server[@Name='Windows10-Pepe']/Database[@Name='CEFEGEN']/Table[@Name='Solicitantes' and @Schema='dbo']/ForeignKey[@Name='FK_Pacientes_Medico']"
   },
   "source": [
    "# [FK_Pacientes_Medico]"
   ]
  },
  {
   "cell_type": "code",
   "execution_count": 0,
   "metadata": {
    "object_type": "ForeignKey",
    "urn": "Server[@Name='Windows10-Pepe']/Database[@Name='CEFEGEN']/Table[@Name='Solicitantes' and @Schema='dbo']/ForeignKey[@Name='FK_Pacientes_Medico']"
   },
   "outputs": [],
   "source": [
    "ALTER TABLE [dbo].[Solicitantes]  WITH NOCHECK ADD  CONSTRAINT [FK_Pacientes_Medico] FOREIGN KEY([IdMedico])\n",
    "REFERENCES [dbo].[Medicos] ([IdMedico])\n",
    "GO\n",
    "ALTER TABLE [dbo].[Solicitantes] NOCHECK CONSTRAINT [FK_Pacientes_Medico]\n",
    "GO\n"
   ]
  },
  {
   "cell_type": "markdown",
   "metadata": {
    "object_type": "ForeignKey",
    "urn": "Server[@Name='Windows10-Pepe']/Database[@Name='CEFEGEN']/Table[@Name='Solicitantes' and @Schema='dbo']/ForeignKey[@Name='FK_Pacientes_Tarifa']"
   },
   "source": [
    "# [FK_Pacientes_Tarifa]"
   ]
  },
  {
   "cell_type": "code",
   "execution_count": 0,
   "metadata": {
    "object_type": "ForeignKey",
    "urn": "Server[@Name='Windows10-Pepe']/Database[@Name='CEFEGEN']/Table[@Name='Solicitantes' and @Schema='dbo']/ForeignKey[@Name='FK_Pacientes_Tarifa']"
   },
   "outputs": [],
   "source": [
    "ALTER TABLE [dbo].[Solicitantes]  WITH NOCHECK ADD  CONSTRAINT [FK_Pacientes_Tarifa] FOREIGN KEY([IdTarifa])\n",
    "REFERENCES [dbo].[Tarifas] ([IdTarifa])\n",
    "GO\n",
    "ALTER TABLE [dbo].[Solicitantes] NOCHECK CONSTRAINT [FK_Pacientes_Tarifa]\n",
    "GO\n"
   ]
  },
  {
   "cell_type": "markdown",
   "metadata": {
    "object_type": "ForeignKey",
    "urn": "Server[@Name='Windows10-Pepe']/Database[@Name='CEFEGEN']/Table[@Name='Solicitantes' and @Schema='dbo']/ForeignKey[@Name='FK_Pacientes_TipoReferencia']"
   },
   "source": [
    "# [FK_Pacientes_TipoReferencia]"
   ]
  },
  {
   "cell_type": "code",
   "execution_count": 0,
   "metadata": {
    "object_type": "ForeignKey",
    "urn": "Server[@Name='Windows10-Pepe']/Database[@Name='CEFEGEN']/Table[@Name='Solicitantes' and @Schema='dbo']/ForeignKey[@Name='FK_Pacientes_TipoReferencia']"
   },
   "outputs": [],
   "source": [
    "ALTER TABLE [dbo].[Solicitantes]  WITH NOCHECK ADD  CONSTRAINT [FK_Pacientes_TipoReferencia] FOREIGN KEY([IdTipoReferencia])\n",
    "REFERENCES [dbo].[TiposReferencia] ([IdTipoReferencia])\n",
    "GO\n",
    "ALTER TABLE [dbo].[Solicitantes] NOCHECK CONSTRAINT [FK_Pacientes_TipoReferencia]\n",
    "GO\n"
   ]
  },
  {
   "cell_type": "markdown",
   "metadata": {
    "object_type": "ForeignKey",
    "urn": "Server[@Name='Windows10-Pepe']/Database[@Name='CEFEGEN']/Table[@Name='Solicitantes' and @Schema='dbo']/ForeignKey[@Name='FK_Solicitantes_Direcciones']"
   },
   "source": [
    "# [FK_Solicitantes_Direcciones]"
   ]
  },
  {
   "cell_type": "code",
   "execution_count": 0,
   "metadata": {
    "object_type": "ForeignKey",
    "urn": "Server[@Name='Windows10-Pepe']/Database[@Name='CEFEGEN']/Table[@Name='Solicitantes' and @Schema='dbo']/ForeignKey[@Name='FK_Solicitantes_Direcciones']"
   },
   "outputs": [],
   "source": [
    "ALTER TABLE [dbo].[Solicitantes]  WITH CHECK ADD  CONSTRAINT [FK_Solicitantes_Direcciones] FOREIGN KEY([IdDireccion])\n",
    "REFERENCES [dbo].[Direcciones] ([IdDireccion])\n",
    "GO\n",
    "ALTER TABLE [dbo].[Solicitantes] CHECK CONSTRAINT [FK_Solicitantes_Direcciones]\n",
    "GO\n"
   ]
  },
  {
   "cell_type": "markdown",
   "metadata": {
    "object_type": "ForeignKey",
    "urn": "Server[@Name='Windows10-Pepe']/Database[@Name='CEFEGEN']/Table[@Name='Solicitantes' and @Schema='dbo']/ForeignKey[@Name='FK_Solicitantes_Idiomas']"
   },
   "source": [
    "# [FK_Solicitantes_Idiomas]"
   ]
  },
  {
   "cell_type": "code",
   "execution_count": 0,
   "metadata": {
    "object_type": "ForeignKey",
    "urn": "Server[@Name='Windows10-Pepe']/Database[@Name='CEFEGEN']/Table[@Name='Solicitantes' and @Schema='dbo']/ForeignKey[@Name='FK_Solicitantes_Idiomas']"
   },
   "outputs": [],
   "source": [
    "ALTER TABLE [dbo].[Solicitantes]  WITH NOCHECK ADD  CONSTRAINT [FK_Solicitantes_Idiomas] FOREIGN KEY([IdIdiomaPreferido])\n",
    "REFERENCES [dbo].[Idiomas] ([IdIdioma])\n",
    "GO\n",
    "ALTER TABLE [dbo].[Solicitantes] NOCHECK CONSTRAINT [FK_Solicitantes_Idiomas]\n",
    "GO\n"
   ]
  },
  {
   "cell_type": "markdown",
   "metadata": {
    "object_type": "ForeignKey",
    "urn": "Server[@Name='Windows10-Pepe']/Database[@Name='CEFEGEN']/Table[@Name='Solicitantes' and @Schema='dbo']/ForeignKey[@Name='FK_Solicitantes_TiposDocumentos']"
   },
   "source": [
    "# [FK_Solicitantes_TiposDocumentos]"
   ]
  },
  {
   "cell_type": "code",
   "execution_count": 0,
   "metadata": {
    "object_type": "ForeignKey",
    "urn": "Server[@Name='Windows10-Pepe']/Database[@Name='CEFEGEN']/Table[@Name='Solicitantes' and @Schema='dbo']/ForeignKey[@Name='FK_Solicitantes_TiposDocumentos']"
   },
   "outputs": [],
   "source": [
    "ALTER TABLE [dbo].[Solicitantes]  WITH NOCHECK ADD  CONSTRAINT [FK_Solicitantes_TiposDocumentos] FOREIGN KEY([IdTipoDocumento])\n",
    "REFERENCES [dbo].[TiposDocumentos] ([IdTipoDocumento])\n",
    "GO\n",
    "ALTER TABLE [dbo].[Solicitantes] NOCHECK CONSTRAINT [FK_Solicitantes_TiposDocumentos]\n",
    "GO\n"
   ]
  },
  {
   "cell_type": "markdown",
   "metadata": {
    "object_type": "ForeignKey",
    "urn": "Server[@Name='Windows10-Pepe']/Database[@Name='CEFEGEN']/Table[@Name='Solicitudes' and @Schema='dbo']/ForeignKey[@Name='FK_Solicitudes_Estados']"
   },
   "source": [
    "# [FK_Solicitudes_Estados]"
   ]
  },
  {
   "cell_type": "code",
   "execution_count": 0,
   "metadata": {
    "object_type": "ForeignKey",
    "urn": "Server[@Name='Windows10-Pepe']/Database[@Name='CEFEGEN']/Table[@Name='Solicitudes' and @Schema='dbo']/ForeignKey[@Name='FK_Solicitudes_Estados']"
   },
   "outputs": [],
   "source": [
    "ALTER TABLE [dbo].[Solicitudes]  WITH NOCHECK ADD  CONSTRAINT [FK_Solicitudes_Estados] FOREIGN KEY([IdEstado])\n",
    "REFERENCES [dbo].[Estados] ([IdEstado])\n",
    "GO\n",
    "ALTER TABLE [dbo].[Solicitudes] NOCHECK CONSTRAINT [FK_Solicitudes_Estados]\n",
    "GO\n"
   ]
  },
  {
   "cell_type": "markdown",
   "metadata": {
    "object_type": "ForeignKey",
    "urn": "Server[@Name='Windows10-Pepe']/Database[@Name='CEFEGEN']/Table[@Name='Solicitudes' and @Schema='dbo']/ForeignKey[@Name='FK_Solicitudes_FormaPago']"
   },
   "source": [
    "# [FK_Solicitudes_FormaPago]"
   ]
  },
  {
   "cell_type": "code",
   "execution_count": 0,
   "metadata": {
    "object_type": "ForeignKey",
    "urn": "Server[@Name='Windows10-Pepe']/Database[@Name='CEFEGEN']/Table[@Name='Solicitudes' and @Schema='dbo']/ForeignKey[@Name='FK_Solicitudes_FormaPago']"
   },
   "outputs": [],
   "source": [
    "ALTER TABLE [dbo].[Solicitudes]  WITH NOCHECK ADD  CONSTRAINT [FK_Solicitudes_FormaPago] FOREIGN KEY([IdFormaPago])\n",
    "REFERENCES [dbo].[FormasPago] ([IdFormaPago])\n",
    "GO\n",
    "ALTER TABLE [dbo].[Solicitudes] NOCHECK CONSTRAINT [FK_Solicitudes_FormaPago]\n",
    "GO\n"
   ]
  },
  {
   "cell_type": "markdown",
   "metadata": {
    "object_type": "ForeignKey",
    "urn": "Server[@Name='Windows10-Pepe']/Database[@Name='CEFEGEN']/Table[@Name='Solicitudes' and @Schema='dbo']/ForeignKey[@Name='FK_Solicitudes_FormasEntrega']"
   },
   "source": [
    "# [FK_Solicitudes_FormasEntrega]"
   ]
  },
  {
   "cell_type": "code",
   "execution_count": 0,
   "metadata": {
    "object_type": "ForeignKey",
    "urn": "Server[@Name='Windows10-Pepe']/Database[@Name='CEFEGEN']/Table[@Name='Solicitudes' and @Schema='dbo']/ForeignKey[@Name='FK_Solicitudes_FormasEntrega']"
   },
   "outputs": [],
   "source": [
    "ALTER TABLE [dbo].[Solicitudes]  WITH NOCHECK ADD  CONSTRAINT [FK_Solicitudes_FormasEntrega] FOREIGN KEY([IdFormaEntrega])\n",
    "REFERENCES [dbo].[FormasEntrega] ([IdFormaEntrega])\n",
    "GO\n",
    "ALTER TABLE [dbo].[Solicitudes] NOCHECK CONSTRAINT [FK_Solicitudes_FormasEntrega]\n",
    "GO\n"
   ]
  },
  {
   "cell_type": "markdown",
   "metadata": {
    "object_type": "ForeignKey",
    "urn": "Server[@Name='Windows10-Pepe']/Database[@Name='CEFEGEN']/Table[@Name='Solicitudes' and @Schema='dbo']/ForeignKey[@Name='FK_Solicitudes_PlazosEntrega']"
   },
   "source": [
    "# [FK_Solicitudes_PlazosEntrega]"
   ]
  },
  {
   "cell_type": "code",
   "execution_count": 0,
   "metadata": {
    "object_type": "ForeignKey",
    "urn": "Server[@Name='Windows10-Pepe']/Database[@Name='CEFEGEN']/Table[@Name='Solicitudes' and @Schema='dbo']/ForeignKey[@Name='FK_Solicitudes_PlazosEntrega']"
   },
   "outputs": [],
   "source": [
    "ALTER TABLE [dbo].[Solicitudes]  WITH NOCHECK ADD  CONSTRAINT [FK_Solicitudes_PlazosEntrega] FOREIGN KEY([IdPlazoEntrega])\n",
    "REFERENCES [dbo].[PlazosEntrega] ([IdPlazoEntrega])\n",
    "GO\n",
    "ALTER TABLE [dbo].[Solicitudes] NOCHECK CONSTRAINT [FK_Solicitudes_PlazosEntrega]\n",
    "GO\n"
   ]
  },
  {
   "cell_type": "markdown",
   "metadata": {
    "object_type": "ForeignKey",
    "urn": "Server[@Name='Windows10-Pepe']/Database[@Name='CEFEGEN']/Table[@Name='Solicitudes' and @Schema='dbo']/ForeignKey[@Name='FK_Solicitudes_Solicitantes']"
   },
   "source": [
    "# [FK_Solicitudes_Solicitantes]"
   ]
  },
  {
   "cell_type": "code",
   "execution_count": 0,
   "metadata": {
    "object_type": "ForeignKey",
    "urn": "Server[@Name='Windows10-Pepe']/Database[@Name='CEFEGEN']/Table[@Name='Solicitudes' and @Schema='dbo']/ForeignKey[@Name='FK_Solicitudes_Solicitantes']"
   },
   "outputs": [],
   "source": [
    "ALTER TABLE [dbo].[Solicitudes]  WITH NOCHECK ADD  CONSTRAINT [FK_Solicitudes_Solicitantes] FOREIGN KEY([IdSolicitante])\n",
    "REFERENCES [dbo].[Solicitantes] ([IdSolicitante])\n",
    "GO\n",
    "ALTER TABLE [dbo].[Solicitudes] NOCHECK CONSTRAINT [FK_Solicitudes_Solicitantes]\n",
    "GO\n"
   ]
  },
  {
   "cell_type": "markdown",
   "metadata": {
    "object_type": "ForeignKey",
    "urn": "Server[@Name='Windows10-Pepe']/Database[@Name='CEFEGEN']/Table[@Name='Solicitudes' and @Schema='dbo']/ForeignKey[@Name='FK_Solicitudes_TipoMuestra']"
   },
   "source": [
    "# [FK_Solicitudes_TipoMuestra]"
   ]
  },
  {
   "cell_type": "code",
   "execution_count": 0,
   "metadata": {
    "object_type": "ForeignKey",
    "urn": "Server[@Name='Windows10-Pepe']/Database[@Name='CEFEGEN']/Table[@Name='Solicitudes' and @Schema='dbo']/ForeignKey[@Name='FK_Solicitudes_TipoMuestra']"
   },
   "outputs": [],
   "source": [
    "ALTER TABLE [dbo].[Solicitudes]  WITH NOCHECK ADD  CONSTRAINT [FK_Solicitudes_TipoMuestra] FOREIGN KEY([IdTipoMuestra])\n",
    "REFERENCES [dbo].[TiposMuestra] ([IdTipoMuestra])\n",
    "GO\n",
    "ALTER TABLE [dbo].[Solicitudes] NOCHECK CONSTRAINT [FK_Solicitudes_TipoMuestra]\n",
    "GO\n"
   ]
  },
  {
   "cell_type": "markdown",
   "metadata": {
    "object_type": "ForeignKey",
    "urn": "Server[@Name='Windows10-Pepe']/Database[@Name='CEFEGEN']/Table[@Name='Solicitudes' and @Schema='dbo']/ForeignKey[@Name='FK_Solicitudes_TipoPruebaConsumo']"
   },
   "source": [
    "# [FK_Solicitudes_TipoPruebaConsumo]"
   ]
  },
  {
   "cell_type": "code",
   "execution_count": 0,
   "metadata": {
    "object_type": "ForeignKey",
    "urn": "Server[@Name='Windows10-Pepe']/Database[@Name='CEFEGEN']/Table[@Name='Solicitudes' and @Schema='dbo']/ForeignKey[@Name='FK_Solicitudes_TipoPruebaConsumo']"
   },
   "outputs": [],
   "source": [
    "ALTER TABLE [dbo].[Solicitudes]  WITH NOCHECK ADD  CONSTRAINT [FK_Solicitudes_TipoPruebaConsumo] FOREIGN KEY([IdTipoPruebaConsumo])\n",
    "REFERENCES [dbo].[TiposPruebasConsumo] ([IdTipoPruebaConsumo])\n",
    "GO\n",
    "ALTER TABLE [dbo].[Solicitudes] NOCHECK CONSTRAINT [FK_Solicitudes_TipoPruebaConsumo]\n",
    "GO\n"
   ]
  },
  {
   "cell_type": "markdown",
   "metadata": {
    "object_type": "ForeignKey",
    "urn": "Server[@Name='Windows10-Pepe']/Database[@Name='CEFEGEN']/Table[@Name='SolicitudesSolicitantes' and @Schema='dbo']/ForeignKey[@Name='FK_SolicitudesSolicitantes_Solicitantes']"
   },
   "source": [
    "# [FK_SolicitudesSolicitantes_Solicitantes]"
   ]
  },
  {
   "cell_type": "code",
   "execution_count": 0,
   "metadata": {
    "object_type": "ForeignKey",
    "urn": "Server[@Name='Windows10-Pepe']/Database[@Name='CEFEGEN']/Table[@Name='SolicitudesSolicitantes' and @Schema='dbo']/ForeignKey[@Name='FK_SolicitudesSolicitantes_Solicitantes']"
   },
   "outputs": [],
   "source": [
    "ALTER TABLE [dbo].[SolicitudesSolicitantes]  WITH NOCHECK ADD  CONSTRAINT [FK_SolicitudesSolicitantes_Solicitantes] FOREIGN KEY([IdSolicitante])\n",
    "REFERENCES [dbo].[Solicitantes] ([IdSolicitante])\n",
    "GO\n",
    "ALTER TABLE [dbo].[SolicitudesSolicitantes] NOCHECK CONSTRAINT [FK_SolicitudesSolicitantes_Solicitantes]\n",
    "GO\n"
   ]
  },
  {
   "cell_type": "markdown",
   "metadata": {
    "object_type": "ForeignKey",
    "urn": "Server[@Name='Windows10-Pepe']/Database[@Name='CEFEGEN']/Table[@Name='SolicitudesSolicitantes' and @Schema='dbo']/ForeignKey[@Name='FK_SolicitudesSolicitantes_Solicitudes']"
   },
   "source": [
    "# [FK_SolicitudesSolicitantes_Solicitudes]"
   ]
  },
  {
   "cell_type": "code",
   "execution_count": 0,
   "metadata": {
    "object_type": "ForeignKey",
    "urn": "Server[@Name='Windows10-Pepe']/Database[@Name='CEFEGEN']/Table[@Name='SolicitudesSolicitantes' and @Schema='dbo']/ForeignKey[@Name='FK_SolicitudesSolicitantes_Solicitudes']"
   },
   "outputs": [],
   "source": [
    "ALTER TABLE [dbo].[SolicitudesSolicitantes]  WITH NOCHECK ADD  CONSTRAINT [FK_SolicitudesSolicitantes_Solicitudes] FOREIGN KEY([IdSolicitud])\n",
    "REFERENCES [dbo].[Solicitudes] ([IdSolicitud])\n",
    "GO\n",
    "ALTER TABLE [dbo].[SolicitudesSolicitantes] NOCHECK CONSTRAINT [FK_SolicitudesSolicitantes_Solicitudes]\n",
    "GO\n"
   ]
  },
  {
   "cell_type": "markdown",
   "metadata": {
    "object_type": "ForeignKey",
    "urn": "Server[@Name='Windows10-Pepe']/Database[@Name='CEFEGEN']/Table[@Name='TiposPruebasConsumo' and @Schema='dbo']/ForeignKey[@Name='FK_TipoConsumo_TipoPrueba']"
   },
   "source": [
    "# [FK_TipoConsumo_TipoPrueba]"
   ]
  },
  {
   "cell_type": "code",
   "execution_count": 0,
   "metadata": {
    "object_type": "ForeignKey",
    "urn": "Server[@Name='Windows10-Pepe']/Database[@Name='CEFEGEN']/Table[@Name='TiposPruebasConsumo' and @Schema='dbo']/ForeignKey[@Name='FK_TipoConsumo_TipoPrueba']"
   },
   "outputs": [],
   "source": [
    "ALTER TABLE [dbo].[TiposPruebasConsumo]  WITH NOCHECK ADD  CONSTRAINT [FK_TipoConsumo_TipoPrueba] FOREIGN KEY([IDTipoPrueba])\n",
    "REFERENCES [dbo].[TiposPrueba] ([IdTipoPrueba])\n",
    "GO\n",
    "ALTER TABLE [dbo].[TiposPruebasConsumo] NOCHECK CONSTRAINT [FK_TipoConsumo_TipoPrueba]\n",
    "GO\n"
   ]
  },
  {
   "cell_type": "markdown",
   "metadata": {
    "object_type": "ForeignKey",
    "urn": "Server[@Name='Windows10-Pepe']/Database[@Name='CEFEGEN']/Table[@Name='TiposPruebasConsumo' and @Schema='dbo']/ForeignKey[@Name='FK_TiposPruebasConsumo_DudaParienteCercano']"
   },
   "source": [
    "# [FK_TiposPruebasConsumo_DudaParienteCercano]"
   ]
  },
  {
   "cell_type": "code",
   "execution_count": 0,
   "metadata": {
    "object_type": "ForeignKey",
    "urn": "Server[@Name='Windows10-Pepe']/Database[@Name='CEFEGEN']/Table[@Name='TiposPruebasConsumo' and @Schema='dbo']/ForeignKey[@Name='FK_TiposPruebasConsumo_DudaParienteCercano']"
   },
   "outputs": [],
   "source": [
    "ALTER TABLE [dbo].[TiposPruebasConsumo]  WITH NOCHECK ADD  CONSTRAINT [FK_TiposPruebasConsumo_DudaParienteCercano] FOREIGN KEY([IdDudaParienteCercano])\n",
    "REFERENCES [dbo].[DudaParienteCercano] ([IdDudaParienteCercano])\n",
    "GO\n",
    "ALTER TABLE [dbo].[TiposPruebasConsumo] NOCHECK CONSTRAINT [FK_TiposPruebasConsumo_DudaParienteCercano]\n",
    "GO\n"
   ]
  },
  {
   "cell_type": "markdown",
   "metadata": {
    "object_type": "ForeignKey",
    "urn": "Server[@Name='Windows10-Pepe']/Database[@Name='CEFEGEN']/Table[@Name='TomasMuestra' and @Schema='dbo']/ForeignKey[@Name='FK_TomasMuestra_Interviniente']"
   },
   "source": [
    "# [FK_TomasMuestra_Interviniente]"
   ]
  },
  {
   "cell_type": "code",
   "execution_count": 0,
   "metadata": {
    "object_type": "ForeignKey",
    "urn": "Server[@Name='Windows10-Pepe']/Database[@Name='CEFEGEN']/Table[@Name='TomasMuestra' and @Schema='dbo']/ForeignKey[@Name='FK_TomasMuestra_Interviniente']"
   },
   "outputs": [],
   "source": [
    "ALTER TABLE [dbo].[TomasMuestra]  WITH NOCHECK ADD  CONSTRAINT [FK_TomasMuestra_Interviniente] FOREIGN KEY([IdInterviniente])\n",
    "REFERENCES [dbo].[Intervinientes] ([IdInterviniente])\n",
    "GO\n",
    "ALTER TABLE [dbo].[TomasMuestra] NOCHECK CONSTRAINT [FK_TomasMuestra_Interviniente]\n",
    "GO\n"
   ]
  },
  {
   "cell_type": "markdown",
   "metadata": {
    "object_type": "ForeignKey",
    "urn": "Server[@Name='Windows10-Pepe']/Database[@Name='CEFEGEN']/Table[@Name='TomasMuestra' and @Schema='dbo']/ForeignKey[@Name='FK_TomasMuestra_LaboratorioColaborador']"
   },
   "source": [
    "# [FK_TomasMuestra_LaboratorioColaborador]"
   ]
  },
  {
   "cell_type": "code",
   "execution_count": 0,
   "metadata": {
    "object_type": "ForeignKey",
    "urn": "Server[@Name='Windows10-Pepe']/Database[@Name='CEFEGEN']/Table[@Name='TomasMuestra' and @Schema='dbo']/ForeignKey[@Name='FK_TomasMuestra_LaboratorioColaborador']"
   },
   "outputs": [],
   "source": [
    "ALTER TABLE [dbo].[TomasMuestra]  WITH NOCHECK ADD  CONSTRAINT [FK_TomasMuestra_LaboratorioColaborador] FOREIGN KEY([IdLugarToma])\n",
    "REFERENCES [dbo].[LaboratoriosColaboradores] ([IdLaboratorioColaborador])\n",
    "GO\n",
    "ALTER TABLE [dbo].[TomasMuestra] NOCHECK CONSTRAINT [FK_TomasMuestra_LaboratorioColaborador]\n",
    "GO\n"
   ]
  },
  {
   "cell_type": "markdown",
   "metadata": {
    "object_type": "ForeignKey",
    "urn": "Server[@Name='Windows10-Pepe']/Database[@Name='CEFEGEN']/Table[@Name='TomasMuestra' and @Schema='dbo']/ForeignKey[@Name='FK_TomasMuestra_Muestra']"
   },
   "source": [
    "# [FK_TomasMuestra_Muestra]"
   ]
  },
  {
   "cell_type": "code",
   "execution_count": 0,
   "metadata": {
    "object_type": "ForeignKey",
    "urn": "Server[@Name='Windows10-Pepe']/Database[@Name='CEFEGEN']/Table[@Name='TomasMuestra' and @Schema='dbo']/ForeignKey[@Name='FK_TomasMuestra_Muestra']"
   },
   "outputs": [],
   "source": [
    "ALTER TABLE [dbo].[TomasMuestra]  WITH NOCHECK ADD  CONSTRAINT [FK_TomasMuestra_Muestra] FOREIGN KEY([IdMuestra])\n",
    "REFERENCES [dbo].[Muestras] ([IdMuestra])\n",
    "GO\n",
    "ALTER TABLE [dbo].[TomasMuestra] NOCHECK CONSTRAINT [FK_TomasMuestra_Muestra]\n",
    "GO\n"
   ]
  },
  {
   "cell_type": "markdown",
   "metadata": {
    "object_type": "ForeignKey",
    "urn": "Server[@Name='Windows10-Pepe']/Database[@Name='CEFEGEN']/Table[@Name='TomasMuestra' and @Schema='dbo']/ForeignKey[@Name='FK_TomasMuestra_Personal']"
   },
   "source": [
    "# [FK_TomasMuestra_Personal]"
   ]
  },
  {
   "cell_type": "code",
   "execution_count": 0,
   "metadata": {
    "object_type": "ForeignKey",
    "urn": "Server[@Name='Windows10-Pepe']/Database[@Name='CEFEGEN']/Table[@Name='TomasMuestra' and @Schema='dbo']/ForeignKey[@Name='FK_TomasMuestra_Personal']"
   },
   "outputs": [],
   "source": [
    "ALTER TABLE [dbo].[TomasMuestra]  WITH NOCHECK ADD  CONSTRAINT [FK_TomasMuestra_Personal] FOREIGN KEY([IdPersonalToma])\n",
    "REFERENCES [dbo].[Personal] ([IdPersonal])\n",
    "GO\n",
    "ALTER TABLE [dbo].[TomasMuestra] NOCHECK CONSTRAINT [FK_TomasMuestra_Personal]\n",
    "GO\n"
   ]
  },
  {
   "cell_type": "markdown",
   "metadata": {
    "object_type": "ForeignKey",
    "urn": "Server[@Name='Windows10-Pepe']/Database[@Name='CEFEGEN']/Table[@Name='TomasMuestra' and @Schema='dbo']/ForeignKey[@Name='FK_TomasMuestra_Plantillas']"
   },
   "source": [
    "# [FK_TomasMuestra_Plantillas]"
   ]
  },
  {
   "cell_type": "code",
   "execution_count": 0,
   "metadata": {
    "object_type": "ForeignKey",
    "urn": "Server[@Name='Windows10-Pepe']/Database[@Name='CEFEGEN']/Table[@Name='TomasMuestra' and @Schema='dbo']/ForeignKey[@Name='FK_TomasMuestra_Plantillas']"
   },
   "outputs": [],
   "source": [
    "ALTER TABLE [dbo].[TomasMuestra]  WITH NOCHECK ADD  CONSTRAINT [FK_TomasMuestra_Plantillas] FOREIGN KEY([IdPlantilla])\n",
    "REFERENCES [dbo].[Plantillas] ([IdPlantilla])\n",
    "GO\n",
    "ALTER TABLE [dbo].[TomasMuestra] NOCHECK CONSTRAINT [FK_TomasMuestra_Plantillas]\n",
    "GO\n"
   ]
  },
  {
   "cell_type": "markdown",
   "metadata": {
    "object_type": "ForeignKey",
    "urn": "Server[@Name='Windows10-Pepe']/Database[@Name='CEFEGEN']/Table[@Name='Usuarios' and @Schema='dbo']/ForeignKey[@Name='FK_Usuarios_Personal']"
   },
   "source": [
    "# [FK_Usuarios_Personal]"
   ]
  },
  {
   "cell_type": "code",
   "execution_count": 0,
   "metadata": {
    "object_type": "ForeignKey",
    "urn": "Server[@Name='Windows10-Pepe']/Database[@Name='CEFEGEN']/Table[@Name='Usuarios' and @Schema='dbo']/ForeignKey[@Name='FK_Usuarios_Personal']"
   },
   "outputs": [],
   "source": [
    "ALTER TABLE [dbo].[Usuarios]  WITH NOCHECK ADD  CONSTRAINT [FK_Usuarios_Personal] FOREIGN KEY([IdPersonal])\n",
    "REFERENCES [dbo].[Personal] ([IdPersonal])\n",
    "GO\n",
    "ALTER TABLE [dbo].[Usuarios] NOCHECK CONSTRAINT [FK_Usuarios_Personal]\n",
    "GO\n"
   ]
  },
  {
   "cell_type": "markdown",
   "metadata": {
    "object_type": "ForeignKey",
    "urn": "Server[@Name='Windows10-Pepe']/Database[@Name='CEFEGEN']/Table[@Name='Usuarios' and @Schema='dbo']/ForeignKey[@Name='FK_Usuarios_Rol']"
   },
   "source": [
    "# [FK_Usuarios_Rol]"
   ]
  },
  {
   "cell_type": "code",
   "execution_count": 0,
   "metadata": {
    "object_type": "ForeignKey",
    "urn": "Server[@Name='Windows10-Pepe']/Database[@Name='CEFEGEN']/Table[@Name='Usuarios' and @Schema='dbo']/ForeignKey[@Name='FK_Usuarios_Rol']"
   },
   "outputs": [],
   "source": [
    "ALTER TABLE [dbo].[Usuarios]  WITH NOCHECK ADD  CONSTRAINT [FK_Usuarios_Rol] FOREIGN KEY([IdRol])\n",
    "REFERENCES [dbo].[Roles] ([IdRol])\n",
    "GO\n",
    "ALTER TABLE [dbo].[Usuarios] NOCHECK CONSTRAINT [FK_Usuarios_Rol]\n",
    "GO\n"
   ]
  },
  {
   "cell_type": "markdown",
   "metadata": {
    "object_type": "ForeignKey",
    "urn": "Server[@Name='Windows10-Pepe']/Database[@Name='CEFEGEN']/Table[@Name='UsuariosPortal' and @Schema='dbo']/ForeignKey[@Name='FK_UsuariosPortal_Roles']"
   },
   "source": [
    "# [FK_UsuariosPortal_Roles]"
   ]
  },
  {
   "cell_type": "code",
   "execution_count": 0,
   "metadata": {
    "object_type": "ForeignKey",
    "urn": "Server[@Name='Windows10-Pepe']/Database[@Name='CEFEGEN']/Table[@Name='UsuariosPortal' and @Schema='dbo']/ForeignKey[@Name='FK_UsuariosPortal_Roles']"
   },
   "outputs": [],
   "source": [
    "ALTER TABLE [dbo].[UsuariosPortal]  WITH NOCHECK ADD  CONSTRAINT [FK_UsuariosPortal_Roles] FOREIGN KEY([IdRol])\n",
    "REFERENCES [dbo].[Roles] ([IdRol])\n",
    "GO\n",
    "ALTER TABLE [dbo].[UsuariosPortal] NOCHECK CONSTRAINT [FK_UsuariosPortal_Roles]\n",
    "GO\n"
   ]
  },
  {
   "cell_type": "markdown",
   "metadata": {
    "object_type": "ForeignKey",
    "urn": "Server[@Name='Windows10-Pepe']/Database[@Name='CEFEGEN']/Table[@Name='UsuariosPortal' and @Schema='dbo']/ForeignKey[@Name='FK_UsuariosPortal_TiposEntidad']"
   },
   "source": [
    "# [FK_UsuariosPortal_TiposEntidad]"
   ]
  },
  {
   "cell_type": "code",
   "execution_count": 0,
   "metadata": {
    "object_type": "ForeignKey",
    "urn": "Server[@Name='Windows10-Pepe']/Database[@Name='CEFEGEN']/Table[@Name='UsuariosPortal' and @Schema='dbo']/ForeignKey[@Name='FK_UsuariosPortal_TiposEntidad']"
   },
   "outputs": [],
   "source": [
    "ALTER TABLE [dbo].[UsuariosPortal]  WITH CHECK ADD  CONSTRAINT [FK_UsuariosPortal_TiposEntidad] FOREIGN KEY([IdTipoEntidad])\n",
    "REFERENCES [dbo].[TiposEntidad] ([IdEntidadTipo])\n",
    "GO\n",
    "ALTER TABLE [dbo].[UsuariosPortal] CHECK CONSTRAINT [FK_UsuariosPortal_TiposEntidad]\n",
    "GO\n"
   ]
  },
  {
   "cell_type": "markdown",
   "metadata": {
    "object_type": "ForeignKey",
    "urn": "Server[@Name='Windows10-Pepe']/Database[@Name='CEFEGEN']/Table[@Name='ValidacionesResultado' and @Schema='dbo']/ForeignKey[@Name='FK_ValidacionesResultado_Usuarios']"
   },
   "source": [
    "# [FK_ValidacionesResultado_Usuarios]"
   ]
  },
  {
   "cell_type": "code",
   "execution_count": 0,
   "metadata": {
    "object_type": "ForeignKey",
    "urn": "Server[@Name='Windows10-Pepe']/Database[@Name='CEFEGEN']/Table[@Name='ValidacionesResultado' and @Schema='dbo']/ForeignKey[@Name='FK_ValidacionesResultado_Usuarios']"
   },
   "outputs": [],
   "source": [
    "ALTER TABLE [dbo].[ValidacionesResultado]  WITH NOCHECK ADD  CONSTRAINT [FK_ValidacionesResultado_Usuarios] FOREIGN KEY([IdUsuarioValidador])\n",
    "REFERENCES [dbo].[Usuarios] ([IdUsuario])\n",
    "GO\n",
    "ALTER TABLE [dbo].[ValidacionesResultado] NOCHECK CONSTRAINT [FK_ValidacionesResultado_Usuarios]\n",
    "GO\n"
   ]
  },
  {
   "cell_type": "markdown",
   "metadata": {
    "object_type": "Check",
    "urn": "Server[@Name='Windows10-Pepe']/Database[@Name='CEFEGEN']/Table[@Name='Acreditaciones' and @Schema='dbo']/Check[@Name='CHK_Acreditaciones_Estado']"
   },
   "source": [
    "# [CHK_Acreditaciones_Estado]"
   ]
  },
  {
   "cell_type": "code",
   "execution_count": 0,
   "metadata": {
    "object_type": "Check",
    "urn": "Server[@Name='Windows10-Pepe']/Database[@Name='CEFEGEN']/Table[@Name='Acreditaciones' and @Schema='dbo']/Check[@Name='CHK_Acreditaciones_Estado']"
   },
   "outputs": [],
   "source": [
    "ALTER TABLE [dbo].[Acreditaciones]  WITH NOCHECK ADD  CONSTRAINT [CHK_Acreditaciones_Estado] CHECK  (([Estado]='En Proceso' OR [Estado]='Expirada' OR [Estado]='Vigente'))\n",
    "GO\n",
    "ALTER TABLE [dbo].[Acreditaciones] NOCHECK CONSTRAINT [CHK_Acreditaciones_Estado]\n",
    "GO\n"
   ]
  },
  {
   "cell_type": "markdown",
   "metadata": {
    "object_type": "Check",
    "urn": "Server[@Name='Windows10-Pepe']/Database[@Name='CEFEGEN']/Table[@Name='AuditoriasCalidad' and @Schema='dbo']/Check[@Name='CHK_AuditoriasCalidad_Resultado']"
   },
   "source": [
    "# [CHK_AuditoriasCalidad_Resultado]"
   ]
  },
  {
   "cell_type": "code",
   "execution_count": 0,
   "metadata": {
    "object_type": "Check",
    "urn": "Server[@Name='Windows10-Pepe']/Database[@Name='CEFEGEN']/Table[@Name='AuditoriasCalidad' and @Schema='dbo']/Check[@Name='CHK_AuditoriasCalidad_Resultado']"
   },
   "outputs": [],
   "source": [
    "ALTER TABLE [dbo].[AuditoriasCalidad]  WITH NOCHECK ADD  CONSTRAINT [CHK_AuditoriasCalidad_Resultado] CHECK  (([Resultado]='Pendiente' OR [Resultado]='No Conforme' OR [Resultado]='Conforme'))\n",
    "GO\n",
    "ALTER TABLE [dbo].[AuditoriasCalidad] NOCHECK CONSTRAINT [CHK_AuditoriasCalidad_Resultado]\n",
    "GO\n"
   ]
  },
  {
   "cell_type": "markdown",
   "metadata": {
    "object_type": "Check",
    "urn": "Server[@Name='Windows10-Pepe']/Database[@Name='CEFEGEN']/Table[@Name='AuditoriasCalidad' and @Schema='dbo']/Check[@Name='CHK_AuditoriasCalidad_Tipo']"
   },
   "source": [
    "# [CHK_AuditoriasCalidad_Tipo]"
   ]
  },
  {
   "cell_type": "code",
   "execution_count": 0,
   "metadata": {
    "object_type": "Check",
    "urn": "Server[@Name='Windows10-Pepe']/Database[@Name='CEFEGEN']/Table[@Name='AuditoriasCalidad' and @Schema='dbo']/Check[@Name='CHK_AuditoriasCalidad_Tipo']"
   },
   "outputs": [],
   "source": [
    "ALTER TABLE [dbo].[AuditoriasCalidad]  WITH NOCHECK ADD  CONSTRAINT [CHK_AuditoriasCalidad_Tipo] CHECK  (([TipoAuditoria]='Externa' OR [TipoAuditoria]='Interna'))\n",
    "GO\n",
    "ALTER TABLE [dbo].[AuditoriasCalidad] NOCHECK CONSTRAINT [CHK_AuditoriasCalidad_Tipo]\n",
    "GO\n"
   ]
  },
  {
   "cell_type": "markdown",
   "metadata": {
    "object_type": "Check",
    "urn": "Server[@Name='Windows10-Pepe']/Database[@Name='CEFEGEN']/Table[@Name='ConfigValidaciones' and @Schema='dbo']/Check[@Name='CHK_ConfigValidaciones_TipoResultado']"
   },
   "source": [
    "# [CHK_ConfigValidaciones_TipoResultado]"
   ]
  },
  {
   "cell_type": "code",
   "execution_count": 0,
   "metadata": {
    "object_type": "Check",
    "urn": "Server[@Name='Windows10-Pepe']/Database[@Name='CEFEGEN']/Table[@Name='ConfigValidaciones' and @Schema='dbo']/Check[@Name='CHK_ConfigValidaciones_TipoResultado']"
   },
   "outputs": [],
   "source": [
    "ALTER TABLE [dbo].[ConfigValidaciones]  WITH NOCHECK ADD  CONSTRAINT [CHK_ConfigValidaciones_TipoResultado] CHECK  (([TipoResultado]='Andrologia' OR [TipoResultado]='Citogenetica' OR [TipoResultado]='Genetica' OR [TipoResultado]='Parentesco'))\n",
    "GO\n",
    "ALTER TABLE [dbo].[ConfigValidaciones] NOCHECK CONSTRAINT [CHK_ConfigValidaciones_TipoResultado]\n",
    "GO\n"
   ]
  },
  {
   "cell_type": "markdown",
   "metadata": {
    "object_type": "Check",
    "urn": "Server[@Name='Windows10-Pepe']/Database[@Name='CEFEGEN']/Table[@Name='Consentimientos' and @Schema='dbo']/Check[@Name='CK_Consentimientos_Estado']"
   },
   "source": [
    "# [CK_Consentimientos_Estado]"
   ]
  },
  {
   "cell_type": "code",
   "execution_count": 0,
   "metadata": {
    "object_type": "Check",
    "urn": "Server[@Name='Windows10-Pepe']/Database[@Name='CEFEGEN']/Table[@Name='Consentimientos' and @Schema='dbo']/Check[@Name='CK_Consentimientos_Estado']"
   },
   "outputs": [],
   "source": [
    "ALTER TABLE [dbo].[Consentimientos]  WITH NOCHECK ADD  CONSTRAINT [CK_Consentimientos_Estado] CHECK  (([EstadoConsentimiento]='Cancelado' OR [EstadoConsentimiento]='Rechazado' OR [EstadoConsentimiento]='Firmado' OR [EstadoConsentimiento]='Pendiente'))\n",
    "GO\n",
    "ALTER TABLE [dbo].[Consentimientos] NOCHECK CONSTRAINT [CK_Consentimientos_Estado]\n",
    "GO\n"
   ]
  },
  {
   "cell_type": "markdown",
   "metadata": {
    "object_type": "Check",
    "urn": "Server[@Name='Windows10-Pepe']/Database[@Name='CEFEGEN']/Table[@Name='Direcciones' and @Schema='dbo']/Check[@Name='CHK_Direcciones_LocalizacionValida']"
   },
   "source": [
    "# [CHK_Direcciones_LocalizacionValida]"
   ]
  },
  {
   "cell_type": "code",
   "execution_count": 0,
   "metadata": {
    "object_type": "Check",
    "urn": "Server[@Name='Windows10-Pepe']/Database[@Name='CEFEGEN']/Table[@Name='Direcciones' and @Schema='dbo']/Check[@Name='CHK_Direcciones_LocalizacionValida']"
   },
   "outputs": [],
   "source": [
    "ALTER TABLE [dbo].[Direcciones]  WITH NOCHECK ADD  CONSTRAINT [CHK_Direcciones_LocalizacionValida] CHECK  (([CodigoPais]='ES' AND [CodigoProvincia] IS NOT NULL AND [CodigoMunicipio] IS NOT NULL AND [CodigoPostal] IS NOT NULL OR [CodigoPais]<>'ES' AND [ProvinciaTexto] IS NOT NULL AND [MunicipioTexto] IS NOT NULL AND [CodigoPostalTexto] IS NOT NULL AND [CodigoProvincia] IS NULL AND [CodigoMunicipio] IS NULL AND [CodigoPostal] IS NULL))\n",
    "GO\n",
    "ALTER TABLE [dbo].[Direcciones] NOCHECK CONSTRAINT [CHK_Direcciones_LocalizacionValida]\n",
    "GO\n"
   ]
  },
  {
   "cell_type": "markdown",
   "metadata": {
    "object_type": "Check",
    "urn": "Server[@Name='Windows10-Pepe']/Database[@Name='CEFEGEN']/Table[@Name='Direcciones' and @Schema='dbo']/Check[@Name='CHK_Direcciones_Valida']"
   },
   "source": [
    "# [CHK_Direcciones_Valida]"
   ]
  },
  {
   "cell_type": "code",
   "execution_count": 0,
   "metadata": {
    "object_type": "Check",
    "urn": "Server[@Name='Windows10-Pepe']/Database[@Name='CEFEGEN']/Table[@Name='Direcciones' and @Schema='dbo']/Check[@Name='CHK_Direcciones_Valida']"
   },
   "outputs": [],
   "source": [
    "ALTER TABLE [dbo].[Direcciones]  WITH NOCHECK ADD  CONSTRAINT [CHK_Direcciones_Valida] CHECK  (([CodigoPais]='ES' AND [CodigoProvincia] IS NOT NULL AND [CodigoMunicipio] IS NOT NULL AND [CodigoPostal] IS NOT NULL AND [ProvinciaTexto] IS NULL AND [MunicipioTexto] IS NULL AND [CodigoPostalTexto] IS NULL OR [CodigoPais]<>'ES' AND [ProvinciaTexto] IS NOT NULL AND [MunicipioTexto] IS NOT NULL AND [CodigoPostalTexto] IS NOT NULL AND [CodigoProvincia] IS NULL AND [CodigoMunicipio] IS NULL AND [CodigoPostal] IS NULL))\n",
    "GO\n",
    "ALTER TABLE [dbo].[Direcciones] NOCHECK CONSTRAINT [CHK_Direcciones_Valida]\n",
    "GO\n"
   ]
  },
  {
   "cell_type": "markdown",
   "metadata": {
    "object_type": "Check",
    "urn": "Server[@Name='Windows10-Pepe']/Database[@Name='CEFEGEN']/Table[@Name='EntidadMetadata' and @Schema='dbo']/Check[@Name='CHK_TipoEntidad_Metadata']"
   },
   "source": [
    "# [CHK_TipoEntidad_Metadata]"
   ]
  },
  {
   "cell_type": "code",
   "execution_count": 0,
   "metadata": {
    "object_type": "Check",
    "urn": "Server[@Name='Windows10-Pepe']/Database[@Name='CEFEGEN']/Table[@Name='EntidadMetadata' and @Schema='dbo']/Check[@Name='CHK_TipoEntidad_Metadata']"
   },
   "outputs": [],
   "source": [
    "ALTER TABLE [dbo].[EntidadMetadata]  WITH NOCHECK ADD  CONSTRAINT [CHK_TipoEntidad_Metadata] CHECK  (([TipoEntidad]='Medico' OR [TipoEntidad]='Empresa' OR [TipoEntidad]='Solicitante' OR [TipoEntidad]='Laboratorio'))\n",
    "GO\n",
    "ALTER TABLE [dbo].[EntidadMetadata] NOCHECK CONSTRAINT [CHK_TipoEntidad_Metadata]\n",
    "GO\n"
   ]
  },
  {
   "cell_type": "markdown",
   "metadata": {
    "object_type": "Check",
    "urn": "Server[@Name='Windows10-Pepe']/Database[@Name='CEFEGEN']/Table[@Name='Facturas' and @Schema='dbo']/Check[@Name='CHK_Facturas_EstadoFactura']"
   },
   "source": [
    "# [CHK_Facturas_EstadoFactura]"
   ]
  },
  {
   "cell_type": "code",
   "execution_count": 0,
   "metadata": {
    "object_type": "Check",
    "urn": "Server[@Name='Windows10-Pepe']/Database[@Name='CEFEGEN']/Table[@Name='Facturas' and @Schema='dbo']/Check[@Name='CHK_Facturas_EstadoFactura']"
   },
   "outputs": [],
   "source": [
    "ALTER TABLE [dbo].[Facturas]  WITH NOCHECK ADD  CONSTRAINT [CHK_Facturas_EstadoFactura] CHECK  (([EstadoFactura]='Anulada' OR [EstadoFactura]='Pagada' OR [EstadoFactura]='Pendiente' OR [EstadoFactura] IS NULL))\n",
    "GO\n",
    "ALTER TABLE [dbo].[Facturas] NOCHECK CONSTRAINT [CHK_Facturas_EstadoFactura]\n",
    "GO\n"
   ]
  },
  {
   "cell_type": "markdown",
   "metadata": {
    "object_type": "Check",
    "urn": "Server[@Name='Windows10-Pepe']/Database[@Name='CEFEGEN']/Table[@Name='IndiceParentesco' and @Schema='dbo']/Check[@Name='CHK_IndiceParentesco_Resultado']"
   },
   "source": [
    "# [CHK_IndiceParentesco_Resultado]"
   ]
  },
  {
   "cell_type": "code",
   "execution_count": 0,
   "metadata": {
    "object_type": "Check",
    "urn": "Server[@Name='Windows10-Pepe']/Database[@Name='CEFEGEN']/Table[@Name='IndiceParentesco' and @Schema='dbo']/Check[@Name='CHK_IndiceParentesco_Resultado']"
   },
   "outputs": [],
   "source": [
    "ALTER TABLE [dbo].[IndiceParentesco]  WITH NOCHECK ADD  CONSTRAINT [CHK_IndiceParentesco_Resultado] CHECK  (([Resultado]=NULL OR [Resultado]='Inconcluso' OR [Resultado]='No compatible' OR [Resultado]='Compatible'))\n",
    "GO\n",
    "ALTER TABLE [dbo].[IndiceParentesco] NOCHECK CONSTRAINT [CHK_IndiceParentesco_Resultado]\n",
    "GO\n"
   ]
  },
  {
   "cell_type": "markdown",
   "metadata": {
    "object_type": "Check",
    "urn": "Server[@Name='Windows10-Pepe']/Database[@Name='CEFEGEN']/Table[@Name='IndiceParentesco' and @Schema='dbo']/Check[@Name='CHK_IndiceParentesco_TipoRelacion']"
   },
   "source": [
    "# [CHK_IndiceParentesco_TipoRelacion]"
   ]
  },
  {
   "cell_type": "code",
   "execution_count": 0,
   "metadata": {
    "object_type": "Check",
    "urn": "Server[@Name='Windows10-Pepe']/Database[@Name='CEFEGEN']/Table[@Name='IndiceParentesco' and @Schema='dbo']/Check[@Name='CHK_IndiceParentesco_TipoRelacion']"
   },
   "outputs": [],
   "source": [
    "ALTER TABLE [dbo].[IndiceParentesco]  WITH NOCHECK ADD  CONSTRAINT [CHK_IndiceParentesco_TipoRelacion] CHECK  (([TipoRelacion]='Otros' OR [TipoRelacion]='Abuelo-Nieto' OR [TipoRelacion]='Hermanos' OR [TipoRelacion]='Madre-Hijo' OR [TipoRelacion]='Padre-Hijo'))\n",
    "GO\n",
    "ALTER TABLE [dbo].[IndiceParentesco] NOCHECK CONSTRAINT [CHK_IndiceParentesco_TipoRelacion]\n",
    "GO\n"
   ]
  },
  {
   "cell_type": "markdown",
   "metadata": {
    "object_type": "Check",
    "urn": "Server[@Name='Windows10-Pepe']/Database[@Name='CEFEGEN']/Table[@Name='Intervinientes' and @Schema='dbo']/Check[@Name='CK__Intervinie__Sexo__6BAEFA67']"
   },
   "source": [
    "# [CK__Intervinie__Sexo__6BAEFA67]"
   ]
  },
  {
   "cell_type": "code",
   "execution_count": 0,
   "metadata": {
    "object_type": "Check",
    "urn": "Server[@Name='Windows10-Pepe']/Database[@Name='CEFEGEN']/Table[@Name='Intervinientes' and @Schema='dbo']/Check[@Name='CK__Intervinie__Sexo__6BAEFA67']"
   },
   "outputs": [],
   "source": [
    "ALTER TABLE [dbo].[Intervinientes]  WITH NOCHECK ADD CHECK  (([Sexo]='F' OR [Sexo]='M'))\n",
    "GO\n"
   ]
  },
  {
   "cell_type": "markdown",
   "metadata": {
    "object_type": "Check",
    "urn": "Server[@Name='Windows10-Pepe']/Database[@Name='CEFEGEN']/Table[@Name='Notas' and @Schema='dbo']/Check[@Name='CHK_TipoEntidad']"
   },
   "source": [
    "# [CHK_TipoEntidad]"
   ]
  },
  {
   "cell_type": "code",
   "execution_count": 0,
   "metadata": {
    "object_type": "Check",
    "urn": "Server[@Name='Windows10-Pepe']/Database[@Name='CEFEGEN']/Table[@Name='Notas' and @Schema='dbo']/Check[@Name='CHK_TipoEntidad']"
   },
   "outputs": [],
   "source": [
    "ALTER TABLE [dbo].[Notas]  WITH NOCHECK ADD  CONSTRAINT [CHK_TipoEntidad] CHECK  (([TipoEntidad]='Direccion' OR [TipoEntidad]='Medico' OR [TipoEntidad]='Empresa' OR [TipoEntidad]='Solicitante' OR [TipoEntidad]='Laboratorio'))\n",
    "GO\n",
    "ALTER TABLE [dbo].[Notas] NOCHECK CONSTRAINT [CHK_TipoEntidad]\n",
    "GO\n"
   ]
  },
  {
   "cell_type": "markdown",
   "metadata": {
    "object_type": "Check",
    "urn": "Server[@Name='Windows10-Pepe']/Database[@Name='CEFEGEN']/Table[@Name='Notas' and @Schema='dbo']/Check[@Name='CHK_TipoNota']"
   },
   "source": [
    "# [CHK_TipoNota]"
   ]
  },
  {
   "cell_type": "code",
   "execution_count": 0,
   "metadata": {
    "object_type": "Check",
    "urn": "Server[@Name='Windows10-Pepe']/Database[@Name='CEFEGEN']/Table[@Name='Notas' and @Schema='dbo']/Check[@Name='CHK_TipoNota']"
   },
   "outputs": [],
   "source": [
    "ALTER TABLE [dbo].[Notas]  WITH NOCHECK ADD  CONSTRAINT [CHK_TipoNota] CHECK  (([TipoNota]='Normalizacion' OR [TipoNota]='Internas' OR [TipoNota]='Facturacion' OR [TipoNota]='Admon' OR [TipoNota]='Tecnico'))\n",
    "GO\n",
    "ALTER TABLE [dbo].[Notas] NOCHECK CONSTRAINT [CHK_TipoNota]\n",
    "GO\n"
   ]
  },
  {
   "cell_type": "markdown",
   "metadata": {
    "object_type": "Check",
    "urn": "Server[@Name='Windows10-Pepe']/Database[@Name='CEFEGEN']/Table[@Name='NotificacionesSMS' and @Schema='dbo']/Check[@Name='CHK_NotificacionesSMS_Estado']"
   },
   "source": [
    "# [CHK_NotificacionesSMS_Estado]"
   ]
  },
  {
   "cell_type": "code",
   "execution_count": 0,
   "metadata": {
    "object_type": "Check",
    "urn": "Server[@Name='Windows10-Pepe']/Database[@Name='CEFEGEN']/Table[@Name='NotificacionesSMS' and @Schema='dbo']/Check[@Name='CHK_NotificacionesSMS_Estado']"
   },
   "outputs": [],
   "source": [
    "ALTER TABLE [dbo].[NotificacionesSMS]  WITH NOCHECK ADD  CONSTRAINT [CHK_NotificacionesSMS_Estado] CHECK  (([Estado]='Pendiente' OR [Estado]='Fallido' OR [Estado]='Enviado'))\n",
    "GO\n",
    "ALTER TABLE [dbo].[NotificacionesSMS] NOCHECK CONSTRAINT [CHK_NotificacionesSMS_Estado]\n",
    "GO\n"
   ]
  },
  {
   "cell_type": "markdown",
   "metadata": {
    "object_type": "Check",
    "urn": "Server[@Name='Windows10-Pepe']/Database[@Name='CEFEGEN']/Table[@Name='PermisosDocumento' and @Schema='dbo']/Check[@Name='CHK_PermisosDocumento_Permiso']"
   },
   "source": [
    "# [CHK_PermisosDocumento_Permiso]"
   ]
  },
  {
   "cell_type": "code",
   "execution_count": 0,
   "metadata": {
    "object_type": "Check",
    "urn": "Server[@Name='Windows10-Pepe']/Database[@Name='CEFEGEN']/Table[@Name='PermisosDocumento' and @Schema='dbo']/Check[@Name='CHK_PermisosDocumento_Permiso']"
   },
   "outputs": [],
   "source": [
    "ALTER TABLE [dbo].[PermisosDocumento]  WITH NOCHECK ADD  CONSTRAINT [CHK_PermisosDocumento_Permiso] CHECK  (([Permiso]='Eliminar' OR [Permiso]='Editar' OR [Permiso]='Leer'))\n",
    "GO\n",
    "ALTER TABLE [dbo].[PermisosDocumento] NOCHECK CONSTRAINT [CHK_PermisosDocumento_Permiso]\n",
    "GO\n"
   ]
  },
  {
   "cell_type": "markdown",
   "metadata": {
    "object_type": "Check",
    "urn": "Server[@Name='Windows10-Pepe']/Database[@Name='CEFEGEN']/Table[@Name='PeticionesLin' and @Schema='dbo']/Check[@Name='CHK_PeticionesLin_EstadoResultado']"
   },
   "source": [
    "# [CHK_PeticionesLin_EstadoResultado]"
   ]
  },
  {
   "cell_type": "code",
   "execution_count": 0,
   "metadata": {
    "object_type": "Check",
    "urn": "Server[@Name='Windows10-Pepe']/Database[@Name='CEFEGEN']/Table[@Name='PeticionesLin' and @Schema='dbo']/Check[@Name='CHK_PeticionesLin_EstadoResultado']"
   },
   "outputs": [],
   "source": [
    "ALTER TABLE [dbo].[PeticionesLin]  WITH NOCHECK ADD  CONSTRAINT [CHK_PeticionesLin_EstadoResultado] CHECK  (([EstadoResultado]='Rechazado' OR [EstadoResultado]='Completado' OR [EstadoResultado]='En Proceso'))\n",
    "GO\n",
    "ALTER TABLE [dbo].[PeticionesLin] NOCHECK CONSTRAINT [CHK_PeticionesLin_EstadoResultado]\n",
    "GO\n"
   ]
  },
  {
   "cell_type": "markdown",
   "metadata": {
    "object_type": "Check",
    "urn": "Server[@Name='Windows10-Pepe']/Database[@Name='CEFEGEN']/Table[@Name='PlantillasNotificacion' and @Schema='dbo']/Check[@Name='CHK_PlantillasNotificacion_Canal']"
   },
   "source": [
    "# [CHK_PlantillasNotificacion_Canal]"
   ]
  },
  {
   "cell_type": "code",
   "execution_count": 0,
   "metadata": {
    "object_type": "Check",
    "urn": "Server[@Name='Windows10-Pepe']/Database[@Name='CEFEGEN']/Table[@Name='PlantillasNotificacion' and @Schema='dbo']/Check[@Name='CHK_PlantillasNotificacion_Canal']"
   },
   "outputs": [],
   "source": [
    "ALTER TABLE [dbo].[PlantillasNotificacion]  WITH NOCHECK ADD  CONSTRAINT [CHK_PlantillasNotificacion_Canal] CHECK  (([Canal]='SMS' OR [Canal]='Email'))\n",
    "GO\n",
    "ALTER TABLE [dbo].[PlantillasNotificacion] NOCHECK CONSTRAINT [CHK_PlantillasNotificacion_Canal]\n",
    "GO\n"
   ]
  },
  {
   "cell_type": "markdown",
   "metadata": {
    "object_type": "Check",
    "urn": "Server[@Name='Windows10-Pepe']/Database[@Name='CEFEGEN']/Table[@Name='ResultadosAndrologia' and @Schema='dbo']/Check[@Name='CHK_ResultadosAndrologia_EstadoValidacion']"
   },
   "source": [
    "# [CHK_ResultadosAndrologia_EstadoValidacion]"
   ]
  },
  {
   "cell_type": "code",
   "execution_count": 0,
   "metadata": {
    "object_type": "Check",
    "urn": "Server[@Name='Windows10-Pepe']/Database[@Name='CEFEGEN']/Table[@Name='ResultadosAndrologia' and @Schema='dbo']/Check[@Name='CHK_ResultadosAndrologia_EstadoValidacion']"
   },
   "outputs": [],
   "source": [
    "ALTER TABLE [dbo].[ResultadosAndrologia]  WITH NOCHECK ADD  CONSTRAINT [CHK_ResultadosAndrologia_EstadoValidacion] CHECK  (([EstadoValidacion]='RechazadoPorTecnico' OR [EstadoValidacion]='AprobadoPorTecnico' OR [EstadoValidacion]='Pendiente'))\n",
    "GO\n",
    "ALTER TABLE [dbo].[ResultadosAndrologia] NOCHECK CONSTRAINT [CHK_ResultadosAndrologia_EstadoValidacion]\n",
    "GO\n"
   ]
  },
  {
   "cell_type": "markdown",
   "metadata": {
    "object_type": "Check",
    "urn": "Server[@Name='Windows10-Pepe']/Database[@Name='CEFEGEN']/Table[@Name='ResultadosAndrologia' and @Schema='dbo']/Check[@Name='CHK_ResultadosAndrologia_EstadoValidacionFinal']"
   },
   "source": [
    "# [CHK_ResultadosAndrologia_EstadoValidacionFinal]"
   ]
  },
  {
   "cell_type": "code",
   "execution_count": 0,
   "metadata": {
    "object_type": "Check",
    "urn": "Server[@Name='Windows10-Pepe']/Database[@Name='CEFEGEN']/Table[@Name='ResultadosAndrologia' and @Schema='dbo']/Check[@Name='CHK_ResultadosAndrologia_EstadoValidacionFinal']"
   },
   "outputs": [],
   "source": [
    "ALTER TABLE [dbo].[ResultadosAndrologia]  WITH NOCHECK ADD  CONSTRAINT [CHK_ResultadosAndrologia_EstadoValidacionFinal] CHECK  (([EstadoValidacionFinal]='Rechazado' OR [EstadoValidacionFinal]='Aprobado' OR [EstadoValidacionFinal]='Pendiente'))\n",
    "GO\n",
    "ALTER TABLE [dbo].[ResultadosAndrologia] NOCHECK CONSTRAINT [CHK_ResultadosAndrologia_EstadoValidacionFinal]\n",
    "GO\n"
   ]
  },
  {
   "cell_type": "markdown",
   "metadata": {
    "object_type": "Check",
    "urn": "Server[@Name='Windows10-Pepe']/Database[@Name='CEFEGEN']/Table[@Name='ResultadosCitogenetica' and @Schema='dbo']/Check[@Name='CHK_ResultadosCitogenetica_EstadoValidacion']"
   },
   "source": [
    "# [CHK_ResultadosCitogenetica_EstadoValidacion]"
   ]
  },
  {
   "cell_type": "code",
   "execution_count": 0,
   "metadata": {
    "object_type": "Check",
    "urn": "Server[@Name='Windows10-Pepe']/Database[@Name='CEFEGEN']/Table[@Name='ResultadosCitogenetica' and @Schema='dbo']/Check[@Name='CHK_ResultadosCitogenetica_EstadoValidacion']"
   },
   "outputs": [],
   "source": [
    "ALTER TABLE [dbo].[ResultadosCitogenetica]  WITH NOCHECK ADD  CONSTRAINT [CHK_ResultadosCitogenetica_EstadoValidacion] CHECK  (([EstadoValidacion]='RechazadoPorTecnico' OR [EstadoValidacion]='AprobadoPorTecnico' OR [EstadoValidacion]='Pendiente'))\n",
    "GO\n",
    "ALTER TABLE [dbo].[ResultadosCitogenetica] NOCHECK CONSTRAINT [CHK_ResultadosCitogenetica_EstadoValidacion]\n",
    "GO\n"
   ]
  },
  {
   "cell_type": "markdown",
   "metadata": {
    "object_type": "Check",
    "urn": "Server[@Name='Windows10-Pepe']/Database[@Name='CEFEGEN']/Table[@Name='ResultadosCitogenetica' and @Schema='dbo']/Check[@Name='CHK_ResultadosCitogenetica_EstadoValidacionFinal']"
   },
   "source": [
    "# [CHK_ResultadosCitogenetica_EstadoValidacionFinal]"
   ]
  },
  {
   "cell_type": "code",
   "execution_count": 0,
   "metadata": {
    "object_type": "Check",
    "urn": "Server[@Name='Windows10-Pepe']/Database[@Name='CEFEGEN']/Table[@Name='ResultadosCitogenetica' and @Schema='dbo']/Check[@Name='CHK_ResultadosCitogenetica_EstadoValidacionFinal']"
   },
   "outputs": [],
   "source": [
    "ALTER TABLE [dbo].[ResultadosCitogenetica]  WITH NOCHECK ADD  CONSTRAINT [CHK_ResultadosCitogenetica_EstadoValidacionFinal] CHECK  (([EstadoValidacionFinal]='Rechazado' OR [EstadoValidacionFinal]='Aprobado' OR [EstadoValidacionFinal]='Pendiente'))\n",
    "GO\n",
    "ALTER TABLE [dbo].[ResultadosCitogenetica] NOCHECK CONSTRAINT [CHK_ResultadosCitogenetica_EstadoValidacionFinal]\n",
    "GO\n"
   ]
  },
  {
   "cell_type": "markdown",
   "metadata": {
    "object_type": "Check",
    "urn": "Server[@Name='Windows10-Pepe']/Database[@Name='CEFEGEN']/Table[@Name='ResultadosGenetica' and @Schema='dbo']/Check[@Name='CHK_ResultadosGenetica_EstadoValidacion']"
   },
   "source": [
    "# [CHK_ResultadosGenetica_EstadoValidacion]"
   ]
  },
  {
   "cell_type": "code",
   "execution_count": 0,
   "metadata": {
    "object_type": "Check",
    "urn": "Server[@Name='Windows10-Pepe']/Database[@Name='CEFEGEN']/Table[@Name='ResultadosGenetica' and @Schema='dbo']/Check[@Name='CHK_ResultadosGenetica_EstadoValidacion']"
   },
   "outputs": [],
   "source": [
    "ALTER TABLE [dbo].[ResultadosGenetica]  WITH NOCHECK ADD  CONSTRAINT [CHK_ResultadosGenetica_EstadoValidacion] CHECK  (([EstadoValidacion]='RechazadoPorTecnico' OR [EstadoValidacion]='AprobadoPorTecnico' OR [EstadoValidacion]='Pendiente'))\n",
    "GO\n",
    "ALTER TABLE [dbo].[ResultadosGenetica] NOCHECK CONSTRAINT [CHK_ResultadosGenetica_EstadoValidacion]\n",
    "GO\n"
   ]
  },
  {
   "cell_type": "markdown",
   "metadata": {
    "object_type": "Check",
    "urn": "Server[@Name='Windows10-Pepe']/Database[@Name='CEFEGEN']/Table[@Name='ResultadosGenetica' and @Schema='dbo']/Check[@Name='CHK_ResultadosGenetica_EstadoValidacionFinal']"
   },
   "source": [
    "# [CHK_ResultadosGenetica_EstadoValidacionFinal]"
   ]
  },
  {
   "cell_type": "code",
   "execution_count": 0,
   "metadata": {
    "object_type": "Check",
    "urn": "Server[@Name='Windows10-Pepe']/Database[@Name='CEFEGEN']/Table[@Name='ResultadosGenetica' and @Schema='dbo']/Check[@Name='CHK_ResultadosGenetica_EstadoValidacionFinal']"
   },
   "outputs": [],
   "source": [
    "ALTER TABLE [dbo].[ResultadosGenetica]  WITH NOCHECK ADD  CONSTRAINT [CHK_ResultadosGenetica_EstadoValidacionFinal] CHECK  (([EstadoValidacionFinal]='Rechazado' OR [EstadoValidacionFinal]='Aprobado' OR [EstadoValidacionFinal]='Pendiente'))\n",
    "GO\n",
    "ALTER TABLE [dbo].[ResultadosGenetica] NOCHECK CONSTRAINT [CHK_ResultadosGenetica_EstadoValidacionFinal]\n",
    "GO\n"
   ]
  },
  {
   "cell_type": "markdown",
   "metadata": {
    "object_type": "Check",
    "urn": "Server[@Name='Windows10-Pepe']/Database[@Name='CEFEGEN']/Table[@Name='ResultadosParentesco' and @Schema='dbo']/Check[@Name='CHK_ResultadosParentesco_Alelos']"
   },
   "source": [
    "# [CHK_ResultadosParentesco_Alelos]"
   ]
  },
  {
   "cell_type": "code",
   "execution_count": 0,
   "metadata": {
    "object_type": "Check",
    "urn": "Server[@Name='Windows10-Pepe']/Database[@Name='CEFEGEN']/Table[@Name='ResultadosParentesco' and @Schema='dbo']/Check[@Name='CHK_ResultadosParentesco_Alelos']"
   },
   "outputs": [],
   "source": [
    "ALTER TABLE [dbo].[ResultadosParentesco]  WITH NOCHECK ADD  CONSTRAINT [CHK_ResultadosParentesco_Alelos] CHECK  (([Alelo1] IS NULL OR [Alelo1] like '[0-9]+' OR [Alelo1] like '[0-9]+.[0-9]' AND [Alelo2] IS NULL OR [Alelo2] like '[0-9]+' OR [Alelo2] like '[0-9]+.[0-9]'))\n",
    "GO\n",
    "ALTER TABLE [dbo].[ResultadosParentesco] NOCHECK CONSTRAINT [CHK_ResultadosParentesco_Alelos]\n",
    "GO\n"
   ]
  },
  {
   "cell_type": "markdown",
   "metadata": {
    "object_type": "Check",
    "urn": "Server[@Name='Windows10-Pepe']/Database[@Name='CEFEGEN']/Table[@Name='ResultadosParentesco' and @Schema='dbo']/Check[@Name='CHK_ResultadosParentesco_EstadoValidacion']"
   },
   "source": [
    "# [CHK_ResultadosParentesco_EstadoValidacion]"
   ]
  },
  {
   "cell_type": "code",
   "execution_count": 0,
   "metadata": {
    "object_type": "Check",
    "urn": "Server[@Name='Windows10-Pepe']/Database[@Name='CEFEGEN']/Table[@Name='ResultadosParentesco' and @Schema='dbo']/Check[@Name='CHK_ResultadosParentesco_EstadoValidacion']"
   },
   "outputs": [],
   "source": [
    "ALTER TABLE [dbo].[ResultadosParentesco]  WITH NOCHECK ADD  CONSTRAINT [CHK_ResultadosParentesco_EstadoValidacion] CHECK  (([EstadoValidacion]='RechazadoPorTecnico' OR [EstadoValidacion]='AprobadoPorTecnico' OR [EstadoValidacion]='Pendiente'))\n",
    "GO\n",
    "ALTER TABLE [dbo].[ResultadosParentesco] NOCHECK CONSTRAINT [CHK_ResultadosParentesco_EstadoValidacion]\n",
    "GO\n"
   ]
  },
  {
   "cell_type": "markdown",
   "metadata": {
    "object_type": "Check",
    "urn": "Server[@Name='Windows10-Pepe']/Database[@Name='CEFEGEN']/Table[@Name='ResultadosParentesco' and @Schema='dbo']/Check[@Name='CHK_ResultadosParentesco_EstadoValidacionFinal']"
   },
   "source": [
    "# [CHK_ResultadosParentesco_EstadoValidacionFinal]"
   ]
  },
  {
   "cell_type": "code",
   "execution_count": 0,
   "metadata": {
    "object_type": "Check",
    "urn": "Server[@Name='Windows10-Pepe']/Database[@Name='CEFEGEN']/Table[@Name='ResultadosParentesco' and @Schema='dbo']/Check[@Name='CHK_ResultadosParentesco_EstadoValidacionFinal']"
   },
   "outputs": [],
   "source": [
    "ALTER TABLE [dbo].[ResultadosParentesco]  WITH NOCHECK ADD  CONSTRAINT [CHK_ResultadosParentesco_EstadoValidacionFinal] CHECK  (([EstadoValidacionFinal]='Rechazado' OR [EstadoValidacionFinal]='Aprobado' OR [EstadoValidacionFinal]='Pendiente'))\n",
    "GO\n",
    "ALTER TABLE [dbo].[ResultadosParentesco] NOCHECK CONSTRAINT [CHK_ResultadosParentesco_EstadoValidacionFinal]\n",
    "GO\n"
   ]
  },
  {
   "cell_type": "markdown",
   "metadata": {
    "object_type": "Check",
    "urn": "Server[@Name='Windows10-Pepe']/Database[@Name='CEFEGEN']/Table[@Name='Solicitantes' and @Schema='dbo']/Check[@Name='CK_Solicitantes_Sexo']"
   },
   "source": [
    "# [CK_Solicitantes_Sexo]"
   ]
  },
  {
   "cell_type": "code",
   "execution_count": 0,
   "metadata": {
    "object_type": "Check",
    "urn": "Server[@Name='Windows10-Pepe']/Database[@Name='CEFEGEN']/Table[@Name='Solicitantes' and @Schema='dbo']/Check[@Name='CK_Solicitantes_Sexo']"
   },
   "outputs": [],
   "source": [
    "ALTER TABLE [dbo].[Solicitantes]  WITH NOCHECK ADD  CONSTRAINT [CK_Solicitantes_Sexo] CHECK  (([Sexo]='F' OR [Sexo]='M'))\n",
    "GO\n",
    "ALTER TABLE [dbo].[Solicitantes] NOCHECK CONSTRAINT [CK_Solicitantes_Sexo]\n",
    "GO\n"
   ]
  },
  {
   "cell_type": "markdown",
   "metadata": {
    "object_type": "Check",
    "urn": "Server[@Name='Windows10-Pepe']/Database[@Name='CEFEGEN']/Table[@Name='Solicitudes' and @Schema='dbo']/Check[@Name='CHK_Solicitudes_EstadoResultados']"
   },
   "source": [
    "# [CHK_Solicitudes_EstadoResultados]"
   ]
  },
  {
   "cell_type": "code",
   "execution_count": 0,
   "metadata": {
    "object_type": "Check",
    "urn": "Server[@Name='Windows10-Pepe']/Database[@Name='CEFEGEN']/Table[@Name='Solicitudes' and @Schema='dbo']/Check[@Name='CHK_Solicitudes_EstadoResultados']"
   },
   "outputs": [],
   "source": [
    "ALTER TABLE [dbo].[Solicitudes]  WITH NOCHECK ADD  CONSTRAINT [CHK_Solicitudes_EstadoResultados] CHECK  (([EstadoResultados]='Completado' OR [EstadoResultados]='Parcial' OR [EstadoResultados]='Pendiente'))\n",
    "GO\n",
    "ALTER TABLE [dbo].[Solicitudes] NOCHECK CONSTRAINT [CHK_Solicitudes_EstadoResultados]\n",
    "GO\n"
   ]
  },
  {
   "cell_type": "markdown",
   "metadata": {
    "object_type": "Check",
    "urn": "Server[@Name='Windows10-Pepe']/Database[@Name='CEFEGEN']/Table[@Name='ValidacionesResultado' and @Schema='dbo']/Check[@Name='CHK_ValidacionesResultado_Estado']"
   },
   "source": [
    "# [CHK_ValidacionesResultado_Estado]"
   ]
  },
  {
   "cell_type": "code",
   "execution_count": 0,
   "metadata": {
    "object_type": "Check",
    "urn": "Server[@Name='Windows10-Pepe']/Database[@Name='CEFEGEN']/Table[@Name='ValidacionesResultado' and @Schema='dbo']/Check[@Name='CHK_ValidacionesResultado_Estado']"
   },
   "outputs": [],
   "source": [
    "ALTER TABLE [dbo].[ValidacionesResultado]  WITH NOCHECK ADD  CONSTRAINT [CHK_ValidacionesResultado_Estado] CHECK  (([EstadoValidacion]='Pendiente' OR [EstadoValidacion]='Rechazado' OR [EstadoValidacion]='Validado'))\n",
    "GO\n",
    "ALTER TABLE [dbo].[ValidacionesResultado] NOCHECK CONSTRAINT [CHK_ValidacionesResultado_Estado]\n",
    "GO\n"
   ]
  },
  {
   "cell_type": "markdown",
   "metadata": {
    "object_type": "Check",
    "urn": "Server[@Name='Windows10-Pepe']/Database[@Name='CEFEGEN']/Table[@Name='ValidacionesResultado' and @Schema='dbo']/Check[@Name='CHK_ValidacionesResultado_Tipo']"
   },
   "source": [
    "# [CHK_ValidacionesResultado_Tipo]"
   ]
  },
  {
   "cell_type": "code",
   "execution_count": 0,
   "metadata": {
    "object_type": "Check",
    "urn": "Server[@Name='Windows10-Pepe']/Database[@Name='CEFEGEN']/Table[@Name='ValidacionesResultado' and @Schema='dbo']/Check[@Name='CHK_ValidacionesResultado_Tipo']"
   },
   "outputs": [],
   "source": [
    "ALTER TABLE [dbo].[ValidacionesResultado]  WITH NOCHECK ADD  CONSTRAINT [CHK_ValidacionesResultado_Tipo] CHECK  (([TipoResultado]='Andrologia' OR [TipoResultado]='Citogenetica' OR [TipoResultado]='Genetica' OR [TipoResultado]='Parentesco'))\n",
    "GO\n",
    "ALTER TABLE [dbo].[ValidacionesResultado] NOCHECK CONSTRAINT [CHK_ValidacionesResultado_Tipo]\n",
    "GO\n"
   ]
  },
  {
   "cell_type": "markdown",
   "metadata": {},
   "source": [
    "# [dbo].[sp_RegistrarUsuario]"
   ]
  },
  {
   "cell_type": "markdown",
   "metadata": {},
   "source": [
    "#### Stored Procedure: sp_RegistrarUsuario (Proposed)\n",
    "**Purpose**: Registers a new user and logs the action in `AuditoriaAcciones`.\n",
    "**Parameters**:\n",
    "- `@NombreUsuario` (nvarchar(50)): Username.\n",
    "- `@Email` (nvarchar(100)): Email.\n",
    "- `@HashPassword` (nvarchar(255)): Hashed password.\n",
    "- `@IdRol` (int): Role ID.\n",
    "- `@IdUsuarioCreador` (int): ID of the user creating the record.\n",
    "**Logic**:\n",
    "- Inserts a new user into `Usuarios`.\n",
    "- Logs the action in `AuditoriaAcciones`.\n",
    "**Notes**: Encapsulates user registration logic. Ensure password hashing is done in the application layer (e.g., bcrypt)."
   ]
  },
  {
   "cell_type": "code",
   "execution_count": null,
   "metadata": {},
   "outputs": [],
   "source": [
    "/****** Object:  StoredProcedure [dbo].[ssp_RegistrarUsuarioo]    Script Date: 20/06/2025 18:08:56 ******/\n",
    "SET ANSI_NULLS ON\n",
    "GO\n",
    "SET QUOTED_IDENTIFIER ON\n",
    "GO\n",
    "CREATE PROCEDURE sp_RegistrarUsuario\n",
    "    @NombreUsuario nvarchar(50),\n",
    "    @Email nvarchar(100),\n",
    "    @HashPassword nvarchar(255),\n",
    "    @IdRol int,\n",
    "    @IdUsuarioCreador int\n",
    "AS\n",
    "BEGIN\n",
    "    INSERT INTO Usuarios (NombreUsuario, Email, HashPassword, IdRol, Activo, FechaCreacion)\n",
    "    VALUES (@NombreUsuario, @Email, @HashPassword, @IdRol, 1, GETDATE());\n",
    "\n",
    "    DECLARE @IdUsuario int = SCOPE_IDENTITY();\n",
    "    INSERT INTO AuditoriaAcciones (IdUsuario, Accion, Fecha, Detalles)\n",
    "    VALUES (@IdUsuarioCreador, 'RegistrarUsuario', GETDATE(), \n",
    "            CONCAT('Nuevo usuario: ', @NombreUsuario, ', Id: ', @IdUsuario));\n",
    "END;"
   ]
  },
  {
   "cell_type": "markdown",
   "metadata": {
    "object_type": "StoredProcedure",
    "urn": "Server[@Name='Windows10-Pepe']/Database[@Name='CEFEGEN']/StoredProcedure[@Name='sp_CalcularIndiceParentesco' and @Schema='dbo']"
   },
   "source": [
    "# [dbo].[sp_CalcularIndiceParentesco]"
   ]
  },
  {
   "cell_type": "code",
   "execution_count": 0,
   "metadata": {
    "object_type": "StoredProcedure",
    "urn": "Server[@Name='Windows10-Pepe']/Database[@Name='CEFEGEN']/StoredProcedure[@Name='sp_CalcularIndiceParentesco' and @Schema='dbo']"
   },
   "outputs": [],
   "source": [
    "/****** Object:  StoredProcedure [dbo].[sp_CalcularIndiceParentesco]    Script Date: 20/06/2025 18:08:56 ******/\n",
    "SET ANSI_NULLS ON\n",
    "GO\n",
    "SET QUOTED_IDENTIFIER ON\n",
    "GO\n",
    "CREATE   PROCEDURE [dbo].[sp_CalcularIndiceParentesco]\n",
    "    @IdSolicitud INT,\n",
    "    @TipoRelacion VARCHAR(50),\n",
    "    @IdPerfilGenetico1 INT,\n",
    "    @IdPerfilGenetico2 INT,\n",
    "    @IdUsuarioAnalista INT\n",
    "AS\n",
    "BEGIN\n",
    "    SET NOCOUNT ON;\n",
    "\n",
    "    -- Validar parámetros\n",
    "    IF NOT EXISTS (SELECT 1 FROM [dbo].[Solicitudes] WHERE IdSolicitud = @IdSolicitud)\n",
    "        THROW 50001, 'La solicitud especificada no existe.', 1;\n",
    "    IF NOT EXISTS (SELECT 1 FROM [dbo].[PerfilesGeneticos] WHERE IdPerfilGenetico = @IdPerfilGenetico1)\n",
    "        THROW 50002, 'El primer perfil genético no existe.', 1;\n",
    "    IF NOT EXISTS (SELECT 1 FROM [dbo].[PerfilesGeneticos] WHERE IdPerfilGenetico = @IdPerfilGenetico2)\n",
    "        THROW 50003, 'El segundo perfil genético no existe.', 1;\n",
    "    IF NOT EXISTS (SELECT 1 FROM [dbo].[Usuarios] WHERE IdUsuario = @IdUsuarioAnalista)\n",
    "        THROW 50004, 'El usuario analista no existe.', 1;\n",
    "\n",
    "    -- Validar muestras\n",
    "    EXEC [dbo].[sp_ValidarMuestrasSolicitud] @IdSolicitud;\n",
    "\n",
    "    -- Validar consentimiento\n",
    "    EXEC [dbo].[sp_ValidarConsentimientoSolicitud] @IdSolicitud;\n",
    "\n",
    "    -- Validar caso forense si aplica\n",
    "    IF EXISTS (SELECT 1 FROM [dbo].[Solicitudes] WHERE IdSolicitud = @IdSolicitud AND EsForense = 1)\n",
    "        EXEC [dbo].[sp_ValidarCasoForense] @IdSolicitud;\n",
    "\n",
    "    -- Validar número mínimo de marcadores (24 marcadores)\n",
    "    EXEC [dbo].[sp_ValidarMinimoMarcadores] @IdSolicitud, 24;\n",
    "\n",
    "    -- Declarar variables para cálculos\n",
    "    DECLARE @CPI DECIMAL(18,6) = 1.0;\n",
    "    DECLARE @LR DECIMAL(18,6) = 1.0;\n",
    "    DECLARE @Probabilidad DECIMAL(5,2) = 95.00;\n",
    "    DECLARE @Marcadores NVARCHAR(MAX) = '[';\n",
    "    DECLARE @NumMarcadores INT = 0;\n",
    "    DECLARE @Resultado VARCHAR(100) = 'Inconcluso';\n",
    "\n",
    "    -- Obtener intervinientes asociados a los perfiles\n",
    "    DECLARE @IdInterviniente1 INT, @IdInterviniente2 INT;\n",
    "    SELECT @IdInterviniente1 = IdInterviniente FROM [dbo].[PerfilesGeneticos] WHERE IdPerfilGenetico = @IdPerfilGenetico1;\n",
    "    SELECT @IdInterviniente2 = IdInterviniente FROM [dbo].[PerfilesGeneticos] WHERE IdPerfilGenetico = @IdPerfilGenetico2;\n",
    "\n",
    "    -- Obtener marcadores genéticos para ambos intervinientes\n",
    "    DECLARE @MarcadoresTabla TABLE (\n",
    "        NombreMarcador NVARCHAR(100),\n",
    "        Alelo1_1 NVARCHAR(50),\n",
    "        Alelo2_1 NVARCHAR(50),\n",
    "        Alelo1_2 NVARCHAR(50),\n",
    "        Alelo2_2 NVARCHAR(50)\n",
    "    );\n",
    "\n",
    "    INSERT INTO @MarcadoresTabla\n",
    "    SELECT \n",
    "        mg.NombreMarcador,\n",
    "        rp1.Alelo1 AS Alelo1_1,\n",
    "        rp1.Alelo2 AS Alelo2_1,\n",
    "        rp2.Alelo1 AS Alelo1_2,\n",
    "        rp2.Alelo2 AS Alelo2_2\n",
    "    FROM [dbo].[ResultadosParentesco] rp1\n",
    "    JOIN [dbo].[ResultadosParentesco] rp2 ON rp1.IdMarcador = rp2.IdMarcador\n",
    "    JOIN [dbo].[MarcadoresGeneticos] mg ON rp1.IdMarcador = mg.IdMarcador\n",
    "    JOIN [dbo].[PeticionesLin] pl ON rp1.IdLineaPeticion = pl.IdLineaPeticion\n",
    "    JOIN [dbo].[Peticiones] p ON pl.IdPeticion = p.IdPeticion\n",
    "    WHERE rp1.IdInterviniente = @IdInterviniente1\n",
    "      AND rp2.IdInterviniente = @IdInterviniente2\n",
    "      AND p.IdSolicitud = @IdSolicitud;\n",
    "\n",
    "    -- Contar marcadores\n",
    "    SELECT @NumMarcadores = COUNT(*) FROM @MarcadoresTabla;\n",
    "\n",
    "    -- Calcular CPI y LR\n",
    "    DECLARE @Coincidencias INT = 0;\n",
    "    SELECT @Coincidencias = COUNT(*)\n",
    "    FROM @MarcadoresTabla\n",
    "    WHERE (Alelo1_1 = Alelo1_2 OR Alelo1_1 = Alelo2_2 OR Alelo2_1 = Alelo1_2 OR Alelo2_1 = Alelo2_2);\n",
    "\n",
    "    SET @CPI = POWER(10.0, @Coincidencias);\n",
    "    SET @LR = @CPI * 100;\n",
    "    IF @Coincidencias >= @NumMarcadores * 0.9\n",
    "        SET @Resultado = 'Compatible';\n",
    "    ELSE IF @Coincidencias < @NumMarcadores * 0.5\n",
    "        SET @Resultado = 'No compatible';\n",
    "\n",
    "    -- Construir lista de marcadores en JSON\n",
    "    SELECT @Marcadores = @Marcadores + '{\"Marcador\":\"' + NombreMarcador + '\",\"Alelos1\":\"' + Alelo1_1 + ',' + Alelo2_1 + '\",\"Alelos2\":\"' + Alelo1_2 + ',' + Alelo2_2 + '\"},'\n",
    "    FROM @MarcadoresTabla;\n",
    "    SET @Marcadores = LEFT(@Marcadores, LEN(@Marcadores) - 1) + ']';\n",
    "    IF @NumMarcadores = 0 SET @Marcadores = '[]';\n",
    "\n",
    "    -- Insertar en IndiceParentesco\n",
    "    INSERT INTO [dbo].[IndiceParentesco] (\n",
    "        IdSolicitud,\n",
    "        IdPerfilGenetico1,\n",
    "        IdPerfilGenetico2,\n",
    "        TipoRelacion,\n",
    "        IndiceCombinadoParentesco,\n",
    "        LikelihoodRatio,\n",
    "        ProbabilidadParentesco,\n",
    "        MarcadoresGeneticos,\n",
    "        NumeroMarcadores,\n",
    "        Resultado,\n",
    "        Observaciones,\n",
    "        FechaAnalisis,\n",
    "        IdUsuarioAnalista,\n",
    "        Estado\n",
    "    )\n",
    "    VALUES (\n",
    "        @IdSolicitud,\n",
    "        @IdPerfilGenetico1,\n",
    "        @IdPerfilGenetico2,\n",
    "        @TipoRelacion,\n",
    "        @CPI,\n",
    "        @LR,\n",
    "        @Probabilidad,\n",
    "        @Marcadores,\n",
    "        @NumMarcadores,\n",
    "        @Resultado,\n",
    "        'Cálculo basado en comparación de alelos de ResultadosParentesco',\n",
    "        GETDATE(),\n",
    "        @IdUsuarioAnalista,\n",
    "        'Activo'\n",
    "    );\n",
    "\n",
    "    SELECT SCOPE_IDENTITY() AS IdIndiceParentesco;\n",
    "END;\n",
    "GO\n"
   ]
  },
  {
   "cell_type": "markdown",
   "metadata": {
    "object_type": "StoredProcedure",
    "urn": "Server[@Name='Windows10-Pepe']/Database[@Name='CEFEGEN']/StoredProcedure[@Name='sp_CalcularPrecioPrueba' and @Schema='dbo']"
   },
   "source": [
    "# [dbo].[sp_CalcularPrecioPrueba]"
   ]
  },
  {
   "cell_type": "code",
   "execution_count": 0,
   "metadata": {
    "object_type": "StoredProcedure",
    "urn": "Server[@Name='Windows10-Pepe']/Database[@Name='CEFEGEN']/StoredProcedure[@Name='sp_CalcularPrecioPrueba' and @Schema='dbo']"
   },
   "outputs": [],
   "source": [
    "/****** Object:  StoredProcedure [dbo].[sp_CalcularPrecioPrueba]    Script Date: 20/06/2025 18:08:56 ******/\n",
    "SET ANSI_NULLS ON\n",
    "GO\n",
    "SET QUOTED_IDENTIFIER ON\n",
    "GO\n",
    "\n",
    "CREATE PROCEDURE [dbo].[sp_CalcularPrecioPrueba]\n",
    "    @IdTipoPruebaConsumo INT,\n",
    "    @IdTipoMuestra INT,\n",
    "    @NumMuestras INT,\n",
    "    @NumIntervinientes INT,\n",
    "    @EsLegal BIT,\n",
    "    @EsColaborador BIT,\n",
    "    @IdPlazoEntrega INT,\n",
    "    @PrecioTotal DECIMAL(10,2) OUTPUT,\n",
    "    @IdConfiguracion INT OUTPUT,\n",
    "    @MensajeError NVARCHAR(500) OUTPUT\n",
    "AS\n",
    "BEGIN\n",
    "    SET NOCOUNT ON;\n",
    "\n",
    "    -- Inicializar variables\n",
    "    SET @PrecioTotal = 0;\n",
    "    SET @IdConfiguracion = NULL;\n",
    "    SET @MensajeError = NULL;\n",
    "\n",
    "    BEGIN TRY\n",
    "        -- Validar parámetros de entrada\n",
    "        IF @IdTipoPruebaConsumo <= 0\n",
    "            THROW 50001, 'El IdTipoPruebaConsumo debe ser mayor que cero.', 1;\n",
    "        IF @IdTipoMuestra <= 0\n",
    "            THROW 50002, 'El IdTipoMuestra debe ser mayor que cero.', 1;\n",
    "        IF @NumMuestras < 0\n",
    "            THROW 50003, 'El número de muestras no puede ser negativo.', 1;\n",
    "        IF @NumIntervinientes < 0\n",
    "            THROW 50004, 'El número de intervinientes no puede ser negativo.', 1;\n",
    "        IF @IdPlazoEntrega <= 0\n",
    "            THROW 50005, 'El IdPlazoEntrega debe ser mayor que cero.', 1;\n",
    "\n",
    "        -- Verificar existencia de tipo de prueba\n",
    "        IF NOT EXISTS (SELECT 1 FROM [dbo].[TiposPruebasConsumo] WHERE IdTipoPruebaConsumo = @IdTipoPruebaConsumo AND Activo = 1)\n",
    "            THROW 50006, 'El tipo de prueba especificado no existe o no está activo.', 1;\n",
    "\n",
    "        -- Verificar existencia de tipo de muestra\n",
    "        IF NOT EXISTS (SELECT 1 FROM [dbo].[TiposMuestra] WHERE IdTipoMuestra = @IdTipoMuestra)\n",
    "            THROW 50007, 'El tipo de muestra especificado no existe.', 1;\n",
    "\n",
    "        -- Verificar existencia de plazo de entrega\n",
    "        IF NOT EXISTS (SELECT 1 FROM [dbo].[PlazosEntrega] WHERE IdPlazoEntrega = @IdPlazoEntrega)\n",
    "            THROW 50008, 'El plazo de entrega especificado no existe.', 1;\n",
    "\n",
    "        -- Declarar variables para cálculos\n",
    "        DECLARE \n",
    "            @PrecioBase DECIMAL(10,2) = 0,\n",
    "            @PrecioPorInterviniente DECIMAL(10,2) = 0,\n",
    "            @PrecioPorMuestra DECIMAL(10,2) = 0,\n",
    "            @CosteFijoMuestra DECIMAL(10,2) = 0,\n",
    "            @IncrementoPlazo DECIMAL(10,2) = 0,\n",
    "            @IncrementoIntervinientes DECIMAL(10,2) = 0,\n",
    "            @PorcentajeLegal DECIMAL(5,2) = 0,\n",
    "            @PorcentajeColaborador DECIMAL(5,2) = 0,\n",
    "            @PorcentajeMuestraLegal DECIMAL(5,2) = 0,\n",
    "            @IdRegla INT = NULL;\n",
    "\n",
    "        -- Obtener configuración de precio\n",
    "        SELECT TOP 1\n",
    "            @PrecioBase = ISNULL(cp.PrecioBase, 0),\n",
    "            @IdRegla = cp.IdRegla,\n",
    "            @IdConfiguracion = cp.IdConfiguracion\n",
    "        FROM [dbo].[ConfiguracionesPrecio] cp\n",
    "        WHERE cp.IdTiposPruebasConsumo = @IdTipoPruebaConsumo\n",
    "          AND cp.EsLegal = @EsLegal\n",
    "          AND cp.EsColaborador = @EsColaborador;\n",
    "\n",
    "        IF @IdConfiguracion IS NULL\n",
    "        BEGIN\n",
    "            SET @MensajeError = 'No se encontró configuración de precio para los parámetros especificados.';\n",
    "            RETURN;\n",
    "        END\n",
    "\n",
    "        -- Obtener reglas de incremento\n",
    "        SELECT \n",
    "            @PorcentajeLegal = ISNULL(PorcentajeIntervinienteLegal, 0),\n",
    "            @PorcentajeMuestraLegal = ISNULL(PorcentajeMuestraLegal, 0),\n",
    "            @PorcentajeColaborador = ISNULL(PorcentajeColaborador, 0)\n",
    "        FROM [dbo].[ReglasIncrementoPrecio]\n",
    "        WHERE IdRegla = @IdRegla;\n",
    "\n",
    "        -- Obtener precios base por interviniente y muestra\n",
    "        SELECT TOP 1\n",
    "            @PrecioPorInterviniente = ISNULL(PrecioPorInterviniente, 0),\n",
    "            @PrecioPorMuestra = ISNULL(PrecioPorMuestra, 0)\n",
    "        FROM [dbo].[TarifasBase];\n",
    "\n",
    "        -- Obtener coste fijo de la muestra\n",
    "        SELECT @CosteFijoMuestra = ISNULL(CosteFijo, 0)\n",
    "        FROM [dbo].[TiposMuestra]\n",
    "        WHERE IdTipoMuestra = @IdTipoMuestra;\n",
    "\n",
    "        -- Obtener incremento por plazo de entrega\n",
    "        SELECT @IncrementoPlazo = ISNULL(IncrementoFijo, 0)\n",
    "        FROM [dbo].[PlazosEntrega]\n",
    "        WHERE IdPlazoEntrega = @IdPlazoEntrega;\n",
    "\n",
    "        -- Obtener incremento por número de intervinientes\n",
    "        SELECT @IncrementoIntervinientes = ISNULL(IncrementoFijo, 0)\n",
    "        FROM [dbo].[IncrementosIntervinientes]\n",
    "        WHERE NumIntervinientes = @NumIntervinientes;\n",
    "\n",
    "        -- Calcular precio base\n",
    "        SET @PrecioTotal = \n",
    "            @PrecioBase +\n",
    "            (@NumIntervinientes * @PrecioPorInterviniente) +\n",
    "            (@NumMuestras * (@PrecioPorMuestra + @CosteFijoMuestra)) +\n",
    "            @IncrementoPlazo +\n",
    "            @IncrementoIntervinientes;\n",
    "\n",
    "        -- Aplicar incrementos por legalidad\n",
    "        IF @EsLegal = 1\n",
    "        BEGIN\n",
    "            SET @PrecioTotal += (@PrecioTotal * @PorcentajeLegal / 100.0);\n",
    "            SET @PrecioTotal += (@NumMuestras * @PrecioPorMuestra * @PorcentajeMuestraLegal / 100.0);\n",
    "        END\n",
    "\n",
    "        -- Aplicar incremento por colaborador\n",
    "        IF @EsColaborador = 1\n",
    "            SET @PrecioTotal += (@PrecioTotal * @PorcentajeColaborador / 100.0);\n",
    "\n",
    "        -- Redondear el precio total\n",
    "        SET @PrecioTotal = ROUND(@PrecioTotal, 2);\n",
    "\n",
    "        -- Actualizar caché de precios\n",
    "        IF EXISTS (SELECT 1 FROM [dbo].[PrecioCache] WHERE IdTiposPruebasConsumo = @IdTipoPruebaConsumo AND EsLegal = @EsLegal AND EsColaborador = @EsColaborador)\n",
    "        BEGIN\n",
    "            UPDATE [dbo].[PrecioCache]\n",
    "            SET PrecioBase = @PrecioTotal,\n",
    "                FechaActualizacion = GETDATE()\n",
    "            WHERE IdTiposPruebasConsumo = @IdTipoPruebaConsumo\n",
    "              AND EsLegal = @EsLegal\n",
    "              AND EsColaborador = @EsColaborador;\n",
    "        END\n",
    "        ELSE\n",
    "        BEGIN\n",
    "            INSERT INTO [dbo].[PrecioCache] (\n",
    "                IdTiposPruebasConsumo, EsLegal, EsColaborador, PrecioBase, IdRegla, FechaActualizacion\n",
    "            )\n",
    "            VALUES (\n",
    "                @IdTipoPruebaConsumo, @EsLegal, @EsColaborador, @PrecioTotal, @IdRegla, GETDATE()\n",
    "            );\n",
    "        END\n",
    "    END TRY\n",
    "    BEGIN CATCH\n",
    "        SET @MensajeError = ERROR_MESSAGE();\n",
    "        SET @PrecioTotal = 0;\n",
    "        SET @IdConfiguracion = NULL;\n",
    "    END CATCH\n",
    "END;\n",
    "GO\n"
   ]
  },
  {
   "cell_type": "markdown",
   "metadata": {
    "object_type": "StoredProcedure",
    "urn": "Server[@Name='Windows10-Pepe']/Database[@Name='CEFEGEN']/StoredProcedure[@Name='sp_CalcularPrecioPruebaCorrecto' and @Schema='dbo']"
   },
   "source": [
    "# [dbo].[sp_CalcularPrecioPruebaCorrecto]"
   ]
  },
  {
   "cell_type": "code",
   "execution_count": 0,
   "metadata": {
    "object_type": "StoredProcedure",
    "urn": "Server[@Name='Windows10-Pepe']/Database[@Name='CEFEGEN']/StoredProcedure[@Name='sp_CalcularPrecioPruebaCorrecto' and @Schema='dbo']"
   },
   "outputs": [],
   "source": [
    "/****** Object:  StoredProcedure [dbo].[sp_CalcularPrecioPruebaCorrecto]    Script Date: 20/06/2025 18:08:56 ******/\n",
    "SET ANSI_NULLS ON\n",
    "GO\n",
    "SET QUOTED_IDENTIFIER ON\n",
    "GO\n",
    "\n",
    "CREATE PROCEDURE [dbo].[sp_CalcularPrecioPruebaCorrecto]\n",
    "    @IdTipoPruebaConsumo INT,\n",
    "    @IdTipoMuestra INT,\n",
    "    @NumMuestras INT,\n",
    "    @NumIntervinientes INT,\n",
    "    @EsLegal BIT,\n",
    "    @EsColaborador BIT,\n",
    "    @IdPlazoEntrega INT,\n",
    "    @PrecioTotal DECIMAL(10,2) OUTPUT,\n",
    "    @IdConfiguracion INT OUTPUT,\n",
    "    @MensajeError NVARCHAR(500) OUTPUT\n",
    "AS\n",
    "BEGIN\n",
    "    SET NOCOUNT ON;\n",
    "\n",
    "    -- Inicializar variables\n",
    "    SET @PrecioTotal = 0;\n",
    "    SET @IdConfiguracion = NULL;\n",
    "    SET @MensajeError = NULL;\n",
    "\n",
    "    BEGIN TRY\n",
    "        -- Validar parámetros de entrada\n",
    "        IF @IdTipoPruebaConsumo <= 0\n",
    "            THROW 50001, 'El IdTipoPruebaConsumo debe ser mayor que cero.', 1;\n",
    "        IF @IdTipoMuestra <= 0\n",
    "            THROW 50002, 'El IdTipoMuestra debe ser mayor que cero.', 1;\n",
    "        IF @NumMuestras < 0\n",
    "            THROW 50003, 'El número de muestras no puede ser negativo.', 1;\n",
    "        IF @NumIntervinientes < 0\n",
    "            THROW 50004, 'El número de intervinientes no puede ser negativo.', 1;\n",
    "        IF @IdPlazoEntrega <= 0\n",
    "            THROW 50005, 'El IdPlazoEntrega debe ser mayor que cero.', 1;\n",
    "        IF @NumMuestras < @NumIntervinientes\n",
    "            THROW 50006, 'El número de muestras debe ser al menos igual al número de intervinientes.', 1;\n",
    "\n",
    "        -- Verificar existencia de tipo de prueba\n",
    "        IF NOT EXISTS (SELECT 1 FROM [dbo].[TiposPruebasConsumo] WHERE IdTipoPruebaConsumo = @IdTipoPruebaConsumo AND Activo = 1)\n",
    "            THROW 50007, 'El tipo de prueba especificado no existe o no está activo.', 1;\n",
    "\n",
    "        -- Verificar existencia de tipo de muestra\n",
    "        IF NOT EXISTS (SELECT 1 FROM [dbo].[TiposMuestra] WHERE IdTipoMuestra = @IdTipoMuestra)\n",
    "            THROW 50008, 'El tipo de muestra especificado no existe.', 1;\n",
    "\n",
    "        -- Verificar existencia de plazo de entrega\n",
    "        IF NOT EXISTS (SELECT 1 FROM [dbo].[PlazosEntrega] WHERE IdPlazoEntrega = @IdPlazoEntrega)\n",
    "            THROW 50009, 'El plazo de entrega especificado no existe.', 1;\n",
    "\n",
    "        -- Declarar variables para cálculos\n",
    "        DECLARE \n",
    "            @PrecioBase DECIMAL(10,2) = 0,\n",
    "            @PrecioPorInterviniente DECIMAL(10,2) = 0,\n",
    "            @CosteFijoMuestra DECIMAL(10,2) = 0,\n",
    "            @IncrementoPlazo DECIMAL(10,2) = 0,\n",
    "            @IncrementoIntervinientes DECIMAL(10,2) = 0,\n",
    "            @PorcentajeLegal DECIMAL(5,2) = 0,\n",
    "            @PorcentajeMuestraLegal DECIMAL(5,2) = 0,\n",
    "            @PorcentajeColaborador DECIMAL(5,2) = 0,\n",
    "            @IdRegla INT = NULL,\n",
    "            @NumMuestrasExtras INT = 0;\n",
    "\n",
    "        -- Obtener configuración de precio\n",
    "        SELECT TOP 1\n",
    "            @PrecioBase = ISNULL(cp.PrecioBase, 0),\n",
    "            @IdRegla = cp.IdRegla,\n",
    "            @IdConfiguracion = cp.IdConfiguracion\n",
    "        FROM [dbo].[ConfiguracionesPrecio] cp\n",
    "        WHERE cp.IdTiposPruebasConsumo = @IdTipoPruebaConsumo\n",
    "          AND cp.EsLegal = @EsLegal\n",
    "          AND cp.EsColaborador = @EsColaborador;\n",
    "\n",
    "        IF @IdConfiguracion IS NULL\n",
    "        BEGIN\n",
    "            SET @MensajeError = 'No se encontró configuración de precio para los parámetros especificados.';\n",
    "            SET @PrecioTotal = 0;\n",
    "            RETURN;\n",
    "        END\n",
    "\n",
    "        -- Obtener reglas de incremento\n",
    "        SELECT \n",
    "            @PorcentajeLegal = ISNULL(PorcentajeIntervinienteLegal, 0),\n",
    "            @PorcentajeMuestraLegal = ISNULL(PorcentajeMuestraLegal, 0),\n",
    "            @PorcentajeColaborador = ISNULL(PorcentajeColaborador, 0)\n",
    "        FROM [dbo].[ReglasIncrementoPrecio]\n",
    "        WHERE IdRegla = @IdRegla;\n",
    "\n",
    "        -- Obtener precio por interviniente según legalidad\n",
    "        SELECT TOP 1\n",
    "            @PrecioPorInterviniente = ISNULL(PrecioPorInterviniente, 0)\n",
    "        FROM [dbo].[TarifasBase]\n",
    "        WHERE IdTarifa = CASE WHEN @EsLegal = 1 THEN 2 ELSE 1 END;\n",
    "\n",
    "        -- Obtener coste fijo de la muestra\n",
    "        SELECT @CosteFijoMuestra = ISNULL(CosteFijo, 0)\n",
    "        FROM [dbo].[TiposMuestra]\n",
    "        WHERE IdTipoMuestra = @IdTipoMuestra;\n",
    "\n",
    "        -- Obtener incremento por plazo de entrega\n",
    "        SELECT @IncrementoPlazo = ISNULL(IncrementoFijo, 0)\n",
    "        FROM [dbo].[PlazosEntrega]\n",
    "        WHERE IdPlazoEntrega = @IdPlazoEntrega;\n",
    "\n",
    "        -- Obtener incremento por número de intervinientes\n",
    "        SELECT @IncrementoIntervinientes = ISNULL(IncrementoFijo, 0)\n",
    "        FROM [dbo].[IncrementosIntervinientes]\n",
    "        WHERE NumIntervinientes = @NumIntervinientes;\n",
    "\n",
    "        -- Determinar muestras extras\n",
    "        SET @NumMuestrasExtras = @NumMuestras - @NumIntervinientes;\n",
    "        IF @NumMuestrasExtras < 0 SET @NumMuestrasExtras = 0;\n",
    "\n",
    "        -- Calcular precio base\n",
    "        SET @PrecioTotal = \n",
    "            @PrecioBase +\n",
    "            (@NumIntervinientes * @PrecioPorInterviniente) +\n",
    "            (@NumMuestrasExtras * @CosteFijoMuestra) +\n",
    "            @IncrementoPlazo +\n",
    "            @IncrementoIntervinientes;\n",
    "\n",
    "        -- Aplicar incrementos por legalidad\n",
    "        IF @EsLegal = 1\n",
    "        BEGIN\n",
    "            SET @PrecioTotal += (@PrecioTotal * @PorcentajeLegal / 100.0);\n",
    "            IF @NumMuestrasExtras > 0\n",
    "                SET @PrecioTotal += (@NumMuestrasExtras * @CosteFijoMuestra * @PorcentajeMuestraLegal / 100.0);\n",
    "        END\n",
    "\n",
    "        -- Aplicar incremento por colaborador\n",
    "        IF @EsColaborador = 1\n",
    "            SET @PrecioTotal += (@PrecioTotal * @PorcentajeColaborador / 100.0);\n",
    "\n",
    "        -- Redondear el precio total\n",
    "        SET @PrecioTotal = ROUND(@PrecioTotal, 2);\n",
    "\n",
    "        -- Actualizar caché de precios\n",
    "        IF EXISTS (SELECT 1 FROM [dbo].[PrecioCache] WHERE IdTiposPruebasConsumo = @IdTipoPruebaConsumo AND EsLegal = @EsLegal AND EsColaborador = @EsColaborador)\n",
    "        BEGIN\n",
    "            UPDATE [dbo].[PrecioCache]\n",
    "            SET PrecioBase = @PrecioTotal,\n",
    "                FechaActualizacion = GETDATE()\n",
    "            WHERE IdTiposPruebasConsumo = @IdTipoPruebaConsumo\n",
    "              AND EsLegal = @EsLegal\n",
    "              AND EsColaborador = @EsColaborador;\n",
    "        END\n",
    "        ELSE\n",
    "        BEGIN\n",
    "            INSERT INTO [dbo].[PrecioCache] (\n",
    "                IdTiposPruebasConsumo, EsLegal, EsColaborador, PrecioBase, IdRegla, FechaActualizacion\n",
    "            )\n",
    "            VALUES (\n",
    "                @IdTipoPruebaConsumo, @EsLegal, @EsColaborador, @PrecioTotal, @IdRegla, GETDATE()\n",
    "            );\n",
    "        END\n",
    "    END TRY\n",
    "    BEGIN CATCH\n",
    "        SET @MensajeError = ERROR_MESSAGE();\n",
    "        SET @PrecioTotal = 0;\n",
    "        SET @IdConfiguracion = NULL;\n",
    "    END CATCH\n",
    "END;\n",
    "GO\n"
   ]
  },
  {
   "cell_type": "markdown",
   "metadata": {
    "object_type": "StoredProcedure",
    "urn": "Server[@Name='Windows10-Pepe']/Database[@Name='CEFEGEN']/StoredProcedure[@Name='sp_CalcularPrecioTotal' and @Schema='dbo']"
   },
   "source": [
    "# [dbo].[sp_CalcularPrecioTotal]"
   ]
  },
  {
   "cell_type": "markdown",
   "metadata": {},
   "source": [
    "#### Stored Procedure: sp_CalcularPrecioTotal\n",
    "**Purpose**: Calculates total price for a test based on multiple factors.\n",
    "**Parameters**:\n",
    "- `@IdTiposPruebasConsumo` (int): Consumed test type ID.\n",
    "- `@EsLegal` (bit): Legal test flag.\n",
    "- `@EsColaborador` (bit): Collaborator flag.\n",
    "- `@IdTipoMuestra` (int): Sample type ID.\n",
    "- `@IdPlazoEntrega` (int): Delivery deadline ID.\n",
    "- `@NumIntervinientes` (int): Number of participants.\n",
    "- `@NumMuestras` (int): Number of samples.\n",
    "- `@IdPeticion` (int, NULL): Petition ID for sample validation.\n",
    "**RFP Alignment**:\n",
    "  - Supports dynamic pricing for requests.\n",
    "- **Implementation Advice**:\n",
    "  - Use with `POST /api/solicitudes` to display prices during request creation.\n",
    "  - Cache results in `PrecioCache` for performance.\n",
    "**Logic**: Calculates price using `ConfiguracionesPrecio`, `ReglasIncrementoPrecio`, `TarifasBase`, and `Muestras` (lines 754–811).\n",
    "**Notes**: Requires adding `PrecioBase`, `Activo` to `TiposPruebasConsumo`; `CosteFijo` to `TiposMuestra`; and fields to `ReglasIncrementoPrecio` and `TarifasBase`."
   ]
  },
  {
   "cell_type": "code",
   "execution_count": 0,
   "metadata": {
    "object_type": "StoredProcedure",
    "urn": "Server[@Name='Windows10-Pepe']/Database[@Name='CEFEGEN']/StoredProcedure[@Name='sp_CalcularPrecioTotal' and @Schema='dbo']"
   },
   "outputs": [],
   "source": [
    "/****** Object:  StoredProcedure [dbo].[sp_CalcularPrecioTotal]    Script Date: 20/06/2025 18:08:56 ******/\n",
    "SET ANSI_NULLS ON\n",
    "GO\n",
    "SET QUOTED_IDENTIFIER ON\n",
    "GO\n",
    "\n",
    "CREATE   PROCEDURE [dbo].[sp_CalcularPrecioTotal]\n",
    "    @IdTiposPruebasConsumo INT,\n",
    "    @EsLegal BIT,\n",
    "    @EsColaborador BIT,\n",
    "    @IdTipoMuestra INT,\n",
    "    @IdPlazoEntrega INT,\n",
    "    @NumIntervinientes INT,\n",
    "    @NumMuestras INT,\n",
    "    @IdPeticion INT = NULL\n",
    "AS\n",
    "BEGIN\n",
    "    SET NOCOUNT ON;\n",
    "\n",
    "    DECLARE \n",
    "        @PrecioBase DECIMAL(10,2) = 0,\n",
    "        @PrecioPorInterviniente DECIMAL(10,2) = 0,\n",
    "        @PrecioPorMuestra DECIMAL(10,2) = 0,\n",
    "        @IncrementoPlazo DECIMAL(10,2) = 0,\n",
    "        @CosteMuestra DECIMAL(10,2) = 0,\n",
    "        @PorcentajeLegal DECIMAL(5,2) = 0,\n",
    "        @PorcentajeColaborador DECIMAL(5,2) = 0,\n",
    "        @IdRegla INT = NULL,\n",
    "        @Total DECIMAL(10,2) = 0,\n",
    "        @MuestrasConCoste INT = 0;\n",
    "\n",
    "    -- Obtener configuración de precio base y regla\n",
    "    SELECT TOP 1\n",
    "        @PrecioBase = ISNULL(cp.PrecioBase, 0),\n",
    "        @IdRegla = cp.IdRegla\n",
    "    FROM ConfiguracionesPrecio cp\n",
    "    WHERE cp.IdTiposPruebasConsumo = @IdTiposPruebasConsumo\n",
    "      AND cp.EsLegal = @EsLegal\n",
    "      AND cp.EsColaborador = @EsColaborador;\n",
    "\n",
    "    -- Obtener los porcentajes de incremento de la regla\n",
    "    SELECT \n",
    "        @PorcentajeLegal = ISNULL(PorcentajeIntervinienteLegal, 0),\n",
    "        @PorcentajeColaborador = ISNULL(PorcentajeColaborador, 0)\n",
    "    FROM ReglasIncrementoPrecio\n",
    "    WHERE IdRegla = @IdRegla;\n",
    "\n",
    "    -- Obtener precios estándar por muestra e interviniente\n",
    "    SELECT TOP 1\n",
    "        @PrecioPorMuestra = ISNULL(PrecioPorMuestra, 0),\n",
    "        @PrecioPorInterviniente = ISNULL(PrecioPorInterviniente, 0)\n",
    "    FROM TarifasBase;\n",
    "\n",
    "    -- Obtener el coste fijo del tipo de muestra\n",
    "    SELECT @CosteMuestra = ISNULL(CosteFijo, 0)\n",
    "    FROM TiposMuestra\n",
    "    WHERE IdTipoMuestra = @IdTipoMuestra;\n",
    "\n",
    "    -- Obtener el incremento por el plazo de entrega\n",
    "    SELECT @IncrementoPlazo = ISNULL(IncrementoFijo, 0)\n",
    "    FROM PlazosEntrega\n",
    "    WHERE IdPlazoEntrega = @IdPlazoEntrega;\n",
    "\n",
    "    -- Calcular muestras con coste\n",
    "    IF @IdPeticion IS NOT NULL\n",
    "    BEGIN\n",
    "        -- Consultar intentos por interviniente\n",
    "        DECLARE @Muestras TABLE (IdInterviniente INT, Intentos INT, Valida BIT);\n",
    "        INSERT INTO @Muestras\n",
    "        SELECT IdInterviniente, Intentos, Valida\n",
    "        FROM Muestras\n",
    "        WHERE IdPeticion = @IdPeticion;\n",
    "\n",
    "        -- Usar CTE para calcular costos por muestra\n",
    "        WITH MuestrasCosto AS (\n",
    "            SELECT \n",
    "                m.IdInterviniente,\n",
    "                m.Intentos,\n",
    "                m.Valida,\n",
    "                CASE \n",
    "                    WHEN m.Intentos = 1 AND m.Valida = 1 THEN 1\n",
    "                    WHEN m.Intentos = 2 AND m.Valida = 1 AND \n",
    "                         EXISTS (SELECT 1 FROM @Muestras m2 \n",
    "                                 WHERE m2.IdInterviniente = m.IdInterviniente \n",
    "                                 AND m2.Intentos = 1 AND m2.Valida = 0) THEN 0\n",
    "                    WHEN m.Intentos >= 3 AND m.Valida = 1 THEN 1\n",
    "                    ELSE 0\n",
    "                END AS TieneCosto\n",
    "            FROM @Muestras m\n",
    "        )\n",
    "        SELECT @MuestrasConCoste = SUM(TieneCosto)\n",
    "        FROM MuestrasCosto;\n",
    "    END\n",
    "    ELSE\n",
    "    BEGIN\n",
    "        -- Estimación: asumir una muestra válida por interviniente\n",
    "        SET @MuestrasConCoste = @NumIntervinientes;\n",
    "    END\n",
    "\n",
    "    -- Calcular subtotal\n",
    "    SET @Total = \n",
    "        @PrecioBase +\n",
    "        (@NumIntervinientes * @PrecioPorInterviniente) +\n",
    "        (@MuestrasConCoste * (@PrecioPorMuestra + @CosteMuestra)) +\n",
    "        @IncrementoPlazo;\n",
    "\n",
    "    -- Aplicar incrementos por legalidad y colaboración\n",
    "    IF @EsLegal = 1\n",
    "        SET @Total += (@Total * @PorcentajeLegal / 100.0);\n",
    "\n",
    "    IF @EsColaborador = 1\n",
    "        SET @Total += (@Total * @PorcentajeColaborador / 100.0);\n",
    "\n",
    "    SELECT @Total AS PrecioTotal;\n",
    "END;\n",
    "GO\n"
   ]
  },
  {
   "cell_type": "markdown",
   "metadata": {
    "object_type": "StoredProcedure",
    "urn": "Server[@Name='Windows10-Pepe']/Database[@Name='CEFEGEN']/StoredProcedure[@Name='sp_CalcularPrecioTotal_Debug' and @Schema='dbo']"
   },
   "source": [
    "# [dbo].[sp_CalcularPrecioTotal_Debug]"
   ]
  },
  {
   "cell_type": "code",
   "execution_count": 0,
   "metadata": {
    "object_type": "StoredProcedure",
    "urn": "Server[@Name='Windows10-Pepe']/Database[@Name='CEFEGEN']/StoredProcedure[@Name='sp_CalcularPrecioTotal_Debug' and @Schema='dbo']"
   },
   "outputs": [],
   "source": [
    "/****** Object:  StoredProcedure [dbo].[sp_CalcularPrecioTotal_Debug]    Script Date: 20/06/2025 18:08:56 ******/\n",
    "SET ANSI_NULLS ON\n",
    "GO\n",
    "SET QUOTED_IDENTIFIER ON\n",
    "GO\n",
    "CREATE   PROCEDURE [dbo].[sp_CalcularPrecioTotal_Debug]\n",
    "    @IdTiposPruebasConsumo INT,\n",
    "    @EsLegal BIT,\n",
    "    @EsColaborador BIT,\n",
    "    @IdTipoMuestra INT,\n",
    "    @IdPlazoEntrega INT,\n",
    "    @NumIntervinientes INT,\n",
    "    @NumMuestras INT\n",
    "AS\n",
    "BEGIN\n",
    "    SET NOCOUNT ON;\n",
    "\n",
    "    DECLARE \n",
    "        @PrecioBase DECIMAL(10,2) = 0,\n",
    "        @PrecioPorInterviniente DECIMAL(10,2) = 0,\n",
    "        @PrecioPorMuestra DECIMAL(10,2) = 0,\n",
    "        @IncrementoPlazo DECIMAL(10,2) = 0,\n",
    "        @CosteMuestra DECIMAL(10,2) = 0,\n",
    "        @PorcentajeLegal DECIMAL(5,2) = 0,\n",
    "        @PorcentajeColaborador DECIMAL(5,2) = 0,\n",
    "        @IdRegla INT = NULL,\n",
    "        @Subtotal DECIMAL(10,2) = 0,\n",
    "        @Total DECIMAL(10,2) = 0;\n",
    "\n",
    "    -- Obtener configuración\n",
    "    SELECT TOP 1\n",
    "        @PrecioBase = ISNULL(cp.PrecioBase, 0),\n",
    "        @IdRegla = cp.IdRegla\n",
    "    FROM ConfiguracionesPrecio cp\n",
    "    WHERE cp.IdTiposPruebasConsumo = @IdTiposPruebasConsumo\n",
    "      AND cp.EsLegal = @EsLegal\n",
    "      AND cp.EsColaborador = @EsColaborador;\n",
    "\n",
    "    -- Regla de incremento\n",
    "    SELECT \n",
    "        @PorcentajeLegal = ISNULL(PorcentajeIntervinienteLegal, 0),\n",
    "        @PorcentajeColaborador = ISNULL(PorcentajeColaborador, 0)\n",
    "    FROM ReglasIncrementoPrecio\n",
    "    WHERE IdRegla = @IdRegla;\n",
    "\n",
    "    -- Precios estándar\n",
    "    SELECT TOP 1\n",
    "        @PrecioPorMuestra = ISNULL(PrecioPorMuestra, 0),\n",
    "        @PrecioPorInterviniente = ISNULL(PrecioPorInterviniente, 0)\n",
    "    FROM TarifasBase;\n",
    "\n",
    "    -- Coste muestra\n",
    "    SELECT @CosteMuestra = ISNULL(CosteFijo, 0)\n",
    "    FROM TiposMuestra\n",
    "    WHERE IdTipoMuestra = @IdTipoMuestra;\n",
    "\n",
    "    -- Incremento por plazo\n",
    "    SELECT @IncrementoPlazo = ISNULL(IncrementoFijo, 0)\n",
    "    FROM PlazosEntrega\n",
    "    WHERE IdPlazoEntrega = @IdPlazoEntrega;\n",
    "\n",
    "    -- Mostrar valores intermedios\n",
    "    SELECT \n",
    "        @PrecioBase AS PrecioBase,\n",
    "        @PrecioPorInterviniente AS PrecioPorInterviniente,\n",
    "        @PrecioPorMuestra AS PrecioPorMuestra,\n",
    "        @CosteMuestra AS CosteFijoMuestra,\n",
    "        @IncrementoPlazo AS IncrementoPlazo,\n",
    "        @PorcentajeLegal AS PorcentajeLegal,\n",
    "        @PorcentajeColaborador AS PorcentajeColaborador;\n",
    "\n",
    "    -- Calcular subtotal\n",
    "    SET @Subtotal = \n",
    "        @PrecioBase +\n",
    "        (@NumIntervinientes * @PrecioPorInterviniente) +\n",
    "        (@NumMuestras * (@PrecioPorMuestra + @CosteMuestra)) +\n",
    "        @IncrementoPlazo;\n",
    "\n",
    "    -- Mostrar subtotal\n",
    "    SELECT @Subtotal AS SubtotalAntesDeIncrementos;\n",
    "\n",
    "    -- Aplicar incrementos\n",
    "    SET @Total = @Subtotal;\n",
    "\n",
    "    IF @EsLegal = 1\n",
    "        SET @Total += (@Subtotal * @PorcentajeLegal / 100.0);\n",
    "\n",
    "    IF @EsColaborador = 1\n",
    "        SET @Total += (@Subtotal * @PorcentajeColaborador / 100.0);\n",
    "\n",
    "    -- Resultado final\n",
    "    SELECT @Total AS PrecioTotalFinal;\n",
    "END;\n",
    "GO\n"
   ]
  },
  {
   "cell_type": "markdown",
   "metadata": {
    "object_type": "StoredProcedure",
    "urn": "Server[@Name='Windows10-Pepe']/Database[@Name='CEFEGEN']/StoredProcedure[@Name='sp_CalcularPrecioTotal_Debug_Variables' and @Schema='dbo']"
   },
   "source": [
    "# [dbo].[sp_CalcularPrecioTotal_Debug_Variables]"
   ]
  },
  {
   "cell_type": "code",
   "execution_count": 0,
   "metadata": {
    "object_type": "StoredProcedure",
    "urn": "Server[@Name='Windows10-Pepe']/Database[@Name='CEFEGEN']/StoredProcedure[@Name='sp_CalcularPrecioTotal_Debug_Variables' and @Schema='dbo']"
   },
   "outputs": [],
   "source": [
    "/****** Object:  StoredProcedure [dbo].[sp_CalcularPrecioTotal_Debug_Variables]    Script Date: 20/06/2025 18:08:56 ******/\n",
    "SET ANSI_NULLS ON\n",
    "GO\n",
    "SET QUOTED_IDENTIFIER ON\n",
    "GO\n",
    "CREATE   PROCEDURE [dbo].[sp_CalcularPrecioTotal_Debug_Variables]\n",
    "    @IdTiposPruebasConsumo INT,\n",
    "    @EsLegal BIT,\n",
    "    @EsColaborador BIT,\n",
    "    @IdTipoMuestra INT,\n",
    "    @IdPlazoEntrega INT,\n",
    "    @NumIntervinientes INT,\n",
    "    @NumMuestras INT\n",
    "AS\n",
    "BEGIN\n",
    "    SET NOCOUNT ON;\n",
    "\n",
    "    DECLARE \n",
    "        @PrecioBase DECIMAL(10,2) = 0,\n",
    "        @PrecioPorInterviniente DECIMAL(10,2) = 0,\n",
    "        @PrecioPorMuestra DECIMAL(10,2) = 0,\n",
    "        @IncrementoPlazo DECIMAL(10,2) = 0,\n",
    "        @CosteMuestra DECIMAL(10,2) = 0,\n",
    "        @PorcentajeLegal DECIMAL(5,2) = 0,\n",
    "        @PorcentajeColaborador DECIMAL(5,2) = 0,\n",
    "        @IdRegla INT = NULL,\n",
    "        @Subtotal DECIMAL(10,2) = 0,\n",
    "        @Total DECIMAL(10,2) = 0;\n",
    "\n",
    "    -- Obtener configuración de precio base y regla\n",
    "    SELECT TOP 1\n",
    "        @PrecioBase = ISNULL(cp.PrecioBase, 0),\n",
    "        @IdRegla = cp.IdRegla\n",
    "    FROM ConfiguracionesPrecio cp\n",
    "    WHERE cp.IdTiposPruebasConsumo = @IdTiposPruebasConsumo\n",
    "      AND cp.EsLegal = @EsLegal\n",
    "      AND cp.EsColaborador = @EsColaborador;\n",
    "\n",
    "    -- Obtener regla de incremento\n",
    "    SELECT \n",
    "        @PorcentajeLegal = ISNULL(PorcentajeIntervinienteLegal, 0),\n",
    "        @PorcentajeColaborador = ISNULL(PorcentajeColaborador, 0)\n",
    "    FROM ReglasIncrementoPrecio\n",
    "    WHERE IdRegla = @IdRegla;\n",
    "\n",
    "    -- Obtener precios por muestra e interviniente\n",
    "    SELECT TOP 1\n",
    "        @PrecioPorMuestra = ISNULL(PrecioPorMuestra, 0),\n",
    "        @PrecioPorInterviniente = ISNULL(PrecioPorInterviniente, 0)\n",
    "    FROM TarifasBase;\n",
    "\n",
    "    -- Obtener coste de tipo de muestra\n",
    "    SELECT @CosteMuestra = ISNULL(CosteFijo, 0)\n",
    "    FROM TiposMuestra\n",
    "    WHERE IdTipoMuestra = @IdTipoMuestra;\n",
    "\n",
    "    -- Obtener incremento por plazo\n",
    "    SELECT @IncrementoPlazo = ISNULL(IncrementoFijo, 0)\n",
    "    FROM PlazosEntrega\n",
    "    WHERE IdPlazoEntrega = @IdPlazoEntrega;\n",
    "\n",
    "    -- Mostrar todas las variables cargadas ANTES del cálculo\n",
    "    SELECT \n",
    "        @IdTiposPruebasConsumo AS IdTiposPruebasConsumo,\n",
    "        @EsLegal AS EsLegal,\n",
    "        @EsColaborador AS EsColaborador,\n",
    "        @NumIntervinientes AS NumIntervinientes,\n",
    "        @NumMuestras AS NumMuestras,\n",
    "        @PrecioBase AS PrecioBase,\n",
    "        @PrecioPorInterviniente AS PrecioPorInterviniente,\n",
    "        @PrecioPorMuestra AS PrecioPorMuestra,\n",
    "        @CosteMuestra AS CosteMuestra,\n",
    "        @IncrementoPlazo AS IncrementoPlazo,\n",
    "        @PorcentajeLegal AS PorcentajeLegal,\n",
    "        @PorcentajeColaborador AS PorcentajeColaborador;\n",
    "\n",
    "    -- Calcular subtotal\n",
    "    SET @Subtotal = \n",
    "        @PrecioBase +\n",
    "        (@NumIntervinientes * @PrecioPorInterviniente) +\n",
    "        (@NumMuestras * (@PrecioPorMuestra + @CosteMuestra)) +\n",
    "        @IncrementoPlazo;\n",
    "\n",
    "    -- Mostrar subtotal antes de incrementos\n",
    "    SELECT @Subtotal AS SubtotalAntesIncrementos;\n",
    "\n",
    "    -- Calcular total con incrementos\n",
    "    SET @Total = @Subtotal;\n",
    "\n",
    "    IF @EsLegal = 1\n",
    "        SET @Total += (@Subtotal * @PorcentajeLegal / 100.0);\n",
    "\n",
    "    IF @EsColaborador = 1\n",
    "        SET @Total += (@Subtotal * @PorcentajeColaborador / 100.0);\n",
    "\n",
    "    -- Mostrar total final\n",
    "    SELECT @Total AS PrecioTotalFinal;\n",
    "END;;\n",
    "GO\n"
   ]
  },
  {
   "cell_type": "markdown",
   "metadata": {
    "object_type": "StoredProcedure",
    "urn": "Server[@Name='Windows10-Pepe']/Database[@Name='CEFEGEN']/StoredProcedure[@Name='sp_CrearFactura' and @Schema='dbo']"
   },
   "source": [
    "# [dbo].[sp_CrearFactura]"
   ]
  },
  {
   "cell_type": "code",
   "execution_count": 0,
   "metadata": {
    "object_type": "StoredProcedure",
    "urn": "Server[@Name='Windows10-Pepe']/Database[@Name='CEFEGEN']/StoredProcedure[@Name='sp_CrearFactura' and @Schema='dbo']"
   },
   "outputs": [],
   "source": [
    "/****** Object:  StoredProcedure [dbo].[sp_CrearFactura]    Script Date: 20/06/2025 18:08:56 ******/\n",
    "SET ANSI_NULLS ON\n",
    "GO\n",
    "SET QUOTED_IDENTIFIER ON\n",
    "GO\n",
    "\n",
    "CREATE   PROCEDURE [dbo].[sp_CrearFactura]\n",
    "    @IdEmpresa INT,\n",
    "    @IdLaboratorioColaborador INT,\n",
    "    @IdSolicitante INT,\n",
    "    @FechaFactura DATE,\n",
    "    @EstadoFactura NVARCHAR(50),\n",
    "    @IdTarifa INT,\n",
    "    @IdFormaPago INT,\n",
    "    @LineasFactura dbo.LineaFacturaTipo READONLY\n",
    "AS\n",
    "BEGIN\n",
    "    SET NOCOUNT ON;\n",
    "    \n",
    "    DECLARE @IdFactura INT;\n",
    "\n",
    "    -- Validar parámetros\n",
    "    IF NOT EXISTS (SELECT 1 FROM [dbo].[Empresas] WHERE IdEmpresa = @IdEmpresa)\n",
    "        THROW 50001, 'La empresa especificada no existe.', 1;\n",
    "    IF NOT EXISTS (SELECT 1 FROM [dbo].[LaboratoriosColaboradores] WHERE IdLaboratorioColaborador = @IdLaboratorioColaborador)\n",
    "        THROW 50002, 'El laboratorio colaborador especificado no existe.', 1;\n",
    "    IF NOT EXISTS (SELECT 1 FROM [dbo].[Solicitantes] WHERE IdSolicitante = @IdSolicitante)\n",
    "        THROW 50003, 'El solicitante especificado no existe.', 1;\n",
    "    IF NOT EXISTS (SELECT 1 FROM [dbo].[Tarifas] WHERE IdTarifa = @IdTarifa)\n",
    "        THROW 50005, 'La tarifa especificada no existe.', 1;\n",
    "    IF NOT EXISTS (SELECT 1 FROM [dbo].[FormasPago] WHERE IdFormaPago = @IdFormaPago)\n",
    "        THROW 50006, 'La forma de pago especificada no existe.', 1;\n",
    "    IF @EstadoFactura NOT IN ('Pendiente', 'Pagada', 'Anulada')\n",
    "        THROW 50007, 'El estado de la factura debe ser Pendiente, Pagada o Anulada.', 1;\n",
    "\n",
    "    BEGIN TRY\n",
    "        BEGIN TRANSACTION;\n",
    "\n",
    "        -- Insertar la factura\n",
    "        INSERT INTO [dbo].[Facturas] (\n",
    "            IdEmpresa, IdLaboratorioColaborador, IdSolicitante, FechaFactura, \n",
    "            EstadoFactura, ImporteTotal, IdTarifa, IdFormaPago\n",
    "        )\n",
    "        VALUES (\n",
    "            @IdEmpresa, @IdLaboratorioColaborador, @IdSolicitante, @FechaFactura, \n",
    "            @EstadoFactura, 0.00, @IdTarifa, @IdFormaPago\n",
    "        );\n",
    "\n",
    "        -- Obtener el IdFactura generado\n",
    "        SET @IdFactura = SCOPE_IDENTITY();\n",
    "\n",
    "        -- Insertar las líneas de factura\n",
    "        INSERT INTO [dbo].[LineasFactura] (\n",
    "            IdFactura, IdPrueba, Descripcion, Importe, Cantidad\n",
    "        )\n",
    "        SELECT \n",
    "            @IdFactura, IdPrueba, Descripcion, Importe, Cantidad\n",
    "        FROM @LineasFactura;\n",
    "\n",
    "        -- Actualizar el ImporteTotal\n",
    "        UPDATE [dbo].[Facturas]\n",
    "        SET ImporteTotal = (\n",
    "            SELECT SUM(Importe) \n",
    "            FROM [dbo].[LineasFactura] \n",
    "            WHERE IdFactura = @IdFactura\n",
    "        )\n",
    "        WHERE IdFactura = @IdFactura;\n",
    "\n",
    "        COMMIT TRANSACTION;\n",
    "\n",
    "        -- Devolver el IdFactura creado\n",
    "        SELECT @IdFactura AS IdFacturaCreada;\n",
    "    END TRY\n",
    "    BEGIN CATCH\n",
    "        ROLLBACK TRANSACTION;\n",
    "        DECLARE @ErrorMessage NVARCHAR(4000) = ERROR_MESSAGE();\n",
    "        DECLARE @ErrorSeverity INT = ERROR_SEVERITY();\n",
    "        DECLARE @ErrorState INT = ERROR_STATE();\n",
    "        THROW @ErrorSeverity, @ErrorMessage, @ErrorState;\n",
    "    END CATCH;\n",
    "END;\n",
    "GO\n"
   ]
  },
  {
   "cell_type": "markdown",
   "metadata": {
    "object_type": "StoredProcedure",
    "urn": "Server[@Name='Windows10-Pepe']/Database[@Name='CEFEGEN']/StoredProcedure[@Name='sp_EnviarNotificacion' and @Schema='dbo']"
   },
   "source": [
    "# [dbo].[sp_EnviarNotificacion]"
   ]
  },
  {
   "cell_type": "code",
   "execution_count": 0,
   "metadata": {
    "object_type": "StoredProcedure",
    "urn": "Server[@Name='Windows10-Pepe']/Database[@Name='CEFEGEN']/StoredProcedure[@Name='sp_EnviarNotificacion' and @Schema='dbo']"
   },
   "outputs": [],
   "source": [
    "/****** Object:  StoredProcedure [dbo].[sp_EnviarNotificacion]    Script Date: 20/06/2025 18:08:56 ******/\n",
    "SET ANSI_NULLS ON\n",
    "GO\n",
    "SET QUOTED_IDENTIFIER ON\n",
    "GO\n",
    "CREATE   PROCEDURE [dbo].[sp_EnviarNotificacion]\n",
    "    @IdSolicitud INT,\n",
    "    @TipoNotificacion NVARCHAR(50),\n",
    "    @IdUsuario INT,\n",
    "    @IdNotificacion INT OUTPUT\n",
    "AS\n",
    "BEGIN\n",
    "    SET NOCOUNT ON;\n",
    "\n",
    "    BEGIN TRY\n",
    "        BEGIN TRANSACTION;\n",
    "\n",
    "        -- Validar parámetros\n",
    "        IF NOT EXISTS (SELECT 1 FROM [dbo].[Solicitudes] WHERE IdSolicitud = @IdSolicitud)\n",
    "            THROW 50001, 'La solicitud especificada no existe.', 1;\n",
    "        IF NOT EXISTS (SELECT 1 FROM [dbo].[Usuarios] WHERE IdUsuario = @IdUsuario AND Activo = 1)\n",
    "        BEGIN\n",
    "            -- Return active users for debugging\n",
    "            SELECT IdUsuario, NombreUsuario, NombreCompleto\n",
    "            FROM [dbo].[Usuarios]\n",
    "            WHERE Activo = 1;\n",
    "            THROW 50002, 'El usuario especificado no existe o no está activo. Consulte la lista de usuarios activos devuelta.', 1;\n",
    "        END;\n",
    "\n",
    "        -- Obtener datos del solicitante\n",
    "        DECLARE @IdSolicitante INT, @Email NVARCHAR(100), @NombreSolicitante NVARCHAR(255), @TelefonoSMS NVARCHAR(20), @PrefiereSMS BIT, @IdIdioma CHAR(2);\n",
    "        SELECT TOP 1\n",
    "            @IdSolicitante = s.IdSolicitante,\n",
    "            @Email = s.Email,\n",
    "            @NombreSolicitante = s.Nombre + ' ' + s.Apellidos,\n",
    "            @TelefonoSMS = s.TelefonoSMS,\n",
    "            @PrefiereSMS = s.PrefiereSMS,\n",
    "            @IdIdioma = ISNULL(s.IdIdiomaPreferido, 'ES')\n",
    "        FROM [dbo].[Solicitantes] s\n",
    "        JOIN [dbo].[Solicitudes] sol ON s.IdSolicitante = sol.IdSolicitante\n",
    "        WHERE sol.IdSolicitud = @IdSolicitud\n",
    "          AND (s.EnviarEmail = 1 OR s.PrefiereSMS = 1);\n",
    "\n",
    "        IF @Email IS NULL AND @TelefonoSMS IS NULL\n",
    "        BEGIN\n",
    "            -- Intentar con laboratorio colaborador\n",
    "            SELECT TOP 1\n",
    "                @Email = lc.Email,\n",
    "                @NombreSolicitante = lc.NombreFiscal,\n",
    "                @TelefonoSMS = lc.TelefonoSMS,\n",
    "                @PrefiereSMS = lc.PrefiereSMS,\n",
    "                @IdIdioma = ISNULL(lc.IdIdiomaPreferido, 'ES')\n",
    "            FROM [dbo].[LaboratoriosColaboradores] lc\n",
    "            JOIN [dbo].[Solicitantes] s ON lc.IdLaboratorioColaborador = s.IdLaboratorioColaborador\n",
    "            JOIN [dbo].[Solicitudes] sol ON s.IdSolicitante = sol.IdSolicitante\n",
    "            WHERE sol.IdSolicitud = @IdSolicitud;\n",
    "        END\n",
    "\n",
    "        IF @Email IS NULL AND @TelefonoSMS IS NULL\n",
    "            THROW 50003, 'No se encontró un destinatario válido para la notificación.', 1;\n",
    "\n",
    "        -- Obtener plantilla\n",
    "        DECLARE @IdPlantilla INT, @Canal NVARCHAR(10), @Asunto NVARCHAR(255), @Contenido NVARCHAR(MAX);\n",
    "        SELECT TOP 1 \n",
    "            @IdPlantilla = IdPlantilla,\n",
    "            @Canal = Canal,\n",
    "            @Asunto = Asunto,\n",
    "            @Contenido = Content -- Changed from Contenido to Content\n",
    "        FROM [dbo].[PlantillasNotificacion]\n",
    "        WHERE TipoNotificacion = @TipoNotificacion \n",
    "          AND IdIdioma = @IdIdioma \n",
    "          AND Activa = 1 \n",
    "          AND Canal = CASE WHEN @PrefiereSMS = 1 AND @TelefonoSMS IS NOT NULL THEN 'SMS' ELSE 'Email' END;\n",
    "\n",
    "        IF @IdPlantilla IS NULL\n",
    "        BEGIN\n",
    "            -- Return available templates for debugging\n",
    "            SELECT IdPlantilla, TipoNotificacion, Canal, IdIdioma\n",
    "            FROM [dbo].[PlantillasNotificacion]\n",
    "            WHERE Activa = 1;\n",
    "            THROW 50004, 'No se encontró una plantilla válida para la notificación. Consulte la lista de plantillas activas devuelta.', 1;\n",
    "        END;\n",
    "\n",
    "        -- Reemplazar marcadores\n",
    "        DECLARE @ContenidoFinal NVARCHAR(MAX) = @Contenido;\n",
    "        SET @ContenidoFinal = REPLACE(@ContenidoFinal, '{NombreSolicitante}', ISNULL(@NombreSolicitante, 'N/A'));\n",
    "        SET @ContenidoFinal = REPLACE(@ContenidoFinal, '{IdSolicitud}', CAST(@IdSolicitud AS NVARCHAR(10)));\n",
    "        SET @Asunto = REPLACE(@Asunto, '{IdSolicitud}', CAST(@IdSolicitud AS NVARCHAR(10)));\n",
    "\n",
    "        IF @Canal = 'Email'\n",
    "        BEGIN\n",
    "            -- Crear envío de email\n",
    "            DECLARE @IdEnvio INT;\n",
    "            INSERT INTO [dbo].[Envios] (\n",
    "                Fecha, Asunto, Cuerpo, CodPaciente, TipoEnvio, Estado, TipoNotificacion\n",
    "            )\n",
    "            VALUES (\n",
    "                GETDATE(), @Asunto, @ContenidoFinal, @IdSolicitante, 1, 1, @TipoNotificacion\n",
    "            );\n",
    "            SET @IdEnvio = SCOPE_IDENTITY();\n",
    "\n",
    "            -- Añadir destinatario\n",
    "            INSERT INTO [dbo].[DestinatariosEnvio] (\n",
    "                IdEnvio, Email, Tipo\n",
    "            )\n",
    "            VALUES (\n",
    "                @IdEnvio, @Email, 'TO'\n",
    "            );\n",
    "\n",
    "            -- Añadir adjunto si aplica (por ejemplo, informe)\n",
    "            DECLARE @IdDocumento INT, @NombreArchivo NVARCHAR(255), @RutaArchivo NVARCHAR(500);\n",
    "            SELECT TOP 1 \n",
    "                @IdDocumento = d.IdDocumento, -- Explicitly qualify IdDocumento\n",
    "                @NombreArchivo = d.NombreArchivo,\n",
    "                @RutaArchivo = d.RutaArchivo\n",
    "            FROM [dbo].[InformesGenerados] ig\n",
    "            JOIN [dbo].[Documentos] d ON ig.IdDocumento = d.IdDocumento\n",
    "            WHERE ig.IdSolicitud = @IdSolicitud\n",
    "            ORDER BY ig.FechaGeneracion DESC;\n",
    "\n",
    "            IF @IdDocumento IS NOT NULL\n",
    "            BEGIN\n",
    "                INSERT INTO [dbo].[AdjuntosEnvio] (\n",
    "                    IdEnvio, NombreArchivo\n",
    "                )\n",
    "                VALUES (\n",
    "                    @IdEnvio, @NombreArchivo\n",
    "                );\n",
    "            END;\n",
    "\n",
    "            SET @IdNotificacion = @IdEnvio;\n",
    "        END\n",
    "        ELSE IF @Canal = 'SMS'\n",
    "        BEGIN\n",
    "            -- Crear notificación SMS\n",
    "            INSERT INTO [dbo].[NotificacionesSMS] (\n",
    "                IdSolicitud, TelefonoDestinatario, Mensaje, Estado, IdUsuario\n",
    "            )\n",
    "            VALUES (\n",
    "                @IdSolicitud, @TelefonoSMS, LEFT(@ContenidoFinal, 160), 'Pendiente', @IdUsuario\n",
    "            );\n",
    "            SET @IdNotificacion = SCOPE_IDENTITY();\n",
    "        END\n",
    "\n",
    "        -- Registrar en auditoría\n",
    "        INSERT INTO [dbo].[AuditoriaAcciones] (\n",
    "            IdUsuario, FechaAccion, Tabla, Accion, Detalles\n",
    "        )\n",
    "        VALUES (\n",
    "            @IdUsuario, GETDATE(), \n",
    "            CASE WHEN @Canal = 'Email' THEN 'Envios' ELSE 'NotificacionesSMS' END,\n",
    "            'INSERT',\n",
    "            'Notificación ' + @Canal + ' enviada para IdSolicitud: ' + CAST(@IdSolicitud AS NVARCHAR(10))\n",
    "        );\n",
    "\n",
    "        COMMIT TRANSACTION;\n",
    "\n",
    "        -- Devolver información de la notificación\n",
    "        IF @Canal = 'Email'\n",
    "        BEGIN\n",
    "            SELECT \n",
    "                IdEnvio AS IdNotificacion,\n",
    "                Asunto,\n",
    "                Cuerpo AS Mensaje,\n",
    "                Fecha,\n",
    "                'Email' AS Canal\n",
    "            FROM [dbo].[Envios]\n",
    "            WHERE IdEnvio = @IdNotificacion;\n",
    "        END\n",
    "        ELSE\n",
    "        BEGIN\n",
    "            SELECT \n",
    "                IdNotificacionSMS AS IdNotificacion,\n",
    "                NULL AS Asunto,\n",
    "                Mensaje,\n",
    "                FechaEnvio AS Fecha,\n",
    "                'SMS' AS Canal\n",
    "            FROM [dbo].[NotificacionesSMS]\n",
    "            WHERE IdNotificacionSMS = @IdNotificacion;\n",
    "        END\n",
    "    END TRY\n",
    "    BEGIN CATCH\n",
    "        ROLLBACK TRANSACTION;\n",
    "        DECLARE @ErrorMessage NVARCHAR(4000) = ERROR_MESSAGE();\n",
    "        DECLARE @ErrorSeverity INT = ERROR_SEVERITY();\n",
    "        DECLARE @ErrorState INT = ERROR_STATE();\n",
    "        THROW 50005, @ErrorMessage, @ErrorState;\n",
    "    END CATCH;\n",
    "END;\n",
    "GO\n"
   ]
  },
  {
   "cell_type": "markdown",
   "metadata": {
    "object_type": "StoredProcedure",
    "urn": "Server[@Name='Windows10-Pepe']/Database[@Name='CEFEGEN']/StoredProcedure[@Name='sp_GenerarDocumentoDesdePlantilla' and @Schema='dbo']"
   },
   "source": [
    "# [dbo].[sp_GenerarDocumentoDesdePlantilla]"
   ]
  },
  {
   "cell_type": "code",
   "execution_count": 0,
   "metadata": {
    "object_type": "StoredProcedure",
    "urn": "Server[@Name='Windows10-Pepe']/Database[@Name='CEFEGEN']/StoredProcedure[@Name='sp_GenerarDocumentoDesdePlantilla' and @Schema='dbo']"
   },
   "outputs": [],
   "source": [
    "/****** Object:  StoredProcedure [dbo].[sp_GenerarDocumentoDesdePlantilla]    Script Date: 20/06/2025 18:08:56 ******/\n",
    "SET ANSI_NULLS ON\n",
    "GO\n",
    "SET QUOTED_IDENTIFIER ON\n",
    "GO\n",
    "\n",
    "        CREATE PROCEDURE [dbo].[sp_GenerarDocumentoDesdePlantilla]\n",
    "            @IdSolicitud INT,\n",
    "            @IdTipoPruebaConsumo INT = NULL,\n",
    "            @IdTipoPlantilla INT,\n",
    "            @IdIdioma NVARCHAR(2),\n",
    "            @ArchivoReferencia NVARCHAR(50) OUTPUT,\n",
    "            @IdPlantilla INT OUTPUT,\n",
    "            @MensajeError NVARCHAR(500) OUTPUT\n",
    "        AS\n",
    "        BEGIN\n",
    "            SET NOCOUNT ON;\n",
    "\n",
    "            SET @ArchivoReferencia = NULL;\n",
    "            SET @IdPlantilla = NULL;\n",
    "            SET @MensajeError = NULL;\n",
    "\n",
    "            BEGIN TRY\n",
    "                IF NOT EXISTS (SELECT 1 FROM TiposPlantillas WHERE IdTipoPlantilla = @IdTipoPlantilla AND Activo = 1)\n",
    "                    THROW 50001, 'IdTipoPlantilla inválido o inactivo.', 1;\n",
    "\n",
    "                SELECT TOP 1 \n",
    "                    @IdPlantilla = p.IdPlantilla,\n",
    "                    @ArchivoReferencia = p.ArchivoReferencia\n",
    "                FROM [dbo].[Plantillas] p\n",
    "                WHERE (p.IdTipoPruebaConsumo = @IdTipoPruebaConsumo OR p.IdTipoPruebaConsumo IS NULL)\n",
    "                  AND p.IdTipoPlantilla = @IdTipoPlantilla\n",
    "                  AND p.IdIdioma = @IdIdioma\n",
    "                  AND p.Activa = 1;\n",
    "\n",
    "                IF @IdPlantilla IS NULL\n",
    "                BEGIN\n",
    "                    SET @MensajeError = 'No se encontró una plantilla activa para los parámetros especificados.';\n",
    "                    RETURN;\n",
    "                END\n",
    "\n",
    "                SET @ArchivoReferencia = CAST(NEWID() AS NVARCHAR(50));\n",
    "\n",
    "                INSERT INTO [dbo].[AuditoriaAcciones] (IdUsuario, Accion, FechaAccion, Detalles)\n",
    "                VALUES (1, 'GenerarDocumento', GETDATE(), 'IdSolicitud: ' + CAST(@IdSolicitud AS NVARCHAR(10)) + ', IdPlantilla: ' + CAST(@IdPlantilla AS NVARCHAR(10)));\n",
    "\n",
    "            END TRY\n",
    "            BEGIN CATCH\n",
    "                SET @MensajeError = ERROR_MESSAGE();\n",
    "                SET @ArchivoReferencia = NULL;\n",
    "                SET @IdPlantilla = NULL;\n",
    "            END CATCH\n",
    "        END;\n",
    "GO\n"
   ]
  },
  {
   "cell_type": "markdown",
   "metadata": {
    "object_type": "StoredProcedure",
    "urn": "Server[@Name='Windows10-Pepe']/Database[@Name='CEFEGEN']/StoredProcedure[@Name='sp_GenerarIndicesParentesco' and @Schema='dbo']"
   },
   "source": [
    "# [dbo].[sp_GenerarIndicesParentesco]"
   ]
  },
  {
   "cell_type": "code",
   "execution_count": 0,
   "metadata": {
    "object_type": "StoredProcedure",
    "urn": "Server[@Name='Windows10-Pepe']/Database[@Name='CEFEGEN']/StoredProcedure[@Name='sp_GenerarIndicesParentesco' and @Schema='dbo']"
   },
   "outputs": [],
   "source": [
    "/****** Object:  StoredProcedure [dbo].[sp_GenerarIndicesParentesco]    Script Date: 20/06/2025 18:08:56 ******/\n",
    "SET ANSI_NULLS ON\n",
    "GO\n",
    "SET QUOTED_IDENTIFIER ON\n",
    "GO\n",
    "CREATE   PROCEDURE [dbo].[sp_GenerarIndicesParentesco]\n",
    "    @IdSolicitud INT,\n",
    "    @IdUsuarioAnalista INT\n",
    "AS\n",
    "BEGIN\n",
    "    SET NOCOUNT ON;\n",
    "\n",
    "    -- Validar solicitud\n",
    "    IF NOT EXISTS (SELECT 1 FROM [dbo].[Solicitudes] WHERE IdSolicitud = @IdSolicitud)\n",
    "        THROW 50001, 'La solicitud especificada no existe.', 1;\n",
    "\n",
    "    -- Declarar variables para perfiles\n",
    "    DECLARE @IdPerfil1 INT, @IdPerfil2 INT;\n",
    "    DECLARE @TipoRelacion VARCHAR(50);\n",
    "\n",
    "    -- Cursor para iterar sobre posibles relaciones\n",
    "    DECLARE rel_cursor CURSOR FOR\n",
    "    SELECT 'Padre-Hijo' AS TipoRelacion\n",
    "    UNION SELECT 'Madre-Hijo'\n",
    "    UNION SELECT 'Hermanos'\n",
    "    UNION SELECT 'Abuelo-Nieto';\n",
    "\n",
    "    OPEN rel_cursor;\n",
    "    FETCH NEXT FROM rel_cursor INTO @TipoRelacion;\n",
    "\n",
    "    WHILE @@FETCH_STATUS = 0\n",
    "    BEGIN\n",
    "        SET @IdPerfil1 = NULL;\n",
    "        SET @IdPerfil2 = NULL;\n",
    "\n",
    "        -- Identificar perfiles según la relación\n",
    "        IF @TipoRelacion = 'Padre-Hijo'\n",
    "        BEGIN\n",
    "            SELECT @IdPerfil1 = pg.IdPerfilGenetico\n",
    "            FROM [dbo].[PerfilesGeneticos] pg\n",
    "            JOIN [dbo].[Intervinientes] i ON pg.IdInterviniente = i.IdInterviniente\n",
    "            JOIN [dbo].[TipoInterviniente] ti ON i.IdTipoInterviniente = ti.Codigo\n",
    "            WHERE i.IdSolicitud = @IdSolicitud AND ti.Descripcion = 'Hijo';\n",
    "\n",
    "            SELECT @IdPerfil2 = pg.IdPerfilGenetico\n",
    "            FROM [dbo].[PerfilesGeneticos] pg\n",
    "            JOIN [dbo].[Intervinientes] i ON pg.IdInterviniente = i.IdInterviniente\n",
    "            JOIN [dbo].[TipoInterviniente] ti ON i.IdTipoInterviniente = ti.Codigo\n",
    "            WHERE i.IdSolicitud = @IdSolicitud AND ti.Descripcion = 'Presunto Padre';\n",
    "        END\n",
    "        ELSE IF @TipoRelacion = 'Madre-Hijo'\n",
    "        BEGIN\n",
    "            SELECT @IdPerfil1 = pg.IdPerfilGenetico\n",
    "            FROM [dbo].[PerfilesGeneticos] pg\n",
    "            JOIN [dbo].[Intervinientes] i ON pg.IdInterviniente = i.IdInterviniente\n",
    "            JOIN [dbo].[TipoInterviniente] ti ON i.IdTipoInterviniente = ti.Codigo\n",
    "            WHERE i.IdSolicitud = @IdSolicitud AND ti.Descripcion = 'Hijo';\n",
    "\n",
    "            SELECT @IdPerfil2 = pg.IdPerfilGenetico\n",
    "            FROM [dbo].[PerfilesGeneticos] pg\n",
    "            JOIN [dbo].[Intervinientes] i ON pg.IdInterviniente = i.IdInterviniente\n",
    "            JOIN [dbo].[TipoInterviniente] ti ON i.IdTipoInterviniente = ti.Codigo\n",
    "            WHERE i.IdSolicitud = @IdSolicitud AND ti.Descripcion = 'Madre';\n",
    "        END\n",
    "        ELSE IF @TipoRelacion = 'Hermanos'\n",
    "        BEGIN\n",
    "            -- Asumimos dos intervinientes con tipo 'Hijo' o similar\n",
    "            SELECT TOP 1 @IdPerfil1 = pg.IdPerfilGenetico\n",
    "            FROM [dbo].[PerfilesGeneticos] pg\n",
    "            JOIN [dbo].[Intervinientes] i ON pg.IdInterviniente = i.IdInterviniente\n",
    "            JOIN [dbo].[TipoInterviniente] ti ON i.IdTipoInterviniente = ti.Codigo\n",
    "            WHERE i.IdSolicitud = @IdSolicitud AND ti.Descripcion LIKE '%Hijo%';\n",
    "\n",
    "            SELECT TOP 1 @IdPerfil2 = pg.IdPerfilGenetico\n",
    "            FROM [dbo].[PerfilesGeneticos] pg\n",
    "            JOIN [dbo].[Intervinientes] i ON pg.IdInterviniente = i.IdInterviniente\n",
    "            JOIN [dbo].[TipoInterviniente] ti ON i.IdTipoInterviniente = ti.Codigo\n",
    "            WHERE i.IdSolicitud = @IdSolicitud AND ti.Descripcion LIKE '%Hijo%'\n",
    "              AND pg.IdPerfilGenetico <> @IdPerfil1;\n",
    "        END\n",
    "        ELSE IF @TipoRelacion = 'Abuelo-Nieto'\n",
    "        BEGIN\n",
    "            SELECT @IdPerfil1 = pg.IdPerfilGenetico\n",
    "            FROM [dbo].[PerfilesGeneticos] pg\n",
    "            JOIN [dbo].[Intervinientes] i ON pg.IdInterviniente = i.IdInterviniente\n",
    "            JOIN [dbo].[TipoInterviniente] ti ON i.IdTipoInterviniente = ti.Codigo\n",
    "            WHERE i.IdSolicitud = @IdSolicitud AND ti.Descripcion = 'Nieto';\n",
    "\n",
    "            SELECT @IdPerfil2 = pg.IdPerfilGenetico\n",
    "            FROM [dbo].[PerfilesGeneticos] pg\n",
    "            JOIN [dbo].[Intervinientes] i ON pg.IdInterviniente = i.IdInterviniente\n",
    "            JOIN [dbo].[TipoInterviniente] ti ON i.IdTipoInterviniente = ti.Codigo\n",
    "            WHERE i.IdSolicitud = @IdSolicitud AND ti.Descripcion = 'Abuelo';\n",
    "        END\n",
    "\n",
    "        -- Generar índice si ambos perfiles existen\n",
    "        IF @IdPerfil1 IS NOT NULL AND @IdPerfil2 IS NOT NULL\n",
    "        BEGIN\n",
    "            EXEC [dbo].[sp_CalcularIndiceParentesco]\n",
    "                @IdSolicitud = @IdSolicitud,\n",
    "                @TipoRelacion = @TipoRelacion,\n",
    "                @IdPerfilGenetico1 = @IdPerfil1,\n",
    "                @IdPerfilGenetico2 = @IdPerfil2,\n",
    "                @IdUsuarioAnalista = @IdUsuarioAnalista;\n",
    "        END\n",
    "\n",
    "        FETCH NEXT FROM rel_cursor INTO @TipoRelacion;\n",
    "    END;\n",
    "\n",
    "    CLOSE rel_cursor;\n",
    "    DEALLOCATE rel_cursor;\n",
    "END;\n",
    "GO\n"
   ]
  },
  {
   "cell_type": "markdown",
   "metadata": {
    "object_type": "StoredProcedure",
    "urn": "Server[@Name='Windows10-Pepe']/Database[@Name='CEFEGEN']/StoredProcedure[@Name='sp_GenerarInformeCumplimiento' and @Schema='dbo']"
   },
   "source": [
    "# [dbo].[sp_GenerarInformeCumplimiento]"
   ]
  },
  {
   "cell_type": "code",
   "execution_count": 0,
   "metadata": {
    "object_type": "StoredProcedure",
    "urn": "Server[@Name='Windows10-Pepe']/Database[@Name='CEFEGEN']/StoredProcedure[@Name='sp_GenerarInformeCumplimiento' and @Schema='dbo']"
   },
   "outputs": [],
   "source": [
    "/****** Object:  StoredProcedure [dbo].[sp_GenerarInformeCumplimiento]    Script Date: 20/06/2025 18:08:56 ******/\n",
    "SET ANSI_NULLS ON\n",
    "GO\n",
    "SET QUOTED_IDENTIFIER ON\n",
    "GO\n",
    "CREATE PROCEDURE [dbo].[sp_GenerarInformeCumplimiento]\n",
    "    @FechaInicio DATE,\n",
    "    @FechaFin DATE,\n",
    "    @IdUsuario INT\n",
    "AS\n",
    "BEGIN\n",
    "    SET NOCOUNT ON;\n",
    "\n",
    "    BEGIN TRY\n",
    "        -- Validar parámetros\n",
    "        IF @FechaFin < @FechaInicio\n",
    "            THROW 50001, 'La fecha de fin debe ser posterior a la fecha de inicio.', 1;\n",
    "        IF NOT EXISTS (SELECT 1 FROM [dbo].[Usuarios] WHERE IdUsuario = @IdUsuario AND Activo = 1)\n",
    "            THROW 50002, 'El usuario especificado no existe o no está activo.', 1;\n",
    "\n",
    "        -- Obtener datos de cumplimiento\n",
    "        SELECT \n",
    "            TipoRegistro,\n",
    "            IdRegistro,\n",
    "            Descripcion,\n",
    "            Fecha,\n",
    "            Estado,\n",
    "            Responsable,\n",
    "            Observaciones\n",
    "        FROM [dbo].[vw_InformeCumplimientoCalidad]\n",
    "        WHERE Fecha BETWEEN @FechaInicio AND @FechaFin\n",
    "        ORDER BY Fecha DESC;\n",
    "\n",
    "        -- Registrar en auditoría\n",
    "        INSERT INTO [dbo].[AuditoriaAcciones] (\n",
    "            IdUsuario, FechaAccion, Tabla, Accion, Detalles\n",
    "        )\n",
    "        VALUES (\n",
    "            @IdUsuario, GETDATE(), 'vw_InformeCumplimientoCalidad', 'SELECT',\n",
    "            'Informe de cumplimiento generado para período: ' + CONVERT(NVARCHAR(10), @FechaInicio, 103) + ' a ' + CONVERT(NVARCHAR(10), @FechaFin, 103)\n",
    "        );\n",
    "    END TRY\n",
    "    BEGIN CATCH\n",
    "        DECLARE @ErrorMessage NVARCHAR(4000) = ERROR_MESSAGE();\n",
    "        DECLARE @ErrorSeverity INT = ERROR_SEVERITY();\n",
    "        DECLARE @ErrorState INT = ERROR_STATE();\n",
    "        THROW @ErrorSeverity, @ErrorMessage, @ErrorState;\n",
    "    END CATCH;\n",
    "END;\n",
    "GO\n"
   ]
  },
  {
   "cell_type": "markdown",
   "metadata": {
    "object_type": "StoredProcedure",
    "urn": "Server[@Name='Windows10-Pepe']/Database[@Name='CEFEGEN']/StoredProcedure[@Name='sp_GenerarInformeMultilingue' and @Schema='dbo']"
   },
   "source": [
    "# [dbo].[sp_GenerarInformeMultilingue]"
   ]
  },
  {
   "cell_type": "code",
   "execution_count": 0,
   "metadata": {
    "object_type": "StoredProcedure",
    "urn": "Server[@Name='Windows10-Pepe']/Database[@Name='CEFEGEN']/StoredProcedure[@Name='sp_GenerarInformeMultilingue' and @Schema='dbo']"
   },
   "outputs": [],
   "source": [
    "/****** Object:  StoredProcedure [dbo].[sp_GenerarInformeMultilingue]    Script Date: 20/06/2025 18:08:56 ******/\n",
    "SET ANSI_NULLS ON\n",
    "GO\n",
    "SET QUOTED_IDENTIFIER ON\n",
    "GO\n",
    "CREATE PROCEDURE [dbo].[sp_GenerarInformeMultilingue]\n",
    "    @IdSolicitud INT,\n",
    "    @TipoInforme NVARCHAR(50),\n",
    "    @IdIdioma CHAR(2),\n",
    "    @IdUsuario INT,\n",
    "    @IdInformeGenerado INT OUTPUT\n",
    "AS\n",
    "BEGIN\n",
    "    SET NOCOUNT ON;\n",
    "\n",
    "    BEGIN TRY\n",
    "        BEGIN TRANSACTION;\n",
    "\n",
    "        -- Validar parámetros\n",
    "        IF NOT EXISTS (SELECT 1 FROM [dbo].[Solicitudes] WHERE IdSolicitud = @IdSolicitud)\n",
    "            THROW 50001, 'La solicitud especificada no existe.', 1;\n",
    "        IF NOT EXISTS (SELECT 1 FROM [dbo].[Idiomas] WHERE IdIdioma = @IdIdioma AND Activo = 1)\n",
    "            THROW 50002, 'El idioma especificado no es válido o no está activo.', 1;\n",
    "        IF NOT EXISTS (SELECT 1 FROM [dbo].[Usuarios] WHERE IdUsuario = @IdUsuario)\n",
    "            THROW 50003, 'El usuario especificado no existe.', 1;\n",
    "        IF NOT EXISTS (SELECT 1 FROM [dbo].[PlantillasInforme] WHERE TipoInforme = @TipoInforme AND IdIdioma = @IdIdioma AND Activa = 1)\n",
    "            THROW 50004, 'No existe una plantilla activa para el tipo de informe e idioma especificados.', 1;\n",
    "\n",
    "        -- Obtener la plantilla\n",
    "        DECLARE @ContenidoPlantilla NVARCHAR(MAX);\n",
    "        DECLARE @IdPlantilla INT;\n",
    "        SELECT TOP 1 \n",
    "            @IdPlantilla = IdPlantilla,\n",
    "            @ContenidoPlantilla = Contenido\n",
    "        FROM [dbo].[PlantillasInforme]\n",
    "        WHERE TipoInforme = @TipoInforme AND IdIdioma = @IdIdioma AND Activa = 1;\n",
    "\n",
    "        -- Obtener datos del informe según el tipo\n",
    "        DECLARE @ContenidoFinal NVARCHAR(MAX) = @ContenidoPlantilla;\n",
    "        DECLARE @NombreArchivo NVARCHAR(255);\n",
    "        DECLARE @RutaArchivo NVARCHAR(500);\n",
    "\n",
    "        IF @TipoInforme = 'Paternidad'\n",
    "        BEGIN\n",
    "            -- Obtener datos de la vista de paternidad\n",
    "            DECLARE @NombreHijo NVARCHAR(100), @NombrePadre NVARCHAR(100), @ProbabilidadParentesco DECIMAL(5,2), @Resultado NVARCHAR(100), @FechaAnalisis DATETIME;\n",
    "            SELECT TOP 1\n",
    "                @NombreHijo = NombreHijo,\n",
    "                @NombrePadre = NombrePadre,\n",
    "                @ProbabilidadParentesco = ProbabilidadParentesco,\n",
    "                @Resultado = Resultado,\n",
    "                @FechaAnalisis = FechaAnalisis\n",
    "            FROM [dbo].[vw_ReportePaternidad]\n",
    "            WHERE IdSolicitud = @IdSolicitud;\n",
    "\n",
    "            IF @NombreHijo IS NULL\n",
    "                THROW 50005, 'No se encontraron datos de paternidad para la solicitud.', 1;\n",
    "\n",
    "            -- Reemplazar marcadores en la plantilla\n",
    "            SET @ContenidoFinal = REPLACE(@ContenidoFinal, '{NombreHijo}', ISNULL(@NombreHijo, 'N/A'));\n",
    "            SET @ContenidoFinal = REPLACE(@ContenidoFinal, '{NombrePadre}', ISNULL(@NombrePadre, 'N/A'));\n",
    "            SET @ContenidoFinal = REPLACE(@ContenidoFinal, '{ProbabilidadParentesco}', CAST(ISNULL(@ProbabilidadParentesco, 0) AS NVARCHAR(10)) + '%');\n",
    "            SET @ContenidoFinal = REPLACE(@ContenidoFinal, '{Resultado}', ISNULL(@Resultado, 'N/A'));\n",
    "            SET @ContenidoFinal = REPLACE(@ContenidoFinal, '{FechaAnalisis}', ISNULL(CONVERT(NVARCHAR(10), @FechaAnalisis, 103), 'N/A'));\n",
    "\n",
    "            SET @NombreArchivo = 'Informe_Paternidad_' + CAST(@IdSolicitud AS NVARCHAR(10)) + '_' + @IdIdioma + '.pdf';\n",
    "            SET @RutaArchivo = '\\Informes\\' + @NombreArchivo;\n",
    "        END\n",
    "        -- Añadir más condiciones para otros tipos de informes (Citogenética, Andrología, etc.)\n",
    "\n",
    "        -- Insertar el documento en [Documentos]\n",
    "        DECLARE @IdDocumento INT;\n",
    "        INSERT INTO [dbo].[Documentos] (\n",
    "            IdEntidad, NombreArchivo, RutaArchivo, Extension, TamanoKB, FechaSubida, SubidoPor, IdTipoDocumento, IdEntidadTipo\n",
    "        )\n",
    "        VALUES (\n",
    "            @IdSolicitud, @NombreArchivo, @RutaArchivo, 'pdf', 0, GETDATE(), @IdUsuario, \n",
    "            (SELECT TOP 1 IdTipoDocumento FROM [dbo].[TiposDocumentos] WHERE Nombre = 'Informe'), \n",
    "            (SELECT TOP 1 IdEntidadTipo FROM [dbo].[Entidades] WHERE Nombre = 'Solicitudes')\n",
    "        );\n",
    "        SET @IdDocumento = SCOPE_IDENTITY();\n",
    "\n",
    "        -- Insertar en [InformesGenerados]\n",
    "        INSERT INTO [dbo].[InformesGenerados] (\n",
    "            IdSolicitud, IdPlantilla, IdDocumento, FechaGeneracion, IdUsuario, Estado\n",
    "        )\n",
    "        VALUES (\n",
    "            @IdSolicitud, @IdPlantilla, @IdDocumento, GETDATE(), @IdUsuario, 'Generado'\n",
    "        );\n",
    "        SET @IdInformeGenerado = SCOPE_IDENTITY();\n",
    "\n",
    "        -- Simular la generación del PDF (en un entorno real, se usaría una biblioteca externa)\n",
    "        -- Aquí se asume que el contenido final se pasa a un servicio de generación de PDF\n",
    "        -- Por ahora, actualizamos el documento con un marcador de contenido\n",
    "        UPDATE [dbo].[Documentos]\n",
    "        SET Comentarios = 'Contenido: ' + LEFT(@ContenidoFinal, 1000)\n",
    "        WHERE IdDocumento = @IdDocumento;\n",
    "\n",
    "        COMMIT TRANSACTION;\n",
    "\n",
    "        -- Devolver información del informe generado\n",
    "        SELECT \n",
    "            IdInforme,\n",
    "            IdSolicitud,\n",
    "            IdPlantilla,\n",
    "            IdDocumento,\n",
    "            FechaGeneracion,\n",
    "            Estado\n",
    "        FROM [dbo].[InformesGenerados]\n",
    "        WHERE IdInforme = @IdInformeGenerado;\n",
    "    END TRY\n",
    "    BEGIN CATCH\n",
    "        ROLLBACK TRANSACTION;\n",
    "        DECLARE @ErrorMessage NVARCHAR(4000) = ERROR_MESSAGE();\n",
    "        DECLARE @ErrorSeverity INT = ERROR_SEVERITY();\n",
    "        DECLARE @ErrorState INT = ERROR_STATE();\n",
    "        THROW @ErrorSeverity, @ErrorMessage, @ErrorState;\n",
    "    END CATCH;\n",
    "END;\n",
    "GO\n"
   ]
  },
  {
   "cell_type": "markdown",
   "metadata": {
    "object_type": "StoredProcedure",
    "urn": "Server[@Name='Windows10-Pepe']/Database[@Name='CEFEGEN']/StoredProcedure[@Name='sp_GestionarDocumento' and @Schema='dbo']"
   },
   "source": [
    "# [dbo].[sp_GestionarDocumento]"
   ]
  },
  {
   "cell_type": "code",
   "execution_count": 0,
   "metadata": {
    "object_type": "StoredProcedure",
    "urn": "Server[@Name='Windows10-Pepe']/Database[@Name='CEFEGEN']/StoredProcedure[@Name='sp_GestionarDocumento' and @Schema='dbo']"
   },
   "outputs": [],
   "source": [
    "/****** Object:  StoredProcedure [dbo].[sp_GestionarDocumento]    Script Date: 20/06/2025 18:08:56 ******/\n",
    "SET ANSI_NULLS ON\n",
    "GO\n",
    "SET QUOTED_IDENTIFIER ON\n",
    "GO\n",
    "CREATE   PROCEDURE [dbo].[sp_GestionarDocumento]\n",
    "    @Accion NVARCHAR(50), -- 'Insertar', 'Actualizar', 'Eliminar', 'Consultar'\n",
    "    @IdDocumento INT OUTPUT,\n",
    "    @IdEntidad INT = NULL,\n",
    "    @NombreArchivo NVARCHAR(255) = NULL,\n",
    "    @RutaArchivo NVARCHAR(500) = NULL,\n",
    "    @Extension NVARCHAR(10) = NULL,\n",
    "    @TamanoKB INT = NULL,\n",
    "    @IdTipoDocumento INT = NULL,\n",
    "    @IdEntidadTipo INT = NULL,\n",
    "    @Comentarios NVARCHAR(MAX) = NULL,\n",
    "    @EsConfidencial BIT = 0,\n",
    "    @FechaExpiracion DATETIME = NULL,\n",
    "    @HashDocumento NVARCHAR(256) = NULL,\n",
    "    @IdUsuario INT,\n",
    "    @IdSolicitud INT = NULL -- Para filtrar por solicitud en Consultar\n",
    "AS\n",
    "BEGIN\n",
    "    SET NOCOUNT ON;\n",
    "\n",
    "    BEGIN TRY\n",
    "        BEGIN TRANSACTION;\n",
    "\n",
    "        -- Validar usuario\n",
    "        IF NOT EXISTS (SELECT 1 FROM [dbo].[Usuarios] WHERE IdUsuario = @IdUsuario AND Activo = 1)\n",
    "        BEGIN\n",
    "            SELECT IdUsuario, NombreUsuario, NombreCompleto\n",
    "            FROM [dbo].[Usuarios]\n",
    "            WHERE Activo = 1;\n",
    "            THROW 50001, 'El usuario especificado no existe o no está activo. Consulte la lista de usuarios activos devuelta.', 1;\n",
    "        END;\n",
    "\n",
    "        IF @Accion = 'Insertar'\n",
    "        BEGIN\n",
    "            -- Validar parámetros requeridos\n",
    "            IF @NombreArchivo IS NULL OR @RutaArchivo IS NULL OR @IdTipoDocumento IS NULL OR @IdEntidadTipo IS NULL\n",
    "                THROW 50002, 'NombreArchivo, RutaArchivo, IdTipoDocumento y IdEntidadTipo son requeridos para insertar.', 1;\n",
    "\n",
    "            -- Insertar documento\n",
    "            INSERT INTO [dbo].[Documentos] (\n",
    "                IdEntidad, NombreArchivo, RutaArchivo, Extension, TamanoKB, FechaSubida, SubidoPor,\n",
    "                IdTipoDocumento, IdEntidadTipo, Comentarios, EsConfidencial, FechaExpiracion, HashDocumento\n",
    "            )\n",
    "            VALUES (\n",
    "                @IdEntidad, @NombreArchivo, @RutaArchivo, @Extension, @TamanoKB, GETDATE(), @IdUsuario,\n",
    "                @IdTipoDocumento, @IdEntidadTipo, @Comentarios, @EsConfidencial, @FechaExpiracion, @HashDocumento\n",
    "            );\n",
    "\n",
    "            SET @IdDocumento = SCOPE_IDENTITY();\n",
    "\n",
    "            -- Asignar permisos si es confidencial\n",
    "            IF @EsConfidencial = 1\n",
    "            BEGIN\n",
    "                INSERT INTO [dbo].[PermisosDocumento] (IdDocumento, IdUsuario, Permiso)\n",
    "                VALUES (@IdDocumento, @IdUsuario, 'Leer');\n",
    "            END;\n",
    "\n",
    "            -- Registrar en auditoría\n",
    "            INSERT INTO [dbo].[AuditoriaAcciones] (\n",
    "                IdUsuario, FechaAccion, Tabla, Accion, Detalles, IdDocumento\n",
    "            )\n",
    "            VALUES (\n",
    "                @IdUsuario, GETDATE(), 'Documentos', 'INSERT',\n",
    "                'Documento insertado con IdDocumento: ' + CAST(@IdDocumento AS NVARCHAR(10)), @IdDocumento\n",
    "            );\n",
    "\n",
    "            -- Notificar si está asociado a una solicitud\n",
    "            IF @IdEntidad IS NOT NULL AND EXISTS (SELECT 1 FROM [dbo].[Solicitudes] WHERE IdSolicitud = @IdEntidad)\n",
    "            BEGIN\n",
    "                DECLARE @IdNotificacion INT;\n",
    "                BEGIN TRY\n",
    "                    EXEC [dbo].[sp_EnviarNotificacion]\n",
    "                        @IdSolicitud = @IdEntidad,\n",
    "                        @TipoNotificacion = 'DocumentoSubido',\n",
    "                        @IdUsuario = @IdUsuario,\n",
    "                        @IdNotificacion = @IdNotificacion OUTPUT;\n",
    "                END TRY\n",
    "                BEGIN CATCH\n",
    "                    -- Log the notification error but don't fail the transaction\n",
    "                    INSERT INTO [dbo].[AuditoriaAcciones] (\n",
    "                        IdUsuario, FechaAccion, Tabla, Accion, Detalles, IdDocumento\n",
    "                    )\n",
    "                    VALUES (\n",
    "                        @IdUsuario, GETDATE(), 'Documentos', 'ERROR',\n",
    "                        'Error al enviar notificación para IdDocumento: ' + CAST(@IdDocumento AS NVARCHAR(10)) + ': ' + ERROR_MESSAGE(),\n",
    "                        @IdDocumento\n",
    "                    );\n",
    "                END CATCH;\n",
    "            END;\n",
    "        END\n",
    "        ELSE IF @Accion = 'Actualizar'\n",
    "        BEGIN\n",
    "            -- Validar documento\n",
    "            IF NOT EXISTS (SELECT 1 FROM [dbo].[Documentos] WHERE IdDocumento = @IdDocumento)\n",
    "                THROW 50003, 'El documento especificado no existe.', 1;\n",
    "\n",
    "            -- Verificar permisos\n",
    "            IF @EsConfidencial = 1 AND NOT EXISTS (\n",
    "                SELECT 1 FROM [dbo].[PermisosDocumento] \n",
    "                WHERE IdDocumento = @IdDocumento AND IdUsuario = @IdUsuario AND Permiso IN ('Editar', 'Eliminar')\n",
    "            )\n",
    "                THROW 50004, 'No tiene permisos para actualizar este documento confidencial.', 1;\n",
    "\n",
    "            -- Actualizar documento\n",
    "            UPDATE [dbo].[Documentos]\n",
    "            SET \n",
    "                NombreArchivo = ISNULL(@NombreArchivo, NombreArchivo),\n",
    "                RutaArchivo = ISNULL(@RutaArchivo, RutaArchivo),\n",
    "                Extension = ISNULL(@Extension, Extension),\n",
    "                TamanoKB = ISNULL(@TamanoKB, TamanoKB),\n",
    "                IdTipoDocumento = ISNULL(@IdTipoDocumento, IdTipoDocumento),\n",
    "                IdEntidadTipo = ISNULL(@IdEntidadTipo, IdEntidadTipo),\n",
    "                Comentarios = ISNULL(@Comentarios, Comentarios),\n",
    "                EsConfidencial = ISNULL(@EsConfidencial, EsConfidencial),\n",
    "                FechaExpiracion = @FechaExpiracion,\n",
    "                HashDocumento = ISNULL(@HashDocumento, HashDocumento)\n",
    "            WHERE IdDocumento = @IdDocumento;\n",
    "\n",
    "            -- Registrar en auditoría\n",
    "            INSERT INTO [dbo].[AuditoriaAcciones] (\n",
    "                IdUsuario, FechaAccion, Tabla, Accion, Detalles, IdDocumento\n",
    "            )\n",
    "            VALUES (\n",
    "                @IdUsuario, GETDATE(), 'Documentos', 'UPDATE',\n",
    "                'Documento actualizado con IdDocumento: ' + CAST(@IdDocumento AS NVARCHAR(10)), @IdDocumento\n",
    "            );\n",
    "        END\n",
    "        ELSE IF @Accion = 'Eliminar'\n",
    "        BEGIN\n",
    "            -- Validar documento\n",
    "            IF NOT EXISTS (SELECT 1 FROM [dbo].[Documentos] WHERE IdDocumento = @IdDocumento)\n",
    "                THROW 50005, 'El documento especificado no existe.', 1;\n",
    "\n",
    "            -- Verificar permisos\n",
    "            IF EXISTS (SELECT 1 FROM [dbo].[Documentos] WHERE IdDocumento = @IdDocumento AND EsConfidencial = 1)\n",
    "                AND NOT EXISTS (\n",
    "                    SELECT 1 FROM [dbo].[PermisosDocumento] \n",
    "                    WHERE IdDocumento = @IdDocumento AND IdUsuario = @IdUsuario AND Permiso = 'Eliminar'\n",
    "                )\n",
    "                THROW 50006, 'No tiene permisos para eliminar este documento confidencial.', 1;\n",
    "\n",
    "            -- Eliminar permisos asociados\n",
    "            DELETE FROM [dbo].[PermisosDocumento] WHERE IdDocumento = @IdDocumento;\n",
    "\n",
    "            -- Eliminar documento\n",
    "            DELETE FROM [dbo].[Documentos] WHERE IdDocumento = @IdDocumento;\n",
    "\n",
    "            -- Registrar en auditoría\n",
    "            INSERT INTO [dbo].[AuditoriaAcciones] (\n",
    "                IdUsuario, FechaAccion, Tabla, Accion, Detalles, IdDocumento\n",
    "            )\n",
    "            VALUES (\n",
    "                @IdUsuario, GETDATE(), 'Documentos', 'DELETE',\n",
    "                'Documento eliminado con IdDocumento: ' + CAST(@IdDocumento AS NVARCHAR(10)), @IdDocumento\n",
    "            );\n",
    "        END\n",
    "        ELSE IF @Accion = 'Consultar'\n",
    "        BEGIN\n",
    "            -- Consultar documentos, respetando permisos\n",
    "            SELECT \n",
    "                d.IdDocumento,\n",
    "                d.IdEntidad,\n",
    "                d.NombreArchivo,\n",
    "                d.RutaArchivo,\n",
    "                d.Extension,\n",
    "                d.TamanoKB,\n",
    "                d.FechaSubida,\n",
    "                u.NombreCompleto AS SubidoPor,\n",
    "                td.Nombre AS TipoDocumento,\n",
    "                e.Nombre AS EntidadTipo,\n",
    "                d.Comentarios,\n",
    "                d.EsConfidencial,\n",
    "                d.FechaExpiracion\n",
    "            FROM [dbo].[Documentos] d\n",
    "            JOIN [dbo].[Usuarios] u ON d.SubidoPor = u.IdUsuario\n",
    "            JOIN [dbo].[TiposDocumentos] td ON d.IdTipoDocumento = td.IdTipoDocumento\n",
    "            JOIN [dbo].[Entidades] e ON d.IdEntidadTipo = e.IdEntidadTipo\n",
    "            WHERE (@IdSolicitud IS NULL OR d.IdEntidad = @IdSolicitud)\n",
    "              AND (@IdDocumento IS NULL OR d.IdDocumento = @IdDocumento)\n",
    "              AND (d.EsConfidencial = 0 OR EXISTS (\n",
    "                  SELECT 1 FROM [dbo].[PermisosDocumento] pd\n",
    "                  WHERE pd.IdDocumento = d.IdDocumento \n",
    "                    AND (pd.IdUsuario = @IdUsuario OR pd.IdRol IN (\n",
    "                        SELECT IdRol FROM [dbo].[Usuarios] WHERE IdUsuario = @IdUsuario\n",
    "                    ))\n",
    "                    AND pd.Permiso = 'Leer'\n",
    "              ))\n",
    "              AND (d.FechaExpiracion IS NULL OR d.FechaExpiracion > GETDATE());\n",
    "        END\n",
    "        ELSE\n",
    "        BEGIN\n",
    "            THROW 50007, 'Acción no válida. Use Insertar, Actualizar, Eliminar o Consultar.', 1;\n",
    "        END;\n",
    "\n",
    "        COMMIT TRANSACTION;\n",
    "\n",
    "        IF @Accion IN ('Insertar', 'Actualizar', 'Eliminar')\n",
    "        BEGIN\n",
    "            SELECT @IdDocumento AS IdDocumento;\n",
    "        END;\n",
    "    END TRY\n",
    "    BEGIN CATCH\n",
    "        IF @@TRANCOUNT > 0\n",
    "            ROLLBACK TRANSACTION;\n",
    "        DECLARE @ErrorMessage NVARCHAR(4000) = ERROR_MESSAGE();\n",
    "        DECLARE @ErrorSeverity INT = ERROR_SEVERITY();\n",
    "        DECLARE @ErrorState INT = ERROR_STATE();\n",
    "        THROW 50008, @ErrorMessage, @ErrorState;\n",
    "    END CATCH;\n",
    "END;\n",
    "GO\n"
   ]
  },
  {
   "cell_type": "markdown",
   "metadata": {
    "object_type": "StoredProcedure",
    "urn": "Server[@Name='Windows10-Pepe']/Database[@Name='CEFEGEN']/StoredProcedure[@Name='sp_GestionarResultado' and @Schema='dbo']"
   },
   "source": [
    "# [dbo].[sp_GestionarResultado]"
   ]
  },
  {
   "cell_type": "code",
   "execution_count": 0,
   "metadata": {
    "object_type": "StoredProcedure",
    "urn": "Server[@Name='Windows10-Pepe']/Database[@Name='CEFEGEN']/StoredProcedure[@Name='sp_GestionarResultado' and @Schema='dbo']"
   },
   "outputs": [],
   "source": [
    "/****** Object:  StoredProcedure [dbo].[sp_GestionarResultado]    Script Date: 20/06/2025 18:08:56 ******/\n",
    "SET ANSI_NULLS ON\n",
    "GO\n",
    "SET QUOTED_IDENTIFIER ON\n",
    "GO\n",
    "CREATE   PROCEDURE [dbo].[sp_GestionarResultado]\n",
    "    @Accion NVARCHAR(50), -- 'Registrar', 'AprobarTecnico', 'Validar', 'Consultar'\n",
    "    @TipoResultado NVARCHAR(50), -- 'Parentesco', 'Genetica', 'Citogenetica', 'Andrologia'\n",
    "    @IdResultado INT = NULL,\n",
    "    @IdLineaPeticion INT = NULL,\n",
    "    @Resultado NVARCHAR(MAX) = NULL,\n",
    "    @IdUsuario INT,\n",
    "    @EstadoValidacion NVARCHAR(50) = NULL,\n",
    "    @Observaciones NVARCHAR(MAX) = NULL,\n",
    "    @NivelValidacion INT = 1,\n",
    "    @GenerarInforme BIT = 0,\n",
    "    @IdSolicitud INT = NULL -- Para consultar por solicitud\n",
    "AS\n",
    "BEGIN\n",
    "    SET NOCOUNT ON;\n",
    "\n",
    "    BEGIN TRY\n",
    "        BEGIN TRANSACTION;\n",
    "\n",
    "        -- Validar usuario\n",
    "        IF NOT EXISTS (SELECT 1 FROM [dbo].[Usuarios] WHERE IdUsuario = @IdUsuario AND Activo = 1)\n",
    "        BEGIN\n",
    "            SELECT IdUsuario, NombreUsuario, NombreCompleto\n",
    "            FROM [dbo].[Usuarios]\n",
    "            WHERE Activo = 1;\n",
    "            THROW 50001, 'El usuario especificado no existe o no está activo.', 1;\n",
    "        END;\n",
    "\n",
    "        -- Validar tipo de resultado\n",
    "        IF @TipoResultado NOT IN ('Parentesco', 'Genetica', 'Citogenetica', 'Andrologia')\n",
    "            THROW 50002, 'Tipo de resultado no válido.', 1;\n",
    "\n",
    "        DECLARE @Tabla NVARCHAR(50), @Sql NVARCHAR(MAX), @IdValidacion INT;\n",
    "\n",
    "        IF @Accion = 'Registrar'\n",
    "        BEGIN\n",
    "            -- Validar parámetros\n",
    "            IF @IdLineaPeticion IS NULL OR @Resultado IS NULL\n",
    "                THROW 50003, 'IdLineaPeticion y Resultado son requeridos para registrar.', 1;\n",
    "\n",
    "            -- Validar línea de petición\n",
    "            IF NOT EXISTS (SELECT 1 FROM [dbo].[PeticionesLin] WHERE IdLineaPeticion = @IdLineaPeticion)\n",
    "                THROW 50004, 'La línea de petición especificada no existe.', 1;\n",
    "\n",
    "            -- Seleccionar tabla según tipo\n",
    "            IF @TipoResultado = 'Parentesco'\n",
    "                SET @Tabla = '[dbo].[ResultadosParentesco]';\n",
    "            ELSE IF @TipoResultado = 'Genetica'\n",
    "                SET @Tabla = '[dbo].[ResultadosGenetica]';\n",
    "            ELSE IF @TipoResultado = 'Citogenetica'\n",
    "                SET @Tabla = '[dbo].[ResultadosCitogenetica]';\n",
    "            ELSE IF @TipoResultado = 'Andrologia'\n",
    "                SET @Tabla = '[dbo].[ResultadosAndrologia]';\n",
    "\n",
    "            -- Registrar resultado\n",
    "            SET @Sql = N'\n",
    "                INSERT INTO ' + QUOTENAME(@Tabla) + N' (\n",
    "                    IdLineaPeticion, FechaResultado, Resultado, ValidadoPor, EstadoValidacion, EstadoValidacionFinal\n",
    "                )\n",
    "                VALUES (\n",
    "                    @IdLineaPeticion, GETDATE(), @Resultado, @IdUsuario, ''Pendiente'', ''Pendiente''\n",
    "                );\n",
    "                SELECT @IdResultado = SCOPE_IDENTITY();\n",
    "            ';\n",
    "            EXEC sp_executesql @Sql, \n",
    "                N'@IdLineaPeticion INT, @Resultado NVARCHAR(MAX), @IdUsuario INT, @IdResultado INT OUTPUT',\n",
    "                @IdLineaPeticion, @Resultado, @IdUsuario, @IdResultado OUTPUT;\n",
    "\n",
    "            -- Actualizar estado en PeticionesLin\n",
    "            UPDATE [dbo].[PeticionesLin]\n",
    "            SET EstadoResultado = 'Completado',\n",
    "                FechaCompletado = GETDATE(),\n",
    "                NumValidacionesCompletadas = 0\n",
    "            WHERE IdLineaPeticion = @IdLineaPeticion;\n",
    "\n",
    "            -- Registrar en auditoría\n",
    "            INSERT INTO [dbo].[AuditoriaAcciones] (\n",
    "                IdUsuario, FechaAccion, Tabla, Accion, Detalles\n",
    "            )\n",
    "            VALUES (\n",
    "                @IdUsuario, GETDATE(), @Tabla, 'INSERT',\n",
    "                'Resultado registrado para IdLineaPeticion: ' + CAST(@IdLineaPeticion AS NVARCHAR(10))\n",
    "            );\n",
    "        END\n",
    "        ELSE IF @Accion = 'AprobarTecnico'\n",
    "        BEGIN\n",
    "            -- Validar parámetros\n",
    "            IF @IdResultado IS NULL OR @EstadoValidacion IS NULL\n",
    "                THROW 50005, 'IdResultado y EstadoValidacion son requeridos para aprobar por técnico.', 1;\n",
    "\n",
    "            IF @EstadoValidacion NOT IN ('AprobadoPorTecnico', 'RechazadoPorTecnico')\n",
    "                THROW 50006, 'EstadoValidacion debe ser AprobadoPorTecnico o RechazadoPorTecnico.', 1;\n",
    "\n",
    "            -- Seleccionar tabla según tipo\n",
    "            IF @TipoResultado = 'Parentesco'\n",
    "                SET @Tabla = '[dbo].[ResultadosParentesco]';\n",
    "            ELSE IF @TipoResultado = 'Genetica'\n",
    "                SET @Tabla = '[dbo].[ResultadosGenetica]';\n",
    "            ELSE IF @TipoResultado = 'Citogenetica'\n",
    "                SET @Tabla = '[dbo].[ResultadosCitogenetica]';\n",
    "            ELSE IF @TipoResultado = 'Andrologia'\n",
    "                SET @Tabla = '[dbo].[ResultadosAndrologia]';\n",
    "\n",
    "            -- Verificar que el usuario es el técnico que registró el resultado\n",
    "            SET @Sql = N'\n",
    "                SELECT 1 \n",
    "                FROM ' + QUOTENAME(@Tabla) + ' \n",
    "                WHERE ' + \n",
    "                CASE \n",
    "                    WHEN @TipoResultado = 'Parentesco' THEN 'IdResultadoParentesco'\n",
    "                    WHEN @TipoResultado = 'Genetica' THEN 'IdResultadoGenetica'\n",
    "                    WHEN @TipoResultado = 'Citogenetica' THEN 'IdResultadoCitogenetica'\n",
    "                    WHEN @TipoResultado = 'Andrologia' THEN 'IdResultadoAndrologia'\n",
    "                END + ' = @IdResultado AND ValidadoPor = @IdUsuario;\n",
    "            ';\n",
    "            EXEC sp_executesql @Sql, \n",
    "                N'@IdResultado INT, @IdUsuario INT',\n",
    "                @IdResultado, @IdUsuario;\n",
    "            IF @@ROWCOUNT = 0\n",
    "                THROW 50007, 'El usuario no es el técnico que registró el resultado.', 1;\n",
    "\n",
    "            -- Actualizar EstadoValidacion\n",
    "            SET @Sql = N'\n",
    "                UPDATE ' + QUOTENAME(@Tabla) + '\n",
    "                SET EstadoValidacion = @EstadoValidacion\n",
    "                WHERE ' + \n",
    "                CASE \n",
    "                    WHEN @TipoResultado = 'Parentesco' THEN 'IdResultadoParentesco'\n",
    "                    WHEN @TipoResultado = 'Genetica' THEN 'IdResultadoGenetica'\n",
    "                    WHEN @TipoResultado = 'Citogenetica' THEN 'IdResultadoCitogenetica'\n",
    "                    WHEN @TipoResultado = 'Andrologia' THEN 'IdResultadoAndrologia'\n",
    "                END + ' = @IdResultado;\n",
    "            ';\n",
    "            EXEC sp_executesql @Sql, \n",
    "                N'@EstadoValidacion NVARCHAR(50), @IdResultado INT',\n",
    "                @EstadoValidacion, @IdResultado;\n",
    "\n",
    "            -- Registrar en auditoría\n",
    "            INSERT INTO [dbo].[AuditoriaAcciones] (\n",
    "                IdUsuario, FechaAccion, Tabla, Accion, Detalles\n",
    "            )\n",
    "            VALUES (\n",
    "                @IdUsuario, GETDATE(), @Tabla, 'UPDATE',\n",
    "                'Resultado aprobado/rechazado por técnico para IdResultado: ' + CAST(@IdResultado AS NVARCHAR(10))\n",
    "            );\n",
    "        END\n",
    "        ELSE IF @Accion = 'Validar'\n",
    "        BEGIN\n",
    "            -- Validar parámetros\n",
    "            IF @IdResultado IS NULL OR @EstadoValidacion IS NULL OR @NivelValidacion < 1\n",
    "                THROW 50008, 'IdResultado, EstadoValidacion y NivelValidacion son requeridos para validar.', 1;\n",
    "\n",
    "            IF @EstadoValidacion NOT IN ('Aprobado', 'Rechazado', 'Revisar')\n",
    "                THROW 50009, 'EstadoValidacion debe ser Aprobado, Rechazado o Revisar.', 1;\n",
    "\n",
    "            -- Seleccionar tabla según tipo\n",
    "            IF @TipoResultado = 'Parentesco'\n",
    "                SET @Tabla = '[dbo].[ResultadosParentesco]';\n",
    "            ELSE IF @TipoResultado = 'Genetica'\n",
    "                SET @Tabla = '[dbo].[ResultadosGenetica]';\n",
    "            ELSE IF @TipoResultado = 'Citogenetica'\n",
    "                SET @Tabla = '[dbo].[ResultadosCitogenetica]';\n",
    "            ELSE IF @TipoResultado = 'Andrologia'\n",
    "                SET @Tabla = '[dbo].[ResultadosAndrologia]';\n",
    "\n",
    "            -- Verificar que el resultado está aprobado por el técnico\n",
    "            SET @Sql = N'\n",
    "                SELECT 1 \n",
    "                FROM ' + QUOTENAME(@Tabla) + ' \n",
    "                WHERE ' + \n",
    "                CASE \n",
    "                    WHEN @TipoResultado = 'Parentesco' THEN 'IdResultadoParentesco'\n",
    "                    WHEN @TipoResultado = 'Genetica' THEN 'IdResultadoGenetica'\n",
    "                    WHEN @TipoResultado = 'Citogenetica' THEN 'IdResultadoCitogenetica'\n",
    "                    WHEN @TipoResultado = 'Andrologia' THEN 'IdResultadoAndrologia'\n",
    "                END + ' = @IdResultado AND EstadoValidacion = ''AprobadoPorTecnico'';\n",
    "            ';\n",
    "            EXEC sp_executesql @Sql, \n",
    "                N'@IdResultado INT',\n",
    "                @IdResultado;\n",
    "            IF @@ROWCOUNT = 0\n",
    "                THROW 50010, 'El resultado no ha sido aprobado por el técnico.', 1;\n",
    "\n",
    "            -- Validar que el usuario tiene el rol requerido\n",
    "            DECLARE @NumValidacionesRequeridas INT, @RolRequerido INT;\n",
    "            SELECT @NumValidacionesRequeridas = NumValidacionesRequeridas, @RolRequerido = RolRequerido\n",
    "            FROM [dbo].[ConfigValidaciones]\n",
    "            WHERE TipoResultado = @TipoResultado;\n",
    "\n",
    "            IF NOT EXISTS (\n",
    "                SELECT 1 \n",
    "                FROM [dbo].[Usuarios] u\n",
    "                JOIN [dbo].[Roles] r ON u.IdRol = r.IdRol\n",
    "                WHERE u.IdUsuario = @IdUsuario AND (r.IdRol = @RolRequerido OR @RolRequerido IS NULL)\n",
    "            )\n",
    "                THROW 50011, 'El usuario no tiene el rol requerido para validar este resultado.', 1;\n",
    "\n",
    "            -- Registrar validación\n",
    "            INSERT INTO [dbo].[ValidacionesResultado] (\n",
    "                IdResultado, TipoResultado, IdUsuarioValidador, EstadoValidacion, Observaciones, FechaValidacion, NivelValidacion\n",
    "            )\n",
    "            VALUES (\n",
    "                @IdResultado, @TipoResultado, @IdUsuario, @EstadoValidacion, @Observaciones, GETDATE(), @NivelValidacion\n",
    "            );\n",
    "            SET @IdValidacion = SCOPE_IDENTITY();\n",
    "\n",
    "            -- Obtener IdLineaPeticion\n",
    "            DECLARE @CurrentIdLineaPeticion INT;\n",
    "            IF @TipoResultado = 'Parentesco'\n",
    "                SELECT @CurrentIdLineaPeticion = IdLineaPeticion FROM [dbo].[ResultadosParentesco] WHERE IdResultadoParentesco = @IdResultado;\n",
    "            ELSE IF @TipoResultado = 'Genetica'\n",
    "                SELECT @CurrentIdLineaPeticion = IdLineaPeticion FROM [dbo].[ResultadosGenetica] WHERE IdResultadoGenetica = @IdResultado;\n",
    "            ELSE IF @TipoResultado = 'Citogenetica'\n",
    "                SELECT @CurrentIdLineaPeticion = IdLineaPeticion FROM [dbo].[ResultadosCitogenetica] WHERE IdResultadoCitogenetica = @IdResultado;\n",
    "            ELSE IF @TipoResultado = 'Andrologia'\n",
    "                SELECT @CurrentIdLineaPeticion = IdLineaPeticion FROM [dbo].[ResultadosAndrologia] WHERE IdResultadoAndrologia = @IdResultado;\n",
    "\n",
    "            -- Actualizar número de validaciones completadas\n",
    "            UPDATE [dbo].[PeticionesLin]\n",
    "            SET NumValidacionesCompletadas = (\n",
    "                SELECT COUNT(*) \n",
    "                FROM [dbo].[ValidacionesResultado] \n",
    "                WHERE IdResultado = @IdResultado AND TipoResultado = @TipoResultado AND EstadoValidacion = 'Aprobado'\n",
    "            )\n",
    "            WHERE IdLineaPeticion = @CurrentIdLineaPeticion;\n",
    "\n",
    "            -- Determinar si es la validación final\n",
    "            DECLARE @NumValidacionesCompletadas INT;\n",
    "            SELECT @NumValidacionesCompletadas = NumValidacionesCompletadas\n",
    "            FROM [dbo].[PeticionesLin]\n",
    "            WHERE IdLineaPeticion = @CurrentIdLineaPeticion;\n",
    "\n",
    "            IF @NumValidacionesCompletadas >= @NumValidacionesRequeridas OR @EstadoValidacion IN ('Rechazado', 'Revisar')\n",
    "            BEGIN\n",
    "                SET @Sql = N'\n",
    "                    UPDATE ' + QUOTENAME(@Tabla) + '\n",
    "                    SET EstadoValidacionFinal = CASE \n",
    "                        WHEN @EstadoValidacion = ''Revisar'' THEN ''Pendiente''\n",
    "                        ELSE @EstadoValidacion\n",
    "                    END\n",
    "                    WHERE ' + \n",
    "                    CASE \n",
    "                        WHEN @TipoResultado = 'Parentesco' THEN 'IdResultadoParentesco'\n",
    "                        WHEN @TipoResultado = 'Genetica' THEN 'IdResultadoGenetica'\n",
    "                        WHEN @TipoResultado = 'Citogenetica' THEN 'IdResultadoCitogenetica'\n",
    "                        WHEN @TipoResultado = 'Andrologia' THEN 'IdResultadoAndrologia'\n",
    "                    END + ' = @IdResultado;\n",
    "                ';\n",
    "                EXEC sp_executesql @Sql, \n",
    "                    N'@EstadoValidacion NVARCHAR(50), @IdResultado INT',\n",
    "                    @EstadoValidacion, @IdResultado;\n",
    "\n",
    "                UPDATE [dbo].[ValidacionesResultado]\n",
    "                SET EsFinal = 1\n",
    "                WHERE IdValidacion = @IdValidacion;\n",
    "\n",
    "                IF @EstadoValidacion = 'Aprobado' AND @GenerarInforme = 1\n",
    "                BEGIN\n",
    "                    -- Precompute subquery values for INSERT\n",
    "                    DECLARE @IdEntidad INT, @IdTipoDocumento INT, @IdEntidadTipo INT;\n",
    "                    SELECT @IdEntidad = IdSolicitud FROM [dbo].[PeticionesLin] WHERE IdLineaPeticion = @CurrentIdLineaPeticion;\n",
    "                    IF @IdEntidad IS NULL\n",
    "                        THROW 50015, 'No se encontró IdSolicitud para la línea de petición.', 1;\n",
    "\n",
    "                    SELECT @IdTipoDocumento = IdTipoDocumento FROM [dbo].[TiposDocumentos] WHERE Nombre = 'Informe';\n",
    "                    IF @IdTipoDocumento IS NULL\n",
    "                        THROW 50016, 'No se encontró tipo de documento Informe.', 1;\n",
    "\n",
    "                    SELECT @IdEntidadTipo = IdEntidadTipo FROM [dbo].[Entidades] WHERE Nombre = 'Solicitudes';\n",
    "                    IF @IdEntidadTipo IS NULL\n",
    "                        THROW 50017, 'No se encontró entidad Solicitudes.', 1;\n",
    "\n",
    "                    -- Generar informe\n",
    "                    DECLARE @IdDocumento INT, @RutaArchivo NVARCHAR(500) = '/documents/cefegen/Resultado_' + CAST(@IdResultado AS NVARCHAR(10)) + '.pdf';\n",
    "                    DECLARE @NombreArchivo NVARCHAR(255) = 'Resultado_' + CAST(@IdResultado AS NVARCHAR(10)) + '.pdf';\n",
    "                    INSERT INTO [dbo].[Documentos] (\n",
    "                        IdEntidad, NombreArchivo, RutaArchivo, Extension, TamanoKB, FechaSubida, SubidoPor,\n",
    "                        IdTipoDocumento, IdEntidadTipo\n",
    "                    )\n",
    "                    VALUES (\n",
    "                        @IdEntidad, @NombreArchivo, @RutaArchivo, 'pdf', 100, GETDATE(), @IdUsuario,\n",
    "                        @IdTipoDocumento, @IdEntidadTipo\n",
    "                    );\n",
    "                    SET @IdDocumento = SCOPE_IDENTITY();\n",
    "\n",
    "                    -- Actualizar resultado con IdDocumento\n",
    "                    SET @Sql = N'\n",
    "                        UPDATE ' + QUOTENAME(@Tabla) + '\n",
    "                        SET IdDocumento = @IdDocumento\n",
    "                        WHERE ' + \n",
    "                        CASE \n",
    "                            WHEN @TipoResultado = 'Parentesco' THEN 'IdResultadoParentesco'\n",
    "                            WHEN @TipoResultado = 'Genetica' THEN 'IdResultadoGenetica'\n",
    "                            WHEN @TipoResultado = 'Citogenetica' THEN 'IdResultadoCitogenetica'\n",
    "                            WHEN @TipoResultado = 'Andrologia' THEN 'IdResultadoAndrologia'\n",
    "                        END + ' = @IdResultado;\n",
    "                    ';\n",
    "                    EXEC sp_executesql @Sql, \n",
    "                        N'@IdDocumento INT, @IdResultado INT',\n",
    "                        @IdDocumento, @IdResultado;\n",
    "\n",
    "                    -- Notificar al cliente\n",
    "                    DECLARE @IdNotificacion INT;\n",
    "                    BEGIN TRY\n",
    "                        EXEC [dbo].[sp_EnviarNotificacion]\n",
    "                            @IdSolicitud = @IdEntidad,\n",
    "                            @TipoNotificacion = 'ResultadoDisponible',\n",
    "                            @IdUsuario = @IdUsuario,\n",
    "                            @IdNotificacion = @IdNotificacion OUTPUT;\n",
    "                    END TRY\n",
    "                    BEGIN CATCH\n",
    "                        INSERT INTO [dbo].[AuditoriaAcciones] (\n",
    "                            IdUsuario, FechaAccion, Tabla, Accion, Detalles\n",
    "                        )\n",
    "                        VALUES (\n",
    "                            @IdUsuario, GETDATE(), 'Documentos', 'ERROR',\n",
    "                            'Error al enviar notificación para IdResultado: ' + CAST(@IdResultado AS NVARCHAR(10)) + ': ' + ERROR_MESSAGE()\n",
    "                        );\n",
    "                    END CATCH;\n",
    "\n",
    "                    -- Marcar como notificado\n",
    "                    SET @Sql = N'\n",
    "                        UPDATE ' + QUOTENAME(@Tabla) + '\n",
    "                        SET Notificado = 1\n",
    "                        WHERE ' + \n",
    "                        CASE \n",
    "                            WHEN @TipoResultado = 'Parentesco' THEN 'IdResultadoParentesco'\n",
    "                            WHEN @TipoResultado = 'Genetica' THEN 'IdResultadoGenetica'\n",
    "                            WHEN @TipoResultado = 'Citogenetica' THEN 'IdResultadoCitogenetica'\n",
    "                            WHEN @TipoResultado = 'Andrologia' THEN 'IdResultadoAndrologia'\n",
    "                        END + ' = @IdResultado;\n",
    "                    ';\n",
    "                    EXEC sp_executesql @Sql, \n",
    "                        N'@IdResultado INT',\n",
    "                        @IdResultado;\n",
    "                END;\n",
    "            END;\n",
    "\n",
    "            -- Registrar en auditoría\n",
    "            INSERT INTO [dbo].[AuditoriaAcciones] (\n",
    "                IdUsuario, FechaAccion, Tabla, Accion, Detalles\n",
    "            )\n",
    "            VALUES (\n",
    "                @IdUsuario, GETDATE(), 'ValidacionesResultado', 'INSERT',\n",
    "                'Validación registrada para IdResultado: ' + CAST(@IdResultado AS NVARCHAR(10)) + ', Nivel: ' + CAST(@NivelValidacion AS NVARCHAR(10))\n",
    "            );\n",
    "        END\n",
    "        ELSE IF @Accion = 'Consultar'\n",
    "        BEGIN\n",
    "            -- Consultar resultados por solicitud\n",
    "            IF @IdSolicitud IS NULL\n",
    "                THROW 50012, 'IdSolicitud es requerido para consultar.', 1;\n",
    "\n",
    "            SELECT \n",
    "                r.IdResultadoParentesco AS IdResultado,\n",
    "                'Parentesco' AS TipoResultado,\n",
    "                r.IdLineaPeticion,\n",
    "                r.FechaResultado,\n",
    "                r.Resultado,\n",
    "                r.EstadoValidacion,\n",
    "                r.EstadoValidacionFinal,\n",
    "                r.FechaValidacion,\n",
    "                u.NombreCompleto AS ValidadoPor,\n",
    "                r.IdDocumento,\n",
    "                (SELECT COUNT(*) FROM [dbo].[ValidacionesResultado] vr WHERE vr.IdResultado = r.IdResultadoParentesco AND vr.TipoResultado = 'Parentesco') AS NumValidaciones\n",
    "            FROM [dbo].[ResultadosParentesco] r\n",
    "            LEFT JOIN [dbo].[Usuarios] u ON r.ValidadoPor = u.IdUsuario\n",
    "            JOIN [dbo].[PeticionesLin] pl ON r.IdLineaPeticion = pl.IdLineaPeticion\n",
    "            JOIN [dbo].[Peticiones] p ON pl.IdPeticion = p.IdPeticion\n",
    "            WHERE p.IdSolicitud = @IdSolicitud\n",
    "            UNION ALL\n",
    "            SELECT \n",
    "                r.IdResultadoGenetica AS IdResultado,\n",
    "                'Genetica' AS TipoResultado,\n",
    "                r.IdLineaPeticion,\n",
    "                r.FechaResultado,\n",
    "                r.Resultado,\n",
    "                r.EstadoValidacion,\n",
    "                r.EstadoValidacionFinal,\n",
    "                r.FechaValidacion,\n",
    "                u.NombreCompleto AS ValidadoPor,\n",
    "                r.IdDocumento,\n",
    "                (SELECT COUNT(*) FROM [dbo].[ValidacionesResultado] vr WHERE vr.IdResultado = r.IdResultadoGenetica AND vr.TipoResultado = 'Genetica') AS NumValidaciones\n",
    "            FROM [dbo].[ResultadosGenetica] r\n",
    "            LEFT JOIN [dbo].[Usuarios] u ON r.ValidadoPor = u.IdUsuario\n",
    "            JOIN [dbo].[PeticionesLin] pl ON r.IdLineaPeticion = pl.IdLineaPeticion\n",
    "            JOIN [dbo].[Peticiones] p ON pl.IdPeticion = p.IdPeticion\n",
    "            WHERE p.IdSolicitud = @IdSolicitud\n",
    "            UNION ALL\n",
    "            SELECT \n",
    "                r.IdResultadoCitogenetica AS IdResultado,\n",
    "                'Citogenetica' AS TipoResultado,\n",
    "                r.IdLineaPeticion,\n",
    "                r.FechaResultado,\n",
    "                r.Resultado,\n",
    "                r.EstadoValidacion,\n",
    "                r.EstadoValidacionFinal,\n",
    "                r.FechaValidacion,\n",
    "                u.NombreCompleto AS ValidadoPor,\n",
    "                r.IdDocumento,\n",
    "                (SELECT COUNT(*) FROM [dbo].[ValidacionesResultado] vr WHERE vr.IdResultado = r.IdResultadoCitogenetica AND vr.TipoResultado = 'Citogenetica') AS NumValidaciones\n",
    "            FROM [dbo].[ResultadosCitogenetica] r\n",
    "            LEFT JOIN [dbo].[Usuarios] u ON r.ValidadoPor = u.IdUsuario\n",
    "            JOIN [dbo].[PeticionesLin] pl ON r.IdLineaPeticion = pl.IdLineaPeticion\n",
    "            JOIN [dbo].[Peticiones] p ON pl.IdPeticion = p.IdPeticion\n",
    "            WHERE p.IdSolicitud = @IdSolicitud\n",
    "            UNION ALL\n",
    "            SELECT \n",
    "                r.IdResultadoAndrologia AS IdResultado,\n",
    "                'Andrologia' AS TipoResultado,\n",
    "                r.IdLineaPeticion,\n",
    "                r.FechaResultado,\n",
    "                r.Resultado,\n",
    "                r.EstadoValidacion,\n",
    "                r.EstadoValidacionFinal,\n",
    "                r.FechaValidacion,\n",
    "                u.NombreCompleto AS ValidadoPor,\n",
    "                r.IdDocumento,\n",
    "                (SELECT COUNT(*) FROM [dbo].[ValidacionesResultado] vr WHERE vr.IdResultado = r.IdResultadoAndrologia AND vr.TipoResultado = 'Andrologia') AS NumValidaciones\n",
    "            FROM [dbo].[ResultadosAndrologia] r\n",
    "            LEFT JOIN [dbo].[Usuarios] u ON r.ValidadoPor = u.IdUsuario\n",
    "            JOIN [dbo].[PeticionesLin] pl ON r.IdLineaPeticion = pl.IdLineaPeticion\n",
    "            JOIN [dbo].[Peticiones] p ON pl.IdPeticion = p.IdPeticion\n",
    "            WHERE p.IdSolicitud = @IdSolicitud;\n",
    "        END\n",
    "        ELSE\n",
    "        BEGIN\n",
    "            THROW 50013, 'Acción no válida. Use Registrar, AprobarTecnico, Validar o Consultar.', 1;\n",
    "        END;\n",
    "\n",
    "        -- Actualizar estado de la solicitud\n",
    "        IF @IdLineaPeticion IS NOT NULL\n",
    "        BEGIN\n",
    "            UPDATE [dbo].[Solicitudes]\n",
    "            SET EstadoResultados = CASE\n",
    "                WHEN EXISTS (\n",
    "                    SELECT 1 \n",
    "                    FROM [dbo].[PeticionesLin] pl\n",
    "                    LEFT JOIN [dbo].[ResultadosParentesco] rp ON pl.IdLineaPeticion = rp.IdLineaPeticion\n",
    "                    LEFT JOIN [dbo].[ResultadosGenetica] rg ON pl.IdLineaPeticion = rg.IdLineaPeticion\n",
    "                    LEFT JOIN [dbo].[ResultadosCitogenetica] rc ON pl.IdLineaPeticion = rc.IdLineaPeticion\n",
    "                    LEFT JOIN [dbo].[ResultadosAndrologia] ra ON pl.IdLineaPeticion = ra.IdLineaPeticion\n",
    "                    WHERE pl.IdPeticion IN (SELECT IdPeticion FROM [dbo].[Peticiones] WHERE IdSolicitud = (SELECT IdSolicitud FROM [dbo].[Peticiones] WHERE IdPeticion = (SELECT IdPeticion FROM [dbo].[PeticionesLin] WHERE IdLineaPeticion = @IdLineaPeticion)))\n",
    "                      AND (rp.IdResultadoParentesco IS NULL AND rg.IdResultadoGenetica IS NULL \n",
    "                           AND rc.IdResultadoCitogenetica IS NULL AND ra.IdResultadoAndrologia IS NULL)\n",
    "                ) THEN 'Pendiente'\n",
    "                WHEN EXISTS (\n",
    "                    SELECT 1 \n",
    "                    FROM [dbo].[PeticionesLin] pl\n",
    "                    WHERE pl.IdPeticion IN (SELECT IdPeticion FROM [dbo].[Peticiones] WHERE IdSolicitud = (SELECT IdSolicitud FROM [dbo].[Peticiones] WHERE IdPeticion = (SELECT IdPeticion FROM [dbo].[PeticionesLin] WHERE IdLineaPeticion = @IdLineaPeticion)))\n",
    "                      AND pl.EstadoResultado <> 'Completado'\n",
    "                ) THEN 'Parcial'\n",
    "                ELSE 'Completado'\n",
    "            END\n",
    "            WHERE IdSolicitud = (SELECT IdSolicitud FROM [dbo].[Peticiones] WHERE IdPeticion = (SELECT IdPeticion FROM [dbo].[PeticionesLin] WHERE IdLineaPeticion = @IdLineaPeticion));\n",
    "        END;\n",
    "\n",
    "        COMMIT TRANSACTION;\n",
    "\n",
    "        IF @Accion IN ('Registrar', 'AprobarTecnico', 'Validar')\n",
    "        BEGIN\n",
    "            SELECT @IdResultado AS IdResultado;\n",
    "        END;\n",
    "    END TRY\n",
    "    BEGIN CATCH\n",
    "        IF @@TRANCOUNT > 0\n",
    "            ROLLBACK TRANSACTION;\n",
    "        DECLARE @ErrorMessage NVARCHAR(4000) = ERROR_MESSAGE();\n",
    "        DECLARE @ErrorSeverity INT = ERROR_SEVERITY();\n",
    "        DECLARE @ErrorState INT = ERROR_STATE();\n",
    "        THROW 50014, @ErrorMessage, @ErrorState;\n",
    "    END CATCH;\n",
    "END;\n",
    "GO\n"
   ]
  },
  {
   "cell_type": "markdown",
   "metadata": {
    "object_type": "StoredProcedure",
    "urn": "Server[@Name='Windows10-Pepe']/Database[@Name='CEFEGEN']/StoredProcedure[@Name='sp_ListarPreciosPorPlazoEntrega' and @Schema='dbo']"
   },
   "source": [
    "# [dbo].[sp_ListarPreciosPorPlazoEntrega]"
   ]
  },
  {
   "cell_type": "markdown",
   "metadata": {},
   "source": [
    "#### Stored Procedure: sp_ListarPreciosPorPlazoEntrega\n",
    "**Purpose**: Lists prices for delivery deadlines.\n",
    "**Parameters**:\n",
    "- `@IdTiposPruebasConsumo` (int): Test type ID.\n",
    "- `@IdTipoMuestra` (int): Sample type ID.\n",
    "- `@NumIntervinientes` (int): Number of participants.\n",
    "- `@NumMuestras` (int): Number of samples.\n",
    "- `@EsLegal` (bit): Legal test flag.\n",
    "- `@EsColaborador` (bit): Collaborator flag.\n",
    "**Logic**: Iterates `PlazosEntrega`, calls `sp_CalcularPrecioTotal` for each deadline, returns sorted results (provided version, not in schema).\n",
    "**Notes**: Replace incorrect schema version (lines 892–908). Add `Descripcion` (nvarchar(100)), `Dias` (int) to `PlazosEntrega` (line 413). Update schema to include this SP."
   ]
  },
  {
   "cell_type": "code",
   "execution_count": 0,
   "metadata": {
    "object_type": "StoredProcedure",
    "urn": "Server[@Name='Windows10-Pepe']/Database[@Name='CEFEGEN']/StoredProcedure[@Name='sp_ListarPreciosPorPlazoEntrega' and @Schema='dbo']"
   },
   "outputs": [],
   "source": [
    "/****** Object:  StoredProcedure [dbo].[sp_ListarPreciosPorPlazoEntrega]    Script Date: 20/06/2025 18:08:56 ******/\n",
    "SET ANSI_NULLS ON\n",
    "GO\n",
    "SET QUOTED_IDENTIFIER ON\n",
    "GO\n",
    "\n",
    "CREATE PROCEDURE [dbo].[sp_ListarPreciosPorPlazoEntrega]\n",
    "    @IdTiposPruebasConsumo INT,\n",
    "    @IdTipoMuestra INT,\n",
    "    @NumIntervinientes INT,\n",
    "    @NumMuestras INT,\n",
    "    @EsLegal BIT,\n",
    "    @EsColaborador BIT\n",
    "AS\n",
    "BEGIN\n",
    "    SET NOCOUNT ON;\n",
    "\n",
    "    BEGIN TRY\n",
    "        -- Validar parámetros\n",
    "        IF @IdTiposPruebasConsumo <= 0 OR @IdTipoMuestra <= 0 OR @NumIntervinientes < 0 OR @NumMuestras < 0\n",
    "        BEGIN\n",
    "            THROW 50001, 'Parámetros de entrada inválidos. Verifique IdTiposPruebasConsumo, IdTipoMuestra, NumIntervinientes y NumMuestras.', 1;\n",
    "        END\n",
    "\n",
    "        -- Crear tabla temporal para resultados\n",
    "        DECLARE @Resultados TABLE (\n",
    "            IdPlazoEntrega INT,\n",
    "            PlazoEntrega NVARCHAR(100),\n",
    "            Dias INT,\n",
    "            Precio DECIMAL(10,2)\n",
    "        );\n",
    "\n",
    "        -- Verificar si existe la configuración\n",
    "        IF NOT EXISTS (\n",
    "            SELECT 1 FROM dbo.ConfiguracionesPrecio \n",
    "            WHERE IdTiposPruebasConsumo = @IdTiposPruebasConsumo \n",
    "              AND EsLegal = @EsLegal \n",
    "              AND EsColaborador = @EsColaborador\n",
    "        )\n",
    "        BEGIN\n",
    "            THROW 50002, 'No se encontró una configuración de precio para los parámetros especificados.', 1;\n",
    "        END\n",
    "\n",
    "        -- Obtener plazos de entrega\n",
    "        DECLARE @IdPlazoEntrega INT, @Descripcion NVARCHAR(100), @Dias INT, @Precio DECIMAL(10,2);\n",
    "        DECLARE plazo_cursor CURSOR FOR\n",
    "        SELECT IdPlazoEntrega, Descripcion, Dias\n",
    "        FROM dbo.PlazosEntrega;\n",
    "\n",
    "        OPEN plazo_cursor;\n",
    "        FETCH NEXT FROM plazo_cursor INTO @IdPlazoEntrega, @Descripcion, @Dias;\n",
    "\n",
    "        WHILE @@FETCH_STATUS = 0\n",
    "        BEGIN\n",
    "            -- Calcular precio\n",
    "            SET @Precio = NULL;\n",
    "            EXEC dbo.sp_CalcularPrecioTotal\n",
    "                @IdTiposPruebasConsumo = @IdTiposPruebasConsumo,\n",
    "                @EsLegal = @EsLegal,\n",
    "                @EsColaborador = @EsColaborador,\n",
    "                @IdTipoMuestra = @IdTipoMuestra,\n",
    "                @IdPlazoEntrega = @IdPlazoEntrega,\n",
    "                @NumIntervinientes = @NumIntervinientes,\n",
    "                @NumMuestras = @NumMuestras,\n",
    "                @IdPeticion = NULL;\n",
    "\n",
    "            IF @Precio IS NOT NULL\n",
    "            BEGIN\n",
    "                INSERT INTO @Resultados (IdPlazoEntrega, PlazoEntrega, Dias, Precio)\n",
    "                VALUES (@IdPlazoEntrega, @Descripcion, @Dias, @Precio);\n",
    "            END\n",
    "\n",
    "            FETCH NEXT FROM plazo_cursor INTO @IdPlazoEntrega, @Descripcion, @Dias;\n",
    "        END;\n",
    "\n",
    "        CLOSE plazo_cursor;\n",
    "        DEALLOCATE plazo_cursor;\n",
    "\n",
    "        -- Devolver resultados\n",
    "        SELECT \n",
    "            IdPlazoEntrega,\n",
    "            PlazoEntrega,\n",
    "            Dias,\n",
    "            Precio\n",
    "        FROM @Resultados\n",
    "        ORDER BY Dias;\n",
    "    END TRY\n",
    "    BEGIN CATCH\n",
    "        DECLARE @ErrorMessage NVARCHAR(4000) = ERROR_MESSAGE();\n",
    "        DECLARE @ErrorSeverity INT = ERROR_SEVERITY();\n",
    "        DECLARE @ErrorState INT = ERROR_STATE();\n",
    "        THROW @ErrorSeverity, @ErrorMessage, @ErrorState;\n",
    "    END CATCH;\n",
    "END;\n",
    "GO\n"
   ]
  },
  {
   "cell_type": "markdown",
   "metadata": {
    "object_type": "StoredProcedure",
    "urn": "Server[@Name='Windows10-Pepe']/Database[@Name='CEFEGEN']/StoredProcedure[@Name='sp_ListarPreciosPorPlazoEntregaFlexible' and @Schema='dbo']"
   },
   "source": [
    "# [dbo].[sp_ListarPreciosPorPlazoEntregaFlexible]"
   ]
  },
  {
   "cell_type": "code",
   "execution_count": 0,
   "metadata": {
    "object_type": "StoredProcedure",
    "urn": "Server[@Name='Windows10-Pepe']/Database[@Name='CEFEGEN']/StoredProcedure[@Name='sp_ListarPreciosPorPlazoEntregaFlexible' and @Schema='dbo']"
   },
   "outputs": [],
   "source": [
    "/****** Object:  StoredProcedure [dbo].[sp_ListarPreciosPorPlazoEntregaFlexible]    Script Date: 20/06/2025 18:08:56 ******/\n",
    "SET ANSI_NULLS ON\n",
    "GO\n",
    "SET QUOTED_IDENTIFIER ON\n",
    "GO\n",
    "CREATE PROCEDURE [dbo].[sp_ListarPreciosPorPlazoEntregaFlexible]\n",
    "    @IdTiposPruebasConsumo INT,\n",
    "    @IdTipoMuestra INT,\n",
    "    @NumIntervinientes INT,\n",
    "    @NumMuestras INT\n",
    "AS\n",
    "BEGIN\n",
    "    SET NOCOUNT ON;\n",
    "\n",
    "    BEGIN TRY\n",
    "        -- Validar parámetros\n",
    "        IF @IdTiposPruebasConsumo <= 0 OR @IdTipoMuestra <= 0 OR @NumIntervinientes < 0 OR @NumMuestras < 0\n",
    "        BEGIN\n",
    "            THROW 50001, 'Parámetros de entrada inválidos. Verifique IdTiposPruebasConsumo, IdTipoMuestra, NumIntervinientes y NumMuestras.', 1;\n",
    "        END\n",
    "\n",
    "        -- Crear tabla temporal para resultados\n",
    "        DECLARE @Resultados TABLE (\n",
    "            IdPlazoEntrega INT,\n",
    "            PlazoEntrega NVARCHAR(100),\n",
    "            Dias INT,\n",
    "            Precio DECIMAL(10,2),\n",
    "            EsLegal BIT,\n",
    "            EsColaborador BIT,\n",
    "            NumIntervinientes INT,\n",
    "            NumMuestras INT\n",
    "        );\n",
    "\n",
    "        -- Obtener plazos de entrega\n",
    "        DECLARE @Plazos TABLE (IdPlazoEntrega INT, Descripcion NVARCHAR(100), Dias INT);\n",
    "        INSERT INTO @Plazos\n",
    "        SELECT IdPlazoEntrega, Descripcion, Dias\n",
    "        FROM dbo.PlazosEntrega;\n",
    "\n",
    "        -- Iterar sobre todas las configuraciones de precios\n",
    "        DECLARE @EsLegal BIT, @EsColaborador BIT, @Precio DECIMAL(10,2);\n",
    "        DECLARE config_cursor CURSOR FOR\n",
    "        SELECT EsLegal, EsColaborador\n",
    "        FROM dbo.ConfiguracionesPrecio\n",
    "        WHERE IdTiposPruebasConsumo = @IdTiposPruebasConsumo;\n",
    "\n",
    "        OPEN config_cursor;\n",
    "        FETCH NEXT FROM config_cursor INTO @EsLegal, @EsColaborador;\n",
    "\n",
    "        WHILE @@FETCH_STATUS = 0\n",
    "        BEGIN\n",
    "            -- Iterar sobre plazos de entrega\n",
    "            DECLARE @IdPlazoEntrega INT, @Descripcion NVARCHAR(100), @Dias INT;\n",
    "            DECLARE plazo_cursor CURSOR FOR\n",
    "            SELECT IdPlazoEntrega, Descripcion, Dias\n",
    "            FROM @Plazos;\n",
    "\n",
    "            OPEN plazo_cursor;\n",
    "            FETCH NEXT FROM plazo_cursor INTO @IdPlazoEntrega, @Descripcion, @Dias;\n",
    "\n",
    "            WHILE @@FETCH_STATUS = 0\n",
    "            BEGIN\n",
    "                -- Calcular precio\n",
    "                SET @Precio = NULL;\n",
    "                EXEC dbo.sp_CalcularPrecioTotal\n",
    "                    @IdTiposPruebasConsumo = @IdTiposPruebasConsumo,\n",
    "                    @EsLegal = @EsLegal,\n",
    "                    @EsColaborador = @EsColaborador,\n",
    "                    @IdTipoMuestra = @IdTipoMuestra,\n",
    "                    @IdPlazoEntrega = @IdPlazoEntrega,\n",
    "                    @NumIntervinientes = @NumIntervinientes,\n",
    "                    @NumMuestras = @NumMuestras,\n",
    "                    @IdPeticion = NULL;\n",
    "\n",
    "                IF @Precio IS NOT NULL\n",
    "                BEGIN\n",
    "                    INSERT INTO @Resultados (IdPlazoEntrega, PlazoEntrega, Dias, Precio, EsLegal, EsColaborador, NumIntervinientes, NumMuestras)\n",
    "                    VALUES (@IdPlazoEntrega, @Descripcion, @Dias, @Precio, @EsLegal, @EsColaborador, @NumIntervinientes, @NumMuestras);\n",
    "                END\n",
    "\n",
    "                FETCH NEXT FROM plazo_cursor INTO @IdPlazoEntrega, @Descripcion, @Dias;\n",
    "            END;\n",
    "\n",
    "            CLOSE plazo_cursor;\n",
    "            DEALLOCATE plazo_cursor;\n",
    "\n",
    "            FETCH NEXT FROM config_cursor INTO @EsLegal, @EsColaborador;\n",
    "        END;\n",
    "\n",
    "        CLOSE config_cursor;\n",
    "        DEALLOCATE config_cursor;\n",
    "\n",
    "        -- Devolver resultados (coincidencias exactas o todas las configuraciones)\n",
    "        IF EXISTS (\n",
    "            SELECT 1 FROM @Resultados \n",
    "            WHERE NumIntervinientes = @NumIntervinientes \n",
    "              AND NumMuestras = @NumMuestras\n",
    "              AND Precio IS NOT NULL\n",
    "        )\n",
    "        BEGIN\n",
    "            SELECT \n",
    "                IdPlazoEntrega,\n",
    "                PlazoEntrega,\n",
    "                Dias,\n",
    "                Precio,\n",
    "                EsLegal,\n",
    "                EsColaborador\n",
    "            FROM @Resultados\n",
    "            WHERE NumIntervinientes = @NumIntervinientes \n",
    "              AND NumMuestras = @NumMuestras\n",
    "              AND Precio IS NOT NULL\n",
    "            ORDER BY Dias;\n",
    "        END\n",
    "        ELSE\n",
    "        BEGIN\n",
    "            SELECT \n",
    "                IdPlazoEntrega,\n",
    "                PlazoEntrega,\n",
    "                Dias,\n",
    "                Precio,\n",
    "                EsLegal,\n",
    "                EsColaborador,\n",
    "                NumIntervinientes,\n",
    "                NumMuestras\n",
    "            FROM @Resultados\n",
    "            WHERE Precio IS NOT NULL\n",
    "            ORDER BY Dias;\n",
    "        END\n",
    "    END TRY\n",
    "    BEGIN CATCH\n",
    "        DECLARE @ErrorMessage NVARCHAR(4000) = ERROR_MESSAGE();\n",
    "        DECLARE @ErrorSeverity INT = ERROR_SEVERITY();\n",
    "        DECLARE @ErrorState INT = ERROR_STATE();\n",
    "        THROW @ErrorSeverity, @ErrorMessage, @ErrorState;\n",
    "    END CATCH;\n",
    "END;\n",
    "GO\n"
   ]
  },
  {
   "cell_type": "markdown",
   "metadata": {
    "object_type": "StoredProcedure",
    "urn": "Server[@Name='Windows10-Pepe']/Database[@Name='CEFEGEN']/StoredProcedure[@Name='sp_ObtenerPrecioEspecifico' and @Schema='dbo']"
   },
   "source": [
    "# [dbo].[sp_ObtenerPrecioEspecifico]"
   ]
  },
  {
   "cell_type": "code",
   "execution_count": 0,
   "metadata": {
    "object_type": "StoredProcedure",
    "urn": "Server[@Name='Windows10-Pepe']/Database[@Name='CEFEGEN']/StoredProcedure[@Name='sp_ObtenerPrecioEspecifico' and @Schema='dbo']"
   },
   "outputs": [],
   "source": [
    "/****** Object:  StoredProcedure [dbo].[sp_ObtenerPrecioEspecifico]    Script Date: 20/06/2025 18:08:56 ******/\n",
    "SET ANSI_NULLS ON\n",
    "GO\n",
    "SET QUOTED_IDENTIFIER ON\n",
    "GO\n",
    "CREATE PROCEDURE [dbo].[sp_ObtenerPrecioEspecifico]\n",
    "    @IdTiposPruebasConsumo INT,\n",
    "    @IdTipoMuestra INT,\n",
    "    @NumIntervinientes INT,\n",
    "    @NumMuestras INT,\n",
    "    @IdPlazoEntrega INT,\n",
    "    @EsLegal BIT,\n",
    "    @EsColaborador BIT,\n",
    "    @Precio DECIMAL(10,2) OUTPUT,\n",
    "    @IdConfiguracion INT OUTPUT\n",
    "AS\n",
    "BEGIN\n",
    "    SET NOCOUNT ON;\n",
    "\n",
    "    BEGIN TRY\n",
    "        -- Validar parámetros\n",
    "        IF @IdTiposPruebasConsumo <= 0 OR @IdTipoMuestra <= 0 OR @NumIntervinientes < 0 OR @NumMuestras < 0 OR @IdPlazoEntrega <= 0\n",
    "        BEGIN\n",
    "            THROW 50001, 'Parámetros de entrada inválidos. Verifique IdTiposPruebasConsumo, IdTipoMuestra, NumIntervinientes, NumMuestras y IdPlazoEntrega.', 1;\n",
    "        END\n",
    "\n",
    "        -- Verificar si existe la configuración\n",
    "        SELECT TOP 1 \n",
    "            @IdConfiguracion = IdConfiguracion\n",
    "        FROM dbo.ConfiguracionesPrecio\n",
    "        WHERE IdTiposPruebasConsumo = @IdTiposPruebasConsumo\n",
    "          AND EsLegal = @EsLegal\n",
    "          AND EsColaborador = @EsColaborador;\n",
    "\n",
    "        IF @IdConfiguracion IS NULL\n",
    "        BEGIN\n",
    "            SET @Precio = 0;\n",
    "            SET @IdConfiguracion = NULL;\n",
    "            RETURN;\n",
    "        END\n",
    "\n",
    "        -- Calcular precio\n",
    "        EXEC dbo.sp_CalcularPrecioTotal\n",
    "            @IdTiposPruebasConsumo = @IdTiposPruebasConsumo,\n",
    "            @EsLegal = @EsLegal,\n",
    "            @EsColaborador = @EsColaborador,\n",
    "            @IdTipoMuestra = @IdTipoMuestra,\n",
    "            @IdPlazoEntrega = @IdPlazoEntrega,\n",
    "            @NumIntervinientes = @NumIntervinientes,\n",
    "            @NumMuestras = @NumMuestras,\n",
    "            @IdPeticion = NULL;\n",
    "\n",
    "        IF @Precio IS NULL\n",
    "        BEGIN\n",
    "            SET @Precio = 0;\n",
    "            SET @IdConfiguracion = NULL;\n",
    "        END\n",
    "    END TRY\n",
    "    BEGIN CATCH\n",
    "        DECLARE @ErrorMessage NVARCHAR(4000) = ERROR_MESSAGE();\n",
    "        DECLARE @ErrorSeverity INT = ERROR_SEVERITY();\n",
    "        DECLARE @ErrorState INT = ERROR_STATE();\n",
    "        THROW @ErrorSeverity, @ErrorMessage, @ErrorState;\n",
    "    END CATCH;\n",
    "END;\n",
    "GO\n"
   ]
  },
  {
   "cell_type": "markdown",
   "metadata": {
    "object_type": "StoredProcedure",
    "urn": "Server[@Name='Windows10-Pepe']/Database[@Name='CEFEGEN']/StoredProcedure[@Name='sp_ProcesarNotificacionesPendientes' and @Schema='dbo']"
   },
   "source": [
    "# [dbo].[sp_ProcesarNotificacionesPendientes]"
   ]
  },
  {
   "cell_type": "code",
   "execution_count": 0,
   "metadata": {
    "object_type": "StoredProcedure",
    "urn": "Server[@Name='Windows10-Pepe']/Database[@Name='CEFEGEN']/StoredProcedure[@Name='sp_ProcesarNotificacionesPendientes' and @Schema='dbo']"
   },
   "outputs": [],
   "source": [
    "/****** Object:  StoredProcedure [dbo].[sp_ProcesarNotificacionesPendientes]    Script Date: 20/06/2025 18:08:56 ******/\n",
    "SET ANSI_NULLS ON\n",
    "GO\n",
    "SET QUOTED_IDENTIFIER ON\n",
    "GO\n",
    "CREATE PROCEDURE [dbo].[sp_ProcesarNotificacionesPendientes]\n",
    "    @IdUsuario INT\n",
    "AS\n",
    "BEGIN\n",
    "    SET NOCOUNT ON;\n",
    "\n",
    "    BEGIN TRY\n",
    "        -- Validar usuario\n",
    "        IF NOT EXISTS (SELECT 1 FROM [dbo].[Usuarios] WHERE IdUsuario = @IdUsuario AND Activo = 1)\n",
    "            THROW 50001, 'El usuario especificado no existe o no está activo.', 1;\n",
    "\n",
    "        -- Procesar cambios de estado de solicitudes\n",
    "        DECLARE @IdSolicitud INT, @IdEstado INT;\n",
    "        DECLARE solicitud_cursor CURSOR FOR\n",
    "        SELECT s.IdSolicitud, s.IdEstado\n",
    "        FROM [dbo].[Solicitudes] s\n",
    "        JOIN [dbo].[Estados] e ON s.IdEstado = e.IdEstado\n",
    "        WHERE e.DisparaNotificacion = 1\n",
    "          AND NOT EXISTS (\n",
    "              SELECT 1 \n",
    "              FROM [dbo].[Envios] \n",
    "              WHERE CodPaciente = s.IdSolicitante \n",
    "                AND TipoNotificacion = 'EstadoSolicitud' \n",
    "                AND Fecha > DATEADD(MINUTE, -5, GETDATE())\n",
    "          )\n",
    "          AND NOT EXISTS (\n",
    "              SELECT 1 \n",
    "              FROM [dbo].[NotificacionesSMS] \n",
    "              WHERE IdSolicitud = s.IdSolicitud \n",
    "                AND FechaEnvio > DATEADD(MINUTE, -5, GETDATE())\n",
    "          );\n",
    "\n",
    "        OPEN solicitud_cursor;\n",
    "        FETCH NEXT FROM solicitud_cursor INTO @IdSolicitud, @IdEstado;\n",
    "\n",
    "        WHILE @@FETCH_STATUS = 0\n",
    "        BEGIN\n",
    "            DECLARE @IdNotificacion INT;\n",
    "            EXEC [dbo].[sp_EnviarNotificacion]\n",
    "                @IdSolicitud = @IdSolicitud,\n",
    "                @TipoNotificacion = 'EstadoSolicitud',\n",
    "                @IdUsuario = @IdUsuario,\n",
    "                @IdNotificacion = @IdNotificacion OUTPUT;\n",
    "\n",
    "            FETCH NEXT FROM solicitud_cursor INTO @IdSolicitud, @IdEstado;\n",
    "        END;\n",
    "\n",
    "        CLOSE solicitud_cursor;\n",
    "        DEALLOCATE solicitud_cursor;\n",
    "\n",
    "        -- Procesar informes disponibles\n",
    "        DECLARE informe_cursor CURSOR FOR\n",
    "        SELECT ig.IdSolicitud\n",
    "        FROM [dbo].[InformesGenerados] ig\n",
    "        WHERE NOT EXISTS (\n",
    "            SELECT 1 \n",
    "            FROM [dbo].[Envios] \n",
    "            WHERE CodPaciente = (SELECT IdSolicitante FROM [dbo].[Solicitudes] WHERE IdSolicitud = ig.IdSolicitud)\n",
    "              AND TipoNotificacion = 'ResultadoDisponible'\n",
    "              AND Fecha > ig.FechaGeneracion\n",
    "        )\n",
    "        AND NOT EXISTS (\n",
    "            SELECT 1 \n",
    "            FROM [dbo].[NotificacionesSMS] \n",
    "            WHERE IdSolicitud = ig.IdSolicitud \n",
    "              AND FechaEnvio > ig.FechaGeneracion\n",
    "        );\n",
    "\n",
    "        OPEN informe_cursor;\n",
    "        FETCH NEXT FROM informe_cursor INTO @IdSolicitud;\n",
    "\n",
    "        WHILE @@FETCH_STATUS = 0\n",
    "        BEGIN\n",
    "            EXEC [dbo].[sp_EnviarNotificacion]\n",
    "                @IdSolicitud = @IdSolicitud,\n",
    "                @TipoNotificacion = 'ResultadoDisponible',\n",
    "                @IdUsuario = @IdUsuario,\n",
    "                @IdNotificacion = @IdNotificacion OUTPUT;\n",
    "\n",
    "            FETCH NEXT FROM informe_cursor INTO @IdSolicitud;\n",
    "        END;\n",
    "\n",
    "        CLOSE informe_cursor;\n",
    "        DEALLOCATE informe_cursor;\n",
    "    END TRY\n",
    "    BEGIN CATCH\n",
    "        DECLARE @ErrorMessage NVARCHAR(4000) = ERROR_MESSAGE();\n",
    "        DECLARE @ErrorSeverity INT = ERROR_SEVERITY();\n",
    "        DECLARE @ErrorState INT = ERROR_STATE();\n",
    "        THROW 50006, @ErrorMessage, @ErrorState;\n",
    "    END CATCH;\n",
    "END;\n",
    "GO\n"
   ]
  },
  {
   "cell_type": "markdown",
   "metadata": {
    "object_type": "StoredProcedure",
    "urn": "Server[@Name='Windows10-Pepe']/Database[@Name='CEFEGEN']/StoredProcedure[@Name='sp_RegistrarAcreditacion' and @Schema='dbo']"
   },
   "source": [
    "# [dbo].[sp_RegistrarAcreditacion]"
   ]
  },
  {
   "cell_type": "code",
   "execution_count": 0,
   "metadata": {
    "object_type": "StoredProcedure",
    "urn": "Server[@Name='Windows10-Pepe']/Database[@Name='CEFEGEN']/StoredProcedure[@Name='sp_RegistrarAcreditacion' and @Schema='dbo']"
   },
   "outputs": [],
   "source": [
    "/****** Object:  StoredProcedure [dbo].[sp_RegistrarAcreditacion]    Script Date: 20/06/2025 18:08:56 ******/\n",
    "SET ANSI_NULLS ON\n",
    "GO\n",
    "SET QUOTED_IDENTIFIER ON\n",
    "GO\n",
    "CREATE PROCEDURE [dbo].[sp_RegistrarAcreditacion]\n",
    "    @Nombre NVARCHAR(100),\n",
    "    @EntidadAcreditadora NVARCHAR(100),\n",
    "    @FechaEmision DATE,\n",
    "    @FechaExpiracion DATE,\n",
    "    @Estado NVARCHAR(50),\n",
    "    @Documento VARBINARY(MAX) = NULL,\n",
    "    @NombreArchivo NVARCHAR(255) = NULL,\n",
    "    @IdUsuarioRegistro INT\n",
    "AS\n",
    "BEGIN\n",
    "    SET NOCOUNT ON;\n",
    "\n",
    "    BEGIN TRY\n",
    "        BEGIN TRANSACTION;\n",
    "\n",
    "        -- Validar parámetros\n",
    "        IF NOT EXISTS (SELECT 1 FROM [dbo].[Usuarios] WHERE IdUsuario = @IdUsuarioRegistro AND Activo = 1)\n",
    "            THROW 50001, 'El usuario especificado no existe o no está activo.', 1;\n",
    "        IF @Estado NOT IN ('Vigente', 'Expirada', 'En Proceso')\n",
    "            THROW 50002, 'El estado debe ser Vigente, Expirada o En Proceso.', 1;\n",
    "        IF @FechaExpiracion <= @FechaEmision\n",
    "            THROW 50003, 'La fecha de expiración debe ser posterior a la fecha de emisión.', 1;\n",
    "\n",
    "        -- Insertar acreditación\n",
    "        INSERT INTO [dbo].[Acreditaciones] (\n",
    "            Nombre, EntidadAcreditadora, FechaEmision, FechaExpiracion, Estado, Documento, NombreArchivo, IdUsuarioRegistro\n",
    "        )\n",
    "        VALUES (\n",
    "            @Nombre, @EntidadAcreditadora, @FechaEmision, @FechaExpiracion, @Estado, @Documento, @NombreArchivo, @IdUsuarioRegistro\n",
    "        );\n",
    "\n",
    "        DECLARE @IdAcreditacion INT = SCOPE_IDENTITY();\n",
    "\n",
    "        -- Registrar en auditoría\n",
    "        INSERT INTO [dbo].[AuditoriaAcciones] (\n",
    "            IdUsuario, FechaAccion, Tabla, Accion, Detalles\n",
    "        )\n",
    "        VALUES (\n",
    "            @IdUsuarioRegistro, GETDATE(), 'Acreditaciones', 'INSERT',\n",
    "            'Acreditación registrada con IdAcreditacion: ' + CAST(@IdAcreditacion AS NVARCHAR(10))\n",
    "        );\n",
    "\n",
    "        COMMIT TRANSACTION;\n",
    "\n",
    "        SELECT \n",
    "            IdAcreditacion,\n",
    "            Nombre,\n",
    "            EntidadAcreditadora,\n",
    "            FechaEmision,\n",
    "            FechaExpiracion,\n",
    "            Estado,\n",
    "            NombreArchivo\n",
    "        FROM [dbo].[Acreditaciones]\n",
    "        WHERE IdAcreditacion = @IdAcreditacion;\n",
    "    END TRY\n",
    "    BEGIN CATCH\n",
    "        ROLLBACK TRANSACTION;\n",
    "        DECLARE @ErrorMessage NVARCHAR(4000) = ERROR_MESSAGE();\n",
    "        DECLARE @ErrorSeverity INT = ERROR_SEVERITY();\n",
    "        DECLARE @ErrorState INT = ERROR_STATE();\n",
    "        THROW @ErrorSeverity, @ErrorMessage, @ErrorState;\n",
    "    END CATCH;\n",
    "END;\n",
    "GO\n"
   ]
  },
  {
   "cell_type": "markdown",
   "metadata": {
    "object_type": "StoredProcedure",
    "urn": "Server[@Name='Windows10-Pepe']/Database[@Name='CEFEGEN']/StoredProcedure[@Name='sp_RegistrarAuditoriaCalidad' and @Schema='dbo']"
   },
   "source": [
    "# [dbo].[sp_RegistrarAuditoriaCalidad]"
   ]
  },
  {
   "cell_type": "code",
   "execution_count": 0,
   "metadata": {
    "object_type": "StoredProcedure",
    "urn": "Server[@Name='Windows10-Pepe']/Database[@Name='CEFEGEN']/StoredProcedure[@Name='sp_RegistrarAuditoriaCalidad' and @Schema='dbo']"
   },
   "outputs": [],
   "source": [
    "/****** Object:  StoredProcedure [dbo].[sp_RegistrarAuditoriaCalidad]    Script Date: 20/06/2025 18:08:56 ******/\n",
    "SET ANSI_NULLS ON\n",
    "GO\n",
    "SET QUOTED_IDENTIFIER ON\n",
    "GO\n",
    "CREATE PROCEDURE [dbo].[sp_RegistrarAuditoriaCalidad]\n",
    "    @TipoAuditoria NVARCHAR(50),\n",
    "    @FechaAuditoria DATETIME,\n",
    "    @Resultado NVARCHAR(100),\n",
    "    @Observaciones NVARCHAR(MAX) = NULL,\n",
    "    @Documento VARBINARY(MAX) = NULL,\n",
    "    @NombreArchivo NVARCHAR(255) = NULL,\n",
    "    @IdUsuarioResponsable INT\n",
    "AS\n",
    "BEGIN\n",
    "    SET NOCOUNT ON;\n",
    "\n",
    "    BEGIN TRY\n",
    "        BEGIN TRANSACTION;\n",
    "\n",
    "        -- Validar parámetros\n",
    "        IF NOT EXISTS (SELECT 1 FROM [dbo].[Usuarios] WHERE IdUsuario = @IdUsuarioResponsable AND Activo = 1)\n",
    "        BEGIN\n",
    "            -- Return list of active users for debugging\n",
    "            SELECT IdUsuario, NombreUsuario, NombreCompleto\n",
    "            FROM [dbo].[Usuarios]\n",
    "            WHERE Activo = 1;\n",
    "            THROW 50001, 'El usuario responsable especificado no existe o no está activo. Consulte la lista de usuarios activos devuelta.', 1;\n",
    "        END\n",
    "        IF @TipoAuditoria NOT IN ('Interna', 'Externa')\n",
    "            THROW 50002, 'El tipo de auditoría debe ser Interna o Externa.', 1;\n",
    "        IF @Resultado NOT IN ('Conforme', 'No Conforme', 'Pendiente')\n",
    "            THROW 50003, 'El resultado debe ser Conforme, No Conforme o Pendiente.', 1;\n",
    "\n",
    "        -- Insertar auditoría\n",
    "        INSERT INTO [dbo].[AuditoriasCalidad] (\n",
    "            TipoAuditoria, FechaAuditoria, Resultado, Observaciones, Documento, NombreArchivo, IdUsuarioResponsable\n",
    "        )\n",
    "        VALUES (\n",
    "            @TipoAuditoria, @FechaAuditoria, @Resultado, @Observaciones, @Documento, @NombreArchivo, @IdUsuarioResponsable\n",
    "        );\n",
    "\n",
    "        DECLARE @IdAuditoria INT = SCOPE_IDENTITY();\n",
    "\n",
    "        -- Registrar en auditoría\n",
    "        INSERT INTO [dbo].[AuditoriaAcciones] (\n",
    "            IdUsuario, FechaAccion, Tabla, Accion, Detalles\n",
    "        )\n",
    "        VALUES (\n",
    "            @IdUsuarioResponsable, GETDATE(), 'AuditoriasCalidad', 'INSERT',\n",
    "            'Auditoría registrada con IdAuditoria: ' + CAST(@IdAuditoria AS NVARCHAR(10))\n",
    "        );\n",
    "\n",
    "        COMMIT TRANSACTION;\n",
    "\n",
    "        SELECT \n",
    "            IdAuditoria,\n",
    "            TipoAuditoria,\n",
    "            FechaAuditoria,\n",
    "            Resultado,\n",
    "            Observaciones,\n",
    "            NombreArchivo\n",
    "        FROM [dbo].[AuditoriasCalidad]\n",
    "        WHERE IdAuditoria = @IdAuditoria;\n",
    "    END TRY\n",
    "    BEGIN CATCH\n",
    "        ROLLBACK TRANSACTION;\n",
    "        DECLARE @ErrorMessage NVARCHAR(4000) = ERROR_MESSAGE();\n",
    "        DECLARE @ErrorSeverity INT = ERROR_SEVERITY();\n",
    "        DECLARE @ErrorState INT = ERROR_STATE();\n",
    "        THROW 50004, @ErrorMessage, @ErrorState;\n",
    "    END CATCH;\n",
    "END;\n",
    "GO\n"
   ]
  },
  {
   "cell_type": "markdown",
   "metadata": {
    "object_type": "StoredProcedure",
    "urn": "Server[@Name='Windows10-Pepe']/Database[@Name='CEFEGEN']/StoredProcedure[@Name='sp_ValidarCasoForense' and @Schema='dbo']"
   },
   "source": [
    "# [dbo].[sp_ValidarCasoForense]"
   ]
  },
  {
   "cell_type": "code",
   "execution_count": 0,
   "metadata": {
    "object_type": "StoredProcedure",
    "urn": "Server[@Name='Windows10-Pepe']/Database[@Name='CEFEGEN']/StoredProcedure[@Name='sp_ValidarCasoForense' and @Schema='dbo']"
   },
   "outputs": [],
   "source": [
    "/****** Object:  StoredProcedure [dbo].[sp_ValidarCasoForense]    Script Date: 20/06/2025 18:08:56 ******/\n",
    "SET ANSI_NULLS ON\n",
    "GO\n",
    "SET QUOTED_IDENTIFIER ON\n",
    "GO\n",
    "CREATE PROCEDURE [dbo].[sp_ValidarCasoForense]\n",
    "    @IdSolicitud INT\n",
    "AS\n",
    "BEGIN\n",
    "    SET NOCOUNT ON;\n",
    "\n",
    "    IF NOT EXISTS (SELECT 1 FROM [dbo].[Solicitudes] WHERE IdSolicitud = @IdSolicitud)\n",
    "        THROW 50001, 'La solicitud especificada no existe.', 1;\n",
    "\n",
    "    -- Verificar si es un caso forense\n",
    "    IF EXISTS (SELECT 1 FROM [dbo].[Solicitudes] WHERE IdSolicitud = @IdSolicitud AND EsForense = 1)\n",
    "    BEGIN\n",
    "        -- Validar muestras\n",
    "        EXEC [dbo].[sp_ValidarMuestrasSolicitud] @IdSolicitud;\n",
    "\n",
    "        -- Validar consentimiento\n",
    "        EXEC [dbo].[sp_ValidarConsentimientoSolicitud] @IdSolicitud;\n",
    "\n",
    "        -- Validar número mínimo de marcadores\n",
    "        EXEC [dbo].[sp_ValidarMinimoMarcadores] @IdSolicitud, 15;\n",
    "\n",
    "        -- Validar que haya al menos dos muestras válidas (para casos forenses)\n",
    "        DECLARE @NumMuestras INT;\n",
    "        SELECT @NumMuestras = COUNT(*)\n",
    "        FROM [dbo].[Muestras]\n",
    "        WHERE IdSolicitud = @IdSolicitud AND Valida = 1;\n",
    "\n",
    "        IF @NumMuestras < 2\n",
    "            THROW 50009, 'Un caso forense requiere al menos dos muestras válidas.', 1;\n",
    "    END;\n",
    "\n",
    "    SELECT 'Validación completada para caso forense' AS Mensaje;\n",
    "END;\n",
    "GO\n"
   ]
  },
  {
   "cell_type": "markdown",
   "metadata": {
    "object_type": "StoredProcedure",
    "urn": "Server[@Name='Windows10-Pepe']/Database[@Name='CEFEGEN']/StoredProcedure[@Name='sp_ValidarConsentimientoSolicitud' and @Schema='dbo']"
   },
   "source": [
    "# [dbo].[sp_ValidarConsentimientoSolicitud]"
   ]
  },
  {
   "cell_type": "code",
   "execution_count": 0,
   "metadata": {
    "object_type": "StoredProcedure",
    "urn": "Server[@Name='Windows10-Pepe']/Database[@Name='CEFEGEN']/StoredProcedure[@Name='sp_ValidarConsentimientoSolicitud' and @Schema='dbo']"
   },
   "outputs": [],
   "source": [
    "/****** Object:  StoredProcedure [dbo].[sp_ValidarConsentimientoSolicitud]    Script Date: 20/06/2025 18:08:56 ******/\n",
    "SET ANSI_NULLS ON\n",
    "GO\n",
    "SET QUOTED_IDENTIFIER ON\n",
    "GO\n",
    "CREATE PROCEDURE [dbo].[sp_ValidarConsentimientoSolicitud]\n",
    "    @IdSolicitud INT\n",
    "AS\n",
    "BEGIN\n",
    "    SET NOCOUNT ON;\n",
    "\n",
    "    IF NOT EXISTS (SELECT 1 FROM [dbo].[Solicitudes] WHERE IdSolicitud = @IdSolicitud)\n",
    "        THROW 50001, 'La solicitud especificada no existe.', 1;\n",
    "\n",
    "    IF NOT EXISTS (SELECT 1 FROM [dbo].[Consentimientos] WHERE IdSolicitud = @IdSolicitud)\n",
    "        THROW 50008, 'No se ha registrado un consentimiento para la solicitud.', 1;\n",
    "\n",
    "    SELECT COUNT(*) AS NumeroConsentimientos\n",
    "    FROM [dbo].[Consentimientos]\n",
    "    WHERE IdSolicitud = @IdSolicitud;\n",
    "END;\n",
    "GO\n"
   ]
  },
  {
   "cell_type": "markdown",
   "metadata": {
    "object_type": "StoredProcedure",
    "urn": "Server[@Name='Windows10-Pepe']/Database[@Name='CEFEGEN']/StoredProcedure[@Name='sp_ValidarMinimoMarcadores' and @Schema='dbo']"
   },
   "source": [
    "# [dbo].[sp_ValidarMinimoMarcadores]"
   ]
  },
  {
   "cell_type": "code",
   "execution_count": 0,
   "metadata": {
    "object_type": "StoredProcedure",
    "urn": "Server[@Name='Windows10-Pepe']/Database[@Name='CEFEGEN']/StoredProcedure[@Name='sp_ValidarMinimoMarcadores' and @Schema='dbo']"
   },
   "outputs": [],
   "source": [
    "/****** Object:  StoredProcedure [dbo].[sp_ValidarMinimoMarcadores]    Script Date: 20/06/2025 18:08:56 ******/\n",
    "SET ANSI_NULLS ON\n",
    "GO\n",
    "SET QUOTED_IDENTIFIER ON\n",
    "GO\n",
    "CREATE   PROCEDURE [dbo].[sp_ValidarMinimoMarcadores]\n",
    "    @IdSolicitud INT,\n",
    "    @MinimoMarcadores INT = 24  -- Actualizado a 24 marcadores\n",
    "AS\n",
    "BEGIN\n",
    "    SET NOCOUNT ON;\n",
    "\n",
    "    DECLARE @NumMarcadores INT;\n",
    "\n",
    "    SELECT @NumMarcadores = COUNT(DISTINCT rp.IdMarcador)\n",
    "    FROM [dbo].[ResultadosParentesco] rp\n",
    "    JOIN [dbo].[PeticionesLin] pl ON rp.IdLineaPeticion = pl.IdLineaPeticion\n",
    "    JOIN [dbo].[Peticiones] p ON pl.IdPeticion = p.IdPeticion\n",
    "    WHERE p.IdSolicitud = @IdSolicitud;\n",
    "\n",
    "    IF @NumMarcadores < @MinimoMarcadores\n",
    "        THROW 50006, 'Número insuficiente de marcadores genéticos para la solicitud. Se requieren al menos 24 marcadores.', 1;\n",
    "\n",
    "    SELECT @NumMarcadores AS NumeroMarcadores;\n",
    "END;\n",
    "GO\n"
   ]
  },
  {
   "cell_type": "markdown",
   "metadata": {
    "object_type": "StoredProcedure",
    "urn": "Server[@Name='Windows10-Pepe']/Database[@Name='CEFEGEN']/StoredProcedure[@Name='sp_ValidarMuestrasSolicitud' and @Schema='dbo']"
   },
   "source": [
    "# [dbo].[sp_ValidarMuestrasSolicitud]"
   ]
  },
  {
   "cell_type": "markdown",
   "metadata": {},
   "source": [
    "#### Stored Procedure: sp_ValidarMuestrasSolicitud\n",
    "- **Purpose**: Ensures samples meet request requirements (e.g., validity, quantity).\n",
    "- **Parameters**: `IdSolicitud`.\n",
    "- **Logic**: Checks `Muestras.Valida` and counts samples.\n",
    "- **RFP Alignment**:\n",
    "  - Supports sample validation for forensic and quality control.\n",
    "- **Implementation Advice**:\n",
    "  - Call before analysis in `POST /api/muestras/{id}/validar`."
   ]
  },
  {
   "cell_type": "code",
   "execution_count": 0,
   "metadata": {
    "object_type": "StoredProcedure",
    "urn": "Server[@Name='Windows10-Pepe']/Database[@Name='CEFEGEN']/StoredProcedure[@Name='sp_ValidarMuestrasSolicitud' and @Schema='dbo']"
   },
   "outputs": [],
   "source": [
    "/****** Object:  StoredProcedure [dbo].[sp_ValidarMuestrasSolicitud]    Script Date: 20/06/2025 18:08:56 ******/\n",
    "SET ANSI_NULLS ON\n",
    "GO\n",
    "SET QUOTED_IDENTIFIER ON\n",
    "GO\n",
    "CREATE PROCEDURE [dbo].[sp_ValidarMuestrasSolicitud]\n",
    "    @IdSolicitud INT\n",
    "AS\n",
    "BEGIN\n",
    "    SET NOCOUNT ON;\n",
    "\n",
    "    IF NOT EXISTS (SELECT 1 FROM [dbo].[Solicitudes] WHERE IdSolicitud = @IdSolicitud)\n",
    "        THROW 50001, 'La solicitud especificada no existe.', 1;\n",
    "\n",
    "    IF EXISTS (SELECT 1 FROM [dbo].[Muestras] WHERE IdSolicitud = @IdSolicitud AND Valida = 0)\n",
    "        THROW 50007, 'Existen muestras no válidas para la solicitud.', 1;\n",
    "\n",
    "    SELECT COUNT(*) AS NumeroMuestrasValidas\n",
    "    FROM [dbo].[Muestras]\n",
    "    WHERE IdSolicitud = @IdSolicitud AND Valida = 1;\n",
    "END;\n",
    "GO\n"
   ]
  },
  {
   "cell_type": "markdown",
   "metadata": {
    "object_type": "StoredProcedure",
    "urn": "Server[@Name='Windows10-Pepe']/Database[@Name='CEFEGEN']/StoredProcedure[@Name='sp_ValidarResultado' and @Schema='dbo']"
   },
   "source": [
    "# [dbo].[sp_ValidarResultado]"
   ]
  },
  {
   "cell_type": "code",
   "execution_count": 0,
   "metadata": {
    "object_type": "StoredProcedure",
    "urn": "Server[@Name='Windows10-Pepe']/Database[@Name='CEFEGEN']/StoredProcedure[@Name='sp_ValidarResultado' and @Schema='dbo']"
   },
   "outputs": [],
   "source": [
    "/****** Object:  StoredProcedure [dbo].[sp_ValidarResultado]    Script Date: 20/06/2025 18:08:56 ******/\n",
    "SET ANSI_NULLS ON\n",
    "GO\n",
    "SET QUOTED_IDENTIFIER ON\n",
    "GO\n",
    "CREATE PROCEDURE [dbo].[sp_ValidarResultado]\n",
    "    @IdResultado INT,\n",
    "    @TipoResultado NVARCHAR(50),\n",
    "    @IdUsuarioValidador INT,\n",
    "    @EstadoValidacion NVARCHAR(50),\n",
    "    @Observaciones NVARCHAR(MAX) = NULL\n",
    "AS\n",
    "BEGIN\n",
    "    SET NOCOUNT ON;\n",
    "\n",
    "    BEGIN TRY\n",
    "        BEGIN TRANSACTION;\n",
    "\n",
    "        -- Validar parámetros\n",
    "        IF NOT EXISTS (SELECT 1 FROM [dbo].[Usuarios] WHERE IdUsuario = @IdUsuarioValidador AND Activo = 1)\n",
    "            THROW 50001, 'El usuario validador especificado no existe o no está activo.', 1;\n",
    "        IF @EstadoValidacion NOT IN ('Validado', 'Rechazado')\n",
    "            THROW 50002, 'El estado de validación debe ser Validado o Rechazado.', 1;\n",
    "        IF @TipoResultado NOT IN ('Parentesco', 'Genetica', 'Citogenetica', 'Andrologia')\n",
    "            THROW 50003, 'El tipo de resultado no es válido.', 1;\n",
    "\n",
    "        -- Validar que el resultado existe y requiere validación\n",
    "        DECLARE @RequiereValidacion BIT;\n",
    "        DECLARE @Tabla NVARCHAR(50);\n",
    "        DECLARE @Sql NVARCHAR(MAX);\n",
    "\n",
    "        IF @TipoResultado = 'Parentesco'\n",
    "        BEGIN\n",
    "            SET @Tabla = '[dbo].[ResultadosParentesco]';\n",
    "            IF NOT EXISTS (SELECT 1 FROM [dbo].[ResultadosParentesco] WHERE IdResultadoParentesco = @IdResultado)\n",
    "                THROW 50004, 'El resultado de parentesco especificado no existe.', 1;\n",
    "            SELECT @RequiereValidacion = t.RequiereValidacion\n",
    "            FROM [dbo].[ResultadosParentesco] rp\n",
    "            JOIN [dbo].[PeticionesLin] pl ON rp.IdLineaPeticion = pl.IdLineaPeticion\n",
    "            JOIN [dbo].[TiposPruebasConsumo] t ON pl.IdTiposPruebasConsumo = t.IdTipoPruebaConsumo\n",
    "            WHERE rp.IdResultadoParentesco = @IdResultado;\n",
    "        END\n",
    "        ELSE IF @TipoResultado = 'Genetica'\n",
    "        BEGIN\n",
    "            SET @Tabla = '[dbo].[ResultadosGenetica]';\n",
    "            IF NOT EXISTS (SELECT 1 FROM [dbo].[ResultadosGenetica] WHERE IdResultadoGenetica = @IdResultado)\n",
    "                THROW 50004, 'El resultado genético especificado no existe.', 1;\n",
    "            SELECT @RequiereValidacion = t.RequiereValidacion\n",
    "            FROM [dbo].[ResultadosGenetica] rg\n",
    "            JOIN [dbo].[PeticionesLin] pl ON rg.IdLineaPeticion = pl.IdLineaPeticion\n",
    "            JOIN [dbo].[TiposPruebasConsumo] t ON pl.IdTiposPruebasConsumo = t.IdTipoPruebaConsumo\n",
    "            WHERE rg.IdResultadoGenetica = @IdResultado;\n",
    "        END\n",
    "        -- Añadir casos para Citogenetica y Andrologia\n",
    "\n",
    "        IF @RequiereValidacion = 0\n",
    "            THROW 50005, 'Este resultado no requiere validación.', 1;\n",
    "\n",
    "        -- Actualizar el resultado\n",
    "        SET @Sql = N'\n",
    "            UPDATE ' + QUOTENAME(@Tabla) + '\n",
    "            SET ValidadoPor = @IdUsuarioValidador,\n",
    "                EstadoValidacion = @EstadoValidacion,\n",
    "                FechaValidacion = GETDATE()\n",
    "            WHERE ' + \n",
    "            CASE \n",
    "                WHEN @TipoResultado = 'Parentesco' THEN 'IdResultadoParentesco'\n",
    "                WHEN @TipoResultado = 'Genetica' THEN 'IdResultadoGenetica'\n",
    "                -- Añadir casos para Citogenetica y Andrologia\n",
    "            END + ' = @IdResultado;\n",
    "        ';\n",
    "        EXEC sp_executesql @Sql, \n",
    "            N'@IdUsuarioValidador INT, @EstadoValidacion NVARCHAR(50), @IdResultado INT',\n",
    "            @IdUsuarioValidador, @EstadoValidacion, @IdResultado;\n",
    "\n",
    "        -- Insertar en ValidacionesResultado\n",
    "        INSERT INTO [dbo].[ValidacionesResultado] (\n",
    "            IdResultado, TipoResultado, IdUsuarioValidador, EstadoValidacion, Observaciones\n",
    "        )\n",
    "        VALUES (\n",
    "            @IdResultado, @TipoResultado, @IdUsuarioValidador, @EstadoValidacion, @Observaciones\n",
    "        );\n",
    "\n",
    "        DECLARE @IdValidacion INT = SCOPE_IDENTITY();\n",
    "\n",
    "        -- Registrar en auditoría\n",
    "        INSERT INTO [dbo].[AuditoriaAcciones] (\n",
    "            IdUsuario, FechaAccion, Tabla, Accion, Detalles\n",
    "        )\n",
    "        VALUES (\n",
    "            @IdUsuarioValidador, GETDATE(), 'ValidacionesResultado', 'INSERT',\n",
    "            'Validación registrada con IdValidacion: ' + CAST(@IdValidacion AS NVARCHAR(10)) + ' para ' + @TipoResultado\n",
    "        );\n",
    "\n",
    "        COMMIT TRANSACTION;\n",
    "\n",
    "        SELECT \n",
    "            IdValidacion,\n",
    "            IdResultado,\n",
    "            TipoResultado,\n",
    "            EstadoValidacion,\n",
    "            Observaciones,\n",
    "            FechaValidacion\n",
    "        FROM [dbo].[ValidacionesResultado]\n",
    "        WHERE IdValidacion = @IdValidacion;\n",
    "    END TRY\n",
    "    BEGIN CATCH\n",
    "        ROLLBACK TRANSACTION;\n",
    "        DECLARE @ErrorMessage NVARCHAR(4000) = ERROR_MESSAGE();\n",
    "        DECLARE @ErrorSeverity INT = ERROR_SEVERITY();\n",
    "        DECLARE @ErrorState INT = ERROR_STATE();\n",
    "        THROW @ErrorSeverity, @ErrorMessage, @ErrorState;\n",
    "    END CATCH;\n",
    "END;\n",
    "GO\n"
   ]
  },
  {
   "cell_type": "markdown",
   "metadata": {},
   "source": [
    "# [TRG_AuditarUsuarios]"
   ]
  },
  {
   "cell_type": "markdown",
   "metadata": {},
   "source": [
    "#### Trigger: TRG_AuditarUsuarios\n",
    "- **Purpose**: Logs INSERT, UPDATE, and DELETE operations on the `Usuarios` table into `AuditoriaAcciones` for auditing and compliance.\n",
    "- **Table Affected**: `Usuarios`\n",
    "- **Columns Logged in AuditoriaAcciones**:\n",
    "  - `IdUsuario`: ID of the affected user (from `inserted` or `deleted`).\n",
    "  - `FechaAccion`: Timestamp of the action (set to `GETDATE()`).\n",
    "  - `Tabla`: Set to `'Usuarios'`.\n",
    "  - `Accion`: Type of operation (`Insert`, `Update`, or `Delete`).\n",
    "  - `Detalles`: Descriptive text including `NombreUsuario` and `Email`.\n",
    "  - `IdDocumento`: Set to `NULL` (no document associated).\n",
    "- **Logic**:\n",
    "  - Uses `inserted` and `deleted` tables to detect the operation type.\n",
    "  - Logs relevant user details for traceability.\n",
    "- **RFP Alignment**:\n",
    "  - Supports auditing requirements for forensic and quality control.\n",
    "  - Captures user actions as required for `AuditoriaAcciones`.\n",
    "- **Considerations**:\n",
    "  - Ensure `IdUsuario` is correctly captured for system-initiated actions (e.g., via application logic if `IdUsuario` is unknown).\n",
    "  - `Detalles` can be extended to include more context (e.g., old vs. new values for updates) if needed."
   ]
  },
  {
   "cell_type": "code",
   "execution_count": null,
   "metadata": {},
   "outputs": [],
   "source": [
    "/****** Object:  Trigger [dbo].[TRG_AuditarUsuarios]    Script Date: 20/06/2025 18:08:56 ******/\n",
    "SET ANSI_NULLS ON\n",
    "GO\n",
    "SET QUOTED_IDENTIFIER ON\n",
    "GO\n",
    "CREATE TRIGGER [dbo].[TRG_AuditarUsuarios]\n",
    "ON [dbo].[Usuarios]\n",
    "AFTER INSERT, UPDATE, DELETE\n",
    "AS\n",
    "BEGIN\n",
    "    SET NOCOUNT ON;\n",
    "\n",
    "    INSERT INTO [dbo].[AuditoriaAcciones] (\n",
    "        IdUsuario,\n",
    "        FechaAccion,\n",
    "        Tabla,\n",
    "        Accion,\n",
    "        Detalles,\n",
    "        IdDocumento\n",
    "    )\n",
    "    SELECT\n",
    "        COALESCE(i.IdUsuario, d.IdUsuario),\n",
    "        GETDATE(),\n",
    "        'Usuarios',\n",
    "        CASE\n",
    "            WHEN i.IdUsuario IS NOT NULL AND d.IdUsuario IS NULL THEN 'Insert'\n",
    "            WHEN i.IdUsuario IS NOT NULL AND d.IdUsuario IS NOT NULL THEN 'Update'\n",
    "            ELSE 'Delete'\n",
    "        END,\n",
    "        CASE\n",
    "            WHEN i.IdUsuario IS NOT NULL AND d.IdUsuario IS NULL THEN \n",
    "                'Usuario creado: ' + i.NombreUsuario + ', Email: ' + i.Email\n",
    "            WHEN i.IdUsuario IS NOT NULL AND d.IdUsuario IS NOT NULL THEN \n",
    "                'Usuario actualizado: ' + i.NombreUsuario + ', Email: ' + i.Email\n",
    "            ELSE \n",
    "                'Usuario eliminado: ' + d.NombreUsuario + ', Email: ' + d.Email\n",
    "        END,\n",
    "        NULL -- IdDocumento is NULL as no document is associated with user actions\n",
    "    FROM inserted i\n",
    "    FULL OUTER JOIN deleted d ON i.IdUsuario = d.IdUsuario;\n",
    "END;"
   ]
  },
  {
   "cell_type": "markdown",
   "metadata": {},
   "source": [
    "# [TRG_AuditarCambiosUsuarios]"
   ]
  },
  {
   "cell_type": "markdown",
   "metadata": {},
   "source": [
    "#### Trigger: TRG_AuditarCambiosUsuarios (Proposed)\n",
    "**Purpose**: Logs changes to `Usuarios` (e.g., status or password updates) in `AuditoriaAcciones`.\n",
    "**Table**: `Usuarios`.\n",
    "**Event**: AFTER UPDATE.\n",
    "**Logic**:\n",
    "- Compares `inserted` and `deleted` to detect changes in `Activo` or `HashPassword`.\n",
    "- Logs changes with details in `AuditoriaAcciones`.\n",
    "**Notes**: Enhances auditing as per RFP. Avoid logging sensitive data (e.g., actual passwords)."
   ]
  },
  {
   "cell_type": "code",
   "execution_count": null,
   "metadata": {},
   "outputs": [],
   "source": [
    "/****** Object:  Trigger [dbo].[TRG_AuditarCambiosUsuarios]    Script Date: 20/06/2025 18:08:56 ******/\n",
    "SET ANSI_NULLS ON\n",
    "GO\n",
    "SET QUOTED_IDENTIFIER ON\n",
    "GO\n",
    "CREATE TRIGGER TRG_AuditarCambiosUsuarios\n",
    "ON Usuarios\n",
    "AFTER UPDATE\n",
    "AS\n",
    "BEGIN\n",
    "    INSERT INTO AuditoriaAcciones (IdUsuario, Accion, Fecha, Detalles)\n",
    "    SELECT \n",
    "        i.IdUsuario, \n",
    "        'ActualizarUsuario', \n",
    "        GETDATE(), \n",
    "        CONCAT('Usuario: ', i.NombreUsuario, ', Cambios: ', \n",
    "               CASE WHEN i.Activo != d.Activo THEN 'Activo cambiado' ELSE '' END,\n",
    "               CASE WHEN i.HashPassword != d.HashPassword THEN ', Contraseña cambiada' ELSE '' END)\n",
    "    FROM inserted i\n",
    "    JOIN deleted d ON i.IdUsuario = d.IdUsuario\n",
    "    WHERE i.Activo != d.Activo OR i.HashPassword != d.HashPassword;\n",
    "END;"
   ]
  },
  {
   "cell_type": "markdown",
   "metadata": {
    "object_type": "Trigger",
    "urn": "Server[@Name='Windows10-Pepe']/Database[@Name='CEFEGEN']/Table[@Name='Acreditaciones' and @Schema='dbo']/Trigger[@Name='TRG_AuditarAcreditaciones']"
   },
   "source": [
    "# [TRG_AuditarAcreditaciones]"
   ]
  },
  {
   "cell_type": "code",
   "execution_count": 0,
   "metadata": {
    "object_type": "Trigger",
    "urn": "Server[@Name='Windows10-Pepe']/Database[@Name='CEFEGEN']/Table[@Name='Acreditaciones' and @Schema='dbo']/Trigger[@Name='TRG_AuditarAcreditaciones']"
   },
   "outputs": [],
   "source": [
    "/****** Object:  Trigger [dbo].[TRG_AuditarAcreditaciones]    Script Date: 20/06/2025 18:08:56 ******/\n",
    "SET ANSI_NULLS ON\n",
    "GO\n",
    "SET QUOTED_IDENTIFIER ON\n",
    "GO\n",
    "CREATE TRIGGER [dbo].[TRG_AuditarAcreditaciones]\n",
    "ON [dbo].[Acreditaciones]\n",
    "AFTER INSERT, UPDATE\n",
    "AS\n",
    "BEGIN\n",
    "    SET NOCOUNT ON;\n",
    "    INSERT INTO [dbo].[AuditoriaAcciones] (\n",
    "        IdUsuario, FechaAccion, Tabla, Accion, Detalles\n",
    "    )\n",
    "    SELECT \n",
    "        IdUsuarioRegistro, \n",
    "        GETDATE(), \n",
    "        'Acreditaciones', \n",
    "        CASE WHEN EXISTS (SELECT 1 FROM deleted) THEN 'UPDATE' ELSE 'INSERT' END,\n",
    "        'Acreditación ' + CASE WHEN EXISTS (SELECT 1 FROM deleted) THEN 'actualizada' ELSE 'creada' END + ' con IdAcreditacion: ' + CAST(i.IdAcreditacion AS NVARCHAR(10))\n",
    "    FROM inserted i;\n",
    "END;\n",
    "GO\n",
    "ALTER TABLE [dbo].[Acreditaciones] ENABLE TRIGGER [TRG_AuditarAcreditaciones]\n",
    "GO\n"
   ]
  },
  {
   "cell_type": "markdown",
   "metadata": {
    "object_type": "Trigger",
    "urn": "Server[@Name='Windows10-Pepe']/Database[@Name='CEFEGEN']/Table[@Name='AuditoriasCalidad' and @Schema='dbo']/Trigger[@Name='TRG_AuditarCalidad']"
   },
   "source": [
    "# [TRG_AuditarCalidad]"
   ]
  },
  {
   "cell_type": "code",
   "execution_count": 0,
   "metadata": {
    "object_type": "Trigger",
    "urn": "Server[@Name='Windows10-Pepe']/Database[@Name='CEFEGEN']/Table[@Name='AuditoriasCalidad' and @Schema='dbo']/Trigger[@Name='TRG_AuditarCalidad']"
   },
   "outputs": [],
   "source": [
    "/****** Object:  Trigger [dbo].[TRG_AuditarCalidad]    Script Date: 20/06/2025 18:08:56 ******/\n",
    "SET ANSI_NULLS ON\n",
    "GO\n",
    "SET QUOTED_IDENTIFIER ON\n",
    "GO\n",
    "CREATE TRIGGER [dbo].[TRG_AuditarCalidad]\n",
    "ON [dbo].[AuditoriasCalidad]\n",
    "AFTER INSERT, UPDATE\n",
    "AS\n",
    "BEGIN\n",
    "    SET NOCOUNT ON;\n",
    "    INSERT INTO [dbo].[AuditoriaAcciones] (\n",
    "        IdUsuario, FechaAccion, Tabla, Accion, Detalles\n",
    "    )\n",
    "    SELECT \n",
    "        IdUsuarioResponsable, \n",
    "        GETDATE(), \n",
    "        'AuditoriasCalidad', \n",
    "        CASE WHEN EXISTS (SELECT 1 FROM deleted) THEN 'UPDATE' ELSE 'INSERT' END,\n",
    "        'Auditoría ' + CASE WHEN EXISTS (SELECT 1 FROM deleted) THEN 'actualizada' ELSE 'creada' END + ' con IdAuditoria: ' + CAST(i.IdAuditoria AS NVARCHAR(10))\n",
    "    FROM inserted i;\n",
    "END;\n",
    "GO\n",
    "ALTER TABLE [dbo].[AuditoriasCalidad] ENABLE TRIGGER [TRG_AuditarCalidad]\n",
    "GO\n"
   ]
  },
  {
   "cell_type": "markdown",
   "metadata": {
    "object_type": "Trigger",
    "urn": "Server[@Name='Windows10-Pepe']/Database[@Name='CEFEGEN']/Table[@Name='Documentos' and @Schema='dbo']/Trigger[@Name='TRG_AuditarDocumentos']"
   },
   "source": [
    "# [TRG_AuditarDocumentos]"
   ]
  },
  {
   "cell_type": "code",
   "execution_count": 0,
   "metadata": {
    "object_type": "Trigger",
    "urn": "Server[@Name='Windows10-Pepe']/Database[@Name='CEFEGEN']/Table[@Name='Documentos' and @Schema='dbo']/Trigger[@Name='TRG_AuditarDocumentos']"
   },
   "outputs": [],
   "source": [
    "/****** Object:  Trigger [dbo].[TRG_AuditarDocumentos]    Script Date: 20/06/2025 18:08:56 ******/\n",
    "SET ANSI_NULLS ON\n",
    "GO\n",
    "SET QUOTED_IDENTIFIER ON\n",
    "GO\n",
    "CREATE   TRIGGER [dbo].[TRG_AuditarDocumentos]\n",
    "ON [dbo].[Documentos]\n",
    "AFTER INSERT, UPDATE, DELETE\n",
    "AS\n",
    "BEGIN\n",
    "    SET NOCOUNT ON;\n",
    "    INSERT INTO [dbo].[AuditoriaAcciones] (\n",
    "        IdUsuario, FechaAccion, Tabla, Accion, Detalles, IdDocumento\n",
    "    )\n",
    "    SELECT \n",
    "        i.SubidoPor, \n",
    "        GETDATE(), \n",
    "        'Documentos', \n",
    "        CASE \n",
    "            WHEN EXISTS (SELECT 1 FROM deleted) AND EXISTS (SELECT 1 FROM inserted) THEN 'UPDATE'\n",
    "            WHEN EXISTS (SELECT 1 FROM deleted) THEN 'DELETE'\n",
    "            ELSE 'INSERT'\n",
    "        END,\n",
    "        'Documento ' + \n",
    "        CASE \n",
    "            WHEN EXISTS (SELECT 1 FROM deleted) AND EXISTS (SELECT 1 FROM inserted) THEN 'actualizado'\n",
    "            WHEN EXISTS (SELECT 1 FROM deleted) THEN 'eliminado'\n",
    "            ELSE 'insertado'\n",
    "        END + ' con IdDocumento: ' + CAST(COALESCE(i.IdDocumento, d.IdDocumento) AS NVARCHAR(10)),\n",
    "        COALESCE(i.IdDocumento, d.IdDocumento)\n",
    "    FROM inserted i\n",
    "    FULL OUTER JOIN deleted d ON i.IdDocumento = d.IdDocumento;\n",
    "END;\n",
    "GO\n",
    "ALTER TABLE [dbo].[Documentos] ENABLE TRIGGER [TRG_AuditarDocumentos]\n",
    "GO\n"
   ]
  },
  {
   "cell_type": "markdown",
   "metadata": {
    "object_type": "Trigger",
    "urn": "Server[@Name='Windows10-Pepe']/Database[@Name='CEFEGEN']/Table[@Name='IndiceParentesco' and @Schema='dbo']/Trigger[@Name='TRG_AuditarIndiceParentesco']"
   },
   "source": [
    "# [TRG_AuditarIndiceParentesco]"
   ]
  },
  {
   "cell_type": "code",
   "execution_count": 0,
   "metadata": {
    "object_type": "Trigger",
    "urn": "Server[@Name='Windows10-Pepe']/Database[@Name='CEFEGEN']/Table[@Name='IndiceParentesco' and @Schema='dbo']/Trigger[@Name='TRG_AuditarIndiceParentesco']"
   },
   "outputs": [],
   "source": [
    "/****** Object:  Trigger [dbo].[TRG_AuditarIndiceParentesco]    Script Date: 20/06/2025 18:08:56 ******/\n",
    "SET ANSI_NULLS ON\n",
    "GO\n",
    "SET QUOTED_IDENTIFIER ON\n",
    "GO\n",
    "CREATE TRIGGER [dbo].[TRG_AuditarIndiceParentesco]\n",
    "ON [dbo].[IndiceParentesco]\n",
    "AFTER INSERT, UPDATE\n",
    "AS\n",
    "BEGIN\n",
    "    SET NOCOUNT ON;\n",
    "    INSERT INTO [dbo].[AuditoriaAcciones] (IdUsuario, FechaAccion, Modulo, TipoAccion, Detalle)\n",
    "    SELECT\n",
    "        IdUsuarioAnalista,\n",
    "        GETDATE(),\n",
    "        'IndiceParentesco',\n",
    "        CASE WHEN EXISTS (SELECT * FROM deleted) THEN 'UPDATE' ELSE 'INSERT' END,\n",
    "        'Registro modificado/creado con IdIndiceParentesco: ' + CAST(i.IdIndiceParentesco AS NVARCHAR(10))\n",
    "    FROM inserted i;\n",
    "END;\n",
    "GO\n",
    "ALTER TABLE [dbo].[IndiceParentesco] ENABLE TRIGGER [TRG_AuditarIndiceParentesco]\n",
    "GO\n"
   ]
  },
  {
   "cell_type": "markdown",
   "metadata": {
    "object_type": "Trigger",
    "urn": "Server[@Name='Windows10-Pepe']/Database[@Name='CEFEGEN']/Table[@Name='InformesGenerados' and @Schema='dbo']/Trigger[@Name='TRG_AuditarInformesGenerados']"
   },
   "source": [
    "# [TRG_AuditarInformesGenerados]"
   ]
  },
  {
   "cell_type": "code",
   "execution_count": 0,
   "metadata": {
    "object_type": "Trigger",
    "urn": "Server[@Name='Windows10-Pepe']/Database[@Name='CEFEGEN']/Table[@Name='InformesGenerados' and @Schema='dbo']/Trigger[@Name='TRG_AuditarInformesGenerados']"
   },
   "outputs": [],
   "source": [
    "/****** Object:  Trigger [dbo].[TRG_AuditarInformesGenerados]    Script Date: 20/06/2025 18:08:56 ******/\n",
    "SET ANSI_NULLS ON\n",
    "GO\n",
    "SET QUOTED_IDENTIFIER ON\n",
    "GO\n",
    "CREATE TRIGGER [dbo].[TRG_AuditarInformesGenerados]\n",
    "ON [dbo].[InformesGenerados]\n",
    "AFTER INSERT\n",
    "AS\n",
    "BEGIN\n",
    "    SET NOCOUNT ON;\n",
    "    INSERT INTO [dbo].[AuditoriaAcciones] (IdUsuario, FechaAccion, Tabla, Accion, Detalles)\n",
    "    SELECT\n",
    "        IdUsuario,\n",
    "        GETDATE(),\n",
    "        'InformesGenerados',\n",
    "        'INSERT',\n",
    "        'Informe generado con IdInforme: ' + CAST(i.IdInforme AS NVARCHAR(10)) + ' para IdSolicitud: ' + CAST(i.IdSolicitud AS NVARCHAR(10))\n",
    "    FROM inserted i;\n",
    "END;\n",
    "GO\n",
    "ALTER TABLE [dbo].[InformesGenerados] ENABLE TRIGGER [TRG_AuditarInformesGenerados]\n",
    "GO\n"
   ]
  },
  {
   "cell_type": "markdown",
   "metadata": {
    "object_type": "Trigger",
    "urn": "Server[@Name='Windows10-Pepe']/Database[@Name='CEFEGEN']/Table[@Name='MovimientosMuestras' and @Schema='dbo']/Trigger[@Name='TRG_AuditarMovimientosMuestras']"
   },
   "source": [
    "# [TRG_AuditarMovimientosMuestras]"
   ]
  },
  {
   "cell_type": "markdown",
   "metadata": {},
   "source": [
    "#### Trigger: TRG_AuditarMovimientosMuestras\n",
    "- **Purpose**: Logs sample movements in `AuditoriaAcciones` for traceability.\n",
    "- **Table Affected**: `MovimientosMuestras`.\n",
    "- **Logic**:\n",
    "  - Logs movement details, including `IdUsuario`, `NombreTipoMovimiento`, and `Ubicacion`.\n",
    "- **RFP Alignment**:\n",
    "  - Supports forensic and quality auditing.\n",
    "- **Implementation Advice**:\n",
    "  - Extend to log UPDATE and DELETE operations if needed."
   ]
  },
  {
   "cell_type": "code",
   "execution_count": 0,
   "metadata": {
    "object_type": "Trigger",
    "urn": "Server[@Name='Windows10-Pepe']/Database[@Name='CEFEGEN']/Table[@Name='MovimientosMuestras' and @Schema='dbo']/Trigger[@Name='TRG_AuditarMovimientosMuestras']"
   },
   "outputs": [],
   "source": [
    "/****** Object:  Trigger [dbo].[TRG_AuditarMovimientosMuestras]    Script Date: 20/06/2025 18:08:56 ******/\n",
    "SET ANSI_NULLS ON\n",
    "GO\n",
    "SET QUOTED_IDENTIFIER ON\n",
    "GO\n",
    "CREATE TRIGGER [dbo].[TRG_AuditarMovimientosMuestras]\n",
    "ON [dbo].[MovimientosMuestras]\n",
    "AFTER INSERT\n",
    "AS\n",
    "BEGIN\n",
    "    SET NOCOUNT ON;\n",
    "    INSERT INTO [dbo].[AuditoriaAcciones] (IdUsuario, FechaAccion, Modulo, TipoAccion, Detalle)\n",
    "    SELECT\n",
    "        IdUsuario,\n",
    "        GETDATE(),\n",
    "        'MovimientosMuestras',\n",
    "        'INSERT',\n",
    "        'Movimiento registrado para IdMuestra: ' + CAST(i.IdMuestra AS NVARCHAR(10))\n",
    "    FROM inserted i;\n",
    "END;\n",
    "GO\n",
    "ALTER TABLE [dbo].[MovimientosMuestras] ENABLE TRIGGER [TRG_AuditarMovimientosMuestras]\n",
    "GO\n"
   ]
  },
  {
   "cell_type": "markdown",
   "metadata": {
    "object_type": "Trigger",
    "urn": "Server[@Name='Windows10-Pepe']/Database[@Name='CEFEGEN']/Table[@Name='Muestras' and @Schema='dbo']/Trigger[@Name='TRG_SetCodigoMuestra']"
   },
   "source": [
    "# [TRG_SetCodigoMuestra]"
   ]
  },
  {
   "cell_type": "markdown",
   "metadata": {},
   "source": [
    "#### Trigger: TRG_SetCodigoMuestra\n",
    "- **Purpose**: Generates `CodigoMuestra` (e.g., “23023-Hi-1”) and `BarcodeQrCode` for new samples.\n",
    "- **Table Affected**: `Muestras`.\n",
    "- **Logic**:\n",
    "  - Combines `Solicitudes.CodigoSolicitud`, `Intervinientes.TipoInterviniente`, and `Intentos` for `CodigoMuestra`.\n",
    "  - Generates a unique `BarcodeQrCode` (e.g., “MUE-{UUID}”).\n",
    "- **RFP Alignment**:\n",
    "  - Supports unique sample identification and QR code generation (Addendum 3).\n",
    "- **Implementation Advice**:\n",
    "  - Use `ConfiguracionesCodigos` to customize `BarcodeQrCode` format.\n",
    "  - Generate QR code image via Python’s `qrcode` library post-insertion."
   ]
  },
  {
   "cell_type": "code",
   "execution_count": 0,
   "metadata": {
    "object_type": "Trigger",
    "urn": "Server[@Name='Windows10-Pepe']/Database[@Name='CEFEGEN']/Table[@Name='Muestras' and @Schema='dbo']/Trigger[@Name='TRG_SetCodigoMuestra']"
   },
   "outputs": [],
   "source": [
    "/****** Object:  Trigger [dbo].[TRG_SetCodigoMuestra]    Script Date: 20/06/2025 18:08:56 ******/\n",
    "SET ANSI_NULLS ON\n",
    "GO\n",
    "SET QUOTED_IDENTIFIER ON\n",
    "GO\n",
    "\n",
    "CREATE TRIGGER [dbo].[TRG_SetCodigoMuestra]\n",
    "ON [dbo].[Muestras]\n",
    "AFTER INSERT\n",
    "AS\n",
    "BEGIN\n",
    "    SET NOCOUNT ON;\n",
    "\n",
    "    BEGIN TRY\n",
    "        UPDATE m\n",
    "        SET \n",
    "            CodigoMuestra = COALESCE(\n",
    "                TRIM(CONCAT(\n",
    "                    CAST(s.CodigoSolicitud AS VARCHAR(10)),\n",
    "                    '-',\n",
    "                    COALESCE(i.IdTipoInterviniente, 'UNK'),\n",
    "                    CASE \n",
    "                        WHEN ins.Intentos = 1 THEN '' \n",
    "                        ELSE '-' + CAST(ins.Intentos AS VARCHAR(10))\n",
    "                    END\n",
    "                )),\n",
    "                'MUE-' + CAST(ins.IdMuestra AS VARCHAR(10))\n",
    "            ),\n",
    "            QrCodeContent = COALESCE(\n",
    "                (\n",
    "                    '{' +\n",
    "                    '\"IdMuestra\":\"' + CAST(ins.IdMuestra AS NVARCHAR(10)) + '\",' +\n",
    "                    '\"CodigoMuestra\":\"' + \n",
    "                        COALESCE(\n",
    "                            TRIM(CONCAT(\n",
    "                                CAST(s.CodigoSolicitud AS VARCHAR(10)),\n",
    "                                '-',\n",
    "                                COALESCE(i.IdTipoInterviniente, 'UNK'),\n",
    "                                CASE \n",
    "                                    WHEN ins.Intentos = 1 THEN '' \n",
    "                                    ELSE '-' + CAST(ins.Intentos AS VARCHAR(10))\n",
    "                                END\n",
    "                            )),\n",
    "                            'MUE-' + CAST(ins.IdMuestra AS VARCHAR(10))\n",
    "                        ) + '\",' +\n",
    "                    '\"IdSolicitud\":\"' + CAST(ISNULL(ins.IdSolicitud, 0) AS NVARCHAR(10)) + '\",' +\n",
    "                    '\"IdInterviniente\":\"' + CAST(ISNULL(ins.IdInterviniente, 0) AS NVARCHAR(10)) + '\",' +\n",
    "                    '\"TipoMuestra\":\"' + CAST(ISNULL(ins.TipoMuestra, 0) AS NVARCHAR(10)) + '\",' +\n",
    "                    '\"FechaRecepcion\":\"' + ISNULL(CONVERT(NVARCHAR(10), ins.FechaRecepcion, 120), '') + '\",' +\n",
    "                    '\"Valida\":' + CASE WHEN ISNULL(ins.Valida, 0) = 1 THEN 'true' ELSE 'false' END + ',' +\n",
    "                    '\"Intentos\":\"' + CAST(ISNULL(ins.Intentos, 1) AS NVARCHAR(10)) + '\",' +\n",
    "                    '\"IdEstado\":\"' + CAST(ISNULL(s.IdEstado, 1) AS NVARCHAR(10)) + '\"' +\n",
    "                    '}'\n",
    "                ),\n",
    "                '{}'\n",
    "            ),\n",
    "            BarcodeQrCode = COALESCE(\n",
    "                'MUE-' + CAST(ins.IdMuestra AS NVARCHAR(10)) + '-' + LEFT(CAST(NEWID() AS NVARCHAR(36)), 8),\n",
    "                'MUE-' + CAST(ins.IdMuestra AS NVARCHAR(10))\n",
    "            )\n",
    "        FROM [dbo].[Muestras] m\n",
    "        INNER JOIN inserted ins ON m.IdMuestra = ins.IdMuestra\n",
    "        LEFT JOIN [dbo].[Solicitudes] s ON ins.IdSolicitud = s.IdSolicitud\n",
    "        LEFT JOIN [dbo].[Intervinientes] i ON ins.IdInterviniente = i.IdInterviniente;\n",
    "    END TRY\n",
    "    BEGIN CATCH\n",
    "        DECLARE @ErrorMessage NVARCHAR(4000) = ERROR_MESSAGE();\n",
    "        DECLARE @ErrorSeverity INT = ERROR_SEVERITY();\n",
    "        DECLARE @ErrorState INT = ERROR_STATE();\n",
    "        RAISERROR(@ErrorMessage, @ErrorSeverity, @ErrorState);\n",
    "    END CATCH;\n",
    "END;\n",
    "GO\n",
    "ALTER TABLE [dbo].[Muestras] ENABLE TRIGGER [TRG_SetCodigoMuestra]\n",
    "GO\n"
   ]
  },
  {
   "cell_type": "markdown",
   "metadata": {
    "object_type": "Trigger",
    "urn": "Server[@Name='Windows10-Pepe']/Database[@Name='CEFEGEN']/Table[@Name='ResultadosParentesco' and @Schema='dbo']/Trigger[@Name='TRG_AuditarResultados']"
   },
   "source": [
    "# [TRG_AuditarResultados]"
   ]
  },
  {
   "cell_type": "code",
   "execution_count": 0,
   "metadata": {
    "object_type": "Trigger",
    "urn": "Server[@Name='Windows10-Pepe']/Database[@Name='CEFEGEN']/Table[@Name='ResultadosParentesco' and @Schema='dbo']/Trigger[@Name='TRG_AuditarResultados']"
   },
   "outputs": [],
   "source": [
    "/****** Object:  Trigger [dbo].[TRG_AuditarResultados]    Script Date: 20/06/2025 18:08:56 ******/\n",
    "SET ANSI_NULLS ON\n",
    "GO\n",
    "SET QUOTED_IDENTIFIER ON\n",
    "GO\n",
    "CREATE   TRIGGER [dbo].[TRG_AuditarResultados]\n",
    "ON [dbo].[ResultadosParentesco]\n",
    "AFTER INSERT, UPDATE\n",
    "AS\n",
    "BEGIN\n",
    "    SET NOCOUNT ON;\n",
    "    INSERT INTO [dbo].[AuditoriaAcciones] (\n",
    "        IdUsuario, FechaAccion, Tabla, Accion, Detalles\n",
    "    )\n",
    "    SELECT \n",
    "        i.ValidadoPor, \n",
    "        GETDATE(), \n",
    "        'ResultadosParentesco', \n",
    "        CASE WHEN EXISTS (SELECT 1 FROM deleted) THEN 'UPDATE' ELSE 'INSERT' END,\n",
    "        'Resultado ' + CASE WHEN EXISTS (SELECT 1 FROM deleted) THEN 'actualizado' ELSE 'insertado' END + \n",
    "        ' con IdResultadoParentesco: ' + CAST(i.IdResultadoParentesco AS NVARCHAR(10))\n",
    "    FROM inserted i;\n",
    "END;\n",
    "GO\n",
    "ALTER TABLE [dbo].[ResultadosParentesco] ENABLE TRIGGER [TRG_AuditarResultados]\n",
    "GO\n"
   ]
  },
  {
   "cell_type": "markdown",
   "metadata": {
    "object_type": "Trigger",
    "urn": "Server[@Name='Windows10-Pepe']/Database[@Name='CEFEGEN']/Table[@Name='Solicitudes' and @Schema='dbo']/Trigger[@Name='TRG_NotificarCambioEstado']"
   },
   "source": [
    "# [TRG_NotificarCambioEstado]"
   ]
  },
  {
   "cell_type": "markdown",
   "metadata": {},
   "source": [
    "#### Trigger: TRG_NotificarCambioEstado\n",
    "- **Purpose**: Triggers notifications when a request’s state changes.\n",
    "- **Table Affected**: `Solicitudes`.\n",
    "- **Logic**:\n",
    "  - Detects updates to `IdEstado`.\n",
    "  - Inserts notification records into `Envios` for requesters.\n",
    "- **RFP Alignment**:\n",
    "  - Supports automatic notifications (email/SMS) for state updates.\n",
    "- **Implementation Advice**:\n",
    "  - Use with `sp_EnviarNotificacion` to process notifications.\n",
    "  - Ensure `PlantillasNotificacion` has a template for state changes."
   ]
  },
  {
   "cell_type": "code",
   "execution_count": 0,
   "metadata": {
    "object_type": "Trigger",
    "urn": "Server[@Name='Windows10-Pepe']/Database[@Name='CEFEGEN']/Table[@Name='Solicitudes' and @Schema='dbo']/Trigger[@Name='TRG_NotificarCambioEstado']"
   },
   "outputs": [],
   "source": [
    "/****** Object:  Trigger [dbo].[TRG_NotificarCambioEstado]    Script Date: 20/06/2025 18:08:56 ******/\n",
    "SET ANSI_NULLS ON\n",
    "GO\n",
    "SET QUOTED_IDENTIFIER ON\n",
    "GO\n",
    "CREATE TRIGGER [dbo].[TRG_NotificarCambioEstado]\n",
    "ON [dbo].[Solicitudes]\n",
    "AFTER UPDATE\n",
    "AS\n",
    "BEGIN\n",
    "    SET NOCOUNT ON;\n",
    "\n",
    "    IF UPDATE(IdEstado)\n",
    "    BEGIN\n",
    "        DECLARE @IdSolicitud INT, @IdEstado INT, @IdUsuario INT;\n",
    "        DECLARE solicitud_cursor CURSOR FOR\n",
    "        SELECT i.IdSolicitud, i.IdEstado, ISNULL(i.IdSolicitante, 1)\n",
    "        FROM inserted i\n",
    "        JOIN [dbo].[Estados] e ON i.IdEstado = e.IdEstado\n",
    "        WHERE e.DisparaNotificacion = 1;\n",
    "\n",
    "        OPEN solicitud_cursor;\n",
    "        FETCH NEXT FROM solicitud_cursor INTO @IdSolicitud, @IdEstado, @IdUsuario;\n",
    "\n",
    "        WHILE @@FETCH_STATUS = 0\n",
    "        BEGIN\n",
    "            DECLARE @IdNotificacion INT;\n",
    "            EXEC [dbo].[sp_EnviarNotificacion]\n",
    "                @IdSolicitud = @IdSolicitud,\n",
    "                @TipoNotificacion = 'EstadoSolicitud',\n",
    "                @IdUsuario = @IdUsuario,\n",
    "                @IdNotificacion = @IdNotificacion OUTPUT;\n",
    "\n",
    "            FETCH NEXT FROM solicitud_cursor INTO @IdSolicitud, @IdEstado, @IdUsuario;\n",
    "        END;\n",
    "\n",
    "        CLOSE solicitud_cursor;\n",
    "        DEALLOCATE solicitud_cursor;\n",
    "    END;\n",
    "END;\n",
    "GO\n",
    "ALTER TABLE [dbo].[Solicitudes] ENABLE TRIGGER [TRG_NotificarCambioEstado]\n",
    "GO\n"
   ]
  },
  {
   "cell_type": "markdown",
   "metadata": {
    "object_type": "Trigger",
    "urn": "Server[@Name='Windows10-Pepe']/Database[@Name='CEFEGEN']/Table[@Name='ValidacionesResultado' and @Schema='dbo']/Trigger[@Name='TRG_AuditarValidaciones']"
   },
   "source": [
    "# [TRG_AuditarValidaciones]"
   ]
  },
  {
   "cell_type": "code",
   "execution_count": 0,
   "metadata": {
    "object_type": "Trigger",
    "urn": "Server[@Name='Windows10-Pepe']/Database[@Name='CEFEGEN']/Table[@Name='ValidacionesResultado' and @Schema='dbo']/Trigger[@Name='TRG_AuditarValidaciones']"
   },
   "outputs": [],
   "source": [
    "/****** Object:  Trigger [dbo].[TRG_AuditarValidaciones]    Script Date: 20/06/2025 18:08:56 ******/\n",
    "SET ANSI_NULLS ON\n",
    "GO\n",
    "SET QUOTED_IDENTIFIER ON\n",
    "GO\n",
    "CREATE TRIGGER [dbo].[TRG_AuditarValidaciones]\n",
    "ON [dbo].[ValidacionesResultado]\n",
    "AFTER INSERT\n",
    "AS\n",
    "BEGIN\n",
    "    SET NOCOUNT ON;\n",
    "    INSERT INTO [dbo].[AuditoriaAcciones] (\n",
    "        IdUsuario, FechaAccion, Tabla, Accion, Detalles\n",
    "    )\n",
    "    SELECT \n",
    "        IdUsuarioValidador, \n",
    "        GETDATE(), \n",
    "        'ValidacionesResultado', \n",
    "        'INSERT',\n",
    "        'Validación registrada con IdValidacion: ' + CAST(i.IdValidacion AS NVARCHAR(10)) + ' para ' + i.TipoResultado\n",
    "    FROM inserted i;\n",
    "END;\n",
    "GO\n",
    "ALTER TABLE [dbo].[ValidacionesResultado] ENABLE TRIGGER [TRG_AuditarValidaciones]\n",
    "GO\n"
   ]
  },
  {
   "cell_type": "markdown",
   "metadata": {
    "object_type": "Database",
    "urn": "Server[@Name='Windows10-Pepe']/Database[@Name='CEFEGEN']"
   },
   "source": [
    "# [CEFEGEN]"
   ]
  },
  {
   "cell_type": "code",
   "execution_count": 0,
   "metadata": {
    "object_type": "Database",
    "urn": "Server[@Name='Windows10-Pepe']/Database[@Name='CEFEGEN']"
   },
   "outputs": [],
   "source": [
    "USE [master]\n",
    "GO\n"
   ]
  },
  {
   "cell_type": "code",
   "execution_count": 0,
   "metadata": {
    "object_type": "Database",
    "urn": "Server[@Name='Windows10-Pepe']/Database[@Name='CEFEGEN']"
   },
   "outputs": [],
   "source": [
    "ALTER DATABASE [CEFEGEN] SET  READ_WRITE \n",
    "GO\n"
   ]
  }
 ],
 "metadata": {
  "kernel_spec": {
   "display_name": "SQL",
   "language": "sql",
   "name": "SQL"
  },
  "language_info": {
   "name": "sql",
   "version": ""
  }
 },
 "nbformat": 4,
 "nbformat_minor": 2
}
